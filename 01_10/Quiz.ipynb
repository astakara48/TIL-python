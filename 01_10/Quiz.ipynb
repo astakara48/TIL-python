{
 "cells": [
  {
   "cell_type": "code",
   "execution_count": 1,
   "metadata": {},
   "outputs": [],
   "source": [
    "import numpy as np\n",
    "import pandas as pd\n",
    "import sys\n",
    "from pandas import DataFrame\n",
    "import warnings\n",
    "import re\n",
    "warnings.filterwarnings(action=\"ignore\")"
   ]
  },
  {
   "cell_type": "code",
   "execution_count": null,
   "metadata": {},
   "outputs": [],
   "source": []
  },
  {
   "cell_type": "code",
   "execution_count": 14,
   "metadata": {},
   "outputs": [
    {
     "name": "stdout",
     "output_type": "stream",
     "text": [
      "1. 연락처 입력\n",
      "2. 연락처 출력\n",
      "3. 연락처 삭제\n",
      "4. 종료\n",
      "메뉴선택: 2\n",
      "Names :  정서영\n",
      "Phone Number :  010-8592-4280\n",
      "E-mail :  astakara48@gmail.com\n",
      "Address :  서울시\n",
      "1. 연락처 입력\n",
      "2. 연락처 출력\n",
      "3. 연락처 삭제\n",
      "4. 종료\n",
      "메뉴선택: 4\n",
      "종료합니다.\n"
     ]
    },
    {
     "ename": "SystemExit",
     "evalue": "",
     "output_type": "error",
     "traceback": [
      "An exception has occurred, use %tb to see the full traceback.\n",
      "\u001b[1;31mSystemExit\u001b[0m\n"
     ]
    }
   ],
   "source": [
    "class PhoneBook:\n",
    "    \n",
    "    def __init__(self, name, p_num, e_mail, addr):\n",
    "        self.name=name\n",
    "        self.p_num=p_num\n",
    "        self.e_mail=e_mail\n",
    "        self.addr=addr\n",
    "    \n",
    "    def info(self):\n",
    "        print(\"Name : \",self.name)\n",
    "        print(\"Phone Number : \",self.p_num)\n",
    "        print(\"E-mail : \",self.e_mail)\n",
    "        print(\"Address : \",self.addr)\n",
    "        \n",
    "    def make_line(self):\n",
    "        return self.name+\"|\"+self.p_num+\"|\"+self.e_mail+\"|\"+self.addr+\"\\n\"\n",
    "        \n",
    "def insert():\n",
    "    name=input(\"Name: \")\n",
    "    p_num=input(\"Phone Number: \")\n",
    "    e_mail=input(\"E-mail: \")\n",
    "    addr=input(\"Address: \")\n",
    "    pb=PhoneBook(name,p_num,e_mail,addr)\n",
    "    return pb.make_line()\n",
    "\n",
    "def print_list():\n",
    "    f=open(\"PhoneBook.txt\",\"r\")\n",
    "    while True:\n",
    "        line=f.readline()\n",
    "        if not line:\n",
    "            return main()\n",
    "        pat=re.compile(\"([a-zA-Z-가-힣]+)[|](\\d{3}-\\d{3,4}-\\d{3,4})[|]([\\w+\\d+.+-_]+[@][a-zA-Z]+[.][a-zA-Z]+)[|](\\w+)[\\n]\")\n",
    "        g=re.match(pat,str(line))\n",
    "        print(\"Names : \",g.group(1))\n",
    "        print(\"Phone Number : \",g.group(2))\n",
    "        print(\"E-mail : \", g.group(3))\n",
    "        print(\"Address : \", g.group(4))\n",
    "\n",
    "    f.close()\n",
    "    return main()\n",
    "\n",
    "def del_list():\n",
    "    num=input(\"찾고자 하는 번호를 입력해주세요 : \")\n",
    "    while True:\n",
    "        line=f.readline()\n",
    "        if not line:\n",
    "            return main()\n",
    "        pat=re.compile(\"([a-zA-Z-가-힣]+)[|](\\d{3}-\\d{3,4}-\\d{3,4})[|]([\\w+\\d+.+-_]+[@][a-zA-Z]+[.][a-zA-Z]+)[|](\\w+)[\\n]\")\n",
    "        g=re.match(pat,str(line))\n",
    "        if num not in g.group(2):\n",
    "            f.write(line)\n",
    "            \n",
    "            \n",
    "def save(n):\n",
    "    f=open(\"PhoneBook.txt\",\"a+\")\n",
    "    for i in n:\n",
    "        f.write(i)\n",
    "    f.close()\n",
    "\n",
    "def menu():\n",
    "    print(\"1. 연락처 입력\")\n",
    "    print(\"2. 연락처 출력\")\n",
    "    print(\"3. 연락처 삭제\")\n",
    "    print(\"4. 종료\")\n",
    "    n=int(input(\"메뉴선택: \"))\n",
    "    return n\n",
    "        \n",
    "def main():\n",
    "    _list=[]\n",
    "    while True:\n",
    "        n=menu()\n",
    "        if n==1:\n",
    "            pb=insert()\n",
    "            _list.append(pb)\n",
    "        elif n==2:\n",
    "            print_list()\n",
    "            \n",
    "        elif n==3:\n",
    "            del_list()\n",
    "            \n",
    "        elif n==4:\n",
    "            print(\"종료합니다.\")\n",
    "            save(_list)\n",
    "            sys.exit()\n",
    "            \n",
    "if __name__== \"__main__\":\n",
    "    main()"
   ]
  },
  {
   "cell_type": "code",
   "execution_count": null,
   "metadata": {},
   "outputs": [],
   "source": []
  },
  {
   "cell_type": "code",
   "execution_count": null,
   "metadata": {},
   "outputs": [],
   "source": []
  },
  {
   "cell_type": "code",
   "execution_count": null,
   "metadata": {},
   "outputs": [],
   "source": []
  },
  {
   "cell_type": "code",
   "execution_count": null,
   "metadata": {},
   "outputs": [],
   "source": []
  },
  {
   "cell_type": "code",
   "execution_count": null,
   "metadata": {},
   "outputs": [],
   "source": []
  },
  {
   "cell_type": "code",
   "execution_count": null,
   "metadata": {},
   "outputs": [],
   "source": []
  }
 ],
 "metadata": {
  "kernelspec": {
   "display_name": "Python 3",
   "language": "python",
   "name": "python3"
  },
  "language_info": {
   "codemirror_mode": {
    "name": "ipython",
    "version": 3
   },
   "file_extension": ".py",
   "mimetype": "text/x-python",
   "name": "python",
   "nbconvert_exporter": "python",
   "pygments_lexer": "ipython3",
   "version": "3.7.4"
  }
 },
 "nbformat": 4,
 "nbformat_minor": 2
}
