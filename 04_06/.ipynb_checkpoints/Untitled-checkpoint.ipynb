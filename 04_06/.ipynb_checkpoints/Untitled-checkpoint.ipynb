{
 "cells": [
  {
   "cell_type": "code",
   "execution_count": 2,
   "metadata": {},
   "outputs": [],
   "source": [
    "critics={\n",
    "    'BTS':{'암수살인':5, '바울':4, '할로윈':1.5},\n",
    "    '손흥민':{'바울':5, '할로윈':2},\n",
    "    '레드벨벳':{'암수살인':2.5, '바울':2, '할로윈':1},\n",
    "    '트와이스':{'암수살인':3.5, '바울':4, '할로윈':5}\n",
    "}"
   ]
  },
  {
   "cell_type": "code",
   "execution_count": 4,
   "metadata": {},
   "outputs": [],
   "source": [
    "import pandas as pd\n",
    "import numpy as np"
   ]
  },
  {
   "cell_type": "code",
   "execution_count": 12,
   "metadata": {},
   "outputs": [
    {
     "name": "stdout",
     "output_type": "stream",
     "text": [
      "None\n"
     ]
    },
    {
     "data": {
      "text/plain": [
       "4"
      ]
     },
     "execution_count": 12,
     "metadata": {},
     "output_type": "execute_result"
    }
   ],
   "source": [
    "critics['BTS'] # critics.get('BTS') 같은 결과\n",
    "#critics['super'] # key error \n",
    "print(critics.get('super')) # None\n",
    "\n",
    "#if critics.get('super'): # key가 존재한다면\n",
    "#else: # None\n",
    "\n",
    "critics.get('BTS').get('바울')\n",
    "    "
   ]
  },
  {
   "cell_type": "code",
   "execution_count": 14,
   "metadata": {},
   "outputs": [],
   "source": [
    "from math import sqrt"
   ]
  },
  {
   "cell_type": "code",
   "execution_count": 18,
   "metadata": {},
   "outputs": [],
   "source": [
    "sqrt(pow(3,2)+pow(1,2)) # 거리\n",
    "\n",
    "def sim(i,j): # i:x좌표 거리, j:y좌표 거리\n",
    "    return sqrt(pow(i,2) + pow(j,2))"
   ]
  },
  {
   "cell_type": "code",
   "execution_count": 23,
   "metadata": {},
   "outputs": [
    {
     "name": "stdout",
     "output_type": "stream",
     "text": [
      "3.1622776601683795\n"
     ]
    }
   ],
   "source": [
    "v1=critics['손흥민']['바울']-critics['레드벨벳']['바울']\n",
    "v2=critics['손흥민']['할로윈']-critics['레드벨벳']['할로윈']\n",
    "print(sim(v1,v2))"
   ]
  },
  {
   "cell_type": "code",
   "execution_count": 31,
   "metadata": {},
   "outputs": [
    {
     "name": "stdout",
     "output_type": "stream",
     "text": [
      "BTS 와의 거리 : 1.118033988749895\n",
      "레드벨벳 와의 거리 : 3.1622776601683795\n",
      "트와이스 와의 거리 : 3.1622776601683795\n"
     ]
    }
   ],
   "source": [
    "for i in critics:\n",
    "    if i!='손흥민':\n",
    "        d1= critics.get('손흥민').get('바울')-critics.get(i).get('바울')\n",
    "        d2= critics.get('손흥민').get('할로윈')-critics.get(i).get('할로윈')\n",
    "        print(i, \"와의 거리 :\",sim(d1,d2))"
   ]
  },
  {
   "cell_type": "code",
   "execution_count": 35,
   "metadata": {},
   "outputs": [
    {
     "name": "stdout",
     "output_type": "stream",
     "text": [
      "BTS 와의 유사도(0~1): 0.8944271909999159\n",
      "레드벨벳 와의 유사도(0~1): 0.31622776601683794\n",
      "트와이스 와의 유사도(0~1): 0.31622776601683794\n"
     ]
    }
   ],
   "source": [
    "for i in critics:\n",
    "    if i!='손흥민':\n",
    "        d1= critics.get('손흥민').get('바울')-critics.get(i).get('바울')\n",
    "        d2= critics.get('손흥민').get('할로윈')-critics.get(i).get('할로윈')\n",
    "        # print(i, \"와의 거리 :\",sim(d1,d2))\n",
    "        # 0 <= 유사도 <=1\n",
    "        print(i, \"와의 유사도(0~1):\",1/(sim(d1,d2)))"
   ]
  },
  {
   "cell_type": "code",
   "execution_count": null,
   "metadata": {},
   "outputs": [],
   "source": [
    "# 유클리디안 거리 : 다차원 공간에서 두 점 사이의 거리\n"
   ]
  },
  {
   "cell_type": "code",
   "execution_count": 79,
   "metadata": {},
   "outputs": [
    {
     "name": "stdout",
     "output_type": "stream",
     "text": [
      "0.4721359549995794\n"
     ]
    }
   ],
   "source": [
    "def sim_distance(data, name1, name2):\n",
    "    # 구현부분\n",
    "    # 유클리디안, 두 사용자가 모두 본 영화를 기준\n",
    "    sum=0\n",
    "    for i in data[name1]: # {'암수살인':2.5, '바울':2, '할로윈':1}\n",
    "        if i in data[name2]: # 동일한 영화를 봤다면\n",
    "            sum+=pow(data[name1][i]-data[name2][i],2)\n",
    "    \n",
    "    return 1/(1+sqrt(sum))\n",
    "    \n",
    "    data[name2] # {'암수살인':3.5, '바울':4, '할로윈':5}\n",
    "    \n",
    "print(sim_distance(critics, 'BTS', '손흥민'))"
   ]
  },
  {
   "cell_type": "code",
   "execution_count": 70,
   "metadata": {},
   "outputs": [
    {
     "data": {
      "text/plain": [
       "dict_items([('암수살인', 5), ('바울', 4), ('할로윈', 1.5)])"
      ]
     },
     "execution_count": 70,
     "metadata": {},
     "output_type": "execute_result"
    }
   ],
   "source": [
    "s=critics['BTS'].items()\n",
    "s"
   ]
  },
  {
   "cell_type": "code",
   "execution_count": 95,
   "metadata": {},
   "outputs": [
    {
     "name": "stdout",
     "output_type": "stream",
     "text": [
      "[(0.4721359549995794, '손흥민')]\n"
     ]
    }
   ],
   "source": [
    "# top_match(여화평점데이터, 기준관객, 등수)\n",
    "def top_match(data, name, rank=3, simf=sim_distance): # sim_distance라는 함수를 simf라는 이름으로 사용하겠다.\n",
    "    simList=[]\n",
    "    for i in data:\n",
    "        if name!=i : # BTS(자기 자신)을 제외\n",
    "            simList.append((simf(data, name, i), i))\n",
    "            \n",
    "    simList.sort() # 오름차순\n",
    "    simList.reverse()  #역순(내림차순)\n",
    "    \n",
    "    return simList[:rank]\n",
    "            \n",
    "print(top_match(critics, 'BTS',1))\n",
    "# critics에서 BTS와 공통으로 본 영화중에서 가장 유사하게 평점을 준 관객 2명을 출력"
   ]
  },
  {
   "cell_type": "code",
   "execution_count": 97,
   "metadata": {},
   "outputs": [],
   "source": [
    "import matplotlib.pyplot as plt"
   ]
  },
  {
   "cell_type": "code",
   "execution_count": 111,
   "metadata": {},
   "outputs": [],
   "source": [
    "from matplotlib import font_manager, rc\n",
    "font_name = font_manager.FontProperties(fname=\"c:/Windows/Fonts/malgun.ttf\").get_name()\n",
    "rc('font', family=font_name)"
   ]
  },
  {
   "cell_type": "code",
   "execution_count": 112,
   "metadata": {},
   "outputs": [],
   "source": [
    "def myBar(data, lab):\n",
    "    pos=range(len(data))\n",
    "    plt.barh(pos, data, height=0.5, color='b') #수평바\n",
    "    plt.yticks(pos,lab)\n",
    "    plt.xlabel('similarity')\n",
    "    plt.ylabel('name')\n",
    "    plt.show()"
   ]
  },
  {
   "cell_type": "code",
   "execution_count": 113,
   "metadata": {},
   "outputs": [
    {
     "data": {
      "image/png": "[encoded data removed]",
      "text/plain": [
       "<Figure size 432x288 with 1 Axes>"
      ]
     },
     "metadata": {
      "needs_background": "light"
     },
     "output_type": "display_data"
    }
   ],
   "source": [
    "li=top_match(critics, 'BTS', 3)\n",
    "scoreList=[]\n",
    "nameList=[]\n",
    "for i in li:\n",
    "    scoreList.append(i[0])\n",
    "    nameList.append(i[1])\n",
    "    \n",
    "myBar(scoreList, nameList)\n",
    "    "
   ]
  },
  {
   "cell_type": "code",
   "execution_count": 147,
   "metadata": {},
   "outputs": [],
   "source": [
    "critics = {\n",
    "    '레드벨벳': {\n",
    "        '택시운전사': 2.5,\n",
    "        '겨울왕국': 3.5,\n",
    "        '리빙라스베가스': 3.0,\n",
    "        '넘버3': 3.5,\n",
    "        '사랑과전쟁': 2.5,\n",
    "        '세계대전': 3.0,\n",
    "    },\n",
    "    'BTS': {\n",
    "        '택시운전사': 1.0,\n",
    "        '겨울왕국': 4.5,\n",
    "        '리빙라스베가스': 0.5,\n",
    "        '넘버3': 1.5,\n",
    "        '사랑과전쟁': 4.5,\n",
    "        '세계대전': 5.0,\n",
    "    },\n",
    "    '블랙핑크': {\n",
    "        '택시운전사': 3.0,\n",
    "        '겨울왕국': 3.5,\n",
    "        '리빙라스베가스': 1.5,\n",
    "        '넘버3': 5.0,\n",
    "        '세계대전': 3.0,\n",
    "        '사랑과전쟁': 3.5,\n",
    "    },\n",
    "    '소녀시대': {\n",
    "        '택시운전사': 2.5,\n",
    "        '겨울왕국': 3.0,\n",
    "        '넘버3': 3.5,\n",
    "        '세계대전': 4.0,\n",
    "    },\n",
    "    '마마무': {\n",
    "        '겨울왕국': 3.5,\n",
    "        '리빙라스베가스': 3.0,\n",
    "        '세계대전': 4.5,\n",
    "        '넘버3': 4.0,\n",
    "        '사랑과전쟁': 2.5,\n",
    "    },\n",
    "    '오마이걸': {\n",
    "        '택시운전사': 3.0,\n",
    "        '겨울왕국': 4.0,\n",
    "        '리빙라스베가스': 2.0,\n",
    "        '넘버3': 3.0,\n",
    "        '세계대전': 3.5,\n",
    "        '사랑과전쟁': 2.0,\n",
    "    },\n",
    "    '모모랜드': {\n",
    "        '택시운전사': 3.0,\n",
    "        '겨울왕국': 4.0,\n",
    "        '세계대전': 3.0,\n",
    "        '넘버3': 5.0,\n",
    "        '사랑과전쟁': 3.5,\n",
    "    },\n",
    "    '우주소녀': {'겨울왕국': 4.5, '사랑과전쟁': 1.0,\n",
    "             '넘버3': 4.0},\n",
    "}\n"
   ]
  },
  {
   "cell_type": "code",
   "execution_count": 148,
   "metadata": {},
   "outputs": [
    {
     "data": {
      "image/png": "[encoded data removed]",
      "text/plain": [
       "<Figure size 1008x576 with 1 Axes>"
      ]
     },
     "metadata": {
      "needs_background": "light"
     },
     "output_type": "display_data"
    }
   ],
   "source": [
    "def scoreGraph(data, n1, n2):\n",
    "    # 스캐어 플롯 출력\n",
    "    plt.figure(figsize=(14,8))\n",
    "    li1=[]\n",
    "    li2=[]\n",
    "    for i in data[n1]:\n",
    "        if i in data[n2]:\n",
    "            li1.append(data[n1][i])\n",
    "            li2.append(data[n2][i])\n",
    "            plt.text(data[n1][i],data[n2][i],i)\n",
    "    plt.plot(li1, li2, 'ro')\n",
    "    plt.xlabel(n1)\n",
    "    plt.ylabel(n2)\n",
    "    plt.axis([0,6,0,6])\n",
    "    plt.show()\n",
    "        \n",
    "scoreGraph(critics, 'BTS', '오마이걸')"
   ]
  },
  {
   "cell_type": "code",
   "execution_count": 151,
   "metadata": {},
   "outputs": [],
   "source": [
    "def sim_pearson(data, n1, n2):\n",
    "    # 구현\n",
    "    sumX=0\n",
    "    sumY=0\n",
    "    sumSqX=0 # x제곱의 합\n",
    "    sumSqY=0 # y제곱의 합\n",
    "    sumXY=0 # x*y의 합\n",
    "    cnt=0\n",
    "    for i in data[n1]:\n",
    "        if i in data[n2]:\n",
    "            sumX+=data[n1][i]\n",
    "            sumY+=data[n2][i]\n",
    "            sumSqX+=pow(data[n1][i],2)\n",
    "            sumSqY+=pow(data[n2][i],2)\n",
    "            sumXY+=data[n1][i]*data[n2][i]\n",
    "            cnt+=1\n",
    "            \n",
    "    return (sumXY-((sumX*sumY)/cnt))/sqrt((sumSqX-(pow(sumX,2)/cnt))*(sumSqY-(pow(sumY,2)/cnt)))\n"
   ]
  },
  {
   "cell_type": "code",
   "execution_count": 152,
   "metadata": {},
   "outputs": [
    {
     "data": {
      "text/plain": [
       "0.41791069697885247"
      ]
     },
     "execution_count": 152,
     "metadata": {},
     "output_type": "execute_result"
    }
   ],
   "source": [
    "sim_pearson(critics, 'BTS','오마이걸')"
   ]
  },
  {
   "cell_type": "code",
   "execution_count": null,
   "metadata": {},
   "outputs": [],
   "source": [
    "# 전체 관객들에 대한 상관계수"
   ]
  },
  {
   "cell_type": "code",
   "execution_count": 155,
   "metadata": {},
   "outputs": [
    {
     "name": "stdout",
     "output_type": "stream",
     "text": [
      "[(0.5692099788303083, '소녀시대'), (0.41791069697885247, '오마이걸'), (0.21693045781865616, '블랙핑크'), (0.15430334996209194, '마마무'), (0.05477225575051661, '레드벨벳')]\n"
     ]
    }
   ],
   "source": [
    "# top_match(여화평점데이터, 기준관객, 등수)\n",
    "def top_match(data, name, rank=3, simf=sim_pearson): # sim_pearson 함수를 simf라는 이름으로 사용하겠다.\n",
    "    simList=[]\n",
    "    for i in data:\n",
    "        if name!=i : # BTS(자기 자신)을 제외\n",
    "            simList.append((simf(data, name, i), i))\n",
    "            \n",
    "            \n",
    "    simList.sort() # 오름차순\n",
    "    simList.reverse()  #역순(내림차순)\n",
    "    \n",
    "    return simList[:rank]\n",
    "            \n",
    "print(top_match(critics, 'BTS',5))\n",
    "# critics에서 BTS와 공통으로 본 영화중에서 \n",
    "# 상관계수가 가장 높은 5명을 추출\n",
    "# 상관계수, 블랙핑크\n",
    "# 상관계수, 트와이스 ... 이런식으로 출력"
   ]
  },
  {
   "cell_type": "code",
   "execution_count": null,
   "metadata": {},
   "outputs": [],
   "source": [
    "# 유사도 값에 대한 기준치를 충족하는 사람에 한해서\n",
    "# 예상평점과 추천영화를 구하는데 데이터를 활용\n",
    "\"\"\"\n",
    "1) 평점 추측 : 유사도*상대방의 영화 평점\n",
    "ex) 소녀시대가 3점 부여, BTs와 소녀시대가 90% 유사도 \n",
    "=> 3*0.9 => 2.7점 줄것으로 예측\n",
    "=> 모든 관객에 대해 평점 추측 => 총합 \n",
    "2) 추측평점 총합 / 유사도 총합 => 모든 사람을 고려했을떄 예상되는 평점\n",
    "3) 예상되는 평점을 기준으로 아직 안본 영화를 추천\n",
    "\"\"\""
   ]
  },
  {
   "cell_type": "code",
   "execution_count": 162,
   "metadata": {},
   "outputs": [],
   "source": [
    "def recommendation(data, person, simf=sim_pearson):\n",
    "    res=top_match(data, person, len(data)) # 영화를 본 모든 관객의 수만큼 나옴\n",
    "    simSum=0 # 상관계수(유사도)의 합\n",
    "    score=0\n",
    "    score_dic={} # 예상 평점 총합을 저장하기 위한 dic\n",
    "    sim_dic={} # 유사도의  저장하기 위한 dic\n",
    "    myList=[]\n",
    "    \n",
    "    for sim, name in res:\n",
    "        if sim<0: continue\n",
    "        for movie in data[name]:\n",
    "            if movie not in data[person]: # name이 본 movie를 person이 안본 영화라면\n",
    "                simSum+=sim*data[name][movie]\n",
    "                score_dic.setdefault(movie,0)\n",
    "                score_dic[movie]+=simSum\n",
    "                \n",
    "                sim_dic.setdefault(movie,0)\n",
    "                sim_dic[movie]+=sim\n",
    "            simSum=0 # 영화 변경 -> 0으로 초기화\n",
    "        \n",
    "    for key in score_dic:\n",
    "        score_dic[key]=score_dic[key]/sim_dic[key] # 평점에 대한 총합을 유사도 총합으로 나눈 것\n",
    "        myList.append((score_dic[key], key))\n",
    "        \n",
    "    myList.sort()\n",
    "    myList.reverse()\n",
    "    \n",
    "    return myList\n",
    "    "
   ]
  },
  {
   "cell_type": "code",
   "execution_count": 163,
   "metadata": {},
   "outputs": [
    {
     "data": {
      "text/plain": [
       "[(3.0761574975571793, '사랑과전쟁'), (2.1938491995536373, '리빙라스베가스')]"
      ]
     },
     "execution_count": 163,
     "metadata": {},
     "output_type": "execute_result"
    }
   ],
   "source": [
    "recommendation(critics, '소녀시대')\n",
    "# 소녀시대가 안본 영화중에서 가장 높은 예상 평점을 갖는 영화 3편을 출력"
   ]
  },
  {
   "cell_type": "code",
   "execution_count": 166,
   "metadata": {},
   "outputs": [
    {
     "data": {
      "text/plain": [
       "{'a': 10, 'b': 20, 'c': None}"
      ]
     },
     "execution_count": 166,
     "metadata": {},
     "output_type": "execute_result"
    }
   ],
   "source": [
    "# setdefault 연습\n",
    "x={'a':10,'b':20}\n",
    "x.setdefault('c')\n",
    "x"
   ]
  },
  {
   "cell_type": "code",
   "execution_count": 169,
   "metadata": {},
   "outputs": [
    {
     "data": {
      "text/plain": [
       "{'a': 10, 'b': 20, 'c': None, 'd': 30}"
      ]
     },
     "execution_count": 169,
     "metadata": {},
     "output_type": "execute_result"
    }
   ],
   "source": [
    "x.setdefault('d',30)\n",
    "x"
   ]
  },
  {
   "cell_type": "code",
   "execution_count": 170,
   "metadata": {},
   "outputs": [
    {
     "data": {
      "text/plain": [
       "{'a': 50, 'b': 20, 'c': None, 'd': 30}"
      ]
     },
     "execution_count": 170,
     "metadata": {},
     "output_type": "execute_result"
    }
   ],
   "source": [
    "x.update(a=50)\n",
    "x"
   ]
  },
  {
   "cell_type": "code",
   "execution_count": 171,
   "metadata": {},
   "outputs": [
    {
     "data": {
      "text/plain": [
       "{'a': 50, 'b': 20, 'c': None, 'd': 30}"
      ]
     },
     "execution_count": 171,
     "metadata": {},
     "output_type": "execute_result"
    }
   ],
   "source": [
    "x.setdefault('a',100)\n",
    "x"
   ]
  },
  {
   "cell_type": "code",
   "execution_count": 172,
   "metadata": {},
   "outputs": [
    {
     "data": {
      "text/plain": [
       "{'a': 55, 'b': 20, 'c': None, 'd': 30}"
      ]
     },
     "execution_count": 172,
     "metadata": {},
     "output_type": "execute_result"
    }
   ],
   "source": [
    "x['a']+=5\n",
    "x"
   ]
  },
  {
   "cell_type": "code",
   "execution_count": null,
   "metadata": {},
   "outputs": [],
   "source": []
  },
  {
   "cell_type": "code",
   "execution_count": null,
   "metadata": {},
   "outputs": [],
   "source": [
    "\"\"\"\n",
    "1. 나와 가장 상관계수가 높게 나온 사람? 5명 출력\n",
    "2. 내가 안본 영화 중에서 추천 점수가 가장 높은 순으로 영화제목과 예상평점을 출력\n",
    "\"\"\""
   ]
  },
  {
   "cell_type": "code",
   "execution_count": 326,
   "metadata": {},
   "outputs": [],
   "source": [
    "# 데이터프레임을 강의시간떄 했던 형태의 dict 파일로 변환\n",
    "df=pd.read_excel(\"영화평점.xlsx\",header=1)\n",
    "\n",
    "# 영화 조회할때 사용하기 위해 영화 저장\n",
    "col=df.columns # Unnamed: 0\n",
    "col=col[1:]\n",
    "\n",
    "df=df.rename({'Unnamed: 0':'이름'},axis='columns') \n",
    "df=df.set_index('이름')\n",
    "data=df.T\n",
    "data=data.to_dict()"
   ]
  },
  {
   "cell_type": "code",
   "execution_count": 327,
   "metadata": {},
   "outputs": [],
   "source": [
    "# data에서 평점이 nan인 영화는 제거\n",
    "import math\n",
    "for i in data:\n",
    "    for j in col:\n",
    "        if math.isnan(data[i][j])!=True: continue\n",
    "        else: del data[i][j]"
   ]
  },
  {
   "cell_type": "code",
   "execution_count": 328,
   "metadata": {},
   "outputs": [
    {
     "data": {
      "text/plain": [
       "{'고재형': {'아바타': 4.5, '택시운전사': 3.5, '부산행': 4.0, '겨울왕국': 4.0, '기생충': 4.0},\n",
       " '김건우': {'명량': 4.0, '국제시장': 4.5, '변호인': 3.5, '겨울왕국': 2.5},\n",
       " '박경호': {'명량': 4.0,\n",
       "  '국제시장': 5.0,\n",
       "  '아바타': 4.5,\n",
       "  '부산행': 2.0,\n",
       "  '변호인': 3.5,\n",
       "  '겨울왕국': 0.0,\n",
       "  '기생충': 5.0},\n",
       " '박찬': {'명량': 4.0,\n",
       "  '국제시장': 5.0,\n",
       "  '아바타': 3.0,\n",
       "  '부산행': 4.5,\n",
       "  '변호인': 3.5,\n",
       "  '겨울왕국': 3.0,\n",
       "  '기생충': 5.0},\n",
       " '김경아': {'명량': 4.0,\n",
       "  '국제시장': 4.0,\n",
       "  '택시운전사': 4.0,\n",
       "  '부산행': 4.0,\n",
       "  '변호인': 3.0,\n",
       "  '겨울왕국': 4.0,\n",
       "  '기생충': 5.0},\n",
       " '정서영': {'명량': 3.0,\n",
       "  '국제시장': 2.0,\n",
       "  '아바타': 5.0,\n",
       "  '택시운전사': 3.0,\n",
       "  '부산행': 1.0,\n",
       "  '겨울왕국': 3.0,\n",
       "  '기생충': 5.0},\n",
       " '정한음': {'명량': 4.0,\n",
       "  '국제시장': 5.0,\n",
       "  '아바타': 5.0,\n",
       "  '택시운전사': 4.0,\n",
       "  '부산행': 5.0,\n",
       "  '겨울왕국': 5.0},\n",
       " '오종민': {'명량': 3.0,\n",
       "  '국제시장': 4.5,\n",
       "  '아바타': 4.5,\n",
       "  '택시운전사': 1.5,\n",
       "  '변호인': 3.5,\n",
       "  '겨울왕국': 4.0},\n",
       " '차유화': {'국제시장': 3.5,\n",
       "  '아바타': 4.0,\n",
       "  '택시운전사': 3.5,\n",
       "  '부산행': 2.0,\n",
       "  '변호인': 3.5,\n",
       "  '겨울왕국': 4.0,\n",
       "  '기생충': 3.0},\n",
       " '이성천': {'아바타': 5.0, '겨울왕국': 3.0},\n",
       " '이은성': {'명량': 2.0, '아바타': 4.5, '변호인': 3.5, '겨울왕국': 4.0, '기생충': 5.0},\n",
       " '김나연': {'명량': 3.0,\n",
       "  '국제시장': 3.5,\n",
       "  '택시운전사': 4.0,\n",
       "  '부산행': 3.0,\n",
       "  '변호인': 4.0,\n",
       "  '겨울왕국': 4.0,\n",
       "  '기생충': 3.0},\n",
       " '조준형': {'명량': 4.0,\n",
       "  '국제시장': 3.0,\n",
       "  '아바타': 3.5,\n",
       "  '택시운전사': 4.0,\n",
       "  '변호인': 4.5,\n",
       "  '기생충': 5.0},\n",
       " '김태현': {'국제시장': 4.0,\n",
       "  '아바타': 3.0,\n",
       "  '부산행': 3.0,\n",
       "  '변호인': 4.0,\n",
       "  '겨울왕국': 3.0,\n",
       "  '기생충': 4.0},\n",
       " '한미래': {'명량': 3.0,\n",
       "  '아바타': 4.0,\n",
       "  '택시운전사': 5.0,\n",
       "  '부산행': 4.0,\n",
       "  '변호인': 4.0,\n",
       "  '겨울왕국': 3.0,\n",
       "  '기생충': 5.0},\n",
       " '조현진': {'아바타': 4.0, '겨울왕국': 4.0},\n",
       " '유기욱': {'명량': 3.5,\n",
       "  '국제시장': 4.0,\n",
       "  '아바타': 4.5,\n",
       "  '택시운전사': 4.5,\n",
       "  '부산행': 4.5,\n",
       "  '변호인': 4.0,\n",
       "  '겨울왕국': 4.0,\n",
       "  '기생충': 4.5},\n",
       " '김경한': {'명량': 2.0,\n",
       "  '국제시장': 4.0,\n",
       "  '아바타': 5.0,\n",
       "  '택시운전사': 3.0,\n",
       "  '부산행': 5.0,\n",
       "  '겨울왕국': 5.0,\n",
       "  '기생충': 5.0},\n",
       " '신아영': {'부산행': 2.5, '겨울왕국': 3.0},\n",
       " '엄다연': {'명량': 3.0, '국제시장': 5.0, '부산행': 4.0, '변호인': 3.5, '기생충': 4.0}}"
      ]
     },
     "execution_count": 328,
     "metadata": {},
     "output_type": "execute_result"
    }
   ],
   "source": [
    "data"
   ]
  },
  {
   "cell_type": "code",
   "execution_count": 329,
   "metadata": {},
   "outputs": [],
   "source": [
    "def sim_pearson(data, n1, n2):\n",
    "    # 구현\n",
    "    sumX=0\n",
    "    sumY=0\n",
    "    sumSqX=0 # x제곱의 합\n",
    "    sumSqY=0 # y제곱의 합\n",
    "    sumXY=0 # x*y의 합\n",
    "    cnt=0\n",
    "    for i in data[n1]:\n",
    "        #print(i)\n",
    "         if i in data[n2]:\n",
    "            #print(i)\n",
    "            sumX+=data[n1][i]\n",
    "            sumY+=data[n2][i]\n",
    "            sumSqX+=pow(data[n1][i],2)\n",
    "            sumSqY+=pow(data[n2][i],2)\n",
    "            sumXY+=data[n1][i]*data[n2][i]\n",
    "            cnt+=1\n",
    "            \n",
    "    #corr=(sumXY-((sumX*sumY)/cnt))/sqrt((sumSqX-(pow(sumX,2)/cnt))*(sumSqY-(pow(sumY,2)/cnt)))\n",
    "    numerator=sumXY-((sumX*sumY)/cnt)\n",
    "    denominator=(sumSqX-(pow(sumX,2)/cnt))*(sumSqY-(pow(sumY,2)/cnt))\n",
    "    if denominator==0: corr=0\n",
    "    else: corr=numerator/sqrt(denominator)\n",
    "    \n",
    "    return corr"
   ]
  },
  {
   "cell_type": "code",
   "execution_count": 330,
   "metadata": {},
   "outputs": [
    {
     "name": "stdout",
     "output_type": "stream",
     "text": [
      "[(1.0, '이성천'), (1.0, '신아영'), (0.7985836518841404, '김경아'), (0.7683498199278324, '이은성'), (0.5778967437740458, '조준형')]\n"
     ]
    }
   ],
   "source": [
    "def top_match(data, name, rank=3, simf=sim_pearson):\n",
    "    simList=[]\n",
    "    for i in data:\n",
    "        if name!=i :\n",
    "            simList.append((simf(data, name, i), i))\n",
    "            \n",
    "            \n",
    "    simList.sort()\n",
    "    simList.reverse()\n",
    "    \n",
    "    return simList[:rank]\n",
    "            \n",
    "print(top_match(data, '정서영',5))"
   ]
  },
  {
   "cell_type": "code",
   "execution_count": 331,
   "metadata": {},
   "outputs": [],
   "source": [
    "def recommendation(data, person, simf=sim_pearson):\n",
    "    res=top_match(data, person, len(data))\n",
    "    simSum=0\n",
    "    score=0\n",
    "    score_dic={} \n",
    "    sim_dic={}\n",
    "    myList=[]\n",
    "    \n",
    "    for sim, name in res:\n",
    "        if sim<0: continue\n",
    "        for movie in data[name]:\n",
    "            if movie not in data[person]:\n",
    "                simSum+=sim*data[name][movie]\n",
    "                score_dic.setdefault(movie,0)\n",
    "                score_dic[movie]+=simSum\n",
    "                \n",
    "                sim_dic.setdefault(movie,0)\n",
    "                sim_dic[movie]+=sim\n",
    "            simSum=0\n",
    "        \n",
    "    for key in score_dic:\n",
    "        score_dic[key]=score_dic[key]/sim_dic[key]\n",
    "        myList.append((score_dic[key], key))\n",
    "        \n",
    "    myList.sort()\n",
    "    myList.reverse()\n",
    "    \n",
    "    return myList\n",
    "\n",
    "recommendation(data,'정서영')"
   ]
  },
  {
   "cell_type": "code",
   "execution_count": 332,
   "metadata": {},
   "outputs": [
    {
     "data": {
      "text/plain": [
       "[(3.6314680847537715, '변호인')]"
      ]
     },
     "execution_count": 332,
     "metadata": {},
     "output_type": "execute_result"
    }
   ],
   "source": []
  },
  {
   "cell_type": "code",
   "execution_count": null,
   "metadata": {},
   "outputs": [],
   "source": []
  },
  {
   "cell_type": "code",
   "execution_count": null,
   "metadata": {},
   "outputs": [],
   "source": []
  },
  {
   "cell_type": "code",
   "execution_count": null,
   "metadata": {},
   "outputs": [],
   "source": []
  }
 ],
 "metadata": {
  "kernelspec": {
   "display_name": "Python 3",
   "language": "python",
   "name": "python3"
  },
  "language_info": {
   "codemirror_mode": {
    "name": "ipython",
    "version": 3
   },
   "file_extension": ".py",
   "mimetype": "text/x-python",
   "name": "python",
   "nbconvert_exporter": "python",
   "pygments_lexer": "ipython3",
   "version": "3.7.4"
  }
 },
 "nbformat": 4,
 "nbformat_minor": 2
}
