{
 "cells": [
  {
   "cell_type": "code",
   "execution_count": 21,
   "metadata": {},
   "outputs": [],
   "source": [
    "import pandas as pd\n",
    "import numpy as np\n",
    "from pandas import DataFrame\n",
    "import warnings\n",
    "warnings.filterwarnings(action=\"ignore\")\n",
    "from sklearn.preprocessing import StandardScaler, RobustScaler, MinMaxScaler\n",
    "import matplotlib.pyplot as plt\n",
    "from sklearn.preprocessing import minmax_scale\n",
    "from sklearn.preprocessing import Binarizer\n",
    "from sklearn.preprocessing import OneHotEncoder\n",
    "from datetime import timedelta\n"
   ]
  },
  {
   "cell_type": "markdown",
   "metadata": {},
   "source": [
    "# 데이터 모델링, SQL 응용"
   ]
  },
  {
   "cell_type": "code",
   "execution_count": null,
   "metadata": {},
   "outputs": [],
   "source": [
    "# 1-1\n",
    "taitanic=pd.read_csv(\"train.csv\")\n",
    "taitanic\n",
    "taitanic.Pclass.max()\n",
    "taitanic.Pclass.min()\n",
    "taitanic\n",
    "bins=np.linspace(taitanic.Pclass.min(), taitanic.Pclass.max(), 3)\n",
    "bins\n",
    "pd.get_dummies(taitanic[\"Pclass\"], prefix=\"Pclass\")\n",
    "taitanic.info()"
   ]
  },
  {
   "cell_type": "code",
   "execution_count": null,
   "metadata": {},
   "outputs": [],
   "source": [
    "# 1-2\n",
    "ages=taitanic.Age\n",
    "ages=np.array(ages)\n",
    "bins = [5, 20, 30, 40, 60, 90]\n",
    "labels = [\"미성년자\", \"청년\", \"중년\", \"장년\", \"노년\"]\n",
    "cats=pd.cut(ages, bins, labels=labels)\n",
    "cats.categories\n",
    "cats.codes\n",
    "test_age=pd.DataFrame(ages, columns=[\"Age\"])\n",
    "test_age[\"age_cat\"]=pd.cut(ages,bins,labels=labels)\n",
    "test_age"
   ]
  },
  {
   "cell_type": "code",
   "execution_count": null,
   "metadata": {},
   "outputs": [],
   "source": [
    "# 1-3\n",
    "Embarked_ohe = pd.get_dummies(taitanic.Embarked,prefix='Embarked')\n",
    "pd.concat([taitanic,Embarked_ohe],axis = 1)"
   ]
  },
  {
   "cell_type": "markdown",
   "metadata": {},
   "source": [
    "# 2. 타이타닉호 승객 사망자와 생존자 그룹 비율 합 1이 되게 하기"
   ]
  },
  {
   "cell_type": "code",
   "execution_count": null,
   "metadata": {},
   "outputs": [],
   "source": [
    "# 2번\n",
    "taitanic=pd.read_csv(\"train.csv\")\n",
    "bins = [5, 20, 30, 40, 60, 90]\n",
    "labels = [\"미성년자\", \"청년\", \"중년\", \"장년\", \"노년\"]\n",
    "taitanic\n",
    "survive=np.where(taitanic.Survived==1,taitanic.Age,np.nan)\n",
    "death=np.where(taitanic.Survived==0,taitanic.Age,np.nan)\n",
    "survive_list=pd.cut(survive, bins, labels)\n",
    "death_list=pd.cut(death, bins, labels)\n",
    "\n",
    "survive_list.categories\n",
    "survive_list.codes\n",
    "survive_ratio=pd.value_counts(survive_list)/pd.value_counts(survive_list).sum()\n",
    "\n",
    "death_list.categories\n",
    "death_list.codes\n",
    "death_ratio=pd.value_counts(death_list)/pd.value_counts(death_list).sum()\n",
    "\n",
    "print(\"생존자 비율\")\n",
    "print(survive_ratio)\n",
    "print(\"=\"*50)\n",
    "print(\"사망자 비율\")\n",
    "print(death_ratio)\n",
    "print(\"=\"*50)\n",
    "print(\"생존자 비율 총합 : \", survive_ratio.sum())\n",
    "print(\"사망자 비율 총합 : \", death_ratio.sum())"
   ]
  },
  {
   "cell_type": "markdown",
   "metadata": {},
   "source": [
    "# 기초 알고리즘"
   ]
  },
  {
   "cell_type": "code",
   "execution_count": 23,
   "metadata": {},
   "outputs": [
    {
     "data": {
      "text/plain": [
       "10"
      ]
     },
     "execution_count": 23,
     "metadata": {},
     "output_type": "execute_result"
    }
   ],
   "source": [
    "# 1번\n",
    "vec=np.array([1,1,1,1,1,1,1,1,1,1])\n",
    "len(vec)"
   ]
  },
  {
   "cell_type": "code",
   "execution_count": 24,
   "metadata": {},
   "outputs": [
    {
     "data": {
      "text/plain": [
       "array([0, 0, 0, 0, 1, 0, 0, 0, 0, 0])"
      ]
     },
     "execution_count": 24,
     "metadata": {},
     "output_type": "execute_result"
    }
   ],
   "source": [
    "# 2번\n",
    "vec[:]=0\n",
    "vec[4]=1\n",
    "vec"
   ]
  },
  {
   "cell_type": "code",
   "execution_count": 25,
   "metadata": {},
   "outputs": [
    {
     "data": {
      "text/plain": [
       "array([10, 11, 12, 13, 14, 15, 16, 17, 18, 19, 20])"
      ]
     },
     "execution_count": 25,
     "metadata": {},
     "output_type": "execute_result"
    }
   ],
   "source": [
    "# 3번\n",
    "vec=np.arange(10,21)\n",
    "vec"
   ]
  },
  {
   "cell_type": "code",
   "execution_count": 26,
   "metadata": {},
   "outputs": [
    {
     "data": {
      "text/plain": [
       "array([20, 19, 18, 17, 16, 15, 14, 13, 12, 11, 10])"
      ]
     },
     "execution_count": 26,
     "metadata": {},
     "output_type": "execute_result"
    }
   ],
   "source": [
    "# 4번\n",
    "vec=np.sort(vec)[::-1]\n",
    "vec"
   ]
  },
  {
   "cell_type": "code",
   "execution_count": 27,
   "metadata": {},
   "outputs": [
    {
     "data": {
      "text/plain": [
       "array([[0, 1, 2, 3],\n",
       "       [4, 5, 6, 7]])"
      ]
     },
     "execution_count": 27,
     "metadata": {},
     "output_type": "execute_result"
    }
   ],
   "source": [
    "# 5번\n",
    "vec=np.arange(0,8).reshape(2,4)\n",
    "vec"
   ]
  },
  {
   "cell_type": "code",
   "execution_count": 28,
   "metadata": {},
   "outputs": [
    {
     "data": {
      "text/plain": [
       "array([2, 4])"
      ]
     },
     "execution_count": 28,
     "metadata": {},
     "output_type": "execute_result"
    }
   ],
   "source": [
    "# 6번\n",
    "vec=np.array([1,2,0,0,4,0])\n",
    "vec[(vec%2==0) & (vec!=0)]"
   ]
  },
  {
   "cell_type": "code",
   "execution_count": 29,
   "metadata": {},
   "outputs": [
    {
     "data": {
      "text/plain": [
       "array([[1., 0.],\n",
       "       [0., 1.]])"
      ]
     },
     "execution_count": 29,
     "metadata": {},
     "output_type": "execute_result"
    }
   ],
   "source": [
    "# 7번\n",
    "id=np.eye(2)\n",
    "id"
   ]
  },
  {
   "cell_type": "code",
   "execution_count": 31,
   "metadata": {},
   "outputs": [
    {
     "data": {
      "text/plain": [
       "array([[0.71234847, 0.94468922, 0.38153266],\n",
       "       [0.849854  , 0.06351204, 0.46582261],\n",
       "       [0.87179921, 0.94911552, 0.1399739 ]])"
      ]
     },
     "execution_count": 31,
     "metadata": {},
     "output_type": "execute_result"
    }
   ],
   "source": [
    "# 8번\n",
    "matrix=np.random.rand(9).reshape(3,3)\n",
    "matrix"
   ]
  },
  {
   "cell_type": "code",
   "execution_count": 32,
   "metadata": {},
   "outputs": [
    {
     "name": "stdout",
     "output_type": "stream",
     "text": [
      "0.9491155204440163\n",
      "0.06351204069115735\n"
     ]
    }
   ],
   "source": [
    "# 9번\n",
    "print(matrix.max())\n",
    "print(matrix.min())"
   ]
  },
  {
   "cell_type": "code",
   "execution_count": 35,
   "metadata": {},
   "outputs": [
    {
     "name": "stdout",
     "output_type": "stream",
     "text": [
      "행 평균: [0.67952345 0.45972955 0.65362954]\n",
      "열 평균: [0.81133389 0.65243893 0.32910973]\n"
     ]
    }
   ],
   "source": [
    "# 10번\n",
    "print(\"행 평균:\",matrix.mean(axis=1))\n",
    "print(\"열 평균:\",matrix.mean(axis=0))\n"
   ]
  },
  {
   "cell_type": "markdown",
   "metadata": {},
   "source": [
    "# Microsoft R 서버를 활용한 빅데이터 분석"
   ]
  },
  {
   "cell_type": "code",
   "execution_count": 36,
   "metadata": {},
   "outputs": [
    {
     "name": "stdout",
     "output_type": "stream",
     "text": [
      "<class 'pandas.core.frame.DataFrame'>\n",
      "RangeIndex: 244 entries, 0 to 243\n",
      "Data columns (total 7 columns):\n",
      "total_bill    244 non-null float64\n",
      "tip           244 non-null float64\n",
      "sex           244 non-null object\n",
      "smoker        244 non-null category\n",
      "day           244 non-null category\n",
      "time          244 non-null category\n",
      "size          244 non-null int64\n",
      "dtypes: category(3), float64(2), int64(1), object(1)\n",
      "memory usage: 8.8+ KB\n"
     ]
    }
   ],
   "source": [
    "# 1)\n",
    "import pandas as pd\n",
    "import seaborn as sns\n",
    "tips = sns.load_dataset(\"tips\") \n",
    "tips=tips.astype({'sex': 'object'})\n",
    "tips.info()"
   ]
  },
  {
   "cell_type": "code",
   "execution_count": 37,
   "metadata": {},
   "outputs": [
    {
     "data": {
      "text/html": [
       "<div>\n",
       "<style scoped>\n",
       "    .dataframe tbody tr th:only-of-type {\n",
       "        vertical-align: middle;\n",
       "    }\n",
       "\n",
       "    .dataframe tbody tr th {\n",
       "        vertical-align: top;\n",
       "    }\n",
       "\n",
       "    .dataframe thead th {\n",
       "        text-align: right;\n",
       "    }\n",
       "</style>\n",
       "<table border=\"1\" class=\"dataframe\">\n",
       "  <thead>\n",
       "    <tr style=\"text-align: right;\">\n",
       "      <th></th>\n",
       "      <th>total_bill</th>\n",
       "      <th>tip</th>\n",
       "      <th>sex</th>\n",
       "      <th>smoker</th>\n",
       "      <th>day</th>\n",
       "      <th>time</th>\n",
       "      <th>size</th>\n",
       "    </tr>\n",
       "  </thead>\n",
       "  <tbody>\n",
       "    <tr>\n",
       "      <td>0</td>\n",
       "      <td>16.99</td>\n",
       "      <td>1.01</td>\n",
       "      <td>Female</td>\n",
       "      <td>No</td>\n",
       "      <td>Sun</td>\n",
       "      <td>Dinner</td>\n",
       "      <td>2</td>\n",
       "    </tr>\n",
       "    <tr>\n",
       "      <td>1</td>\n",
       "      <td>10.34</td>\n",
       "      <td>missing</td>\n",
       "      <td>Male</td>\n",
       "      <td>No</td>\n",
       "      <td>Sun</td>\n",
       "      <td>Dinner</td>\n",
       "      <td>3</td>\n",
       "    </tr>\n",
       "    <tr>\n",
       "      <td>2</td>\n",
       "      <td>21.01</td>\n",
       "      <td>3.5</td>\n",
       "      <td>Male</td>\n",
       "      <td>No</td>\n",
       "      <td>Sun</td>\n",
       "      <td>Dinner</td>\n",
       "      <td>3</td>\n",
       "    </tr>\n",
       "    <tr>\n",
       "      <td>3</td>\n",
       "      <td>23.68</td>\n",
       "      <td>missing</td>\n",
       "      <td>Male</td>\n",
       "      <td>No</td>\n",
       "      <td>Sun</td>\n",
       "      <td>Dinner</td>\n",
       "      <td>2</td>\n",
       "    </tr>\n",
       "    <tr>\n",
       "      <td>4</td>\n",
       "      <td>24.59</td>\n",
       "      <td>3.61</td>\n",
       "      <td>Female</td>\n",
       "      <td>No</td>\n",
       "      <td>Sun</td>\n",
       "      <td>Dinner</td>\n",
       "      <td>4</td>\n",
       "    </tr>\n",
       "    <tr>\n",
       "      <td>5</td>\n",
       "      <td>25.29</td>\n",
       "      <td>missing</td>\n",
       "      <td>Male</td>\n",
       "      <td>No</td>\n",
       "      <td>Sun</td>\n",
       "      <td>Dinner</td>\n",
       "      <td>4</td>\n",
       "    </tr>\n",
       "    <tr>\n",
       "      <td>6</td>\n",
       "      <td>8.77</td>\n",
       "      <td>2</td>\n",
       "      <td>Male</td>\n",
       "      <td>No</td>\n",
       "      <td>Sun</td>\n",
       "      <td>Dinner</td>\n",
       "      <td>2</td>\n",
       "    </tr>\n",
       "    <tr>\n",
       "      <td>7</td>\n",
       "      <td>26.88</td>\n",
       "      <td>missing</td>\n",
       "      <td>Male</td>\n",
       "      <td>No</td>\n",
       "      <td>Sun</td>\n",
       "      <td>Dinner</td>\n",
       "      <td>4</td>\n",
       "    </tr>\n",
       "    <tr>\n",
       "      <td>8</td>\n",
       "      <td>15.04</td>\n",
       "      <td>1.96</td>\n",
       "      <td>Male</td>\n",
       "      <td>No</td>\n",
       "      <td>Sun</td>\n",
       "      <td>Dinner</td>\n",
       "      <td>2</td>\n",
       "    </tr>\n",
       "    <tr>\n",
       "      <td>9</td>\n",
       "      <td>14.78</td>\n",
       "      <td>3.23</td>\n",
       "      <td>Male</td>\n",
       "      <td>No</td>\n",
       "      <td>Sun</td>\n",
       "      <td>Dinner</td>\n",
       "      <td>2</td>\n",
       "    </tr>\n",
       "  </tbody>\n",
       "</table>\n",
       "</div>"
      ],
      "text/plain": [
       "   total_bill      tip     sex smoker  day    time  size\n",
       "0       16.99     1.01  Female     No  Sun  Dinner     2\n",
       "1       10.34  missing    Male     No  Sun  Dinner     3\n",
       "2       21.01      3.5    Male     No  Sun  Dinner     3\n",
       "3       23.68  missing    Male     No  Sun  Dinner     2\n",
       "4       24.59     3.61  Female     No  Sun  Dinner     4\n",
       "5       25.29  missing    Male     No  Sun  Dinner     4\n",
       "6        8.77        2    Male     No  Sun  Dinner     2\n",
       "7       26.88  missing    Male     No  Sun  Dinner     4\n",
       "8       15.04     1.96    Male     No  Sun  Dinner     2\n",
       "9       14.78     3.23    Male     No  Sun  Dinner     2"
      ]
     },
     "execution_count": 37,
     "metadata": {},
     "output_type": "execute_result"
    }
   ],
   "source": [
    "# 2)\n",
    "tips.loc[[1,3,5,7],'tip']='missing'\n",
    "tips.head(10)"
   ]
  },
  {
   "cell_type": "code",
   "execution_count": null,
   "metadata": {},
   "outputs": [],
   "source": [
    "# 3) scikitlearn에 있는 preprocessing 모듈중 표준화 및 정규화와 관련된 함수\n",
    "StandardScaler(X): 평균이 0과 표준편차가 1이 되도록 변환.\n",
    "RobustScaler(X): 중앙값(median)이 0, IQR(interquartile range)이 1이 되도록 변환.\n",
    "MinMaxScaler(X): 최대값이 각각 1, 최소값이 0이 되도록 변환\n",
    "MaxAbsScaler(X): 0을 기준으로 절대값이 가장 큰 수가 1또는 -1이 되도록 변환"
   ]
  },
  {
   "cell_type": "code",
   "execution_count": null,
   "metadata": {},
   "outputs": [],
   "source": [
    "# 2. 표준화와 정규화 차이점 설명\n",
    "1. 표준화는 데이터가 평균으로부터 얼마나 떨어져 있는지 나타내는 값인 반면\n",
    "   정규화는 데이터의 상대적 크기에 대한 영향을 줄이기 위해 data의 범위를 0~1로 줄인다.\n",
    "2. 데이터 표준화를 통해서 outlier를 제거하고, 데이터 정규화를 해서 크기에 대한\n",
    "   영향력을 줄인 다음 분석을 한다."
   ]
  },
  {
   "cell_type": "code",
   "execution_count": null,
   "metadata": {},
   "outputs": [],
   "source": [
    "# 3. 데이터 분석을 위해 필요로 하는 라이브러리 및 용도 기술\n",
    "1. numpy : 벡터화 연산을 통해 빠른 계산 및 분석이 가능하다. import numpy as np\n",
    "2. matplotlib : 자료를 시각화해서 코드나 데이터만 보면 분석하기 어려운건 쉽게 이해할 수 있게 해준다.\n",
    "3. pandas : 표(DataFrame), 열(Series)를 제공해주는 패키지이다. 표 데이터를 다루기 위해서\n",
    "    import pandas as pd\n",
    "    from pandas import DataFrame 을 이용\n",
    "4. scikitlearn : 머신러닝을 위한 패키지로 내부에 다양한 알고리즘이 있어서 분석을 용이하게 해준다.\n",
    "from sklearn.preprocessing import minmax_scale\n",
    "from sklearn.preprocessing import Binarizer\n",
    "from sklearn.preprocessing import OneHotEncoder"
   ]
  },
  {
   "cell_type": "markdown",
   "metadata": {},
   "source": [
    "# 파이썬 기본문법과 통계기초"
   ]
  },
  {
   "cell_type": "code",
   "execution_count": 20,
   "metadata": {},
   "outputs": [
    {
     "name": "stdout",
     "output_type": "stream",
     "text": [
      "바꿀 돈 -->7777\n",
      "[15, 2, 1, 2, 7]\n",
      "500원: 15 ,100원: 2 ,50원: 1 ,10원: 2 ,나머지: 7\n"
     ]
    }
   ],
   "source": [
    "def chn_coin(n):\n",
    "    chn_list=[0,0,0,0,0]\n",
    "    compare_list=[0,0,0,0,0]\n",
    "    cnt=0\n",
    "    chn_list[0]=int((n/500))\n",
    "    chn_list[1]=int(((n%500)/100))\n",
    "    chn_list[2]=int((((n%500)%100)/50))\n",
    "    chn_list[3]=int(((((n%500)%100)%50)/10))\n",
    "    chn_list[4]=int(((((n%500)%100)%50)%10))\n",
    "    cnt=sum(chn_list)\n",
    "    com_cnt=0\n",
    "    com_c5=chn_list[0]\n",
    "    while True:\n",
    "        com_c5=com_c5-1\n",
    "        if com_c5<=0:\n",
    "            break\n",
    "        else:\n",
    "            compare_list[0]=int((n/(500*com_c5)))\n",
    "            c500=compare_list[0]*500\n",
    "            compare_list[1]=int((n-c500)/100)\n",
    "            c100=compare_list[1]*100\n",
    "            compare_list[2]=int((n-c500-c100)/50)\n",
    "            c50=compare_list[2]*50\n",
    "            compare_list[3]=int((n-c500-c100-c50)/10)\n",
    "            c10=compare_list[3]*10\n",
    "            compare_list[4]=int((n-c500-c100-c50-c10))\n",
    "        com_cnt=sum(compare_list)\n",
    "        if com_cnt==n%1:\n",
    "            break\n",
    "        if cnt>com_cnt:\n",
    "            chn_list[0]=compare_list[0]\n",
    "            chn_list[1]=compare_list[1]\n",
    "            chn_list[2]=compare_list[2]\n",
    "            chn_list[3]=compare_list[3]\n",
    "            chn_list[4]=compare_list[4]\n",
    "    \n",
    "    print(\"500원:\",chn_list[0],\",100원:\",chn_list[1],\",50원:\",chn_list[2],\",10원:\",chn_list[3],\",나머지:\",chn_list[4])\n",
    "    \n",
    "n=int(input('바꿀 돈 -->'))\n",
    "chn_coin(n)"
   ]
  },
  {
   "cell_type": "code",
   "execution_count": null,
   "metadata": {},
   "outputs": [],
   "source": []
  },
  {
   "cell_type": "markdown",
   "metadata": {},
   "source": [
    "# 파이썬 패키지를 활용한 데이터 시각화"
   ]
  },
  {
   "cell_type": "code",
   "execution_count": 38,
   "metadata": {},
   "outputs": [
    {
     "data": {
      "text/plain": [
       "<matplotlib.axes._subplots.AxesSubplot at 0x2ae5b06f248>"
      ]
     },
     "execution_count": 38,
     "metadata": {},
     "output_type": "execute_result"
    },
    {
     "data": {
      "image/png": "[encoded data removed]",
      "text/plain": [
       "<Figure size 1440x1440 with 2 Axes>"
      ]
     },
     "metadata": {
      "needs_background": "light"
     },
     "output_type": "display_data"
    }
   ],
   "source": [
    "train=pd.read_csv(\"train.csv\", parse_dates=['datetime'])\n",
    "train['dayofweek']=train['datetime'].dt.dayofweek\\\n",
    "\n",
    "fig,axes=plt.subplots(nrows=2)\n",
    "fig.set_size_inches(20,20)\n",
    "sns.countplot(data=train,x='workingday',ax=axes[0])\n",
    "\n",
    "plt.sca(axes[1])\n",
    "sns.countplot(data=train,x='dayofweek',ax=axes[1])"
   ]
  },
  {
   "cell_type": "code",
   "execution_count": null,
   "metadata": {},
   "outputs": [],
   "source": [
    "27"
   ]
  },
  {
   "cell_type": "code",
   "execution_count": null,
   "metadata": {},
   "outputs": [],
   "source": [
    "train.head()"
   ]
  },
  {
   "cell_type": "code",
   "execution_count": null,
   "metadata": {},
   "outputs": [],
   "source": [
    "train.workingday.value_counts()"
   ]
  },
  {
   "cell_type": "code",
   "execution_count": 41,
   "metadata": {},
   "outputs": [
    {
     "data": {
      "text/plain": [
       "5    1584\n",
       "6    1579\n",
       "3    1553\n",
       "2    1551\n",
       "0    1551\n",
       "1    1539\n",
       "4    1529\n",
       "Name: dayofweek, dtype: int64"
      ]
     },
     "execution_count": 41,
     "metadata": {},
     "output_type": "execute_result"
    }
   ],
   "source": [
    "train.dayofweek.value_counts()"
   ]
  },
  {
   "cell_type": "code",
   "execution_count": null,
   "metadata": {},
   "outputs": [],
   "source": []
  }
 ],
 "metadata": {
  "kernelspec": {
   "display_name": "Python 3",
   "language": "python",
   "name": "python3"
  },
  "language_info": {
   "codemirror_mode": {
    "name": "ipython",
    "version": 3
   },
   "file_extension": ".py",
   "mimetype": "text/x-python",
   "name": "python",
   "nbconvert_exporter": "python",
   "pygments_lexer": "ipython3",
   "version": "3.7.4"
  }
 },
 "nbformat": 4,
 "nbformat_minor": 2
}
