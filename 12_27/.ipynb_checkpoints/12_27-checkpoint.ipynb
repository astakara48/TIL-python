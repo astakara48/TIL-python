{
 "cells": [
  {
   "cell_type": "code",
   "execution_count": 9,
   "metadata": {},
   "outputs": [
    {
     "name": "stdout",
     "output_type": "stream",
     "text": [
      "[1, 2]\n",
      "[1, 2]\n"
     ]
    }
   ],
   "source": [
    "\"\"\"\n",
    "filter(함수,반복가능자료형) : 반복가능자료형 요소가 첫번째 인수인 함수에 대해서 변환 값이 참인 경우에 대해서만 필터링 해주는 함수\n",
    "\"\"\"\n",
    "\n",
    "def positive(p):\n",
    "    res=[]\n",
    "    for i in p:\n",
    "        if i>0:\n",
    "            res.append(i)\n",
    "    return res\n",
    "\n",
    "print(positive([1,-3,2,-5]))\n",
    "\n",
    "print(list(filter(lambda x:x>0 ,[1,-3,2,-5])))\n"
   ]
  },
  {
   "cell_type": "code",
   "execution_count": 10,
   "metadata": {},
   "outputs": [
    {
     "name": "stdout",
     "output_type": "stream",
     "text": [
      "[2, 3, 4, 5]\n",
      "[2, 3, 4, 5]\n",
      "[2, 3, 4, 5]\n",
      "['1', '2', '3', '4']\n"
     ]
    }
   ],
   "source": [
    "target=[1,2,3,4]\n",
    "res=[]\n",
    "def add1(n):\n",
    "    return n+1\n",
    "for v in target:\n",
    "    res.append(add1(v))\n",
    "print(res)\n",
    "\n",
    "print(list(map(add1,target)))\n",
    "\n",
    "print(list(map(lambda x:x+1,target)))\n",
    "\n",
    "print(list(map(str,target)))"
   ]
  },
  {
   "cell_type": "code",
   "execution_count": 19,
   "metadata": {},
   "outputs": [
    {
     "name": "stdout",
     "output_type": "stream",
     "text": [
      "[2, 4, 6, 8, 10]\n"
     ]
    }
   ],
   "source": [
    "target=list(range(1,11))\n",
    "res=[]\n",
    "\n",
    "def is_even(n):\n",
    "    return True if n%2==0 else False\n",
    "res=filter(is_even,target)\n",
    "# for v in target:\n",
    "#     if is_even(v):\n",
    "#         res.append(v)\n",
    "#print(list(res))\n",
    "\n",
    "print(list(filter(lambda x:x%2==0,target)))"
   ]
  },
  {
   "cell_type": "code",
   "execution_count": 22,
   "metadata": {},
   "outputs": [
    {
     "name": "stdout",
     "output_type": "stream",
     "text": [
      "[1, 3]\n"
     ]
    }
   ],
   "source": [
    "# [1,3,-2,-5] 양수만 필터링\n",
    "print(list(filter(lambda x:x>0,[1,3,-2,-5])))"
   ]
  },
  {
   "cell_type": "code",
   "execution_count": 23,
   "metadata": {},
   "outputs": [
    {
     "ename": "TypeError",
     "evalue": "'list' object is not callable",
     "output_type": "error",
     "traceback": [
      "\u001b[1;31m---------------------------------------------------------------------------\u001b[0m",
      "\u001b[1;31mTypeError\u001b[0m                                 Traceback (most recent call last)",
      "\u001b[1;32m<ipython-input-23-9578a8db8de7>\u001b[0m in \u001b[0;36m<module>\u001b[1;34m\u001b[0m\n\u001b[0;32m      2\u001b[0m \u001b[1;31m# 변수명과 함수명이 중복\u001b[0m\u001b[1;33m\u001b[0m\u001b[1;33m\u001b[0m\u001b[1;33m\u001b[0m\u001b[0m\n\u001b[0;32m      3\u001b[0m \u001b[0minput\u001b[0m\u001b[1;33m=\u001b[0m\u001b[1;33m[\u001b[0m\u001b[1;36m1\u001b[0m\u001b[1;33m,\u001b[0m\u001b[1;36m2\u001b[0m\u001b[1;33m,\u001b[0m\u001b[1;36m3\u001b[0m\u001b[1;33m]\u001b[0m\u001b[1;33m\u001b[0m\u001b[1;33m\u001b[0m\u001b[0m\n\u001b[1;32m----> 4\u001b[1;33m \u001b[0minput\u001b[0m\u001b[1;33m(\u001b[0m\u001b[1;33m)\u001b[0m\u001b[1;33m\u001b[0m\u001b[1;33m\u001b[0m\u001b[0m\n\u001b[0m",
      "\u001b[1;31mTypeError\u001b[0m: 'list' object is not callable"
     ]
    }
   ],
   "source": [
    "# list object is not callable\n",
    "# 변수명과 함수명이 중복\n",
    "input=[1,2,3]\n",
    "input()"
   ]
  },
  {
   "cell_type": "code",
   "execution_count": 24,
   "metadata": {},
   "outputs": [
    {
     "data": {
      "text/plain": [
       "'0xfe'"
      ]
     },
     "execution_count": 24,
     "metadata": {},
     "output_type": "execute_result"
    }
   ],
   "source": [
    "# 정수 -> 16진수\n",
    "hex(254)"
   ]
  },
  {
   "cell_type": "code",
   "execution_count": 28,
   "metadata": {},
   "outputs": [
    {
     "name": "stdout",
     "output_type": "stream",
     "text": [
      "140703369568720\n",
      "140703369568752\n"
     ]
    }
   ],
   "source": [
    "a=4\n",
    "print(id(3))\n",
    "print(id(a))\n",
    "# id(객체) 객체의 메모리 주소 값을 돌려주는 함수"
   ]
  },
  {
   "cell_type": "code",
   "execution_count": 32,
   "metadata": {},
   "outputs": [
    {
     "data": {
      "text/plain": [
       "250"
      ]
     },
     "execution_count": 32,
     "metadata": {},
     "output_type": "execute_result"
    }
   ],
   "source": [
    "int('3')\n",
    "int(3.14)\n",
    "int(\"101\", 2) # 2진수 101에 대한 10진수 값\n",
    "int(\"FA\",16)"
   ]
  },
  {
   "cell_type": "code",
   "execution_count": 35,
   "metadata": {},
   "outputs": [
    {
     "name": "stdout",
     "output_type": "stream",
     "text": [
      "True\n",
      "False\n"
     ]
    }
   ],
   "source": [
    "# is로 시작하는 함수는 전부 True or False로 결과가 나옴\n",
    "# class -> 객체(instance)\n",
    "# 붕어빵 isinstance 붕어빵기계 -> 붕어빵이 붕어빵기계의 객체가 맞느냐? -> True\n",
    "# 꽃게빵 isinstance 붕어빵기계 -> False\n",
    "class 붕어빵기계:\n",
    "    pass\n",
    "\n",
    "class 꽃게빵기계:\n",
    "    pass\n",
    "\n",
    "꽃게빵=꽃게빵기계()\n",
    "붕어빵=붕어빵기계()\n",
    "print(isinstance(붕어빵, 붕어빵기계))\n",
    "print(isinstance(꽃게빵, 붕어빵기계))"
   ]
  },
  {
   "cell_type": "code",
   "execution_count": 38,
   "metadata": {},
   "outputs": [
    {
     "data": {
      "text/plain": [
       "[1, 2, 3, 4, 5, 6, 7, 8, 9]"
      ]
     },
     "execution_count": 38,
     "metadata": {},
     "output_type": "execute_result"
    }
   ],
   "source": [
    "list(\"test\")# => ['t','e','s','t']\n",
    "list(range(1,10))"
   ]
  },
  {
   "cell_type": "code",
   "execution_count": 53,
   "metadata": {},
   "outputs": [
    {
     "ename": "SyntaxError",
     "evalue": "unexpected EOF while parsing (<ipython-input-53-d58ac258efd6>, line 10)",
     "output_type": "error",
     "traceback": [
      "\u001b[1;36m  File \u001b[1;32m\"<ipython-input-53-d58ac258efd6>\"\u001b[1;36m, line \u001b[1;32m10\u001b[0m\n\u001b[1;33m    print(list(map(two_times,str([1,2,3])))\u001b[0m\n\u001b[1;37m                                           ^\u001b[0m\n\u001b[1;31mSyntaxError\u001b[0m\u001b[1;31m:\u001b[0m unexpected EOF while parsing\n"
     ]
    }
   ],
   "source": [
    "def two_times(num):\n",
    "    res=[]\n",
    "    for n in num:\n",
    "        res.append(n*2)\n",
    "    return res\n",
    "    \n",
    "res=two_times([1,2,3])\n",
    "print(res) # [2,4,6]\n",
    "\n"
   ]
  },
  {
   "cell_type": "code",
   "execution_count": 54,
   "metadata": {},
   "outputs": [
    {
     "name": "stdout",
     "output_type": "stream",
     "text": [
      "[2, 4, 6]\n"
     ]
    }
   ],
   "source": [
    "def two_times(x):\n",
    "    return x*2\n",
    "\n",
    "print(list(map(two_times, [1,2,3])))"
   ]
  },
  {
   "cell_type": "code",
   "execution_count": 55,
   "metadata": {},
   "outputs": [
    {
     "name": "stdout",
     "output_type": "stream",
     "text": [
      "[2, 4, 6]\n"
     ]
    }
   ],
   "source": [
    "print(list(map(lambda x:x*2,[1,2,3])))"
   ]
  },
  {
   "cell_type": "code",
   "execution_count": 57,
   "metadata": {},
   "outputs": [
    {
     "data": {
      "text/plain": [
       "'t'"
      ]
     },
     "execution_count": 57,
     "metadata": {},
     "output_type": "execute_result"
    }
   ],
   "source": [
    "max([1,2,3])\n",
    "max(\"test\") # 아스키 코드값이 가장 큰 문자가 출력"
   ]
  },
  {
   "cell_type": "code",
   "execution_count": 65,
   "metadata": {},
   "outputs": [
    {
     "data": {
      "text/plain": [
       "3.46"
      ]
     },
     "execution_count": 65,
     "metadata": {},
     "output_type": "execute_result"
    }
   ],
   "source": [
    "oct(8)\n",
    "chr(97)\n",
    "ord('a')\n",
    "pow(2,4)\n",
    "round(4.51)\n",
    "round(3.4567, 2)"
   ]
  },
  {
   "cell_type": "code",
   "execution_count": 68,
   "metadata": {},
   "outputs": [
    {
     "name": "stdout",
     "output_type": "stream",
     "text": [
      "None\n",
      "[1, 2, 3]\n"
     ]
    }
   ],
   "source": [
    "# list.sort( ). sorted(list)\n",
    "# list.sort( ) : 리스트를 정렬, 반환값은 None\n",
    "# 리스트에 순서가 변경\n",
    "# 변경된 순서가 리스트에 저장됨\n",
    "li = [1,3,2]\n",
    "print(li.sort())\n",
    "print(li)"
   ]
  },
  {
   "cell_type": "code",
   "execution_count": 70,
   "metadata": {},
   "outputs": [
    {
     "name": "stdout",
     "output_type": "stream",
     "text": [
      "[1, 2, 3]\n",
      "[1, 3, 2]\n"
     ]
    }
   ],
   "source": [
    "# sorted(list) : 정렬된 새로운 리스트를 반환\n",
    "# 원본 리스트에는 영향이 없다.\n",
    "li2=[1,3,2]\n",
    "print(sorted(li2))\n",
    "print(li2)\n",
    "# 두 함수 차이점\n",
    "# sort는 원본 리스트 순서가 변경됨\n",
    "# sorted는 원본 리스트 순서가 변경 안됨\n",
    "# sort sorted"
   ]
  },
  {
   "cell_type": "code",
   "execution_count": 72,
   "metadata": {},
   "outputs": [
    {
     "data": {
      "text/plain": [
       "['a', 'd', 'o', 't', 'y']"
      ]
     },
     "execution_count": 72,
     "metadata": {},
     "output_type": "execute_result"
    }
   ],
   "source": [
    "sorted(['a','c','b'])\n",
    "sorted(\"today\")"
   ]
  },
  {
   "cell_type": "code",
   "execution_count": 77,
   "metadata": {},
   "outputs": [
    {
     "data": {
      "text/plain": [
       "'HI'"
      ]
     },
     "execution_count": 77,
     "metadata": {},
     "output_type": "execute_result"
    }
   ],
   "source": [
    "str(3)\n",
    "str(\"hi\".upper())"
   ]
  },
  {
   "cell_type": "code",
   "execution_count": 76,
   "metadata": {},
   "outputs": [
    {
     "data": {
      "text/plain": [
       "6"
      ]
     },
     "execution_count": 76,
     "metadata": {},
     "output_type": "execute_result"
    }
   ],
   "source": [
    "sum([1,2])\n",
    "sum((1,2,3))"
   ]
  },
  {
   "cell_type": "code",
   "execution_count": 81,
   "metadata": {},
   "outputs": [
    {
     "data": {
      "text/plain": [
       "[('a', 'd'), ('b', 'e')]"
      ]
     },
     "execution_count": 81,
     "metadata": {},
     "output_type": "execute_result"
    }
   ],
   "source": [
    "#자료를 묶어주는 함수\n",
    "list(zip(\"abc\",\"def\",\"ghi\"))\n",
    "list(zip(\"abc\",\"defg\")) # g가 버려짐\n",
    "list(zip(\"abc\",\"de\")) # C가 남음"
   ]
  },
  {
   "cell_type": "code",
   "execution_count": 103,
   "metadata": {},
   "outputs": [],
   "source": [
    "# pickle : 객체 상태 그대로 저장 / 불러오기 모듈\n",
    "import pickle\n",
    "f=open(\"test.txt\",\"wb\") # binary 형태로| 저장\n",
    "data={1:'python',2:'java'} # 객체\n",
    "pickle.dump(data,f)\n",
    "f.close()"
   ]
  },
  {
   "cell_type": "code",
   "execution_count": 107,
   "metadata": {},
   "outputs": [
    {
     "name": "stdout",
     "output_type": "stream",
     "text": [
      "{1: 'python', 2: 'java'}\n"
     ]
    }
   ],
   "source": [
    "f=open(\"test.txt\",\"rb\")\n",
    "data=pickle.load(f)\n",
    "print(data)"
   ]
  },
  {
   "cell_type": "code",
   "execution_count": 111,
   "metadata": {},
   "outputs": [
    {
     "data": {
      "text/plain": [
       "'text2.txt'"
      ]
     },
     "execution_count": 111,
     "metadata": {},
     "output_type": "execute_result"
    }
   ],
   "source": [
    "import shutil\n",
    "shutil.copy('test.txt','text2.txt')"
   ]
  },
  {
   "cell_type": "code",
   "execution_count": 97,
   "metadata": {},
   "outputs": [
    {
     "data": {
      "text/plain": [
       "['c:/Windows\\\\addins',\n",
       " 'c:/Windows\\\\appcompat',\n",
       " 'c:/Windows\\\\apppatch',\n",
       " 'c:/Windows\\\\AppReadiness',\n",
       " 'c:/Windows\\\\assembly',\n",
       " 'c:/Windows\\\\bcastdvr',\n",
       " 'c:/Windows\\\\bfsvc.exe',\n",
       " 'c:/Windows\\\\BitLockerDiscoveryVolumeContents',\n",
       " 'c:/Windows\\\\Boot',\n",
       " 'c:/Windows\\\\bootstat.dat',\n",
       " 'c:/Windows\\\\Branding',\n",
       " 'c:/Windows\\\\CbsTemp',\n",
       " 'c:/Windows\\\\Containers',\n",
       " 'c:/Windows\\\\CSC',\n",
       " 'c:/Windows\\\\Cursors',\n",
       " 'c:/Windows\\\\debug',\n",
       " 'c:/Windows\\\\diagnostics',\n",
       " 'c:/Windows\\\\DiagTrack',\n",
       " 'c:/Windows\\\\DigitalLocker',\n",
       " 'c:/Windows\\\\Downloaded Program Files',\n",
       " 'c:/Windows\\\\Education.xml',\n",
       " 'c:/Windows\\\\ELAMBKUP',\n",
       " 'c:/Windows\\\\en-US',\n",
       " 'c:/Windows\\\\Enterprise.xml',\n",
       " 'c:/Windows\\\\explorer.exe',\n",
       " 'c:/Windows\\\\Fonts',\n",
       " 'c:/Windows\\\\GameBarPresenceWriter',\n",
       " 'c:/Windows\\\\Globalization',\n",
       " 'c:/Windows\\\\Help',\n",
       " 'c:/Windows\\\\HelpPane.exe',\n",
       " 'c:/Windows\\\\hh.exe',\n",
       " 'c:/Windows\\\\IdentityCRL',\n",
       " 'c:/Windows\\\\IME',\n",
       " 'c:/Windows\\\\ImmersiveControlPanel',\n",
       " 'c:/Windows\\\\INF',\n",
       " 'c:/Windows\\\\InputMethod',\n",
       " 'c:/Windows\\\\Installer',\n",
       " 'c:/Windows\\\\ko-KR',\n",
       " 'c:/Windows\\\\L2Schemas',\n",
       " 'c:/Windows\\\\LanguageOverlayCache',\n",
       " 'c:/Windows\\\\LiveKernelReports',\n",
       " 'c:/Windows\\\\Logs',\n",
       " 'c:/Windows\\\\Media',\n",
       " 'c:/Windows\\\\mib.bin',\n",
       " 'c:/Windows\\\\Microsoft.NET',\n",
       " 'c:/Windows\\\\Migration',\n",
       " 'c:/Windows\\\\minidump',\n",
       " 'c:/Windows\\\\ModemLogs',\n",
       " 'c:/Windows\\\\notepad.exe',\n",
       " 'c:/Windows\\\\OCR',\n",
       " 'c:/Windows\\\\Offline Web Pages',\n",
       " 'c:/Windows\\\\Panther',\n",
       " 'c:/Windows\\\\PCHEALTH',\n",
       " 'c:/Windows\\\\Performance',\n",
       " 'c:/Windows\\\\PFRO.log',\n",
       " 'c:/Windows\\\\PLA',\n",
       " 'c:/Windows\\\\PolicyDefinitions',\n",
       " 'c:/Windows\\\\Prefetch',\n",
       " 'c:/Windows\\\\PrintDialog',\n",
       " 'c:/Windows\\\\Professional.xml',\n",
       " 'c:/Windows\\\\ProfessionalEducation.xml',\n",
       " 'c:/Windows\\\\ProfessionalWorkstation.xml',\n",
       " 'c:/Windows\\\\Provisioning',\n",
       " 'c:/Windows\\\\regedit.exe',\n",
       " 'c:/Windows\\\\Registration',\n",
       " 'c:/Windows\\\\RemotePackages',\n",
       " 'c:/Windows\\\\rescache',\n",
       " 'c:/Windows\\\\Resources',\n",
       " 'c:/Windows\\\\SchCache',\n",
       " 'c:/Windows\\\\schemas',\n",
       " 'c:/Windows\\\\security',\n",
       " 'c:/Windows\\\\ServerRdsh.xml',\n",
       " 'c:/Windows\\\\ServiceProfiles',\n",
       " 'c:/Windows\\\\ServiceState',\n",
       " 'c:/Windows\\\\servicing',\n",
       " 'c:/Windows\\\\Setup',\n",
       " 'c:/Windows\\\\setupact.log',\n",
       " 'c:/Windows\\\\setuperr.log',\n",
       " 'c:/Windows\\\\ShellComponents',\n",
       " 'c:/Windows\\\\ShellExperiences',\n",
       " 'c:/Windows\\\\SHELLNEW',\n",
       " 'c:/Windows\\\\SKB',\n",
       " 'c:/Windows\\\\SoftwareDistribution',\n",
       " 'c:/Windows\\\\Speech',\n",
       " 'c:/Windows\\\\Speech_OneCore',\n",
       " 'c:/Windows\\\\splwow64.exe',\n",
       " 'c:/Windows\\\\System',\n",
       " 'c:/Windows\\\\system.ini',\n",
       " 'c:/Windows\\\\System32',\n",
       " 'c:/Windows\\\\SystemApps',\n",
       " 'c:/Windows\\\\SystemResources',\n",
       " 'c:/Windows\\\\SysWOW64',\n",
       " 'c:/Windows\\\\TAPI',\n",
       " 'c:/Windows\\\\Tasks',\n",
       " 'c:/Windows\\\\Temp',\n",
       " 'c:/Windows\\\\TextInput',\n",
       " 'c:/Windows\\\\tracing',\n",
       " 'c:/Windows\\\\twain_32',\n",
       " 'c:/Windows\\\\twain_32.dll',\n",
       " 'c:/Windows\\\\Vss',\n",
       " 'c:/Windows\\\\WaaS',\n",
       " 'c:/Windows\\\\Web',\n",
       " 'c:/Windows\\\\win.ini',\n",
       " 'c:/Windows\\\\WindowsShell.Manifest',\n",
       " 'c:/Windows\\\\WindowsUpdate.log',\n",
       " 'c:/Windows\\\\winhlp32.exe',\n",
       " 'c:/Windows\\\\WinSxS',\n",
       " 'c:/Windows\\\\WMSysPr9.prx',\n",
       " 'c:/Windows\\\\write.exe']"
      ]
     },
     "execution_count": 97,
     "metadata": {},
     "output_type": "execute_result"
    }
   ],
   "source": [
    "import glob\n",
    "glob.glob(\"c:/Windows/*\")"
   ]
  },
  {
   "cell_type": "code",
   "execution_count": 102,
   "metadata": {},
   "outputs": [
    {
     "data": {
      "text/plain": [
       "True"
      ]
     },
     "execution_count": 102,
     "metadata": {},
     "output_type": "execute_result"
    }
   ],
   "source": [
    "import webbrowser\n",
    "webbrowser.open(\"https:/www.google.com\")\n",
    "webbrowser.open_new(\"https:/www.google.com\")"
   ]
  },
  {
   "cell_type": "code",
   "execution_count": 119,
   "metadata": {},
   "outputs": [
    {
     "name": "stdout",
     "output_type": "stream",
     "text": [
      "p1:30 20\n",
      "p2:50 40\n",
      "28.284271247461902\n"
     ]
    }
   ],
   "source": [
    "class Point2D:\n",
    "    def __init__(self,x,y):\n",
    "        self.x=x\n",
    "        self.y=y\n",
    "        \n",
    "p1=Point2D(x=30,y=20) #점1(x=30, y=20)\n",
    "p2=Point2D(x=50,y=40) #점2(x=50, y=40)\n",
    "print(\"p1:{} {}\".format(p1.x,p1.y))\n",
    "print(\"p2:{} {}\".format(p2.x,p2.y))\n",
    "import math\n",
    "d=math.sqrt(pow(p2.x-p1.x,2)+pow(p2.y-p1.y,2))\n",
    "print(d)\n",
    "#두 점 사이의 거리 출력"
   ]
  },
  {
   "cell_type": "code",
   "execution_count": 121,
   "metadata": {
    "scrolled": true
   },
   "outputs": [
    {
     "data": {
      "text/plain": [
       "['__add__',\n",
       " '__class__',\n",
       " '__contains__',\n",
       " '__delattr__',\n",
       " '__delitem__',\n",
       " '__dir__',\n",
       " '__doc__',\n",
       " '__eq__',\n",
       " '__format__',\n",
       " '__ge__',\n",
       " '__getattribute__',\n",
       " '__getitem__',\n",
       " '__gt__',\n",
       " '__hash__',\n",
       " '__iadd__',\n",
       " '__imul__',\n",
       " '__init__',\n",
       " '__init_subclass__',\n",
       " '__iter__',\n",
       " '__le__',\n",
       " '__len__',\n",
       " '__lt__',\n",
       " '__mul__',\n",
       " '__ne__',\n",
       " '__new__',\n",
       " '__reduce__',\n",
       " '__reduce_ex__',\n",
       " '__repr__',\n",
       " '__reversed__',\n",
       " '__rmul__',\n",
       " '__setattr__',\n",
       " '__setitem__',\n",
       " '__sizeof__',\n",
       " '__str__',\n",
       " '__subclasshook__',\n",
       " 'append',\n",
       " 'clear',\n",
       " 'copy',\n",
       " 'count',\n",
       " 'extend',\n",
       " 'index',\n",
       " 'insert',\n",
       " 'pop',\n",
       " 'remove',\n",
       " 'reverse',\n",
       " 'sort']"
      ]
     },
     "execution_count": 121,
     "metadata": {},
     "output_type": "execute_result"
    }
   ],
   "source": [
    "\"\"\"\n",
    "이터레이터(iterator, 반복자) : 데이터를 차례대로 꺼낼 수 있는 객체\n",
    "for i in ragne(10):\n",
    "-> 숫자 0~(까지를 차례대로 꺼내는 이터레이터가 있음.\n",
    "이터레이터에 의해서 0~9까지의 수가 생성)\n",
    "\n",
    "이터러블(iterable, 반복 가능한 객체)\n",
    "- 문자열, 리스트, 튜플...\n",
    "\"\"\"\n",
    "# dir 데이터가 이터러블 한지 확인\n",
    "# dir(객체)\n",
    "dir([1,2,3]) # 반복가능 : __iter__ 가 포함 "
   ]
  },
  {
   "cell_type": "code",
   "execution_count": 126,
   "metadata": {},
   "outputs": [
    {
     "name": "stdout",
     "output_type": "stream",
     "text": [
      "1\n",
      "2\n",
      "3\n"
     ]
    }
   ],
   "source": [
    "it=[1,2,3].__iter__()\n",
    "\n",
    "# for i in [1,2,3]:\n",
    "#     print(i)\n",
    "\n",
    "print(it.__next__())\n",
    "print(it.__next__())\n",
    "print(it.__next__())\n"
   ]
  },
  {
   "cell_type": "code",
   "execution_count": null,
   "metadata": {},
   "outputs": [],
   "source": [
    "\"\"\"\n",
    "1. __iter__() 호출\n",
    "2. __next__() 호출 -> i 변수에 1 저장\n",
    "3. __next__() 호출 -> i 변수에 2 저장\n",
    "4. __next__() 호출 -> 에러발생\n",
    "\n",
    "for i in range(3):\n",
    "    print(i)\n",
    "\"\"\""
   ]
  },
  {
   "cell_type": "code",
   "execution_count": 134,
   "metadata": {},
   "outputs": [
    {
     "name": "stdout",
     "output_type": "stream",
     "text": [
      "\n",
      "950101-*******\n",
      "970202-*******\n",
      "\n"
     ]
    }
   ],
   "source": [
    "\"\"\"\n",
    "데이터 수집(정규표현식) -> 전처리 -> 분석.....\n",
    "정규표현식 : 문자열 데이터를 규칙에 맞춰서 정리한 것\n",
    "\n",
    "텍스트 수집 -> 주민번호 -> 뒷자리를 *로 변경\n",
    "\"\"\"\n",
    "\n",
    "data=\"\"\"\n",
    "kim 950101-1234567\n",
    "lee 970202-2345678\n",
    "\"\"\"\n",
    "\n",
    "result=[]\n",
    "for line in data.split(\"\\n\"):\n",
    "    word_res=[]\n",
    "    for word in line.split(\" \"):\n",
    "        if len(word) == 14 and word[:6].isdigit() and word[7:].isdigit():\n",
    "            w=word[0:6]+\"-\"+\"*******\"\n",
    "            word_res.append(w)\n",
    "    result.append(\" \".join(word_res))\n",
    "print(\"\\n\".join(result))"
   ]
  },
  {
   "cell_type": "code",
   "execution_count": 139,
   "metadata": {},
   "outputs": [
    {
     "name": "stdout",
     "output_type": "stream",
     "text": [
      "\n",
      "kim 950101-*******\n",
      "lee 970202-*******\n",
      "\n",
      "<re.Match object; span=(0, 5), match='hello'>\n",
      "None\n"
     ]
    }
   ],
   "source": [
    "data=\"\"\"\n",
    "kim 950101-1234567\n",
    "lee 970202-2345678\n",
    "\"\"\"\n",
    "\n",
    "import re # 정규표현식 모듈\n",
    "pattern=re.compile(\"(\\d{6})[-]\\d{7}\")\n",
    "print(pattern.sub(\"\\g<1>-*******\",data))\n",
    "\n",
    "# 정규표현식 작성방법\n",
    "# re.match(\"패턴\", \"문자열\")\n",
    "# 문자열에 패턴이 있는지 여부를 확인\n",
    "\n",
    "print(re.match(\"hello\",\"hello, world\"))\n",
    "print(re.match(\"hi\",\"hello, world\"))"
   ]
  },
  {
   "cell_type": "code",
   "execution_count": 153,
   "metadata": {},
   "outputs": [
    {
     "name": "stdout",
     "output_type": "stream",
     "text": [
      "<re.Match object; span=(0, 1), match='a'>\n",
      "None\n",
      "<re.Match object; span=(0, 1), match='a'>\n",
      "None\n",
      "<re.Match object; span=(0, 1), match='b'>\n",
      "<re.Match object; span=(0, 1), match='f'>\n",
      "<re.Match object; span=(0, 1), match='f'>\n",
      "None\n",
      "<re.Match object; span=(0, 1), match='A'>\n",
      "<re.Match object; span=(0, 1), match='f'>\n",
      "<re.Match object; span=(0, 1), match='1'>\n",
      "None\n",
      "<re.Match object; span=(0, 1), match='1'>\n",
      "None\n"
     ]
    }
   ],
   "source": [
    "\"\"\"\n",
    "정규표현식 메타문자(문자의 본래 의미가 아닌, 특정 의미를 갖는 문자) : (), {}, [], \\, | ? + * $ ^ ...\n",
    "1. [ ] 메타문자 : 문자와 관련된 정규식 사용. [ ] 대괄호 사이에는 어떤 문자도 올 수 있다.\n",
    "정규표현식 : [abcdef]\n",
    "의미 : a,b,c,d,e,f 문자 중에서 어느 한 개의 문자와 매치되어진다.\n",
    "\"a\"는 정규식에 일치하는 문자가 있으므로 -> 매치됨\n",
    "\n",
    "\"\"\"\n",
    "print(re.match(\"[abcdef]\",\"a\"))\n",
    "print(re.match(\"[abcdef]\",\"z\"))\n",
    "print(re.match(\"[abcdef]\",\"all\"))\n",
    "print(re.match(\"[abcdef]\",\"sky\"))\n",
    "print(re.match(\"[abcdef]\",\"best\"))\n",
    "print(re.match(\"[abcdef]\",\"fgha\"))\n",
    "print(re.match(\"[a-z]\",\"fgha\"))\n",
    "# [a-z] : 알파벳 소문자 모두\n",
    "print(re.match(\"[a-z]\",\"ABC\"))\n",
    "# [A-Z] : 알파벳 대문자 모두\n",
    "print(re.match(\"[A-Z]\",\"ABC\"))\n",
    "#[a-zA-Z] : 알파벳 대소문자 모두\n",
    "print(re.match(\"[a-zA-Z]\",\"fgha\"))\n",
    "\n",
    "#[0-9] : 숫자 모두\n",
    "print(re.match(\"[0-9]\",\"119\"))\n",
    "\n",
    "#[^0-9] : 숫자를 제외한 모두\n",
    "print(re.match(\"[^0-9]\",\"119\"))\n",
    "\n",
    "# \\d : 숫자와 매치됨. [0-9]와 같음\n",
    "print(re.match(\"\\d\",\"119\"))\n",
    "\n",
    "# \\D : 숫자가 아닌 모든 것과 매치가 됨, [^0-9]와 같음\n",
    "print(re.match(\"\\D\",\"119\"))"
   ]
  },
  {
   "cell_type": "code",
   "execution_count": 161,
   "metadata": {},
   "outputs": [
    {
     "name": "stdout",
     "output_type": "stream",
     "text": [
      "<re.Match object; span=(0, 1), match='1'>\n",
      "<re.Match object; span=(0, 1), match='t'>\n",
      "None\n",
      "<re.Match object; span=(0, 1), match='대'>\n",
      "<re.Match object; span=(0, 1), match='대'>\n",
      "None\n"
     ]
    }
   ],
   "source": [
    "# \\w : 숫자+문자 매치 = [0-9a-zA-Z]\n",
    "print(re.match(\"\\w\",\"119\"))\n",
    "print(re.match(\"\\w\",\"test\"))\n",
    "\n",
    "print(re.match(\"[0-9a-zA-Z]\",\"대한민국\"))\n",
    "print(re.match(\"[^0-9a-zA-Z]\",\"대한민국\"))\n",
    "\n",
    "print(re.match(\"[가-핳]\",\"대한민국\"))\n",
    "\n",
    "\n",
    "# \\W : 숫자+영문자가 아닌 나머지\n",
    "print(re.match(\"\\W\",\"test\"))"
   ]
  },
  {
   "cell_type": "code",
   "execution_count": 163,
   "metadata": {},
   "outputs": [
    {
     "name": "stdout",
     "output_type": "stream",
     "text": [
      "None\n",
      "<re.Match object; span=(7, 9), match='hi'>\n"
     ]
    }
   ],
   "source": [
    "\"\"\"\n",
    "^문자열 : 문자열이 맨 앞에 오는지 판단\n",
    "문자열$ : 문자열이 맨 뒤에 오는지 판단\n",
    "search함수에서 사용됨\n",
    "\"\"\"\n",
    "print(re.search(\"^hi\",\"hello, hi\"))\n",
    "# hi 문자열이 맨 앞에 오는지 판단\n",
    "\n",
    "print(re.search(\"hi$\",\"hello, hi\"))\n",
    "# hi 문자열이 맨 뒤에 오는지 판단"
   ]
  },
  {
   "cell_type": "code",
   "execution_count": 165,
   "metadata": {},
   "outputs": [
    {
     "name": "stdout",
     "output_type": "stream",
     "text": [
      "<re.Match object; span=(0, 2), match='hi'>\n",
      "<re.Match object; span=(0, 5), match='hello'>\n"
     ]
    }
   ],
   "source": [
    "print(re.match(\"hello|hi|good\",\"hi\"))\n",
    "# |기호는 or 의미\n",
    "print(re.match(\"hello|hi|good\",\"hello\"))"
   ]
  },
  {
   "cell_type": "code",
   "execution_count": 171,
   "metadata": {},
   "outputs": [
    {
     "name": "stdout",
     "output_type": "stream",
     "text": [
      "<re.Match object; span=(0, 0), match=''>\n"
     ]
    }
   ],
   "source": [
    "# []] 사이의 문자들과 매치\n",
    "\"\"\"\n",
    "정규식:[abc]\n",
    "의미? a,b,c 중에서 한 개의 문자와 매치\n",
    "a-매치, before - 매치, kick-매치x\n",
    "\"\"\"\n",
    "print(re.match(\"[abc]*\",\"kick\"))"
   ]
  },
  {
   "cell_type": "code",
   "execution_count": 167,
   "metadata": {},
   "outputs": [
    {
     "name": "stdout",
     "output_type": "stream",
     "text": [
      "<re.Match object; span=(0, 1), match='1'>\n"
     ]
    }
   ],
   "source": [
    "print(re.match(\"[0-9]\",\"123\"))"
   ]
  },
  {
   "cell_type": "code",
   "execution_count": 177,
   "metadata": {},
   "outputs": [
    {
     "name": "stdout",
     "output_type": "stream",
     "text": [
      "<re.Match object; span=(0, 3), match='123'>\n",
      "<re.Match object; span=(0, 2), match='12'>\n",
      "<re.Match object; span=(0, 0), match=''>\n"
     ]
    }
   ],
   "source": [
    "print(re.match(\"[0-9]*\",\"123\"))\n",
    "# *은 숫자가 0개 이상 있는지 판단\n",
    "# 위 코드에서는 숫자가 3개가 매치 됨\n",
    "\n",
    "print(re.match(\"[0-9]*\",\"12a3\"))\n",
    "print(re.match(\"[0-9]*\",\"x12a3\"))"
   ]
  },
  {
   "cell_type": "code",
   "execution_count": 181,
   "metadata": {},
   "outputs": [
    {
     "name": "stdout",
     "output_type": "stream",
     "text": [
      "<re.Match object; span=(0, 0), match=''>\n",
      "None\n",
      "<re.Match object; span=(0, 3), match='abc'>\n",
      "None\n"
     ]
    }
   ],
   "source": [
    "print(re.match(\"[a-z]*\",\"12a3bc\"))\n",
    "print(re.match(\"[a-z]+\",\"12a3bc\"))\n",
    "print(re.match(\"[a-z]+\",\"abc123def\"))\n",
    "# + : 문자가 1개 이상 있는지 판단\n",
    "# * : 문자가 0개 이상 있는지 판단\n",
    "print(re.match(\"[a-z]+\",\"9abc123def\"))"
   ]
  },
  {
   "cell_type": "code",
   "execution_count": 187,
   "metadata": {},
   "outputs": [
    {
     "name": "stdout",
     "output_type": "stream",
     "text": [
      "<re.Match object; span=(0, 1), match='a'>\n",
      "<re.Match object; span=(0, 1), match='b'>\n",
      "None\n",
      "<re.Match object; span=(0, 2), match='ab'>\n",
      "<re.Match object; span=(0, 3), match='aab'>\n",
      "None\n"
     ]
    }
   ],
   "source": [
    "print(re.match(\"a*\", \"a\")) \n",
    "#('패턴', '문자열') : 문자열에 패턴이 있는지 확인\n",
    "print(re.match(\"a*b\",\"b\"))\n",
    "# a가 0개 이상 있으면서 b로 이어진다면 매치\n",
    "print(re.match(\"a+b\",\"b\"))\n",
    "print(re.match(\"a+b\",\"ab\"))\n",
    "print(re.match(\"a+b\",\"aab\"))\n",
    "print(re.match(\"a+b\",\"aacb\"))"
   ]
  },
  {
   "cell_type": "code",
   "execution_count": 190,
   "metadata": {},
   "outputs": [
    {
     "name": "stdout",
     "output_type": "stream",
     "text": [
      "<re.Match object; span=(0, 6), match='aaaaaa'>\n",
      "<re.Match object; span=(0, 7), match='aaaaaab'>\n",
      "<re.Match object; span=(0, 7), match='aaaaaab'>\n",
      "<re.Match object; span=(0, 7), match='aaaaaab'>\n"
     ]
    }
   ],
   "source": [
    "print(re.match(\"a*\",\"aaaaaab\"))\n",
    "print(re.match(\"a+b\",\"aaaaaab\"))\n",
    "print(re.match(\"a+b\",\"aaaaaabcc\"))\n",
    "print(re.match(\"a+b*\",\"aaaaaabcc\"))"
   ]
  },
  {
   "cell_type": "code",
   "execution_count": 197,
   "metadata": {},
   "outputs": [
    {
     "name": "stdout",
     "output_type": "stream",
     "text": [
      "<re.Match object; span=(0, 3), match='aab'>\n",
      "<re.Match object; span=(0, 3), match='aab'>\n",
      "<re.Match object; span=(0, 3), match='aab'>\n",
      "<re.Match object; span=(0, 4), match='aabb'>\n",
      "<re.Match object; span=(0, 4), match='aabb'>\n",
      "<re.Match object; span=(0, 5), match='aabbc'>\n",
      "None\n"
     ]
    }
   ],
   "source": [
    "print(re.match(\"a*b\",\"aab\"))\n",
    "print(re.match(\"a*b\",\"aabc\"))\n",
    "print(re.match(\"a*b\",\"aabbc\"))\n",
    "print(re.match(\"a*b+\",\"aabbc\"))\n",
    "print(re.match(\"a*b*\",\"aabbc\"))\n",
    "print(re.match(\"a*b*c\",\"aabbc\"))\n",
    "print(re.match(\"a*b*c+b\",\"aabbc\"))"
   ]
  },
  {
   "cell_type": "code",
   "execution_count": 201,
   "metadata": {},
   "outputs": [
    {
     "name": "stdout",
     "output_type": "stream",
     "text": [
      "<re.Match object; span=(0, 1), match='h'>\n",
      "<re.Match object; span=(0, 1), match='h'>\n",
      "<re.Match object; span=(0, 1), match='h'>\n",
      "<re.Match object; span=(0, 0), match=''>\n"
     ]
    }
   ],
   "source": [
    "print(re.match(\"h?\",\"h\"))\n",
    "print(re.match(\"h?\",\"hi\"))\n",
    "print(re.match(\"h?\",\"hello\"))\n",
    "# ?는 문자가 0개 또는 1개\n",
    "print(re.match(\"h?\",\"ello\"))\n",
    "# h?는 h 문자가 0개 또는 1개 있으면 매치됨"
   ]
  },
  {
   "cell_type": "code",
   "execution_count": 207,
   "metadata": {},
   "outputs": [
    {
     "name": "stdout",
     "output_type": "stream",
     "text": [
      "<re.Match object; span=(0, 2), match='he'>\n",
      "<re.Match object; span=(0, 3), match='hel'>\n",
      "None\n"
     ]
    }
   ],
   "source": [
    "# .은 문자각 1개가 있어야 매치됨\n",
    "# h.은 h 문자 다음에 문자가 1개 있어야 매치가 됨\n",
    "\n",
    "print(re.match(\"h.\", \"hello\"))\n",
    "print(re.match(\"h.l\", \"hello\"))\n",
    "# h문자 + 모든 문자 + l 문자\n",
    "print(re.match(\"a.b\",\"ab\"))\n",
    "# a와 b사이에 문자가 있어야하는데 없기 때문에 None 이 출력"
   ]
  },
  {
   "cell_type": "code",
   "execution_count": null,
   "metadata": {},
   "outputs": [],
   "source": []
  },
  {
   "cell_type": "code",
   "execution_count": null,
   "metadata": {},
   "outputs": [],
   "source": []
  },
  {
   "cell_type": "code",
   "execution_count": null,
   "metadata": {},
   "outputs": [],
   "source": []
  },
  {
   "cell_type": "code",
   "execution_count": null,
   "metadata": {},
   "outputs": [],
   "source": []
  },
  {
   "cell_type": "code",
   "execution_count": null,
   "metadata": {},
   "outputs": [],
   "source": []
  },
  {
   "cell_type": "code",
   "execution_count": null,
   "metadata": {},
   "outputs": [],
   "source": []
  },
  {
   "cell_type": "code",
   "execution_count": null,
   "metadata": {},
   "outputs": [],
   "source": []
  },
  {
   "cell_type": "code",
   "execution_count": null,
   "metadata": {},
   "outputs": [],
   "source": []
  },
  {
   "cell_type": "code",
   "execution_count": null,
   "metadata": {},
   "outputs": [],
   "source": []
  },
  {
   "cell_type": "code",
   "execution_count": null,
   "metadata": {},
   "outputs": [],
   "source": []
  },
  {
   "cell_type": "code",
   "execution_count": null,
   "metadata": {},
   "outputs": [],
   "source": []
  },
  {
   "cell_type": "code",
   "execution_count": null,
   "metadata": {},
   "outputs": [],
   "source": []
  }
 ],
 "metadata": {
  "kernelspec": {
   "display_name": "Python 3",
   "language": "python",
   "name": "python3"
  },
  "language_info": {
   "codemirror_mode": {
    "name": "ipython",
    "version": 3
   },
   "file_extension": ".py",
   "mimetype": "text/x-python",
   "name": "python",
   "nbconvert_exporter": "python",
   "pygments_lexer": "ipython3",
   "version": "3.7.4"
  }
 },
 "nbformat": 4,
 "nbformat_minor": 2
}
