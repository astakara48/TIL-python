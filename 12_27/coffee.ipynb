{
 "cells": [
  {
   "cell_type": "code",
   "execution_count": null,
   "metadata": {},
   "outputs": [],
   "source": [
    "# 커피 자판기 만들기\n",
    "\n",
    "# 금액 투입\n",
    "# 커피 선택\n",
    "# 커피 출력\n",
    "# 잔액 출력\n",
    "# 동전 : 500, 100, 50, 1000 등등\n",
    "\n",
    "# 1) 관리자 / 사용자 기능 구현\n",
    "# - 커피 재료(10잔 입력) -> 10잔을 출력할수 있는 자판기\n",
    "# - 동전 투입(1000:30, 500:20, 100:50)\n",
    "# - 커피가 없으면 품절 기능도 \n",
    "\n",
    "# 2) 사용 \n",
    "# - 금액 투입\n",
    "# - 커피 선택\n",
    "# - 잔액 출금 / 커피를 추가적으로 선택\n",
    "\n",
    "# 실행 예시)\n",
    "# step 1\n",
    "# 선택하세요?\n",
    "# (1) 관리자 모드 (2) 사용자 모드\n",
    "# 입력 : 1\n",
    "\n",
    "# step2\n",
    "# (1) 커피 재료  (2) 동전 투입 (3) 종료\n",
    "# 입력 : 1\n",
    "\n",
    "# step 3\n",
    "# 커피 충전 : 10\n",
    "# 10잔이 충전되었습니다.\n"
   ]
  },
  {
   "cell_type": "code",
   "execution_count": null,
   "metadata": {},
   "outputs": [],
   "source": [
    "class super_coffee:\n",
    "    def __init__(self):\n",
    "        self.p = {'아메리카노':1500,'카푸치노':2000,'카페모카':3000}\n",
    "        self.n = {1:'아메리카노', 2:'카푸치노', 3:'카페모카'}\n",
    "        self.coffee_cnt=0\n",
    "        self.coin_1000=0\n",
    "        self.coin_500=0\n",
    "        self.coin_100=0\n",
    "        self.money = self.coin_1000+self.coin_500+self.coin_100\n",
    "    \n",
    "    def in_coffee(self, num):\n",
    "        self.coffee_cnt = num\n",
    "    \n",
    "    def mg_list(*args):\n",
    "        self.coin_1000 = args[0]\n",
    "        self.coin_500 = args[1]\n",
    "        self.coin_100 = args[2]\n",
    "    \n",
    "class customer_coffee(super_coffee):\n",
    "    pass"
   ]
  },
  {
   "cell_type": "code",
   "execution_count": null,
   "metadata": {},
   "outputs": [],
   "source": [
    "mode=int(input(\"1. 관리자 모드 // 2. 사용자 모드 // 9. 종료\"))\n",
    "while True:\n",
    "    coin=[]\n",
    "    if mode==1:\n",
    "        c=super_coffee()\n",
    "        mg_list=int(input(\"관리자 모드입니다. 관리창을 선택하세요.\\n1.커피 갯수 입력 2.동전 투입\"))\n",
    "        if mg_list==1:\n",
    "            cnt=int(input(\"커피 갯수를 입력하세요 : \"))\n",
    "            c.in_coffee(cnt)\n",
    "        elif mg_list==2:\n",
    "            coin=int(input(\"동전을 투입합니다. 1000, 500, 100 단위로 입력하세요\")).split()\n",
    "            c.mg_list(coin)\n",
    "    elif mode==2:\n",
    "        c=customer_coffee()\n",
    "    elif mode==9:\n",
    "        print(\"종료합니다.\")\n",
    "        break\n",
    "    else:\n",
    "        print(\"잘못 선택하셨습니다. 종료합니다.\")\n",
    "        break"
   ]
  },
  {
   "cell_type": "code",
   "execution_count": null,
   "metadata": {},
   "outputs": [],
   "source": []
  },
  {
   "cell_type": "code",
   "execution_count": null,
   "metadata": {},
   "outputs": [],
   "source": []
  }
 ],
 "metadata": {
  "kernelspec": {
   "display_name": "Python 3",
   "language": "python",
   "name": "python3"
  },
  "language_info": {
   "codemirror_mode": {
    "name": "ipython",
    "version": 3
   },
   "file_extension": ".py",
   "mimetype": "text/x-python",
   "name": "python",
   "nbconvert_exporter": "python",
   "pygments_lexer": "ipython3",
   "version": "3.7.4"
  }
 },
 "nbformat": 4,
 "nbformat_minor": 2
}
