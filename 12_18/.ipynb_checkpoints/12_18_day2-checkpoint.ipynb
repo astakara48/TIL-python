{
 "cells": [
  {
   "cell_type": "code",
   "execution_count": null,
   "metadata": {},
   "outputs": [],
   "source": [
    "\"\"\"\n",
    "x = 5\n",
    "대소문자 구분, 소문자로 시작, 예약어(for, if, ... 이미 예약되어 있는 명령어는 안됨)\n",
    "\"\"\"\n",
    "x,y = 1,2\n"
   ]
  },
  {
   "cell_type": "code",
   "execution_count": null,
   "metadata": {},
   "outputs": [],
   "source": [
    "x"
   ]
  },
  {
   "cell_type": "code",
   "execution_count": null,
   "metadata": {},
   "outputs": [],
   "source": [
    "del x # 변수가 메모리에서 제거"
   ]
  },
  {
   "cell_type": "code",
   "execution_count": null,
   "metadata": {},
   "outputs": [],
   "source": [
    "del x"
   ]
  },
  {
   "cell_type": "code",
   "execution_count": null,
   "metadata": {},
   "outputs": [],
   "source": [
    "# 빈 변수\n",
    "x = None # 변수는 만들어졌지만 값을 들어있지 않은 상태\n",
    "x"
   ]
  },
  {
   "cell_type": "code",
   "execution_count": null,
   "metadata": {},
   "outputs": [],
   "source": [
    "x = 10\n",
    "x = x+5\n",
    "x+=5\n",
    "x"
   ]
  },
  {
   "cell_type": "code",
   "execution_count": null,
   "metadata": {},
   "outputs": [],
   "source": [
    "input()"
   ]
  },
  {
   "cell_type": "code",
   "execution_count": null,
   "metadata": {},
   "outputs": [],
   "source": [
    "x = int(input('입력 : '))\n",
    "x*=3\n",
    "x\n",
    "\n",
    "# input 함수는 문자로 입력 받음 -> 수치연산을 하려면 형 변환 시켜줘야 함"
   ]
  },
  {
   "cell_type": "code",
   "execution_count": 226,
   "metadata": {},
   "outputs": [
    {
     "name": "stdout",
     "output_type": "stream",
     "text": [
      "문자열 두 개 입력 : 2 10\n",
      "2\n",
      "10\n",
      "12\n"
     ]
    }
   ],
   "source": [
    "# input에서 여러개입력 -> split 함수 사용\n",
    "x,y=input(\"문자열 두 개 입력 : \").split()\n",
    "x=int(x)\n",
    "y=int(y)\n",
    "print(x)\n",
    "print(y)\n",
    "print(x+y)"
   ]
  },
  {
   "cell_type": "code",
   "execution_count": null,
   "metadata": {},
   "outputs": [],
   "source": [
    "# print(type(input(\"문자열 두개 입력 : \").split()))\n",
    "x,y=map(int, input(\"문자열 두 개 입력 : \").split())\n",
    "# 형식 : map(함수, 데이터) => 데이터 각각에 대해서 이 함수를 적용 시켜라\n",
    "print(x+y)"
   ]
  },
  {
   "cell_type": "code",
   "execution_count": null,
   "metadata": {},
   "outputs": [],
   "source": [
    "x,y = map(int, input(\"문자열 두 개 입력 : \").split())\n",
    "print(x+y)"
   ]
  },
  {
   "cell_type": "code",
   "execution_count": null,
   "metadata": {},
   "outputs": [],
   "source": [
    "print(1,2,3,4) # 1 2 3 4\n",
    "print(\"hi\",\"hello\") # hi hello\n",
    "print(1,2,3,4, sep=\",\") # 1,2,3,4\n",
    "print(1,2,3,4, sep=\",,,\") # 1,,,2,,,3,,,4\n",
    "print(1,2,3,4, sep=\"\") # 1234\n",
    "print(1,2,3,4, sep=\"\\n\") # \\n : 제어문자(화면에 출력)\n",
    "print(\"1\\n2\\n3\")\n",
    "print(\"1\\t2\\t3\")"
   ]
  },
  {
   "cell_type": "code",
   "execution_count": null,
   "metadata": {},
   "outputs": [],
   "source": [
    "print(\"1\\\\2\") # \\ 기호는 \\\\ 작성해서 출력해야함 -> \\ 자체가 특별한 문자이기 때문"
   ]
  },
  {
   "cell_type": "code",
   "execution_count": null,
   "metadata": {},
   "outputs": [],
   "source": [
    "print(1, end=' ') # \\n 문자를 ''로 대체하라\n",
    "print(2, end=' ')\n",
    "print(3)\n",
    "print(1,2,3)"
   ]
  },
  {
   "cell_type": "code",
   "execution_count": 26,
   "metadata": {},
   "outputs": [
    {
     "data": {
      "text/plain": [
       "True"
      ]
     },
     "execution_count": 26,
     "metadata": {},
     "output_type": "execute_result"
    }
   ],
   "source": [
    "\"\"\"\n",
    "Boolean : True / False (논리 값)  by 논리 연산자\n",
    "\"\"\"\n",
    "\n",
    "2>1\n",
    "2==1\n",
    "2!=1\n",
    "\"test\" == \"text\"\n",
    "\"python\" == \"python\"\n",
    "1==1.0 # 1->1.0으로 변환되고 1.0과 같냐 비교 --> true\n",
    "1 is 1.0 # 정수 1의 객체 == 실수 1.0의 객체 --> false\n",
    "1 is not 1.0"
   ]
  },
  {
   "cell_type": "code",
   "execution_count": null,
   "metadata": {},
   "outputs": [],
   "source": [
    "\"\"\"\n",
    "Class : 건축 설계도, 붕어빵 기계, 자동차 공장\n",
    "object : 건물, 붕어빵, 자동차\n",
    "attribute : 건물의 특성(층, 평수... ), 붕어빵의 특성(내용물, 크기,...)\n",
    "method : 건물의 동작, 붕어빵의 동작, 달린다 / 멈춘다 ...\n",
    "inheritance : 유사한 건물 설계시 기존 건축 설계도의 재사용\n",
    "\"\"\"\n",
    "아빠 -> 코골이 -> 자식(이를 간다) -> 자식(코골이, 이를 간다, 잠꼬대)"
   ]
  },
  {
   "cell_type": "code",
   "execution_count": 9,
   "metadata": {},
   "outputs": [
    {
     "data": {
      "text/plain": [
       "True"
      ]
     },
     "execution_count": 9,
     "metadata": {},
     "output_type": "execute_result"
    }
   ],
   "source": [
    "# 논리연산 : and or not\n",
    "# and : 모두 참 => 참\n",
    "True and True\n",
    "True and False\n",
    "# or : 적어도 하나 이상 참 => 참\n",
    "\n",
    "False or False\n",
    "False or True\n",
    "# not : 논리값 반대로 뒤집는 연산자\n",
    "not True\n",
    "not True and False or not False\n",
    "((not True) and False) or (not False)"
   ]
  },
  {
   "cell_type": "code",
   "execution_count": 11,
   "metadata": {},
   "outputs": [
    {
     "data": {
      "text/plain": [
       "True"
      ]
     },
     "execution_count": 11,
     "metadata": {},
     "output_type": "execute_result"
    }
   ],
   "source": [
    "1==1 and 10 !=9\n",
    "not 1 > 0   # not True => False\n",
    "not 10 > 5\n",
    "not 1 is 1.0"
   ]
  },
  {
   "cell_type": "code",
   "execution_count": 21,
   "metadata": {},
   "outputs": [
    {
     "data": {
      "text/plain": [
       "False"
      ]
     },
     "execution_count": 21,
     "metadata": {},
     "output_type": "execute_result"
    }
   ],
   "source": [
    "# bool 함수 : 정수, 실수, 문자열 => boolean type 변환\n",
    "bool(1)\n",
    "bool(0)\n",
    "bool(-1) # 정수 0을 제외한 모든 정수는 참\n",
    "\n",
    "bool(3.14)\n",
    "bool(0.00000000) # 실수 0.0을 제외한 모든 실수는 참\n",
    "bool(-3.14)\n",
    "\n",
    "bool(\"hi\")\n",
    "bool(\"\") \n",
    "bool('') # 빈 문자열인 경우 False가 나옴"
   ]
  },
  {
   "cell_type": "code",
   "execution_count": 25,
   "metadata": {},
   "outputs": [
    {
     "data": {
      "text/plain": [
       "False"
      ]
     },
     "execution_count": 25,
     "metadata": {},
     "output_type": "execute_result"
    }
   ],
   "source": [
    "False and True # False 이므로 and 뒤에 있는 True 는 실행하지 않음\n",
    "True or False # True 이므로 or 뒤에 있는 False는 실행하지 않음"
   ]
  },
  {
   "cell_type": "code",
   "execution_count": 37,
   "metadata": {},
   "outputs": [
    {
     "data": {
      "text/plain": [
       "'i ate 3 apples, so I was sick for two days.'"
      ]
     },
     "execution_count": 37,
     "metadata": {},
     "output_type": "execute_result"
    }
   ],
   "source": [
    "number = 3\n",
    "day = \"two\"\n",
    "\"I eat %d apples. \" % 3\n",
    "\"I eat %s apples.\"  % \"three\"\n",
    "\n",
    "\"I eat %d apples.\" % number\n",
    "\n",
    "\"i ate %d apples, so I was sick for %s days.\" % (number, day)\n",
    "# 두 개 이상의 값을 전달하려면 광호로 묶어서 표현해야 한다.\n",
    "# %s 는 타입과 관련없이 전달 받아서 출력해줌"
   ]
  },
  {
   "cell_type": "code",
   "execution_count": 40,
   "metadata": {},
   "outputs": [
    {
     "data": {
      "text/plain": [
       "'Error is 90%'"
      ]
     },
     "execution_count": 40,
     "metadata": {},
     "output_type": "execute_result"
    }
   ],
   "source": [
    "\"Error is %d\" % 90\n",
    "\"Error is %d%%\" % 90 # %기호 출력 -> %%"
   ]
  },
  {
   "cell_type": "code",
   "execution_count": 52,
   "metadata": {},
   "outputs": [
    {
     "name": "stdout",
     "output_type": "stream",
     "text": [
      "        higd\n",
      "     hellogd\n",
      "hi        gd\n",
      "hello     gd\n"
     ]
    }
   ],
   "source": [
    "# %10s : 10자리를 확보한 후, 오른쪽 정렬 출력\n",
    "print(\"%10sgd\" % \"hi\")\n",
    "print(\"%10sgd\" % \"hello\")\n",
    "\n",
    "# %-10s : 10자리를 확보한 후, 왼쪽 정렬 출력\n",
    "print(\"%-10sgd\" % \"hi\")\n",
    "print(\"%-10sgd\" % \"hello\") # 11번째부터 gd가 출력"
   ]
  },
  {
   "cell_type": "code",
   "execution_count": 61,
   "metadata": {},
   "outputs": [
    {
     "data": {
      "text/plain": [
       "'      3.14'"
      ]
     },
     "execution_count": 61,
     "metadata": {},
     "output_type": "execute_result"
    }
   ],
   "source": [
    "\"%.2f\" % 3.14 # %f 소수점 이하 6번째 자리까지가 default로 설정되어 있음 => .2f는 소수점 2번째 자리까지 출력하라\n",
    "\"%10.2F\" % 3.14 # 10자리를 확보한 후, 소수 이하 둘째자리까지 출력\n"
   ]
  },
  {
   "cell_type": "code",
   "execution_count": 71,
   "metadata": {},
   "outputs": [
    {
     "data": {
      "text/plain": [
       "'I ate 3 apples, so I was sick for three days.'"
      ]
     },
     "execution_count": 71,
     "metadata": {},
     "output_type": "execute_result"
    }
   ],
   "source": [
    "# format 함수를 이용한 formatting\n",
    "\"I eat %d apples\" % 3\n",
    "\"I eat {0} apples\".format(3)\n",
    "\"I eat {0} apples\".format(\"three\")\n",
    "num = 3\n",
    "\"I eat {0} apples\".format(num)\n",
    "\n",
    "\"I ate {0} apples, so I was sick for {1} days.\".format(3, \"Three\")\n",
    "\"I ate {num} apples, so I was sick for {day} days.\".format(num=3, day=\"three\")\n",
    "\"I ate {0} apples, so I was sick for {day} days.\".format(3, day=\"three\")"
   ]
  },
  {
   "cell_type": "code",
   "execution_count": 78,
   "metadata": {},
   "outputs": [
    {
     "data": {
      "text/plain": [
       "'==hello==='"
      ]
     },
     "execution_count": 78,
     "metadata": {},
     "output_type": "execute_result"
    }
   ],
   "source": [
    "\"{1} {0}\".format(\"hi\",\"hello\")\n",
    "\n",
    "# 정렬 옵션\n",
    "\"{0}\".format(\"hello\")\n",
    "\"{0:<10}\".format(\"hello\") # 10자리 확보 + 왼쪽 정렬\n",
    "\"{0:>10}\".format(\"hello\") # 10자리 확보 + 오른쪽 정렬\n",
    "\"{0:^10}\".format(\"hello\") # 10자리 확보 + 가운데 정렬\n",
    "\"{0:=^10}\".format(\"hello\") # 10자리 확보 + 가운데 정렬, =로 채워넣음\n"
   ]
  },
  {
   "cell_type": "code",
   "execution_count": 86,
   "metadata": {},
   "outputs": [
    {
     "ename": "ValueError",
     "evalue": "substring not found",
     "output_type": "error",
     "traceback": [
      "\u001b[1;31m---------------------------------------------------------------------------\u001b[0m",
      "\u001b[1;31mValueError\u001b[0m                                Traceback (most recent call last)",
      "\u001b[1;32m<ipython-input-86-b3dfcc0a9196>\u001b[0m in \u001b[0;36m<module>\u001b[1;34m\u001b[0m\n\u001b[0;32m      8\u001b[0m \u001b[1;33m\u001b[0m\u001b[0m\n\u001b[0;32m      9\u001b[0m \u001b[0mb\u001b[0m\u001b[1;33m.\u001b[0m\u001b[0mindex\u001b[0m\u001b[1;33m(\u001b[0m\u001b[1;34m'y'\u001b[0m\u001b[1;33m)\u001b[0m \u001b[1;31m# 가장 왼쪽에서부터 찾아가므로 1\u001b[0m\u001b[1;33m\u001b[0m\u001b[1;33m\u001b[0m\u001b[0m\n\u001b[1;32m---> 10\u001b[1;33m \u001b[0mb\u001b[0m\u001b[1;33m.\u001b[0m\u001b[0mindex\u001b[0m\u001b[1;33m(\u001b[0m\u001b[1;34m'k'\u001b[0m\u001b[1;33m)\u001b[0m \u001b[1;31m# 문자를 못 찾는 경우네는 error 발생\u001b[0m\u001b[1;33m\u001b[0m\u001b[1;33m\u001b[0m\u001b[0m\n\u001b[0m",
      "\u001b[1;31mValueError\u001b[0m: substring not found"
     ]
    }
   ],
   "source": [
    "a=\"hello\"\n",
    "a.count('l') # l 문자의 개수\n",
    "a.count('a') # a 문자의 개수\n",
    "\n",
    "b=\"Python is very easy.\"\n",
    "b.find('y') # 가장 왼쪽에서부터 찾아가므로 1이 나옴 , 처음 만난 y의 위치를 return\n",
    "b.find('k') # 문자를 못 찾는 경우에는 -1을 return\n",
    "\n",
    "b.index('y') # 가장 왼쪽에서부터 찾아가므로 1\n",
    "b.index('k') # 문자를 못 찾는 경우네는 error 발생"
   ]
  },
  {
   "cell_type": "code",
   "execution_count": 229,
   "metadata": {},
   "outputs": [
    {
     "data": {
      "text/plain": [
       "'m$u$l$t$i'"
      ]
     },
     "execution_count": 229,
     "metadata": {},
     "output_type": "execute_result"
    }
   ],
   "source": [
    "\"#\".join(\"hello\")\n",
    "# 리스트 : 대 괄호([])로 표현, 자료를 나열하고자 할 때 사용하는 자료구조\n",
    "\"$\".join(['m','u','l','t','i'])"
   ]
  },
  {
   "cell_type": "code",
   "execution_count": 95,
   "metadata": {},
   "outputs": [
    {
     "data": {
      "text/plain": [
       "'TEST'"
      ]
     },
     "execution_count": 95,
     "metadata": {},
     "output_type": "execute_result"
    }
   ],
   "source": [
    "#자연어처리에서 'test', 'TEST', 'Test' => 일괄적으로 동일한 형태로 치환해줘야 함 // 전부 소문자 or 대문자로 통일\n",
    "a='Test'\n",
    "a.lower() # 소문자로 변환\n",
    "a.upper() # 대문자로 변환"
   ]
  },
  {
   "cell_type": "code",
   "execution_count": 100,
   "metadata": {},
   "outputs": [
    {
     "data": {
      "text/plain": [
       "' hello'"
      ]
     },
     "execution_count": 100,
     "metadata": {},
     "output_type": "execute_result"
    }
   ],
   "source": [
    "# strip함수 : 양쪽 공백 제거\n",
    "# lstrip 함수 : 왼쪽 공백 제거\n",
    "# rstrip 함수 : 오른쪽 공백 제거\n",
    "word=\" hello      \"\n",
    "word.rstrip()"
   ]
  },
  {
   "cell_type": "code",
   "execution_count": 254,
   "metadata": {},
   "outputs": [
    {
     "name": "stdout",
     "output_type": "stream",
     "text": [
      "대한민국 한국 코리아\n"
     ]
    },
    {
     "data": {
      "text/plain": [
       "'대한민국 대한민국 코리아'"
      ]
     },
     "execution_count": 254,
     "metadata": {},
     "output_type": "execute_result"
    }
   ],
   "source": [
    "# replace 함수 : 문자열을 대체\n",
    "# 대한민국, 한국, 코리아, 조선, 고려, 우리나라 ===> 대한민국으로 다 바꾸려고 할때\n",
    "x=\"대한민국 한국 코리아\"\n",
    "print(x)\n",
    "x.replace(\"한국\",\"대한민국\")\n"
   ]
  },
  {
   "cell_type": "code",
   "execution_count": 108,
   "metadata": {},
   "outputs": [
    {
     "data": {
      "text/plain": [
       "['a?b', 'c?d']"
      ]
     },
     "execution_count": 108,
     "metadata": {},
     "output_type": "execute_result"
    }
   ],
   "source": [
    "x=\"a?b$c?d\"\n",
    "x.split(\"?\") # split을 하면 list형태로 저장됨\n",
    "x.split(\"$\")"
   ]
  },
  {
   "cell_type": "code",
   "execution_count": 116,
   "metadata": {},
   "outputs": [
    {
     "data": {
      "text/plain": [
       "3"
      ]
     },
     "execution_count": 116,
     "metadata": {},
     "output_type": "execute_result"
    }
   ],
   "source": [
    "\"\"\"\n",
    "리스트 : 데이터 타입에 괜계없이 저장을 할 수 있다.\n",
    "\"\"\"\n",
    "x1=[] # 빈 리스트\n",
    "x1\n",
    "x2=[1,2,3]\n",
    "x2\n",
    "x3=['programing','is','very','easy']\n",
    "x3\n",
    "x4=[1,2,'is','very']\n",
    "x4\n",
    "x5=[1,2,['is','very']] # 리스트의 요소로 리스트가 올 수 있다. 리스트 내부에는 어떠한 자료형도 모두 포함될 수 있다.\n",
    "x5\n",
    "a=list() # a = []\n",
    "a\n",
    "a=[1,2,3]\n",
    "a[0]\n",
    "a[-1] # 리스트에 저장되어 있는 마지막 요소"
   ]
  },
  {
   "cell_type": "code",
   "execution_count": 131,
   "metadata": {},
   "outputs": [
    {
     "data": {
      "text/plain": [
       "'c'"
      ]
     },
     "execution_count": 131,
     "metadata": {},
     "output_type": "execute_result"
    }
   ],
   "source": [
    "x=[1,2,3,['a','b','c']]\n",
    "\"\"\"\n",
    "x리스트에서 1을 참조하여 출력\n",
    "\"\"\"\n",
    "x[0]\n",
    "\"\"\"\n",
    "x리스트에서 abc를 참조하여 출력\n",
    "\"\"\"\n",
    "x[3]\n",
    "# 리스트의 리스트를 참조\n",
    "# a를 참조\n",
    "x[3][0]\n",
    "# c를 참조\n",
    "x[3][-1]\n",
    "x[-1][-1]"
   ]
  },
  {
   "cell_type": "code",
   "execution_count": 143,
   "metadata": {},
   "outputs": [
    {
     "data": {
      "text/plain": [
       "[['a', 'b', ['Python', 'is']]]"
      ]
     },
     "execution_count": 143,
     "metadata": {},
     "output_type": "execute_result"
    }
   ],
   "source": [
    "# 삼중 리스트\n",
    "\n",
    "x=[1,2,['a','b',['Python','is']]]\n",
    "\n",
    "x[2][2][0]\n",
    "\n",
    "x[0:3] # x변수에 저장된 데이터의 0번~3-1번 index 데이터 추출\n",
    "x[0:2]\n",
    "x[:2] # 시작위치를 생략하면 기본적으로 0번 부터 시작함\n",
    "x[2:]"
   ]
  },
  {
   "cell_type": "code",
   "execution_count": 150,
   "metadata": {},
   "outputs": [
    {
     "data": {
      "text/plain": [
       "['a', 'b']"
      ]
     },
     "execution_count": 150,
     "metadata": {},
     "output_type": "execute_result"
    }
   ],
   "source": [
    "x2=[1,2,3,['a','b','c'],4,5]\n",
    "x2\n",
    "\n",
    "x2[2:] # 3,['a','b','c'],4,5\n",
    "x2[3][:2] # ['a','b']"
   ]
  },
  {
   "cell_type": "code",
   "execution_count": 154,
   "metadata": {},
   "outputs": [
    {
     "data": {
      "text/plain": [
       "'ㅋㅋㅋㅋㅋㅋㅋㅋㅋㅋㅋㅋㅋㅋㅋㅋㅋㅋㅋㅋㅋㅋㅋㅋㅋㅋㅋㅋㅋㅋㅋㅋㅋㅋㅋㅋㅋㅋㅋㅋㅋㅋㅋㅋㅋㅋㅋㅋㅋㅋㅋㅋㅋㅋㅋㅋㅋㅋㅋㅋㅋㅋㅋㅋㅋㅋㅋㅋㅋㅋㅋㅋㅋㅋㅋㅋㅋㅋㅋㅋㅋㅋㅋㅋㅋㅋㅋㅋㅋㅋㅋㅋㅋㅋㅋㅋㅋㅋㅋㅋ'"
      ]
     },
     "execution_count": 154,
     "metadata": {},
     "output_type": "execute_result"
    }
   ],
   "source": [
    "x=[1,2,3]\n",
    "y=[4,5,6]\n",
    "x+y # list + list => 두 개의 리스트가 한개의 list로 연결 되어 짐\n",
    "\"hi\"+\"hello\"\n",
    "x=[9,8,7]\n",
    "x*3\n",
    "\"ㅋ\"*100"
   ]
  },
  {
   "cell_type": "code",
   "execution_count": 156,
   "metadata": {},
   "outputs": [
    {
     "data": {
      "text/plain": [
       "5"
      ]
     },
     "execution_count": 156,
     "metadata": {},
     "output_type": "execute_result"
    }
   ],
   "source": [
    "x=[1,2,3]\n",
    "len(x)\n",
    "len(\"hello\")"
   ]
  },
  {
   "cell_type": "code",
   "execution_count": 159,
   "metadata": {},
   "outputs": [
    {
     "data": {
      "text/plain": [
       "'3hi'"
      ]
     },
     "execution_count": 159,
     "metadata": {},
     "output_type": "execute_result"
    }
   ],
   "source": [
    "a=[1,2,3]\n",
    "str(a[2])+\"hi\""
   ]
  },
  {
   "cell_type": "code",
   "execution_count": 173,
   "metadata": {},
   "outputs": [
    {
     "data": {
      "text/plain": [
       "[13, 11, 9, 7, 5, 3, 1, -1]"
      ]
     },
     "execution_count": 173,
     "metadata": {},
     "output_type": "execute_result"
    }
   ],
   "source": [
    "# a=[0,1,2,3,4,5,6,7,8,9....]\n",
    "range(5) # 0~4 까지 연속된 숫자 생성\n",
    "list(range(100))\n",
    "list(range(3,12)) # 범위 내에 출력\n",
    "list(range(3,12,2)) # 2씩 증가\n",
    "list(range(13, -2, -2))\n"
   ]
  },
  {
   "cell_type": "code",
   "execution_count": 177,
   "metadata": {},
   "outputs": [
    {
     "data": {
      "text/plain": [
       "[1, 10]"
      ]
     },
     "execution_count": 177,
     "metadata": {},
     "output_type": "execute_result"
    }
   ],
   "source": [
    "a=[1,2,3]\n",
    "a[2] = 10\n",
    "a\n",
    "\n",
    "del a[1]\n",
    "a"
   ]
  },
  {
   "cell_type": "code",
   "execution_count": 186,
   "metadata": {},
   "outputs": [
    {
     "data": {
      "text/plain": [
       "[1, 2, 3, 4, 5, 6]"
      ]
     },
     "execution_count": 186,
     "metadata": {},
     "output_type": "execute_result"
    }
   ],
   "source": [
    "# 1~10까지 숫자가 저장된 리스트를 생성\n",
    "a = list(range(1,11))\n",
    "del a[6:]\n",
    "a"
   ]
  },
  {
   "cell_type": "code",
   "execution_count": 188,
   "metadata": {},
   "outputs": [
    {
     "data": {
      "text/plain": [
       "[1, 2, 6]"
      ]
     },
     "execution_count": 188,
     "metadata": {},
     "output_type": "execute_result"
    }
   ],
   "source": [
    "del a[2:-1]\n",
    "a"
   ]
  },
  {
   "cell_type": "code",
   "execution_count": 191,
   "metadata": {},
   "outputs": [
    {
     "data": {
      "text/plain": [
       "[1, 2, 3, 5, [6, 7]]"
      ]
     },
     "execution_count": 191,
     "metadata": {},
     "output_type": "execute_result"
    }
   ],
   "source": [
    "# 리스트변수명.함수명()\n",
    "a=[1,2,3]\n",
    "x=5\n",
    "a.append(x)\n",
    "a\n",
    "\n",
    "b=[6,7]\n",
    "a.append(b)\n",
    "a\n",
    "\n",
    "# 자료구조에 따라 사용 가능한 함수가 다르다(공통 사용 가능 함수도 있부 있다)\n",
    "# 자료구조(리스트, 튜플, 딕셔너리, 셋...)\n",
    "\n",
    "# Python.org\n",
    "# 리스트(객체). 함수() \n",
    "# 딕녀서닐(객체).함수() \n",
    "# 문자열(객체).함수() \n",
    "\n",
    "# 자동차객체 -> 달린다(), 멈춘다() ...\n",
    "\n",
    "# 클래스 : 사람\n",
    "# 홍길동객체 : 먹는다(), 잔다(), ...\n",
    "# 홍길순객체 : 먹는다(), 잔다(), ... "
   ]
  },
  {
   "cell_type": "code",
   "execution_count": 199,
   "metadata": {},
   "outputs": [
    {
     "data": {
      "text/plain": [
       "['z', 'k', 'a']"
      ]
     },
     "execution_count": 199,
     "metadata": {},
     "output_type": "execute_result"
    }
   ],
   "source": [
    "a=[2,1,4,3] \n",
    "# a.sort() # 오름차순 정렬\n",
    "a.sort()\n",
    "a.reverse()\n",
    "a\n",
    "\n",
    "a=['k','a','z']\n",
    "a.sort()\n",
    "a\n",
    "\n",
    "a.reverse()\n",
    "a"
   ]
  },
  {
   "cell_type": "code",
   "execution_count": 203,
   "metadata": {},
   "outputs": [
    {
     "ename": "ValueError",
     "evalue": "1 is not in list",
     "output_type": "error",
     "traceback": [
      "\u001b[1;31m---------------------------------------------------------------------------\u001b[0m",
      "\u001b[1;31mValueError\u001b[0m                                Traceback (most recent call last)",
      "\u001b[1;32m<ipython-input-203-8da403462cab>\u001b[0m in \u001b[0;36m<module>\u001b[1;34m\u001b[0m\n\u001b[0;32m      2\u001b[0m \u001b[0ma\u001b[0m\u001b[1;33m.\u001b[0m\u001b[0mindex\u001b[0m\u001b[1;33m(\u001b[0m\u001b[1;36m20\u001b[0m\u001b[1;33m)\u001b[0m \u001b[1;31m# 20이 저장되어 있는 요소의 위치 return\u001b[0m\u001b[1;33m\u001b[0m\u001b[1;33m\u001b[0m\u001b[0m\n\u001b[0;32m      3\u001b[0m \u001b[1;31m#a.find(20)\u001b[0m\u001b[1;33m\u001b[0m\u001b[1;33m\u001b[0m\u001b[1;33m\u001b[0m\u001b[0m\n\u001b[1;32m----> 4\u001b[1;33m \u001b[0ma\u001b[0m\u001b[1;33m.\u001b[0m\u001b[0mindex\u001b[0m\u001b[1;33m(\u001b[0m\u001b[1;36m1\u001b[0m\u001b[1;33m)\u001b[0m\u001b[1;33m\u001b[0m\u001b[1;33m\u001b[0m\u001b[0m\n\u001b[0m",
      "\u001b[1;31mValueError\u001b[0m: 1 is not in list"
     ]
    }
   ],
   "source": [
    "a=[10,20,30]\n",
    "a.index(20) # 20이 저장되어 있는 요소의 위치 return\n",
    "#a.find(20)\n",
    "a.index(1)"
   ]
  },
  {
   "cell_type": "code",
   "execution_count": 209,
   "metadata": {},
   "outputs": [
    {
     "data": {
      "text/plain": [
       "[100, 1, 2, 5, 3]"
      ]
     },
     "execution_count": 209,
     "metadata": {},
     "output_type": "execute_result"
    }
   ],
   "source": [
    "a=[1,2,3]\n",
    "a.insert(0, 100) # 0번 index 위치에 100 추가\n",
    "a\n",
    "a.insert(3, 5)\n",
    "a"
   ]
  },
  {
   "cell_type": "code",
   "execution_count": 210,
   "metadata": {},
   "outputs": [
    {
     "data": {
      "text/plain": [
       "[3, 5, 7]"
      ]
     },
     "execution_count": 210,
     "metadata": {},
     "output_type": "execute_result"
    }
   ],
   "source": [
    "a = [3,7,5]\n",
    "a.sort()\n",
    "a"
   ]
  },
  {
   "cell_type": "code",
   "execution_count": 211,
   "metadata": {},
   "outputs": [
    {
     "data": {
      "text/plain": [
       "['a', 'j', 'k']"
      ]
     },
     "execution_count": 211,
     "metadata": {},
     "output_type": "execute_result"
    }
   ],
   "source": [
    "b=['k','j','a']\n",
    "b.reverse()\n",
    "b # reverse는 역순으로 출력해주는 함수\n"
   ]
  },
  {
   "cell_type": "code",
   "execution_count": 214,
   "metadata": {},
   "outputs": [],
   "source": [
    "a=[1,2,3,1,2,3]\n",
    "a.remove(3)"
   ]
  },
  {
   "cell_type": "code",
   "execution_count": 215,
   "metadata": {},
   "outputs": [
    {
     "data": {
      "text/plain": [
       "[1, 2, 1, 2, 3]"
      ]
     },
     "execution_count": 215,
     "metadata": {},
     "output_type": "execute_result"
    }
   ],
   "source": [
    "a # 처음 만나는 3만 제거"
   ]
  },
  {
   "cell_type": "code",
   "execution_count": 216,
   "metadata": {},
   "outputs": [
    {
     "data": {
      "text/plain": [
       "40"
      ]
     },
     "execution_count": 216,
     "metadata": {},
     "output_type": "execute_result"
    }
   ],
   "source": [
    "a=[10,20,30,40]\n",
    "a.pop() # 가장 마지막에 저장된 요소를 제거(꺼내는) 작업"
   ]
  },
  {
   "cell_type": "code",
   "execution_count": 217,
   "metadata": {},
   "outputs": [
    {
     "data": {
      "text/plain": [
       "[10, 20, 30]"
      ]
     },
     "execution_count": 217,
     "metadata": {},
     "output_type": "execute_result"
    }
   ],
   "source": [
    "a"
   ]
  },
  {
   "cell_type": "code",
   "execution_count": 218,
   "metadata": {},
   "outputs": [
    {
     "data": {
      "text/plain": [
       "20"
      ]
     },
     "execution_count": 218,
     "metadata": {},
     "output_type": "execute_result"
    }
   ],
   "source": [
    "a.pop(1) # 1번 index의 저장되어 있는 자료가 pop되어 짐"
   ]
  },
  {
   "cell_type": "code",
   "execution_count": 219,
   "metadata": {},
   "outputs": [
    {
     "data": {
      "text/plain": [
       "[10, 30]"
      ]
     },
     "execution_count": 219,
     "metadata": {},
     "output_type": "execute_result"
    }
   ],
   "source": [
    "a"
   ]
  },
  {
   "cell_type": "code",
   "execution_count": 221,
   "metadata": {},
   "outputs": [
    {
     "data": {
      "text/plain": [
       "0"
      ]
     },
     "execution_count": 221,
     "metadata": {},
     "output_type": "execute_result"
    }
   ],
   "source": [
    "a=[1,2,3,1]\n",
    "a.count(1)\n",
    "a.count(0)"
   ]
  },
  {
   "cell_type": "code",
   "execution_count": 222,
   "metadata": {},
   "outputs": [
    {
     "data": {
      "text/plain": [
       "[1, 2, 3, [4, 5]]"
      ]
     },
     "execution_count": 222,
     "metadata": {},
     "output_type": "execute_result"
    }
   ],
   "source": [
    "a=[1,2,3]\n",
    "b=[4,5]\n",
    "a.append(b)\n",
    "a"
   ]
  },
  {
   "cell_type": "code",
   "execution_count": 223,
   "metadata": {},
   "outputs": [
    {
     "data": {
      "text/plain": [
       "[1, 2, 3, 4, 5]"
      ]
     },
     "execution_count": 223,
     "metadata": {},
     "output_type": "execute_result"
    }
   ],
   "source": [
    "a=[1,2,3]\n",
    "b=[4,5]\n",
    "a.extend(b)\n",
    "a"
   ]
  },
  {
   "cell_type": "code",
   "execution_count": 224,
   "metadata": {},
   "outputs": [
    {
     "data": {
      "text/plain": [
       "[1, 2, 3, 4, 5, 6, 7]"
      ]
     },
     "execution_count": 224,
     "metadata": {},
     "output_type": "execute_result"
    }
   ],
   "source": [
    "a.extend([6,7])\n",
    "a"
   ]
  },
  {
   "cell_type": "code",
   "execution_count": 225,
   "metadata": {},
   "outputs": [
    {
     "data": {
      "text/plain": [
       "[1, 2, 3, 4, 5, 6, 7, 8, 9]"
      ]
     },
     "execution_count": 225,
     "metadata": {},
     "output_type": "execute_result"
    }
   ],
   "source": [
    "a+=[8,9]\n",
    "a"
   ]
  },
  {
   "cell_type": "code",
   "execution_count": null,
   "metadata": {},
   "outputs": [],
   "source": []
  },
  {
   "cell_type": "code",
   "execution_count": 241,
   "metadata": {},
   "outputs": [
    {
     "name": "stdout",
     "output_type": "stream",
     "text": [
      "[9, 2, 1, 1, 0, 1]\n",
      "[1, 2, 3, 1, 2, 3, 4]\n"
     ]
    }
   ],
   "source": [
    "# 주민번호 921101-1231234에서 연월일과 그 뒤의 숫자 부분을 나누어 출력하시오\n",
    "# ex) 821101 1231234\n",
    "\n",
    "\n",
    "x=[9,2,1,1,0,1,\"-\",1,2,3,1,2,3,4]\n",
    "print(x[0:6])\n",
    "print(x[7:])"
   ]
  },
  {
   "cell_type": "code",
   "execution_count": 242,
   "metadata": {},
   "outputs": [
    {
     "name": "stdout",
     "output_type": "stream",
     "text": [
      "[1]\n"
     ]
    }
   ],
   "source": [
    "# 주민번호 921101-1231234에서 성별을 나내는 숫자를 출력하시오\n",
    "x=[9,2,1,1,0,1,\"-\",1,2,3,1,2,3,4]\n",
    "print(x[7:8])"
   ]
  },
  {
   "cell_type": "code",
   "execution_count": 260,
   "metadata": {},
   "outputs": [
    {
     "data": {
      "text/plain": [
       "'a#b#c#d'"
      ]
     },
     "execution_count": 260,
     "metadata": {},
     "output_type": "execute_result"
    }
   ],
   "source": [
    "# 문자열 a:b:c:d -> a#b#c#c#d로 변경\n",
    "a=\"a:b:c:d\"\n",
    "a\n",
    "a.replace(\":\",\"#\")"
   ]
  },
  {
   "cell_type": "code",
   "execution_count": 261,
   "metadata": {},
   "outputs": [
    {
     "data": {
      "text/plain": [
       "'How are you'"
      ]
     },
     "execution_count": 261,
     "metadata": {},
     "output_type": "execute_result"
    }
   ],
   "source": [
    "# [\"how\",\"are\",\"you] 리스트에서 join 함수를 이용하여 How are you를 출력하시오\n",
    "\" \".join([\"How\",\"are\",\"you\"])"
   ]
  },
  {
   "cell_type": "code",
   "execution_count": 272,
   "metadata": {},
   "outputs": [
    {
     "data": {
      "text/plain": [
       "[5, 3, 1, -1, -3]"
      ]
     },
     "execution_count": 272,
     "metadata": {},
     "output_type": "execute_result"
    }
   ],
   "source": [
    "# 리스트 [5,3,1,-1,-3] 출력되도록 코드를 작성하시오(range 함수 적용)\n",
    "\n",
    "list(range(5,-4,-2))"
   ]
  },
  {
   "cell_type": "code",
   "execution_count": 268,
   "metadata": {},
   "outputs": [
    {
     "data": {
      "text/plain": [
       "4000"
      ]
     },
     "execution_count": 268,
     "metadata": {},
     "output_type": "execute_result"
    }
   ],
   "source": [
    "# 1부터 10000까지 8이라는 숫자가 총 몇번 나오는가?\n",
    "# 8이라는 숫자를 모두 카운팅 // 8808은 3, 8888 4로 카운팅\n",
    "\n",
    "x = str(list(range(10000)))\n",
    "x.count(\"8\")\n"
   ]
  },
  {
   "cell_type": "code",
   "execution_count": null,
   "metadata": {},
   "outputs": [],
   "source": []
  }
 ],
 "metadata": {
  "kernelspec": {
   "display_name": "Python 3",
   "language": "python",
   "name": "python3"
  },
  "language_info": {
   "codemirror_mode": {
    "name": "ipython",
    "version": 3
   },
   "file_extension": ".py",
   "mimetype": "text/x-python",
   "name": "python",
   "nbconvert_exporter": "python",
   "pygments_lexer": "ipython3",
   "version": "3.7.4"
  }
 },
 "nbformat": 4,
 "nbformat_minor": 2
}
