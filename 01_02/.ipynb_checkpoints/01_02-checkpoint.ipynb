{
 "cells": [
  {
   "cell_type": "code",
   "execution_count": 6,
   "metadata": {},
   "outputs": [],
   "source": [
    "from bs4 import BeautifulSoup"
   ]
  },
  {
   "cell_type": "code",
   "execution_count": 9,
   "metadata": {},
   "outputs": [],
   "source": [
    "html=\"\"\"\n",
    "<html><body>\n",
    "<h1>스크래핑</h1>\n",
    "<p>웹 페이지 분석</p>\n",
    "<p>원하는 부분 추출</p>\n",
    "</body></html>\n",
    "\"\"\"\n",
    "# <p> 2개는 형제 태그라고 함 => 같은 level로 감싸져 있다.\n",
    "\n",
    "soup = BeautifulSoup(html, \"html.parser\") # html 파일 , 분석기\n",
    "# html 문서 분석"
   ]
  },
  {
   "cell_type": "code",
   "execution_count": 31,
   "metadata": {},
   "outputs": [],
   "source": [
    "h1 = soup.html.body.h1\n",
    "p1 = soup.html.body.p # 가장 처음으로 만나는 p 태그 추출\n",
    "p2 = p1.next_sibling.next_sibling\n",
    "# p1 -> \\n -> 형제태그로 이동됨"
   ]
  },
  {
   "cell_type": "code",
   "execution_count": 35,
   "metadata": {},
   "outputs": [
    {
     "data": {
      "text/plain": [
       "'원하는 부분 추출'"
      ]
     },
     "execution_count": 35,
     "metadata": {},
     "output_type": "execute_result"
    }
   ],
   "source": [
    "h1.string\n",
    "p1.string\n",
    "p2.string\n",
    "# .string -> 태그로 묶여 있는 안쪽에 내용을 출력"
   ]
  },
  {
   "cell_type": "code",
   "execution_count": 37,
   "metadata": {},
   "outputs": [],
   "source": [
    "# find 함수 : id를 이용하여 직접 접근 가능\n",
    "html=\"\"\"\n",
    "<html><body>\n",
    "<h1 id=\"title\">스크래핑</h1>\n",
    "<p id=\"body\">웹 페이지 분석</p>\n",
    "<p>원하는 부분 추출</p>\n",
    "</body></html>\n",
    "\"\"\"\n",
    "# <p> 2개는 형제 태그라고 함 => 같은 level로 감싸져 있다.\n",
    "\n",
    "soup = BeautifulSoup(html, \"html.parser\") # html 파일 , 분석기\n",
    "# html 문서 분석"
   ]
  },
  {
   "cell_type": "code",
   "execution_count": 43,
   "metadata": {},
   "outputs": [
    {
     "name": "stdout",
     "output_type": "stream",
     "text": [
      "title=스크래핑\n",
      "body=웹 페이지 분석\n"
     ]
    }
   ],
   "source": [
    "title=soup.find(id=\"title\")\n",
    "body=soup.find(id=\"body\")\n",
    "print(\"title=\"+title.string)\n",
    "print(\"body=\"+body.string)"
   ]
  },
  {
   "cell_type": "code",
   "execution_count": 56,
   "metadata": {},
   "outputs": [],
   "source": [
    "# find_all() : 여러 개의 태그를 한번에 추출\n",
    "html=\"\"\"\n",
    "<html><body>\n",
    "<ul>\n",
    "<li><a href=\"http://www.naver.com\">naver</a></li>\n",
    "<li><a href=\"http://www.daum.net\">daum</a></li>\n",
    "</ul>\n",
    "</body></html>\n",
    "\"\"\""
   ]
  },
  {
   "cell_type": "code",
   "execution_count": 60,
   "metadata": {},
   "outputs": [
    {
     "name": "stdout",
     "output_type": "stream",
     "text": [
      "naver -> http://www.naver.com\n",
      "daum -> http://www.daum.net\n"
     ]
    },
    {
     "data": {
      "text/plain": [
       "\n",
       "<html><body>\n",
       "<ul>\n",
       "<li><a href=\"http://www.naver.com\">naver</a></li>\n",
       "<li><a href=\"http://www.daum.net\">daum</a></li>\n",
       "</ul>\n",
       "</body></html>"
      ]
     },
     "execution_count": 60,
     "metadata": {},
     "output_type": "execute_result"
    }
   ],
   "source": [
    "soup = BeautifulSoup(html, \"html.parser\")\n",
    "links=soup.find_all(\"a\")\n",
    "\n",
    "for a in links:\n",
    "    if \"href\" in a.attrs:     # a.attrs 에 href가 있다면?\n",
    "        href=a.attrs['href']\n",
    "        text=a.string\n",
    "        print(text, \"->\", href)\n",
    "    # print(href)\n",
    "    \n",
    "soup"
   ]
  },
  {
   "cell_type": "code",
   "execution_count": 61,
   "metadata": {},
   "outputs": [],
   "source": [
    "# 기상예보에서 특정 내용 추출"
   ]
  },
  {
   "cell_type": "code",
   "execution_count": 309,
   "metadata": {},
   "outputs": [],
   "source": [
    "import urllib.request as req"
   ]
  },
  {
   "cell_type": "code",
   "execution_count": 310,
   "metadata": {},
   "outputs": [],
   "source": [
    "url = \"http://www.weather.go.kr/weather/forecast/mid-term-rss3.jsp\""
   ]
  },
  {
   "cell_type": "code",
   "execution_count": 311,
   "metadata": {},
   "outputs": [
    {
     "name": "stdout",
     "output_type": "stream",
     "text": [
      "기압골의 영향으로 일부터 일 사이에 전국에 비 또는 눈이 오겠고 제주도는 일에도 비가 오겠습니다 한편 동풍의 영향으로 일은 강원영동에 비 또는 눈이 오겠습니다 그 밖의 날은 고기압의 가장자리에 들어 가끔 구름많겠습니다 기온은 평년 최저기온 최고기온 보다 높겠습니다 강수량은 평년 보다 많겠습니다 "
     ]
    }
   ],
   "source": [
    "res=req.urlopen(url)\n",
    "soup=BeautifulSoup(res,\"html.parser\")\n",
    "soup\n",
    "# title 검색\n",
    "# soup.title.string\n",
    "title = soup.find(\"title\").string\n",
    "title\n",
    "#wf 태그값 추출\n",
    "wf = soup.find(\"wf\").string\n",
    "wf\n",
    "# 오후 : 숫자, 영문자 포함해서 특수문자 모두 제거(한글 제외) -> 이 상태에서\n",
    "import re\n",
    "res=re.compile(\"[가-힣]+\")\n",
    "search=res.findall(wf)\n",
    "for i in search:\n",
    "    print(i, end=\" \")\n"
   ]
  },
  {
   "cell_type": "code",
   "execution_count": null,
   "metadata": {},
   "outputs": [],
   "source": [
    "# css 선택자(크롬->개발자도구->객체선택->copy selector) 사용\n",
    "# soup.select_one(선택자) : 선택자로 지정된 요소 하나를 추출\n",
    "# soup.select(선택자) : 선택자로 지정된 여러개의 요소를 추출\n"
   ]
  },
  {
   "cell_type": "code",
   "execution_count": 104,
   "metadata": {},
   "outputs": [],
   "source": [
    "html=\"\"\"\n",
    "<html><body>\n",
    "<div id=\"myid\">\n",
    "<h1>2020년</h1>\n",
    "<ul class=\"day\">\n",
    "<li>월요일</li>\n",
    "<li>화요일</li>\n",
    "<li>수요일</li>\n",
    "<ul>\n",
    "</div>\n",
    "<body></html>\n",
    "\"\"\""
   ]
  },
  {
   "cell_type": "code",
   "execution_count": 175,
   "metadata": {},
   "outputs": [
    {
     "name": "stdout",
     "output_type": "stream",
     "text": [
      "2020년\n",
      "<li>월요일</li>\n",
      "월요일\n",
      "화요일\n",
      "수요일\n"
     ]
    }
   ],
   "source": [
    "soup=BeautifulSoup(html,\"html.parser\")\n",
    "# soup.select_one(\"div#myid > h1\")\n",
    "print(soup.select_one(\"div#myid > h1\").string)\n",
    "\n",
    "print(soup.select_one(\"div#myid > ul.day > li\"))\n",
    "myList=soup.select(\"div#myid > ul.day > li\")\n",
    "for a in myList:\n",
    "    print(a.string)\n",
    "\n",
    "\n"
   ]
  },
  {
   "cell_type": "code",
   "execution_count": 162,
   "metadata": {
    "scrolled": true
   },
   "outputs": [
    {
     "name": "stdout",
     "output_type": "stream",
     "text": [
      "55,400.00\n"
     ]
    }
   ],
   "source": [
    "import urllib.request as req\n",
    "from bs4 import BeautifulSoup\n",
    "url = \"https://finance.yahoo.com/quote/005930.KS?p=005930.KS&.tsrc=fin-srch\"\n",
    "res=req.urlopen(url)\n",
    "soup=BeautifulSoup(res, \"html.parser\")\n",
    "p=soup.select_one(\"#quote-header-info > div.My\\(6px\\).Pos\\(r\\).smartphone_Mt\\(6px\\)\")\n",
    "span = p.select_one(\"span\").text\n",
    "print(span)"
   ]
  },
  {
   "cell_type": "code",
   "execution_count": 189,
   "metadata": {},
   "outputs": [
    {
     "name": "stdout",
     "output_type": "stream",
     "text": [
      "서시\n",
      "자화상\n",
      "소년\n",
      "눈 오는 지도\n",
      "돌아와 보는 밤\n",
      "병원\n",
      "새로운 길\n",
      "간판 없는 거리\n",
      "태초의 아침\n",
      "또 태초의 아침\n",
      "새벽이 올 때까지\n",
      "무서운 시간\n",
      "십자가\n",
      "바람이 불어\n",
      "슬픈 족속\n",
      "눈감고 간다\n",
      "또 다른 고향\n",
      "길\n",
      "별 헤는 밤\n"
     ]
    }
   ],
   "source": [
    "#mw-content-text > div > ul:nth-child(6) > li\n",
    "\n",
    "url = \"https://ko.wikisource.org/wiki/%EC%A0%80%EC%9E%90:%EC%9C%A4%EB%8F%99%EC%A3%BC\"\n",
    "res=req.urlopen(url)\n",
    "soup=BeautifulSoup(res,\"html.parser\")\n",
    "p=soup.select_one(\"#mw-content-text > div > ul:nth-child(6) > li > ul\").text\n",
    "# li > a: li 태그 내부에 있는 a 태그\n",
    "# li a : 모든 li 타그 내에 있는 a 태그\n",
    "\n",
    "print(p)"
   ]
  },
  {
   "cell_type": "code",
   "execution_count": 194,
   "metadata": {},
   "outputs": [
    {
     "name": "stdout",
     "output_type": "stream",
     "text": [
      "서시\n",
      "자화상\n",
      "소년\n",
      "눈 오는 지도\n",
      "돌아와 보는 밤\n",
      "병원\n",
      "새로운 길\n",
      "간판 없는 거리\n",
      "태초의 아침\n",
      "또 태초의 아침\n",
      "새벽이 올 때까지\n",
      "무서운 시간\n",
      "십자가\n",
      "바람이 불어\n",
      "슬픈 족속\n",
      "눈감고 간다\n",
      "또 다른 고향\n",
      "길\n",
      "별 헤는 밤\n"
     ]
    }
   ],
   "source": [
    "#mw-content-text > div > ul:nth-child(6) > li\n",
    "\n",
    "url = \"https://ko.wikisource.org/wiki/%EC%A0%80%EC%9E%90:%EC%9C%A4%EB%8F%99%EC%A3%BC\"\n",
    "res=req.urlopen(url)\n",
    "soup=BeautifulSoup(res,\"html.parser\")\n",
    "myList=soup.select(\"#mw-content-text > div > ul:nth-child(6) > li > ul > li > a\")\n",
    "# li > a: li 태그 내부에 있는 a 태그\n",
    "# li a : 모든 li 타그 내에 있는 a 태그\n",
    "for a in myList:\n",
    "    print(a.string)"
   ]
  },
  {
   "cell_type": "code",
   "execution_count": 210,
   "metadata": {},
   "outputs": [],
   "source": [
    "html=\"\"\"\n",
    "<ul id=\"language\">언어종류들\n",
    "    <li id=\"bas\">Basic</li>\n",
    "    <li id=\"cpp\">c++</li>\n",
    "    <li id=\"java\">Java</li>\n",
    "    <li id=\"py\">Python</li>\n",
    "    <li id=\"sp\">Spark</li>\n",
    "</ul>                \n",
    "\"\"\""
   ]
  },
  {
   "cell_type": "code",
   "execution_count": 211,
   "metadata": {},
   "outputs": [
    {
     "data": {
      "text/plain": [
       "\n",
       "<ul id=\"language\">언어종류들\n",
       "    <li id=\"bas\">Basic</li>\n",
       "<li id=\"cpp\">c++</li>\n",
       "<li id=\"java\">Java</li>\n",
       "<li id=\"py\">Python</li>\n",
       "<li id=\"sp\">Spark</li>\n",
       "</ul>"
      ]
     },
     "execution_count": 211,
     "metadata": {},
     "output_type": "execute_result"
    }
   ],
   "source": [
    "sel=BeautifulSoup(html,\"html.parser\")\n",
    "sel\n",
    "\n"
   ]
  },
  {
   "cell_type": "code",
   "execution_count": 273,
   "metadata": {
    "scrolled": true
   },
   "outputs": [
    {
     "name": "stdout",
     "output_type": "stream",
     "text": [
      "Python\n",
      "Python\n",
      "Python\n",
      "Python\n",
      "Python\n",
      "Python\n",
      "Python\n",
      "Python\n",
      "Python\n",
      "Python\n",
      "[<li id=\"bas\">Basic</li>, <li id=\"cpp\">c++</li>, <li id=\"java\">Java</li>, <li id=\"py\">Python</li>, <li id=\"sp\">Spark</li>]\n"
     ]
    }
   ],
   "source": [
    "print(sel.select_one(\"#py\").string)\n",
    "\n",
    "myFunc=lambda arg:print(sel.select_one(arg).string)\n",
    "myFunc(\"#py\")\n",
    "myFunc(\"li#py\")\n",
    "myFunc(\"ul > li#py\")\n",
    "myFunc(\"#language>#py\")\n",
    "myFunc(\"#language #py\")\n",
    "myFunc(\"ul#language > li#py\")\n",
    "myFunc(\"li[id='py']\")\n",
    "myFunc(\"li:nth-of-type(4)\")\n",
    "print(sel.select(\"li\")[3].string)\n",
    "print(sel.find_all((\"li\")))"
   ]
  },
  {
   "cell_type": "code",
   "execution_count": 274,
   "metadata": {},
   "outputs": [
    {
     "data": {
      "text/plain": [
       "<!DOCTYPE html>\n",
       "\n",
       "<html lang=\"en\">\n",
       "<head>\n",
       "<meta charset=\"utf-8\"/>\n",
       "<title>Title</title>\n",
       "</head>\n",
       "<body>\n",
       "<div id=\"main-goods\" role=\"page\">\n",
       "<h1>과일과 야채</h1>\n",
       "<ul id=\"fr\">\n",
       "<li class=\"red green\" data-lo=\"ko\">사과</li>\n",
       "<li class=\"purple\" data-lo=\"us\">포도</li>\n",
       "<li class=\"yellow\" data-lo=\"us\">레몬</li>\n",
       "<li class=\"yellow\" data-lo=\"ko\">오렌지</li>\n",
       "</ul>\n",
       "<ul id=\"ve\">\n",
       "<li class=\"white green\" data-lo=\"ko\">무</li>\n",
       "<li class=\"red green\" data-lo=\"us\">파프리카</li>\n",
       "<li class=\"black\" data-lo=\"ko\">가지</li>\n",
       "<li class=\"black\" data-lo=\"us\">아보카도</li>\n",
       "<li class=\"white\" data-lo=\"cn\">연근</li>\n",
       "</ul>\n",
       "</div>\n",
       "</body></html>\n"
      ]
     },
     "execution_count": 274,
     "metadata": {},
     "output_type": "execute_result"
    }
   ],
   "source": [
    "fp=open(\"frg-veg.html\", encoding=\"utf-8\")\n",
    "soup=BeautifulSoup(fp,\"html.parser\")\n",
    "soup"
   ]
  },
  {
   "cell_type": "code",
   "execution_count": 297,
   "metadata": {},
   "outputs": [
    {
     "name": "stdout",
     "output_type": "stream",
     "text": [
      "아보카도\n",
      "아보카도\n",
      "아보카도\n",
      "아보카도\n",
      "아보카도\n"
     ]
    }
   ],
   "source": [
    "fp=open(\"frg-veg.html\", encoding=\"utf-8\")\n",
    "soup=BeautifulSoup(fp,\"html.parser\")\n",
    "soup\n",
    "# 아보카도 추출하기\n",
    "print(soup.select_one(\"#ve > li:nth-of-type(4)\").string)\n",
    "print(soup.select(\"#ve > li[data-lo='us']\")[1].string)\n",
    "print(soup.select(\"#ve > li.black\")[1].string)\n",
    "\n",
    "# find 매서드\n",
    "cond={'data-lo':'us','class':'black'}\n",
    "print(soup.find(\"li\",cond).string)\n",
    "\n",
    "print(soup.find(id=\"ve\").find(\"li\", cond).string)"
   ]
  },
  {
   "cell_type": "code",
   "execution_count": 301,
   "metadata": {},
   "outputs": [],
   "source": [
    "html=\"\"\"\n",
    "<li><a href=\"test.html\">test</li>\n",
    "<li><a href=\"https://test.html\">test2</li>\n",
    "<li><a href=\"https://test.html\">test3</li>\n",
    "<li><a href=\"http://test.html\">test4</li>\n",
    "\"\"\""
   ]
  },
  {
   "cell_type": "code",
   "execution_count": 307,
   "metadata": {},
   "outputs": [
    {
     "name": "stdout",
     "output_type": "stream",
     "text": [
      "[<a href=\"https://test.html\">test2</a>, <a href=\"https://test.html\">test3</a>]\n"
     ]
    }
   ],
   "source": [
    "soup=BeautifulSoup(html, \"html.parser\")\n",
    "li=soup.find_all(href=re.compile(\"https://\"))\n",
    "print(li)"
   ]
  },
  {
   "cell_type": "code",
   "execution_count": null,
   "metadata": {},
   "outputs": [],
   "source": []
  },
  {
   "cell_type": "code",
   "execution_count": null,
   "metadata": {},
   "outputs": [],
   "source": []
  },
  {
   "cell_type": "code",
   "execution_count": null,
   "metadata": {},
   "outputs": [],
   "source": []
  },
  {
   "cell_type": "code",
   "execution_count": null,
   "metadata": {},
   "outputs": [],
   "source": []
  },
  {
   "cell_type": "code",
   "execution_count": null,
   "metadata": {},
   "outputs": [],
   "source": []
  },
  {
   "cell_type": "code",
   "execution_count": null,
   "metadata": {},
   "outputs": [],
   "source": []
  },
  {
   "cell_type": "code",
   "execution_count": null,
   "metadata": {},
   "outputs": [],
   "source": []
  }
 ],
 "metadata": {
  "kernelspec": {
   "display_name": "Python 3",
   "language": "python",
   "name": "python3"
  },
  "language_info": {
   "codemirror_mode": {
    "name": "ipython",
    "version": 3
   },
   "file_extension": ".py",
   "mimetype": "text/x-python",
   "name": "python",
   "nbconvert_exporter": "python",
   "pygments_lexer": "ipython3",
   "version": "3.7.4"
  }
 },
 "nbformat": 4,
 "nbformat_minor": 2
}
