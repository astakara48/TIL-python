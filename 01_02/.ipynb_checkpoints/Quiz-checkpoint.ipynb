{
 "cells": [
  {
   "cell_type": "code",
   "execution_count": null,
   "metadata": {},
   "outputs": [],
   "source": [
    "# 1번 + 2번\n",
    "class Point():\n",
    "    def __init__(self, x, y):\n",
    "        self.x=x\n",
    "        self.y=y\n",
    "        \n",
    "    def setx(self, x):\n",
    "        self.x=x\n",
    "        return print(\"x 좌표는 : %d\" %(self.x))\n",
    "    \n",
    "    def sety(self, y):\n",
    "        self.y=y\n",
    "        return print(\"y 좌표는 : %d\" %(self.y))\n",
    "    \n",
    "    def get(self):\n",
    "        myTuple=(self.x, self.y)\n",
    "        return print(myTuple)\n",
    "    \n",
    "    def move(self, dx, dy):\n",
    "        move_x = dx-self.x\n",
    "        move_y = dy-self.y\n",
    "        return print(\"%d, %d 좌표에서 %d, %d좌표로 %d, %d만큼 이동하였습니다.\" %(self.x, self.y, dx, dy, move_x, move_y))\n",
    "    \n",
    "p=Point(1,2)\n",
    "p.setx(4)\n",
    "p.sety(4)\n",
    "p.get()\n",
    "p.move(8,10)"
   ]
  },
  {
   "cell_type": "code",
   "execution_count": null,
   "metadata": {},
   "outputs": [],
   "source": [
    "# 3번\n",
    "f=open(\"number.txt\", \"w\")\n",
    "for i in range(1,11):\n",
    "    data=\"%d\\n\" % i\n",
    "    f.write(data)\n",
    "f.close()\n"
   ]
  },
  {
   "cell_type": "code",
   "execution_count": null,
   "metadata": {},
   "outputs": [],
   "source": [
    "# 4번\n",
    "import os\n",
    "f=open(\"flist.txt\", \"w\")\n",
    "path=input()\n",
    "file_list = os.listdir(path)\n",
    "for i in file_list:\n",
    "    data = \"%s\\n\" %i\n",
    "    f.write(data)\n",
    "    \n",
    "print (\"file_list: {}\".format(file_list))\n",
    "f.close()\n"
   ]
  },
  {
   "cell_type": "code",
   "execution_count": 11,
   "metadata": {
    "scrolled": true
   },
   "outputs": [
    {
     "name": "stdout",
     "output_type": "stream",
     "text": [
      "1984년 12월 22일\n",
      "1988년 3월 1일\n",
      "1995년 3월 11일\n",
      "2006년 7월 31일\n",
      "2006년 8월 7일\n",
      "2009년 8월 15일\n",
      "2011년 11월 4일\n",
      "2016년 3월 6일\n"
     ]
    }
   ],
   "source": [
    "# 5번\n",
    "import re\n",
    "from bs4 import BeautifulSoup\n",
    "import urllib.request as req\n",
    "url=\"https://ko.wikipedia.org/wiki/%EC%9C%A4%EB%8F%99%EC%A3%BC\"\n",
    "res=req.urlopen(url)\n",
    "soup=BeautifulSoup(res,\"html.parser\")\n",
    "p=soup.select_one(\"#mw-content-text > div > ul:nth-child(71)\").text\n",
    "pat=re.compile(\"[0-9]+[년] [0-9]+월 [0-9]+일\")\n",
    "g=pat.findall(p)\n",
    "for i in g:\n",
    "    print(i)\n",
    "    "
   ]
  },
  {
   "cell_type": "code",
   "execution_count": null,
   "metadata": {},
   "outputs": [],
   "source": [
    "# 6번\n",
    "import re\n",
    "from bs4 import BeautifulSoup\n",
    "import urllib.request as req\n",
    "url = \"http://www.weather.go.kr/weather/forecast/mid-term-rss3.jsp\"\n",
    "res=req.urlopen(url)\n",
    "soup=BeautifulSoup(res,\"html.parser\")\n",
    "soup\n",
    "\n",
    "title = soup.find(\"title\").string\n",
    "title\n",
    "\n",
    "wf = soup.find(\"wf\").string\n",
    "wf\n",
    "\n",
    "res=re.compile(\"[가-힣]+\")\n",
    "search=res.findall(wf)\n",
    "for i in search:\n",
    "    print(i, end=\" \")\n"
   ]
  },
  {
   "cell_type": "code",
   "execution_count": null,
   "metadata": {},
   "outputs": [],
   "source": []
  },
  {
   "cell_type": "code",
   "execution_count": null,
   "metadata": {},
   "outputs": [],
   "source": []
  }
 ],
 "metadata": {
  "kernelspec": {
   "display_name": "Python 3",
   "language": "python",
   "name": "python3"
  },
  "language_info": {
   "codemirror_mode": {
    "name": "ipython",
    "version": 3
   },
   "file_extension": ".py",
   "mimetype": "text/x-python",
   "name": "python",
   "nbconvert_exporter": "python",
   "pygments_lexer": "ipython3",
   "version": "3.7.4"
  }
 },
 "nbformat": 4,
 "nbformat_minor": 2
}
