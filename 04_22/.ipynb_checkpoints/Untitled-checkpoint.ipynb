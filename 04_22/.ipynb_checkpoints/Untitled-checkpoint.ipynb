{
 "cells": [
  {
   "cell_type": "code",
   "execution_count": 11,
   "metadata": {},
   "outputs": [],
   "source": [
    "import tensorflow as tf\n",
    "import random\n",
    "import pandas as pd\n",
    "import matplotlib.pyplot as plt\n",
    "import seaborn as sns\n",
    "# pip install tqdm\n",
    "from tqdm import tqdm\n",
    "from tensorflow.examples.tutorials.mnist import input_data"
   ]
  },
  {
   "cell_type": "code",
   "execution_count": 2,
   "metadata": {},
   "outputs": [
    {
     "name": "stdout",
     "output_type": "stream",
     "text": [
      "WARNING:tensorflow:From <ipython-input-2-8fff32bca56b>:1: read_data_sets (from tensorflow.contrib.learn.python.learn.datasets.mnist) is deprecated and will be removed in a future version.\n",
      "Instructions for updating:\n",
      "Please use alternatives such as official/mnist/dataset.py from tensorflow/models.\n",
      "WARNING:tensorflow:From C:\\Users\\student\\Anaconda3\\lib\\site-packages\\tensorflow_core\\contrib\\learn\\python\\learn\\datasets\\mnist.py:260: maybe_download (from tensorflow.contrib.learn.python.learn.datasets.base) is deprecated and will be removed in a future version.\n",
      "Instructions for updating:\n",
      "Please write your own downloading logic.\n",
      "WARNING:tensorflow:From C:\\Users\\student\\Anaconda3\\lib\\site-packages\\tensorflow_core\\contrib\\learn\\python\\learn\\datasets\\mnist.py:262: extract_images (from tensorflow.contrib.learn.python.learn.datasets.mnist) is deprecated and will be removed in a future version.\n",
      "Instructions for updating:\n",
      "Please use tf.data to implement this functionality.\n",
      "Extracting MNIST_data/train-images-idx3-ubyte.gz\n",
      "WARNING:tensorflow:From C:\\Users\\student\\Anaconda3\\lib\\site-packages\\tensorflow_core\\contrib\\learn\\python\\learn\\datasets\\mnist.py:267: extract_labels (from tensorflow.contrib.learn.python.learn.datasets.mnist) is deprecated and will be removed in a future version.\n",
      "Instructions for updating:\n",
      "Please use tf.data to implement this functionality.\n",
      "Extracting MNIST_data/train-labels-idx1-ubyte.gz\n",
      "WARNING:tensorflow:From C:\\Users\\student\\Anaconda3\\lib\\site-packages\\tensorflow_core\\contrib\\learn\\python\\learn\\datasets\\mnist.py:110: dense_to_one_hot (from tensorflow.contrib.learn.python.learn.datasets.mnist) is deprecated and will be removed in a future version.\n",
      "Instructions for updating:\n",
      "Please use tf.one_hot on tensors.\n",
      "Extracting MNIST_data/t10k-images-idx3-ubyte.gz\n",
      "Extracting MNIST_data/t10k-labels-idx1-ubyte.gz\n",
      "WARNING:tensorflow:From C:\\Users\\student\\Anaconda3\\lib\\site-packages\\tensorflow_core\\contrib\\learn\\python\\learn\\datasets\\mnist.py:290: DataSet.__init__ (from tensorflow.contrib.learn.python.learn.datasets.mnist) is deprecated and will be removed in a future version.\n",
      "Instructions for updating:\n",
      "Please use alternatives such as official/mnist/dataset.py from tensorflow/models.\n"
     ]
    }
   ],
   "source": [
    "mnist=input_data.read_data_sets(\"MNIST_data/\", one_hot=True)"
   ]
  },
  {
   "cell_type": "code",
   "execution_count": 3,
   "metadata": {},
   "outputs": [],
   "source": [
    "trainingEpochs=15\n",
    "batch_size=100"
   ]
  },
  {
   "cell_type": "code",
   "execution_count": 4,
   "metadata": {},
   "outputs": [],
   "source": [
    "x=tf.placeholder(tf.float32, [None, 28*28])\n",
    "y=tf.placeholder(tf.float32, [None, 10])"
   ]
  },
  {
   "cell_type": "code",
   "execution_count": 5,
   "metadata": {},
   "outputs": [
    {
     "name": "stdout",
     "output_type": "stream",
     "text": [
      "WARNING:tensorflow:\n",
      "The TensorFlow contrib module will not be included in TensorFlow 2.0.\n",
      "For more information, please see:\n",
      "  * https://github.com/tensorflow/community/blob/master/rfcs/20180907-contrib-sunset.md\n",
      "  * https://github.com/tensorflow/addons\n",
      "  * https://github.com/tensorflow/io (for I/O related ops)\n",
      "If you depend on functionality not listed there, please file an issue.\n",
      "\n"
     ]
    }
   ],
   "source": [
    "#tf.reset_default_graph()\n",
    "w1=tf.get_variable(\"w1\",shape=[784,256], initializer=tf.contrib.layers.xavier_initializer()) # xavier 알고리즘으로 weight 초기화\n",
    "#w1=tf.get_variable(\"w1\",shape=[784,256], initializer=tf.keras.initializers.he_normal())\n",
    "b1=tf.Variable(tf.random_normal([256]))\n",
    "l1=tf.nn.relu(tf.matmul(x,w1)+b1)\n",
    "\n",
    "w2=tf.get_variable(\"w2\",shape=[256,256], initializer=tf.contrib.layers.xavier_initializer())\n",
    "#w2=tf.get_variable(\"w2\",shape=[256,256], initializer=tf.keras.initializers.he_normal())\n",
    "b2=tf.Variable(tf.random_normal([256]))\n",
    "l2=tf.nn.relu(tf.matmul(l1,w2)+b2)\n",
    "\n",
    "w3=tf.get_variable(\"w3\",shape=[256,256], initializer=tf.contrib.layers.xavier_initializer())\n",
    "#w3=tf.get_variable(\"w3\",shape=[256,256], initializer=tf.keras.initializers.he_normal())\n",
    "b3=tf.Variable(tf.random_normal([256]))\n",
    "l3=tf.nn.relu(tf.matmul(l2,w3)+b3)\n",
    "\n",
    "w4=tf.get_variable(\"w4\",shape=[256,256], initializer=tf.contrib.layers.xavier_initializer())\n",
    "#w4=tf.get_variable(\"w4\",shape=[256,256], initializer=tf.keras.initializers.he_normal())\n",
    "b4=tf.Variable(tf.random_normal([256]))\n",
    "l4=tf.nn.relu(tf.matmul(l3,w4)+b4)\n",
    "\n",
    "w5=tf.get_variable(\"w5\",shape=[256,10], initializer=tf.contrib.layers.xavier_initializer()) \n",
    "#w5=tf.get_variable(\"w1\",shape=[256,10], initializer=tf.kreas.initializers.he_normal())\n",
    "b5=tf.Variable(tf.random_normal([10]))\n",
    "\n",
    "hf=tf.matmul(l4,w5)+b5"
   ]
  },
  {
   "cell_type": "code",
   "execution_count": 6,
   "metadata": {},
   "outputs": [],
   "source": [
    "# xavior 알고리즘\n",
    "# np.random.randn(입력노드수, 출력노드수)/np.sqrt(입력노드수)\n",
    "#tf.contrib.layers.xavier_initializer()\n",
    "\n",
    "# he 알고리즘\n",
    "# np.random.randn(입력노드수, 출력노드수)/np.sqrt(입력노드수/2)\n",
    "#tf.keras.initializers.he_normal()"
   ]
  },
  {
   "cell_type": "code",
   "execution_count": 7,
   "metadata": {},
   "outputs": [
    {
     "data": {
      "text/plain": [
       "'\\n전통적 경사하강법은 매번 미분함 => 속도 느림, 비효과적인 최적해 찾기\\n확률적 경사하강법(sgd) => 속도 개선\\n모멘텀(momentum) sgd => 확률적 경사하강법 + 관성\\n아다그리드 : step size 조절 => 학습을 빠르게\\nrmsprop : 아다그리드 개선 \\n\\n'"
      ]
     },
     "execution_count": 7,
     "metadata": {},
     "output_type": "execute_result"
    }
   ],
   "source": [
    "cost=tf.reduce_mean(tf.nn.softmax_cross_entropy_with_logits_v2(logits=hf, labels=y))\n",
    "optimizer= tf.train.AdamOptimizer(0.001).minimize(cost)\n",
    "prediction=tf.equal(tf.argmax(hf,1), tf.argmax(y,1))\n",
    "accuracy=tf.reduce_mean(tf.cast(prediction, tf.float32))\n",
    "# 가중치 업데이트 방법\n",
    "\"\"\"\n",
    "전통적 경사하강법은 매번 미분함 => 속도 느림, 비효과적인 최적해 찾기\n",
    "확률적 경사하강법(sgd) => 속도 개선\n",
    "모멘텀(momentum) sgd => 확률적 경사하강법 + 관성\n",
    "아다그리드 : step size 조절 => 학습을 빠르게\n",
    "rmsprop : 아다그리드 개선 \n",
    "\n",
    "\"\"\""
   ]
  },
  {
   "cell_type": "code",
   "execution_count": 8,
   "metadata": {},
   "outputs": [
    {
     "name": "stderr",
     "output_type": "stream",
     "text": [
      "cost:0.312800: 100%|████████████████████████████████████████████████████████████████| 550/550 [00:03<00:00, 176.51it/s]\n",
      "cost:0.109963: 100%|████████████████████████████████████████████████████████████████| 550/550 [00:03<00:00, 177.19it/s]\n",
      "cost:0.073720: 100%|████████████████████████████████████████████████████████████████| 550/550 [00:03<00:00, 177.48it/s]\n",
      "cost:0.056611: 100%|████████████████████████████████████████████████████████████████| 550/550 [00:03<00:00, 177.02it/s]\n",
      "cost:0.044310: 100%|████████████████████████████████████████████████████████████████| 550/550 [00:03<00:00, 172.90it/s]\n",
      "cost:0.039979: 100%|████████████████████████████████████████████████████████████████| 550/550 [00:03<00:00, 174.00it/s]\n",
      "cost:0.028586: 100%|████████████████████████████████████████████████████████████████| 550/550 [00:03<00:00, 176.17it/s]\n",
      "cost:0.026345: 100%|████████████████████████████████████████████████████████████████| 550/550 [00:03<00:00, 168.82it/s]\n",
      "cost:0.022561: 100%|████████████████████████████████████████████████████████████████| 550/550 [00:03<00:00, 172.20it/s]\n",
      "cost:0.022014: 100%|████████████████████████████████████████████████████████████████| 550/550 [00:03<00:00, 165.31it/s]\n",
      "cost:0.019145: 100%|████████████████████████████████████████████████████████████████| 550/550 [00:03<00:00, 175.72it/s]\n",
      "cost:0.019576: 100%|████████████████████████████████████████████████████████████████| 550/550 [00:03<00:00, 176.00it/s]\n",
      "cost:0.015356: 100%|████████████████████████████████████████████████████████████████| 550/550 [00:03<00:00, 177.02it/s]\n",
      "cost:0.018417: 100%|████████████████████████████████████████████████████████████████| 550/550 [00:03<00:00, 174.77it/s]\n",
      "cost:0.012042: 100%|████████████████████████████████████████████████████████████████| 550/550 [00:03<00:00, 175.78it/s]\n"
     ]
    },
    {
     "name": "stdout",
     "output_type": "stream",
     "text": [
      "정확도: 0.98\n"
     ]
    }
   ],
   "source": [
    "sess=tf.Session()\n",
    "sess.run(tf.global_variables_initializer())\n",
    "for epoch in range(trainingEpochs):\n",
    "    avgCost=0\n",
    "    totalBatch=int(mnist.train.num_examples/batch_size)\n",
    "    \n",
    "    pbar=tqdm(range(totalBatch))\n",
    "    \n",
    "    for i in pbar:\n",
    "        batchX,batchY=mnist.train.next_batch(batch_size)\n",
    "        cv,_=sess.run([cost,optimizer], feed_dict={x:batchX, y:batchY})\n",
    "        avgCost+=cv/totalBatch\n",
    "        pbar.set_description('cost:%f'%avgCost)\n",
    "print(\"정확도:\", sess.run(accuracy, feed_dict={x:mnist.test.images, y:mnist.test.labels}))"
   ]
  },
  {
   "cell_type": "code",
   "execution_count": 36,
   "metadata": {},
   "outputs": [
    {
     "name": "stdout",
     "output_type": "stream",
     "text": [
      "     label  predict  index\n",
      "0        9        5    104\n",
      "1        4        9    115\n",
      "2        2        3    149\n",
      "3        9        8    151\n",
      "4        9        8    241\n",
      "..     ...      ...    ...\n",
      "195      5        1   9883\n",
      "196      2        0   9904\n",
      "197      4        9   9922\n",
      "198      3        8   9944\n",
      "199      5        6   9982\n",
      "\n",
      "[200 rows x 3 columns]\n"
     ]
    },
    {
     "data": {
      "image/png": "[encoded data removed]",
      "text/plain": [
       "<Figure size 864x432 with 1 Axes>"
      ]
     },
     "metadata": {
      "needs_background": "light"
     },
     "output_type": "display_data"
    }
   ],
   "source": [
    "labels=sess.run(tf.argmax(mnist.test.labels,1))\n",
    "predictions=sess.run(tf.argmax(hf,1), feed_dict={x:mnist.test.images, y:mnist.test.labels})\n",
    "index=[]\n",
    "ori=[]\n",
    "pred=[]\n",
    "for i in range(0, mnist.test.num_examples):\n",
    "    if predictions[i]!=labels[i]:\n",
    "        index.append(i)\n",
    "        ori.append(labels[i])\n",
    "        pred.append(predictions[i])\n",
    "res=pd.DataFrame({\"label\":ori, \"predict\":pred, \"index\":index})\n",
    "print(res)\n",
    "plt.figure(figsize=(12,6))\n",
    "plt.hist(res['predict'], bins=10)\n",
    "plt.xlabel('fault prediction')\n",
    "plt.grid()\n",
    "plt.show()"
   ]
  },
  {
   "cell_type": "code",
   "execution_count": 37,
   "metadata": {},
   "outputs": [
    {
     "data": {
      "image/png": "[encoded data removed]",
      "text/plain": [
       "<Figure size 864x432 with 1 Axes>"
      ]
     },
     "metadata": {
      "needs_background": "light"
     },
     "output_type": "display_data"
    }
   ],
   "source": [
    "import seaborn as sns\n",
    "plt.figure(figsize=(12,6))\n",
    "sns.violinplot(x='label',y='predict', data=res)\n",
    "plt.xlabel('fault prediction')\n",
    "plt.grid()\n",
    "plt.show()"
   ]
  },
  {
   "cell_type": "code",
   "execution_count": 38,
   "metadata": {},
   "outputs": [
    {
     "data": {
      "image/png": "[encoded data removed]",
      "text/plain": [
       "<Figure size 864x432 with 1 Axes>"
      ]
     },
     "metadata": {
      "needs_background": "light"
     },
     "output_type": "display_data"
    }
   ],
   "source": [
    "plt.figure(figsize=(12,6))\n",
    "sns.swarmplot(x='label',y='predict', data=res)\n",
    "sns.despine(offset=10, trim=True)\n",
    "plt.xlabel('fault prediction')\n",
    "plt.grid()\n",
    "plt.show()"
   ]
  },
  {
   "cell_type": "code",
   "execution_count": 39,
   "metadata": {},
   "outputs": [],
   "source": [
    "ver=res.query(\"label==4\").sample(n=8).index"
   ]
  },
  {
   "cell_type": "code",
   "execution_count": 40,
   "metadata": {},
   "outputs": [
    {
     "data": {
      "image/png": "[encoded data removed]",
      "text/plain": [
       "<Figure size 432x288 with 8 Axes>"
      ]
     },
     "metadata": {
      "needs_background": "light"
     },
     "output_type": "display_data"
    }
   ],
   "source": [
    "cnt=0\n",
    "for n in ver:\n",
    "    cnt+=1\n",
    "    plt.subplot(4,4,cnt)\n",
    "    plt.imshow(mnist.test.images[n].reshape(28,28), cmap='Greys')\n",
    "    t=\"label:\"+str(res['label'][n])+\"pred::\"+str(res['predict'][n])\n",
    "    plt.title(t)\n",
    "\n",
    "plt.tight_layout()\n",
    "plt.show()"
   ]
  },
  {
   "cell_type": "code",
   "execution_count": 41,
   "metadata": {},
   "outputs": [],
   "source": [
    "# pimna 인디언 분석"
   ]
  },
  {
   "cell_type": "code",
   "execution_count": 42,
   "metadata": {},
   "outputs": [],
   "source": [
    "from keras.models import Sequential\n",
    "from keras.layers import Dense\n",
    "import numpy as np"
   ]
  },
  {
   "cell_type": "code",
   "execution_count": 43,
   "metadata": {},
   "outputs": [],
   "source": [
    "# seed 생성\n",
    "np.random.seed(42)\n",
    "tf.set_random_seed(42)"
   ]
  },
  {
   "cell_type": "code",
   "execution_count": 46,
   "metadata": {},
   "outputs": [],
   "source": [
    "data=np.loadtxt('C:/Users/student/Downloads/데이터들/dataset/pima-indians-diabetes.csv', delimiter=',')"
   ]
  },
  {
   "cell_type": "code",
   "execution_count": 47,
   "metadata": {},
   "outputs": [],
   "source": [
    "x=data[:,0:8]\n",
    "y=data[:,8]"
   ]
  },
  {
   "cell_type": "code",
   "execution_count": 52,
   "metadata": {},
   "outputs": [
    {
     "name": "stdout",
     "output_type": "stream",
     "text": [
      "WARNING:tensorflow:From C:\\Users\\student\\Anaconda3\\lib\\site-packages\\tensorflow_core\\python\\ops\\resource_variable_ops.py:1630: calling BaseResourceVariable.__init__ (from tensorflow.python.ops.resource_variable_ops) with constraint is deprecated and will be removed in a future version.\n",
      "Instructions for updating:\n",
      "If using Keras pass *_constraint arguments to layers.\n"
     ]
    }
   ],
   "source": [
    "model=Sequential()\n",
    "model.add(Dense(12, input_dim=8, activation='relu'))\n",
    "model.add(Dense(8, activation='relu'))\n",
    "model.add(Dense(1, activation='sigmoid'))"
   ]
  },
  {
   "cell_type": "code",
   "execution_count": 53,
   "metadata": {},
   "outputs": [
    {
     "name": "stdout",
     "output_type": "stream",
     "text": [
      "WARNING:tensorflow:From C:\\Users\\student\\Anaconda3\\lib\\site-packages\\tensorflow_core\\python\\ops\\nn_impl.py:183: where (from tensorflow.python.ops.array_ops) is deprecated and will be removed in a future version.\n",
      "Instructions for updating:\n",
      "Use tf.where in 2.0, which has the same broadcast rule as np.where\n"
     ]
    }
   ],
   "source": [
    "# softmax 떄는 categorical_crossentropy , binary classification이면 바이너리 저거\n",
    "model.compile(loss='binary_crossentropy', optimizer='adam', metrics=['accuracy'])\n"
   ]
  },
  {
   "cell_type": "code",
   "execution_count": 54,
   "metadata": {},
   "outputs": [
    {
     "name": "stdout",
     "output_type": "stream",
     "text": [
      "WARNING:tensorflow:From C:\\Users\\student\\Anaconda3\\lib\\site-packages\\keras\\backend\\tensorflow_backend.py:422: The name tf.global_variables is deprecated. Please use tf.compat.v1.global_variables instead.\n",
      "\n",
      "WARNING:tensorflow:From C:\\Users\\student\\Anaconda3\\lib\\site-packages\\keras\\backend\\tensorflow_backend.py:431: The name tf.is_variable_initialized is deprecated. Please use tf.compat.v1.is_variable_initialized instead.\n",
      "\n",
      "WARNING:tensorflow:From C:\\Users\\student\\Anaconda3\\lib\\site-packages\\keras\\backend\\tensorflow_backend.py:438: The name tf.variables_initializer is deprecated. Please use tf.compat.v1.variables_initializer instead.\n",
      "\n",
      "Epoch 1/200\n",
      "768/768 [==============================] - ETA: 21s - loss: 23.9541 - accuracy: 0.40 - ETA: 0s - loss: 19.8802 - accuracy: 0.3225 - 0s 489us/step - loss: 12.6002 - accuracy: 0.3568\n",
      "Epoch 2/200\n",
      "768/768 [==============================] - ETA: 0s - loss: 2.8568 - accuracy: 0.40 - ETA: 0s - loss: 1.8032 - accuracy: 0.51 - 0s 104us/step - loss: 1.6268 - accuracy: 0.5404\n",
      "Epoch 3/200\n",
      "768/768 [==============================] - ETA: 0s - loss: 1.3739 - accuracy: 0.60 - ETA: 0s - loss: 1.1675 - accuracy: 0.60 - 0s 108us/step - loss: 1.1515 - accuracy: 0.6029\n",
      "Epoch 4/200\n",
      "768/768 [==============================] - ETA: 0s - loss: 0.7041 - accuracy: 0.50 - ETA: 0s - loss: 1.0933 - accuracy: 0.59 - 0s 98us/step - loss: 1.0529 - accuracy: 0.5964\n",
      "Epoch 5/200\n",
      "768/768 [==============================] - ETA: 0s - loss: 0.9609 - accuracy: 0.40 - ETA: 0s - loss: 0.9831 - accuracy: 0.60 - 0s 86us/step - loss: 0.9574 - accuracy: 0.5977\n",
      "Epoch 6/200\n",
      "768/768 [==============================] - ETA: 0s - loss: 0.7536 - accuracy: 0.60 - ETA: 0s - loss: 0.9110 - accuracy: 0.59 - 0s 82us/step - loss: 0.8972 - accuracy: 0.6029\n",
      "Epoch 7/200\n",
      "768/768 [==============================] - ETA: 0s - loss: 0.4701 - accuracy: 0.80 - ETA: 0s - loss: 0.8533 - accuracy: 0.61 - 0s 83us/step - loss: 0.8706 - accuracy: 0.5990\n",
      "Epoch 8/200\n",
      "768/768 [==============================] - ETA: 0s - loss: 0.5306 - accuracy: 0.60 - ETA: 0s - loss: 0.8198 - accuracy: 0.60 - 0s 90us/step - loss: 0.8090 - accuracy: 0.6146\n",
      "Epoch 9/200\n",
      "768/768 [==============================] - ETA: 0s - loss: 0.8952 - accuracy: 0.60 - ETA: 0s - loss: 0.8388 - accuracy: 0.61 - 0s 86us/step - loss: 0.8140 - accuracy: 0.6198\n",
      "Epoch 10/200\n",
      "768/768 [==============================] - ETA: 0s - loss: 0.8156 - accuracy: 0.70 - ETA: 0s - loss: 0.7306 - accuracy: 0.62 - 0s 87us/step - loss: 0.7436 - accuracy: 0.6198\n",
      "Epoch 11/200\n",
      "768/768 [==============================] - ETA: 0s - loss: 0.8488 - accuracy: 0.60 - ETA: 0s - loss: 0.7741 - accuracy: 0.61 - 0s 95us/step - loss: 0.7298 - accuracy: 0.6380\n",
      "Epoch 12/200\n",
      "768/768 [==============================] - ETA: 0s - loss: 0.6786 - accuracy: 0.60 - ETA: 0s - loss: 0.7581 - accuracy: 0.61 - 0s 91us/step - loss: 0.7270 - accuracy: 0.6354\n",
      "Epoch 13/200\n",
      "768/768 [==============================] - ETA: 0s - loss: 1.1089 - accuracy: 0.40 - ETA: 0s - loss: 0.7196 - accuracy: 0.63 - 0s 91us/step - loss: 0.7107 - accuracy: 0.6393\n",
      "Epoch 14/200\n",
      "768/768 [==============================] - ETA: 0s - loss: 1.4275 - accuracy: 0.40 - ETA: 0s - loss: 0.7163 - accuracy: 0.64 - 0s 89us/step - loss: 0.7232 - accuracy: 0.6354\n",
      "Epoch 15/200\n",
      "768/768 [==============================] - ETA: 0s - loss: 0.4724 - accuracy: 0.80 - ETA: 0s - loss: 0.6983 - accuracy: 0.64 - 0s 86us/step - loss: 0.6883 - accuracy: 0.6419\n",
      "Epoch 16/200\n",
      "768/768 [==============================] - ETA: 0s - loss: 0.6512 - accuracy: 0.60 - ETA: 0s - loss: 0.6708 - accuracy: 0.66 - 0s 81us/step - loss: 0.6859 - accuracy: 0.6562\n",
      "Epoch 17/200\n",
      "768/768 [==============================] - ETA: 0s - loss: 0.5397 - accuracy: 0.60 - ETA: 0s - loss: 0.6870 - accuracy: 0.65 - 0s 85us/step - loss: 0.7090 - accuracy: 0.6536\n",
      "Epoch 18/200\n",
      "768/768 [==============================] - ETA: 0s - loss: 1.2722 - accuracy: 0.50 - ETA: 0s - loss: 0.6551 - accuracy: 0.66 - 0s 86us/step - loss: 0.6592 - accuracy: 0.6562\n",
      "Epoch 19/200\n",
      "768/768 [==============================] - ETA: 0s - loss: 0.6923 - accuracy: 0.50 - ETA: 0s - loss: 0.6787 - accuracy: 0.66 - 0s 83us/step - loss: 0.6650 - accuracy: 0.6693\n",
      "Epoch 20/200\n",
      "768/768 [==============================] - ETA: 0s - loss: 0.8871 - accuracy: 0.60 - ETA: 0s - loss: 0.6180 - accuracy: 0.68 - 0s 87us/step - loss: 0.6343 - accuracy: 0.6914\n",
      "Epoch 21/200\n",
      "768/768 [==============================] - ETA: 0s - loss: 0.6071 - accuracy: 0.70 - ETA: 0s - loss: 0.6337 - accuracy: 0.66 - 0s 95us/step - loss: 0.6220 - accuracy: 0.6693\n",
      "Epoch 22/200\n",
      "768/768 [==============================] - ETA: 0s - loss: 0.3514 - accuracy: 0.80 - ETA: 0s - loss: 0.6386 - accuracy: 0.67 - 0s 95us/step - loss: 0.6527 - accuracy: 0.6667\n",
      "Epoch 23/200\n",
      "768/768 [==============================] - ETA: 0s - loss: 1.2262 - accuracy: 0.40 - ETA: 0s - loss: 0.6284 - accuracy: 0.67 - 0s 89us/step - loss: 0.6259 - accuracy: 0.6732\n",
      "Epoch 24/200\n",
      "768/768 [==============================] - ETA: 0s - loss: 0.6381 - accuracy: 0.60 - ETA: 0s - loss: 0.6169 - accuracy: 0.68 - 0s 85us/step - loss: 0.6244 - accuracy: 0.6836\n",
      "Epoch 25/200\n",
      "768/768 [==============================] - ETA: 0s - loss: 0.5857 - accuracy: 0.70 - ETA: 0s - loss: 0.5927 - accuracy: 0.69 - 0s 89us/step - loss: 0.6187 - accuracy: 0.6797\n",
      "Epoch 26/200\n",
      "768/768 [==============================] - ETA: 0s - loss: 0.5389 - accuracy: 0.80 - ETA: 0s - loss: 0.6058 - accuracy: 0.67 - 0s 85us/step - loss: 0.5945 - accuracy: 0.6849\n",
      "Epoch 27/200\n",
      "768/768 [==============================] - ETA: 0s - loss: 0.2561 - accuracy: 1.00 - ETA: 0s - loss: 0.6043 - accuracy: 0.70 - 0s 86us/step - loss: 0.6219 - accuracy: 0.7044\n",
      "Epoch 28/200\n",
      "768/768 [==============================] - ETA: 0s - loss: 0.5093 - accuracy: 0.70 - ETA: 0s - loss: 0.5952 - accuracy: 0.69 - 0s 94us/step - loss: 0.6068 - accuracy: 0.6875\n",
      "Epoch 29/200\n",
      "768/768 [==============================] - ETA: 0s - loss: 0.5699 - accuracy: 0.70 - ETA: 0s - loss: 0.5877 - accuracy: 0.70 - 0s 90us/step - loss: 0.5974 - accuracy: 0.6979\n",
      "Epoch 30/200\n",
      "768/768 [==============================] - ETA: 0s - loss: 0.4744 - accuracy: 0.70 - ETA: 0s - loss: 0.6168 - accuracy: 0.69 - 0s 86us/step - loss: 0.6090 - accuracy: 0.6940\n",
      "Epoch 31/200\n",
      "768/768 [==============================] - ETA: 0s - loss: 0.6450 - accuracy: 0.70 - ETA: 0s - loss: 0.5874 - accuracy: 0.70 - 0s 87us/step - loss: 0.5875 - accuracy: 0.6992\n",
      "Epoch 32/200\n",
      "768/768 [==============================] - ETA: 0s - loss: 0.3227 - accuracy: 1.00 - ETA: 0s - loss: 0.5958 - accuracy: 0.71 - 0s 86us/step - loss: 0.5959 - accuracy: 0.7148\n",
      "Epoch 33/200\n",
      "768/768 [==============================] - ETA: 0s - loss: 0.6783 - accuracy: 0.70 - ETA: 0s - loss: 0.6443 - accuracy: 0.68 - 0s 90us/step - loss: 0.6320 - accuracy: 0.6901\n",
      "Epoch 34/200\n",
      "768/768 [==============================] - ETA: 0s - loss: 0.5353 - accuracy: 0.80 - ETA: 0s - loss: 0.5949 - accuracy: 0.70 - 0s 90us/step - loss: 0.5938 - accuracy: 0.7057\n",
      "Epoch 35/200\n",
      "768/768 [==============================] - ETA: 0s - loss: 0.4497 - accuracy: 0.80 - ETA: 0s - loss: 0.6198 - accuracy: 0.68 - 0s 83us/step - loss: 0.6092 - accuracy: 0.6797\n",
      "Epoch 36/200\n",
      "768/768 [==============================] - ETA: 0s - loss: 0.6924 - accuracy: 0.70 - ETA: 0s - loss: 0.5958 - accuracy: 0.71 - 0s 82us/step - loss: 0.5871 - accuracy: 0.7227\n",
      "Epoch 37/200\n",
      "768/768 [==============================] - ETA: 0s - loss: 0.4208 - accuracy: 0.90 - ETA: 0s - loss: 0.5972 - accuracy: 0.69 - 0s 81us/step - loss: 0.5822 - accuracy: 0.7044\n",
      "Epoch 38/200\n",
      "768/768 [==============================] - ETA: 0s - loss: 0.5504 - accuracy: 0.60 - ETA: 0s - loss: 0.5887 - accuracy: 0.71 - 0s 81us/step - loss: 0.5789 - accuracy: 0.7201\n",
      "Epoch 39/200\n",
      "768/768 [==============================] - ETA: 0s - loss: 0.6643 - accuracy: 0.70 - ETA: 0s - loss: 0.5953 - accuracy: 0.70 - 0s 82us/step - loss: 0.5815 - accuracy: 0.7083\n",
      "Epoch 40/200\n",
      "768/768 [==============================] - ETA: 0s - loss: 0.5023 - accuracy: 0.70 - ETA: 0s - loss: 0.5627 - accuracy: 0.71 - 0s 82us/step - loss: 0.5725 - accuracy: 0.7161\n",
      "Epoch 41/200\n"
     ]
    },
    {
     "name": "stdout",
     "output_type": "stream",
     "text": [
      "768/768 [==============================] - ETA: 0s - loss: 0.5111 - accuracy: 0.70 - ETA: 0s - loss: 0.5544 - accuracy: 0.73 - 0s 86us/step - loss: 0.5585 - accuracy: 0.7331\n",
      "Epoch 42/200\n",
      "768/768 [==============================] - ETA: 0s - loss: 0.5860 - accuracy: 0.70 - ETA: 0s - loss: 0.5696 - accuracy: 0.71 - 0s 82us/step - loss: 0.5843 - accuracy: 0.7057\n",
      "Epoch 43/200\n",
      "768/768 [==============================] - ETA: 0s - loss: 0.3446 - accuracy: 0.90 - ETA: 0s - loss: 0.5809 - accuracy: 0.72 - 0s 89us/step - loss: 0.5767 - accuracy: 0.7161\n",
      "Epoch 44/200\n",
      "768/768 [==============================] - ETA: 0s - loss: 0.7190 - accuracy: 0.70 - ETA: 0s - loss: 0.5904 - accuracy: 0.71 - 0s 82us/step - loss: 0.5894 - accuracy: 0.7109\n",
      "Epoch 45/200\n",
      "768/768 [==============================] - ETA: 0s - loss: 0.7528 - accuracy: 0.60 - ETA: 0s - loss: 0.5822 - accuracy: 0.72 - 0s 83us/step - loss: 0.5672 - accuracy: 0.7266\n",
      "Epoch 46/200\n",
      "768/768 [==============================] - ETA: 0s - loss: 0.5245 - accuracy: 0.80 - ETA: 0s - loss: 0.5875 - accuracy: 0.71 - 0s 84us/step - loss: 0.5797 - accuracy: 0.7174\n",
      "Epoch 47/200\n",
      "768/768 [==============================] - ETA: 0s - loss: 0.4105 - accuracy: 0.90 - ETA: 0s - loss: 0.5706 - accuracy: 0.71 - 0s 87us/step - loss: 0.5560 - accuracy: 0.7227\n",
      "Epoch 48/200\n",
      "768/768 [==============================] - ETA: 0s - loss: 0.5309 - accuracy: 0.60 - 0s 67us/step - loss: 0.5643 - accuracy: 0.7227\n",
      "Epoch 49/200\n",
      "768/768 [==============================] - ETA: 0s - loss: 0.3425 - accuracy: 0.90 - ETA: 0s - loss: 0.5610 - accuracy: 0.71 - 0s 86us/step - loss: 0.5590 - accuracy: 0.7174\n",
      "Epoch 50/200\n",
      "768/768 [==============================] - ETA: 0s - loss: 0.7658 - accuracy: 0.60 - ETA: 0s - loss: 0.5819 - accuracy: 0.71 - 0s 83us/step - loss: 0.5901 - accuracy: 0.7148\n",
      "Epoch 51/200\n",
      "768/768 [==============================] - ETA: 0s - loss: 0.6769 - accuracy: 0.60 - ETA: 0s - loss: 0.5655 - accuracy: 0.70 - 0s 87us/step - loss: 0.5616 - accuracy: 0.7070\n",
      "Epoch 52/200\n",
      "768/768 [==============================] - ETA: 0s - loss: 0.3755 - accuracy: 1.00 - ETA: 0s - loss: 0.5542 - accuracy: 0.72 - 0s 84us/step - loss: 0.5591 - accuracy: 0.7253\n",
      "Epoch 53/200\n",
      "768/768 [==============================] - ETA: 0s - loss: 0.2888 - accuracy: 1.00 - ETA: 0s - loss: 0.6045 - accuracy: 0.67 - 0s 87us/step - loss: 0.6035 - accuracy: 0.6888\n",
      "Epoch 54/200\n",
      "768/768 [==============================] - ETA: 0s - loss: 0.4148 - accuracy: 0.90 - ETA: 0s - loss: 0.5455 - accuracy: 0.72 - 0s 88us/step - loss: 0.5632 - accuracy: 0.7227\n",
      "Epoch 55/200\n",
      "768/768 [==============================] - ETA: 0s - loss: 0.4489 - accuracy: 0.80 - ETA: 0s - loss: 0.5781 - accuracy: 0.72 - 0s 83us/step - loss: 0.5748 - accuracy: 0.7201\n",
      "Epoch 56/200\n",
      "768/768 [==============================] - ETA: 0s - loss: 0.7159 - accuracy: 0.60 - ETA: 0s - loss: 0.5643 - accuracy: 0.72 - 0s 89us/step - loss: 0.5556 - accuracy: 0.7318\n",
      "Epoch 57/200\n",
      "768/768 [==============================] - ETA: 0s - loss: 0.3054 - accuracy: 0.90 - ETA: 0s - loss: 0.5704 - accuracy: 0.74 - 0s 83us/step - loss: 0.5546 - accuracy: 0.7474\n",
      "Epoch 58/200\n",
      "768/768 [==============================] - ETA: 0s - loss: 0.7451 - accuracy: 0.50 - ETA: 0s - loss: 0.5536 - accuracy: 0.71 - 0s 83us/step - loss: 0.5451 - accuracy: 0.7214\n",
      "Epoch 59/200\n",
      "768/768 [==============================] - ETA: 0s - loss: 0.3565 - accuracy: 0.80 - ETA: 0s - loss: 0.5264 - accuracy: 0.73 - 0s 86us/step - loss: 0.5412 - accuracy: 0.7279\n",
      "Epoch 60/200\n",
      "768/768 [==============================] - ETA: 0s - loss: 0.4085 - accuracy: 0.90 - ETA: 0s - loss: 0.5531 - accuracy: 0.72 - 0s 87us/step - loss: 0.5519 - accuracy: 0.7266\n",
      "Epoch 61/200\n",
      "768/768 [==============================] - ETA: 0s - loss: 0.6165 - accuracy: 0.80 - ETA: 0s - loss: 0.5331 - accuracy: 0.75 - 0s 101us/step - loss: 0.5453 - accuracy: 0.7461\n",
      "Epoch 62/200\n",
      "768/768 [==============================] - ETA: 0s - loss: 0.3490 - accuracy: 0.90 - 0s 62us/step - loss: 0.5536 - accuracy: 0.7318\n",
      "Epoch 63/200\n",
      "768/768 [==============================] - ETA: 0s - loss: 0.6043 - accuracy: 0.60 - ETA: 0s - loss: 0.5510 - accuracy: 0.73 - 0s 79us/step - loss: 0.5505 - accuracy: 0.7292\n",
      "Epoch 64/200\n",
      "768/768 [==============================] - ETA: 0s - loss: 0.5194 - accuracy: 0.70 - ETA: 0s - loss: 0.5356 - accuracy: 0.74 - 0s 85us/step - loss: 0.5446 - accuracy: 0.7305\n",
      "Epoch 65/200\n",
      "768/768 [==============================] - ETA: 0s - loss: 0.5332 - accuracy: 0.60 - ETA: 0s - loss: 0.5341 - accuracy: 0.71 - 0s 83us/step - loss: 0.5329 - accuracy: 0.7201\n",
      "Epoch 66/200\n",
      "768/768 [==============================] - ETA: 0s - loss: 0.5426 - accuracy: 0.70 - ETA: 0s - loss: 0.5480 - accuracy: 0.73 - 0s 85us/step - loss: 0.5596 - accuracy: 0.7292\n",
      "Epoch 67/200\n",
      "768/768 [==============================] - ETA: 0s - loss: 0.4089 - accuracy: 0.80 - ETA: 0s - loss: 0.5460 - accuracy: 0.72 - 0s 82us/step - loss: 0.5521 - accuracy: 0.7240\n",
      "Epoch 68/200\n",
      "768/768 [==============================] - ETA: 0s - loss: 0.3197 - accuracy: 0.90 - ETA: 0s - loss: 0.5427 - accuracy: 0.72 - 0s 82us/step - loss: 0.5439 - accuracy: 0.7266\n",
      "Epoch 69/200\n",
      "768/768 [==============================] - ETA: 0s - loss: 0.4052 - accuracy: 0.80 - ETA: 0s - loss: 0.5431 - accuracy: 0.73 - 0s 84us/step - loss: 0.5440 - accuracy: 0.7370\n",
      "Epoch 70/200\n",
      "768/768 [==============================] - ETA: 0s - loss: 0.3334 - accuracy: 0.90 - ETA: 0s - loss: 0.5640 - accuracy: 0.71 - 0s 83us/step - loss: 0.5553 - accuracy: 0.7279\n",
      "Epoch 71/200\n",
      "768/768 [==============================] - ETA: 0s - loss: 0.2579 - accuracy: 0.90 - ETA: 0s - loss: 0.5275 - accuracy: 0.73 - 0s 86us/step - loss: 0.5354 - accuracy: 0.7292\n",
      "Epoch 72/200\n",
      "768/768 [==============================] - ETA: 0s - loss: 0.7393 - accuracy: 0.40 - ETA: 0s - loss: 0.5305 - accuracy: 0.72 - 0s 82us/step - loss: 0.5257 - accuracy: 0.7370\n",
      "Epoch 73/200\n",
      "768/768 [==============================] - ETA: 0s - loss: 0.4065 - accuracy: 0.90 - ETA: 0s - loss: 0.5264 - accuracy: 0.74 - 0s 90us/step - loss: 0.5256 - accuracy: 0.7461\n",
      "Epoch 74/200\n",
      "768/768 [==============================] - ETA: 0s - loss: 0.4115 - accuracy: 0.90 - ETA: 0s - loss: 0.5439 - accuracy: 0.74 - 0s 94us/step - loss: 0.5315 - accuracy: 0.7448\n",
      "Epoch 75/200\n",
      "768/768 [==============================] - ETA: 0s - loss: 0.5411 - accuracy: 0.80 - ETA: 0s - loss: 0.5395 - accuracy: 0.74 - 0s 91us/step - loss: 0.5409 - accuracy: 0.7448\n",
      "Epoch 76/200\n",
      "768/768 [==============================] - ETA: 0s - loss: 0.3159 - accuracy: 0.90 - ETA: 0s - loss: 0.5266 - accuracy: 0.73 - 0s 85us/step - loss: 0.5267 - accuracy: 0.7409\n",
      "Epoch 77/200\n",
      "768/768 [==============================] - ETA: 0s - loss: 0.7165 - accuracy: 0.50 - ETA: 0s - loss: 0.5356 - accuracy: 0.75 - 0s 81us/step - loss: 0.5389 - accuracy: 0.7500\n",
      "Epoch 78/200\n",
      "768/768 [==============================] - ETA: 0s - loss: 0.6725 - accuracy: 0.60 - ETA: 0s - loss: 0.5269 - accuracy: 0.73 - 0s 82us/step - loss: 0.5242 - accuracy: 0.7370\n",
      "Epoch 79/200\n",
      "768/768 [==============================] - ETA: 0s - loss: 0.4530 - accuracy: 0.70 - ETA: 0s - loss: 0.5236 - accuracy: 0.74 - 0s 82us/step - loss: 0.5304 - accuracy: 0.7370\n",
      "Epoch 80/200\n",
      "768/768 [==============================] - ETA: 0s - loss: 0.5622 - accuracy: 0.70 - ETA: 0s - loss: 0.5254 - accuracy: 0.74 - 0s 82us/step - loss: 0.5324 - accuracy: 0.7409\n",
      "Epoch 81/200\n",
      "768/768 [==============================] - ETA: 0s - loss: 1.0180 - accuracy: 0.60 - ETA: 0s - loss: 0.5182 - accuracy: 0.72 - 0s 83us/step - loss: 0.5224 - accuracy: 0.7279\n",
      "Epoch 82/200\n",
      "768/768 [==============================] - ETA: 0s - loss: 0.5432 - accuracy: 0.80 - ETA: 0s - loss: 0.5416 - accuracy: 0.74 - 0s 83us/step - loss: 0.5360 - accuracy: 0.7448\n",
      "Epoch 83/200\n",
      "768/768 [==============================] - ETA: 0s - loss: 0.4588 - accuracy: 0.70 - ETA: 0s - loss: 0.5252 - accuracy: 0.74 - 0s 84us/step - loss: 0.5238 - accuracy: 0.7409\n",
      "Epoch 84/200\n",
      "768/768 [==============================] - ETA: 0s - loss: 0.6207 - accuracy: 0.90 - ETA: 0s - loss: 0.5245 - accuracy: 0.75 - 0s 85us/step - loss: 0.5297 - accuracy: 0.7474\n",
      "Epoch 85/200\n"
     ]
    },
    {
     "name": "stdout",
     "output_type": "stream",
     "text": [
      "768/768 [==============================] - ETA: 0s - loss: 0.4741 - accuracy: 0.60 - ETA: 0s - loss: 0.5169 - accuracy: 0.74 - 0s 86us/step - loss: 0.5194 - accuracy: 0.7435\n",
      "Epoch 86/200\n",
      "768/768 [==============================] - ETA: 0s - loss: 0.2904 - accuracy: 0.90 - ETA: 0s - loss: 0.5083 - accuracy: 0.75 - 0s 83us/step - loss: 0.5136 - accuracy: 0.7487\n",
      "Epoch 87/200\n",
      "768/768 [==============================] - ETA: 0s - loss: 0.2494 - accuracy: 1.00 - ETA: 0s - loss: 0.5438 - accuracy: 0.74 - 0s 82us/step - loss: 0.5385 - accuracy: 0.7474\n",
      "Epoch 88/200\n",
      "768/768 [==============================] - ETA: 0s - loss: 0.3117 - accuracy: 0.90 - ETA: 0s - loss: 0.5245 - accuracy: 0.73 - 0s 83us/step - loss: 0.5262 - accuracy: 0.7396\n",
      "Epoch 89/200\n",
      "768/768 [==============================] - ETA: 0s - loss: 0.2790 - accuracy: 0.90 - ETA: 0s - loss: 0.5458 - accuracy: 0.72 - 0s 87us/step - loss: 0.5356 - accuracy: 0.7227\n",
      "Epoch 90/200\n",
      "768/768 [==============================] - ETA: 0s - loss: 0.4788 - accuracy: 0.70 - ETA: 0s - loss: 0.5255 - accuracy: 0.74 - 0s 86us/step - loss: 0.5195 - accuracy: 0.7435\n",
      "Epoch 91/200\n",
      "768/768 [==============================] - ETA: 0s - loss: 0.4221 - accuracy: 0.90 - ETA: 0s - loss: 0.5283 - accuracy: 0.74 - 0s 83us/step - loss: 0.5327 - accuracy: 0.7396\n",
      "Epoch 92/200\n",
      "768/768 [==============================] - ETA: 0s - loss: 0.4493 - accuracy: 0.80 - ETA: 0s - loss: 0.5281 - accuracy: 0.73 - 0s 86us/step - loss: 0.5318 - accuracy: 0.7422\n",
      "Epoch 93/200\n",
      "768/768 [==============================] - ETA: 0s - loss: 0.4709 - accuracy: 0.60 - ETA: 0s - loss: 0.4988 - accuracy: 0.75 - 0s 86us/step - loss: 0.5187 - accuracy: 0.7474\n",
      "Epoch 94/200\n",
      "768/768 [==============================] - ETA: 0s - loss: 0.5769 - accuracy: 0.70 - ETA: 0s - loss: 0.5185 - accuracy: 0.75 - 0s 86us/step - loss: 0.5164 - accuracy: 0.7487\n",
      "Epoch 95/200\n",
      "768/768 [==============================] - ETA: 0s - loss: 0.6409 - accuracy: 0.60 - ETA: 0s - loss: 0.4954 - accuracy: 0.76 - 0s 92us/step - loss: 0.5127 - accuracy: 0.7526\n",
      "Epoch 96/200\n",
      "768/768 [==============================] - ETA: 0s - loss: 0.3227 - accuracy: 0.80 - ETA: 0s - loss: 0.5391 - accuracy: 0.75 - 0s 83us/step - loss: 0.5349 - accuracy: 0.7474\n",
      "Epoch 97/200\n",
      "768/768 [==============================] - ETA: 0s - loss: 0.5825 - accuracy: 0.60 - ETA: 0s - loss: 0.5038 - accuracy: 0.73 - 0s 84us/step - loss: 0.5210 - accuracy: 0.7253\n",
      "Epoch 98/200\n",
      "768/768 [==============================] - ETA: 0s - loss: 0.6483 - accuracy: 0.50 - ETA: 0s - loss: 0.5376 - accuracy: 0.71 - 0s 86us/step - loss: 0.5260 - accuracy: 0.7318\n",
      "Epoch 99/200\n",
      "768/768 [==============================] - ETA: 0s - loss: 0.3998 - accuracy: 0.90 - ETA: 0s - loss: 0.5121 - accuracy: 0.76 - 0s 90us/step - loss: 0.5167 - accuracy: 0.7604\n",
      "Epoch 100/200\n",
      "768/768 [==============================] - ETA: 0s - loss: 0.5679 - accuracy: 0.60 - ETA: 0s - loss: 0.5142 - accuracy: 0.74 - 0s 86us/step - loss: 0.5068 - accuracy: 0.7474\n",
      "Epoch 101/200\n",
      "768/768 [==============================] - ETA: 0s - loss: 0.8500 - accuracy: 0.50 - ETA: 0s - loss: 0.5236 - accuracy: 0.74 - 0s 87us/step - loss: 0.5171 - accuracy: 0.7487\n",
      "Epoch 102/200\n",
      "768/768 [==============================] - ETA: 0s - loss: 0.3307 - accuracy: 0.90 - ETA: 0s - loss: 0.5192 - accuracy: 0.73 - 0s 85us/step - loss: 0.5188 - accuracy: 0.7305\n",
      "Epoch 103/200\n",
      "768/768 [==============================] - ETA: 0s - loss: 0.2417 - accuracy: 0.90 - ETA: 0s - loss: 0.5115 - accuracy: 0.73 - 0s 85us/step - loss: 0.5279 - accuracy: 0.7227\n",
      "Epoch 104/200\n",
      "768/768 [==============================] - ETA: 0s - loss: 0.6948 - accuracy: 0.70 - ETA: 0s - loss: 0.5267 - accuracy: 0.73 - 0s 89us/step - loss: 0.5221 - accuracy: 0.7435\n",
      "Epoch 105/200\n",
      "768/768 [==============================] - ETA: 0s - loss: 0.4785 - accuracy: 0.60 - ETA: 0s - loss: 0.5005 - accuracy: 0.74 - 0s 82us/step - loss: 0.5002 - accuracy: 0.7513\n",
      "Epoch 106/200\n",
      "768/768 [==============================] - ETA: 0s - loss: 0.3993 - accuracy: 0.80 - ETA: 0s - loss: 0.5054 - accuracy: 0.74 - 0s 89us/step - loss: 0.5072 - accuracy: 0.7461\n",
      "Epoch 107/200\n",
      "768/768 [==============================] - ETA: 0s - loss: 0.7113 - accuracy: 0.50 - ETA: 0s - loss: 0.4979 - accuracy: 0.74 - 0s 86us/step - loss: 0.5080 - accuracy: 0.7448\n",
      "Epoch 108/200\n",
      "768/768 [==============================] - ETA: 0s - loss: 0.5307 - accuracy: 0.60 - ETA: 0s - loss: 0.4910 - accuracy: 0.76 - 0s 89us/step - loss: 0.5112 - accuracy: 0.7500\n",
      "Epoch 109/200\n",
      "768/768 [==============================] - ETA: 0s - loss: 0.3806 - accuracy: 0.90 - ETA: 0s - loss: 0.5107 - accuracy: 0.75 - 0s 87us/step - loss: 0.5014 - accuracy: 0.7617\n",
      "Epoch 110/200\n",
      "768/768 [==============================] - ETA: 0s - loss: 0.6441 - accuracy: 0.60 - ETA: 0s - loss: 0.5031 - accuracy: 0.74 - 0s 90us/step - loss: 0.5002 - accuracy: 0.7474\n",
      "Epoch 111/200\n",
      "768/768 [==============================] - ETA: 0s - loss: 0.5322 - accuracy: 0.70 - ETA: 0s - loss: 0.5109 - accuracy: 0.75 - 0s 81us/step - loss: 0.5052 - accuracy: 0.7539\n",
      "Epoch 112/200\n",
      "768/768 [==============================] - ETA: 0s - loss: 0.6441 - accuracy: 0.70 - ETA: 0s - loss: 0.5015 - accuracy: 0.74 - 0s 82us/step - loss: 0.5128 - accuracy: 0.7344\n",
      "Epoch 113/200\n",
      "768/768 [==============================] - ETA: 0s - loss: 0.3702 - accuracy: 0.80 - ETA: 0s - loss: 0.4952 - accuracy: 0.75 - 0s 85us/step - loss: 0.5021 - accuracy: 0.7513\n",
      "Epoch 114/200\n",
      "768/768 [==============================] - ETA: 0s - loss: 0.4906 - accuracy: 0.70 - ETA: 0s - loss: 0.4959 - accuracy: 0.75 - 0s 86us/step - loss: 0.5108 - accuracy: 0.7487\n",
      "Epoch 115/200\n",
      "768/768 [==============================] - ETA: 0s - loss: 0.6871 - accuracy: 0.70 - ETA: 0s - loss: 0.5000 - accuracy: 0.77 - 0s 85us/step - loss: 0.5078 - accuracy: 0.7643\n",
      "Epoch 116/200\n",
      "768/768 [==============================] - ETA: 0s - loss: 0.4597 - accuracy: 0.80 - ETA: 0s - loss: 0.5250 - accuracy: 0.73 - 0s 86us/step - loss: 0.5354 - accuracy: 0.7292\n",
      "Epoch 117/200\n",
      "768/768 [==============================] - ETA: 0s - loss: 0.4791 - accuracy: 0.70 - ETA: 0s - loss: 0.5095 - accuracy: 0.73 - 0s 89us/step - loss: 0.5055 - accuracy: 0.7448\n",
      "Epoch 118/200\n",
      "768/768 [==============================] - ETA: 0s - loss: 0.4653 - accuracy: 0.70 - ETA: 0s - loss: 0.4820 - accuracy: 0.75 - 0s 82us/step - loss: 0.4931 - accuracy: 0.7487\n",
      "Epoch 119/200\n",
      "768/768 [==============================] - ETA: 0s - loss: 0.5219 - accuracy: 0.70 - ETA: 0s - loss: 0.5048 - accuracy: 0.75 - 0s 84us/step - loss: 0.4964 - accuracy: 0.7617\n",
      "Epoch 120/200\n",
      "768/768 [==============================] - ETA: 0s - loss: 0.3442 - accuracy: 0.90 - ETA: 0s - loss: 0.4931 - accuracy: 0.75 - 0s 83us/step - loss: 0.4966 - accuracy: 0.7591\n",
      "Epoch 121/200\n",
      "768/768 [==============================] - ETA: 0s - loss: 0.5846 - accuracy: 0.70 - ETA: 0s - loss: 0.5032 - accuracy: 0.75 - 0s 86us/step - loss: 0.5018 - accuracy: 0.7565\n",
      "Epoch 122/200\n",
      "768/768 [==============================] - ETA: 0s - loss: 0.8021 - accuracy: 0.60 - ETA: 0s - loss: 0.5086 - accuracy: 0.74 - 0s 85us/step - loss: 0.5170 - accuracy: 0.7409\n",
      "Epoch 123/200\n",
      "768/768 [==============================] - ETA: 0s - loss: 0.2964 - accuracy: 0.80 - ETA: 0s - loss: 0.4999 - accuracy: 0.76 - 0s 89us/step - loss: 0.4965 - accuracy: 0.7630\n",
      "Epoch 124/200\n",
      "768/768 [==============================] - ETA: 0s - loss: 0.3859 - accuracy: 0.90 - ETA: 0s - loss: 0.4919 - accuracy: 0.78 - 0s 89us/step - loss: 0.4969 - accuracy: 0.7708\n",
      "Epoch 125/200\n",
      "768/768 [==============================] - ETA: 0s - loss: 0.3212 - accuracy: 0.80 - ETA: 0s - loss: 0.5143 - accuracy: 0.76 - 0s 89us/step - loss: 0.4930 - accuracy: 0.7760\n",
      "Epoch 126/200\n",
      "768/768 [==============================] - ETA: 0s - loss: 0.4973 - accuracy: 0.60 - ETA: 0s - loss: 0.4993 - accuracy: 0.73 - 0s 89us/step - loss: 0.5121 - accuracy: 0.7266\n",
      "Epoch 127/200\n",
      "768/768 [==============================] - ETA: 0s - loss: 0.4250 - accuracy: 0.70 - ETA: 0s - loss: 0.5108 - accuracy: 0.76 - 0s 87us/step - loss: 0.5129 - accuracy: 0.7565\n",
      "Epoch 128/200\n"
     ]
    },
    {
     "name": "stdout",
     "output_type": "stream",
     "text": [
      "768/768 [==============================] - ETA: 0s - loss: 0.3099 - accuracy: 0.90 - ETA: 0s - loss: 0.4986 - accuracy: 0.76 - 0s 87us/step - loss: 0.4970 - accuracy: 0.7591\n",
      "Epoch 129/200\n",
      "768/768 [==============================] - ETA: 0s - loss: 0.2549 - accuracy: 0.90 - ETA: 0s - loss: 0.4773 - accuracy: 0.77 - 0s 89us/step - loss: 0.4903 - accuracy: 0.7682\n",
      "Epoch 130/200\n",
      "768/768 [==============================] - ETA: 0s - loss: 0.5220 - accuracy: 0.60 - ETA: 0s - loss: 0.5201 - accuracy: 0.74 - 0s 87us/step - loss: 0.5153 - accuracy: 0.7448\n",
      "Epoch 131/200\n",
      "768/768 [==============================] - ETA: 0s - loss: 0.4779 - accuracy: 0.70 - ETA: 0s - loss: 0.4978 - accuracy: 0.75 - 0s 87us/step - loss: 0.4945 - accuracy: 0.7617\n",
      "Epoch 132/200\n",
      "768/768 [==============================] - ETA: 0s - loss: 0.5143 - accuracy: 0.70 - ETA: 0s - loss: 0.4803 - accuracy: 0.76 - 0s 87us/step - loss: 0.4915 - accuracy: 0.7604\n",
      "Epoch 133/200\n",
      "768/768 [==============================] - ETA: 0s - loss: 0.6687 - accuracy: 0.70 - ETA: 0s - loss: 0.4997 - accuracy: 0.76 - 0s 82us/step - loss: 0.4969 - accuracy: 0.7617\n",
      "Epoch 134/200\n",
      "768/768 [==============================] - ETA: 0s - loss: 0.5153 - accuracy: 0.70 - ETA: 0s - loss: 0.4876 - accuracy: 0.77 - 0s 83us/step - loss: 0.4878 - accuracy: 0.7643\n",
      "Epoch 135/200\n",
      "768/768 [==============================] - ETA: 0s - loss: 0.5712 - accuracy: 0.70 - ETA: 0s - loss: 0.5000 - accuracy: 0.77 - 0s 86us/step - loss: 0.4975 - accuracy: 0.7643\n",
      "Epoch 136/200\n",
      "768/768 [==============================] - ETA: 0s - loss: 0.9936 - accuracy: 0.70 - ETA: 0s - loss: 0.4931 - accuracy: 0.76 - 0s 87us/step - loss: 0.4939 - accuracy: 0.7643\n",
      "Epoch 137/200\n",
      "768/768 [==============================] - ETA: 0s - loss: 0.2704 - accuracy: 0.90 - ETA: 0s - loss: 0.4962 - accuracy: 0.75 - 0s 86us/step - loss: 0.4972 - accuracy: 0.7604\n",
      "Epoch 138/200\n",
      "768/768 [==============================] - ETA: 0s - loss: 0.6619 - accuracy: 0.60 - ETA: 0s - loss: 0.4961 - accuracy: 0.76 - 0s 83us/step - loss: 0.5014 - accuracy: 0.7552\n",
      "Epoch 139/200\n",
      "768/768 [==============================] - ETA: 0s - loss: 0.5849 - accuracy: 0.60 - ETA: 0s - loss: 0.4966 - accuracy: 0.74 - 0s 89us/step - loss: 0.4931 - accuracy: 0.7565\n",
      "Epoch 140/200\n",
      "768/768 [==============================] - ETA: 0s - loss: 0.3808 - accuracy: 0.80 - ETA: 0s - loss: 0.5093 - accuracy: 0.74 - 0s 85us/step - loss: 0.5101 - accuracy: 0.7513\n",
      "Epoch 141/200\n",
      "768/768 [==============================] - ETA: 0s - loss: 0.4177 - accuracy: 0.90 - ETA: 0s - loss: 0.4835 - accuracy: 0.77 - 0s 87us/step - loss: 0.4971 - accuracy: 0.7539\n",
      "Epoch 142/200\n",
      "768/768 [==============================] - ETA: 0s - loss: 0.5125 - accuracy: 0.60 - ETA: 0s - loss: 0.4911 - accuracy: 0.74 - 0s 88us/step - loss: 0.4875 - accuracy: 0.7474\n",
      "Epoch 143/200\n",
      "768/768 [==============================] - ETA: 0s - loss: 0.6499 - accuracy: 0.60 - ETA: 0s - loss: 0.4855 - accuracy: 0.75 - 0s 83us/step - loss: 0.4839 - accuracy: 0.7552\n",
      "Epoch 144/200\n",
      "768/768 [==============================] - ETA: 0s - loss: 0.5884 - accuracy: 0.50 - ETA: 0s - loss: 0.5043 - accuracy: 0.73 - 0s 80us/step - loss: 0.4954 - accuracy: 0.7474\n",
      "Epoch 145/200\n",
      "768/768 [==============================] - ETA: 0s - loss: 0.3175 - accuracy: 0.80 - ETA: 0s - loss: 0.4967 - accuracy: 0.76 - 0s 86us/step - loss: 0.4969 - accuracy: 0.7578\n",
      "Epoch 146/200\n",
      "768/768 [==============================] - ETA: 0s - loss: 0.7061 - accuracy: 0.80 - 0s 67us/step - loss: 0.5011 - accuracy: 0.7461\n",
      "Epoch 147/200\n",
      "768/768 [==============================] - ETA: 0s - loss: 0.3269 - accuracy: 0.70 - ETA: 0s - loss: 0.5089 - accuracy: 0.74 - 0s 85us/step - loss: 0.5009 - accuracy: 0.7474\n",
      "Epoch 148/200\n",
      "768/768 [==============================] - ETA: 0s - loss: 0.7041 - accuracy: 0.60 - ETA: 0s - loss: 0.4953 - accuracy: 0.75 - 0s 87us/step - loss: 0.4907 - accuracy: 0.7682\n",
      "Epoch 149/200\n",
      "768/768 [==============================] - ETA: 0s - loss: 0.7521 - accuracy: 0.60 - ETA: 0s - loss: 0.5338 - accuracy: 0.76 - 0s 88us/step - loss: 0.5268 - accuracy: 0.7578\n",
      "Epoch 150/200\n",
      "768/768 [==============================] - ETA: 0s - loss: 0.5947 - accuracy: 0.60 - ETA: 0s - loss: 0.4770 - accuracy: 0.76 - 0s 85us/step - loss: 0.4822 - accuracy: 0.7552\n",
      "Epoch 151/200\n",
      "768/768 [==============================] - ETA: 0s - loss: 0.3250 - accuracy: 0.80 - ETA: 0s - loss: 0.4720 - accuracy: 0.78 - 0s 86us/step - loss: 0.4746 - accuracy: 0.7865\n",
      "Epoch 152/200\n",
      "768/768 [==============================] - ETA: 0s - loss: 0.5006 - accuracy: 0.70 - ETA: 0s - loss: 0.4844 - accuracy: 0.75 - 0s 82us/step - loss: 0.4836 - accuracy: 0.7539\n",
      "Epoch 153/200\n",
      "768/768 [==============================] - ETA: 0s - loss: 0.3797 - accuracy: 0.90 - ETA: 0s - loss: 0.4777 - accuracy: 0.76 - 0s 85us/step - loss: 0.4825 - accuracy: 0.7617\n",
      "Epoch 154/200\n",
      "768/768 [==============================] - ETA: 0s - loss: 0.3740 - accuracy: 0.90 - ETA: 0s - loss: 0.4995 - accuracy: 0.74 - 0s 83us/step - loss: 0.4943 - accuracy: 0.7474\n",
      "Epoch 155/200\n",
      "768/768 [==============================] - ETA: 0s - loss: 0.4737 - accuracy: 1.00 - ETA: 0s - loss: 0.5034 - accuracy: 0.76 - 0s 87us/step - loss: 0.5031 - accuracy: 0.7565\n",
      "Epoch 156/200\n",
      "768/768 [==============================] - ETA: 0s - loss: 0.4044 - accuracy: 0.90 - ETA: 0s - loss: 0.4833 - accuracy: 0.76 - 0s 82us/step - loss: 0.4798 - accuracy: 0.7643\n",
      "Epoch 157/200\n",
      "768/768 [==============================] - ETA: 0s - loss: 0.4192 - accuracy: 0.80 - ETA: 0s - loss: 0.4905 - accuracy: 0.75 - 0s 83us/step - loss: 0.4896 - accuracy: 0.7630\n",
      "Epoch 158/200\n",
      "768/768 [==============================] - ETA: 0s - loss: 0.7547 - accuracy: 0.70 - ETA: 0s - loss: 0.4811 - accuracy: 0.76 - 0s 86us/step - loss: 0.4964 - accuracy: 0.7630\n",
      "Epoch 159/200\n",
      "768/768 [==============================] - ETA: 0s - loss: 0.7413 - accuracy: 0.70 - ETA: 0s - loss: 0.4965 - accuracy: 0.76 - 0s 85us/step - loss: 0.4971 - accuracy: 0.7617\n",
      "Epoch 160/200\n",
      "768/768 [==============================] - ETA: 0s - loss: 0.5316 - accuracy: 0.90 - ETA: 0s - loss: 0.4731 - accuracy: 0.77 - 0s 99us/step - loss: 0.4795 - accuracy: 0.7695\n",
      "Epoch 161/200\n",
      "768/768 [==============================] - ETA: 0s - loss: 0.5467 - accuracy: 0.90 - ETA: 0s - loss: 0.4790 - accuracy: 0.75 - 0s 100us/step - loss: 0.4915 - accuracy: 0.7448\n",
      "Epoch 162/200\n",
      "768/768 [==============================] - ETA: 0s - loss: 0.9630 - accuracy: 0.60 - ETA: 0s - loss: 0.4849 - accuracy: 0.77 - 0s 91us/step - loss: 0.4942 - accuracy: 0.7656\n",
      "Epoch 163/200\n",
      "768/768 [==============================] - ETA: 0s - loss: 0.9528 - accuracy: 0.50 - ETA: 0s - loss: 0.4914 - accuracy: 0.76 - 0s 81us/step - loss: 0.4889 - accuracy: 0.7578\n",
      "Epoch 164/200\n",
      "768/768 [==============================] - ETA: 0s - loss: 0.4394 - accuracy: 0.80 - ETA: 0s - loss: 0.4821 - accuracy: 0.77 - 0s 82us/step - loss: 0.4781 - accuracy: 0.7786\n",
      "Epoch 165/200\n",
      "768/768 [==============================] - ETA: 0s - loss: 0.2892 - accuracy: 1.00 - ETA: 0s - loss: 0.4922 - accuracy: 0.76 - 0s 83us/step - loss: 0.4887 - accuracy: 0.7669\n",
      "Epoch 166/200\n",
      "768/768 [==============================] - ETA: 0s - loss: 0.2737 - accuracy: 1.00 - ETA: 0s - loss: 0.4761 - accuracy: 0.76 - 0s 87us/step - loss: 0.4791 - accuracy: 0.7708\n",
      "Epoch 167/200\n",
      "768/768 [==============================] - ETA: 0s - loss: 0.2704 - accuracy: 0.90 - ETA: 0s - loss: 0.4862 - accuracy: 0.76 - 0s 86us/step - loss: 0.4870 - accuracy: 0.7643\n",
      "Epoch 168/200\n",
      "768/768 [==============================] - ETA: 0s - loss: 0.5994 - accuracy: 0.70 - ETA: 0s - loss: 0.4861 - accuracy: 0.76 - 0s 85us/step - loss: 0.4802 - accuracy: 0.7773\n",
      "Epoch 169/200\n",
      "768/768 [==============================] - ETA: 0s - loss: 0.9419 - accuracy: 0.40 - ETA: 0s - loss: 0.4921 - accuracy: 0.75 - 0s 83us/step - loss: 0.4890 - accuracy: 0.7539\n",
      "Epoch 170/200\n",
      "768/768 [==============================] - ETA: 0s - loss: 0.5015 - accuracy: 0.70 - ETA: 0s - loss: 0.4930 - accuracy: 0.74 - 0s 82us/step - loss: 0.4866 - accuracy: 0.7474\n",
      "Epoch 171/200\n",
      "768/768 [==============================] - ETA: 0s - loss: 0.2935 - accuracy: 0.90 - ETA: 0s - loss: 0.4759 - accuracy: 0.77 - 0s 89us/step - loss: 0.4788 - accuracy: 0.7734\n"
     ]
    },
    {
     "name": "stdout",
     "output_type": "stream",
     "text": [
      "Epoch 172/200\n",
      "768/768 [==============================] - ETA: 0s - loss: 0.5907 - accuracy: 0.70 - ETA: 0s - loss: 0.5030 - accuracy: 0.73 - 0s 85us/step - loss: 0.4936 - accuracy: 0.7435\n",
      "Epoch 173/200\n",
      "768/768 [==============================] - ETA: 0s - loss: 0.4553 - accuracy: 0.80 - ETA: 0s - loss: 0.5027 - accuracy: 0.74 - 0s 85us/step - loss: 0.4925 - accuracy: 0.7552\n",
      "Epoch 174/200\n",
      "768/768 [==============================] - ETA: 0s - loss: 0.4657 - accuracy: 0.80 - ETA: 0s - loss: 0.4945 - accuracy: 0.75 - 0s 77us/step - loss: 0.4959 - accuracy: 0.7500\n",
      "Epoch 175/200\n",
      "768/768 [==============================] - ETA: 0s - loss: 0.4861 - accuracy: 0.70 - ETA: 0s - loss: 0.4930 - accuracy: 0.76 - 0s 85us/step - loss: 0.4849 - accuracy: 0.7656\n",
      "Epoch 176/200\n",
      "768/768 [==============================] - ETA: 0s - loss: 0.6420 - accuracy: 0.50 - ETA: 0s - loss: 0.4696 - accuracy: 0.77 - 0s 92us/step - loss: 0.4846 - accuracy: 0.7721\n",
      "Epoch 177/200\n",
      "768/768 [==============================] - ETA: 0s - loss: 0.4323 - accuracy: 0.90 - ETA: 0s - loss: 0.4828 - accuracy: 0.78 - 0s 90us/step - loss: 0.4759 - accuracy: 0.7826\n",
      "Epoch 178/200\n",
      "768/768 [==============================] - ETA: 0s - loss: 0.5808 - accuracy: 0.70 - ETA: 0s - loss: 0.4799 - accuracy: 0.75 - 0s 83us/step - loss: 0.4804 - accuracy: 0.7526\n",
      "Epoch 179/200\n",
      "768/768 [==============================] - ETA: 0s - loss: 0.3589 - accuracy: 0.80 - ETA: 0s - loss: 0.4741 - accuracy: 0.76 - 0s 80us/step - loss: 0.4799 - accuracy: 0.7643\n",
      "Epoch 180/200\n",
      "768/768 [==============================] - ETA: 0s - loss: 0.5456 - accuracy: 0.60 - ETA: 0s - loss: 0.4941 - accuracy: 0.75 - 0s 87us/step - loss: 0.4854 - accuracy: 0.7591\n",
      "Epoch 181/200\n",
      "768/768 [==============================] - ETA: 0s - loss: 0.6559 - accuracy: 0.60 - ETA: 0s - loss: 0.4767 - accuracy: 0.77 - 0s 90us/step - loss: 0.4761 - accuracy: 0.7734\n",
      "Epoch 182/200\n",
      "768/768 [==============================] - ETA: 0s - loss: 0.9471 - accuracy: 0.30 - ETA: 0s - loss: 0.4942 - accuracy: 0.76 - 0s 85us/step - loss: 0.4866 - accuracy: 0.7695\n",
      "Epoch 183/200\n",
      "768/768 [==============================] - ETA: 0s - loss: 0.4339 - accuracy: 0.70 - ETA: 0s - loss: 0.4785 - accuracy: 0.75 - 0s 87us/step - loss: 0.4759 - accuracy: 0.7578\n",
      "Epoch 184/200\n",
      "768/768 [==============================] - ETA: 0s - loss: 0.4491 - accuracy: 0.90 - ETA: 0s - loss: 0.4786 - accuracy: 0.78 - 0s 82us/step - loss: 0.4790 - accuracy: 0.7826\n",
      "Epoch 185/200\n",
      "768/768 [==============================] - ETA: 0s - loss: 0.8521 - accuracy: 0.40 - ETA: 0s - loss: 0.4761 - accuracy: 0.77 - 0s 87us/step - loss: 0.4707 - accuracy: 0.7786\n",
      "Epoch 186/200\n",
      "768/768 [==============================] - ETA: 0s - loss: 0.2412 - accuracy: 1.00 - ETA: 0s - loss: 0.4656 - accuracy: 0.76 - 0s 85us/step - loss: 0.4671 - accuracy: 0.7656\n",
      "Epoch 187/200\n",
      "768/768 [==============================] - ETA: 0s - loss: 0.3029 - accuracy: 0.90 - ETA: 0s - loss: 0.4678 - accuracy: 0.77 - 0s 86us/step - loss: 0.4735 - accuracy: 0.7799\n",
      "Epoch 188/200\n",
      "768/768 [==============================] - ETA: 0s - loss: 0.7245 - accuracy: 0.60 - 0s 67us/step - loss: 0.4871 - accuracy: 0.7643\n",
      "Epoch 189/200\n",
      "768/768 [==============================] - ETA: 0s - loss: 0.2984 - accuracy: 0.90 - ETA: 0s - loss: 0.5045 - accuracy: 0.75 - 0s 89us/step - loss: 0.5092 - accuracy: 0.7578\n",
      "Epoch 190/200\n",
      "768/768 [==============================] - ETA: 0s - loss: 0.5439 - accuracy: 0.70 - ETA: 0s - loss: 0.4814 - accuracy: 0.77 - 0s 87us/step - loss: 0.4754 - accuracy: 0.7786\n",
      "Epoch 191/200\n",
      "768/768 [==============================] - ETA: 0s - loss: 0.2249 - accuracy: 1.00 - ETA: 0s - loss: 0.4945 - accuracy: 0.77 - 0s 89us/step - loss: 0.4784 - accuracy: 0.7826\n",
      "Epoch 192/200\n",
      "768/768 [==============================] - ETA: 0s - loss: 0.5684 - accuracy: 0.70 - ETA: 0s - loss: 0.4708 - accuracy: 0.77 - 0s 85us/step - loss: 0.4679 - accuracy: 0.7826\n",
      "Epoch 193/200\n",
      "768/768 [==============================] - ETA: 0s - loss: 0.3879 - accuracy: 0.80 - ETA: 0s - loss: 0.5142 - accuracy: 0.76 - 0s 86us/step - loss: 0.5017 - accuracy: 0.7708\n",
      "Epoch 194/200\n",
      "768/768 [==============================] - ETA: 0s - loss: 0.1483 - accuracy: 1.00 - ETA: 0s - loss: 0.4711 - accuracy: 0.76 - 0s 87us/step - loss: 0.4732 - accuracy: 0.7630\n",
      "Epoch 195/200\n",
      "768/768 [==============================] - ETA: 0s - loss: 0.5273 - accuracy: 0.70 - ETA: 0s - loss: 0.4657 - accuracy: 0.78 - 0s 86us/step - loss: 0.4759 - accuracy: 0.7747\n",
      "Epoch 196/200\n",
      "768/768 [==============================] - ETA: 0s - loss: 0.3171 - accuracy: 0.80 - ETA: 0s - loss: 0.4655 - accuracy: 0.77 - 0s 85us/step - loss: 0.4757 - accuracy: 0.7708\n",
      "Epoch 197/200\n",
      "768/768 [==============================] - ETA: 0s - loss: 0.2843 - accuracy: 0.80 - ETA: 0s - loss: 0.5096 - accuracy: 0.75 - 0s 80us/step - loss: 0.5076 - accuracy: 0.7604\n",
      "Epoch 198/200\n",
      "768/768 [==============================] - ETA: 0s - loss: 0.5532 - accuracy: 0.70 - ETA: 0s - loss: 0.4845 - accuracy: 0.76 - 0s 89us/step - loss: 0.4675 - accuracy: 0.7773\n",
      "Epoch 199/200\n",
      "768/768 [==============================] - ETA: 0s - loss: 0.4825 - accuracy: 0.70 - ETA: 0s - loss: 0.4844 - accuracy: 0.77 - 0s 85us/step - loss: 0.4918 - accuracy: 0.7682\n",
      "Epoch 200/200\n",
      "768/768 [==============================] - ETA: 0s - loss: 0.4016 - accuracy: 0.90 - ETA: 0s - loss: 0.4779 - accuracy: 0.75 - 0s 85us/step - loss: 0.4734 - accuracy: 0.7630\n"
     ]
    },
    {
     "data": {
      "text/plain": [
       "<keras.callbacks.callbacks.History at 0x251c2b779c8>"
      ]
     },
     "execution_count": 54,
     "metadata": {},
     "output_type": "execute_result"
    }
   ],
   "source": [
    "model.fit(x,y,epochs=200,batch_size=10)"
   ]
  },
  {
   "cell_type": "code",
   "execution_count": 56,
   "metadata": {},
   "outputs": [
    {
     "name": "stdout",
     "output_type": "stream",
     "text": [
      "768/768 [==============================] - ETA:  - 0s 17us/step\n"
     ]
    },
    {
     "data": {
      "text/plain": [
       "[0.46264895672599476, 0.7838541865348816]"
      ]
     },
     "execution_count": 56,
     "metadata": {},
     "output_type": "execute_result"
    }
   ],
   "source": [
    "model.evaluate(x,y) # cost, 정확도"
   ]
  },
  {
   "cell_type": "code",
   "execution_count": 57,
   "metadata": {},
   "outputs": [],
   "source": [
    "from keras.datasets import mnist\n",
    "(trainImage,trainLabel),(testImage,testLabel)=mnist.load_data()"
   ]
  },
  {
   "cell_type": "code",
   "execution_count": 58,
   "metadata": {},
   "outputs": [
    {
     "data": {
      "image/png": "[encoded data removed]",
      "text/plain": [
       "<Figure size 432x288 with 1 Axes>"
      ]
     },
     "metadata": {
      "needs_background": "light"
     },
     "output_type": "display_data"
    }
   ],
   "source": [
    "digit=trainImage[3]\n",
    "plt.imshow(digit, cmap=plt.cm.binary)\n",
    "plt.show()"
   ]
  },
  {
   "cell_type": "code",
   "execution_count": 61,
   "metadata": {},
   "outputs": [],
   "source": [
    "model2=Sequential()\n",
    "model2.add(Dense(512, input_shape=(28*28,), activation='relu'))\n",
    "model2.add(Dense(10, activation='softmax'))"
   ]
  },
  {
   "cell_type": "code",
   "execution_count": 62,
   "metadata": {},
   "outputs": [],
   "source": [
    "model2.compile(loss='categorical_crossentropy', optimizer='rmsprop', metrics=['accuracy'])"
   ]
  },
  {
   "cell_type": "code",
   "execution_count": 63,
   "metadata": {},
   "outputs": [],
   "source": [
    "trainImage=trainImage.reshape(60000,28*28)\n",
    "trainImage=trainImage.astype('float32')/255\n",
    "testImage=testImage.reshape(10000,28*28)\n",
    "testImage=testImage.astype('float32')/255"
   ]
  },
  {
   "cell_type": "code",
   "execution_count": 65,
   "metadata": {},
   "outputs": [],
   "source": [
    "from keras.utils import to_categorical\n",
    "trainLabel=to_categorical(trainLabel)"
   ]
  },
  {
   "cell_type": "code",
   "execution_count": 66,
   "metadata": {},
   "outputs": [],
   "source": [
    "testLabel=to_categorical(testLabel)"
   ]
  },
  {
   "cell_type": "code",
   "execution_count": 67,
   "metadata": {},
   "outputs": [
    {
     "name": "stdout",
     "output_type": "stream",
     "text": [
      "Epoch 1/5\n",
      "60000/60000 [==============================] - ETA: 52s - loss: 2.4367 - accuracy: 0.101 - ETA: 9s - loss: 1.4428 - accuracy: 0.573 - ETA: 6s - loss: 1.0520 - accuracy: 0.71 - ETA: 5s - loss: 0.8907 - accuracy: 0.75 - ETA: 4s - loss: 0.7814 - accuracy: 0.78 - ETA: 4s - loss: 0.7085 - accuracy: 0.80 - ETA: 3s - loss: 0.6532 - accuracy: 0.81 - ETA: 3s - loss: 0.6145 - accuracy: 0.82 - ETA: 3s - loss: 0.5776 - accuracy: 0.83 - ETA: 3s - loss: 0.5497 - accuracy: 0.84 - ETA: 3s - loss: 0.5263 - accuracy: 0.85 - ETA: 3s - loss: 0.5049 - accuracy: 0.85 - ETA: 2s - loss: 0.4899 - accuracy: 0.86 - ETA: 2s - loss: 0.4760 - accuracy: 0.86 - ETA: 2s - loss: 0.4622 - accuracy: 0.86 - ETA: 2s - loss: 0.4536 - accuracy: 0.87 - ETA: 2s - loss: 0.4397 - accuracy: 0.87 - ETA: 2s - loss: 0.4267 - accuracy: 0.87 - ETA: 2s - loss: 0.4138 - accuracy: 0.88 - ETA: 2s - loss: 0.4063 - accuracy: 0.88 - ETA: 2s - loss: 0.3973 - accuracy: 0.88 - ETA: 2s - loss: 0.3877 - accuracy: 0.89 - ETA: 2s - loss: 0.3796 - accuracy: 0.89 - ETA: 2s - loss: 0.3739 - accuracy: 0.89 - ETA: 2s - loss: 0.3686 - accuracy: 0.89 - ETA: 1s - loss: 0.3614 - accuracy: 0.89 - ETA: 1s - loss: 0.3563 - accuracy: 0.89 - ETA: 1s - loss: 0.3531 - accuracy: 0.90 - ETA: 1s - loss: 0.3481 - accuracy: 0.90 - ETA: 1s - loss: 0.3425 - accuracy: 0.90 - ETA: 1s - loss: 0.3387 - accuracy: 0.90 - ETA: 1s - loss: 0.3336 - accuracy: 0.90 - ETA: 1s - loss: 0.3312 - accuracy: 0.90 - ETA: 1s - loss: 0.3265 - accuracy: 0.90 - ETA: 1s - loss: 0.3225 - accuracy: 0.90 - ETA: 1s - loss: 0.3180 - accuracy: 0.90 - ETA: 1s - loss: 0.3140 - accuracy: 0.91 - ETA: 1s - loss: 0.3102 - accuracy: 0.91 - ETA: 1s - loss: 0.3069 - accuracy: 0.91 - ETA: 1s - loss: 0.3046 - accuracy: 0.91 - ETA: 1s - loss: 0.3019 - accuracy: 0.91 - ETA: 0s - loss: 0.2993 - accuracy: 0.91 - ETA: 0s - loss: 0.2959 - accuracy: 0.91 - ETA: 0s - loss: 0.2936 - accuracy: 0.91 - ETA: 0s - loss: 0.2909 - accuracy: 0.91 - ETA: 0s - loss: 0.2877 - accuracy: 0.91 - ETA: 0s - loss: 0.2854 - accuracy: 0.91 - ETA: 0s - loss: 0.2820 - accuracy: 0.91 - ETA: 0s - loss: 0.2790 - accuracy: 0.92 - ETA: 0s - loss: 0.2763 - accuracy: 0.92 - ETA: 0s - loss: 0.2739 - accuracy: 0.92 - ETA: 0s - loss: 0.2708 - accuracy: 0.92 - ETA: 0s - loss: 0.2686 - accuracy: 0.92 - ETA: 0s - loss: 0.2669 - accuracy: 0.92 - ETA: 0s - loss: 0.2646 - accuracy: 0.92 - ETA: 0s - loss: 0.2623 - accuracy: 0.92 - ETA: 0s - loss: 0.2605 - accuracy: 0.92 - ETA: 0s - loss: 0.2585 - accuracy: 0.92 - ETA: 0s - loss: 0.2565 - accuracy: 0.92 - 3s 54us/step - loss: 0.2551 - accuracy: 0.9273\n",
      "Epoch 2/5\n",
      "60000/60000 [==============================] - ETA: 4s - loss: 0.0723 - accuracy: 0.98 - ETA: 3s - loss: 0.1385 - accuracy: 0.96 - ETA: 3s - loss: 0.1340 - accuracy: 0.96 - ETA: 2s - loss: 0.1251 - accuracy: 0.96 - ETA: 2s - loss: 0.1249 - accuracy: 0.96 - ETA: 2s - loss: 0.1207 - accuracy: 0.96 - ETA: 2s - loss: 0.1209 - accuracy: 0.96 - ETA: 2s - loss: 0.1231 - accuracy: 0.96 - ETA: 2s - loss: 0.1202 - accuracy: 0.96 - ETA: 2s - loss: 0.1202 - accuracy: 0.96 - ETA: 2s - loss: 0.1190 - accuracy: 0.96 - ETA: 2s - loss: 0.1195 - accuracy: 0.96 - ETA: 2s - loss: 0.1178 - accuracy: 0.96 - ETA: 2s - loss: 0.1163 - accuracy: 0.96 - ETA: 2s - loss: 0.1158 - accuracy: 0.96 - ETA: 2s - loss: 0.1167 - accuracy: 0.96 - ETA: 2s - loss: 0.1157 - accuracy: 0.96 - ETA: 2s - loss: 0.1143 - accuracy: 0.96 - ETA: 2s - loss: 0.1133 - accuracy: 0.96 - ETA: 2s - loss: 0.1132 - accuracy: 0.96 - ETA: 2s - loss: 0.1133 - accuracy: 0.96 - ETA: 2s - loss: 0.1130 - accuracy: 0.96 - ETA: 2s - loss: 0.1140 - accuracy: 0.96 - ETA: 1s - loss: 0.1144 - accuracy: 0.96 - ETA: 1s - loss: 0.1144 - accuracy: 0.96 - ETA: 1s - loss: 0.1150 - accuracy: 0.96 - ETA: 1s - loss: 0.1145 - accuracy: 0.96 - ETA: 1s - loss: 0.1133 - accuracy: 0.96 - ETA: 1s - loss: 0.1128 - accuracy: 0.96 - ETA: 1s - loss: 0.1116 - accuracy: 0.96 - ETA: 1s - loss: 0.1113 - accuracy: 0.96 - ETA: 1s - loss: 0.1116 - accuracy: 0.96 - ETA: 1s - loss: 0.1107 - accuracy: 0.96 - ETA: 1s - loss: 0.1105 - accuracy: 0.96 - ETA: 1s - loss: 0.1114 - accuracy: 0.96 - ETA: 1s - loss: 0.1109 - accuracy: 0.96 - ETA: 1s - loss: 0.1100 - accuracy: 0.96 - ETA: 1s - loss: 0.1094 - accuracy: 0.96 - ETA: 1s - loss: 0.1094 - accuracy: 0.96 - ETA: 1s - loss: 0.1089 - accuracy: 0.96 - ETA: 1s - loss: 0.1090 - accuracy: 0.96 - ETA: 1s - loss: 0.1088 - accuracy: 0.96 - ETA: 0s - loss: 0.1083 - accuracy: 0.96 - ETA: 0s - loss: 0.1085 - accuracy: 0.96 - ETA: 0s - loss: 0.1081 - accuracy: 0.96 - ETA: 0s - loss: 0.1070 - accuracy: 0.96 - ETA: 0s - loss: 0.1067 - accuracy: 0.96 - ETA: 0s - loss: 0.1063 - accuracy: 0.96 - ETA: 0s - loss: 0.1061 - accuracy: 0.96 - ETA: 0s - loss: 0.1058 - accuracy: 0.96 - ETA: 0s - loss: 0.1060 - accuracy: 0.96 - ETA: 0s - loss: 0.1060 - accuracy: 0.96 - ETA: 0s - loss: 0.1052 - accuracy: 0.96 - ETA: 0s - loss: 0.1048 - accuracy: 0.96 - ETA: 0s - loss: 0.1045 - accuracy: 0.96 - ETA: 0s - loss: 0.1043 - accuracy: 0.96 - ETA: 0s - loss: 0.1039 - accuracy: 0.96 - ETA: 0s - loss: 0.1036 - accuracy: 0.96 - ETA: 0s - loss: 0.1030 - accuracy: 0.96 - ETA: 0s - loss: 0.1023 - accuracy: 0.96 - ETA: 0s - loss: 0.1021 - accuracy: 0.96 - 3s 54us/step - loss: 0.1021 - accuracy: 0.9696\n",
      "Epoch 3/5\n",
      "60000/60000 [==============================] - ETA: 4s - loss: 0.0977 - accuracy: 0.97 - ETA: 3s - loss: 0.0602 - accuracy: 0.98 - ETA: 3s - loss: 0.0644 - accuracy: 0.97 - ETA: 3s - loss: 0.0641 - accuracy: 0.98 - ETA: 2s - loss: 0.0595 - accuracy: 0.98 - ETA: 2s - loss: 0.0618 - accuracy: 0.98 - ETA: 2s - loss: 0.0622 - accuracy: 0.98 - ETA: 2s - loss: 0.0607 - accuracy: 0.98 - ETA: 2s - loss: 0.0621 - accuracy: 0.98 - ETA: 2s - loss: 0.0624 - accuracy: 0.98 - ETA: 2s - loss: 0.0616 - accuracy: 0.98 - ETA: 2s - loss: 0.0640 - accuracy: 0.98 - ETA: 2s - loss: 0.0634 - accuracy: 0.98 - ETA: 2s - loss: 0.0652 - accuracy: 0.98 - ETA: 2s - loss: 0.0666 - accuracy: 0.97 - ETA: 2s - loss: 0.0680 - accuracy: 0.97 - ETA: 2s - loss: 0.0675 - accuracy: 0.98 - ETA: 2s - loss: 0.0668 - accuracy: 0.98 - ETA: 2s - loss: 0.0664 - accuracy: 0.98 - ETA: 2s - loss: 0.0657 - accuracy: 0.98 - ETA: 2s - loss: 0.0666 - accuracy: 0.98 - ETA: 2s - loss: 0.0673 - accuracy: 0.98 - ETA: 2s - loss: 0.0677 - accuracy: 0.98 - ETA: 1s - loss: 0.0677 - accuracy: 0.98 - ETA: 1s - loss: 0.0677 - accuracy: 0.98 - ETA: 1s - loss: 0.0672 - accuracy: 0.98 - ETA: 1s - loss: 0.0673 - accuracy: 0.98 - ETA: 1s - loss: 0.0672 - accuracy: 0.98 - ETA: 1s - loss: 0.0672 - accuracy: 0.98 - ETA: 1s - loss: 0.0675 - accuracy: 0.98 - ETA: 1s - loss: 0.0679 - accuracy: 0.98 - ETA: 1s - loss: 0.0677 - accuracy: 0.98 - ETA: 1s - loss: 0.0672 - accuracy: 0.98 - ETA: 1s - loss: 0.0673 - accuracy: 0.98 - ETA: 1s - loss: 0.0675 - accuracy: 0.98 - ETA: 1s - loss: 0.0676 - accuracy: 0.98 - ETA: 1s - loss: 0.0667 - accuracy: 0.98 - ETA: 1s - loss: 0.0676 - accuracy: 0.98 - ETA: 1s - loss: 0.0677 - accuracy: 0.98 - ETA: 1s - loss: 0.0679 - accuracy: 0.98 - ETA: 1s - loss: 0.0678 - accuracy: 0.98 - ETA: 1s - loss: 0.0676 - accuracy: 0.98 - ETA: 0s - loss: 0.0678 - accuracy: 0.98 - ETA: 0s - loss: 0.0679 - accuracy: 0.97 - ETA: 0s - loss: 0.0677 - accuracy: 0.97 - ETA: 0s - loss: 0.0674 - accuracy: 0.98 - ETA: 0s - loss: 0.0674 - accuracy: 0.98 - ETA: 0s - loss: 0.0679 - accuracy: 0.97 - ETA: 0s - loss: 0.0685 - accuracy: 0.97 - ETA: 0s - loss: 0.0683 - accuracy: 0.97 - ETA: 0s - loss: 0.0691 - accuracy: 0.97 - ETA: 0s - loss: 0.0695 - accuracy: 0.97 - ETA: 0s - loss: 0.0693 - accuracy: 0.97 - ETA: 0s - loss: 0.0691 - accuracy: 0.97 - ETA: 0s - loss: 0.0687 - accuracy: 0.97 - ETA: 0s - loss: 0.0686 - accuracy: 0.97 - ETA: 0s - loss: 0.0683 - accuracy: 0.97 - ETA: 0s - loss: 0.0684 - accuracy: 0.97 - ETA: 0s - loss: 0.0680 - accuracy: 0.97 - ETA: 0s - loss: 0.0682 - accuracy: 0.97 - 3s 53us/step - loss: 0.0684 - accuracy: 0.9797\n",
      "Epoch 4/5\n"
     ]
    },
    {
     "name": "stdout",
     "output_type": "stream",
     "text": [
      "60000/60000 [==============================] - ETA: 3s - loss: 0.0402 - accuracy: 0.98 - ETA: 3s - loss: 0.0431 - accuracy: 0.98 - ETA: 3s - loss: 0.0465 - accuracy: 0.98 - ETA: 3s - loss: 0.0462 - accuracy: 0.98 - ETA: 3s - loss: 0.0430 - accuracy: 0.98 - ETA: 3s - loss: 0.0443 - accuracy: 0.98 - ETA: 3s - loss: 0.0445 - accuracy: 0.98 - ETA: 2s - loss: 0.0459 - accuracy: 0.98 - ETA: 2s - loss: 0.0475 - accuracy: 0.98 - ETA: 2s - loss: 0.0483 - accuracy: 0.98 - ETA: 2s - loss: 0.0482 - accuracy: 0.98 - ETA: 2s - loss: 0.0482 - accuracy: 0.98 - ETA: 2s - loss: 0.0485 - accuracy: 0.98 - ETA: 2s - loss: 0.0486 - accuracy: 0.98 - ETA: 2s - loss: 0.0470 - accuracy: 0.98 - ETA: 2s - loss: 0.0472 - accuracy: 0.98 - ETA: 2s - loss: 0.0469 - accuracy: 0.98 - ETA: 2s - loss: 0.0474 - accuracy: 0.98 - ETA: 2s - loss: 0.0481 - accuracy: 0.98 - ETA: 2s - loss: 0.0482 - accuracy: 0.98 - ETA: 2s - loss: 0.0477 - accuracy: 0.98 - ETA: 2s - loss: 0.0476 - accuracy: 0.98 - ETA: 2s - loss: 0.0476 - accuracy: 0.98 - ETA: 2s - loss: 0.0481 - accuracy: 0.98 - ETA: 2s - loss: 0.0488 - accuracy: 0.98 - ETA: 1s - loss: 0.0491 - accuracy: 0.98 - ETA: 1s - loss: 0.0486 - accuracy: 0.98 - ETA: 1s - loss: 0.0488 - accuracy: 0.98 - ETA: 1s - loss: 0.0491 - accuracy: 0.98 - ETA: 1s - loss: 0.0489 - accuracy: 0.98 - ETA: 1s - loss: 0.0489 - accuracy: 0.98 - ETA: 1s - loss: 0.0487 - accuracy: 0.98 - ETA: 1s - loss: 0.0488 - accuracy: 0.98 - ETA: 1s - loss: 0.0494 - accuracy: 0.98 - ETA: 1s - loss: 0.0493 - accuracy: 0.98 - ETA: 1s - loss: 0.0492 - accuracy: 0.98 - ETA: 1s - loss: 0.0488 - accuracy: 0.98 - ETA: 1s - loss: 0.0489 - accuracy: 0.98 - ETA: 1s - loss: 0.0489 - accuracy: 0.98 - ETA: 1s - loss: 0.0486 - accuracy: 0.98 - ETA: 1s - loss: 0.0481 - accuracy: 0.98 - ETA: 1s - loss: 0.0483 - accuracy: 0.98 - ETA: 1s - loss: 0.0482 - accuracy: 0.98 - ETA: 0s - loss: 0.0484 - accuracy: 0.98 - ETA: 0s - loss: 0.0481 - accuracy: 0.98 - ETA: 0s - loss: 0.0479 - accuracy: 0.98 - ETA: 0s - loss: 0.0479 - accuracy: 0.98 - ETA: 0s - loss: 0.0476 - accuracy: 0.98 - ETA: 0s - loss: 0.0485 - accuracy: 0.98 - ETA: 0s - loss: 0.0486 - accuracy: 0.98 - ETA: 0s - loss: 0.0485 - accuracy: 0.98 - ETA: 0s - loss: 0.0484 - accuracy: 0.98 - ETA: 0s - loss: 0.0488 - accuracy: 0.98 - ETA: 0s - loss: 0.0491 - accuracy: 0.98 - ETA: 0s - loss: 0.0493 - accuracy: 0.98 - ETA: 0s - loss: 0.0494 - accuracy: 0.98 - ETA: 0s - loss: 0.0492 - accuracy: 0.98 - ETA: 0s - loss: 0.0489 - accuracy: 0.98 - ETA: 0s - loss: 0.0487 - accuracy: 0.98 - ETA: 0s - loss: 0.0486 - accuracy: 0.98 - ETA: 0s - loss: 0.0492 - accuracy: 0.98 - 3s 54us/step - loss: 0.0495 - accuracy: 0.9847\n",
      "Epoch 5/5\n",
      "60000/60000 [==============================] - ETA: 4s - loss: 0.0576 - accuracy: 0.97 - ETA: 3s - loss: 0.0288 - accuracy: 0.99 - ETA: 3s - loss: 0.0315 - accuracy: 0.99 - ETA: 3s - loss: 0.0310 - accuracy: 0.99 - ETA: 3s - loss: 0.0293 - accuracy: 0.99 - ETA: 2s - loss: 0.0298 - accuracy: 0.99 - ETA: 2s - loss: 0.0325 - accuracy: 0.99 - ETA: 2s - loss: 0.0353 - accuracy: 0.98 - ETA: 2s - loss: 0.0358 - accuracy: 0.98 - ETA: 2s - loss: 0.0360 - accuracy: 0.98 - ETA: 2s - loss: 0.0355 - accuracy: 0.98 - ETA: 2s - loss: 0.0359 - accuracy: 0.98 - ETA: 2s - loss: 0.0359 - accuracy: 0.98 - ETA: 2s - loss: 0.0348 - accuracy: 0.98 - ETA: 2s - loss: 0.0342 - accuracy: 0.99 - ETA: 2s - loss: 0.0340 - accuracy: 0.98 - ETA: 2s - loss: 0.0334 - accuracy: 0.99 - ETA: 2s - loss: 0.0348 - accuracy: 0.98 - ETA: 2s - loss: 0.0347 - accuracy: 0.99 - ETA: 2s - loss: 0.0355 - accuracy: 0.98 - ETA: 2s - loss: 0.0358 - accuracy: 0.98 - ETA: 2s - loss: 0.0358 - accuracy: 0.98 - ETA: 1s - loss: 0.0359 - accuracy: 0.98 - ETA: 1s - loss: 0.0359 - accuracy: 0.98 - ETA: 1s - loss: 0.0355 - accuracy: 0.98 - ETA: 1s - loss: 0.0353 - accuracy: 0.98 - ETA: 1s - loss: 0.0350 - accuracy: 0.98 - ETA: 1s - loss: 0.0355 - accuracy: 0.98 - ETA: 1s - loss: 0.0360 - accuracy: 0.98 - ETA: 1s - loss: 0.0361 - accuracy: 0.98 - ETA: 1s - loss: 0.0360 - accuracy: 0.98 - ETA: 1s - loss: 0.0361 - accuracy: 0.98 - ETA: 1s - loss: 0.0364 - accuracy: 0.98 - ETA: 1s - loss: 0.0364 - accuracy: 0.98 - ETA: 1s - loss: 0.0362 - accuracy: 0.98 - ETA: 1s - loss: 0.0362 - accuracy: 0.98 - ETA: 1s - loss: 0.0362 - accuracy: 0.98 - ETA: 1s - loss: 0.0361 - accuracy: 0.98 - ETA: 1s - loss: 0.0360 - accuracy: 0.98 - ETA: 1s - loss: 0.0357 - accuracy: 0.98 - ETA: 0s - loss: 0.0356 - accuracy: 0.98 - ETA: 0s - loss: 0.0363 - accuracy: 0.98 - ETA: 0s - loss: 0.0364 - accuracy: 0.98 - ETA: 0s - loss: 0.0370 - accuracy: 0.98 - ETA: 0s - loss: 0.0373 - accuracy: 0.98 - ETA: 0s - loss: 0.0374 - accuracy: 0.98 - ETA: 0s - loss: 0.0375 - accuracy: 0.98 - ETA: 0s - loss: 0.0373 - accuracy: 0.98 - ETA: 0s - loss: 0.0371 - accuracy: 0.98 - ETA: 0s - loss: 0.0373 - accuracy: 0.98 - ETA: 0s - loss: 0.0376 - accuracy: 0.98 - ETA: 0s - loss: 0.0374 - accuracy: 0.98 - ETA: 0s - loss: 0.0375 - accuracy: 0.98 - ETA: 0s - loss: 0.0373 - accuracy: 0.98 - ETA: 0s - loss: 0.0376 - accuracy: 0.98 - ETA: 0s - loss: 0.0377 - accuracy: 0.98 - ETA: 0s - loss: 0.0378 - accuracy: 0.98 - ETA: 0s - loss: 0.0377 - accuracy: 0.98 - ETA: 0s - loss: 0.0379 - accuracy: 0.98 - 3s 53us/step - loss: 0.0378 - accuracy: 0.9883\n"
     ]
    },
    {
     "data": {
      "text/plain": [
       "<keras.callbacks.callbacks.History at 0x251c2aca548>"
      ]
     },
     "execution_count": 67,
     "metadata": {},
     "output_type": "execute_result"
    }
   ],
   "source": [
    "model2.fit(trainImage, trainLabel, epochs=5, batch_size=128) # 2^n 으로 주는게 좋음 뭐든지"
   ]
  },
  {
   "cell_type": "code",
   "execution_count": 69,
   "metadata": {},
   "outputs": [
    {
     "name": "stdout",
     "output_type": "stream",
     "text": [
      "10000/10000 [==============================] - ETA:  - ETA:  - ETA:  - ETA:  - ETA:  - ETA:  - ETA:  - ETA:  - ETA:  - 0s 43us/step\n"
     ]
    },
    {
     "data": {
      "text/plain": [
       "0.9786999821662903"
      ]
     },
     "execution_count": 69,
     "metadata": {},
     "output_type": "execute_result"
    }
   ],
   "source": [
    "l, a=model2.evaluate(testImage, testLabel)\n",
    "a"
   ]
  },
  {
   "cell_type": "code",
   "execution_count": 70,
   "metadata": {},
   "outputs": [
    {
     "data": {
      "text/plain": [
       "''"
      ]
     },
     "execution_count": 70,
     "metadata": {},
     "output_type": "execute_result"
    }
   ],
   "source": [
    "\"\"\"\n",
    "일반적(텐서플로) : 이미지(128, 높이, 너비, 3(채널))\n",
    "씨아노 : 이미지(128, 채널, 높이, 너비)\n",
    "\n",
    "비디오 : 5차원 텐서, 프레임의 연속\n",
    "(프레임, 높이, 너비, 채널)\n",
    "ex) 60초 짜리, 100*200 유튜브 비디오, 초당 4프레임을 샘플링\n",
    "4*60=240 프레임\n",
    "비디오 클립이 5개\n",
    "(5, 240, 100, 200, 3(color))\n",
    "\"\"\""
   ]
  },
  {
   "cell_type": "code",
   "execution_count": null,
   "metadata": {},
   "outputs": [],
   "source": []
  }
 ],
 "metadata": {
  "kernelspec": {
   "display_name": "Python 3",
   "language": "python",
   "name": "python3"
  },
  "language_info": {
   "codemirror_mode": {
    "name": "ipython",
    "version": 3
   },
   "file_extension": ".py",
   "mimetype": "text/x-python",
   "name": "python",
   "nbconvert_exporter": "python",
   "pygments_lexer": "ipython3",
   "version": "3.7.4"
  }
 },
 "nbformat": 4,
 "nbformat_minor": 2
}
