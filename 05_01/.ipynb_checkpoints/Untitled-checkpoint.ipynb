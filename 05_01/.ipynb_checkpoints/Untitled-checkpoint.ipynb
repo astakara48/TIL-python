{
 "cells": [
  {
   "cell_type": "code",
   "execution_count": 1,
   "metadata": {},
   "outputs": [],
   "source": [
    "import numpy as np\n",
    "import tensorflow as tf"
   ]
  },
  {
   "cell_type": "code",
   "execution_count": 7,
   "metadata": {},
   "outputs": [
    {
     "data": {
      "text/plain": [
       "(5, 2, 7)"
      ]
     },
     "execution_count": 7,
     "metadata": {},
     "output_type": "execute_result"
    }
   ],
   "source": [
    "ct=np.arange(7*5*2).reshape(7,5,2)\n",
    "np.transpose(ct).shape\n",
    "# m*n => .T => n*m\n",
    "# i*j*k => .T => ikj, jik, jki, kij, kji\n",
    "np.transpose(ct, [1,2,0]).shape"
   ]
  },
  {
   "cell_type": "code",
   "execution_count": 9,
   "metadata": {},
   "outputs": [],
   "source": [
    "sess=tf.Session()"
   ]
  },
  {
   "cell_type": "code",
   "execution_count": 11,
   "metadata": {},
   "outputs": [
    {
     "name": "stdout",
     "output_type": "stream",
     "text": [
      "[[13 14 15 16]\n",
      " [17 18 19 20]\n",
      " [21 22 23 24]]\n"
     ]
    }
   ],
   "source": [
    "t=[i for i in range(1,25)]\n",
    "t=tf.reshape(t,[2,3,4])\n",
    "t=t[-1]\n",
    "print(sess.run(t))"
   ]
  },
  {
   "cell_type": "code",
   "execution_count": 28,
   "metadata": {},
   "outputs": [],
   "source": [
    "# cast study 1 : 4글자로 구성된 단어 -> 학습\n",
    "# 단어의 앞 3글자 입력 -> 마지막 글자 예측\n",
    "# wood -> 학습 -> 모델\n",
    "# woo 입력 -----> 모델 -> d 예측\n",
    "# wop 입력 -----> 모델 -> d 예측\n",
    "\n",
    "char_arr=[chr(i) for i in range(97,123)] # 'a' ~ 'z' \n",
    "# num_dic={}\n",
    "# for i in range(len(char_arr)):\n",
    "#     num_dic[char_arr[i]]=i\n",
    "    \n",
    "num_dic={n:i for i, n in enumerate(char_arr)}\n",
    "dic_len=len(num_dic)"
   ]
  },
  {
   "cell_type": "code",
   "execution_count": 29,
   "metadata": {},
   "outputs": [],
   "source": [
    "seq_data=['word','wood','deep','dive','cold','cool','load','love','kiss','kind',]\n",
    "# x: wor, y:d\n",
    "# x: woo, y:d"
   ]
  },
  {
   "cell_type": "code",
   "execution_count": 43,
   "metadata": {},
   "outputs": [],
   "source": [
    "def make_batch(seq_data):\n",
    "    input_batch=[]\n",
    "    target_batch=[]\n",
    "    for seq in seq_data: # seq = word\n",
    "        myInput=[num_dic[n] for n in seq[:-1]] # wor => 22, 14, 17\n",
    "        #print(myInput)\n",
    "        target=num_dic[seq[-1]]\n",
    "        input_batch.append(np.eye(dic_len)[myInput])\n",
    "        target_batch.append(target)\n",
    "        \n",
    "    return input_batch, target_batch # x data, y data"
   ]
  },
  {
   "cell_type": "code",
   "execution_count": 44,
   "metadata": {},
   "outputs": [],
   "source": [
    "input_batch, target_batch = make_batch(seq_data)\n",
    "# woo, d"
   ]
  },
  {
   "cell_type": "code",
   "execution_count": 45,
   "metadata": {},
   "outputs": [
    {
     "data": {
      "text/plain": [
       "[3, 3, 15, 4, 3, 11, 3, 4, 18, 3]"
      ]
     },
     "execution_count": 45,
     "metadata": {},
     "output_type": "execute_result"
    }
   ],
   "source": [
    "target_batch"
   ]
  },
  {
   "cell_type": "code",
   "execution_count": 47,
   "metadata": {},
   "outputs": [],
   "source": [
    "# softmax_cross_entropy_with_logits 함수는 label 값을 one-hot 인코딩으로 넘겨줌\n",
    "# sparse_softmax_cross_entropy_with_logits 함수는 label 값이 one-hot 인코딩이 안된 경우에 사용\n",
    "lr=0.01\n",
    "n_hidden=128 # cell 출력 개수\n",
    "total_epoch=30\n",
    "n_step=3 # 입력 3글자\n",
    "# 일반적으로 단어들은 4글자가 아님 => 때문에 training할 단어중 가장 긴 단어를 기준으로 \n",
    "# 다른 짧은 단어들에게는 0을 넣어서 padding해줌\n",
    "\n",
    "n_input=n_class=dic_len # 26, 입력 크기(n_input), 클래스 종류 개수(n_class)"
   ]
  },
  {
   "cell_type": "code",
   "execution_count": null,
   "metadata": {},
   "outputs": [],
   "source": [
    "# 신경망 모델 구성\n",
    "x\n",
    "y\n",
    "w\n",
    "b\n",
    "cell1\n",
    "cell2\n",
    "multi_cell=tf.nn.rnn_cell.MultiRNNCell([cell1,cell2]) # cell1, cell2 를 아래 위로 연결시켜 줌"
   ]
  }
 ],
 "metadata": {
  "kernelspec": {
   "display_name": "Python 3",
   "language": "python",
   "name": "python3"
  },
  "language_info": {
   "codemirror_mode": {
    "name": "ipython",
    "version": 3
   },
   "file_extension": ".py",
   "mimetype": "text/x-python",
   "name": "python",
   "nbconvert_exporter": "python",
   "pygments_lexer": "ipython3",
   "version": "3.7.4"
  }
 },
 "nbformat": 4,
 "nbformat_minor": 2
}
