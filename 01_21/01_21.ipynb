{
 "cells": [
  {
   "cell_type": "code",
   "execution_count": 1,
   "metadata": {},
   "outputs": [],
   "source": [
    "# 배열 축 추가 : np.newaxis, np.tile()\n",
    "import numpy as np"
   ]
  },
  {
   "cell_type": "code",
   "execution_count": 4,
   "metadata": {},
   "outputs": [
    {
     "data": {
      "text/plain": [
       "(4,)"
      ]
     },
     "execution_count": 4,
     "metadata": {},
     "output_type": "execute_result"
    }
   ],
   "source": [
    "a=np.array([1,2,3,4])\n",
    "a\n",
    "a.shape"
   ]
  },
  {
   "cell_type": "code",
   "execution_count": 7,
   "metadata": {},
   "outputs": [
    {
     "data": {
      "text/plain": [
       "(1, 4)"
      ]
     },
     "execution_count": 7,
     "metadata": {},
     "output_type": "execute_result"
    }
   ],
   "source": [
    "a41=a[np.newaxis,:]\n",
    "a41\n",
    "a41.shape"
   ]
  },
  {
   "cell_type": "code",
   "execution_count": 12,
   "metadata": {},
   "outputs": [
    {
     "data": {
      "text/plain": [
       "(3, 1, 5)"
      ]
     },
     "execution_count": 12,
     "metadata": {},
     "output_type": "execute_result"
    }
   ],
   "source": [
    "b=np.arange(15).reshape(3,5)\n",
    "b\n",
    "b351=b[:,:,np.newaxis]\n",
    "b351.shape\n",
    "b315=b[:,np.newaxis,:]\n",
    "b315.shape"
   ]
  },
  {
   "cell_type": "code",
   "execution_count": 16,
   "metadata": {},
   "outputs": [
    {
     "data": {
      "text/plain": [
       "array([[0, 1, 2, 3],\n",
       "       [4, 5, 6, 7],\n",
       "       [0, 1, 2, 3],\n",
       "       [4, 5, 6, 7]])"
      ]
     },
     "execution_count": 16,
     "metadata": {},
     "output_type": "execute_result"
    }
   ],
   "source": [
    "a=np.array([0,1,2,3])\n",
    "a8=np.tile(a,2)\n",
    "a8\n",
    "\n",
    "a32=np.tile(a,(3,2))\n",
    "a32\n",
    "\n",
    "b=np.arange(8).reshape(2,4)\n",
    "b28=np.tile(b,2)\n",
    "b28\n",
    "\n",
    "b44=np.tile(b,(2,1))\n",
    "b44"
   ]
  },
  {
   "cell_type": "code",
   "execution_count": 20,
   "metadata": {},
   "outputs": [
    {
     "data": {
      "text/plain": [
       "array([[ 0,  5, 10],\n",
       "       [ 1,  6, 11],\n",
       "       [ 2,  7, 12],\n",
       "       [ 3,  8, 13],\n",
       "       [ 4,  9, 14]])"
      ]
     },
     "execution_count": 20,
     "metadata": {},
     "output_type": "execute_result"
    }
   ],
   "source": [
    "# 행렬의 내적 : aT *a\n",
    "a=np.arange(15).reshape(3,5)\n",
    "a.T\n",
    "np.transpose(a)"
   ]
  },
  {
   "cell_type": "code",
   "execution_count": 26,
   "metadata": {},
   "outputs": [
    {
     "data": {
      "text/plain": [
       "array([ 0, 10, 10,  3,  4,  5,  6,  7,  8,  9])"
      ]
     },
     "execution_count": 26,
     "metadata": {},
     "output_type": "execute_result"
    }
   ],
   "source": [
    "a=np.arange(10)\n",
    "ai=a[0:5]\n",
    "ai[1:3]=10\n",
    "ai\n",
    "a"
   ]
  },
  {
   "cell_type": "code",
   "execution_count": 69,
   "metadata": {},
   "outputs": [
    {
     "data": {
      "text/plain": [
       "array([[ 0,  1,  2,  3],\n",
       "       [ 4,  5,  6,  7],\n",
       "       [ 8,  9, 10, 11],\n",
       "       [12, 13, 14, 15],\n",
       "       [16, 17, 18, 19]])"
      ]
     },
     "execution_count": 69,
     "metadata": {},
     "output_type": "execute_result"
    }
   ],
   "source": [
    "arr=np.arange(20).reshape(5,4)\n",
    "abc=np.array(['a','a','b','c','c'])\n",
    "arr"
   ]
  },
  {
   "cell_type": "code",
   "execution_count": 70,
   "metadata": {},
   "outputs": [
    {
     "data": {
      "text/plain": [
       "array([[99, 99, 99, 99],\n",
       "       [99, 99, 99, 99],\n",
       "       [ 8,  9, 10, 11],\n",
       "       [12, 13, 14, 15],\n",
       "       [16, 17, 18, 19]])"
      ]
     },
     "execution_count": 70,
     "metadata": {},
     "output_type": "execute_result"
    }
   ],
   "source": [
    "arr[abc=='a'] # true인 행만 출력\n",
    "arr[abc=='a',:]\n",
    "\n",
    "arr[abc=='a',:2]\n",
    "arr[abc=='a',2]\n",
    "\n",
    "arr[abc!='a']\n",
    "arr[~(abc=='a')]\n",
    "\n",
    "arr[(abc=='a') | (abc=='b')]\n",
    "\n",
    "arr[(abc!='a') & (abc!='b')]\n",
    "\n",
    "# arr에서 abc배열을 이용하여 'a'와 같은 행은 모두 99로 변경\n",
    "\n",
    "arr[(abc=='a')]=99\n",
    "arr"
   ]
  },
  {
   "cell_type": "code",
   "execution_count": 71,
   "metadata": {},
   "outputs": [
    {
     "data": {
      "text/plain": [
       "array([[ 0,  0,  0,  0],\n",
       "       [ 0,  0,  0,  0],\n",
       "       [ 8,  9, 10, 11],\n",
       "       [12, 13, 14, 15],\n",
       "       [16, 17, 18, 19]])"
      ]
     },
     "execution_count": 71,
     "metadata": {},
     "output_type": "execute_result"
    }
   ],
   "source": [
    "# arr배열에서 20보다 큰 값은 모두 0으로 변경\n",
    "arr[arr>=20]=0\n",
    "arr"
   ]
  },
  {
   "cell_type": "code",
   "execution_count": 72,
   "metadata": {},
   "outputs": [
    {
     "data": {
      "text/plain": [
       "array([[ 0,  0,  0,  0],\n",
       "       [ 0,  0,  0,  0],\n",
       "       [10, 10, 10, 10],\n",
       "       [10, 10, 10, 10],\n",
       "       [16, 17, 18, 19]])"
      ]
     },
     "execution_count": 72,
     "metadata": {},
     "output_type": "execute_result"
    }
   ],
   "source": [
    "# arr 배열에서 8이상 15이하의 값은 모두 10으로 변경\n",
    "arr[(arr>=8)&(arr<=15)]=10\n",
    "arr"
   ]
  },
  {
   "cell_type": "code",
   "execution_count": 81,
   "metadata": {},
   "outputs": [
    {
     "data": {
      "text/plain": [
       "array([-3., -2.,  0.,  1.,  3.,  4.])"
      ]
     },
     "execution_count": 81,
     "metadata": {},
     "output_type": "execute_result"
    }
   ],
   "source": [
    "a=np.array([-3.5,-2.2,0,1.6,3.14,4.05])\n",
    "np.around(a)\n",
    "np.round_(a,1) # 소수 이하 첫째자리\n",
    "np.rint(a) # 가까운 정수로 올림 또는 내림\n",
    "np.fix(a) # 0 방향으로 가까운 정수로 올림 또는 내림\n",
    "np.ceil(a) # 갑보다 크거나 같은 가장 작은 정수값으로 올림\n",
    "np.floor(a) # 값보다 작거나 같은 가장 큰 정수값으로 내림\n",
    "np.trunc(a) # 소수 이하를 버리고 정수만 출력"
   ]
  },
  {
   "cell_type": "code",
   "execution_count": 84,
   "metadata": {},
   "outputs": [
    {
     "data": {
      "text/plain": [
       "array([[1, 2],\n",
       "       [3, 4]])"
      ]
     },
     "execution_count": 84,
     "metadata": {},
     "output_type": "execute_result"
    }
   ],
   "source": [
    "a=np.array([1,2,3,4])\n",
    "c=np.arange(1,5).reshape(2,2)"
   ]
  },
  {
   "cell_type": "code",
   "execution_count": 92,
   "metadata": {},
   "outputs": [
    {
     "data": {
      "text/plain": [
       "array([ 2, 12])"
      ]
     },
     "execution_count": 92,
     "metadata": {},
     "output_type": "execute_result"
    }
   ],
   "source": [
    "# 배열 요소값 곱셈\n",
    "np.prod(a)\n",
    "#np.prod(a, axis=0)\n",
    "np.prod(c)\n",
    "np.prod(c,axis=0)\n",
    "np.prod(c,axis=1)\n"
   ]
  },
  {
   "cell_type": "code",
   "execution_count": 100,
   "metadata": {},
   "outputs": [
    {
     "data": {
      "text/plain": [
       "array([3, 7])"
      ]
     },
     "execution_count": 100,
     "metadata": {},
     "output_type": "execute_result"
    }
   ],
   "source": [
    "np.sum(a) # 0 차원, scalar 값\n",
    "a\n",
    "np.sum(a, keepdims=True) # 차원을 그대로 유지하라 => keepdims=\n",
    "np.sum(c,axis=0)\n",
    "np.sum(c,axis=1)\n"
   ]
  },
  {
   "cell_type": "code",
   "execution_count": 113,
   "metadata": {},
   "outputs": [
    {
     "data": {
      "text/plain": [
       "6.0"
      ]
     },
     "execution_count": 113,
     "metadata": {},
     "output_type": "execute_result"
    }
   ],
   "source": [
    "d=np.array([[1,2],[3,np.nan]])\n",
    "d\n",
    "np.prod(d)\n",
    "np.prod(d,axis=1)\n",
    "\n",
    "# np.nanprod 곱셈할때 nan을 1로 간주해서 곱셈\n",
    "np.nanprod(d, axis=0)\n",
    "d\n",
    "np.nansum(d)"
   ]
  },
  {
   "cell_type": "code",
   "execution_count": 120,
   "metadata": {},
   "outputs": [
    {
     "data": {
      "text/plain": [
       "array([[ 1,  2,  3],\n",
       "       [ 4, 10, 18]], dtype=int32)"
      ]
     },
     "execution_count": 120,
     "metadata": {},
     "output_type": "execute_result"
    }
   ],
   "source": [
    "a\n",
    "b=np.arange(1,7).reshape(2,3)\n",
    "b\n",
    "np.cumprod(a) # 누적곱이 출력 됨\n",
    "np.cumprod(b, axis=0)"
   ]
  },
  {
   "cell_type": "code",
   "execution_count": 125,
   "metadata": {},
   "outputs": [
    {
     "data": {
      "text/plain": [
       "array([-16.60964047,   0.        ,   1.        ,   3.32192809])"
      ]
     },
     "execution_count": 125,
     "metadata": {},
     "output_type": "execute_result"
    }
   ],
   "source": [
    "# 지수함수 : np.exp()\n",
    "x=np.array([0.00001,1,2,10])\n",
    "np.exp(x)\n",
    "\n",
    "np.log(x)\n",
    "np.log10(x)\n",
    "np.log2(x)"
   ]
  },
  {
   "cell_type": "code",
   "execution_count": 228,
   "metadata": {},
   "outputs": [],
   "source": [
    "import pandas as pd\n",
    "import numpy as np\n",
    "from pandas import DataFrame\n",
    "import warnings\n",
    "warnings.filterwarnings(action=\"ignore\")\n",
    "from sklearn.preprocessing import StandardScaler, RobustScaler, MinMaxScaler\n",
    "import matplotlib.pyplot as plt\n",
    "import matplotlib.pyplot as plt\n",
    "import seaborn as sns\n",
    "from datetime import timedelta\n",
    "from scipy import stats"
   ]
  },
  {
   "cell_type": "code",
   "execution_count": 229,
   "metadata": {},
   "outputs": [
    {
     "name": "stdout",
     "output_type": "stream",
     "text": [
      "<class 'pandas.core.frame.DataFrame'>\n",
      "RangeIndex: 10886 entries, 0 to 10885\n",
      "Data columns (total 12 columns):\n",
      "datetime      10886 non-null datetime64[ns]\n",
      "season        10886 non-null int64\n",
      "holiday       10886 non-null int64\n",
      "workingday    10886 non-null int64\n",
      "weather       10886 non-null int64\n",
      "temp          10886 non-null float64\n",
      "atemp         10886 non-null float64\n",
      "humidity      10886 non-null int64\n",
      "windspeed     10886 non-null float64\n",
      "casual        10886 non-null int64\n",
      "registered    10886 non-null int64\n",
      "count         10886 non-null int64\n",
      "dtypes: datetime64[ns](1), float64(3), int64(8)\n",
      "memory usage: 1020.7 KB\n"
     ]
    },
    {
     "data": {
      "text/html": [
       "<div>\n",
       "<style scoped>\n",
       "    .dataframe tbody tr th:only-of-type {\n",
       "        vertical-align: middle;\n",
       "    }\n",
       "\n",
       "    .dataframe tbody tr th {\n",
       "        vertical-align: top;\n",
       "    }\n",
       "\n",
       "    .dataframe thead th {\n",
       "        text-align: right;\n",
       "    }\n",
       "</style>\n",
       "<table border=\"1\" class=\"dataframe\">\n",
       "  <thead>\n",
       "    <tr style=\"text-align: right;\">\n",
       "      <th></th>\n",
       "      <th>datetime</th>\n",
       "      <th>season</th>\n",
       "      <th>holiday</th>\n",
       "      <th>workingday</th>\n",
       "      <th>weather</th>\n",
       "      <th>temp</th>\n",
       "      <th>atemp</th>\n",
       "      <th>humidity</th>\n",
       "      <th>windspeed</th>\n",
       "      <th>casual</th>\n",
       "      <th>registered</th>\n",
       "      <th>count</th>\n",
       "    </tr>\n",
       "  </thead>\n",
       "  <tbody>\n",
       "    <tr>\n",
       "      <td>0</td>\n",
       "      <td>2011-01-01 00:00:00</td>\n",
       "      <td>1</td>\n",
       "      <td>0</td>\n",
       "      <td>0</td>\n",
       "      <td>1</td>\n",
       "      <td>9.84</td>\n",
       "      <td>14.395</td>\n",
       "      <td>81</td>\n",
       "      <td>0.0</td>\n",
       "      <td>3</td>\n",
       "      <td>13</td>\n",
       "      <td>16</td>\n",
       "    </tr>\n",
       "    <tr>\n",
       "      <td>1</td>\n",
       "      <td>2011-01-01 01:00:00</td>\n",
       "      <td>1</td>\n",
       "      <td>0</td>\n",
       "      <td>0</td>\n",
       "      <td>1</td>\n",
       "      <td>9.02</td>\n",
       "      <td>13.635</td>\n",
       "      <td>80</td>\n",
       "      <td>0.0</td>\n",
       "      <td>8</td>\n",
       "      <td>32</td>\n",
       "      <td>40</td>\n",
       "    </tr>\n",
       "    <tr>\n",
       "      <td>2</td>\n",
       "      <td>2011-01-01 02:00:00</td>\n",
       "      <td>1</td>\n",
       "      <td>0</td>\n",
       "      <td>0</td>\n",
       "      <td>1</td>\n",
       "      <td>9.02</td>\n",
       "      <td>13.635</td>\n",
       "      <td>80</td>\n",
       "      <td>0.0</td>\n",
       "      <td>5</td>\n",
       "      <td>27</td>\n",
       "      <td>32</td>\n",
       "    </tr>\n",
       "    <tr>\n",
       "      <td>3</td>\n",
       "      <td>2011-01-01 03:00:00</td>\n",
       "      <td>1</td>\n",
       "      <td>0</td>\n",
       "      <td>0</td>\n",
       "      <td>1</td>\n",
       "      <td>9.84</td>\n",
       "      <td>14.395</td>\n",
       "      <td>75</td>\n",
       "      <td>0.0</td>\n",
       "      <td>3</td>\n",
       "      <td>10</td>\n",
       "      <td>13</td>\n",
       "    </tr>\n",
       "    <tr>\n",
       "      <td>4</td>\n",
       "      <td>2011-01-01 04:00:00</td>\n",
       "      <td>1</td>\n",
       "      <td>0</td>\n",
       "      <td>0</td>\n",
       "      <td>1</td>\n",
       "      <td>9.84</td>\n",
       "      <td>14.395</td>\n",
       "      <td>75</td>\n",
       "      <td>0.0</td>\n",
       "      <td>0</td>\n",
       "      <td>1</td>\n",
       "      <td>1</td>\n",
       "    </tr>\n",
       "  </tbody>\n",
       "</table>\n",
       "</div>"
      ],
      "text/plain": [
       "             datetime  season  holiday  workingday  weather  temp   atemp  \\\n",
       "0 2011-01-01 00:00:00       1        0           0        1  9.84  14.395   \n",
       "1 2011-01-01 01:00:00       1        0           0        1  9.02  13.635   \n",
       "2 2011-01-01 02:00:00       1        0           0        1  9.02  13.635   \n",
       "3 2011-01-01 03:00:00       1        0           0        1  9.84  14.395   \n",
       "4 2011-01-01 04:00:00       1        0           0        1  9.84  14.395   \n",
       "\n",
       "   humidity  windspeed  casual  registered  count  \n",
       "0        81        0.0       3          13     16  \n",
       "1        80        0.0       8          32     40  \n",
       "2        80        0.0       5          27     32  \n",
       "3        75        0.0       3          10     13  \n",
       "4        75        0.0       0           1      1  "
      ]
     },
     "execution_count": 229,
     "metadata": {},
     "output_type": "execute_result"
    }
   ],
   "source": [
    "train=pd.read_csv(\"train.csv\", parse_dates=['datetime'])\n",
    "test=pd.read_csv(\"test.csv\",parse_dates=['datetime'])\n",
    "train.info()\n",
    "train.head()"
   ]
  },
  {
   "cell_type": "code",
   "execution_count": 230,
   "metadata": {},
   "outputs": [
    {
     "data": {
      "text/plain": [
       "<matplotlib.axes._subplots.AxesSubplot at 0x1f80a0f7d88>"
      ]
     },
     "execution_count": 230,
     "metadata": {},
     "output_type": "execute_result"
    },
    {
     "data": {
      "image/png": "[encoded data removed]",
      "text/plain": [
       "<Figure size 864x360 with 2 Axes>"
      ]
     },
     "metadata": {
      "needs_background": "light"
     },
     "output_type": "display_data"
    }
   ],
   "source": [
    "train.describe()\n",
    "train.temp.describe()\n",
    "train.isnull().sum()\n",
    "import missingno as msno\n",
    "msno.matrix(train, figsize=(12,5))"
   ]
  },
  {
   "cell_type": "code",
   "execution_count": 231,
   "metadata": {},
   "outputs": [
    {
     "data": {
      "text/plain": [
       "(10886, 19)"
      ]
     },
     "execution_count": 231,
     "metadata": {},
     "output_type": "execute_result"
    }
   ],
   "source": [
    "# 데이터 전처리, 파생변수 생성...\n",
    "train['year']=train['datetime'].dt.year\n",
    "train['month']=train['datetime'].dt.month\n",
    "train['day']=train['datetime'].dt.day\n",
    "train['hour']=train['datetime'].dt.hour\n",
    "train['minute']=train['datetime'].dt.minute\n",
    "train['second']=train['datetime'].dt.second\n",
    "train['dayofweek']=train['datetime'].dt.dayofweek\n",
    "train.shape"
   ]
  },
  {
   "cell_type": "code",
   "execution_count": 232,
   "metadata": {},
   "outputs": [
    {
     "data": {
      "text/plain": [
       "(6493, 16)"
      ]
     },
     "execution_count": 232,
     "metadata": {},
     "output_type": "execute_result"
    }
   ],
   "source": [
    "test['year']=test['datetime'].dt.year\n",
    "test['month']=test['datetime'].dt.month\n",
    "test['day']=test['datetime'].dt.day\n",
    "test['hour']=test['datetime'].dt.hour\n",
    "test['minute']=test['datetime'].dt.minute\n",
    "test['second']=test['datetime'].dt.second\n",
    "test['dayofweek']=test['datetime'].dt.dayofweek\n",
    "test.shape"
   ]
  },
  {
   "cell_type": "code",
   "execution_count": 233,
   "metadata": {},
   "outputs": [
    {
     "data": {
      "text/plain": [
       "<matplotlib.axes._subplots.AxesSubplot at 0x1f80a95b988>"
      ]
     },
     "execution_count": 233,
     "metadata": {},
     "output_type": "execute_result"
    },
    {
     "data": {
      "image/png": "[encoded data removed]",
      "text/plain": [
       "<Figure size 1440x576 with 2 Axes>"
      ]
     },
     "metadata": {
      "needs_background": "light"
     },
     "output_type": "display_data"
    }
   ],
   "source": [
    "fig,axes=plt.subplots(nrows=2)\n",
    "fig.set_size_inches(20,8)\n",
    "plt.sca(axes[0]) # axes[0]를 설정\n",
    "plt.xticks(rotation=30) # 글자 옆으로 기울어지게 출력\n",
    "sns.countplot(data=train,x='windspeed',ax=axes[0])\n",
    "\n",
    "\n",
    "plt.sca(axes[1])\n",
    "plt.xticks(rotation=50)\n",
    "sns.countplot(data=train,x='windspeed',ax=axes[1])\n"
   ]
  },
  {
   "cell_type": "code",
   "execution_count": 234,
   "metadata": {},
   "outputs": [],
   "source": [
    "train['dayofweek']=train['datetime'].dt.dayofweek\n",
    "train.shape\n",
    "test['dayofweek']=test['datetime'].dt.dayofweek\n"
   ]
  },
  {
   "cell_type": "code",
   "execution_count": 235,
   "metadata": {},
   "outputs": [
    {
     "data": {
      "text/html": [
       "<div>\n",
       "<style scoped>\n",
       "    .dataframe tbody tr th:only-of-type {\n",
       "        vertical-align: middle;\n",
       "    }\n",
       "\n",
       "    .dataframe tbody tr th {\n",
       "        vertical-align: top;\n",
       "    }\n",
       "\n",
       "    .dataframe thead th {\n",
       "        text-align: right;\n",
       "    }\n",
       "</style>\n",
       "<table border=\"1\" class=\"dataframe\">\n",
       "  <thead>\n",
       "    <tr style=\"text-align: right;\">\n",
       "      <th></th>\n",
       "      <th>datetime</th>\n",
       "      <th>year_month</th>\n",
       "    </tr>\n",
       "  </thead>\n",
       "  <tbody>\n",
       "    <tr>\n",
       "      <td>0</td>\n",
       "      <td>2011-01-01 00:00:00</td>\n",
       "      <td>2011-1</td>\n",
       "    </tr>\n",
       "    <tr>\n",
       "      <td>1</td>\n",
       "      <td>2011-01-01 01:00:00</td>\n",
       "      <td>2011-1</td>\n",
       "    </tr>\n",
       "    <tr>\n",
       "      <td>2</td>\n",
       "      <td>2011-01-01 02:00:00</td>\n",
       "      <td>2011-1</td>\n",
       "    </tr>\n",
       "    <tr>\n",
       "      <td>3</td>\n",
       "      <td>2011-01-01 03:00:00</td>\n",
       "      <td>2011-1</td>\n",
       "    </tr>\n",
       "    <tr>\n",
       "      <td>4</td>\n",
       "      <td>2011-01-01 04:00:00</td>\n",
       "      <td>2011-1</td>\n",
       "    </tr>\n",
       "    <tr>\n",
       "      <td>...</td>\n",
       "      <td>...</td>\n",
       "      <td>...</td>\n",
       "    </tr>\n",
       "    <tr>\n",
       "      <td>10881</td>\n",
       "      <td>2012-12-19 19:00:00</td>\n",
       "      <td>2012-12</td>\n",
       "    </tr>\n",
       "    <tr>\n",
       "      <td>10882</td>\n",
       "      <td>2012-12-19 20:00:00</td>\n",
       "      <td>2012-12</td>\n",
       "    </tr>\n",
       "    <tr>\n",
       "      <td>10883</td>\n",
       "      <td>2012-12-19 21:00:00</td>\n",
       "      <td>2012-12</td>\n",
       "    </tr>\n",
       "    <tr>\n",
       "      <td>10884</td>\n",
       "      <td>2012-12-19 22:00:00</td>\n",
       "      <td>2012-12</td>\n",
       "    </tr>\n",
       "    <tr>\n",
       "      <td>10885</td>\n",
       "      <td>2012-12-19 23:00:00</td>\n",
       "      <td>2012-12</td>\n",
       "    </tr>\n",
       "  </tbody>\n",
       "</table>\n",
       "<p>10886 rows × 2 columns</p>\n",
       "</div>"
      ],
      "text/plain": [
       "                 datetime year_month\n",
       "0     2011-01-01 00:00:00     2011-1\n",
       "1     2011-01-01 01:00:00     2011-1\n",
       "2     2011-01-01 02:00:00     2011-1\n",
       "3     2011-01-01 03:00:00     2011-1\n",
       "4     2011-01-01 04:00:00     2011-1\n",
       "...                   ...        ...\n",
       "10881 2012-12-19 19:00:00    2012-12\n",
       "10882 2012-12-19 20:00:00    2012-12\n",
       "10883 2012-12-19 21:00:00    2012-12\n",
       "10884 2012-12-19 22:00:00    2012-12\n",
       "10885 2012-12-19 23:00:00    2012-12\n",
       "\n",
       "[10886 rows x 2 columns]"
      ]
     },
     "execution_count": 235,
     "metadata": {},
     "output_type": "execute_result"
    }
   ],
   "source": [
    "def ym(mydt):\n",
    "    return \"{0}-{1}\".format(mydt.year, mydt.month)\n",
    "train['year_month']=train['datetime'].apply(ym)\n",
    "train[['datetime','year_month']]"
   ]
  },
  {
   "cell_type": "code",
   "execution_count": 236,
   "metadata": {},
   "outputs": [],
   "source": [
    "# # 이상치(outliers) 제거\n",
    "# # iqr의 값을 가지고 1.5배를 넘는 것을 이상치로 봄\n",
    "\n",
    "# trainWithoutOutliers=train[np.abs(train['count']-train['count'].mean())<=(train['count'].std()*3)]  # 표준편차*3\n",
    "# train.shape #10886\n",
    "# trainWithoutOutliers.shape #10739\n",
    "\n"
   ]
  },
  {
   "cell_type": "code",
   "execution_count": 237,
   "metadata": {},
   "outputs": [
    {
     "data": {
      "text/plain": [
       "(9573,)"
      ]
     },
     "execution_count": 237,
     "metadata": {},
     "output_type": "execute_result"
    }
   ],
   "source": [
    "trainWind0=train.loc[train.windspeed==0, 'windspeed']\n",
    "trainWindNot0=train.loc[train.windspeed!=0, 'windspeed']\n",
    "trainWind0.shape\n",
    "trainWindNot0.shape\n"
   ]
  },
  {
   "cell_type": "code",
   "execution_count": 238,
   "metadata": {},
   "outputs": [
    {
     "data": {
      "text/plain": [
       "(5699,)"
      ]
     },
     "execution_count": 238,
     "metadata": {},
     "output_type": "execute_result"
    }
   ],
   "source": [
    "testWind0=test.loc[train.windspeed==0, 'windspeed']\n",
    "testWindNot0=test.loc[train.windspeed!=0, 'windspeed']\n",
    "testWind0.shape\n",
    "testWindNot0.shape"
   ]
  },
  {
   "cell_type": "code",
   "execution_count": 239,
   "metadata": {},
   "outputs": [
    {
     "name": "stdout",
     "output_type": "stream",
     "text": [
      "['6.0032' '6.0032' '6.0032' ... '6.0032' '12.998' '6.0032']\n",
      "['11.0014' '11.0014' '7.0015' '11.0014' '12.998' '12.998' '6.0032'\n",
      " '6.0032' '7.0015' '6.0032' '8.9981' '7.0015' '12.998' '12.998' '11.0014'\n",
      " '11.0014' '6.0032' '8.9981' '11.0014' '6.0032' '6.0032' '6.0032' '6.0032'\n",
      " '6.0032' '6.0032' '6.0032' '6.0032' '7.0015' '8.9981' '12.998' '12.998'\n",
      " '6.0032' '12.998' '8.9981' '11.0014' '8.9981' '12.998' '6.0032' '7.0015'\n",
      " '6.0032' '7.0015' '12.998' '12.998' '6.0032' '7.0015' '7.0015' '6.0032'\n",
      " '6.0032' '11.0014' '6.0032' '6.0032' '12.998' '7.0015' '7.0015' '23.9994'\n",
      " '6.0032' '6.0032' '12.998' '11.0014' '12.998' '15.0013' '12.998' '12.998'\n",
      " '7.0015' '12.998' '7.0015' '11.0014' '7.0015' '11.0014' '11.0014'\n",
      " '11.0014' '11.0014' '6.0032' '6.0032' '6.0032' '6.0032' '15.0013'\n",
      " '6.0032' '6.0032' '6.0032' '15.0013' '15.0013' '8.9981' '11.0014'\n",
      " '11.0014' '11.0014' '16.9979' '7.0015' '7.0015' '7.0015' '7.0015'\n",
      " '7.0015' '7.0015' '6.0032' '6.0032' '19.0012' '16.9979' '16.9979'\n",
      " '6.0032' '8.9981' '11.0014' '35.0008' '11.0014' '8.9981' '8.9981'\n",
      " '12.998' '6.0032' '11.0014' '7.0015' '16.9979' '15.0013' '19.9995'\n",
      " '7.0015' '7.0015' '7.0015' '15.0013' '19.0012' '19.0012' '8.9981'\n",
      " '8.9981' '15.0013' '8.9981' '8.9981' '12.998' '7.0015' '19.9995'\n",
      " '19.9995' '12.998' '15.0013' '15.0013' '12.998' '8.9981' '11.0014'\n",
      " '15.0013' '15.0013' '15.0013' '8.9981' '11.0014' '7.0015' '7.0015'\n",
      " '7.0015' '6.0032' '16.9979' '15.0013' '12.998' '6.0032' '12.998'\n",
      " '26.0027' '7.0015' '19.9995' '8.9981' '6.0032' '6.0032' '8.9981' '6.0032'\n",
      " '6.0032' '11.0014' '15.0013' '8.9981' '7.0015' '7.0015' '19.0012'\n",
      " '15.0013' '12.998' '15.0013' '16.9979' '12.998' '7.0015' '8.9981'\n",
      " '8.9981' '6.0032' '7.0015' '6.0032' '8.9981' '12.998' '7.0015' '6.0032'\n",
      " '19.0012' '19.0012' '6.0032' '11.0014' '7.0015' '6.0032' '7.0015'\n",
      " '7.0015' '8.9981' '7.0015' '6.0032' '23.9994' '23.9994' '19.9995'\n",
      " '15.0013' '11.0014' '15.0013' '8.9981' '8.9981' '26.0027' '26.0027'\n",
      " '19.9995' '19.9995' '8.9981' '8.9981' '6.0032' '6.0032' '8.9981' '7.0015'\n",
      " '8.9981' '8.9981' '8.9981' '7.0015' '27.9993' '11.0014' '11.0014'\n",
      " '12.998' '15.0013' '8.9981' '8.9981' '7.0015' '7.0015' '8.9981' '6.0032'\n",
      " '8.9981' '6.0032' '7.0015' '8.9981' '7.0015' '12.998' '7.0015' '7.0015'\n",
      " '7.0015' '7.0015' '12.998' '7.0015' '7.0015' '12.998' '16.9979' '16.9979'\n",
      " '12.998' '12.998' '12.998' '12.998' '6.0032' '6.0032' '7.0015' '12.998'\n",
      " '11.0014' '12.998' '6.0032' '16.9979' '6.0032' '6.0032' '7.0015' '6.0032'\n",
      " '8.9981' '8.9981' '7.0015' '12.998' '12.998' '8.9981' '8.9981' '8.9981'\n",
      " '8.9981' '8.9981' '8.9981' '8.9981' '6.0032' '6.0032' '7.0015' '6.0032'\n",
      " '6.0032' '6.0032' '16.9979' '6.0032' '6.0032' '6.0032' '6.0032' '12.998'\n",
      " '6.0032' '7.0015' '6.0032' '12.998' '12.998' '12.998' '11.0014' '11.0014'\n",
      " '6.0032' '39.0007' '16.9979' '6.0032' '12.998' '12.998' '7.0015' '8.9981'\n",
      " '8.9981' '6.0032' '6.0032' '6.0032' '12.998' '6.0032' '11.0014' '6.0032'\n",
      " '8.9981' '6.0032' '7.0015' '8.9981' '6.0032' '6.0032' '31.0009' '31.0009'\n",
      " '6.0032' '6.0032' '6.0032' '12.998' '12.998' '6.0032' '8.9981' '7.0015'\n",
      " '7.0015' '15.0013' '6.0032' '7.0015' '7.0015' '7.0015' '6.0032' '7.0015'\n",
      " '7.0015' '7.0015' '7.0015' '7.0015' '7.0015' '11.0014' '15.0013'\n",
      " '19.9995' '11.0014' '7.0015' '12.998' '12.998' '15.0013' '15.0013'\n",
      " '8.9981' '15.0013' '6.0032' '26.0027' '7.0015' '7.0015' '7.0015' '6.0032'\n",
      " '15.0013' '11.0014' '7.0015' '7.0015' '11.0014' '7.0015' '15.0013'\n",
      " '35.0008' '16.9979' '16.9979' '11.0014' '11.0014' '11.0014' '7.0015'\n",
      " '7.0015' '19.9995' '19.9995' '19.9995' '12.998' '19.0012' '19.0012'\n",
      " '8.9981' '8.9981' '19.9995' '11.0014' '11.0014' '7.0015' '7.0015'\n",
      " '11.0014' '16.9979' '8.9981' '8.9981' '12.998' '12.998' '16.9979'\n",
      " '11.0014' '7.0015' '7.0015' '7.0015' '6.0032' '7.0015' '8.9981' '19.0012'\n",
      " '12.998' '6.0032' '27.9993' '8.9981' '6.0032' '6.0032' '8.9981' '6.0032'\n",
      " '6.0032' '26.0027' '26.0027' '12.998' '6.0032' '8.9981' '7.0015' '7.0015'\n",
      " '11.0014' '11.0014' '7.0015' '6.0032' '6.0032' '11.0014' '12.998'\n",
      " '7.0015' '15.0013' '19.9995' '7.0015' '7.0015' '7.0015' '11.0014'\n",
      " '6.0032' '6.0032' '6.0032' '6.0032' '11.0014' '8.9981' '8.9981' '8.9981'\n",
      " '8.9981' '11.0014' '26.0027' '12.998' '6.0032' '6.0032' '7.0015' '6.0032'\n",
      " '6.0032' '8.9981' '6.0032' '7.0015' '7.0015' '16.9979' '6.0032' '6.0032'\n",
      " '6.0032' '6.0032' '7.0015' '11.0014' '7.0015' '6.0032' '11.0014' '6.0032'\n",
      " '15.0013' '6.0032' '6.0032' '15.0013' '11.0014' '16.9979' '7.0015'\n",
      " '7.0015' '7.0015' '15.0013' '11.0014' '6.0032' '12.998' '6.0032'\n",
      " '11.0014' '11.0014' '8.9981' '7.0015' '12.998' '7.0015' '12.998' '12.998'\n",
      " '11.0014' '11.0014' '6.0032' '6.0032' '19.0012' '7.0015' '6.0032'\n",
      " '11.0014' '6.0032' '6.0032' '7.0015' '8.9981' '11.0014' '6.0032'\n",
      " '15.0013' '11.0014' '6.0032' '6.0032' '30.0026' '6.0032' '19.0012'\n",
      " '19.0012' '19.0012' '19.0012' '19.9995' '8.9981' '27.9993' '7.0015'\n",
      " '6.0032' '7.0015' '12.998' '16.9979' '27.9993' '15.0013' '16.9979'\n",
      " '6.0032' '6.0032' '6.0032' '19.9995' '8.9981' '8.9981' '8.9981' '12.998'\n",
      " '11.0014' '12.998' '11.0014' '12.998' '16.9979' '8.9981' '19.9995'\n",
      " '19.0012' '7.0015' '27.9993' '11.0014' '11.0014' '7.0015' '16.9979'\n",
      " '11.0014' '16.9979' '16.9979' '8.9981' '7.0015' '12.998' '11.0014'\n",
      " '6.0032' '11.0014' '11.0014' '8.9981' '7.0015' '6.0032' '6.0032' '6.0032'\n",
      " '22.0028' '22.0028' '6.0032' '6.0032' '11.0014' '7.0015' '7.0015'\n",
      " '7.0015' '11.0014' '6.0032' '23.9994' '11.0014' '7.0015' '7.0015'\n",
      " '6.0032' '6.0032' '15.0013' '11.0014' '8.9981' '11.0014' '11.0014'\n",
      " '6.0032' '12.998' '19.9995' '8.9981' '6.0032' '15.0013' '15.0013'\n",
      " '15.0013' '11.0014' '11.0014' '6.0032' '11.0014' '7.0015' '7.0015'\n",
      " '7.0015' '19.0012' '11.0014' '6.0032' '6.0032' '6.0032' '11.0014'\n",
      " '23.9994' '7.0015' '8.9981' '8.9981' '11.0014' '12.998' '8.9981' '8.9981'\n",
      " '8.9981' '15.0013' '6.0032' '12.998' '12.998' '15.0013' '8.9981' '7.0015'\n",
      " '11.0014' '16.9979' '7.0015' '7.0015' '15.0013' '7.0015' '15.0013'\n",
      " '12.998' '6.0032' '6.0032' '11.0014' '6.0032' '6.0032' '6.0032' '6.0032'\n",
      " '8.9981' '12.998' '8.9981' '11.0014' '6.0032' '6.0032' '12.998' '12.998'\n",
      " '8.9981' '23.9994' '8.9981' '8.9981' '8.9981' '8.9981' '7.0015' '8.9981'\n",
      " '7.0015' '19.0012' '6.0032' '12.998' '12.998' '8.9981' '8.9981' '23.9994'\n",
      " '23.9994' '23.9994' '23.9994' '15.0013' '6.0032' '7.0015' '7.0015'\n",
      " '22.0028' '7.0015' '12.998' '22.0028' '8.9981' '19.0012' '11.0014'\n",
      " '6.0032' '11.0014' '8.9981' '11.0014' '11.0014' '6.0032' '23.9994'\n",
      " '23.9994' '6.0032' '6.0032' '8.9981' '6.0032' '12.998' '11.0014' '7.0015'\n",
      " '8.9981' '6.0032' '11.0014' '11.0014' '7.0015' '15.0013' '8.9981'\n",
      " '6.0032' '7.0015' '7.0015' '7.0015' '7.0015' '12.998' '7.0015' '8.9981'\n",
      " '16.9979' '15.0013' '15.0013' '12.998' '6.0032' '7.0015' '7.0015'\n",
      " '8.9981' '7.0015' '6.0032' '6.0032' '6.0032' '6.0032' '6.0032' '16.9979'\n",
      " '8.9981' '15.0013' '16.9979' '19.9995' '16.9979' '6.0032' '6.0032'\n",
      " '6.0032' '12.998' '8.9981' '6.0032' '19.9995' '6.0032' '6.0032' '15.0013'\n",
      " '6.0032' '6.0032' '12.998' '6.0032' '15.0013' '19.0012' '6.0032' '8.9981'\n",
      " '6.0032' '8.9981' '6.0032' '16.9979' '11.0014' '15.0013' '11.0014'\n",
      " '11.0014' '6.0032' '11.0014' '11.0014' '11.0014' '8.9981' '6.0032'\n",
      " '11.0014' '6.0032' '8.9981' '12.998' '22.0028' '15.0013' '16.9979'\n",
      " '6.0032' '11.0014' '7.0015' '7.0015' '7.0015' '6.0032' '11.0014' '8.9981'\n",
      " '6.0032' '6.0032' '6.0032' '8.9981' '8.9981' '11.0014' '8.9981' '7.0015'\n",
      " '6.0032' '7.0015' '11.0014' '6.0032' '8.9981' '8.9981' '7.0015' '6.0032'\n",
      " '12.998' '12.998' '7.0015' '6.0032' '15.0013' '12.998' '16.9979'\n",
      " '16.9979' '12.998' '15.0013' '8.9981' '6.0032' '8.9981' '7.0015' '8.9981'\n",
      " '6.0032' '6.0032' '6.0032' '6.0032' '6.0032' '11.0014' '12.998' '12.998'\n",
      " '11.0014' '6.0032' '11.0014' '6.0032' '6.0032' '6.0032' '6.0032' '6.0032'\n",
      " '6.0032' '6.0032' '6.0032' '6.0032' '11.0014' '7.0015' '8.9981' '8.9981'\n",
      " '12.998' '12.998' '12.998' '7.0015' '6.0032' '6.0032' '6.0032' '6.0032'\n",
      " '6.0032' '6.0032' '7.0015' '7.0015' '6.0032' '6.0032' '6.0032' '6.0032'\n",
      " '7.0015' '11.0014' '6.0032' '6.0032' '6.0032' '6.0032' '6.0032' '6.0032'\n",
      " '6.0032' '6.0032' '6.0032' '6.0032' '6.0032' '7.0015' '11.0014' '8.9981'\n",
      " '6.0032' '7.0015' '16.9979' '16.9979' '6.0032' '6.0032' '6.0032' '6.0032'\n",
      " '16.9979' '8.9981' '6.0032' '6.0032' '6.0032' '6.0032' '6.0032' '8.9981'\n",
      " '8.9981' '8.9981' '6.0032' '8.9981' '8.9981' '22.0028' '22.0028' '6.0032'\n",
      " '31.0009' '11.0014']\n"
     ]
    }
   ],
   "source": [
    "# 머신러닝 랜덤포레스트로 풍속 예측\n",
    "from sklearn.ensemble import RandomForestClassifier\n",
    "\n",
    "def predict_windspeed(data):\n",
    "    #data의 windspeed값이 0인 데이터를\n",
    "    #rf를 이용하여 예측한 값으로 대체\n",
    "    \n",
    "    #풍속 예측에 사용되는 변수\n",
    "    wCol=['season', 'weather', 'humidity',\n",
    "          'month', 'temp','year','atemp']    \n",
    "    \n",
    "    #풍속을 0인것과 아닌것으로 구분\n",
    "    dataWind0=data.loc[data['windspeed']==0]\n",
    "    dataWindNot0=data.loc[data['windspeed']!=0]\n",
    "        \n",
    "    #랜덤포레스트 분류기 생성\n",
    "    rfModel=RandomForestClassifier()\n",
    "    dataWindNot0['windspeed']=dataWindNot0['windspeed'].astype(\"str\")\n",
    "    # wCol -> 풍속 학습 -> 모델 완성\n",
    "    rfModel.fit(dataWindNot0[wCol],dataWindNot0['windspeed'])\n",
    "    \n",
    "    #학습한 모델로 풍속 0에 대한 데이터 예측\n",
    "    preValue=rfModel.predict(X=dataWind0[wCol])\n",
    "    print(preValue)\n",
    "    \n",
    "    predictWind0=dataWind0\n",
    "    predictWindNot0=dataWindNot0\n",
    "    \n",
    "    predictWind0['windspeed']=preValue\n",
    "    \n",
    "    data=predictWindNot0.append(predictWind0)\n",
    "    data.reset_index(inplace=True)\n",
    "    data.drop('index',inplace=True, axis=1)\n",
    "    return data\n",
    "\n",
    "#print(train.info())\n",
    "train=predict_windspeed(train)\n",
    "test=predict_windspeed(test)"
   ]
  },
  {
   "cell_type": "code",
   "execution_count": 240,
   "metadata": {},
   "outputs": [
    {
     "data": {
      "text/plain": [
       "<matplotlib.axes._subplots.AxesSubplot at 0x1f80aaeba48>"
      ]
     },
     "execution_count": 240,
     "metadata": {},
     "output_type": "execute_result"
    },
    {
     "data": {
      "image/png": "[encoded data removed]",
      "text/plain": [
       "<Figure size 1440x576 with 1 Axes>"
      ]
     },
     "metadata": {
      "needs_background": "light"
     },
     "output_type": "display_data"
    }
   ],
   "source": [
    "fig,ax1=plt.subplots()\n",
    "plt.sca(ax1)\n",
    "plt.xticks(rotation=30)\n",
    "fig.set_size_inches(20,8)\n",
    "sns.countplot(data=train,x='windspeed',ax=ax1)"
   ]
  },
  {
   "cell_type": "code",
   "execution_count": 241,
   "metadata": {},
   "outputs": [],
   "source": [
    "# feature selection\n",
    "# ( ??? ) -> count?\n",
    "# 연속형(temp, humi, windspeed, atemp), 범주형 변수는 타입을 category로 변경\n",
    "train['season']=train['season'].astype(\"category\")\n",
    "test['season']=test['season'].astype(\"category\")\n",
    "\n",
    "train.columns\n",
    "feature_names=['season', 'holiday', 'workingday', 'weather', 'temp',\n",
    "       'atemp', 'humidity', 'windspeed','count','year','hour','dayofweek']\n",
    "\n",
    "c_f_n=['season', 'holiday', 'workingday', 'weather','year','month','hour','dayofweek']\n",
    "\n",
    "for v in c_f_n:\n",
    "    train[v]=train[v].astype(\"category\")\n",
    "    test[v]=test[v].astype(\"category\")"
   ]
  },
  {
   "cell_type": "code",
   "execution_count": 242,
   "metadata": {},
   "outputs": [
    {
     "data": {
      "text/plain": [
       "CategoricalDtype(categories=[1, 2, 3, 4], ordered=False)"
      ]
     },
     "execution_count": 242,
     "metadata": {},
     "output_type": "execute_result"
    }
   ],
   "source": [
    "train['season'].dtypes"
   ]
  },
  {
   "cell_type": "code",
   "execution_count": 259,
   "metadata": {},
   "outputs": [
    {
     "ename": "KeyError",
     "evalue": "\"['count'] not in index\"",
     "output_type": "error",
     "traceback": [
      "\u001b[1;31m---------------------------------------------------------------------------\u001b[0m",
      "\u001b[1;31mKeyError\u001b[0m                                  Traceback (most recent call last)",
      "\u001b[1;32m<ipython-input-259-6e2ad5285c3b>\u001b[0m in \u001b[0;36m<module>\u001b[1;34m\u001b[0m\n\u001b[0;32m      1\u001b[0m \u001b[0mxtrain\u001b[0m\u001b[1;33m=\u001b[0m\u001b[0mtrain\u001b[0m\u001b[1;33m[\u001b[0m\u001b[0mfeature_names\u001b[0m\u001b[1;33m]\u001b[0m\u001b[1;33m\u001b[0m\u001b[1;33m\u001b[0m\u001b[0m\n\u001b[0;32m      2\u001b[0m \u001b[0mxtrain\u001b[0m\u001b[1;33m.\u001b[0m\u001b[0mshape\u001b[0m\u001b[1;33m\u001b[0m\u001b[1;33m\u001b[0m\u001b[0m\n\u001b[1;32m----> 3\u001b[1;33m \u001b[0mxtest\u001b[0m\u001b[1;33m=\u001b[0m\u001b[0mtest\u001b[0m\u001b[1;33m[\u001b[0m\u001b[0mfeature_names\u001b[0m\u001b[1;33m]\u001b[0m\u001b[1;33m\u001b[0m\u001b[1;33m\u001b[0m\u001b[0m\n\u001b[0m",
      "\u001b[1;32m~\\Anaconda3\\lib\\site-packages\\pandas\\core\\frame.py\u001b[0m in \u001b[0;36m__getitem__\u001b[1;34m(self, key)\u001b[0m\n\u001b[0;32m   2984\u001b[0m             \u001b[1;32mif\u001b[0m \u001b[0mis_iterator\u001b[0m\u001b[1;33m(\u001b[0m\u001b[0mkey\u001b[0m\u001b[1;33m)\u001b[0m\u001b[1;33m:\u001b[0m\u001b[1;33m\u001b[0m\u001b[1;33m\u001b[0m\u001b[0m\n\u001b[0;32m   2985\u001b[0m                 \u001b[0mkey\u001b[0m \u001b[1;33m=\u001b[0m \u001b[0mlist\u001b[0m\u001b[1;33m(\u001b[0m\u001b[0mkey\u001b[0m\u001b[1;33m)\u001b[0m\u001b[1;33m\u001b[0m\u001b[1;33m\u001b[0m\u001b[0m\n\u001b[1;32m-> 2986\u001b[1;33m             \u001b[0mindexer\u001b[0m \u001b[1;33m=\u001b[0m \u001b[0mself\u001b[0m\u001b[1;33m.\u001b[0m\u001b[0mloc\u001b[0m\u001b[1;33m.\u001b[0m\u001b[0m_convert_to_indexer\u001b[0m\u001b[1;33m(\u001b[0m\u001b[0mkey\u001b[0m\u001b[1;33m,\u001b[0m \u001b[0maxis\u001b[0m\u001b[1;33m=\u001b[0m\u001b[1;36m1\u001b[0m\u001b[1;33m,\u001b[0m \u001b[0mraise_missing\u001b[0m\u001b[1;33m=\u001b[0m\u001b[1;32mTrue\u001b[0m\u001b[1;33m)\u001b[0m\u001b[1;33m\u001b[0m\u001b[1;33m\u001b[0m\u001b[0m\n\u001b[0m\u001b[0;32m   2987\u001b[0m \u001b[1;33m\u001b[0m\u001b[0m\n\u001b[0;32m   2988\u001b[0m         \u001b[1;31m# take() does not accept boolean indexers\u001b[0m\u001b[1;33m\u001b[0m\u001b[1;33m\u001b[0m\u001b[1;33m\u001b[0m\u001b[0m\n",
      "\u001b[1;32m~\\Anaconda3\\lib\\site-packages\\pandas\\core\\indexing.py\u001b[0m in \u001b[0;36m_convert_to_indexer\u001b[1;34m(self, obj, axis, is_setter, raise_missing)\u001b[0m\n\u001b[0;32m   1283\u001b[0m                 \u001b[1;31m# When setting, missing keys are not allowed, even with .loc:\u001b[0m\u001b[1;33m\u001b[0m\u001b[1;33m\u001b[0m\u001b[1;33m\u001b[0m\u001b[0m\n\u001b[0;32m   1284\u001b[0m                 \u001b[0mkwargs\u001b[0m \u001b[1;33m=\u001b[0m \u001b[1;33m{\u001b[0m\u001b[1;34m\"raise_missing\"\u001b[0m\u001b[1;33m:\u001b[0m \u001b[1;32mTrue\u001b[0m \u001b[1;32mif\u001b[0m \u001b[0mis_setter\u001b[0m \u001b[1;32melse\u001b[0m \u001b[0mraise_missing\u001b[0m\u001b[1;33m}\u001b[0m\u001b[1;33m\u001b[0m\u001b[1;33m\u001b[0m\u001b[0m\n\u001b[1;32m-> 1285\u001b[1;33m                 \u001b[1;32mreturn\u001b[0m \u001b[0mself\u001b[0m\u001b[1;33m.\u001b[0m\u001b[0m_get_listlike_indexer\u001b[0m\u001b[1;33m(\u001b[0m\u001b[0mobj\u001b[0m\u001b[1;33m,\u001b[0m \u001b[0maxis\u001b[0m\u001b[1;33m,\u001b[0m \u001b[1;33m**\u001b[0m\u001b[0mkwargs\u001b[0m\u001b[1;33m)\u001b[0m\u001b[1;33m[\u001b[0m\u001b[1;36m1\u001b[0m\u001b[1;33m]\u001b[0m\u001b[1;33m\u001b[0m\u001b[1;33m\u001b[0m\u001b[0m\n\u001b[0m\u001b[0;32m   1286\u001b[0m         \u001b[1;32melse\u001b[0m\u001b[1;33m:\u001b[0m\u001b[1;33m\u001b[0m\u001b[1;33m\u001b[0m\u001b[0m\n\u001b[0;32m   1287\u001b[0m             \u001b[1;32mtry\u001b[0m\u001b[1;33m:\u001b[0m\u001b[1;33m\u001b[0m\u001b[1;33m\u001b[0m\u001b[0m\n",
      "\u001b[1;32m~\\Anaconda3\\lib\\site-packages\\pandas\\core\\indexing.py\u001b[0m in \u001b[0;36m_get_listlike_indexer\u001b[1;34m(self, key, axis, raise_missing)\u001b[0m\n\u001b[0;32m   1090\u001b[0m \u001b[1;33m\u001b[0m\u001b[0m\n\u001b[0;32m   1091\u001b[0m         self._validate_read_indexer(\n\u001b[1;32m-> 1092\u001b[1;33m             \u001b[0mkeyarr\u001b[0m\u001b[1;33m,\u001b[0m \u001b[0mindexer\u001b[0m\u001b[1;33m,\u001b[0m \u001b[0mo\u001b[0m\u001b[1;33m.\u001b[0m\u001b[0m_get_axis_number\u001b[0m\u001b[1;33m(\u001b[0m\u001b[0maxis\u001b[0m\u001b[1;33m)\u001b[0m\u001b[1;33m,\u001b[0m \u001b[0mraise_missing\u001b[0m\u001b[1;33m=\u001b[0m\u001b[0mraise_missing\u001b[0m\u001b[1;33m\u001b[0m\u001b[1;33m\u001b[0m\u001b[0m\n\u001b[0m\u001b[0;32m   1093\u001b[0m         )\n\u001b[0;32m   1094\u001b[0m         \u001b[1;32mreturn\u001b[0m \u001b[0mkeyarr\u001b[0m\u001b[1;33m,\u001b[0m \u001b[0mindexer\u001b[0m\u001b[1;33m\u001b[0m\u001b[1;33m\u001b[0m\u001b[0m\n",
      "\u001b[1;32m~\\Anaconda3\\lib\\site-packages\\pandas\\core\\indexing.py\u001b[0m in \u001b[0;36m_validate_read_indexer\u001b[1;34m(self, key, indexer, axis, raise_missing)\u001b[0m\n\u001b[0;32m   1183\u001b[0m             \u001b[1;32mif\u001b[0m \u001b[1;32mnot\u001b[0m \u001b[1;33m(\u001b[0m\u001b[0mself\u001b[0m\u001b[1;33m.\u001b[0m\u001b[0mname\u001b[0m \u001b[1;33m==\u001b[0m \u001b[1;34m\"loc\"\u001b[0m \u001b[1;32mand\u001b[0m \u001b[1;32mnot\u001b[0m \u001b[0mraise_missing\u001b[0m\u001b[1;33m)\u001b[0m\u001b[1;33m:\u001b[0m\u001b[1;33m\u001b[0m\u001b[1;33m\u001b[0m\u001b[0m\n\u001b[0;32m   1184\u001b[0m                 \u001b[0mnot_found\u001b[0m \u001b[1;33m=\u001b[0m \u001b[0mlist\u001b[0m\u001b[1;33m(\u001b[0m\u001b[0mset\u001b[0m\u001b[1;33m(\u001b[0m\u001b[0mkey\u001b[0m\u001b[1;33m)\u001b[0m \u001b[1;33m-\u001b[0m \u001b[0mset\u001b[0m\u001b[1;33m(\u001b[0m\u001b[0max\u001b[0m\u001b[1;33m)\u001b[0m\u001b[1;33m)\u001b[0m\u001b[1;33m\u001b[0m\u001b[1;33m\u001b[0m\u001b[0m\n\u001b[1;32m-> 1185\u001b[1;33m                 \u001b[1;32mraise\u001b[0m \u001b[0mKeyError\u001b[0m\u001b[1;33m(\u001b[0m\u001b[1;34m\"{} not in index\"\u001b[0m\u001b[1;33m.\u001b[0m\u001b[0mformat\u001b[0m\u001b[1;33m(\u001b[0m\u001b[0mnot_found\u001b[0m\u001b[1;33m)\u001b[0m\u001b[1;33m)\u001b[0m\u001b[1;33m\u001b[0m\u001b[1;33m\u001b[0m\u001b[0m\n\u001b[0m\u001b[0;32m   1186\u001b[0m \u001b[1;33m\u001b[0m\u001b[0m\n\u001b[0;32m   1187\u001b[0m             \u001b[1;31m# we skip the warning on Categorical/Interval\u001b[0m\u001b[1;33m\u001b[0m\u001b[1;33m\u001b[0m\u001b[1;33m\u001b[0m\u001b[0m\n",
      "\u001b[1;31mKeyError\u001b[0m: \"['count'] not in index\""
     ]
    }
   ],
   "source": [
    "xtrain=train[feature_names]\n",
    "xtrain.shape\n",
    "xtest=test[feature_names]"
   ]
  },
  {
   "cell_type": "code",
   "execution_count": 251,
   "metadata": {},
   "outputs": [
    {
     "data": {
      "text/plain": [
       "(10886,)"
      ]
     },
     "execution_count": 251,
     "metadata": {},
     "output_type": "execute_result"
    }
   ],
   "source": [
    "ytrain=train['count']\n",
    "ytrain.shape"
   ]
  },
  {
   "cell_type": "code",
   "execution_count": 252,
   "metadata": {},
   "outputs": [
    {
     "data": {
      "text/plain": [
       "make_scorer(rmsle)"
      ]
     },
     "execution_count": 252,
     "metadata": {},
     "output_type": "execute_result"
    }
   ],
   "source": [
    "def rmsle(predicted_value,actural_value):\n",
    "    # 넘파이 배열로의 변환\n",
    "    predicted_value=np.array(predicted_value)\n",
    "    actural_value=np.array(actural_value)\n",
    "    log_predict=np.log(predicted_value+1)\n",
    "    log_actual=np.log(actural_value+1)\n",
    "    diff=log_predict-log_actual\n",
    "    diff=np.square(diff)\n",
    "    mean_diff=diff.mean()\n",
    "    score=np.sqrt(mean_diff)\n",
    "    return score\n",
    "    \n",
    "from sklearn.metrics import make_scorer\n",
    "rmsle_scorer=make_scorer(rmsle)\n",
    "rmsle_scorer\n",
    "\n",
    "# cross_validation p.127\n",
    "# data: 400개\n",
    "# 1 2 3 4    : 4개의 폴드\n",
    "# 1 2 3 : train, 4 : test => 모델 평가(80%)\n",
    "# 1 2 4 : train, 3 : test => 모델 평가(70%)    \n",
    "# 1 3 4 : train, 2 : test => 모델 평가(80%)\n",
    "# 2 3 4 : train, 1 : test => 모델 평가(70%)\n",
    "    "
   ]
  },
  {
   "cell_type": "code",
   "execution_count": 253,
   "metadata": {},
   "outputs": [],
   "source": [
    "from sklearn.model_selection import KFold\n",
    "from sklearn.model_selection import cross_val_score"
   ]
  },
  {
   "cell_type": "code",
   "execution_count": 254,
   "metadata": {},
   "outputs": [],
   "source": [
    "kfold=KFold(n_splits=10, shuffle=True, random_state=42)\n"
   ]
  },
  {
   "cell_type": "code",
   "execution_count": 255,
   "metadata": {},
   "outputs": [],
   "source": [
    "from sklearn.ensemble import RandomForestRegressor\n",
    "model=RandomForestRegressor(n_estimators=100, n_jobs=-1,random_state=42) # 최적의 코어수로 하라 => -1"
   ]
  },
  {
   "cell_type": "code",
   "execution_count": 256,
   "metadata": {},
   "outputs": [
    {
     "name": "stdout",
     "output_type": "stream",
     "text": [
      "Wall time: 8.22 s\n",
      "0.00041362153679011017\n"
     ]
    }
   ],
   "source": [
    "%time score=cross_val_score(model, xtrain, ytrain, cv=kfold, scoring=rmsle_scorer)\n",
    "print(score.mean())"
   ]
  },
  {
   "cell_type": "code",
   "execution_count": 257,
   "metadata": {},
   "outputs": [
    {
     "data": {
      "text/plain": [
       "RandomForestRegressor(bootstrap=True, criterion='mse', max_depth=None,\n",
       "                      max_features='auto', max_leaf_nodes=None,\n",
       "                      min_impurity_decrease=0.0, min_impurity_split=None,\n",
       "                      min_samples_leaf=1, min_samples_split=2,\n",
       "                      min_weight_fraction_leaf=0.0, n_estimators=100, n_jobs=-1,\n",
       "                      oob_score=False, random_state=42, verbose=0,\n",
       "                      warm_start=False)"
      ]
     },
     "execution_count": 257,
     "metadata": {},
     "output_type": "execute_result"
    }
   ],
   "source": [
    "model.fit(xtrain, ytrain)"
   ]
  },
  {
   "cell_type": "code",
   "execution_count": 262,
   "metadata": {},
   "outputs": [
    {
     "data": {
      "text/plain": [
       "array([  1.  ,  36.  ,  56.  , ..., 662.11, 132.  ,  41.  ])"
      ]
     },
     "execution_count": 262,
     "metadata": {},
     "output_type": "execute_result"
    }
   ],
   "source": [
    "prediction=model.predict(xtrain)\n",
    "prediction"
   ]
  },
  {
   "cell_type": "code",
   "execution_count": 265,
   "metadata": {},
   "outputs": [
    {
     "ename": "ValueError",
     "evalue": "Length of values does not match length of index",
     "output_type": "error",
     "traceback": [
      "\u001b[1;31m---------------------------------------------------------------------------\u001b[0m",
      "\u001b[1;31mValueError\u001b[0m                                Traceback (most recent call last)",
      "\u001b[1;32m<ipython-input-265-121c28b739ec>\u001b[0m in \u001b[0;36m<module>\u001b[1;34m\u001b[0m\n\u001b[0;32m      1\u001b[0m \u001b[0msubmission\u001b[0m\u001b[1;33m=\u001b[0m\u001b[0mpd\u001b[0m\u001b[1;33m.\u001b[0m\u001b[0mread_csv\u001b[0m\u001b[1;33m(\u001b[0m\u001b[1;34m\"sampleSubmission.csv\"\u001b[0m\u001b[1;33m)\u001b[0m\u001b[1;33m\u001b[0m\u001b[1;33m\u001b[0m\u001b[0m\n\u001b[1;32m----> 2\u001b[1;33m \u001b[0msubmission\u001b[0m\u001b[1;33m[\u001b[0m\u001b[1;34m'count'\u001b[0m\u001b[1;33m]\u001b[0m\u001b[1;33m=\u001b[0m\u001b[0mprediction\u001b[0m\u001b[1;33m\u001b[0m\u001b[1;33m\u001b[0m\u001b[0m\n\u001b[0m\u001b[0;32m      3\u001b[0m \u001b[0msubmission\u001b[0m\u001b[1;33m\u001b[0m\u001b[1;33m\u001b[0m\u001b[0m\n\u001b[0;32m      4\u001b[0m \u001b[1;33m\u001b[0m\u001b[0m\n\u001b[0;32m      5\u001b[0m \u001b[0msubmission\u001b[0m\u001b[1;33m.\u001b[0m\u001b[0mto_csv\u001b[0m\u001b[1;33m(\u001b[0m\u001b[1;34m'pgs_submission.csv'\u001b[0m\u001b[1;33m,\u001b[0m \u001b[0mindex\u001b[0m\u001b[1;33m=\u001b[0m\u001b[1;32mFalse\u001b[0m\u001b[1;33m)\u001b[0m\u001b[1;33m\u001b[0m\u001b[1;33m\u001b[0m\u001b[0m\n",
      "\u001b[1;32m~\\Anaconda3\\lib\\site-packages\\pandas\\core\\frame.py\u001b[0m in \u001b[0;36m__setitem__\u001b[1;34m(self, key, value)\u001b[0m\n\u001b[0;32m   3470\u001b[0m         \u001b[1;32melse\u001b[0m\u001b[1;33m:\u001b[0m\u001b[1;33m\u001b[0m\u001b[1;33m\u001b[0m\u001b[0m\n\u001b[0;32m   3471\u001b[0m             \u001b[1;31m# set column\u001b[0m\u001b[1;33m\u001b[0m\u001b[1;33m\u001b[0m\u001b[1;33m\u001b[0m\u001b[0m\n\u001b[1;32m-> 3472\u001b[1;33m             \u001b[0mself\u001b[0m\u001b[1;33m.\u001b[0m\u001b[0m_set_item\u001b[0m\u001b[1;33m(\u001b[0m\u001b[0mkey\u001b[0m\u001b[1;33m,\u001b[0m \u001b[0mvalue\u001b[0m\u001b[1;33m)\u001b[0m\u001b[1;33m\u001b[0m\u001b[1;33m\u001b[0m\u001b[0m\n\u001b[0m\u001b[0;32m   3473\u001b[0m \u001b[1;33m\u001b[0m\u001b[0m\n\u001b[0;32m   3474\u001b[0m     \u001b[1;32mdef\u001b[0m \u001b[0m_setitem_slice\u001b[0m\u001b[1;33m(\u001b[0m\u001b[0mself\u001b[0m\u001b[1;33m,\u001b[0m \u001b[0mkey\u001b[0m\u001b[1;33m,\u001b[0m \u001b[0mvalue\u001b[0m\u001b[1;33m)\u001b[0m\u001b[1;33m:\u001b[0m\u001b[1;33m\u001b[0m\u001b[1;33m\u001b[0m\u001b[0m\n",
      "\u001b[1;32m~\\Anaconda3\\lib\\site-packages\\pandas\\core\\frame.py\u001b[0m in \u001b[0;36m_set_item\u001b[1;34m(self, key, value)\u001b[0m\n\u001b[0;32m   3547\u001b[0m \u001b[1;33m\u001b[0m\u001b[0m\n\u001b[0;32m   3548\u001b[0m         \u001b[0mself\u001b[0m\u001b[1;33m.\u001b[0m\u001b[0m_ensure_valid_index\u001b[0m\u001b[1;33m(\u001b[0m\u001b[0mvalue\u001b[0m\u001b[1;33m)\u001b[0m\u001b[1;33m\u001b[0m\u001b[1;33m\u001b[0m\u001b[0m\n\u001b[1;32m-> 3549\u001b[1;33m         \u001b[0mvalue\u001b[0m \u001b[1;33m=\u001b[0m \u001b[0mself\u001b[0m\u001b[1;33m.\u001b[0m\u001b[0m_sanitize_column\u001b[0m\u001b[1;33m(\u001b[0m\u001b[0mkey\u001b[0m\u001b[1;33m,\u001b[0m \u001b[0mvalue\u001b[0m\u001b[1;33m)\u001b[0m\u001b[1;33m\u001b[0m\u001b[1;33m\u001b[0m\u001b[0m\n\u001b[0m\u001b[0;32m   3550\u001b[0m         \u001b[0mNDFrame\u001b[0m\u001b[1;33m.\u001b[0m\u001b[0m_set_item\u001b[0m\u001b[1;33m(\u001b[0m\u001b[0mself\u001b[0m\u001b[1;33m,\u001b[0m \u001b[0mkey\u001b[0m\u001b[1;33m,\u001b[0m \u001b[0mvalue\u001b[0m\u001b[1;33m)\u001b[0m\u001b[1;33m\u001b[0m\u001b[1;33m\u001b[0m\u001b[0m\n\u001b[0;32m   3551\u001b[0m \u001b[1;33m\u001b[0m\u001b[0m\n",
      "\u001b[1;32m~\\Anaconda3\\lib\\site-packages\\pandas\\core\\frame.py\u001b[0m in \u001b[0;36m_sanitize_column\u001b[1;34m(self, key, value, broadcast)\u001b[0m\n\u001b[0;32m   3732\u001b[0m \u001b[1;33m\u001b[0m\u001b[0m\n\u001b[0;32m   3733\u001b[0m             \u001b[1;31m# turn me into an ndarray\u001b[0m\u001b[1;33m\u001b[0m\u001b[1;33m\u001b[0m\u001b[1;33m\u001b[0m\u001b[0m\n\u001b[1;32m-> 3734\u001b[1;33m             \u001b[0mvalue\u001b[0m \u001b[1;33m=\u001b[0m \u001b[0msanitize_index\u001b[0m\u001b[1;33m(\u001b[0m\u001b[0mvalue\u001b[0m\u001b[1;33m,\u001b[0m \u001b[0mself\u001b[0m\u001b[1;33m.\u001b[0m\u001b[0mindex\u001b[0m\u001b[1;33m,\u001b[0m \u001b[0mcopy\u001b[0m\u001b[1;33m=\u001b[0m\u001b[1;32mFalse\u001b[0m\u001b[1;33m)\u001b[0m\u001b[1;33m\u001b[0m\u001b[1;33m\u001b[0m\u001b[0m\n\u001b[0m\u001b[0;32m   3735\u001b[0m             \u001b[1;32mif\u001b[0m \u001b[1;32mnot\u001b[0m \u001b[0misinstance\u001b[0m\u001b[1;33m(\u001b[0m\u001b[0mvalue\u001b[0m\u001b[1;33m,\u001b[0m \u001b[1;33m(\u001b[0m\u001b[0mnp\u001b[0m\u001b[1;33m.\u001b[0m\u001b[0mndarray\u001b[0m\u001b[1;33m,\u001b[0m \u001b[0mIndex\u001b[0m\u001b[1;33m)\u001b[0m\u001b[1;33m)\u001b[0m\u001b[1;33m:\u001b[0m\u001b[1;33m\u001b[0m\u001b[1;33m\u001b[0m\u001b[0m\n\u001b[0;32m   3736\u001b[0m                 \u001b[1;32mif\u001b[0m \u001b[0misinstance\u001b[0m\u001b[1;33m(\u001b[0m\u001b[0mvalue\u001b[0m\u001b[1;33m,\u001b[0m \u001b[0mlist\u001b[0m\u001b[1;33m)\u001b[0m \u001b[1;32mand\u001b[0m \u001b[0mlen\u001b[0m\u001b[1;33m(\u001b[0m\u001b[0mvalue\u001b[0m\u001b[1;33m)\u001b[0m \u001b[1;33m>\u001b[0m \u001b[1;36m0\u001b[0m\u001b[1;33m:\u001b[0m\u001b[1;33m\u001b[0m\u001b[1;33m\u001b[0m\u001b[0m\n",
      "\u001b[1;32m~\\Anaconda3\\lib\\site-packages\\pandas\\core\\internals\\construction.py\u001b[0m in \u001b[0;36msanitize_index\u001b[1;34m(data, index, copy)\u001b[0m\n\u001b[0;32m    610\u001b[0m \u001b[1;33m\u001b[0m\u001b[0m\n\u001b[0;32m    611\u001b[0m     \u001b[1;32mif\u001b[0m \u001b[0mlen\u001b[0m\u001b[1;33m(\u001b[0m\u001b[0mdata\u001b[0m\u001b[1;33m)\u001b[0m \u001b[1;33m!=\u001b[0m \u001b[0mlen\u001b[0m\u001b[1;33m(\u001b[0m\u001b[0mindex\u001b[0m\u001b[1;33m)\u001b[0m\u001b[1;33m:\u001b[0m\u001b[1;33m\u001b[0m\u001b[1;33m\u001b[0m\u001b[0m\n\u001b[1;32m--> 612\u001b[1;33m         \u001b[1;32mraise\u001b[0m \u001b[0mValueError\u001b[0m\u001b[1;33m(\u001b[0m\u001b[1;34m\"Length of values does not match length of index\"\u001b[0m\u001b[1;33m)\u001b[0m\u001b[1;33m\u001b[0m\u001b[1;33m\u001b[0m\u001b[0m\n\u001b[0m\u001b[0;32m    613\u001b[0m \u001b[1;33m\u001b[0m\u001b[0m\n\u001b[0;32m    614\u001b[0m     \u001b[1;32mif\u001b[0m \u001b[0misinstance\u001b[0m\u001b[1;33m(\u001b[0m\u001b[0mdata\u001b[0m\u001b[1;33m,\u001b[0m \u001b[0mABCIndexClass\u001b[0m\u001b[1;33m)\u001b[0m \u001b[1;32mand\u001b[0m \u001b[1;32mnot\u001b[0m \u001b[0mcopy\u001b[0m\u001b[1;33m:\u001b[0m\u001b[1;33m\u001b[0m\u001b[1;33m\u001b[0m\u001b[0m\n",
      "\u001b[1;31mValueError\u001b[0m: Length of values does not match length of index"
     ]
    }
   ],
   "source": [
    "submission=pd.read_csv(\"sampleSubmission.csv\")\n",
    "submission['count']=prediction\n",
    "submission\n",
    "\n",
    "submission.to_csv('pgs_submission.csv', index=False)"
   ]
  },
  {
   "cell_type": "code",
   "execution_count": null,
   "metadata": {},
   "outputs": [],
   "source": []
  },
  {
   "cell_type": "code",
   "execution_count": null,
   "metadata": {},
   "outputs": [],
   "source": []
  },
  {
   "cell_type": "code",
   "execution_count": null,
   "metadata": {},
   "outputs": [],
   "source": []
  },
  {
   "cell_type": "code",
   "execution_count": null,
   "metadata": {},
   "outputs": [],
   "source": []
  },
  {
   "cell_type": "code",
   "execution_count": null,
   "metadata": {},
   "outputs": [],
   "source": []
  },
  {
   "cell_type": "code",
   "execution_count": null,
   "metadata": {},
   "outputs": [],
   "source": []
  }
 ],
 "metadata": {
  "kernelspec": {
   "display_name": "Python 3",
   "language": "python",
   "name": "python3"
  },
  "language_info": {
   "codemirror_mode": {
    "name": "ipython",
    "version": 3
   },
   "file_extension": ".py",
   "mimetype": "text/x-python",
   "name": "python",
   "nbconvert_exporter": "python",
   "pygments_lexer": "ipython3",
   "version": "3.7.4"
  }
 },
 "nbformat": 4,
 "nbformat_minor": 2
}
