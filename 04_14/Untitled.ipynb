{
 "cells": [
  {
   "cell_type": "code",
   "execution_count": 1,
   "metadata": {},
   "outputs": [],
   "source": [
    "import tensorflow as tf"
   ]
  },
  {
   "cell_type": "code",
   "execution_count": 2,
   "metadata": {},
   "outputs": [],
   "source": [
    "a=tf.placeholder('float')\n",
    "b=tf.placeholder('float')\n",
    "# placeholder : program이 실행 중에 값을 변경할 수 있는 변수를 2개 '정의' / 데이터를 담는 버퍼와 같은 것\n",
    "# c=tf.Variable()  이게 진짜 변수"
   ]
  },
  {
   "cell_type": "code",
   "execution_count": 5,
   "metadata": {},
   "outputs": [
    {
     "name": "stdout",
     "output_type": "stream",
     "text": [
      "6.0\n"
     ]
    }
   ],
   "source": [
    "y=tf.multiply(a,b)\n",
    "# y는 node => y=a*b가 아니라 y는 multiply 하는 연산\n",
    "sess=tf.Session()\n",
    "# 그래프 실행을 위해서는 session이 필요함\n",
    "print(sess.run(y,feed_dict={a:3,b:2}))\n",
    "# y 노드를 실행해라"
   ]
  },
  {
   "cell_type": "code",
   "execution_count": 9,
   "metadata": {},
   "outputs": [
    {
     "name": "stdout",
     "output_type": "stream",
     "text": [
      "b'hello'\n"
     ]
    }
   ],
   "source": [
    "hello=tf.constant(\"hello\")\n",
    "sess=tf.Session()\n",
    "print(sess.run(hello)) # 문자 encoding 때문에 b'hello' 라고 출력됨"
   ]
  },
  {
   "cell_type": "code",
   "execution_count": 10,
   "metadata": {},
   "outputs": [
    {
     "data": {
      "text/plain": [
       "[[[1, 2, 3]], [[4, 5, 6]]]"
      ]
     },
     "execution_count": 10,
     "metadata": {},
     "output_type": "execute_result"
    }
   ],
   "source": [
    "3 # rank : 0 인 tensor, shape:[]\n",
    "[1,2,3] # rank : 1 인 tensor, shape:[3]\n",
    "[[1,2,3],[1,2,3]] # rank :2 인 tensor, shape:[2,3]\n",
    "[[[1,2,3]],[[4,5,6]]] # rank : 3인 tensor, shape:[2,1,3]"
   ]
  },
  {
   "cell_type": "code",
   "execution_count": 23,
   "metadata": {},
   "outputs": [
    {
     "name": "stdout",
     "output_type": "stream",
     "text": [
      "10\n",
      "20\n",
      "[10, 20]\n"
     ]
    }
   ],
   "source": [
    "a=tf.constant(10)\n",
    "b=tf.constant(20)\n",
    "sess=tf.Session()\n",
    "#print(sess.run(tf.add(a,b)))\n",
    "c=tf.add(a,b)\n",
    "#print(sess.run(c))\n",
    "print(sess.run(a))\n",
    "print(sess.run(b))\n",
    "print(sess.run([a,b]))\n",
    "# tensorflow는 항상 session 계층 만들고 run 시켜야 그 결과를 확인이 가능하다.\n",
    "# resource들은 사용후에 close 해주는게 좋음  \n",
    "sess.close()"
   ]
  },
  {
   "cell_type": "code",
   "execution_count": 36,
   "metadata": {},
   "outputs": [
    {
     "name": "stdout",
     "output_type": "stream",
     "text": [
      "Tensor(\"Placeholder_24:0\", dtype=float32)\n",
      "Tensor(\"Placeholder_25:0\", dtype=float32)\n",
      "3.0\n"
     ]
    }
   ],
   "source": [
    "# a=tf.placeholder(dtype='float32') 아래와 같은 문장임\n",
    "a=tf.placeholder(tf.float32)\n",
    "b=tf.placeholder(tf.float32)\n",
    "adderNode=a+b\n",
    "sess=tf.Session()\n",
    "print(a)\n",
    "print(b)\n",
    "print(sess.run(adderNode, feed_dict={a:[5,1],b:[3,2]})[1])\n",
    "# print(sess.run(adderNode, feed_dict={a:1,b:2}))"
   ]
  },
  {
   "cell_type": "code",
   "execution_count": 39,
   "metadata": {},
   "outputs": [
    {
     "name": "stdout",
     "output_type": "stream",
     "text": [
      "15\n"
     ]
    }
   ],
   "source": [
    "# 전달되어지는 값에 대해서 그 값을 더한 후 3배를 해서 출력\n",
    "a=tf.placeholder(tf.int64)\n",
    "b=tf.placeholder(tf.int64)\n",
    "add=a+b\n",
    "triple=add*3\n",
    "sess=tf.Session()\n",
    "print(sess.run(triple, feed_dict={a:2,b:3}))"
   ]
  },
  {
   "cell_type": "code",
   "execution_count": 46,
   "metadata": {},
   "outputs": [
    {
     "name": "stdout",
     "output_type": "stream",
     "text": [
      "Tensor(\"Placeholder_35:0\", shape=(?, 3), dtype=float32)\n",
      "[[1. 2. 3.]\n",
      " [4. 5. 6.]]\n"
     ]
    },
    {
     "ename": "ValueError",
     "evalue": "Cannot feed value of shape (2, 2) for Tensor 'Placeholder_35:0', which has shape '(?, 3)'",
     "output_type": "error",
     "traceback": [
      "\u001b[1;31m---------------------------------------------------------------------------\u001b[0m",
      "\u001b[1;31mValueError\u001b[0m                                Traceback (most recent call last)",
      "\u001b[1;32m<ipython-input-46-7ea76a630c6b>\u001b[0m in \u001b[0;36m<module>\u001b[1;34m\u001b[0m\n\u001b[0;32m      5\u001b[0m \u001b[1;31m# shape이 일치해야함\u001b[0m\u001b[1;33m\u001b[0m\u001b[1;33m\u001b[0m\u001b[1;33m\u001b[0m\u001b[0m\n\u001b[0;32m      6\u001b[0m \u001b[0mprint\u001b[0m\u001b[1;33m(\u001b[0m\u001b[0msess\u001b[0m\u001b[1;33m.\u001b[0m\u001b[0mrun\u001b[0m\u001b[1;33m(\u001b[0m\u001b[0mx\u001b[0m\u001b[1;33m,\u001b[0m \u001b[0mfeed_dict\u001b[0m\u001b[1;33m=\u001b[0m\u001b[1;33m{\u001b[0m\u001b[0mx\u001b[0m\u001b[1;33m:\u001b[0m\u001b[0mxdata\u001b[0m\u001b[1;33m}\u001b[0m\u001b[1;33m)\u001b[0m\u001b[1;33m)\u001b[0m\u001b[1;33m\u001b[0m\u001b[1;33m\u001b[0m\u001b[0m\n\u001b[1;32m----> 7\u001b[1;33m \u001b[0mprint\u001b[0m\u001b[1;33m(\u001b[0m\u001b[0msess\u001b[0m\u001b[1;33m.\u001b[0m\u001b[0mrun\u001b[0m\u001b[1;33m(\u001b[0m\u001b[0mx\u001b[0m\u001b[1;33m,\u001b[0m \u001b[0mfeed_dict\u001b[0m\u001b[1;33m=\u001b[0m\u001b[1;33m{\u001b[0m\u001b[0mx\u001b[0m\u001b[1;33m:\u001b[0m\u001b[0mxdata2\u001b[0m\u001b[1;33m}\u001b[0m\u001b[1;33m)\u001b[0m\u001b[1;33m)\u001b[0m\u001b[1;33m\u001b[0m\u001b[1;33m\u001b[0m\u001b[0m\n\u001b[0m",
      "\u001b[1;32m~\\Anaconda3\\lib\\site-packages\\tensorflow_core\\python\\client\\session.py\u001b[0m in \u001b[0;36mrun\u001b[1;34m(self, fetches, feed_dict, options, run_metadata)\u001b[0m\n\u001b[0;32m    954\u001b[0m     \u001b[1;32mtry\u001b[0m\u001b[1;33m:\u001b[0m\u001b[1;33m\u001b[0m\u001b[1;33m\u001b[0m\u001b[0m\n\u001b[0;32m    955\u001b[0m       result = self._run(None, fetches, feed_dict, options_ptr,\n\u001b[1;32m--> 956\u001b[1;33m                          run_metadata_ptr)\n\u001b[0m\u001b[0;32m    957\u001b[0m       \u001b[1;32mif\u001b[0m \u001b[0mrun_metadata\u001b[0m\u001b[1;33m:\u001b[0m\u001b[1;33m\u001b[0m\u001b[1;33m\u001b[0m\u001b[0m\n\u001b[0;32m    958\u001b[0m         \u001b[0mproto_data\u001b[0m \u001b[1;33m=\u001b[0m \u001b[0mtf_session\u001b[0m\u001b[1;33m.\u001b[0m\u001b[0mTF_GetBuffer\u001b[0m\u001b[1;33m(\u001b[0m\u001b[0mrun_metadata_ptr\u001b[0m\u001b[1;33m)\u001b[0m\u001b[1;33m\u001b[0m\u001b[1;33m\u001b[0m\u001b[0m\n",
      "\u001b[1;32m~\\Anaconda3\\lib\\site-packages\\tensorflow_core\\python\\client\\session.py\u001b[0m in \u001b[0;36m_run\u001b[1;34m(self, handle, fetches, feed_dict, options, run_metadata)\u001b[0m\n\u001b[0;32m   1154\u001b[0m                 \u001b[1;34m'Cannot feed value of shape %r for Tensor %r, '\u001b[0m\u001b[1;33m\u001b[0m\u001b[1;33m\u001b[0m\u001b[0m\n\u001b[0;32m   1155\u001b[0m                 \u001b[1;34m'which has shape %r'\u001b[0m \u001b[1;33m%\u001b[0m\u001b[1;33m\u001b[0m\u001b[1;33m\u001b[0m\u001b[0m\n\u001b[1;32m-> 1156\u001b[1;33m                 (np_val.shape, subfeed_t.name, str(subfeed_t.get_shape())))\n\u001b[0m\u001b[0;32m   1157\u001b[0m           \u001b[1;32mif\u001b[0m \u001b[1;32mnot\u001b[0m \u001b[0mself\u001b[0m\u001b[1;33m.\u001b[0m\u001b[0mgraph\u001b[0m\u001b[1;33m.\u001b[0m\u001b[0mis_feedable\u001b[0m\u001b[1;33m(\u001b[0m\u001b[0msubfeed_t\u001b[0m\u001b[1;33m)\u001b[0m\u001b[1;33m:\u001b[0m\u001b[1;33m\u001b[0m\u001b[1;33m\u001b[0m\u001b[0m\n\u001b[0;32m   1158\u001b[0m             \u001b[1;32mraise\u001b[0m \u001b[0mValueError\u001b[0m\u001b[1;33m(\u001b[0m\u001b[1;34m'Tensor %s may not be fed.'\u001b[0m \u001b[1;33m%\u001b[0m \u001b[0msubfeed_t\u001b[0m\u001b[1;33m)\u001b[0m\u001b[1;33m\u001b[0m\u001b[1;33m\u001b[0m\u001b[0m\n",
      "\u001b[1;31mValueError\u001b[0m: Cannot feed value of shape (2, 2) for Tensor 'Placeholder_35:0', which has shape '(?, 3)'"
     ]
    }
   ],
   "source": [
    "x=tf.placeholder(tf.float32, [None,3])\n",
    "print(x)\n",
    "xdata=[[1,2,3],[4,5,6]]\n",
    "xdata2=[[1,2],[4,5]]\n",
    "# \n",
    "print(sess.run(x, feed_dict={x:xdata}))\n",
    "# print(sess.run(x, feed_dict={x:xdata2})) shape이 일치해야함"
   ]
  },
  {
   "cell_type": "code",
   "execution_count": 51,
   "metadata": {},
   "outputs": [
    {
     "ename": "TypeError",
     "evalue": "Input 'b' of 'MatMul' Op has type int32 that does not match type float32 of argument 'a'.",
     "output_type": "error",
     "traceback": [
      "\u001b[1;31m---------------------------------------------------------------------------\u001b[0m",
      "\u001b[1;31mValueError\u001b[0m                                Traceback (most recent call last)",
      "\u001b[1;32m~\\Anaconda3\\lib\\site-packages\\tensorflow_core\\python\\framework\\op_def_library.py\u001b[0m in \u001b[0;36m_apply_op_helper\u001b[1;34m(self, op_type_name, name, **keywords)\u001b[0m\n\u001b[0;32m    527\u001b[0m                 \u001b[0mas_ref\u001b[0m\u001b[1;33m=\u001b[0m\u001b[0minput_arg\u001b[0m\u001b[1;33m.\u001b[0m\u001b[0mis_ref\u001b[0m\u001b[1;33m,\u001b[0m\u001b[1;33m\u001b[0m\u001b[1;33m\u001b[0m\u001b[0m\n\u001b[1;32m--> 528\u001b[1;33m                 preferred_dtype=default_dtype)\n\u001b[0m\u001b[0;32m    529\u001b[0m           \u001b[1;32mexcept\u001b[0m \u001b[0mTypeError\u001b[0m \u001b[1;32mas\u001b[0m \u001b[0merr\u001b[0m\u001b[1;33m:\u001b[0m\u001b[1;33m\u001b[0m\u001b[1;33m\u001b[0m\u001b[0m\n",
      "\u001b[1;32m~\\Anaconda3\\lib\\site-packages\\tensorflow_core\\python\\framework\\ops.py\u001b[0m in \u001b[0;36minternal_convert_to_tensor\u001b[1;34m(value, dtype, name, as_ref, preferred_dtype, ctx, accepted_result_types)\u001b[0m\n\u001b[0;32m   1272\u001b[0m           \u001b[1;34m\"Tensor conversion requested dtype %s for Tensor with dtype %s: %r\"\u001b[0m \u001b[1;33m%\u001b[0m\u001b[1;33m\u001b[0m\u001b[1;33m\u001b[0m\u001b[0m\n\u001b[1;32m-> 1273\u001b[1;33m           (dtype.name, value.dtype.name, value))\n\u001b[0m\u001b[0;32m   1274\u001b[0m     \u001b[1;32mreturn\u001b[0m \u001b[0mvalue\u001b[0m\u001b[1;33m\u001b[0m\u001b[1;33m\u001b[0m\u001b[0m\n",
      "\u001b[1;31mValueError\u001b[0m: Tensor conversion requested dtype float32 for Tensor with dtype int32: <tf.Tensor 'Variable_4/read:0' shape=(2, 1) dtype=int32>",
      "\nDuring handling of the above exception, another exception occurred:\n",
      "\u001b[1;31mTypeError\u001b[0m                                 Traceback (most recent call last)",
      "\u001b[1;32m<ipython-input-51-3b3af01831e1>\u001b[0m in \u001b[0;36m<module>\u001b[1;34m\u001b[0m\n\u001b[0;32m      4\u001b[0m \u001b[0ma\u001b[0m\u001b[1;33m=\u001b[0m\u001b[0mtf\u001b[0m\u001b[1;33m.\u001b[0m\u001b[0mplaceholder\u001b[0m\u001b[1;33m(\u001b[0m\u001b[0mtf\u001b[0m\u001b[1;33m.\u001b[0m\u001b[0mfloat32\u001b[0m\u001b[1;33m)\u001b[0m\u001b[1;33m\u001b[0m\u001b[1;33m\u001b[0m\u001b[0m\n\u001b[0;32m      5\u001b[0m \u001b[0mb\u001b[0m\u001b[1;33m=\u001b[0m\u001b[0mtf\u001b[0m\u001b[1;33m.\u001b[0m\u001b[0mplaceholder\u001b[0m\u001b[1;33m(\u001b[0m\u001b[0mtf\u001b[0m\u001b[1;33m.\u001b[0m\u001b[0mfloat32\u001b[0m\u001b[1;33m)\u001b[0m\u001b[1;33m\u001b[0m\u001b[1;33m\u001b[0m\u001b[0m\n\u001b[1;32m----> 6\u001b[1;33m \u001b[0mhf\u001b[0m\u001b[1;33m=\u001b[0m\u001b[0mtf\u001b[0m\u001b[1;33m.\u001b[0m\u001b[0mmatmul\u001b[0m\u001b[1;33m(\u001b[0m\u001b[0mx\u001b[0m\u001b[1;33m,\u001b[0m\u001b[0mw\u001b[0m\u001b[1;33m)\u001b[0m\u001b[1;33m+\u001b[0m\u001b[0mb\u001b[0m\u001b[1;33m\u001b[0m\u001b[1;33m\u001b[0m\u001b[0m\n\u001b[0m",
      "\u001b[1;32m~\\Anaconda3\\lib\\site-packages\\tensorflow_core\\python\\util\\dispatch.py\u001b[0m in \u001b[0;36mwrapper\u001b[1;34m(*args, **kwargs)\u001b[0m\n\u001b[0;32m    178\u001b[0m     \u001b[1;34m\"\"\"Call target, and fall back on dispatchers if there is a TypeError.\"\"\"\u001b[0m\u001b[1;33m\u001b[0m\u001b[1;33m\u001b[0m\u001b[0m\n\u001b[0;32m    179\u001b[0m     \u001b[1;32mtry\u001b[0m\u001b[1;33m:\u001b[0m\u001b[1;33m\u001b[0m\u001b[1;33m\u001b[0m\u001b[0m\n\u001b[1;32m--> 180\u001b[1;33m       \u001b[1;32mreturn\u001b[0m \u001b[0mtarget\u001b[0m\u001b[1;33m(\u001b[0m\u001b[1;33m*\u001b[0m\u001b[0margs\u001b[0m\u001b[1;33m,\u001b[0m \u001b[1;33m**\u001b[0m\u001b[0mkwargs\u001b[0m\u001b[1;33m)\u001b[0m\u001b[1;33m\u001b[0m\u001b[1;33m\u001b[0m\u001b[0m\n\u001b[0m\u001b[0;32m    181\u001b[0m     \u001b[1;32mexcept\u001b[0m \u001b[1;33m(\u001b[0m\u001b[0mTypeError\u001b[0m\u001b[1;33m,\u001b[0m \u001b[0mValueError\u001b[0m\u001b[1;33m)\u001b[0m\u001b[1;33m:\u001b[0m\u001b[1;33m\u001b[0m\u001b[1;33m\u001b[0m\u001b[0m\n\u001b[0;32m    182\u001b[0m       \u001b[1;31m# Note: convert_to_eager_tensor currently raises a ValueError, not a\u001b[0m\u001b[1;33m\u001b[0m\u001b[1;33m\u001b[0m\u001b[1;33m\u001b[0m\u001b[0m\n",
      "\u001b[1;32m~\\Anaconda3\\lib\\site-packages\\tensorflow_core\\python\\ops\\math_ops.py\u001b[0m in \u001b[0;36mmatmul\u001b[1;34m(a, b, transpose_a, transpose_b, adjoint_a, adjoint_b, a_is_sparse, b_is_sparse, name)\u001b[0m\n\u001b[0;32m   2752\u001b[0m     \u001b[1;32melse\u001b[0m\u001b[1;33m:\u001b[0m\u001b[1;33m\u001b[0m\u001b[1;33m\u001b[0m\u001b[0m\n\u001b[0;32m   2753\u001b[0m       return gen_math_ops.mat_mul(\n\u001b[1;32m-> 2754\u001b[1;33m           a, b, transpose_a=transpose_a, transpose_b=transpose_b, name=name)\n\u001b[0m\u001b[0;32m   2755\u001b[0m \u001b[1;33m\u001b[0m\u001b[0m\n\u001b[0;32m   2756\u001b[0m \u001b[1;33m\u001b[0m\u001b[0m\n",
      "\u001b[1;32m~\\Anaconda3\\lib\\site-packages\\tensorflow_core\\python\\ops\\gen_math_ops.py\u001b[0m in \u001b[0;36mmat_mul\u001b[1;34m(a, b, transpose_a, transpose_b, name)\u001b[0m\n\u001b[0;32m   6134\u001b[0m   _, _, _op = _op_def_lib._apply_op_helper(\n\u001b[0;32m   6135\u001b[0m         \u001b[1;34m\"MatMul\"\u001b[0m\u001b[1;33m,\u001b[0m \u001b[0ma\u001b[0m\u001b[1;33m=\u001b[0m\u001b[0ma\u001b[0m\u001b[1;33m,\u001b[0m \u001b[0mb\u001b[0m\u001b[1;33m=\u001b[0m\u001b[0mb\u001b[0m\u001b[1;33m,\u001b[0m \u001b[0mtranspose_a\u001b[0m\u001b[1;33m=\u001b[0m\u001b[0mtranspose_a\u001b[0m\u001b[1;33m,\u001b[0m \u001b[0mtranspose_b\u001b[0m\u001b[1;33m=\u001b[0m\u001b[0mtranspose_b\u001b[0m\u001b[1;33m,\u001b[0m\u001b[1;33m\u001b[0m\u001b[1;33m\u001b[0m\u001b[0m\n\u001b[1;32m-> 6136\u001b[1;33m                   name=name)\n\u001b[0m\u001b[0;32m   6137\u001b[0m   \u001b[0m_result\u001b[0m \u001b[1;33m=\u001b[0m \u001b[0m_op\u001b[0m\u001b[1;33m.\u001b[0m\u001b[0moutputs\u001b[0m\u001b[1;33m[\u001b[0m\u001b[1;33m:\u001b[0m\u001b[1;33m]\u001b[0m\u001b[1;33m\u001b[0m\u001b[1;33m\u001b[0m\u001b[0m\n\u001b[0;32m   6138\u001b[0m   \u001b[0m_inputs_flat\u001b[0m \u001b[1;33m=\u001b[0m \u001b[0m_op\u001b[0m\u001b[1;33m.\u001b[0m\u001b[0minputs\u001b[0m\u001b[1;33m\u001b[0m\u001b[1;33m\u001b[0m\u001b[0m\n",
      "\u001b[1;32m~\\Anaconda3\\lib\\site-packages\\tensorflow_core\\python\\framework\\op_def_library.py\u001b[0m in \u001b[0;36m_apply_op_helper\u001b[1;34m(self, op_type_name, name, **keywords)\u001b[0m\n\u001b[0;32m    562\u001b[0m                   \u001b[1;34m\"%s type %s of argument '%s'.\"\u001b[0m \u001b[1;33m%\u001b[0m\u001b[1;33m\u001b[0m\u001b[1;33m\u001b[0m\u001b[0m\n\u001b[0;32m    563\u001b[0m                   (prefix, dtypes.as_dtype(attrs[input_arg.type_attr]).name,\n\u001b[1;32m--> 564\u001b[1;33m                    inferred_from[input_arg.type_attr]))\n\u001b[0m\u001b[0;32m    565\u001b[0m \u001b[1;33m\u001b[0m\u001b[0m\n\u001b[0;32m    566\u001b[0m           \u001b[0mtypes\u001b[0m \u001b[1;33m=\u001b[0m \u001b[1;33m[\u001b[0m\u001b[0mvalues\u001b[0m\u001b[1;33m.\u001b[0m\u001b[0mdtype\u001b[0m\u001b[1;33m]\u001b[0m\u001b[1;33m\u001b[0m\u001b[1;33m\u001b[0m\u001b[0m\n",
      "\u001b[1;31mTypeError\u001b[0m: Input 'b' of 'MatMul' Op has type int32 that does not match type float32 of argument 'a'."
     ]
    }
   ],
   "source": [
    "# H(x) = wx+b\n",
    "# w=tf.Variable(tf.random_normal([2,1]))\n",
    "w=tf.Variable([[1],[2]])\n",
    "a=tf.placeholder(tf.float32)\n",
    "b=tf.placeholder(tf.float32)\n",
    "hf=tf.matmul(x,w)+b"
   ]
  },
  {
   "cell_type": "code",
   "execution_count": 95,
   "metadata": {},
   "outputs": [
    {
     "name": "stdout",
     "output_type": "stream",
     "text": [
      "[[ 1.0613183 ]\n",
      " [-0.25018805]\n",
      " [-2.463282  ]]\n",
      "[0.7043168]\n",
      "[[ -6.1245875]\n",
      " [-11.081043 ]]\n"
     ]
    }
   ],
   "source": [
    "xdata=[[1,2,3],\n",
    "       [4,5,6]]\n",
    "#hf=xw+b\n",
    "#x shape=>(2,3) * (3,1) => (2,1)\n",
    "#w shape=>?\n",
    "x=tf.placeholder(tf.float32, [None,3])\n",
    "w=tf.Variable(tf.random_normal([3,1])) # 가중치 역할\n",
    "b=tf.Variable(tf.random_normal([1])) # 편향\n",
    "hf=tf.matmul(x,w)+b\n",
    "sess=tf.Session()\n",
    "sess.run(tf.global_variables_initializer())\n",
    "print(sess.run(w))\n",
    "print(sess.run(b))\n",
    "print(sess.run(hf, feed_dict={x:xdata}))"
   ]
  },
  {
   "cell_type": "code",
   "execution_count": 142,
   "metadata": {},
   "outputs": [],
   "source": [
    "# tensorflow 기반 선형 회귀 모델 \n",
    "xtrain=[80, 95, 97] # 모의고사 점수(3명)\n",
    "ytrain=[82, 90, 98] # 수능점수(3명)\n",
    "# 모의고사 70점 -> 수능?\n",
    "# hf = x*w+b\n"
   ]
  },
  {
   "cell_type": "code",
   "execution_count": 143,
   "metadata": {},
   "outputs": [],
   "source": [
    "w=tf.Variable(tf.random_normal([1]))\n",
    "b=tf.Variable(tf.random_normal([1]))"
   ]
  },
  {
   "cell_type": "code",
   "execution_count": 144,
   "metadata": {},
   "outputs": [],
   "source": [
    "hf=xtrain*w+b"
   ]
  },
  {
   "cell_type": "code",
   "execution_count": 145,
   "metadata": {},
   "outputs": [
    {
     "name": "stdout",
     "output_type": "stream",
     "text": [
      "[array([-0.6489904], dtype=float32), array([-0.7963978], dtype=float32), array([-52.71563 , -62.450485, -63.748466], dtype=float32)]\n"
     ]
    }
   ],
   "source": [
    "sess=tf.Session()\n",
    "sess.run(tf.global_variables_initializer())\n",
    "print(sess.run([w,b,hf]))\n",
    "# w=1.1458317m b=-0.5367175\n",
    "# hf(예상)=[ 91.129814, 108.31729 , 110.608955]\n",
    "    # 정답=[82, 90, 98]\n",
    "# cost=(((91.129814-82)^2)+((108.31729-90)^2)+((110.608955-98)^2))/3\n",
    "# cost함수 미분 -> w, b update(back propagation)\n",
    "# 이 과정 반복 "
   ]
  },
  {
   "cell_type": "code",
   "execution_count": 146,
   "metadata": {},
   "outputs": [],
   "source": [
    "# 우리의 모델\n",
    "hf=xtrain*w+b\n",
    "cost=tf.reduce_mean(tf.square(hf-ytrain))\n",
    "# (예상값 - 실제값)/3/3"
   ]
  },
  {
   "cell_type": "code",
   "execution_count": 147,
   "metadata": {},
   "outputs": [],
   "source": [
    "opt=tf.train.GradientDescentOptimizer(0.0001)\n",
    "train=opt.minimize(cost)"
   ]
  },
  {
   "cell_type": "code",
   "execution_count": 149,
   "metadata": {},
   "outputs": [
    {
     "name": "stdout",
     "output_type": "stream",
     "text": [
      "0 4172.644 [0.29067087] [-0.7860521]\n",
      "100 9.566762 [0.99971664] [-0.7755923]\n",
      "200 9.566025 [0.9996874] [-0.7728982]\n",
      "300 9.565305 [0.9996578] [-0.7702041]\n",
      "400 9.564574 [0.99962825] [-0.76751256]\n",
      "500 9.563863 [0.9995989] [-0.76482385]\n",
      "600 9.563133 [0.99956924] [-0.7621357]\n",
      "700 9.562419 [0.99954] [-0.7594475]\n",
      "800 9.561678 [0.99951047] [-0.75675935]\n",
      "900 9.560957 [0.99948096] [-0.7540712]\n",
      "1000 9.560243 [0.9994517] [-0.751383]\n",
      "1100 9.559503 [0.99942213] [-0.74869484]\n",
      "1200 9.558797 [0.9993926] [-0.74600667]\n",
      "1300 9.558083 [0.99936336] [-0.7433185]\n",
      "1400 9.557353 [0.99933374] [-0.7406303]\n",
      "1500 9.556623 [0.9993043] [-0.73794216]\n",
      "1600 9.555909 [0.999275] [-0.735254]\n",
      "1700 9.555179 [0.9992454] [-0.7325658]\n",
      "1800 9.554451 [0.99921596] [-0.72987765]\n",
      "1900 9.553737 [0.9991867] [-0.7271895]\n",
      "2000 9.553016 [0.9991573] [-0.72450376]\n"
     ]
    }
   ],
   "source": [
    "for step in range(2001):\n",
    "    sess.run(train)    \n",
    "    if step%100==0:\n",
    "        print(step, sess.run(cost), sess.run(w), sess.run(b))"
   ]
  },
  {
   "cell_type": "code",
   "execution_count": 150,
   "metadata": {},
   "outputs": [
    {
     "data": {
      "text/plain": [
       "79.20808024"
      ]
     },
     "execution_count": 150,
     "metadata": {},
     "output_type": "execute_result"
    }
   ],
   "source": [
    "0.9991573*80-0.72450376"
   ]
  },
  {
   "cell_type": "code",
   "execution_count": 154,
   "metadata": {},
   "outputs": [
    {
     "name": "stdout",
     "output_type": "stream",
     "text": [
      "예상되는 수능점수는  49.23336172103882\n"
     ]
    }
   ],
   "source": [
    "# 모의고사 점수가 50점 => 수능점수\n",
    "yhat=sess.run(w)[0]*50+sess.run(b)[0]\n",
    "print(\"예상되는 수능점수는 \",yhat)"
   ]
  },
  {
   "cell_type": "code",
   "execution_count": 311,
   "metadata": {},
   "outputs": [],
   "source": [
    "# car데이터에서\n",
    "# 임의의 실린더 수가 입력이 되었을때(10, 12, 16) -> hp가 얼마나 나올지 예측\n",
    "# cost, w, b 출력\n",
    "# cost 함수 시각화(w축을 기준)\n",
    "# learning rate, training 회수 알아서 조절\n",
    "\n",
    "import pandas as pd\n",
    "from pandas import DataFrame as df\n",
    "\n",
    "df=pd.read_csv(\"C:/Users/student/Downloads/데이터들/cars.csv\")"
   ]
  },
  {
   "cell_type": "code",
   "execution_count": 321,
   "metadata": {
    "scrolled": false
   },
   "outputs": [],
   "source": [
    "xtrain=list(df[' cylinders'])\n",
    "ytrain=list(df[' hp'])"
   ]
  },
  {
   "cell_type": "code",
   "execution_count": 322,
   "metadata": {},
   "outputs": [
    {
     "name": "stdout",
     "output_type": "stream",
     "text": [
      "261\n",
      "261\n"
     ]
    }
   ],
   "source": [
    "print(len(xtrain)) # 261\n",
    "print(len(ytrain)) # 261"
   ]
  },
  {
   "cell_type": "code",
   "execution_count": 323,
   "metadata": {},
   "outputs": [],
   "source": [
    "w=tf.Variable(tf.random_normal([1]))\n",
    "b=tf.Variable(tf.random_normal([1]))"
   ]
  },
  {
   "cell_type": "code",
   "execution_count": 324,
   "metadata": {},
   "outputs": [],
   "source": [
    "hf=xtrain*w+b"
   ]
  },
  {
   "cell_type": "code",
   "execution_count": 325,
   "metadata": {},
   "outputs": [],
   "source": [
    "sess=tf.Session()\n",
    "sess.run(tf.global_variables_initializer())"
   ]
  },
  {
   "cell_type": "code",
   "execution_count": 326,
   "metadata": {},
   "outputs": [
    {
     "data": {
      "text/plain": [
       "array([1.2702119 , 0.37037957, 1.2702119 , 1.2702119 , 0.37037957,\n",
       "       1.2702119 , 1.2702119 , 1.2702119 , 0.5953376 , 0.37037957,\n",
       "       0.37037957, 0.37037957, 1.2702119 , 1.2702119 , 0.8202958 ,\n",
       "       1.2702119 , 0.37037957, 1.2702119 , 0.37037957, 0.37037957,\n",
       "       0.37037957, 0.37037957, 0.8202958 , 1.2702119 , 0.37037957,\n",
       "       0.37037957, 0.37037957, 1.2702119 , 0.8202958 , 0.37037957,\n",
       "       0.37037957, 0.8202958 , 0.37037957, 0.8202958 , 0.37037957,\n",
       "       0.8202958 , 0.37037957, 0.1454215 , 1.2702119 , 0.8202958 ,\n",
       "       0.8202958 , 1.2702119 , 0.8202958 , 0.8202958 , 1.2702119 ,\n",
       "       0.37037957, 1.2702119 , 0.37037957, 0.37037957, 0.8202958 ,\n",
       "       1.2702119 , 0.37037957, 1.2702119 , 0.37037957, 1.2702119 ,\n",
       "       1.2702119 , 0.8202958 , 0.37037957, 0.37037957, 1.2702119 ,\n",
       "       0.8202958 , 0.37037957, 0.8202958 , 0.37037957, 1.2702119 ,\n",
       "       0.8202958 , 0.37037957, 0.37037957, 0.37037957, 1.2702119 ,\n",
       "       0.8202958 , 0.37037957, 0.37037957, 0.37037957, 0.37037957,\n",
       "       0.8202958 , 0.8202958 , 0.37037957, 0.37037957, 0.37037957,\n",
       "       1.2702119 , 1.2702119 , 1.2702119 , 0.37037957, 0.37037957,\n",
       "       0.37037957, 0.8202958 , 0.8202958 , 0.37037957, 0.37037957,\n",
       "       0.37037957, 0.37037957, 1.2702119 , 0.8202958 , 0.37037957,\n",
       "       0.8202958 , 1.2702119 , 0.8202958 , 1.2702119 , 0.8202958 ,\n",
       "       1.2702119 , 1.2702119 , 0.37037957, 0.37037957, 0.37037957,\n",
       "       0.37037957, 0.37037957, 0.37037957, 0.37037957, 1.2702119 ,\n",
       "       0.37037957, 0.37037957, 1.2702119 , 0.37037957, 0.37037957,\n",
       "       0.8202958 , 0.37037957, 0.8202958 , 0.37037957, 1.2702119 ,\n",
       "       0.37037957, 0.37037957, 1.2702119 , 0.37037957, 0.37037957,\n",
       "       0.37037957, 1.2702119 , 0.37037957, 0.37037957, 0.37037957,\n",
       "       0.37037957, 0.37037957, 1.2702119 , 1.2702119 , 1.2702119 ,\n",
       "       1.2702119 , 0.37037957, 1.2702119 , 0.37037957, 0.37037957,\n",
       "       0.8202958 , 0.37037957, 0.37037957, 0.37037957, 1.2702119 ,\n",
       "       0.37037957, 0.8202958 , 0.37037957, 1.2702119 , 1.2702119 ,\n",
       "       0.37037957, 0.37037957, 1.2702119 , 0.8202958 , 0.37037957,\n",
       "       0.8202958 , 0.1454215 , 0.37037957, 0.8202958 , 0.8202958 ,\n",
       "       0.37037957, 1.2702119 , 0.8202958 , 0.8202958 , 0.37037957,\n",
       "       1.2702119 , 0.8202958 , 0.37037957, 0.8202958 , 0.37037957,\n",
       "       0.37037957, 0.5953376 , 0.37037957, 0.37037957, 0.37037957,\n",
       "       0.37037957, 1.2702119 , 1.2702119 , 1.2702119 , 0.37037957,\n",
       "       0.8202958 , 0.37037957, 1.2702119 , 1.2702119 , 0.37037957,\n",
       "       0.8202958 , 0.8202958 , 1.2702119 , 1.2702119 , 1.2702119 ,\n",
       "       0.37037957, 0.37037957, 1.2702119 , 1.2702119 , 1.2702119 ,\n",
       "       0.37037957, 0.37037957, 0.37037957, 0.37037957, 0.37037957,\n",
       "       0.37037957, 0.37037957, 1.2702119 , 0.8202958 , 0.37037957,\n",
       "       1.2702119 , 0.37037957, 0.8202958 , 1.2702119 , 0.8202958 ,\n",
       "       0.8202958 , 0.8202958 , 0.37037957, 0.37037957, 0.8202958 ,\n",
       "       0.37037957, 0.37037957, 1.2702119 , 0.8202958 , 1.2702119 ,\n",
       "       0.8202958 , 0.37037957, 1.2702119 , 0.8202958 , 1.2702119 ,\n",
       "       0.37037957, 1.2702119 , 0.37037957, 0.8202958 , 0.37037957,\n",
       "       1.2702119 , 0.37037957, 0.37037957, 1.2702119 , 0.37037957,\n",
       "       0.37037957, 1.2702119 , 0.8202958 , 0.37037957, 0.37037957,\n",
       "       1.2702119 , 0.8202958 , 1.2702119 , 0.37037957, 1.2702119 ,\n",
       "       1.2702119 , 1.2702119 , 0.37037957, 0.37037957, 0.37037957,\n",
       "       0.37037957, 0.37037957, 0.5953376 , 1.2702119 , 0.8202958 ,\n",
       "       0.37037957, 1.2702119 , 0.37037957, 0.8202958 , 0.8202958 ,\n",
       "       0.8202958 ], dtype=float32)"
      ]
     },
     "execution_count": 326,
     "metadata": {},
     "output_type": "execute_result"
    }
   ],
   "source": [
    "sess.run(hf)"
   ]
  },
  {
   "cell_type": "code",
   "execution_count": 327,
   "metadata": {},
   "outputs": [],
   "source": [
    "cost=tf.reduce_mean(tf.square(hf-ytrain))\n",
    "opt=tf.train.GradientDescentOptimizer(0.0001)\n",
    "train=opt.minimize(cost)"
   ]
  },
  {
   "cell_type": "code",
   "execution_count": 328,
   "metadata": {},
   "outputs": [],
   "source": [
    "import matplotlib.pyplot as plt"
   ]
  },
  {
   "cell_type": "code",
   "execution_count": 329,
   "metadata": {
    "scrolled": false
   },
   "outputs": [
    {
     "name": "stdout",
     "output_type": "stream",
     "text": [
      "12593.367 [0.35474128] [-0.5083264]\n",
      "470.44626 [18.682655] [2.3782065]\n",
      "470.31705 [18.716087] [2.2725718]\n",
      "470.20093 [18.733438] [2.16629]\n",
      "470.08865 [18.750608] [2.0618105]\n",
      "469.98004 [18.767569] [1.9589251]\n",
      "469.87497 [18.784084] [1.8577701]\n",
      "469.77362 [18.800312] [1.758367]\n",
      "469.6755 [18.81626] [1.6606869]\n",
      "469.58087 [18.83193] [1.564699]\n",
      "469.4895 [18.847328] [1.470374]\n",
      "469.40094 [18.862587] [1.377641]\n",
      "469.3154 [18.877657] [1.2863005]\n",
      "469.23264 [18.892319] [1.1964929]\n",
      "469.15262 [18.906727] [1.1082418]\n",
      "469.0755 [18.920883] [1.0215191]\n",
      "469.0008 [18.934797] [0.936299]\n",
      "468.9288 [18.948467] [0.8525556]\n",
      "468.85907 [18.961906] [0.7702626]\n",
      "468.79175 [18.975258] [0.6893337]\n",
      "468.72644 [18.988409] [0.6095998]\n",
      "468.6635 [19.001207] [0.5312102]\n",
      "468.60254 [19.013783] [0.45417845]\n",
      "468.54376 [19.02614] [0.37848175]\n",
      "468.48697 [19.038284] [0.30409646]\n",
      "468.43198 [19.050217] [0.23099993]\n",
      "468.379 [19.061945] [0.15916991]\n",
      "468.3277 [19.07347] [0.08858421]\n",
      "468.27808 [19.084913] [0.01917455]\n",
      "468.23004 [19.096243] [-0.04922884]\n",
      "468.18372 [19.107227] [-0.11650999]\n",
      "468.13892 [19.118021] [-0.18262552]\n",
      "468.0955 [19.128628] [-0.24759547]\n",
      "468.0537 [19.139051] [-0.31143984]\n",
      "468.0132 [19.149294] [-0.37417796]\n",
      "467.9742 [19.159359] [-0.4358292]\n",
      "467.93643 [19.16925] [-0.4964122]\n",
      "467.89987 [19.178968] [-0.5559452]\n",
      "467.8648 [19.188534] [-0.6144494]\n",
      "467.83057 [19.19807] [-0.67201716]\n",
      "467.79758 [19.20746] [-0.7287776]\n",
      "467.76562 [19.216574] [-0.7845912]\n",
      "467.73477 [19.225527] [-0.839438]\n",
      "467.70502 [19.234325] [-0.89333504]\n",
      "467.6762 [19.242973] [-0.94629765]\n",
      "467.64832 [19.251469] [-0.9983431]\n",
      "467.62146 [19.259819] [-1.0494851]\n",
      "467.59567 [19.268023] [-1.0997422]\n",
      "467.5705 [19.276087] [-1.1491296]\n",
      "467.5462 [19.28401] [-1.1976616]\n",
      "467.5228 [19.291796] [-1.2453518]\n",
      "467.5002 [19.299454] [-1.2922151]\n",
      "467.47827 [19.307083] [-1.3383206]\n",
      "467.45706 [19.314674] [-1.383797]\n",
      "467.43655 [19.321983] [-1.428569]\n",
      "467.4167 [19.329166] [-1.4725642]\n",
      "467.39755 [19.336226] [-1.5157998]\n",
      "467.37903 [19.34316] [-1.5582827]\n",
      "467.36118 [19.349976] [-1.6000307]\n",
      "467.3439 [19.356674] [-1.6410558]\n",
      "467.32712 [19.363255] [-1.6813703]\n",
      "467.3111 [19.369722] [-1.7209874]\n",
      "467.2955 [19.376078] [-1.7599156]\n",
      "467.28043 [19.382322] [-1.7981695]\n",
      "467.26596 [19.38846] [-1.8357631]\n",
      "467.25177 [19.394491] [-1.8727024]\n",
      "467.23822 [19.400417] [-1.9090033]\n",
      "467.22513 [19.406242] [-1.9446769]\n",
      "467.21246 [19.411976] [-1.9797325]\n",
      "467.20016 [19.417698] [-2.0142233]\n",
      "467.18835 [19.42342] [-2.0482612]\n",
      "467.17682 [19.42891] [-2.0818357]\n",
      "467.16565 [19.434294] [-2.114811]\n",
      "467.15494 [19.439585] [-2.1472251]\n",
      "467.1445 [19.444786] [-2.1790824]\n",
      "467.13443 [19.449894] [-2.2103727]\n",
      "467.12476 [19.454916] [-2.2411294]\n",
      "467.11542 [19.459852] [-2.2713583]\n",
      "467.1064 [19.4647] [-2.3010647]\n",
      "467.09756 [19.469465] [-2.3302436]\n",
      "467.08917 [19.474146] [-2.35892]\n",
      "467.081 [19.478746] [-2.3871014]\n",
      "467.0731 [19.483267] [-2.4147954]\n",
      "467.06552 [19.48771] [-2.4420102]\n",
      "467.0581 [19.492077] [-2.4687543]\n",
      "467.05103 [19.496368] [-2.4950364]\n",
      "467.04407 [19.500584] [-2.520865]\n",
      "467.0375 [19.504728] [-2.5462487]\n",
      "467.03113 [19.508799] [-2.5711775]\n",
      "467.02484 [19.512798] [-2.5956774]\n",
      "467.01886 [19.51673] [-2.6197586]\n",
      "467.01312 [19.520596] [-2.6434321]\n",
      "467.00754 [19.52441] [-2.666683]\n",
      "467.00214 [19.528225] [-2.6896014]\n",
      "466.9969 [19.53204] [-2.712214]\n",
      "466.9918 [19.535748] [-2.7345526]\n",
      "466.98682 [19.539337] [-2.7565444]\n",
      "466.98203 [19.542862] [-2.7781358]\n",
      "466.97748 [19.546328] [-2.7993634]\n",
      "466.97302 [19.549732] [-2.8202224]\n",
      "466.9687 [19.55308] [-2.8407168]\n"
     ]
    },
    {
     "data": {
      "text/plain": [
       "<function matplotlib.pyplot.plot(*args, scalex=True, scaley=True, data=None, **kwargs)>"
      ]
     },
     "execution_count": 329,
     "metadata": {},
     "output_type": "execute_result"
    },
    {
     "data": {
      "image/png": "[encoded data removed]",
      "text/plain": [
       "<Figure size 432x288 with 1 Axes>"
      ]
     },
     "metadata": {
      "needs_background": "light"
     },
     "output_type": "display_data"
    }
   ],
   "source": [
    "xlist=[]\n",
    "ylist=[]\n",
    "for step in range(100001):\n",
    "    sess.run(train)\n",
    "    xlist.append(sess.run(w)[0])\n",
    "    ylist.append(sess.run(cost))\n",
    "    if step%1000==0:\n",
    "        print(sess.run(cost),sess.run(w),sess.run(b))\n",
    "        \n",
    "plt.plot(xlist,ylist)\n",
    "plt.plot"
   ]
  },
  {
   "cell_type": "code",
   "execution_count": 330,
   "metadata": {},
   "outputs": [],
   "source": [
    "del xlist\n",
    "del ylist\n",
    "del sess"
   ]
  },
  {
   "cell_type": "code",
   "execution_count": null,
   "metadata": {},
   "outputs": [],
   "source": []
  }
 ],
 "metadata": {
  "kernelspec": {
   "display_name": "Python 3",
   "language": "python",
   "name": "python3"
  },
  "language_info": {
   "codemirror_mode": {
    "name": "ipython",
    "version": 3
   },
   "file_extension": ".py",
   "mimetype": "text/x-python",
   "name": "python",
   "nbconvert_exporter": "python",
   "pygments_lexer": "ipython3",
   "version": "3.7.4"
  }
 },
 "nbformat": 4,
 "nbformat_minor": 2
}
