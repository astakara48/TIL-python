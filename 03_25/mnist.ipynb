{
 "cells": [
  {
   "cell_type": "code",
   "execution_count": 1,
   "metadata": {},
   "outputs": [],
   "source": [
    "import numpy as np\n",
    "import pandas as pd\n",
    "import matplotlib.pyplot as plt"
   ]
  },
  {
   "cell_type": "code",
   "execution_count": 2,
   "metadata": {},
   "outputs": [],
   "source": [
    "import scipy.special"
   ]
  },
  {
   "cell_type": "code",
   "execution_count": 3,
   "metadata": {},
   "outputs": [],
   "source": [
    "import numpy as np\n",
    "\n",
    "class neuralNetwork:\n",
    "    \n",
    "    # 신경망 초기화 기능\n",
    "    # 입력, 은닉, 출력 계층에서 각 노드의 개수를 몇개로 할지 정해야함\n",
    "    def __init__(self, input_nodes, hidden_nodes, output_nodes, learning_rate):\n",
    "        self.inodes=input_nodes\n",
    "        self.hnodes=hidden_nodes\n",
    "        self.onodes=output_nodes\n",
    "        self.lr=learning_rate\n",
    "        \n",
    "    # 가중치는 행렬로 표현        \n",
    "    # 입력/은닉 사이 가중치 행렬 형식 : (은닉노드 * 입력노드 )\n",
    "    # 은닉/출력 사이 가중치 행렬 형식 : (출력노드 * 은닉노드 )\n",
    "\n",
    "    # 입력, 은닝 계층 사이의 가중치 행렬\n",
    "        self.wih=np.random.normal(0.0, pow(self.hnodes,-0.5), (self.hnodes,self.inodes))\n",
    "        # normal(평균, 표준편차, 개수)\n",
    "        \n",
    "        self.who=np.random.normal(0.0, pow(self.onodes,-0.5), (self.onodes,self.hnodes))\n",
    "\n",
    "        self.activation_function=lambda x:scipy.special.expit(x) # sigmoid\n",
    "        \n",
    "    # 신경망 학습 기능(2단계)\n",
    "    # 1단계(forward propagation) : 입력 데이터에 대해서 계산(query)\n",
    "    # 2단계(backward propagation) : 예측값과 실제값의 차이를 계산 -> 가중치 update\n",
    "    \n",
    "    \n",
    "    \n",
    "    def train(self, inputs_list, targets_list):\n",
    "        inputs=np.array(inputs_list, ndmin=2).T\n",
    "        \n",
    "        targets=np.array(targets_list, ndmin=2).T\n",
    "        \n",
    "        hidden_inputs=np.dot(self.wih,inputs)\n",
    "        \n",
    "        hidden_outputs=self.activation_function(hidden_inputs)\n",
    "        \n",
    "        final_inputs=np.dot(self.who, hidden_outputs)\n",
    "        \n",
    "        final_outputs=self.activation_function(final_inputs)\n",
    "        \n",
    "        output_errors=targets-final_outputs\n",
    "        # 오차 = 실제값 - 예측값\n",
    "        \n",
    "        # 은닉 계층 노드에 대한 역전파된 오차\n",
    "        # 은닉 계층의 오차는 가중치에 의해 나온다\n",
    "        # 출력 계층의 오차들을 재조합하여 계산한다.\n",
    "        hidden_errors=np.dot(self.who.T, output_errors)\n",
    "        \n",
    "        # 은닉 계층과 출력 계층 간의 가중치 업데이트(who)\n",
    "        self.who+=self.lr*np.dot((output_errors*final_outputs*(1.0-final_outputs)), np.transpose(hidden_outputs))\n",
    "        self.wih+=self.lr*np.dot((hidden_errors*hidden_outputs*(1.0-hidden_outputs)), np.transpose(inputs))\n",
    "        \n",
    "        pass\n",
    "    \n",
    "    #신경망 질의 기능 : 신경망으로 들어오는 입력을 받아 출력을 반환하는 함수\n",
    "    def query(self, inputs_list):\n",
    "        # 입력리스트를 2차워 행렬로 변환\n",
    "        inputs=np.array(inputs_list, ndmin=2).T\n",
    "        # 은닉계층으로 들어오는 신호를 계산\n",
    "        hidden_inputs=np.dot(self.wih,inputs)\n",
    "        # 은닉계층에서 나가는 신호 계산\n",
    "        hidden_outputs=self.activation_function(hidden_inputs)\n",
    "        \n",
    "        # 출력계층으로 들어오는 신호를 계산\n",
    "        final_inputs=np.dot(self.who, hidden_outputs)\n",
    "        \n",
    "        # 출력계층으로 나가는 신호를 계산\n",
    "        final_outputs=self.activation_function(final_inputs)\n",
    "        \n",
    "        return final_outputs\n",
    "        "
   ]
  },
  {
   "cell_type": "code",
   "execution_count": 4,
   "metadata": {},
   "outputs": [
    {
     "data": {
      "text/plain": [
       "<matplotlib.image.AxesImage at 0x1a4bcfb8e48>"
      ]
     },
     "execution_count": 4,
     "metadata": {},
     "output_type": "execute_result"
    },
    {
     "data": {
      "image/png": "[encoded data removed]",
      "text/plain": [
       "<Figure size 432x288 with 1 Axes>"
      ]
     },
     "metadata": {
      "needs_background": "light"
     },
     "output_type": "display_data"
    }
   ],
   "source": [
    "data_file=open('mnist_train_100.csv','r')\n",
    "data_list=data_file.readlines()\n",
    "len(data_list) # 길이 : 100\n",
    "data_list[0] # data_list[0] 길이 = 1846\n",
    "all_values=data_list[0].split(\",\")\n",
    "image_array=np.asfarray(all_values[1:]).reshape(28,28)# 784 -> 28,28\n",
    "# 문자로 된 숫자 -> 실수로 변환\n",
    "plt.imshow(image_array, cmap='Greys', interpolation=None)"
   ]
  },
  {
   "cell_type": "code",
   "execution_count": 5,
   "metadata": {},
   "outputs": [
    {
     "data": {
      "text/plain": [
       "<matplotlib.image.AxesImage at 0x1a4bd060688>"
      ]
     },
     "execution_count": 5,
     "metadata": {},
     "output_type": "execute_result"
    },
    {
     "data": {
      "image/png": "[encoded data removed]",
      "text/plain": [
       "<Figure size 432x288 with 1 Axes>"
      ]
     },
     "metadata": {
      "needs_background": "light"
     },
     "output_type": "display_data"
    }
   ],
   "source": [
    "all_values=data_list[1].split(\",\")\n",
    "image_array=np.asfarray(all_values[1:]).reshape(28,28)# 784 -> 28,28\n",
    "# 문자로 된 숫자 -> 실수로 변환\n",
    "plt.imshow(image_array, cmap='Greys', interpolation=None)"
   ]
  },
  {
   "cell_type": "code",
   "execution_count": 6,
   "metadata": {},
   "outputs": [],
   "source": [
    "# 0~255 -> 0.01 ~ 1.0\n",
    "# (0-255)/255*0.99=0~0.99 + 0.01 => 0.01~1\n",
    "scaled_input=(np.asfarray(all_values[1:])/255*0.99)+0.01"
   ]
  },
  {
   "cell_type": "code",
   "execution_count": 7,
   "metadata": {},
   "outputs": [
    {
     "data": {
      "text/plain": [
       "'\\n레이블 5에 대한 결과\\n0     0.00\\n1     0.01\\n...\\n5     0.99\\n9     0.00\\n'"
      ]
     },
     "execution_count": 7,
     "metadata": {},
     "output_type": "execute_result"
    }
   ],
   "source": [
    "\"\"\"\n",
    "레이블 5에 대한 결과\n",
    "0     0.00\n",
    "1     0.01\n",
    "...\n",
    "5     0.99\n",
    "9     0.00\n",
    "\"\"\""
   ]
  },
  {
   "cell_type": "code",
   "execution_count": 8,
   "metadata": {},
   "outputs": [],
   "source": [
    "onodes=10 # 출력 노드 종류가 10가지\n",
    "targets=np.zeros(onodes)+0.01\n",
    "targets[int(all_values[0])]=0.99"
   ]
  },
  {
   "cell_type": "code",
   "execution_count": 9,
   "metadata": {},
   "outputs": [
    {
     "data": {
      "text/plain": [
       "array([0.99, 0.01, 0.01, 0.01, 0.01, 0.01, 0.01, 0.01, 0.01, 0.01])"
      ]
     },
     "execution_count": 9,
     "metadata": {},
     "output_type": "execute_result"
    }
   ],
   "source": [
    "targets"
   ]
  },
  {
   "cell_type": "code",
   "execution_count": 10,
   "metadata": {},
   "outputs": [],
   "source": [
    "# 입력, 은닉, 출력 노드의 수\n",
    "input_nodes=784\n",
    "hidden_nodes=100\n",
    "output_nodes=10 # 0~9\n",
    "# tk        Ok          error\n",
    "# 0         0.05        0.05(e1)\n",
    "# 0\n",
    "# 0\n",
    "# 0\n",
    "# 0\n",
    "# 1\n",
    "# 0\n",
    "# 0\n",
    "# 0\n",
    "# 0         0.05  \n",
    "# |0.05(10)# 0\n",
    "\n",
    "#학습률 0.3\n",
    "learning_rate=0.3\n",
    "\n",
    "# 신경망 객체 생성\n",
    "n=neuralNetwork(input_nodes, hidden_nodes, output_nodes, learning_rate)\n",
    "\n",
    "#mnis 트레이닝 데이터 불러오기\n",
    "training_data_file=open(\"mnist_train_100.csv\",'r')\n",
    "training_data_list=training_data_file.readlines()\n",
    "training_data_file.close()\n",
    "\n",
    "epochs=200\n",
    "for e in range(epochs):\n",
    "    \n",
    "    # 신경망 학습\n",
    "    for record in training_data_list:\n",
    "        all_values=record.split(\",\") \n",
    "        inputs=(np.asfarray(all_values[1:])/255*0.99)+0.01 # 0.01 ~ 0.1 로 스케일링\n",
    "        targets=np.zeros(output_nodes)+0.01\n",
    "        targets[int(all_values[0])]=0.99\n",
    "        n.train(inputs, targets)"
   ]
  },
  {
   "cell_type": "code",
   "execution_count": 11,
   "metadata": {},
   "outputs": [],
   "source": [
    "test_data_file=open(\"mnist_test_10.csv\",\"r\")\n",
    "test_data_list=test_data_file.readlines()\n",
    "test_data_file.close()"
   ]
  },
  {
   "cell_type": "code",
   "execution_count": 12,
   "metadata": {},
   "outputs": [
    {
     "data": {
      "text/plain": [
       "'7'"
      ]
     },
     "execution_count": 12,
     "metadata": {},
     "output_type": "execute_result"
    }
   ],
   "source": [
    "all_values=test_data_list[0].split(\",\")\n",
    "all_values[0] # 첫번째 테스트 데이터 정답 : 7"
   ]
  },
  {
   "cell_type": "code",
   "execution_count": 13,
   "metadata": {},
   "outputs": [
    {
     "data": {
      "text/plain": [
       "<matplotlib.image.AxesImage at 0x1a4bcd00d48>"
      ]
     },
     "execution_count": 13,
     "metadata": {},
     "output_type": "execute_result"
    },
    {
     "data": {
      "image/png": "[encoded data removed]",
      "text/plain": [
       "<Figure size 432x288 with 1 Axes>"
      ]
     },
     "metadata": {
      "needs_background": "light"
     },
     "output_type": "display_data"
    }
   ],
   "source": [
    "image_array=(np.asfarray(all_values[1:]).reshape(28,28))\n",
    "plt.imshow(image_array, cmap=\"Greys\")"
   ]
  },
  {
   "cell_type": "code",
   "execution_count": 14,
   "metadata": {
    "scrolled": true
   },
   "outputs": [
    {
     "name": "stdout",
     "output_type": "stream",
     "text": [
      "7 : correct_label\n",
      "7 : my network's answer\n",
      "2 : correct_label\n",
      "2 : my network's answer\n",
      "1 : correct_label\n",
      "1 : my network's answer\n",
      "0 : correct_label\n",
      "0 : my network's answer\n",
      "4 : correct_label\n",
      "4 : my network's answer\n",
      "1 : correct_label\n",
      "1 : my network's answer\n",
      "4 : correct_label\n",
      "9 : my network's answer\n",
      "9 : correct_label\n",
      "3 : my network's answer\n",
      "5 : correct_label\n",
      "1 : my network's answer\n",
      "9 : correct_label\n",
      "9 : my network's answer\n",
      "0.7\n"
     ]
    }
   ],
   "source": [
    "score_card=[]\n",
    "for record in test_data_list:\n",
    "    all_values=record.split(\",\")\n",
    "    # 정답\n",
    "    correct_label=int(all_values[0])\n",
    "    print(correct_label, \": correct_label\")\n",
    "    \n",
    "    outputs=n.query(((np.asfarray(all_values[1:]))/255*0.99)+0.01)\n",
    "    label=np.argmax(outputs)\n",
    "    print(label, \": my network's answer\")\n",
    "    \n",
    "    if (label==correct_label):\n",
    "        score_card.append(1)\n",
    "    else:\n",
    "        score_card.append(0)\n",
    "        \n",
    "score_card_array=np.asarray(score_card)        \n",
    "print(score_card_array.sum()/score_card_array.size)\n"
   ]
  },
  {
   "cell_type": "code",
   "execution_count": 15,
   "metadata": {},
   "outputs": [],
   "source": [
    "# epoch 1~10 나눠서 테스트\n",
    "\n"
   ]
  },
  {
   "cell_type": "code",
   "execution_count": 16,
   "metadata": {},
   "outputs": [],
   "source": [
    "training_data_list=training_data_list[1:]"
   ]
  },
  {
   "cell_type": "code",
   "execution_count": null,
   "metadata": {},
   "outputs": [],
   "source": []
  },
  {
   "cell_type": "code",
   "execution_count": null,
   "metadata": {},
   "outputs": [],
   "source": []
  },
  {
   "cell_type": "code",
   "execution_count": 19,
   "metadata": {},
   "outputs": [
    {
     "ename": "ValueError",
     "evalue": "could not convert string to float: '1x1'",
     "output_type": "error",
     "traceback": [
      "\u001b[1;31m---------------------------------------------------------------------------\u001b[0m",
      "\u001b[1;31mValueError\u001b[0m                                Traceback (most recent call last)",
      "\u001b[1;32m<ipython-input-19-9bd78852544a>\u001b[0m in \u001b[0;36m<module>\u001b[1;34m\u001b[0m\n\u001b[0;32m     25\u001b[0m         \u001b[1;31m# 정답\u001b[0m\u001b[1;33m\u001b[0m\u001b[1;33m\u001b[0m\u001b[1;33m\u001b[0m\u001b[0m\n\u001b[0;32m     26\u001b[0m         \u001b[1;31m#print(correct_label, \": correct_label\")\u001b[0m\u001b[1;33m\u001b[0m\u001b[1;33m\u001b[0m\u001b[1;33m\u001b[0m\u001b[0m\n\u001b[1;32m---> 27\u001b[1;33m         \u001b[0minputs\u001b[0m\u001b[1;33m=\u001b[0m\u001b[1;33m(\u001b[0m\u001b[0mnp\u001b[0m\u001b[1;33m.\u001b[0m\u001b[0masfarray\u001b[0m\u001b[1;33m(\u001b[0m\u001b[0mall_values\u001b[0m\u001b[1;33m[\u001b[0m\u001b[1;36m1\u001b[0m\u001b[1;33m:\u001b[0m\u001b[1;33m]\u001b[0m\u001b[1;33m)\u001b[0m\u001b[1;33m/\u001b[0m\u001b[1;36m255\u001b[0m\u001b[1;33m*\u001b[0m\u001b[1;36m0.99\u001b[0m\u001b[1;33m)\u001b[0m\u001b[1;33m+\u001b[0m\u001b[1;36m0.01\u001b[0m\u001b[1;33m\u001b[0m\u001b[1;33m\u001b[0m\u001b[0m\n\u001b[0m\u001b[0;32m     28\u001b[0m         \u001b[0mtargets\u001b[0m\u001b[1;33m=\u001b[0m\u001b[0mnp\u001b[0m\u001b[1;33m.\u001b[0m\u001b[0mzeros\u001b[0m\u001b[1;33m(\u001b[0m\u001b[0moutput_nodes\u001b[0m\u001b[1;33m)\u001b[0m\u001b[1;33m+\u001b[0m\u001b[1;36m0.01\u001b[0m\u001b[1;33m\u001b[0m\u001b[1;33m\u001b[0m\u001b[0m\n\u001b[0;32m     29\u001b[0m         \u001b[0mtargets\u001b[0m\u001b[1;33m[\u001b[0m\u001b[0mint\u001b[0m\u001b[1;33m(\u001b[0m\u001b[0mall_values\u001b[0m\u001b[1;33m[\u001b[0m\u001b[1;36m0\u001b[0m\u001b[1;33m]\u001b[0m\u001b[1;33m)\u001b[0m\u001b[1;33m]\u001b[0m\u001b[1;33m=\u001b[0m\u001b[1;36m0.99\u001b[0m\u001b[1;33m\u001b[0m\u001b[1;33m\u001b[0m\u001b[0m\n",
      "\u001b[1;32m~\\Anaconda3\\lib\\site-packages\\numpy\\lib\\type_check.py\u001b[0m in \u001b[0;36masfarray\u001b[1;34m(a, dtype)\u001b[0m\n\u001b[0;32m    115\u001b[0m     \u001b[1;32mif\u001b[0m \u001b[1;32mnot\u001b[0m \u001b[0m_nx\u001b[0m\u001b[1;33m.\u001b[0m\u001b[0missubdtype\u001b[0m\u001b[1;33m(\u001b[0m\u001b[0mdtype\u001b[0m\u001b[1;33m,\u001b[0m \u001b[0m_nx\u001b[0m\u001b[1;33m.\u001b[0m\u001b[0minexact\u001b[0m\u001b[1;33m)\u001b[0m\u001b[1;33m:\u001b[0m\u001b[1;33m\u001b[0m\u001b[1;33m\u001b[0m\u001b[0m\n\u001b[0;32m    116\u001b[0m         \u001b[0mdtype\u001b[0m \u001b[1;33m=\u001b[0m \u001b[0m_nx\u001b[0m\u001b[1;33m.\u001b[0m\u001b[0mfloat_\u001b[0m\u001b[1;33m\u001b[0m\u001b[1;33m\u001b[0m\u001b[0m\n\u001b[1;32m--> 117\u001b[1;33m     \u001b[1;32mreturn\u001b[0m \u001b[0masarray\u001b[0m\u001b[1;33m(\u001b[0m\u001b[0ma\u001b[0m\u001b[1;33m,\u001b[0m \u001b[0mdtype\u001b[0m\u001b[1;33m=\u001b[0m\u001b[0mdtype\u001b[0m\u001b[1;33m)\u001b[0m\u001b[1;33m\u001b[0m\u001b[1;33m\u001b[0m\u001b[0m\n\u001b[0m\u001b[0;32m    118\u001b[0m \u001b[1;33m\u001b[0m\u001b[0m\n\u001b[0;32m    119\u001b[0m \u001b[1;33m\u001b[0m\u001b[0m\n",
      "\u001b[1;32m~\\Anaconda3\\lib\\site-packages\\numpy\\core\\numeric.py\u001b[0m in \u001b[0;36masarray\u001b[1;34m(a, dtype, order)\u001b[0m\n\u001b[0;32m    536\u001b[0m \u001b[1;33m\u001b[0m\u001b[0m\n\u001b[0;32m    537\u001b[0m     \"\"\"\n\u001b[1;32m--> 538\u001b[1;33m     \u001b[1;32mreturn\u001b[0m \u001b[0marray\u001b[0m\u001b[1;33m(\u001b[0m\u001b[0ma\u001b[0m\u001b[1;33m,\u001b[0m \u001b[0mdtype\u001b[0m\u001b[1;33m,\u001b[0m \u001b[0mcopy\u001b[0m\u001b[1;33m=\u001b[0m\u001b[1;32mFalse\u001b[0m\u001b[1;33m,\u001b[0m \u001b[0morder\u001b[0m\u001b[1;33m=\u001b[0m\u001b[0morder\u001b[0m\u001b[1;33m)\u001b[0m\u001b[1;33m\u001b[0m\u001b[1;33m\u001b[0m\u001b[0m\n\u001b[0m\u001b[0;32m    539\u001b[0m \u001b[1;33m\u001b[0m\u001b[0m\n\u001b[0;32m    540\u001b[0m \u001b[1;33m\u001b[0m\u001b[0m\n",
      "\u001b[1;31mValueError\u001b[0m: could not convert string to float: '1x1'"
     ]
    }
   ],
   "source": [
    "epochs=range(1,11)\n",
    "score_card=[]\n",
    "#for e in epochs:\n",
    "    #print(e)\n",
    "    # 신경망 학습\n",
    "\n",
    "training_data_file=open('mnist-in-csv/mnist_train.csv','r')\n",
    "test_data_file=open('mnist-in-csv/mnist_test.csv','r')\n",
    "training_data_list=training_data_file.readlines()\n",
    "training_data_file.close()\n",
    "    \n",
    "test_data_file=open('mnist-in-csv/mnist_test.csv','r')\n",
    "testing_data_list=test_data_file.readlines()\n",
    "test_data_file.close()    \n",
    "\n",
    "for e in epochs:\n",
    "    input_nodes=784\n",
    "    hidden_nodes=100\n",
    "    output_nodes=10 # 0~9\n",
    "    learning_rate=0.01\n",
    "\n",
    "    n=neuralNetwork(input_nodes, hidden_nodes, output_nodes, learning_rate)\n",
    "    for record in training_data_list:\n",
    "        all_values=record.split(\",\")\n",
    "        # 정답\n",
    "        #print(correct_label, \": correct_label\")\n",
    "        inputs=(np.asfarray(all_values[1:])/255*0.99)+0.01\n",
    "        targets=np.zeros(output_nodes)+0.01\n",
    "        targets[int(all_values[0])]=0.99\n",
    "        n.train(inputs, targets)\n",
    "\n",
    "    \n",
    "        for record in testing_data_list[1:]:\n",
    "            all_values=record.split(\",\")\n",
    "            correct_label=int(all_values[0])\n",
    "            outputs=n.query(((np.asfarray(all_values[1:]))/255*0.99)+0.01)\n",
    "            label=np.argmax(outputs)\n",
    "                #print(label, \": my network's answer\")\n",
    "\n",
    "            if (label==correct_label):\n",
    "                score_card.append(1)\n",
    "            else:\n",
    "                score_card.append(0)\n",
    "        score_card_array=np.asarray(score_card)        \n",
    "        print(score_card_array.sum()/score_card_array.size)"
   ]
  },
  {
   "cell_type": "code",
   "execution_count": null,
   "metadata": {},
   "outputs": [],
   "source": [
    "len(training_data_list[1:][1:])"
   ]
  },
  {
   "cell_type": "code",
   "execution_count": null,
   "metadata": {},
   "outputs": [],
   "source": []
  },
  {
   "cell_type": "code",
   "execution_count": null,
   "metadata": {},
   "outputs": [],
   "source": []
  },
  {
   "cell_type": "code",
   "execution_count": null,
   "metadata": {},
   "outputs": [],
   "source": []
  },
  {
   "cell_type": "code",
   "execution_count": null,
   "metadata": {},
   "outputs": [],
   "source": []
  }
 ],
 "metadata": {
  "kernelspec": {
   "display_name": "Python 3",
   "language": "python",
   "name": "python3"
  },
  "language_info": {
   "codemirror_mode": {
    "name": "ipython",
    "version": 3
   },
   "file_extension": ".py",
   "mimetype": "text/x-python",
   "name": "python",
   "nbconvert_exporter": "python",
   "pygments_lexer": "ipython3",
   "version": "3.7.4"
  }
 },
 "nbformat": 4,
 "nbformat_minor": 2
}
