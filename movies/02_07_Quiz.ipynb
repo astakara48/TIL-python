{
 "cells": [
  {
   "cell_type": "code",
   "execution_count": 76,
   "metadata": {},
   "outputs": [],
   "source": [
    "import numpy as np\n",
    "import sys"
   ]
  },
  {
   "cell_type": "code",
   "execution_count": null,
   "metadata": {},
   "outputs": [],
   "source": [
    "s=input().split(\" \")\n",
    "data=[]\n",
    "moving_num=int(s[0])\n",
    "for i in range(len(s)-1):\n",
    "    data.append(s[i+1])\n",
    "data=data[-moving_num:]+data[0:-moving_num]\n",
    "print(data)\n"
   ]
  },
  {
   "cell_type": "markdown",
   "metadata": {},
   "source": [
    "##### "
   ]
  },
  {
   "cell_type": "code",
   "execution_count": null,
   "metadata": {},
   "outputs": [],
   "source": [
    "k=list(input())\n",
    "for i in k:\n",
    "    if i==' ':\n",
    "        input_data.remove(i)"
   ]
  },
  {
   "cell_type": "code",
   "execution_count": null,
   "metadata": {},
   "outputs": [],
   "source": [
    "s=[0,1,0,0,0,0,0,0,0,0,1]\n",
    "cnt=0\n",
    "print(len(s))\n",
    "for i in s:\n",
    "    if i==1:\n",
    "        print(cnt)\n",
    "    cnt+=1\n",
    "s[10]"
   ]
  },
  {
   "cell_type": "code",
   "execution_count": 96,
   "metadata": {
    "scrolled": false
   },
   "outputs": [
    {
     "name": "stdout",
     "output_type": "stream",
     "text": [
      "10 10\n",
      "[[0. 0. 0. 0. 0. 0. 0. 0. 0. 0.]\n",
      " [0. 0. 0. 0. 0. 0. 0. 0. 0. 0.]\n",
      " [0. 0. 0. 0. 0. 0. 0. 0. 0. 0.]\n",
      " [0. 0. 0. 0. 0. 0. 0. 0. 0. 0.]\n",
      " [0. 0. 0. 0. 0. 0. 0. 0. 0. 0.]\n",
      " [0. 0. 0. 0. 0. 0. 0. 0. 0. 0.]\n",
      " [0. 0. 0. 0. 0. 0. 0. 0. 0. 0.]\n",
      " [0. 0. 0. 0. 0. 0. 0. 0. 0. 0.]\n",
      " [0. 0. 0. 0. 0. 0. 0. 0. 0. 0.]\n",
      " [0. 0. 0. 0. 0. 0. 0. 0. 0. 0.]]\n",
      "==================================================\n",
      "6 6 3\n",
      "0000000000 0000001000 0000110100 0011000010 0100000010 0100000010 0100000100 0010001000 0001011000 0000100000\n",
      "[[0. 0. 0. 0. 0. 0. 0. 0. 0. 0.]\n",
      " [0. 0. 0. 0. 0. 0. 0. 0. 0. 0.]\n",
      " [0. 0. 0. 0. 0. 0. 0. 0. 0. 0.]\n",
      " [0. 0. 0. 0. 0. 0. 0. 0. 0. 0.]\n",
      " [0. 0. 0. 0. 0. 0. 0. 0. 0. 0.]\n",
      " [0. 0. 0. 0. 0. 0. 0. 0. 0. 0.]\n",
      " [0. 0. 0. 0. 0. 0. 0. 0. 0. 0.]\n",
      " [0. 0. 0. 0. 0. 0. 0. 0. 0. 0.]\n",
      " [0. 0. 0. 0. 0. 0. 0. 0. 0. 0.]\n",
      " [0. 0. 0. 0. 0. 0. 0. 0. 0. 0.]]\n",
      "6 6 3\n"
     ]
    },
    {
     "data": {
      "text/plain": [
       "array([[0., 0., 0., 0., 0., 0., 0., 0., 0., 0.],\n",
       "       [0., 0., 0., 0., 0., 0., 1., 0., 0., 0.],\n",
       "       [0., 0., 0., 0., 1., 1., 3., 1., 0., 0.],\n",
       "       [0., 0., 1., 1., 3., 3., 3., 3., 1., 0.],\n",
       "       [0., 1., 3., 3., 3., 3., 3., 3., 1., 0.],\n",
       "       [0., 1., 3., 3., 3., 3., 3., 3., 1., 0.],\n",
       "       [0., 1., 3., 3., 3., 3., 3., 1., 0., 0.],\n",
       "       [0., 0., 1., 3., 3., 3., 1., 0., 0., 0.],\n",
       "       [0., 0., 0., 1., 3., 1., 1., 0., 0., 0.],\n",
       "       [0., 0., 0., 0., 1., 0., 0., 0., 0., 0.]])"
      ]
     },
     "execution_count": 96,
     "metadata": {},
     "output_type": "execute_result"
    }
   ],
   "source": [
    "s=input().split()\n",
    "width=int(s[0])\n",
    "height=int(s[1])\n",
    "s=(width,height)\n",
    "\n",
    "data=np.zeros((width,height))\n",
    "\n",
    "print(data, end=\"\\n\")\n",
    "print(\"=\"*50)\n",
    "        \n",
    "n=input()\n",
    "num_list=[]\n",
    "for i in n:\n",
    "    if i.isnumeric():\n",
    "        num_list.append(int(i))\n",
    "        \n",
    "x=num_list[0]\n",
    "y=num_list[1]\n",
    "color=num_list[2]\n",
    "\n",
    "k=list(input())\n",
    "\n",
    "for i in k:\n",
    "    if i==' ':\n",
    "        k.remove(i)\n",
    "print(data)        \n",
    "cnt=0\n",
    "\n",
    "for i in range(width):\n",
    "    for j in range(height):\n",
    "        data[i][j]=k[cnt]\n",
    "        cnt+=1\n",
    "    \n",
    "data\n",
    "def paint(x,y):\n",
    "    global width, height\n",
    "    \n",
    "    if x in range(1,width+1) and y in range(1,height+1):\n",
    "        if data[y][x]==0:\n",
    "            data[y][x]=color\n",
    "        \n",
    "            paint(x+1,y)\n",
    "            paint(x-1,y)\n",
    "            paint(x,y+1)\n",
    "            paint(x,y-1)\n",
    "            \n",
    "\n",
    "print(x,y,color)\n",
    "paint(x,y)\n",
    "data"
   ]
  },
  {
   "cell_type": "code",
   "execution_count": 82,
   "metadata": {},
   "outputs": [
    {
     "data": {
      "text/plain": [
       "array([[0., 0., 0., 0., 0., 0., 0., 0., 0., 0.],\n",
       "       [0., 3., 0., 0., 0., 0., 1., 0., 0., 0.],\n",
       "       [0., 0., 0., 0., 1., 1., 0., 1., 0., 0.],\n",
       "       [0., 0., 1., 1., 0., 0., 0., 0., 1., 0.],\n",
       "       [0., 1., 0., 0., 0., 0., 0., 0., 1., 0.],\n",
       "       [0., 1., 0., 0., 0., 0., 0., 0., 1., 0.],\n",
       "       [0., 1., 0., 0., 0., 0., 0., 1., 0., 0.],\n",
       "       [0., 0., 1., 0., 0., 0., 1., 0., 0., 0.],\n",
       "       [0., 0., 0., 1., 0., 1., 1., 0., 0., 0.],\n",
       "       [0., 0., 0., 0., 1., 0., 0., 0., 0., 0.]])"
      ]
     },
     "execution_count": 82,
     "metadata": {},
     "output_type": "execute_result"
    }
   ],
   "source": [
    "data[1][1]=3\n",
    "data"
   ]
  },
  {
   "cell_type": "code",
   "execution_count": null,
   "metadata": {},
   "outputs": [],
   "source": []
  }
 ],
 "metadata": {
  "kernelspec": {
   "display_name": "Python 3",
   "language": "python",
   "name": "python3"
  },
  "language_info": {
   "codemirror_mode": {
    "name": "ipython",
    "version": 3
   },
   "file_extension": ".py",
   "mimetype": "text/x-python",
   "name": "python",
   "nbconvert_exporter": "python",
   "pygments_lexer": "ipython3",
   "version": "3.7.4"
  }
 },
 "nbformat": 4,
 "nbformat_minor": 2
}
