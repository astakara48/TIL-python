{
 "cells": [
  {
   "cell_type": "code",
   "execution_count": 114,
   "metadata": {},
   "outputs": [
    {
     "name": "stdout",
     "output_type": "stream",
     "text": [
      "1T2D3D#\t\n",
      "[4, 9]\n",
      "13\n"
     ]
    }
   ],
   "source": [
    "case={\"*\":0,\"#\":0}\n",
    "cnt=0\n",
    "miss_cnt=0\n",
    "score=[0]\n",
    "score=[]\n",
    "num_list=['0','1','2','3','4','5','6','7','8','9','10']\n",
    "func_list=['S','D','T']\n",
    "n=list(input())\n",
    "num_index=0\n",
    "for i in range(len(n)-1):\n",
    "    if (n[i]=='1') & (n[i+1]=='0'):\n",
    "        num_index=i\n",
    "\n",
    "n[num_index]='10'\n",
    "\n",
    "n.pop(num_index+1)\n",
    "\n",
    "\n",
    "for i in n:\n",
    "    if i in num_list:\n",
    "        num=int(i)\n",
    "    \n",
    "    elif i=='S':\n",
    "        num=num**1\n",
    "        score.append(num)\n",
    "        miss_cnt+=1\n",
    "        \n",
    "    elif i=='D':\n",
    "        num=num**2\n",
    "        score.append(num)\n",
    "        miss_cnt+=1\n",
    "        \n",
    "    elif i=='T':\n",
    "        num=num**3\n",
    "        score.append(num)\n",
    "        miss_cnt+=1\n",
    "        \n",
    "#     elif i=='#' :\n",
    "#         score[miss_cnt-1]=score[miss_cnt-1]*-1\n",
    "    \n",
    "print(score)\n",
    "print(sum(score))\n"
   ]
  },
  {
   "cell_type": "code",
   "execution_count": 82,
   "metadata": {},
   "outputs": [
    {
     "data": {
      "text/plain": [
       "'1+4'"
      ]
     },
     "execution_count": 82,
     "metadata": {},
     "output_type": "execute_result"
    }
   ],
   "source": [
    "s=\"1+4\"\n",
    "s"
   ]
  },
  {
   "cell_type": "code",
   "execution_count": null,
   "metadata": {},
   "outputs": [],
   "source": []
  },
  {
   "cell_type": "code",
   "execution_count": null,
   "metadata": {},
   "outputs": [],
   "source": []
  },
  {
   "cell_type": "code",
   "execution_count": null,
   "metadata": {},
   "outputs": [],
   "source": []
  },
  {
   "cell_type": "code",
   "execution_count": null,
   "metadata": {},
   "outputs": [],
   "source": []
  },
  {
   "cell_type": "code",
   "execution_count": null,
   "metadata": {},
   "outputs": [],
   "source": []
  },
  {
   "cell_type": "code",
   "execution_count": null,
   "metadata": {},
   "outputs": [],
   "source": []
  }
 ],
 "metadata": {
  "kernelspec": {
   "display_name": "Python 3",
   "language": "python",
   "name": "python3"
  },
  "language_info": {
   "codemirror_mode": {
    "name": "ipython",
    "version": 3
   },
   "file_extension": ".py",
   "mimetype": "text/x-python",
   "name": "python",
   "nbconvert_exporter": "python",
   "pygments_lexer": "ipython3",
   "version": "3.7.4"
  }
 },
 "nbformat": 4,
 "nbformat_minor": 2
}
