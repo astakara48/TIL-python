{
 "cells": [
  {
   "cell_type": "code",
   "execution_count": null,
   "metadata": {},
   "outputs": [],
   "source": [
    "\"\"\"\n",
    "def 함수명(매개변수): \n",
    "    수행문장\n",
    "    수행문장\n",
    "    ...\n",
    "    return \n",
    "\"\"\"\n",
    "# 함수명(10)\n",
    "\n",
    "def add(a,b):\n",
    "    return a+b\n",
    "\n",
    "a,b=3,4,\n",
    "sum=add(a,b)\n",
    "print(sum)"
   ]
  },
  {
   "cell_type": "code",
   "execution_count": null,
   "metadata": {},
   "outputs": [],
   "source": [
    "# 여러 개의 입력값을 전달 받는 함수\n",
    "# def 함수명(*매개변수):\n",
    "#     수행문장\n",
    "def add_many(*args):\n",
    "    #수행문장\n",
    "    res=0\n",
    "    for i in args:\n",
    "        res+=i\n",
    "        \n",
    "    return res\n",
    "        \n",
    "    \n",
    "print(add_many(1,2,3))\n",
    "# res=add_many(1,2,3)\n",
    "# print(res)\n",
    "\n",
    "\n",
    "res=add_many(1,2,3,4,5,6)\n",
    "print(res)"
   ]
  },
  {
   "cell_type": "code",
   "execution_count": null,
   "metadata": {},
   "outputs": [],
   "source": [
    "def add_mul(ch, *args):\n",
    "    res=0\n",
    "    if ch=='add':\n",
    "        for i in args:\n",
    "            res+=i\n",
    "    \n",
    "    elif ch=='mul':\n",
    "        res=1\n",
    "        for i in args:\n",
    "            res*=i\n",
    "    \n",
    "    return res\n",
    "    \n",
    "print(add_mul('add',1,2,3))\n",
    "\n",
    "print(add_mul('mul',1,2,3,4,5))"
   ]
  },
  {
   "cell_type": "code",
   "execution_count": null,
   "metadata": {},
   "outputs": [],
   "source": [
    "def dict_args(**args):\n",
    "    # args는 딕셔너리 변수\n",
    "    print(args)"
   ]
  },
  {
   "cell_type": "code",
   "execution_count": null,
   "metadata": {},
   "outputs": [],
   "source": [
    "dict_args(height=180)\n",
    "dict_args(weight=70)"
   ]
  },
  {
   "cell_type": "code",
   "execution_count": null,
   "metadata": {},
   "outputs": [],
   "source": [
    "def a_and_m(a,b):\n",
    "    return a+b, a*b"
   ]
  },
  {
   "cell_type": "code",
   "execution_count": null,
   "metadata": {},
   "outputs": [],
   "source": [
    "res=a_and_m(3,4)\n",
    "print(res)\n",
    "\n",
    "# 튜플로 변환해서 return 해줌 "
   ]
  },
  {
   "cell_type": "code",
   "execution_count": null,
   "metadata": {},
   "outputs": [],
   "source": [
    "res_add, res_mul = a_and_m(3,4)\n",
    "print(res_add)\n",
    "print(res_mul)"
   ]
  },
  {
   "cell_type": "code",
   "execution_count": null,
   "metadata": {},
   "outputs": [],
   "source": [
    "def a_and_m(a,b):\n",
    "    return a+b\n",
    "    #return a*b # 수행안함"
   ]
  },
  {
   "cell_type": "code",
   "execution_count": null,
   "metadata": {},
   "outputs": [],
   "source": [
    "res=a_and_m(1,2)\n",
    "print(res)"
   ]
  },
  {
   "cell_type": "code",
   "execution_count": null,
   "metadata": {},
   "outputs": [],
   "source": [
    "def sn(nick):\n",
    "    if nick==\"바보\":\n",
    "        return\n",
    "    print(\"별명은 %s 입니다.\"% nick)"
   ]
  },
  {
   "cell_type": "code",
   "execution_count": null,
   "metadata": {},
   "outputs": [],
   "source": [
    "sn(\"천재\")\n",
    "sn(\"바보\") # 함수를 호출한 위치로 되돌아 가라"
   ]
  },
  {
   "cell_type": "code",
   "execution_count": null,
   "metadata": {},
   "outputs": [],
   "source": [
    "def test(name, old, man=True):\n",
    "    print(name, old, man)\n",
    "    \n",
    "test(\"홍길동\", 20)\n",
    "test(\"홍길순\",20,False)\n",
    "# man에 전달되는 값이 없으면 True로 초기화 되지만 False로 입력받으니 False로 출력\n",
    "# 초기화를 해야하는 변수가 있을 경우 맨 마지막에 작성"
   ]
  },
  {
   "cell_type": "code",
   "execution_count": null,
   "metadata": {},
   "outputs": [],
   "source": [
    "import turtle as t\n",
    "t.shape('turtle')\n",
    "\n",
    "n = int(input())\n",
    "\n",
    "for i in range(n):\n",
    "    t.forward(50)\n",
    "    t.right(360/n)"
   ]
  },
  {
   "cell_type": "code",
   "execution_count": null,
   "metadata": {},
   "outputs": [],
   "source": [
    "t.clear()"
   ]
  },
  {
   "cell_type": "code",
   "execution_count": null,
   "metadata": {},
   "outputs": [],
   "source": [
    "# lambda 익명 함수\n",
    "# lambda 함수 형식 => lambda 매개변수들 : 식\n",
    "def p_ten(x):\n",
    "    return x+10\n",
    "print(p_ten(5))\n",
    "\n",
    "p_ten2=lambda x:x+10\n",
    "print(p_ten2(5))\n",
    "\n",
    "print((lambda x:x+10)(5))\n",
    "#( lambda 매개변수들:식 )(5)\n",
    "\n",
    "# 람다표현식 내부에는 변수를 선언할 수 없음\n",
    "y=2\n",
    "print((lambda x:x+y)(5))\n",
    "\n",
    "\n",
    "\n",
    "\n",
    "\n"
   ]
  },
  {
   "cell_type": "code",
   "execution_count": null,
   "metadata": {},
   "outputs": [],
   "source": [
    "# map(함수, 자료) # 자료에 대해 함수를 수행한 결과가 출력\n",
    "# print(list(map(int,[3.14])))\n",
    "def pten(x):\n",
    "    return x+10\n",
    "    # return x+10\n",
    "    \n",
    "res=list(map(pten,[1,2,3]))\n",
    "print(res)\n",
    "\n",
    "list(map(lambda x:x+10,[1,2,3]))"
   ]
  },
  {
   "cell_type": "code",
   "execution_count": null,
   "metadata": {},
   "outputs": [],
   "source": [
    "# print((lambda x:x+1)(5))\n",
    "print((lambda : 1)()) # 1. 전달되는 값이 없다. 2 1을 출력하라\n",
    "\n",
    "x=5\n",
    "print((lambda : x)())"
   ]
  },
  {
   "cell_type": "code",
   "execution_count": null,
   "metadata": {},
   "outputs": [],
   "source": [
    "def add(x,y):\n",
    "    return x+y\n",
    "res=add(2,3)\n",
    "print(res)\n",
    "# 위 함수를 람다 표현식으로 바꾸시오"
   ]
  },
  {
   "cell_type": "code",
   "execution_count": null,
   "metadata": {},
   "outputs": [],
   "source": [
    "print((lambda x,y:x+y)(2,3))"
   ]
  },
  {
   "cell_type": "code",
   "execution_count": null,
   "metadata": {},
   "outputs": [],
   "source": [
    "# 람다포현식으로 정의한 add 함수\n",
    "add2=lambda x,y:x+y\n",
    "res=add2(2,3)\n",
    "print(res)"
   ]
  },
  {
   "cell_type": "code",
   "execution_count": null,
   "metadata": {},
   "outputs": [],
   "source": [
    "# 람다표현식에 조건부 표현식 적용\n",
    "a=list(range(1,11))\n",
    "# a에 저장된 요소값들중에서 3의 배수는 100을 더해서 출력\n",
    "s=[]\n",
    "for i in a:\n",
    "    if i%3 == 0:\n",
    "        i+=100\n",
    "    s.append(i)\n",
    "print(s)\n",
    "\n",
    "lambda s[]:"
   ]
  },
  {
   "cell_type": "code",
   "execution_count": 52,
   "metadata": {},
   "outputs": [
    {
     "name": "stdout",
     "output_type": "stream",
     "text": [
      "[1, 2, '3', 4, 5, '6', 7, 8, '9', 10]\n"
     ]
    }
   ],
   "source": [
    "a=list(range(1,11))\n",
    "# for i in range(0,10):\n",
    "#     if a[i]%3 == 0:\n",
    "#        # a[i]+=100\n",
    "#         a[i]=str(a[i])\n",
    "# print(a)\n",
    "\n",
    "# map(람다표현식, a)\n",
    "print(list(map(lambda x:str(x) if x%3==0 else x , a)))\n",
    "# lambda 매개변수:식 if 조건식 else 식2\n",
    "# lambda 식에 if문이 사용 되었으면 반드시 else문을 사용해야 한다.\n",
    "# lambda 식에는 elif 문을 사용할 수 없다."
   ]
  },
  {
   "cell_type": "code",
   "execution_count": null,
   "metadata": {},
   "outputs": [],
   "source": [
    "a=list(range(1,11))\n",
    "print(list(map(lambda x:x+100 if x%3==0 else x , a)))\n"
   ]
  },
  {
   "cell_type": "code",
   "execution_count": null,
   "metadata": {},
   "outputs": [],
   "source": [
    "# a에 저정되어 있는 데이터에 대해서 1은 문자열로 변환, 2는 실수로, 나머지 3이상은 모두 10을 더해서 출력\n",
    "a=list(range(1,11))\n",
    "def fun(x):\n",
    "    if x==1:\n",
    "        x=str(x)\n",
    "    elif x==2:\n",
    "        x=float(x)\n",
    "    else:\n",
    "        x+=10\n",
    "    return x\n",
    "\n",
    "print(list(map(fun,a)))\n",
    "\n",
    "# 식1 if 조건식1 else식2 if 조건식2 else 식3\n",
    "\n",
    "print(list(map(lambda x:str(x) if x==1 else float(x) if x==2 else x+10,a)))"
   ]
  },
  {
   "cell_type": "code",
   "execution_count": null,
   "metadata": {},
   "outputs": [],
   "source": [
    "# 람다함수의 매개변수가 여러개인 경우\n",
    "a=[1,2,3,4,5]\n",
    "b=[6,7,8,9,10]\n",
    "# a*b = [6,14,24,36,50]\n",
    "# map(함수,매개변수)\n",
    "print(list(map(lambda x,y:x*y, a,b)))"
   ]
  },
  {
   "cell_type": "code",
   "execution_count": null,
   "metadata": {},
   "outputs": [],
   "source": [
    "a=[7,3,1,4,9,6,2]\n",
    "def fun2(x):\n",
    "    return x>3 and x<10\n",
    "\n",
    "print(list(map(fun2,a)))\n",
    "print(list(filter(fun2,a)))\n",
    "\n",
    "# filter는 조건에 만족하는 데이터만 추출, 즉 filter로 지정한 함수의 return값이 true일 경우 해당 요소를 추출"
   ]
  },
  {
   "cell_type": "code",
   "execution_count": null,
   "metadata": {},
   "outputs": [],
   "source": [
    "# reduce\n",
    "from functools import reduce\n"
   ]
  },
  {
   "cell_type": "code",
   "execution_count": null,
   "metadata": {},
   "outputs": [],
   "source": [
    "def fun3(x,y):\n",
    "    return x+y\n",
    "a=[1,2,3,4,5]\n",
    "print(reduce(fun3,a))\n",
    "# reduce는 각 요소를 함수로 처리한 다음, 이전 결과와 누적해서 변환하는 함수"
   ]
  },
  {
   "cell_type": "code",
   "execution_count": null,
   "metadata": {},
   "outputs": [],
   "source": [
    "# 람다식으로 변환하면...\n",
    "print(reduce(lambda x,y:x+y,a))"
   ]
  },
  {
   "cell_type": "code",
   "execution_count": null,
   "metadata": {},
   "outputs": [],
   "source": [
    "print(reduce(lambda x,y:x+y,a))\n",
    "\n",
    "# 같은 구문\n",
    "\n",
    "a=[1,2,3,4,5]\n",
    "x=a[0]\n",
    "for i in range(len(a)-1): # range(4) = 0~3\n",
    "    x=x+a[i+1]\n",
    "print(x)"
   ]
  },
  {
   "cell_type": "code",
   "execution_count": null,
   "metadata": {},
   "outputs": [],
   "source": [
    "x=1 # 전역변수 : 함수 바깥에 선언된 변수, 함수 밖에서도 함수 안에서도 사용이 가능하다.\n",
    "    # 함수 내/외부에서 모두 접근 가능 변수, 전역 변수\n",
    "def f(): # 함수 정의\n",
    "    print(x)\n",
    "f() # 함수 호출\n",
    "print(x)"
   ]
  },
  {
   "cell_type": "code",
   "execution_count": null,
   "metadata": {},
   "outputs": [],
   "source": [
    "# 지역변수 : 함수 내부에서 변수 선언, 함수 내부에서만 접근 가능\n",
    "# 함수 외부에서는 접근 못함, 지역범위\n",
    "def f2():\n",
    "    x2=2\n",
    "    print(x2)\n",
    "f2()\n",
    "print(x2)"
   ]
  },
  {
   "cell_type": "code",
   "execution_count": null,
   "metadata": {},
   "outputs": [],
   "source": [
    "x=10 # 전역변수\n",
    "def f3():\n",
    "    # global : 함수 내부에서 전역변수 값을 변경하고자 하는 경우\n",
    "    # global 뒤에 전역 변수 이름을 지정\n",
    "    \n",
    "    global x\n",
    "    x=20# 지역변수\n",
    "    print(x) # 지역변수값 출력\n",
    "f3()\n",
    "print(x) # 전역변수값 출력"
   ]
  },
  {
   "cell_type": "code",
   "execution_count": null,
   "metadata": {},
   "outputs": [],
   "source": [
    "def f4():\n",
    "    global x4 # x4 변수를 전역변수화 시킴\n",
    "    x4=20\n",
    "    print(x4)\n",
    "f4()\n",
    "print(x4) # 전역변수 x4 실행"
   ]
  },
  {
   "cell_type": "code",
   "execution_count": null,
   "metadata": {},
   "outputs": [],
   "source": [
    "# 함수 내부에 함수 정의\n",
    "\"\"\"\n",
    "def 함수1():\n",
    "    문장\n",
    "    def 함수2():\n",
    "    문장\n",
    "        \n",
    "\"\"\"\n",
    "def outer():\n",
    "    msg=\"hello\"\n",
    "    def inner():\n",
    "        print(msg)\n",
    "    inner()\n",
    "outer()"
   ]
  },
  {
   "cell_type": "code",
   "execution_count": null,
   "metadata": {},
   "outputs": [],
   "source": [
    "def f5():\n",
    "    x=10 # 지역변수\n",
    "    def f6():\n",
    "        x=20 # 지역변수\n",
    "    f6()\n",
    "    print(x)\n",
    "f5()\n",
    "print(x)"
   ]
  },
  {
   "cell_type": "code",
   "execution_count": null,
   "metadata": {},
   "outputs": [],
   "source": [
    "f=open(\"c:/da/newFile.txt\",\"w\") # 열기 모드(쓰기(w),읽기(r))\n",
    "# 파일 내용 작성\n",
    "for i in range(1,11):\n",
    "    data=\"%d번 줄 입니다.\\n\" % i\n",
    "    f.write(data)\n",
    "f.close()\n",
    "\n",
    "\n",
    "\n",
    "f.close()\n",
    "# 파일을 쓰기 모드로 열게 되면, 이미 파일이 존재할 경우 \n",
    "# 기존 내용이 사라진다."
   ]
  },
  {
   "cell_type": "code",
   "execution_count": null,
   "metadata": {},
   "outputs": [],
   "source": [
    "#readline 함수\n",
    "f=open(\"c:/da/newFIle.txt\",\"r\")\n",
    "line=f.readline()\n",
    "print(line)\n",
    "f.close()\n"
   ]
  },
  {
   "cell_type": "code",
   "execution_count": null,
   "metadata": {},
   "outputs": [],
   "source": [
    "f=open(\"c:/da/newFIle.txt\",\"r\")\n",
    "while True:\n",
    "    line=f.readline() # 더 이상 읽어드릴 줄이 없으면 none을 출력하게 됨\n",
    "    if not line:\n",
    "        break\n",
    "    print(line)\n",
    "f.close()"
   ]
  },
  {
   "cell_type": "code",
   "execution_count": 49,
   "metadata": {},
   "outputs": [
    {
     "name": "stdout",
     "output_type": "stream",
     "text": [
      "['Life is too short']\n"
     ]
    }
   ],
   "source": [
    "f=open(\"c:/da/newFile.txt\",\"r\")\n",
    "lines=f.readlines()\n",
    "print(lines)"
   ]
  },
  {
   "cell_type": "code",
   "execution_count": 50,
   "metadata": {},
   "outputs": [
    {
     "name": "stdout",
     "output_type": "stream",
     "text": [
      "\n"
     ]
    }
   ],
   "source": [
    "\n",
    "data=f.read()\n",
    "print(data)\n",
    "f.close()\n"
   ]
  },
  {
   "cell_type": "code",
   "execution_count": 51,
   "metadata": {},
   "outputs": [],
   "source": [
    "# 파일에 새로운 내용 추가 - 추가모드(append)\n",
    "f=open(\"c:/da/newFIle.txt\",\"a\")\n",
    "for i in range(11,20):\n",
    "    data=\"%d번재 줄입니다\\n\"% i\n",
    "    f.write(data)\n",
    "f.close()"
   ]
  },
  {
   "cell_type": "code",
   "execution_count": null,
   "metadata": {},
   "outputs": [],
   "source": [
    "# 파일을 닫기 위한 구문 없이 생성\n",
    "with open(\"c:/da/newFile.txt\",\"w\") as f:\n",
    "    f.write(\"Life is too short\")\n",
    "# with 구문은 함수를 벗어났을때 자동으로 close를 해줌    \n",
    "    "
   ]
  },
  {
   "cell_type": "code",
   "execution_count": 42,
   "metadata": {},
   "outputs": [
    {
     "name": "stdout",
     "output_type": "stream",
     "text": [
      "level\n"
     ]
    },
    {
     "data": {
      "text/plain": [
       "True"
      ]
     },
     "execution_count": 42,
     "metadata": {},
     "output_type": "execute_result"
    }
   ],
   "source": [
    "#1번 회문 판별하기\n",
    "def t_or_f(args):\n",
    "    s=args[::-1] # 입력받은 args를 역순으로 저장\n",
    "    if s == args:\n",
    "        return True\n",
    "    else:\n",
    "        return False\n",
    "\n",
    "t_or_f(input())"
   ]
  },
  {
   "cell_type": "code",
   "execution_count": null,
   "metadata": {},
   "outputs": [],
   "source": [
    "# 2번 n-gram 만들기\n",
    "def n_gram(args):\n",
    "    for i in range(len(args)-1):\n",
    "        print(args[i]+args[i+1])\n",
    "\n",
    "n_gram(input())"
   ]
  },
  {
   "cell_type": "code",
   "execution_count": 45,
   "metadata": {},
   "outputs": [
    {
     "name": "stdout",
     "output_type": "stream",
     "text": [
      "9.jpg 11.jpg 03.jpg\n",
      "009.jpg 011.jpg 003.jpg "
     ]
    }
   ],
   "source": [
    "# 3번 파일명 포매팅\n",
    "s = input()\n",
    "s=s.split(\" \")\n",
    "for i in range(len(s)):\n",
    "    print(s[i].zfill(7), end=\" \")"
   ]
  },
  {
   "cell_type": "code",
   "execution_count": 48,
   "metadata": {},
   "outputs": [
    {
     "name": "stdout",
     "output_type": "stream",
     "text": [
      "initial data : 10 3\n"
     ]
    },
    {
     "ename": "AttributeError",
     "evalue": "'range' object has no attribute 'remove'",
     "output_type": "error",
     "traceback": [
      "\u001b[1;31m---------------------------------------------------------------------------\u001b[0m",
      "\u001b[1;31mAttributeError\u001b[0m                            Traceback (most recent call last)",
      "\u001b[1;32m<ipython-input-48-5141298d5bf2>\u001b[0m in \u001b[0;36m<module>\u001b[1;34m\u001b[0m\n\u001b[0;32m     10\u001b[0m     \u001b[0mp\u001b[0m\u001b[1;33m=\u001b[0m\u001b[0ms\u001b[0m\u001b[1;33m[\u001b[0m\u001b[1;33m(\u001b[0m\u001b[0mdepth\u001b[0m\u001b[1;33m-\u001b[0m\u001b[1;36m1\u001b[0m\u001b[1;33m)\u001b[0m\u001b[1;33m%\u001b[0m\u001b[0mlen\u001b[0m\u001b[1;33m(\u001b[0m\u001b[0ms\u001b[0m\u001b[1;33m)\u001b[0m\u001b[1;33m]\u001b[0m\u001b[1;33m\u001b[0m\u001b[1;33m\u001b[0m\u001b[0m\n\u001b[0;32m     11\u001b[0m     \u001b[0ms_pos\u001b[0m\u001b[1;33m=\u001b[0m\u001b[0ms\u001b[0m\u001b[1;33m.\u001b[0m\u001b[0mindex\u001b[0m\u001b[1;33m(\u001b[0m\u001b[0mp\u001b[0m\u001b[1;33m)\u001b[0m\u001b[1;33m\u001b[0m\u001b[1;33m\u001b[0m\u001b[0m\n\u001b[1;32m---> 12\u001b[1;33m     \u001b[0ms\u001b[0m\u001b[1;33m.\u001b[0m\u001b[0mremove\u001b[0m\u001b[1;33m(\u001b[0m\u001b[0mp\u001b[0m\u001b[1;33m)\u001b[0m\u001b[1;33m\u001b[0m\u001b[1;33m\u001b[0m\u001b[0m\n\u001b[0m\u001b[0;32m     13\u001b[0m     \u001b[0mdepth\u001b[0m\u001b[1;33m=\u001b[0m\u001b[0ms_pos\u001b[0m\u001b[1;33m+\u001b[0m\u001b[0mpos\u001b[0m\u001b[1;33m\u001b[0m\u001b[1;33m\u001b[0m\u001b[0m\n\u001b[0;32m     14\u001b[0m \u001b[1;33m\u001b[0m\u001b[0m\n",
      "\u001b[1;31mAttributeError\u001b[0m: 'range' object has no attribute 'remove'"
     ]
    }
   ],
   "source": [
    "# 4번 사람죽이기 \n",
    "leng,depth = input(\"initial data : \").split(\" \")\n",
    "leng=int(leng)\n",
    "depth=int(depth)\n",
    "i=0\n",
    "s=list()\n",
    "for i in range(1,(leng+1)):\n",
    "    s.append(i)\n",
    "\n",
    "while True:\n",
    "    if i%depth==0:\n",
    "        s.remove(i)\n",
    "    else:\n",
    "        i+=1\n",
    "    if i==len(s):\n",
    "        i==0\n",
    "    if s.count == 1:\n",
    "        break\n",
    "print(s)    "
   ]
  },
  {
   "cell_type": "code",
   "execution_count": null,
   "metadata": {},
   "outputs": [],
   "source": []
  },
  {
   "cell_type": "code",
   "execution_count": null,
   "metadata": {},
   "outputs": [],
   "source": []
  }
 ],
 "metadata": {
  "kernelspec": {
   "display_name": "Python 3",
   "language": "python",
   "name": "python3"
  },
  "language_info": {
   "codemirror_mode": {
    "name": "ipython",
    "version": 3
   },
   "file_extension": ".py",
   "mimetype": "text/x-python",
   "name": "python",
   "nbconvert_exporter": "python",
   "pygments_lexer": "ipython3",
   "version": "3.7.4"
  }
 },
 "nbformat": 4,
 "nbformat_minor": 2
}
