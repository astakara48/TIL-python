{
 "cells": [
  {
   "cell_type": "code",
   "execution_count": null,
   "metadata": {},
   "outputs": [],
   "source": [
    "import numpy as np\n",
    "import pandas as pd\n",
    "from pandas import DataFrame\n",
    "import warnings\n",
    "warnings.filterwarnings(\"ignore\")"
   ]
  },
  {
   "cell_type": "code",
   "execution_count": null,
   "metadata": {},
   "outputs": [],
   "source": [
    "# 1번+2번\n",
    "df1=pd.DataFrame({\n",
    "    'Name':['Morning','K3','K5','K8','K9'],\n",
    "    'Segment':['Mini','Small','Mid','Sport','Large'],\n",
    "    'Engine':['1.0L','1.6','2.0','3.0','5.0'],\n",
    "    'Fuel':['14km','18km','16km','12km','10km'],\n",
    "    'Price':[1000,2000,3000,4000,5000]\n",
    "})\n",
    "df1\n",
    "\n",
    "df2=pd.DataFrame({\n",
    "    '이름':['Morning','K3','K5','K8','K9'],\n",
    "    '출시년도':[2000,2005,2005,2016,2010],\n",
    "    '연료':['휘발유','경유','경유','휘발유','휘발유'],\n",
    "    '마력':[50,100,150,250,300],\n",
    "    '탑승인원':[4,5,5,4,4]\n",
    "    \n",
    "})\n",
    "df2\n",
    "df3=df1.merge(df2, left_on='Name', right_on='이름')\n",
    "df3"
   ]
  },
  {
   "cell_type": "code",
   "execution_count": null,
   "metadata": {},
   "outputs": [],
   "source": [
    "# 3번\n",
    "df1=pd.DataFrame({\n",
    "    '매출':[1000,1500,3000,4000,5000,6000],\n",
    "    '비용':[1500,2000,2500,2700,3000,3200],\n",
    "    '이익':[-500,-500,500,1300,2000,2800]}, index=['1월','2월','3월','4월','5월','6월']\n",
    ")\n",
    "df1\n",
    "df2=pd.DataFrame({\n",
    "    '매출':[4500,4500,5000,6000,3000,2000],\n",
    "    '비용':[2800,2700,3000,3200,2500,2000],\n",
    "    '이익':[1700,1300,2000,2800,500,0]}, index=['7월','8월','9월','10월','11월','12월']\n",
    ")\n",
    "df2\n",
    "df3=pd.concat([df1,df2],axis=0)\n",
    "\n",
    "sell=df3['매출'].sum()\n",
    "price=df3['비용'].sum()\n",
    "profit=df3['이익'].sum()\n",
    "df3.loc['총실적']=[sell,price,profit]\n",
    "df3"
   ]
  },
  {
   "cell_type": "code",
   "execution_count": null,
   "metadata": {},
   "outputs": [],
   "source": [
    "# 4~6\n",
    "df_score2=pd.DataFrame({\n",
    "    '반':['A','A','A','A','A','B','B','B','B','B'],\n",
    "    '번호':[1,2,3,4,5,1,2,3,4,5],\n",
    "    '국어':[90,80,90,70,100,80,90,100,70,80],\n",
    "    '영어':[100,90,100,80,70,90,100,70,80,90],\n",
    "    '수학':[80,100,80,90,80,100,70,80,90,100]\n",
    "})\n",
    "df_score2=df_score2.set_index(['반','번호'])\n",
    "df_score2['평균']=df_score2.mean(axis=1)\n",
    "df_score2"
   ]
  },
  {
   "cell_type": "code",
   "execution_count": null,
   "metadata": {},
   "outputs": [],
   "source": [
    "# 7~8번\n",
    "df_score2=pd.DataFrame({\n",
    "    '반':['A','A','A','A','A','B','B','B','B','B'],\n",
    "    '번호':[1,2,3,4,5,1,2,3,4,5],\n",
    "    '국어':[90,80,90,70,100,80,90,100,70,80],\n",
    "    '영어':[100,90,100,80,70,90,100,70,80,90],\n",
    "    '수학':[80,100,80,90,80,100,70,80,90,100]\n",
    "})\n",
    "df_score2 = df_score2.set_index(['반', '번호'])\n",
    "df_score2\n",
    "df_score2 = df_score2.unstack(0)\n",
    "df_score2.loc[\"평균\", :] = df_score2.mean()\n",
    "df_score2"
   ]
  },
  {
   "cell_type": "code",
   "execution_count": 3,
   "metadata": {},
   "outputs": [
    {
     "name": "stdout",
     "output_type": "stream",
     "text": [
      "2\n",
      "AHDFG\n",
      "DFGAH\n"
     ]
    }
   ],
   "source": [
    "# 9번\n",
    "import re\n",
    "\n",
    "def slump(data):\n",
    "    pat=re.\n",
    "                \n",
    "\n",
    "def slimp(data):\n",
    "    pass\n",
    "\n",
    "n=int(input())\n",
    "cnt=0\n",
    "myList=[]\n",
    "while True:\n",
    "    s=input()\n",
    "    myList.append(s)\n",
    "    slump(myList)\n",
    "    cnt+=1\n",
    "    if cnt==n:\n",
    "        break"
   ]
  },
  {
   "cell_type": "code",
   "execution_count": null,
   "metadata": {},
   "outputs": [],
   "source": []
  },
  {
   "cell_type": "code",
   "execution_count": 2,
   "metadata": {},
   "outputs": [
    {
     "data": {
      "text/plain": [
       "['h', 'e', 'l', 'l', 'o']"
      ]
     },
     "execution_count": 2,
     "metadata": {},
     "output_type": "execute_result"
    }
   ],
   "source": [
    "s='hello'\n",
    "a=list(s)\n",
    "a"
   ]
  },
  {
   "cell_type": "code",
   "execution_count": null,
   "metadata": {},
   "outputs": [],
   "source": []
  }
 ],
 "metadata": {
  "kernelspec": {
   "display_name": "Python 3",
   "language": "python",
   "name": "python3"
  },
  "language_info": {
   "codemirror_mode": {
    "name": "ipython",
    "version": 3
   },
   "file_extension": ".py",
   "mimetype": "text/x-python",
   "name": "python",
   "nbconvert_exporter": "python",
   "pygments_lexer": "ipython3",
   "version": "3.7.4"
  }
 },
 "nbformat": 4,
 "nbformat_minor": 2
}
