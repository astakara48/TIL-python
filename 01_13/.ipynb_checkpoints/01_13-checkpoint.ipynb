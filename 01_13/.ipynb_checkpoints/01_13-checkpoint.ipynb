{
 "cells": [
  {
   "cell_type": "code",
   "execution_count": 1,
   "metadata": {},
   "outputs": [],
   "source": [
    "import pandas as pd\n",
    "import numpy as np\n",
    "from pandas import DataFrame\n",
    "import warnings\n",
    "warnings.filterwarnings(action=\"ignore\")"
   ]
  },
  {
   "cell_type": "code",
   "execution_count": null,
   "metadata": {},
   "outputs": [],
   "source": [
    "df=pd.DataFrame(np.random.randn(5,3), columns=[\"c1\",\"c2\",\"c3\"])\n",
    "df\n",
    "# 0,0에 NaN 지정\n",
    "df.ix[0,0]=None\n",
    "df"
   ]
  },
  {
   "cell_type": "code",
   "execution_count": null,
   "metadata": {},
   "outputs": [],
   "source": [
    "df.ix[1,[\"c1\",\"c3\"]]=None\n",
    "df.ix[2,[\"c2\"]]=None\n",
    "df.ix[3,[\"c2\"]]=None\n",
    "df.ix[4,[\"c2\"]]=None\n",
    "df\n",
    "# NaN이 들어간 자리를 0으로 채우기\n",
    "df.fillna(0)"
   ]
  },
  {
   "cell_type": "code",
   "execution_count": null,
   "metadata": {},
   "outputs": [],
   "source": [
    "df.mean()\n",
    "df.fillna(df.mean())\n",
    "\n",
    "# where 함수\n",
    "# dataframe에서 null이 아닌 값들에 대해서 평균을 구하고 방향은 columns으로 해라\n",
    "df.where(pd.notnull(df), df.mean(), axis=\"columns\") # 각 columns들의 평균값으로 nan을 채워라\n",
    "df.fillna(df.mean()[\"c1\"]) # C1의 평균값으로 nan을 채워라"
   ]
  },
  {
   "cell_type": "code",
   "execution_count": null,
   "metadata": {},
   "outputs": [],
   "source": [
    "arr=np.array([1,2,3,10,20,30,0.1,0.2])\n",
    "np.min(arr)\n",
    "# arr.min()\n",
    "\n",
    "np.argmin(arr) # argmin -> 최소값의 index\n",
    "np.argmax(arr) # argmax -> 최대값의 index\n",
    "np.where(arr<1) # where 함수는 조건문 사용 -> 출력값:인덱스\n",
    "np.where(arr>=10, 0, arr) # np.where(조건, 참, 거짓) => 10보다 크면 0으로 그렇지 않으면 arr값 그대로\n",
    "np.where(arr>=10, arr*0.1, arr)"
   ]
  },
  {
   "cell_type": "code",
   "execution_count": null,
   "metadata": {},
   "outputs": [],
   "source": [
    "df.fillna(df.mean()[\"c1\":\"c2\"]) # c1의 평균값으로 c1의 nan값을, c2의 평균값으로 c2의 nan값을 대체함"
   ]
  },
  {
   "cell_type": "code",
   "execution_count": 11,
   "metadata": {},
   "outputs": [
    {
     "data": {
      "text/html": [
       "<div>\n",
       "<style scoped>\n",
       "    .dataframe tbody tr th:only-of-type {\n",
       "        vertical-align: middle;\n",
       "    }\n",
       "\n",
       "    .dataframe tbody tr th {\n",
       "        vertical-align: top;\n",
       "    }\n",
       "\n",
       "    .dataframe thead th {\n",
       "        text-align: right;\n",
       "    }\n",
       "</style>\n",
       "<table border=\"1\" class=\"dataframe\">\n",
       "  <thead>\n",
       "    <tr style=\"text-align: right;\">\n",
       "      <th></th>\n",
       "      <th>c1</th>\n",
       "      <th>c2</th>\n",
       "      <th>c2p</th>\n",
       "    </tr>\n",
       "  </thead>\n",
       "  <tbody>\n",
       "    <tr>\n",
       "      <td>0</td>\n",
       "      <td>1</td>\n",
       "      <td>6.0</td>\n",
       "      <td>6.0</td>\n",
       "    </tr>\n",
       "    <tr>\n",
       "      <td>1</td>\n",
       "      <td>2</td>\n",
       "      <td>NaN</td>\n",
       "      <td>2.0</td>\n",
       "    </tr>\n",
       "    <tr>\n",
       "      <td>2</td>\n",
       "      <td>3</td>\n",
       "      <td>8.0</td>\n",
       "      <td>8.0</td>\n",
       "    </tr>\n",
       "    <tr>\n",
       "      <td>3</td>\n",
       "      <td>4</td>\n",
       "      <td>NaN</td>\n",
       "      <td>4.0</td>\n",
       "    </tr>\n",
       "    <tr>\n",
       "      <td>4</td>\n",
       "      <td>5</td>\n",
       "      <td>10.0</td>\n",
       "      <td>10.0</td>\n",
       "    </tr>\n",
       "  </tbody>\n",
       "</table>\n",
       "</div>"
      ],
      "text/plain": [
       "   c1    c2   c2p\n",
       "0   1   6.0   6.0\n",
       "1   2   NaN   2.0\n",
       "2   3   8.0   8.0\n",
       "3   4   NaN   4.0\n",
       "4   5  10.0  10.0"
      ]
     },
     "execution_count": 11,
     "metadata": {},
     "output_type": "execute_result"
    }
   ],
   "source": [
    "df=pd.DataFrame({'c1':[1,2,3,4,5], 'c2':[6,7,8,9,10]})\n",
    "df.ix[[1,3],[\"c2\"]]=np.nan\n",
    "# c2p 열에는 c2열 값이 notnull이면 c2열 값을\n",
    "# c2열 값이 null이면 c1열 값으로 채우고자 함\n",
    "# df['c2p']      \n",
    "df[\"c2p\"]=np.where(pd.notnull(df[\"c2\"])==True, df[\"c2\"], df[\"c1\"])\n",
    "df\n",
    "\n",
    "for i in df.index:\n",
    "    if pd.notnull(df.ix[i,\"c2\"])==True:\n",
    "        df.ix[i,\"c2p\"]=df.ix[i,\"c2\"]\n",
    "    else:\n",
    "        df.ix[i,\"c2p\"]=df.ix[i,\"c1\"]\n",
    "\n",
    "df"
   ]
  },
  {
   "cell_type": "code",
   "execution_count": 9,
   "metadata": {},
   "outputs": [
    {
     "data": {
      "text/html": [
       "<div>\n",
       "<style scoped>\n",
       "    .dataframe tbody tr th:only-of-type {\n",
       "        vertical-align: middle;\n",
       "    }\n",
       "\n",
       "    .dataframe tbody tr th {\n",
       "        vertical-align: top;\n",
       "    }\n",
       "\n",
       "    .dataframe thead th {\n",
       "        text-align: right;\n",
       "    }\n",
       "</style>\n",
       "<table border=\"1\" class=\"dataframe\">\n",
       "  <thead>\n",
       "    <tr style=\"text-align: right;\">\n",
       "      <th></th>\n",
       "      <th>c1</th>\n",
       "      <th>c2</th>\n",
       "      <th>c2p</th>\n",
       "    </tr>\n",
       "  </thead>\n",
       "  <tbody>\n",
       "    <tr>\n",
       "      <td>0</td>\n",
       "      <td>1</td>\n",
       "      <td>6.0</td>\n",
       "      <td>6.0</td>\n",
       "    </tr>\n",
       "    <tr>\n",
       "      <td>1</td>\n",
       "      <td>2</td>\n",
       "      <td>NaN</td>\n",
       "      <td>2.0</td>\n",
       "    </tr>\n",
       "    <tr>\n",
       "      <td>2</td>\n",
       "      <td>3</td>\n",
       "      <td>8.0</td>\n",
       "      <td>8.0</td>\n",
       "    </tr>\n",
       "    <tr>\n",
       "      <td>3</td>\n",
       "      <td>4</td>\n",
       "      <td>NaN</td>\n",
       "      <td>4.0</td>\n",
       "    </tr>\n",
       "    <tr>\n",
       "      <td>4</td>\n",
       "      <td>5</td>\n",
       "      <td>10.0</td>\n",
       "      <td>10.0</td>\n",
       "    </tr>\n",
       "  </tbody>\n",
       "</table>\n",
       "</div>"
      ],
      "text/plain": [
       "   c1    c2   c2p\n",
       "0   1   6.0   6.0\n",
       "1   2   NaN   2.0\n",
       "2   3   8.0   8.0\n",
       "3   4   NaN   4.0\n",
       "4   5  10.0  10.0"
      ]
     },
     "execution_count": 9,
     "metadata": {},
     "output_type": "execute_result"
    }
   ],
   "source": [
    "df"
   ]
  },
  {
   "cell_type": "code",
   "execution_count": 12,
   "metadata": {},
   "outputs": [
    {
     "data": {
      "text/html": [
       "<div>\n",
       "<style scoped>\n",
       "    .dataframe tbody tr th:only-of-type {\n",
       "        vertical-align: middle;\n",
       "    }\n",
       "\n",
       "    .dataframe tbody tr th {\n",
       "        vertical-align: top;\n",
       "    }\n",
       "\n",
       "    .dataframe thead th {\n",
       "        text-align: right;\n",
       "    }\n",
       "</style>\n",
       "<table border=\"1\" class=\"dataframe\">\n",
       "  <thead>\n",
       "    <tr style=\"text-align: right;\">\n",
       "      <th></th>\n",
       "      <th>c1</th>\n",
       "      <th>c2</th>\n",
       "    </tr>\n",
       "  </thead>\n",
       "  <tbody>\n",
       "    <tr>\n",
       "      <td>0</td>\n",
       "      <td>1</td>\n",
       "      <td>6.0</td>\n",
       "    </tr>\n",
       "    <tr>\n",
       "      <td>1</td>\n",
       "      <td>2</td>\n",
       "      <td>NaN</td>\n",
       "    </tr>\n",
       "    <tr>\n",
       "      <td>2</td>\n",
       "      <td>3</td>\n",
       "      <td>8.0</td>\n",
       "    </tr>\n",
       "    <tr>\n",
       "      <td>3</td>\n",
       "      <td>4</td>\n",
       "      <td>NaN</td>\n",
       "    </tr>\n",
       "    <tr>\n",
       "      <td>4</td>\n",
       "      <td>5</td>\n",
       "      <td>10.0</td>\n",
       "    </tr>\n",
       "  </tbody>\n",
       "</table>\n",
       "</div>"
      ],
      "text/plain": [
       "   c1    c2\n",
       "0   1   6.0\n",
       "1   2   NaN\n",
       "2   3   8.0\n",
       "3   4   NaN\n",
       "4   5  10.0"
      ]
     },
     "execution_count": 12,
     "metadata": {},
     "output_type": "execute_result"
    }
   ],
   "source": [
    "# dropna 메서드 : 열(axis=1)/행(axis=0) 제거\n",
    "df=pd.DataFrame({'c1':[1,2,3,4,5], 'c2':[6,7,8,9,10]})\n",
    "df.ix[[1,3],[\"c2\"]]=np.nan\n",
    "df"
   ]
  },
  {
   "cell_type": "code",
   "execution_count": 16,
   "metadata": {},
   "outputs": [
    {
     "data": {
      "text/html": [
       "<div>\n",
       "<style scoped>\n",
       "    .dataframe tbody tr th:only-of-type {\n",
       "        vertical-align: middle;\n",
       "    }\n",
       "\n",
       "    .dataframe tbody tr th {\n",
       "        vertical-align: top;\n",
       "    }\n",
       "\n",
       "    .dataframe thead th {\n",
       "        text-align: right;\n",
       "    }\n",
       "</style>\n",
       "<table border=\"1\" class=\"dataframe\">\n",
       "  <thead>\n",
       "    <tr style=\"text-align: right;\">\n",
       "      <th></th>\n",
       "      <th>c1</th>\n",
       "      <th>c2</th>\n",
       "    </tr>\n",
       "  </thead>\n",
       "  <tbody>\n",
       "    <tr>\n",
       "      <td>0</td>\n",
       "      <td>1</td>\n",
       "      <td>6.0</td>\n",
       "    </tr>\n",
       "    <tr>\n",
       "      <td>2</td>\n",
       "      <td>3</td>\n",
       "      <td>8.0</td>\n",
       "    </tr>\n",
       "    <tr>\n",
       "      <td>4</td>\n",
       "      <td>5</td>\n",
       "      <td>10.0</td>\n",
       "    </tr>\n",
       "  </tbody>\n",
       "</table>\n",
       "</div>"
      ],
      "text/plain": [
       "   c1    c2\n",
       "0   1   6.0\n",
       "2   3   8.0\n",
       "4   5  10.0"
      ]
     },
     "execution_count": 16,
     "metadata": {},
     "output_type": "execute_result"
    }
   ],
   "source": [
    "df.dropna(axis=0)\n",
    "df.dropna(axis=1)\n",
    "df[[\"c1\",\"c2\"]].dropna() # df.dropna(axis=0) \n",
    "# axis=0 default"
   ]
  },
  {
   "cell_type": "code",
   "execution_count": 31,
   "metadata": {},
   "outputs": [
    {
     "data": {
      "text/plain": [
       "DatetimeIndex(['2020-01-13', '2020-01-16', '2020-01-17', '2020-01-20'], dtype='datetime64[ns]', freq=None)"
      ]
     },
     "execution_count": 31,
     "metadata": {},
     "output_type": "execute_result"
    }
   ],
   "source": [
    "# 결측값 보간(interpolate)\n",
    "\"\"\"\n",
    "시계열데이터에 대해 선형적으로 비례하는 값\n",
    "이미지 보간 : 그라데이션과 비슷\n",
    "\"\"\"\n",
    "\n",
    "from datetime import datetime\n",
    "# datetime 모듈에 있는 datetiem 함수\n",
    "dateStr=[\"1/13/2020\",\"1/16/2020\",\"1/17/2020\",\"1/20/2020\"]\n",
    "dates=pd.to_datetime(dateStr) #to_datetime -> datetime 형태로 변환시켜주는 것\n",
    "dates"
   ]
  },
  {
   "cell_type": "code",
   "execution_count": 32,
   "metadata": {},
   "outputs": [
    {
     "data": {
      "text/plain": [
       "2020-01-13     1.0\n",
       "2020-01-16     NaN\n",
       "2020-01-17     NaN\n",
       "2020-01-20    10.0\n",
       "dtype: float64"
      ]
     },
     "execution_count": 32,
     "metadata": {},
     "output_type": "execute_result"
    }
   ],
   "source": [
    "ts=pd.Series([1,np.nan,np.nan,10], index=dates)\n",
    "ts"
   ]
  },
  {
   "cell_type": "code",
   "execution_count": 33,
   "metadata": {},
   "outputs": [
    {
     "data": {
      "text/plain": [
       "2020-01-13     1.000000\n",
       "2020-01-16     4.857143\n",
       "2020-01-17     6.142857\n",
       "2020-01-20    10.000000\n",
       "dtype: float64"
      ]
     },
     "execution_count": 33,
     "metadata": {},
     "output_type": "execute_result"
    }
   ],
   "source": [
    "tslr=ts.interpolate(method=\"values\")\n",
    "# method=values: 선형적으로 비례하게 결측값 보간\n",
    "tslr"
   ]
  },
  {
   "cell_type": "code",
   "execution_count": 35,
   "metadata": {},
   "outputs": [
    {
     "data": {
      "text/plain": [
       "2020-01-13     1.000000\n",
       "2020-01-16     4.857143\n",
       "2020-01-17          NaN\n",
       "2020-01-20    10.000000\n",
       "dtype: float64"
      ]
     },
     "execution_count": 35,
     "metadata": {},
     "output_type": "execute_result"
    }
   ],
   "source": [
    "tsTime=ts.interpolate(method=\"time\", limit=1)\n",
    "tsTime"
   ]
  },
  {
   "cell_type": "code",
   "execution_count": null,
   "metadata": {},
   "outputs": [],
   "source": [
    "# na를 대체 : fillna, replace\n",
    "# fillna : na를 다른 값으로 대체\n",
    "# replace : na뿐만 아니라 다른 모든 값들에 대해서도 대체 가능\n",
    "# 결측값 / 실측값 대상 데이터 교체\n"
   ]
  },
  {
   "cell_type": "code",
   "execution_count": 42,
   "metadata": {},
   "outputs": [
    {
     "data": {
      "text/plain": [
       "0    10.0\n",
       "1    20.0\n",
       "2    30.0\n",
       "3    10.0\n",
       "4    99.0\n",
       "dtype: float64"
      ]
     },
     "execution_count": 42,
     "metadata": {},
     "output_type": "execute_result"
    }
   ],
   "source": [
    "s=pd.Series([1,2,3,1,np.nan])\n",
    "s\n",
    "# replace : 결측값 / 실측값 변경\n",
    "s.replace(3,9)\n",
    "s.replace(np.nan,5)\n",
    "\n",
    "s.replace([1,2,3],[6,7,8])\n",
    "s.replace([1,2,3,np.nan],[10,20,30,99])"
   ]
  },
  {
   "cell_type": "code",
   "execution_count": 46,
   "metadata": {},
   "outputs": [
    {
     "data": {
      "text/plain": [
       "0     5.0\n",
       "1     2.0\n",
       "2    30.0\n",
       "3     5.0\n",
       "4    99.0\n",
       "dtype: float64"
      ]
     },
     "execution_count": 46,
     "metadata": {},
     "output_type": "execute_result"
    }
   ],
   "source": [
    "s\n",
    "s.replace({1:5,3:30,np.nan:99}) # {} -> 딕셔너리 형태면 key가 원래값, value가 변경값"
   ]
  },
  {
   "cell_type": "code",
   "execution_count": 51,
   "metadata": {},
   "outputs": [
    {
     "data": {
      "text/html": [
       "<div>\n",
       "<style scoped>\n",
       "    .dataframe tbody tr th:only-of-type {\n",
       "        vertical-align: middle;\n",
       "    }\n",
       "\n",
       "    .dataframe tbody tr th {\n",
       "        vertical-align: top;\n",
       "    }\n",
       "\n",
       "    .dataframe thead th {\n",
       "        text-align: right;\n",
       "    }\n",
       "</style>\n",
       "<table border=\"1\" class=\"dataframe\">\n",
       "  <thead>\n",
       "    <tr style=\"text-align: right;\">\n",
       "      <th></th>\n",
       "      <th>c1</th>\n",
       "      <th>c2</th>\n",
       "      <th>c3</th>\n",
       "    </tr>\n",
       "  </thead>\n",
       "  <tbody>\n",
       "    <tr>\n",
       "      <td>0</td>\n",
       "      <td>aaa</td>\n",
       "      <td>1</td>\n",
       "      <td>5.0</td>\n",
       "    </tr>\n",
       "    <tr>\n",
       "      <td>1</td>\n",
       "      <td>b</td>\n",
       "      <td>2</td>\n",
       "      <td>6.0</td>\n",
       "    </tr>\n",
       "    <tr>\n",
       "      <td>2</td>\n",
       "      <td>c</td>\n",
       "      <td>3</td>\n",
       "      <td>7.0</td>\n",
       "    </tr>\n",
       "    <tr>\n",
       "      <td>3</td>\n",
       "      <td>d</td>\n",
       "      <td>4</td>\n",
       "      <td>99.0</td>\n",
       "    </tr>\n",
       "  </tbody>\n",
       "</table>\n",
       "</div>"
      ],
      "text/plain": [
       "    c1  c2    c3\n",
       "0  aaa   1   5.0\n",
       "1    b   2   6.0\n",
       "2    c   3   7.0\n",
       "3    d   4  99.0"
      ]
     },
     "execution_count": 51,
     "metadata": {},
     "output_type": "execute_result"
    }
   ],
   "source": [
    "# 데이터프레임에서 replace를 적용\n",
    "df=pd.DataFrame({\"c1\":[\"aaa\",\"b\",\"c\",\"d\"],\n",
    "                 \"c2\":[1,2,3,4],\n",
    "                 \"c3\":[5,6,7,np.nan]\n",
    "                })\n",
    "df.replace({\"c1\":\"aaa\"},{\"c1\":\"bbb\"})\n",
    "df.replace({\"c3\":np.nan},{\"c3\":99})"
   ]
  },
  {
   "cell_type": "code",
   "execution_count": null,
   "metadata": {},
   "outputs": [],
   "source": [
    "# 병합 : 중복 데이터 발생\n",
    "# 중복 데이터 여부 확인 : duplicated()\n",
    "# 중복데이터 처리 : drop 한개만 남겨놓고 나머지는 제거"
   ]
  },
  {
   "cell_type": "code",
   "execution_count": 60,
   "metadata": {},
   "outputs": [
    {
     "data": {
      "text/html": [
       "<div>\n",
       "<style scoped>\n",
       "    .dataframe tbody tr th:only-of-type {\n",
       "        vertical-align: middle;\n",
       "    }\n",
       "\n",
       "    .dataframe tbody tr th {\n",
       "        vertical-align: top;\n",
       "    }\n",
       "\n",
       "    .dataframe thead th {\n",
       "        text-align: right;\n",
       "    }\n",
       "</style>\n",
       "<table border=\"1\" class=\"dataframe\">\n",
       "  <thead>\n",
       "    <tr style=\"text-align: right;\">\n",
       "      <th></th>\n",
       "      <th>k1</th>\n",
       "      <th>k2</th>\n",
       "      <th>k3</th>\n",
       "    </tr>\n",
       "  </thead>\n",
       "  <tbody>\n",
       "    <tr>\n",
       "      <td>0</td>\n",
       "      <td>b</td>\n",
       "      <td>x</td>\n",
       "      <td>10</td>\n",
       "    </tr>\n",
       "    <tr>\n",
       "      <td>1</td>\n",
       "      <td>b</td>\n",
       "      <td>y</td>\n",
       "      <td>20</td>\n",
       "    </tr>\n",
       "    <tr>\n",
       "      <td>2</td>\n",
       "      <td>b</td>\n",
       "      <td>y</td>\n",
       "      <td>30</td>\n",
       "    </tr>\n",
       "    <tr>\n",
       "      <td>3</td>\n",
       "      <td>c</td>\n",
       "      <td>x</td>\n",
       "      <td>40</td>\n",
       "    </tr>\n",
       "    <tr>\n",
       "      <td>4</td>\n",
       "      <td>c</td>\n",
       "      <td>z</td>\n",
       "      <td>50</td>\n",
       "    </tr>\n",
       "  </tbody>\n",
       "</table>\n",
       "</div>"
      ],
      "text/plain": [
       "  k1 k2  k3\n",
       "0  b  x  10\n",
       "1  b  y  20\n",
       "2  b  y  30\n",
       "3  c  x  40\n",
       "4  c  z  50"
      ]
     },
     "execution_count": 60,
     "metadata": {},
     "output_type": "execute_result"
    }
   ],
   "source": [
    "df=pd.DataFrame({\n",
    "    \"k1\":['b','b','b','c','c'],\n",
    "    \"k2\":['x','y','y','x','z'],\n",
    "    'k3':[10,20,30,40,50]\n",
    "})\n",
    "df"
   ]
  },
  {
   "cell_type": "code",
   "execution_count": 55,
   "metadata": {},
   "outputs": [
    {
     "data": {
      "text/plain": [
       "0    False\n",
       "1    False\n",
       "2     True\n",
       "3    False\n",
       "4    False\n",
       "dtype: bool"
      ]
     },
     "execution_count": 55,
     "metadata": {},
     "output_type": "execute_result"
    }
   ],
   "source": [
    "df.duplicated(['k1'])\n",
    "df.duplicated(['k2'])\n",
    "df.duplicated(['k1','k2'])"
   ]
  },
  {
   "cell_type": "code",
   "execution_count": 63,
   "metadata": {},
   "outputs": [
    {
     "data": {
      "text/html": [
       "<div>\n",
       "<style scoped>\n",
       "    .dataframe tbody tr th:only-of-type {\n",
       "        vertical-align: middle;\n",
       "    }\n",
       "\n",
       "    .dataframe tbody tr th {\n",
       "        vertical-align: top;\n",
       "    }\n",
       "\n",
       "    .dataframe thead th {\n",
       "        text-align: right;\n",
       "    }\n",
       "</style>\n",
       "<table border=\"1\" class=\"dataframe\">\n",
       "  <thead>\n",
       "    <tr style=\"text-align: right;\">\n",
       "      <th></th>\n",
       "      <th>k1</th>\n",
       "      <th>k2</th>\n",
       "      <th>k3</th>\n",
       "    </tr>\n",
       "  </thead>\n",
       "  <tbody>\n",
       "    <tr>\n",
       "      <td>0</td>\n",
       "      <td>b</td>\n",
       "      <td>x</td>\n",
       "      <td>10</td>\n",
       "    </tr>\n",
       "    <tr>\n",
       "      <td>1</td>\n",
       "      <td>b</td>\n",
       "      <td>y</td>\n",
       "      <td>20</td>\n",
       "    </tr>\n",
       "    <tr>\n",
       "      <td>2</td>\n",
       "      <td>b</td>\n",
       "      <td>y</td>\n",
       "      <td>30</td>\n",
       "    </tr>\n",
       "    <tr>\n",
       "      <td>3</td>\n",
       "      <td>c</td>\n",
       "      <td>x</td>\n",
       "      <td>40</td>\n",
       "    </tr>\n",
       "    <tr>\n",
       "      <td>4</td>\n",
       "      <td>c</td>\n",
       "      <td>z</td>\n",
       "      <td>50</td>\n",
       "    </tr>\n",
       "  </tbody>\n",
       "</table>\n",
       "</div>"
      ],
      "text/plain": [
       "  k1 k2  k3\n",
       "0  b  x  10\n",
       "1  b  y  20\n",
       "2  b  y  30\n",
       "3  c  x  40\n",
       "4  c  z  50"
      ]
     },
     "execution_count": 63,
     "metadata": {},
     "output_type": "execute_result"
    }
   ],
   "source": [
    "df.duplicated(['k1'],keep=\"first\") # keep=\"first\" 맨 처음에 나온걸 키값으로 잡겠다, 두번째부터 중복으로 처리함 이게 default\n",
    "df.duplicated(['k1'],keep=\"last\")\n",
    "df.duplicated(['k1'],keep=False) # 중복된 값은 모두 True\n",
    "df.duplicated([\"k1\"],keep=\"first\")\n",
    "df"
   ]
  },
  {
   "cell_type": "code",
   "execution_count": 67,
   "metadata": {},
   "outputs": [
    {
     "data": {
      "text/html": [
       "<div>\n",
       "<style scoped>\n",
       "    .dataframe tbody tr th:only-of-type {\n",
       "        vertical-align: middle;\n",
       "    }\n",
       "\n",
       "    .dataframe tbody tr th {\n",
       "        vertical-align: top;\n",
       "    }\n",
       "\n",
       "    .dataframe thead th {\n",
       "        text-align: right;\n",
       "    }\n",
       "</style>\n",
       "<table border=\"1\" class=\"dataframe\">\n",
       "  <thead>\n",
       "    <tr style=\"text-align: right;\">\n",
       "      <th></th>\n",
       "      <th>k1</th>\n",
       "      <th>k2</th>\n",
       "      <th>k3</th>\n",
       "    </tr>\n",
       "  </thead>\n",
       "  <tbody>\n",
       "  </tbody>\n",
       "</table>\n",
       "</div>"
      ],
      "text/plain": [
       "Empty DataFrame\n",
       "Columns: [k1, k2, k3]\n",
       "Index: []"
      ]
     },
     "execution_count": 67,
     "metadata": {},
     "output_type": "execute_result"
    }
   ],
   "source": [
    "df\n",
    "# 중복값 제거(1개만 살리고 나머지 중복은 제거)\n",
    "df.drop_duplicates([\"k1\"], keep=\"first\")\n",
    "df.drop_duplicates([\"k1\"], keep=\"last\")\n",
    "df.drop_duplicates([\"k1\"], keep=False)"
   ]
  },
  {
   "cell_type": "code",
   "execution_count": 71,
   "metadata": {},
   "outputs": [
    {
     "data": {
      "text/html": [
       "<div>\n",
       "<style scoped>\n",
       "    .dataframe tbody tr th:only-of-type {\n",
       "        vertical-align: middle;\n",
       "    }\n",
       "\n",
       "    .dataframe tbody tr th {\n",
       "        vertical-align: top;\n",
       "    }\n",
       "\n",
       "    .dataframe thead th {\n",
       "        text-align: right;\n",
       "    }\n",
       "</style>\n",
       "<table border=\"1\" class=\"dataframe\">\n",
       "  <thead>\n",
       "    <tr style=\"text-align: right;\">\n",
       "      <th></th>\n",
       "      <th>a</th>\n",
       "      <th>b</th>\n",
       "      <th>c</th>\n",
       "    </tr>\n",
       "  </thead>\n",
       "  <tbody>\n",
       "    <tr>\n",
       "      <td>0</td>\n",
       "      <td>a1</td>\n",
       "      <td>b1</td>\n",
       "      <td>1</td>\n",
       "    </tr>\n",
       "    <tr>\n",
       "      <td>1</td>\n",
       "      <td>a1</td>\n",
       "      <td>b1</td>\n",
       "      <td>1</td>\n",
       "    </tr>\n",
       "    <tr>\n",
       "      <td>2</td>\n",
       "      <td>a2</td>\n",
       "      <td>b2</td>\n",
       "      <td>3</td>\n",
       "    </tr>\n",
       "    <tr>\n",
       "      <td>3</td>\n",
       "      <td>a2</td>\n",
       "      <td>b2</td>\n",
       "      <td>4</td>\n",
       "    </tr>\n",
       "    <tr>\n",
       "      <td>4</td>\n",
       "      <td>a3</td>\n",
       "      <td>NaN</td>\n",
       "      <td>4</td>\n",
       "    </tr>\n",
       "  </tbody>\n",
       "</table>\n",
       "</div>"
      ],
      "text/plain": [
       "    a    b  c\n",
       "0  a1   b1  1\n",
       "1  a1   b1  1\n",
       "2  a2   b2  3\n",
       "3  a2   b2  4\n",
       "4  a3  NaN  4"
      ]
     },
     "execution_count": 71,
     "metadata": {},
     "output_type": "execute_result"
    }
   ],
   "source": [
    "# 유일한 값: unique()\n",
    "# 유일한 값 개수 세기 : value_counts()\n",
    "\n",
    "df=pd.DataFrame({\n",
    "    'a':['a1','a1','a2','a2','a3'],\n",
    "    'b':['b1','b1','b2','b2',np.nan],\n",
    "    'c':[1,1,3,4,4]\n",
    "})\n",
    "df"
   ]
  },
  {
   "cell_type": "code",
   "execution_count": 74,
   "metadata": {},
   "outputs": [
    {
     "data": {
      "text/plain": [
       "array([1, 3, 4], dtype=int64)"
      ]
     },
     "execution_count": 74,
     "metadata": {},
     "output_type": "execute_result"
    }
   ],
   "source": [
    "df[\"a\"].unique()\n",
    "df[\"b\"].unique() # NaN도 unique한 값으로 봄\n",
    "df[\"c\"].unique()"
   ]
  },
  {
   "cell_type": "code",
   "execution_count": 85,
   "metadata": {},
   "outputs": [
    {
     "data": {
      "text/plain": [
       "a1    2\n",
       "a2    2\n",
       "a3    1\n",
       "Name: a, dtype: int64"
      ]
     },
     "execution_count": 85,
     "metadata": {},
     "output_type": "execute_result"
    }
   ],
   "source": [
    "# value_counts : 유일값 개수 세기, pandas의 series에 있기 때문에 열단위로 count함\n",
    "# help(pd.Series.value_counts)\n",
    "# normalize = 디폴트(False) : 개수, True:상대비율로 출력이 됨\n",
    "df['a'].value_counts(normalize=False)\n",
    "# df['a'].value_counts(normalize=True)\n",
    "# sort=True : 개수를 기준 정렬, False면 유일한 값을 기준으로 정렬\n",
    "df['a'].value_counts(normalize=False, sort=True, ascending=False) # ascending=True: 개수를 기준으로 오름차순 정렬"
   ]
  },
  {
   "cell_type": "code",
   "execution_count": 91,
   "metadata": {},
   "outputs": [
    {
     "data": {
      "text/plain": [
       "1    2\n",
       "3    1\n",
       "4    2\n",
       "Name: c, dtype: int64"
      ]
     },
     "execution_count": 91,
     "metadata": {},
     "output_type": "execute_result"
    }
   ],
   "source": [
    "df[\"c\"].value_counts(sort=True, ascending=False)\n",
    "# 유일한 값의 개수를 기준으로 내림차순 정렬\n",
    "df['c'].value_counts(sort=True, ascending=True)\n",
    "df['c'].value_counts(sort=False)\n",
    "# 정렬 기준이 없음"
   ]
  },
  {
   "cell_type": "code",
   "execution_count": 92,
   "metadata": {},
   "outputs": [
    {
     "data": {
      "text/html": [
       "<div>\n",
       "<style scoped>\n",
       "    .dataframe tbody tr th:only-of-type {\n",
       "        vertical-align: middle;\n",
       "    }\n",
       "\n",
       "    .dataframe tbody tr th {\n",
       "        vertical-align: top;\n",
       "    }\n",
       "\n",
       "    .dataframe thead th {\n",
       "        text-align: right;\n",
       "    }\n",
       "</style>\n",
       "<table border=\"1\" class=\"dataframe\">\n",
       "  <thead>\n",
       "    <tr style=\"text-align: right;\">\n",
       "      <th></th>\n",
       "      <th>a</th>\n",
       "      <th>b</th>\n",
       "      <th>c</th>\n",
       "    </tr>\n",
       "  </thead>\n",
       "  <tbody>\n",
       "    <tr>\n",
       "      <td>0</td>\n",
       "      <td>a1</td>\n",
       "      <td>b1</td>\n",
       "      <td>1</td>\n",
       "    </tr>\n",
       "    <tr>\n",
       "      <td>1</td>\n",
       "      <td>a1</td>\n",
       "      <td>b1</td>\n",
       "      <td>1</td>\n",
       "    </tr>\n",
       "    <tr>\n",
       "      <td>2</td>\n",
       "      <td>a2</td>\n",
       "      <td>b2</td>\n",
       "      <td>3</td>\n",
       "    </tr>\n",
       "    <tr>\n",
       "      <td>3</td>\n",
       "      <td>a2</td>\n",
       "      <td>b2</td>\n",
       "      <td>4</td>\n",
       "    </tr>\n",
       "    <tr>\n",
       "      <td>4</td>\n",
       "      <td>a3</td>\n",
       "      <td>NaN</td>\n",
       "      <td>4</td>\n",
       "    </tr>\n",
       "  </tbody>\n",
       "</table>\n",
       "</div>"
      ],
      "text/plain": [
       "    a    b  c\n",
       "0  a1   b1  1\n",
       "1  a1   b1  1\n",
       "2  a2   b2  3\n",
       "3  a2   b2  4\n",
       "4  a3  NaN  4"
      ]
     },
     "execution_count": 92,
     "metadata": {},
     "output_type": "execute_result"
    }
   ],
   "source": [
    "df"
   ]
  },
  {
   "cell_type": "code",
   "execution_count": 94,
   "metadata": {},
   "outputs": [
    {
     "data": {
      "text/plain": [
       "b2     2\n",
       "b1     2\n",
       "NaN    1\n",
       "Name: b, dtype: int64"
      ]
     },
     "execution_count": 94,
     "metadata": {},
     "output_type": "execute_result"
    }
   ],
   "source": [
    "df[\"b\"].value_counts(dropna=False)\n",
    "# default : dropna=True => NaN을 빼고 나머지를 count한다"
   ]
  },
  {
   "cell_type": "code",
   "execution_count": 101,
   "metadata": {},
   "outputs": [
    {
     "data": {
      "text/plain": [
       "(3, 4]    2\n",
       "(0, 1]    2\n",
       "(2, 3]    1\n",
       "(4, 5]    0\n",
       "(1, 2]    0\n",
       "Name: c, dtype: int64"
      ]
     },
     "execution_count": 101,
     "metadata": {},
     "output_type": "execute_result"
    }
   ],
   "source": [
    "df[\"c\"] # 1 1 3 4 4\n",
    "df[\"c\"].value_counts(bins=[0,1,2,3,4,5], sort=False)\n",
    "# bins -> 구간\n",
    "# ( ) : 개구간, [ ] : 폐구간\n",
    "res = pd.cut(df['c'], bins=[0,1,2,3,4,5])\n",
    "pd.value_counts(res)\n",
    "# 동일한 결과를 도출하는 코드\n",
    "# res = pd.cut(df['c'], bins=[0,1,2,3,4,5])\n",
    "# pd.value_counts(res)"
   ]
  },
  {
   "cell_type": "code",
   "execution_count": 102,
   "metadata": {},
   "outputs": [
    {
     "data": {
      "text/plain": [
       "'\\n모수적방법\\n중심극한정리 : 무작위로 복원추출하면, 연속형 자료의 평균에 대한 분포는 정규분포를 띈다면 \\n- 30개 이상의 표본에 대해서 정규분포를 따른다.\\n\\n비모수적방법\\n- 10개 미만의 표본의 경우에는 모수적 방법을 사용할 수 없다.\\n\\n'"
      ]
     },
     "execution_count": 102,
     "metadata": {},
     "output_type": "execute_result"
    }
   ],
   "source": [
    "# 변수들 간 척도가 다른 경우 데이터 표준화\n",
    "# 모집단 : 전체 집단, 모집단에서 표본 추출 -> \n",
    "# 표본집단 평균, 표준편차...=> 통게량 => 모평균, 모분산(모수 : 모평균, 모분산, parameter) 추정\n",
    "\"\"\"\n",
    "모수적방법\n",
    "중심극한정리 : 무작위로 복원추출하면, 연속형 자료의 평균에 대한 분포는 정규분포를 띈다면 \n",
    "- 30개 이상의 표본에 대해서 정규분포를 따른다.\n",
    "\n",
    "비모수적방법\n",
    "- 10개 미만의 표본의 경우에는 모수적 방법을 사용할 수 없다.\n",
    "- 자료를 크기로 나열-> 순위 매김 => 차이 비교\n",
    "\n",
    "\"\"\""
   ]
  },
  {
   "cell_type": "code",
   "execution_count": null,
   "metadata": {},
   "outputs": [],
   "source": [
    "\"\"\"\n",
    "표준화 : (각데이터-평균) / 표준편차\n",
    "모집단이 정규분포를 따르는 경우에\n",
    "평균 : 0, 표준편차:1 인 표준정규분포로 표준화하는 작업\n",
    "1) numpy \n",
    "2) scipy.stats:zscore \n",
    "3) skylearn.prerocsssing 이용\n",
    "\"\"\""
   ]
  },
  {
   "cell_type": "code",
   "execution_count": 103,
   "metadata": {},
   "outputs": [],
   "source": [
    "from numpy import *"
   ]
  },
  {
   "cell_type": "code",
   "execution_count": 106,
   "metadata": {},
   "outputs": [
    {
     "data": {
      "text/plain": [
       "array([[28, 12, 28, 21,  6],\n",
       "       [10,  0, 16,  1,  9],\n",
       "       [ 0,  1, 26,  3, 11],\n",
       "       [ 8, 26, 14, 24, 12],\n",
       "       [26,  7,  0,  8, 23],\n",
       "       [ 8, 21, 26, 23,  5]])"
      ]
     },
     "execution_count": 106,
     "metadata": {},
     "output_type": "execute_result"
    }
   ],
   "source": [
    "data=np.random.randint(30,size=(6,5))\n",
    "data"
   ]
  },
  {
   "cell_type": "code",
   "execution_count": 123,
   "metadata": {},
   "outputs": [
    {
     "data": {
      "text/plain": [
       "array([[0, 0],\n",
       "       [0, 4],\n",
       "       [3, 4]])"
      ]
     },
     "execution_count": 123,
     "metadata": {},
     "output_type": "execute_result"
    }
   ],
   "source": [
    "data"
   ]
  },
  {
   "cell_type": "code",
   "execution_count": 137,
   "metadata": {},
   "outputs": [
    {
     "name": "stdout",
     "output_type": "stream",
     "text": [
      "[[3 0]\n",
      " [4 4]\n",
      " [3 1]]\n",
      "==============================\n",
      "평균\n",
      "[3.33333333 1.66666667]\n",
      "==============================\n",
      "표준화된 결과\n",
      "[[-0.70710678 -0.98058068]\n",
      " [ 1.41421356  1.37281295]\n",
      " [-0.70710678 -0.39223227]]\n"
     ]
    }
   ],
   "source": [
    "data=np.random.randint(6, size=(3,2))\n",
    "# 전체 평균 : np.mean(data)\n",
    "np.mean(data, axis=0) # 각 열에 대한 평균\n",
    "\n",
    "np.mean(data, axis=1) # 각 행에 대한 평균\n",
    "\n",
    "# 표준편차 = np.std()\n",
    "# 표준화 = (각 데이터 - 평균(각 열)) / std(각 열)\n",
    "\n",
    "# broadcasting\n",
    "# 원데이터가 1차원 데이터였는데 확장되어서 2차원, 3차원으로 복사되는것\n",
    "\n",
    "print(data)\n",
    "print(\"=\"*30)\n",
    "print(\"평균\")\n",
    "print(np.mean(data, axis=0))\n",
    "print(\"=\"*30)\n",
    "# print(data-np.mean(data, axis=0)) broadcasting\n",
    "# np.std(data) 전체 dta에 대한 표준편차\n",
    "std_data=(data-np.mean(data, axis=0)) / np.std(data, axis=0)\n",
    "print(\"표준화된 결과\")\n",
    "print(std_data)"
   ]
  },
  {
   "cell_type": "code",
   "execution_count": 147,
   "metadata": {},
   "outputs": [
    {
     "name": "stdout",
     "output_type": "stream",
     "text": [
      "원 데이터\n",
      "[[18 16  5  0 27]\n",
      " [26 22 13 24 19]\n",
      " [29 28 15 28 24]\n",
      " [ 0 29 27 16  7]\n",
      " [ 3 19 23 10 27]\n",
      " [ 4 17 16 21  1]]\n",
      "========================================\n",
      "각 열에 대판 평균\n",
      "[13.33333333 21.83333333 16.5        16.5        17.5       ]\n",
      "========================================\n",
      "표준화\n",
      "[[ 0.40431369 -1.14831275 -1.62770258 -1.7664495   0.94411759]\n",
      " [ 1.09742287  0.03280894 -0.49538774  0.80293159  0.1490712 ]\n",
      " [ 1.35733881  1.21393062 -0.21230903  1.23116177  0.64597519]\n",
      " [-1.15518196  1.41078424  1.48616323 -0.05352877 -1.04349839]\n",
      " [-0.89526602 -0.55775191  0.92000581 -0.69587405  0.94411759]\n",
      " [-0.80862738 -0.95145914 -0.07076968  0.48175895 -1.63978318]]\n",
      "[1. 1. 1. 1. 1.]\n",
      "[1. 1. 1. 1. 1.]\n"
     ]
    }
   ],
   "source": [
    "data=np.random.randint(30,size=(6,5))\n",
    "print(\"원 데이터\")\n",
    "print(data)\n",
    "print(\"=\"*40)\n",
    "print(\"각 열에 대판 평균\")\n",
    "print(np.mean(data, axis=0))\n",
    "print(\"=\"*40)\n",
    "std_data=(data-np.mean(data, axis=0))/np.std(data, axis=0)\n",
    "print(\"표준화\")\n",
    "print(std_data)\n",
    "                                             \n",
    "print(np.std(std_data, axis=0)) # 표준편차 구하는 함수\n",
    "print(np.var(std_data, axis=0)) # 분산 구하는 함수"
   ]
  },
  {
   "cell_type": "code",
   "execution_count": 149,
   "metadata": {},
   "outputs": [
    {
     "data": {
      "text/plain": [
       "array([[ 0.40431369, -1.14831275, -1.62770258, -1.7664495 ,  0.94411759],\n",
       "       [ 1.09742287,  0.03280894, -0.49538774,  0.80293159,  0.1490712 ],\n",
       "       [ 1.35733881,  1.21393062, -0.21230903,  1.23116177,  0.64597519],\n",
       "       [-1.15518196,  1.41078424,  1.48616323, -0.05352877, -1.04349839],\n",
       "       [-0.89526602, -0.55775191,  0.92000581, -0.69587405,  0.94411759],\n",
       "       [-0.80862738, -0.95145914, -0.07076968,  0.48175895, -1.63978318]])"
      ]
     },
     "execution_count": 149,
     "metadata": {},
     "output_type": "execute_result"
    }
   ],
   "source": [
    "import scipy.stats as ss\n",
    "data_ss=ss.zscore(data)\n",
    "data_ss"
   ]
  },
  {
   "cell_type": "code",
   "execution_count": 151,
   "metadata": {},
   "outputs": [],
   "source": [
    "from sklearn.preprocessing import *"
   ]
  },
  {
   "cell_type": "code",
   "execution_count": 152,
   "metadata": {},
   "outputs": [
    {
     "data": {
      "text/plain": [
       "array([[ 0.40431369, -1.14831275, -1.62770258, -1.7664495 ,  0.94411759],\n",
       "       [ 1.09742287,  0.03280894, -0.49538774,  0.80293159,  0.1490712 ],\n",
       "       [ 1.35733881,  1.21393062, -0.21230903,  1.23116177,  0.64597519],\n",
       "       [-1.15518196,  1.41078424,  1.48616323, -0.05352877, -1.04349839],\n",
       "       [-0.89526602, -0.55775191,  0.92000581, -0.69587405,  0.94411759],\n",
       "       [-0.80862738, -0.95145914, -0.07076968,  0.48175895, -1.63978318]])"
      ]
     },
     "execution_count": 152,
     "metadata": {},
     "output_type": "execute_result"
    }
   ],
   "source": [
    "ss_data=StandardScaler().fit_transform(data)\n",
    "ss_data"
   ]
  },
  {
   "cell_type": "code",
   "execution_count": null,
   "metadata": {},
   "outputs": [],
   "source": [
    "# 예외적인 값(이상치, 특이값, outlier)이 들어있는 데이터 표준화\n",
    "# 표준정규분포로의 표준화 : 이상치, 특이값이 없어야 한다.\n",
    "# z=(x-mean)/std\n",
    "\n",
    "# 이상치가 데이터에 포함되어 있는 경우에는 표준화를 어떻게?\n",
    "# 1) 이상치, 특이값을 찾아서 제거 (iqr : Interquartile range / 통계적 관점에서 봤을때 iqr에 1.5를 넘는것을 제외함)\n",
    "# 1번을 일반적으로 많이 사용\n",
    "# 2) 평균대신 중앙값(median), 표준편차 대신 IQR을 이용하여 scaling"
   ]
  },
  {
   "cell_type": "code",
   "execution_count": 154,
   "metadata": {},
   "outputs": [],
   "source": [
    "# RobustScaler() :  이상치가 잇는 데이터 표준화\n",
    "from sklearn.preprocessing import StandardScaler, RobustScaler\n",
    "import matplotlib.pyplot as plt"
   ]
  },
  {
   "cell_type": "code",
   "execution_count": 155,
   "metadata": {},
   "outputs": [],
   "source": [
    "mu, sigma=5, 2 # 평균, 표준편차"
   ]
  },
  {
   "cell_type": "code",
   "execution_count": 160,
   "metadata": {},
   "outputs": [
    {
     "data": {
      "text/plain": [
       "array([ 2.15766595,  5.49718261,  7.38215363,  6.35832283,  8.11919115,\n",
       "        7.26928549,  4.11456723,  2.28158306,  4.29727855,  5.28846727,\n",
       "        5.1787028 ,  5.80019493,  6.69004598,  3.48749899,  4.8623575 ,\n",
       "        4.75628826,  5.43166792,  4.92244459,  6.17135578,  8.3167475 ,\n",
       "        6.59891909,  7.1485125 ,  6.7331106 ,  3.80976545,  3.51277357,\n",
       "        6.57953881,  4.40374041,  4.06795865,  8.28642193,  3.73225764,\n",
       "        1.53535427,  6.18663281, -0.81978693,  5.67312722,  6.74345066,\n",
       "        6.01463134,  7.19550484,  3.05114092,  4.29707425,  2.90023692,\n",
       "        6.90816946,  3.0984978 ,  5.35452854,  6.80923703,  3.92019814,\n",
       "        5.34661618,  6.3508858 ,  1.03655916,  4.97351491,  3.44959358,\n",
       "        2.67748097, -1.66475003,  3.79254686,  5.62423536,  5.53851925,\n",
       "        4.03273209,  4.68505522,  7.25391096,  5.78171576,  6.73168398,\n",
       "        5.73236331,  2.41434133,  7.55898152,  4.62129082,  6.36607586,\n",
       "        4.21366176,  5.00515577,  4.69590571,  6.18895376,  6.2302854 ,\n",
       "        7.28151093,  7.10937695,  6.09324884,  9.47176582,  5.61515872,\n",
       "        8.14905879,  3.88794415,  7.55174827,  4.95745612,  5.10185955,\n",
       "        7.17276623,  6.22529929,  4.19793476,  4.11322134,  4.40243709,\n",
       "        7.69678717,  4.81697413,  5.68398128,  9.05715023,  7.52141151,\n",
       "        6.11885267,  4.67902225,  0.35190076,  5.19373802,  4.2957193 ,\n",
       "        5.81579393,  6.47064427,  2.53666358,  8.42635109,  3.13813297])"
      ]
     },
     "execution_count": 160,
     "metadata": {},
     "output_type": "execute_result"
    }
   ],
   "source": [
    "x=mu+sigma*np.random.randn(100)\n",
    "x"
   ]
  },
  {
   "cell_type": "code",
   "execution_count": 163,
   "metadata": {
    "scrolled": true
   },
   "outputs": [
    {
     "data": {
      "text/plain": [
       "1.9888565682755965"
      ]
     },
     "execution_count": 163,
     "metadata": {},
     "output_type": "execute_result"
    },
    {
     "data": {
      "image/png": "[encoded data removed]",
      "text/plain": [
       "<Figure size 432x288 with 1 Axes>"
      ]
     },
     "metadata": {
      "needs_background": "light"
     },
     "output_type": "display_data"
    }
   ],
   "source": [
    "plt.hist(x)\n",
    "np.mean(x)\n",
    "np.std(x)"
   ]
  },
  {
   "cell_type": "code",
   "execution_count": 169,
   "metadata": {},
   "outputs": [
    {
     "data": {
      "text/plain": [
       "(array([ 3., 16., 39., 32.,  6.,  0.,  0.,  0.,  0.,  0.,  0.,  0.,  0.,\n",
       "         0.,  0.,  0.,  0.,  0.,  0.,  0.,  0.,  0.,  0.,  0.,  0.,  0.,\n",
       "         0.,  0.,  0.,  0.,  0.,  0.,  0.,  0.,  0.,  0.,  0.,  0.,  0.,\n",
       "         0.,  0.,  0.,  0.,  0.,  0.,  0.,  0.,  0.,  0.,  2.]),\n",
       " array([  0,   2,   4,   6,   8,  10,  12,  14,  16,  18,  20,  22,  24,\n",
       "         26,  28,  30,  32,  34,  36,  38,  40,  42,  44,  46,  48,  50,\n",
       "         52,  54,  56,  58,  60,  62,  64,  66,  68,  70,  72,  74,  76,\n",
       "         78,  80,  82,  84,  86,  88,  90,  92,  94,  96,  98, 100]),\n",
       " <a list of 50 Patch objects>)"
      ]
     },
     "execution_count": 169,
     "metadata": {},
     "output_type": "execute_result"
    },
    {
     "data": {
      "image/png": "[encoded data removed]",
      "text/plain": [
       "<Figure size 432x288 with 1 Axes>"
      ]
     },
     "metadata": {
      "needs_background": "light"
     },
     "output_type": "display_data"
    }
   ],
   "source": [
    "x[98:]=100\n",
    "x\n",
    "np.mean(x)\n",
    "np.std(x)\n",
    "# plt.hist(x)\n",
    "plt.hist(x, bins=np.arange(0,102,2)) # bins => 구간을 2씩 나눔"
   ]
  },
  {
   "cell_type": "code",
   "execution_count": 180,
   "metadata": {},
   "outputs": [
    {
     "data": {
      "text/plain": [
       "(array([96.,  2.,  0.,  0.,  0.,  0.,  0.,  0.,  0.,  2.]),\n",
       " array([-0.65529231,  0.1027834 ,  0.86085911,  1.61893482,  2.37701053,\n",
       "         3.13508623,  3.89316194,  4.65123765,  5.40931336,  6.16738907,\n",
       "         6.92546477]),\n",
       " <a list of 10 Patch objects>)"
      ]
     },
     "execution_count": 180,
     "metadata": {},
     "output_type": "execute_result"
    },
    {
     "data": {
      "image/png": "[encoded data removed]",
      "text/plain": [
       "<Figure size 432x288 with 1 Axes>"
      ]
     },
     "metadata": {
      "needs_background": "light"
     },
     "output_type": "display_data"
    }
   ],
   "source": [
    "# type(x) -> array\n",
    "# x=x.reshape(100,1) # (100,) -> (100,1)\n",
    "x=x.reshape(-1,1)\n",
    "x.shape\n",
    "ss_x=StandardScaler().fit_transform(x)\n",
    "np.mean(ss_x)\n",
    "np.std(ss_x)\n",
    "plt.hist(ss_x)"
   ]
  },
  {
   "cell_type": "code",
   "execution_count": 186,
   "metadata": {},
   "outputs": [
    {
     "data": {
      "text/plain": [
       "(array([ 0.,  0.,  0.,  1.,  2.,  2.,  8., 19., 26., 23., 15.,  2.,  0.,\n",
       "         0.,  0.,  0.,  0.,  0.,  0.]),\n",
       " array([-1.00000000e+00, -9.00000000e-01, -8.00000000e-01, -7.00000000e-01,\n",
       "        -6.00000000e-01, -5.00000000e-01, -4.00000000e-01, -3.00000000e-01,\n",
       "        -2.00000000e-01, -1.00000000e-01, -2.22044605e-16,  1.00000000e-01,\n",
       "         2.00000000e-01,  3.00000000e-01,  4.00000000e-01,  5.00000000e-01,\n",
       "         6.00000000e-01,  7.00000000e-01,  8.00000000e-01,  9.00000000e-01]),\n",
       " <a list of 19 Patch objects>)"
      ]
     },
     "execution_count": 186,
     "metadata": {},
     "output_type": "execute_result"
    },
    {
     "data": {
      "image/png": "[encoded data removed]",
      "text/plain": [
       "<Figure size 432x288 with 1 Axes>"
      ]
     },
     "metadata": {
      "needs_background": "light"
     },
     "output_type": "display_data"
    }
   ],
   "source": [
    "ss_x_z=ss_x[ss_x<5]\n",
    "plt.hist(ss_x_z, bins=np.arange(-1,1,0.1))"
   ]
  },
  {
   "cell_type": "code",
   "execution_count": 189,
   "metadata": {},
   "outputs": [
    {
     "data": {
      "text/plain": [
       "4.177092877990109"
      ]
     },
     "execution_count": 189,
     "metadata": {},
     "output_type": "execute_result"
    }
   ],
   "source": [
    "# 이상치 포함 데이터의 중앙값, IQR을 이용 -> 표준화\n",
    "np.median(x)\n",
    "np.percentile(x,25) # 1사분 위수"
   ]
  },
  {
   "cell_type": "code",
   "execution_count": null,
   "metadata": {},
   "outputs": [],
   "source": []
  }
 ],
 "metadata": {
  "kernelspec": {
   "display_name": "Python 3",
   "language": "python",
   "name": "python3"
  },
  "language_info": {
   "codemirror_mode": {
    "name": "ipython",
    "version": 3
   },
   "file_extension": ".py",
   "mimetype": "text/x-python",
   "name": "python",
   "nbconvert_exporter": "python",
   "pygments_lexer": "ipython3",
   "version": "3.7.4"
  }
 },
 "nbformat": 4,
 "nbformat_minor": 2
}
