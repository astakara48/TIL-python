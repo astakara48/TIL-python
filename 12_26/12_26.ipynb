{
 "cells": [
  {
   "cell_type": "code",
   "execution_count": null,
   "metadata": {},
   "outputs": [],
   "source": [
    "\"\"\"\n",
    "클래스 : 객체를 표현하기 위한 개념\n",
    "웹 브라우저 -> 스크롤바, 버튼, 체크박스 등 구성요소 모두가 클래스임\n",
    "클래스는 속성과 매서드로 구성된다.\n",
    "\n",
    "\n",
    "3+4 -> 7+3 -> 10\n",
    "\"\"\""
   ]
  },
  {
   "cell_type": "code",
   "execution_count": null,
   "metadata": {},
   "outputs": [],
   "source": [
    "res=0\n",
    "def add(num):\n",
    "    global res\n",
    "    res+=num\n",
    "    return res    \n",
    "    \n",
    "print(add(3))\n",
    "print(add(4))"
   ]
  },
  {
   "cell_type": "code",
   "execution_count": null,
   "metadata": {},
   "outputs": [],
   "source": [
    "res1=0\n",
    "res2=0\n",
    "def add1(num):\n",
    "    global res1\n",
    "    res1+=num\n",
    "    return res1\n",
    "\n",
    "def add2(num):\n",
    "    global res2\n",
    "    res2+=num\n",
    "    return res2    \n",
    "    \n",
    "print(add1(3))\n",
    "print(add1(4))\n",
    "print(add2(3))\n",
    "print(add2(7))"
   ]
  },
  {
   "cell_type": "code",
   "execution_count": null,
   "metadata": {},
   "outputs": [],
   "source": [
    "class Calc: # 변수이름 규칙과 같음\n",
    "#     def greeting(self):\n",
    "#         print(\"hello\")\n",
    "    def __init__(self): # 객체를 초기화 하는 역할\n",
    "        self.res=0\n",
    "        \n",
    "    def add(self,num): # 객체 단위로 변수들이 독립적으로 저장되고 유지된다.\n",
    "        self.res+=num\n",
    "        return self.res\n",
    "    \n",
    "    def sub(self,num): \n",
    "        self.res-=num\n",
    "        return self.res"
   ]
  },
  {
   "cell_type": "code",
   "execution_count": null,
   "metadata": {},
   "outputs": [],
   "source": [
    "cal1=Calc() # 계산기 1\n",
    "cal2=Calc() # 계산기 2\n",
    "\n",
    "print(cal1.add(3))\n",
    "print(cal1.add(4))\n",
    "print(cal2.add(3))\n",
    "print(cal2.add(7))"
   ]
  },
  {
   "cell_type": "code",
   "execution_count": null,
   "metadata": {},
   "outputs": [],
   "source": [
    "class FishBread:\n",
    "    pass\n",
    "# 아무 기능도 수행하지 않는 클래스"
   ]
  },
  {
   "cell_type": "code",
   "execution_count": null,
   "metadata": {},
   "outputs": [],
   "source": [
    "# 사칙연산 클래스\n",
    "class FourCal:\n",
    "    def add(self):\n",
    "        res=self.first + self.second\n",
    "        return res\n",
    "    \n",
    "    def sub(self):\n",
    "        res = self.first - self.second\n",
    "        return res\n",
    "    \n",
    "    def mul(self):\n",
    "        res = self.first * self.second\n",
    "        return res\n",
    "    \n",
    "    def div(self):\n",
    "        res = self.first / self.second\n",
    "        return res\n",
    "    \n",
    "    def setData(self, first, second):\n",
    "        self.first = first              # self(a).first = 4\n",
    "        self.second = second            # self(a).second = 2\n",
    "# self : 지금(현재) 만들어지고 있는 객체\n",
    "# self.first : 지금 만들어지고 있는 객체의 first 속성\n",
    "# self.second : 지금 만들어지고 있는 객체의 second 속성"
   ]
  },
  {
   "cell_type": "code",
   "execution_count": null,
   "metadata": {},
   "outputs": [],
   "source": [
    "# 사칙 연산 클래스\n",
    "a=FourCal() # FourCal 클래스로부터 객체 생성(a)\n",
    "a.setData(4,2) # 숫자 4,2를 a에 지정\n",
    "print(a.add()) # 4+2=6 이 return\n",
    "print(a.sub())\n",
    "print(a.mul())\n",
    "print(a.div())\n",
    "\n",
    "b=FourCal()\n",
    "b.setData(1,2)\n",
    "print(b.add())\n",
    "print(b.sub())\n",
    "print(b.mul())\n",
    "print(b.div())"
   ]
  },
  {
   "cell_type": "code",
   "execution_count": null,
   "metadata": {},
   "outputs": [],
   "source": [
    "# class MoreFourCal(FourCal):\n",
    "#     pass\n",
    "# # class 자식 클래스명(부모클래스명) => 상속\n",
    "# # MoreFourCal 클래스는 FourCal 클래스를 상속했으므로 모든 기능을 사용할 수 있다.\n",
    "# c=MoreFourCal()\n",
    "# c.setData(6,10)\n",
    "# print(c.add())"
   ]
  },
  {
   "cell_type": "code",
   "execution_count": null,
   "metadata": {},
   "outputs": [],
   "source": [
    "class MoreFourCal(FourCal):\n",
    "    def pow(self):\n",
    "        res=self.first**self.second\n",
    "        return res\n",
    "    \n",
    "    "
   ]
  },
  {
   "cell_type": "code",
   "execution_count": null,
   "metadata": {},
   "outputs": [],
   "source": [
    "c=MoreFourCal()\n",
    "c.setData(4,2)\n",
    "print(c.pow())"
   ]
  },
  {
   "cell_type": "code",
   "execution_count": null,
   "metadata": {},
   "outputs": [],
   "source": [
    "# 메서드 오버라이딩(overriding) : 부모 클래스로부터 상속받은 메서드를 자식이 변경\n",
    "myObj=FourCal()\n",
    "myObj.setData(4,2)\n",
    "print(myObj.div())"
   ]
  },
  {
   "cell_type": "code",
   "execution_count": null,
   "metadata": {},
   "outputs": [],
   "source": [
    "myObj2=MoreFourCal()\n",
    "myObj2.setData(4,2)\n",
    "print(myObj2.div())"
   ]
  },
  {
   "cell_type": "code",
   "execution_count": null,
   "metadata": {},
   "outputs": [],
   "source": [
    "class SafeFourCal(FourCal):\n",
    "    def div(self):\n",
    "        if self.second==1:\n",
    "            print(\"1로 나누지 마세요!\")\n",
    "            return 0\n",
    "        else:\n",
    "            return self.first/self.second\n",
    "        \n"
   ]
  },
  {
   "cell_type": "code",
   "execution_count": null,
   "metadata": {},
   "outputs": [],
   "source": [
    "sfc=SafeFourCal()\n",
    "sfc.setData(4,1)\n",
    "print(sfc.div())"
   ]
  },
  {
   "cell_type": "code",
   "execution_count": null,
   "metadata": {},
   "outputs": [],
   "source": [
    "\"\"\"\n",
    "Person 이라는 Class\n",
    "ps=Person(\"홍길동\",25,\"서울시 역삼동\")\n",
    "ps.greeting() # 안녕하세요. 나는 홍길동입니다.\n",
    "print(\"이름:\",ps.name) #홍길동\n",
    "print(\"나이:\",ps.age) #25\n",
    "print(\"사는 곳:\",ps.addr) #서울시 역삼동\n",
    "\"\"\""
   ]
  },
  {
   "cell_type": "code",
   "execution_count": null,
   "metadata": {},
   "outputs": [],
   "source": [
    "class Person:\n",
    "    def __init__(self, name, age, addr):\n",
    "        self.name = name\n",
    "        self.age = age\n",
    "        self.addr = addr[4:]\n",
    "        \n",
    "    def greeting(self):\n",
    "        print(\"안녕하세요 나는 %s입니다.\" %self.name)\n",
    "    \n",
    "ps=Person(\"홍길동\",25,\"서울시 역삼동\") # __init__ 호출\n",
    "ps.greeting() # 안녕하세요. 나는 홍길동입니다.\n",
    "print(\"이름:\",ps.name) #홍길동\n",
    "print(\"나이:\",ps.age) #25\n",
    "print(\"사는 곳:\",ps.addr) #서울시 역삼동"
   ]
  },
  {
   "cell_type": "code",
   "execution_count": null,
   "metadata": {},
   "outputs": [],
   "source": [
    "class Person:\n",
    "    def __init__(self, *args):\n",
    "        self.name = args[0]\n",
    "        self.age = args[1]\n",
    "        self.addr = args[2]\n",
    "        \n",
    "    def greeting(self):\n",
    "        print(\"안녕하세요 나는 %s입니다.\" %self.name)\n",
    "    \n",
    "ps=Person(\"홍길동\",25,\"서울시 역삼동\") # __init__ 호출\n",
    "ps.greeting() # 안녕하세요. 나는 홍길동입니다.\n",
    "print(\"이름:\",ps.name) #홍길동\n",
    "print(\"나이:\",ps.age) #25\n",
    "print(\"사는 곳:\",ps.addr) #서울시 역삼동"
   ]
  },
  {
   "cell_type": "code",
   "execution_count": null,
   "metadata": {},
   "outputs": [],
   "source": [
    "# 내장함수 - import가 필요 없음\n",
    "# 외장함수 - import가 필요 있음"
   ]
  },
  {
   "cell_type": "code",
   "execution_count": null,
   "metadata": {},
   "outputs": [],
   "source": [
    "print(abs(3))\n",
    "print(abs(-1.2))"
   ]
  },
  {
   "cell_type": "code",
   "execution_count": null,
   "metadata": {},
   "outputs": [],
   "source": [
    "all([-1,1,2,-2]) # 모두가 참 -> 참\n",
    "#0: 거짓, 0이 아닌 모든 숫자는 참\n",
    "all([-1,0,1])"
   ]
  },
  {
   "cell_type": "code",
   "execution_count": null,
   "metadata": {},
   "outputs": [],
   "source": [
    "any([1,2,3,0]) # 하나라도 참이면 참이 출력\n",
    "               # 모두 거짓인 경우에만 거짓이 출력\n",
    "any([0,0])\n"
   ]
  },
  {
   "cell_type": "code",
   "execution_count": null,
   "metadata": {},
   "outputs": [],
   "source": [
    "chr(65) # 아스키 코드를 입력받아 해당 문자를 출력\n",
    "res=divmod(6,4) # \n",
    "print(res[0])"
   ]
  },
  {
   "cell_type": "code",
   "execution_count": null,
   "metadata": {},
   "outputs": [],
   "source": [
    "# enumerate() # 순서가 있는 자료형 (리스트, 튜플, 문자열)을 입력 받아서 인덱스와 함께 자료를 리턴해주는 함수\n",
    "for idx, name in enumerate([\"test\",\"text\",\"body\"]):\n",
    "    print(idx, name)"
   ]
  },
  {
   "cell_type": "code",
   "execution_count": null,
   "metadata": {},
   "outputs": [],
   "source": [
    "for data in enumerate([\"test\",\"text\",\"body\"]):\n",
    "    print(data)"
   ]
  },
  {
   "cell_type": "code",
   "execution_count": null,
   "metadata": {},
   "outputs": [],
   "source": [
    "# eval 함수 : 실행 가능한 문자열에 대해 실행한 결과를 리턴해주는 함수\n",
    "1+2\n",
    "eval(\"1+2\")"
   ]
  },
  {
   "cell_type": "code",
   "execution_count": null,
   "metadata": {},
   "outputs": [],
   "source": [
    "eval(\"'hi'+'hello'\")"
   ]
  },
  {
   "cell_type": "code",
   "execution_count": null,
   "metadata": {},
   "outputs": [],
   "source": [
    "eval(\"divmod(6,4)\")"
   ]
  },
  {
   "cell_type": "code",
   "execution_count": null,
   "metadata": {
    "scrolled": true
   },
   "outputs": [],
   "source": [
    "#1번 java를 python으로 바꿔서 저장\n",
    "\n",
    "f=open(\"c:/da/test.txt\",\"r+\")\n",
    "read=f.read()\n",
    "read=read.replace(\"java\",\"python\")\n",
    "f.close()\n",
    "f=open(\"c:/da/test.txt\",\"w\")\n",
    "f.write(read)\n",
    "f.close()"
   ]
  },
  {
   "cell_type": "code",
   "execution_count": null,
   "metadata": {},
   "outputs": [],
   "source": [
    "#2번 입파일에 저장하는 프로그램 작성\n",
    "f=open(\"c:/test/test.txt\",\"a+\")\n",
    "s=input()\n",
    "f.write(s)\n",
    "f.close()"
   ]
  },
  {
   "cell_type": "code",
   "execution_count": null,
   "metadata": {},
   "outputs": [],
   "source": [
    "# Calculator 클래스\n",
    "class Calculator:\n",
    "    def __init__(self):\n",
    "        self.value = 0\n",
    "\n",
    "    def add(self, val):\n",
    "        self.value += val\n",
    "        \n",
    "class UpgradeCalculator(Calculator):\n",
    "    def minus(self,val):\n",
    "        self.value -= val\n",
    "        \n",
    "cal = UpgradeCalculator()\n",
    "cal.add(10)\n",
    "cal.minus(7)\n",
    "\n",
    "print(cal.value)"
   ]
  },
  {
   "cell_type": "code",
   "execution_count": null,
   "metadata": {},
   "outputs": [],
   "source": [
    "# 44번 MaxLimitCalculator\n",
    "class Calculator:\n",
    "    def __init__(self):\n",
    "        self.value = 0\n",
    "\n",
    "    def add(self, val):\n",
    "        self.value += val\n",
    "\n",
    "class MaxLimitCalculator(Calculator):\n",
    "    def add(self, val):\n",
    "        self.value += val\n",
    "        if self.value >= 100:\n",
    "            self.value = 100\n",
    "        \n",
    "cal = MaxLimitCalculator()\n",
    "cal.add(50) # 50 더하기\n",
    "cal.add(60) # 60 더하기\n",
    "\n",
    "print(cal.value) # 100 출력"
   ]
  },
  {
   "cell_type": "code",
   "execution_count": null,
   "metadata": {},
   "outputs": [],
   "source": [
    "# 5번 map과 lambda 이용\n",
    "s=[1,2,3,4]\n",
    "print(list(map(lambda x:x*3, s)))\n"
   ]
  },
  {
   "cell_type": "code",
   "execution_count": 17,
   "metadata": {},
   "outputs": [
    {
     "name": "stdout",
     "output_type": "stream",
     "text": [
      "행을 입력하세요 : 4\n",
      "열을 입력하세요 : 4\n",
      "[['*' '.' '.' '.']\n",
      " ['.' '.' '.' '.']\n",
      " ['.' '.' '.' '*']\n",
      " ['.' '.' '.' '.']]\n",
      "[['*' '0' '0' '0']\n",
      " ['0' '0' '0' '0']\n",
      " ['0' '0' '0' '*']\n",
      " ['0' '0' '0' '0']]\n"
     ]
    }
   ],
   "source": [
    "# 6번 지뢰찾기\n",
    "import numpy as np\n",
    "import random\n",
    "def make_matrix():\n",
    "    i,j=0,0\n",
    "    for i in range(m):\n",
    "        for j in range(n):\n",
    "            if m >100 or n>100:\n",
    "                print(\"m or n 이 100 이상이여서 생성할 수 없습니다.\")\n",
    "                break\n",
    "            else:\n",
    "                mxn[i][j]=random.choice(val)\n",
    "    print(mxn)\n",
    "\n",
    "def find():\n",
    "    i,j=0,0\n",
    "    for i in range(m):\n",
    "        for j in range(n):\n",
    "            if mxn[i][j] == '.':\n",
    "                mxn[i][j]=0\n",
    "    \n",
    "    for i in range(m):\n",
    "        for j in range(n):\n",
    "            if mxn[i][j] == '*':\n",
    "                mxn[i-1][j-1]+=1\n",
    "                mxn[i-1][j]+=1\n",
    "                mxn[]\n",
    "                if i-1 or j-1 <0:\n",
    "                    continue:\n",
    "                if i+1 > m:\n",
    "                    continue:\n",
    "                if j+1 > n:\n",
    "                    continue:\n",
    "            \n",
    "    \n",
    "    \n",
    "m = int(input(\"행을 입력하세요 : \"))\n",
    "n = int(input(\"열을 입력하세요 : \"))\n",
    "val=['.','.','.','.','.','.','*']\n",
    "mxn=np.empty((m,n), dtype=str)\n",
    "\n",
    "make_matrix()\n",
    "find()"
   ]
  },
  {
   "cell_type": "code",
   "execution_count": null,
   "metadata": {},
   "outputs": [],
   "source": [
    "import random\n",
    "val=['.','.','.','.','.','.','*']\n",
    "for i in range(14):\n",
    "    print(random.choice(val))"
   ]
  },
  {
   "cell_type": "code",
   "execution_count": null,
   "metadata": {},
   "outputs": [],
   "source": []
  },
  {
   "cell_type": "code",
   "execution_count": null,
   "metadata": {},
   "outputs": [],
   "source": []
  },
  {
   "cell_type": "code",
   "execution_count": null,
   "metadata": {},
   "outputs": [],
   "source": []
  }
 ],
 "metadata": {
  "kernelspec": {
   "display_name": "Python 3",
   "language": "python",
   "name": "python3"
  },
  "language_info": {
   "codemirror_mode": {
    "name": "ipython",
    "version": 3
   },
   "file_extension": ".py",
   "mimetype": "text/x-python",
   "name": "python",
   "nbconvert_exporter": "python",
   "pygments_lexer": "ipython3",
   "version": "3.7.4"
  }
 },
 "nbformat": 4,
 "nbformat_minor": 2
}
