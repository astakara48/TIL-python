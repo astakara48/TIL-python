{
 "cells": [
  {
   "cell_type": "code",
   "execution_count": 1,
   "metadata": {},
   "outputs": [],
   "source": [
    "# 선형 회귀\n",
    "import numpy as np"
   ]
  },
  {
   "cell_type": "code",
   "execution_count": 2,
   "metadata": {},
   "outputs": [],
   "source": [
    "x=[2,4,6,8]\n",
    "y=[81,93,91,97]"
   ]
  },
  {
   "cell_type": "code",
   "execution_count": 3,
   "metadata": {},
   "outputs": [],
   "source": [
    "# x와 y의 평균값\n",
    "mx=np.mean(x)\n",
    "my=np.mean(y)"
   ]
  },
  {
   "cell_type": "code",
   "execution_count": 6,
   "metadata": {},
   "outputs": [
    {
     "data": {
      "text/plain": [
       "20.0"
      ]
     },
     "execution_count": 6,
     "metadata": {},
     "output_type": "execute_result"
    }
   ],
   "source": [
    "# 기울기 공식의 분모\n",
    "divisor=sum([(mx-i)**2 for i in x])\n",
    "divisor"
   ]
  },
  {
   "cell_type": "code",
   "execution_count": 7,
   "metadata": {},
   "outputs": [],
   "source": [
    "# 기울기 공식의 분자\n",
    "def top(x, mx, y, my):\n",
    "    d=0\n",
    "    for i in range(len(x)):\n",
    "        d+=(x[i]-mx)*(y[i]-my)\n",
    "    return d\n",
    "dividend=top(x, mx, y, my)"
   ]
  },
  {
   "cell_type": "code",
   "execution_count": 8,
   "metadata": {},
   "outputs": [
    {
     "name": "stdout",
     "output_type": "stream",
     "text": [
      "분모 20.0\n",
      "분자 46.0\n"
     ]
    }
   ],
   "source": [
    "print(\"분모\",divisor)\n",
    "print(\"분자\",dividend)"
   ]
  },
  {
   "cell_type": "code",
   "execution_count": 12,
   "metadata": {},
   "outputs": [
    {
     "data": {
      "text/plain": [
       "79.0"
      ]
     },
     "execution_count": 12,
     "metadata": {},
     "output_type": "execute_result"
    }
   ],
   "source": [
    "# w: 직선의 기울기 = y값의 증가량 / x값의증가량\n",
    "w=dividend/divisor\n",
    "w # 기울기mx\n",
    "b=my-(mx*w) # y의 평균-(x평균*기울기w)\n",
    "b"
   ]
  },
  {
   "cell_type": "code",
   "execution_count": 86,
   "metadata": {},
   "outputs": [],
   "source": [
    "data=[[2,0,81],[4,4,93],[6,2,91],[8,3,97]]"
   ]
  },
  {
   "cell_type": "code",
   "execution_count": 84,
   "metadata": {},
   "outputs": [
    {
     "name": "stdout",
     "output_type": "stream",
     "text": [
      "공부한시간= 2 과외시간= 0 ,실제점수= 81 ,예측점수= 230.8125\n",
      "공부한시간= 4 과외시간= 4 ,실제점수= 93 ,예측점수= 46.8125\n",
      "공부한시간= 6 과외시간= 2 ,실제점수= 91 ,예측점수= 145.8125\n",
      "공부한시간= 8 과외시간= 3 ,실제점수= 97 ,예측점수= 102.8125\n",
      "rmse: 146.4171187267732\n"
     ]
    }
   ],
   "source": [
    "# 공부한시간=2, 과외시간=0, 실제점수=81, 예측점수=83.6\n",
    "#...\n",
    "# 공부한시간=8, 과외시간=3, 실제점수=97, 예측점수=97.4\n",
    "# rmse:\n",
    "def print_study(data):\n",
    "    mx1=np.mean(np.array(data)[:,0])\n",
    "    mx2=np.mean(np.array(data)[:,1])\n",
    "    my=np.mean(np.array(data)[:,1])\n",
    "    divisor1=sum([(mx1-i)**2 for i in np.array(data)[:,0]])\n",
    "    dividend1=top(list(np.array(data)[:,0]),mx,list(np.array(data)[:,2]),my)\n",
    "    w1=dividend1/divisor1\n",
    "    divisor2=sum([(mx2-i)**2 for i in np.array(data)[:,0]])\n",
    "    dividend2=top(list(np.array(data)[:,1]),mx,list(np.array(data)[:,2]),my)\n",
    "    w2=dividend2/divisor\n",
    "    b=my-(mx*w1)-(mx*w2)\n",
    "    rmse=0\n",
    "    yv=[]\n",
    "    for i in data:\n",
    "        print(\"공부한시간=\",i[0], \"과외시간=\",i[1], \",실제점수=\",i[2], \",예측점수=\", round((i[0]*w1)+(i[1])*w2)+b)\n",
    "        yv.append(round((i[0]*w1)+(i[1])*w2)+b)\n",
    "    for i in range(len(yv)):\n",
    "        rmse+=(yv[i]-list(np.array(data)[:,1]))[i]**2\n",
    "    print(\"rmse:\",np.sqrt(rmse/len(yv)))\n",
    "    \n",
    "print_study(data)"
   ]
  },
  {
   "cell_type": "code",
   "execution_count": 87,
   "metadata": {},
   "outputs": [],
   "source": [
    "wb=[2.3, 79] #기울기, y절편\n",
    "#data=[[2,81], [4,93], [6,91], [8,97]]\n",
    "x1=[i[0] for i in data]\n",
    "x2=[i[1] for i in data]\n",
    "y=[i[2] for i in data]"
   ]
  },
  {
   "cell_type": "code",
   "execution_count": 62,
   "metadata": {},
   "outputs": [],
   "source": [
    "def predict(x):\n",
    "    return wb[0]*x+wb+wb[1]"
   ]
  },
  {
   "cell_type": "code",
   "execution_count": 63,
   "metadata": {},
   "outputs": [
    {
     "name": "stdout",
     "output_type": "stream",
     "text": [
      "공부시간=2, 실점수=81,예측점수=84\n",
      "공부시간=4, 실점수=93,예측점수=88\n",
      "공부시간=6, 실점수=91,예측점수=93\n",
      "공부시간=8, 실점수=97,예측점수=97\n"
     ]
    }
   ],
   "source": [
    "predict_result=[]\n",
    "for i in range(len(x)):\n",
    "    predict_result.append(predict(x[i]))\n",
    "    print(\"공부시간=%.f, 실점수=%.f,예측점수=%.f\" % (x[i], y[i], predict(x[i]))) "
   ]
  },
  {
   "cell_type": "code",
   "execution_count": 64,
   "metadata": {},
   "outputs": [
    {
     "name": "stdout",
     "output_type": "stream",
     "text": [
      "rmse : 2.880972058177584\n"
     ]
    }
   ],
   "source": [
    "def rmse(p,a):\n",
    "    return np.sqrt(((p-a)**2).mean())\n",
    "print(\"rmse : \"+ str(rmse(np.array(predict_result), np.array(y))))"
   ]
  },
  {
   "cell_type": "code",
   "execution_count": 88,
   "metadata": {},
   "outputs": [],
   "source": [
    "import tensorflow as tf"
   ]
  },
  {
   "cell_type": "code",
   "execution_count": 89,
   "metadata": {},
   "outputs": [],
   "source": [
    "# 기울기 범위 : 0~10, y절편 : 0~100\n",
    "w1=tf.Variable(tf.random_normal([1],0,10,dtype=tf.float32, seed=0))\n",
    "w2=tf.Variable(tf.random_normal([1],0,10,dtype=tf.float32, seed=0))\n",
    "b=tf.Variable(tf.random_normal([1],0,100,dtype=tf.float32, seed=0))"
   ]
  },
  {
   "cell_type": "code",
   "execution_count": 90,
   "metadata": {},
   "outputs": [],
   "source": [
    "hf=w1*x1+w2*x2+b\n",
    "rmse=tf.sqrt(tf.reduce_mean(tf.square(hf-y)))\n",
    "lr=0.1"
   ]
  },
  {
   "cell_type": "code",
   "execution_count": 91,
   "metadata": {},
   "outputs": [],
   "source": [
    "train=tf.train.GradientDescentOptimizer(lr).minimize(rmse)"
   ]
  },
  {
   "cell_type": "code",
   "execution_count": 93,
   "metadata": {},
   "outputs": [
    {
     "name": "stdout",
     "output_type": "stream",
     "text": [
      "RMSE=157.1025, 기울기 w1=-3.4711, 기울기 w2=-3.7536, y절편=-39.8165\n",
      "RMSE=44.6891, 기울기 w1=18.1984, 기울기 w2=6.5456, y절편=-32.9452\n",
      "RMSE=43.0898, 기울기 w1=17.4979, 기울기 w2=6.7055, y절편=-29.0116\n",
      "RMSE=41.4963, 기울기 w1=16.8068, 기울기 w2=6.7692, y절편=-25.0806\n",
      "RMSE=39.9060, 기울기 w1=16.1451, 기울기 w2=6.7675, y절편=-21.1480\n",
      "RMSE=38.3175, 기울기 w1=15.5062, 기울기 w2=6.7151, y절편=-17.2144\n",
      "RMSE=36.7301, 기울기 w1=14.8849, 기울기 w2=6.6237, y절편=-13.2800\n",
      "RMSE=35.1433, 기울기 w1=14.2769, 기울기 w2=6.5028, y절편=-9.3451\n",
      "RMSE=33.5568, 기울기 w1=13.6789, 기울기 w2=6.3596, y절편=-5.4098\n",
      "RMSE=31.9705, 기울기 w1=13.0883, 기울기 w2=6.2001, y절편=-1.4742\n",
      "RMSE=30.3843, 기울기 w1=12.5031, 기울기 w2=6.0286, y절편=2.4616\n",
      "RMSE=28.7982, 기울기 w1=11.9217, 기울기 w2=5.8485, y절편=6.3974\n",
      "RMSE=27.2120, 기울기 w1=11.3431, 기울기 w2=5.6624, y절편=10.3334\n",
      "RMSE=25.6259, 기울기 w1=10.7664, 기울기 w2=5.4721, y절편=14.2694\n",
      "RMSE=24.0399, 기울기 w1=10.1910, 기울기 w2=5.2789, y절편=18.2054\n",
      "RMSE=22.4538, 기울기 w1=9.6164, 기울기 w2=5.0839, y절편=22.1414\n",
      "RMSE=20.8678, 기울기 w1=9.0424, 기울기 w2=4.8876, y절편=26.0774\n",
      "RMSE=19.2818, 기울기 w1=8.4687, 기울기 w2=4.6907, y절편=30.0135\n",
      "RMSE=17.6959, 기울기 w1=7.8952, 기울기 w2=4.4933, y절편=33.9495\n",
      "RMSE=16.1100, 기울기 w1=7.3218, 기울기 w2=4.2956, y절편=37.8853\n",
      "RMSE=14.5243, 기울기 w1=6.7485, 기울기 w2=4.0978, y절편=41.8210\n",
      "RMSE=12.9386, 기울기 w1=6.1753, 기울기 w2=3.9000, y절편=45.7566\n",
      "RMSE=11.3531, 기울기 w1=5.6021, 기울기 w2=3.7021, y절편=49.6919\n",
      "RMSE=9.7679, 기울기 w1=5.0290, 기울기 w2=3.5042, y절편=53.6270\n",
      "RMSE=8.1830, 기울기 w1=4.4560, 기울기 w2=3.3063, y절편=57.5616\n",
      "RMSE=6.5989, 기울기 w1=3.8830, 기울기 w2=3.1085, y절편=61.4953\n",
      "RMSE=5.0161, 기울기 w1=3.3103, 기울기 w2=2.9108, y절편=65.4273\n",
      "RMSE=3.4364, 기울기 w1=2.7382, 기울기 w2=2.7132, y절편=69.3555\n",
      "RMSE=1.8677, 기울기 w1=2.1681, 기울기 w2=2.5164, y절편=73.2700\n",
      "RMSE=1.8355, 기울기 w1=2.0067, 기울기 w2=2.4875, y절편=76.1210\n",
      "RMSE=1.8368, 기울기 w1=1.8749, 기울기 w2=2.4440, y절편=77.1553\n",
      "RMSE=1.8370, 기울기 w1=1.8149, 기울기 w2=2.4236, y절편=77.5888\n",
      "RMSE=1.8370, 기울기 w1=1.7890, 기울기 w2=2.4147, y절편=77.7708\n",
      "RMSE=1.8370, 기울기 w1=1.7779, 기울기 w2=2.4109, y절편=77.8472\n",
      "RMSE=1.8370, 기울기 w1=1.7733, 기울기 w2=2.4093, y절편=77.8793\n",
      "RMSE=1.8370, 기울기 w1=1.7713, 기울기 w2=2.4087, y절편=77.8928\n",
      "RMSE=1.8370, 기울기 w1=1.7705, 기울기 w2=2.4084, y절편=77.8985\n",
      "RMSE=1.8370, 기울기 w1=1.7702, 기울기 w2=2.4082, y절편=77.9008\n",
      "RMSE=1.8370, 기울기 w1=1.7700, 기울기 w2=2.4082, y절편=77.9018\n",
      "RMSE=1.8370, 기울기 w1=1.7699, 기울기 w2=2.4082, y절편=77.9022\n",
      "RMSE=1.8369, 기울기 w1=1.7699, 기울기 w2=2.4082, y절편=77.9022\n",
      "RMSE=1.8369, 기울기 w1=1.7699, 기울기 w2=2.4082, y절편=77.9022\n",
      "RMSE=1.8369, 기울기 w1=1.7699, 기울기 w2=2.4082, y절편=77.9022\n",
      "RMSE=1.8369, 기울기 w1=1.7699, 기울기 w2=2.4082, y절편=77.9022\n",
      "RMSE=1.8369, 기울기 w1=1.7699, 기울기 w2=2.4082, y절편=77.9022\n",
      "RMSE=1.8369, 기울기 w1=1.7699, 기울기 w2=2.4082, y절편=77.9022\n",
      "RMSE=1.8369, 기울기 w1=1.7699, 기울기 w2=2.4082, y절편=77.9022\n",
      "RMSE=1.8369, 기울기 w1=1.7699, 기울기 w2=2.4082, y절편=77.9022\n",
      "RMSE=1.8369, 기울기 w1=1.7699, 기울기 w2=2.4082, y절편=77.9022\n",
      "RMSE=1.8369, 기울기 w1=1.7699, 기울기 w2=2.4082, y절편=77.9022\n",
      "RMSE=1.8369, 기울기 w1=1.7699, 기울기 w2=2.4082, y절편=77.9022\n"
     ]
    }
   ],
   "source": [
    "with tf.Session() as sess:\n",
    "    sess.run(tf.global_variables_initializer())\n",
    "    for step in range(5001):\n",
    "        sess.run(train)\n",
    "        if step%100==0:\n",
    "            print(\"RMSE=%.4f, 기울기 w1=%.4f, 기울기 w2=%.4f, y절편=%.4f\" %(sess.run(rmse),sess.run(w1),sess.run(w2),sess.run(b)))"
   ]
  },
  {
   "cell_type": "code",
   "execution_count": 94,
   "metadata": {},
   "outputs": [],
   "source": [
    "# 로지스틱 회귀\n",
    "data=[[2,0],[4,0],[6,0],[8,1],[10,1],[12,1],[14,1]]\n",
    "xdata=[i[0] for i in data]\n",
    "ydata=[i[0] for i in data]"
   ]
  },
  {
   "cell_type": "code",
   "execution_count": 97,
   "metadata": {},
   "outputs": [],
   "source": [
    "w=tf.Variable(tf.random_normal([1], dtype=tf.float32, seed=0))\n",
    "b=tf.Variable(tf.random_normal([1], dtype=tf.float32, seed=0))"
   ]
  },
  {
   "cell_type": "code",
   "execution_count": null,
   "metadata": {},
   "outputs": [],
   "source": [
    "hf=1/(1+np.e**(w*xdata+b))\n",
    "cost=-tf.reduce_mean(np.array(ydata)*tf.log(hf)+(1-np.array(ydata)*tf.log(1-hf)))\n",
    "train=tf.train.GradientDescentOptimizer().minimize()"
   ]
  },
  {
   "cell_type": "code",
   "execution_count": null,
   "metadata": {},
   "outputs": [],
   "source": []
  },
  {
   "cell_type": "code",
   "execution_count": 98,
   "metadata": {},
   "outputs": [],
   "source": [
    "x_data = [[1, 2, 1, 1],\n",
    "          [2, 1, 3, 2],\n",
    "          [3, 1, 3, 4],\n",
    "          [4, 1, 5, 5],\n",
    "          [1, 7, 5, 5],\n",
    "          [1, 2, 5, 6],\n",
    "          [1, 6, 6, 6],\n",
    "          [1, 7, 7, 7]]\n",
    "y_data = [[0, 0, 1], # ohe 되어있다고 가정\n",
    "          [0, 0, 1], # 100 -> A\n",
    "          [0, 0, 1], # 010 -> B\n",
    "          [0, 1, 0], # 001 -> C\n",
    "          [0, 1, 0],\n",
    "          [0, 1, 0],\n",
    "          [1, 0, 0],\n",
    "          [1, 0, 0]]\n",
    "\n",
    "xy = np.array([[828.659973, 833.450012, 908100, 828.349976, 831.659973],\n",
    "               [823.02002, 828.070007, 1828100, 821.655029, 828.070007],\n",
    "               [819.929993, 824.400024, 1438100, 818.97998, 824.159973],\n",
    "               [816, 820.958984, 1008100, 815.48999, 819.23999],\n",
    "               [819.359985, 823, 1188100, 818.469971, 818.97998],\n",
    "               [819, 823, 1198100, 816, 820.450012],\n",
    "               [811.700012, 815.25, 1098100, 809.780029, 813.669983],\n",
    "               [809.51001, 816.659973, 1398100, 804.539978, 809.559998]])\n"
   ]
  },
  {
   "cell_type": "code",
   "execution_count": 101,
   "metadata": {},
   "outputs": [],
   "source": [
    "x=tf.placeholder(tf.float32, [None,4])\n",
    "y=tf.placeholder(tf.float32, [None,3]) # 3 분류기의 개수\n",
    "w=tf.Variable(tf.random_normal([4,3], dtype=tf.float32, seed=0))\n",
    "b=tf.Variable(tf.random_normal([3], dtype=tf.flaot32, seed=0))"
   ]
  },
  {
   "cell_type": "code",
   "execution_count": 104,
   "metadata": {},
   "outputs": [],
   "source": [
    "hf=tf.nn.softmax((tf.matmul(x,w)+b)) # neural net 밑에 softmax 가 있음"
   ]
  },
  {
   "cell_type": "code",
   "execution_count": null,
   "metadata": {},
   "outputs": [],
   "source": []
  },
  {
   "cell_type": "code",
   "execution_count": null,
   "metadata": {},
   "outputs": [],
   "source": []
  }
 ],
 "metadata": {
  "kernelspec": {
   "display_name": "Python 3",
   "language": "python",
   "name": "python3"
  },
  "language_info": {
   "codemirror_mode": {
    "name": "ipython",
    "version": 3
   },
   "file_extension": ".py",
   "mimetype": "text/x-python",
   "name": "python",
   "nbconvert_exporter": "python",
   "pygments_lexer": "ipython3",
   "version": "3.7.4"
  }
 },
 "nbformat": 4,
 "nbformat_minor": 2
}
