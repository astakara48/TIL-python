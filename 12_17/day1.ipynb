{
 "cells": [
  {
   "cell_type": "code",
   "execution_count": 2,
   "metadata": {},
   "outputs": [
    {
     "name": "stdout",
     "output_type": "stream",
     "text": [
      "안녕하세요\n"
     ]
    }
   ],
   "source": [
    "print(\"안녕하세요\")"
   ]
  },
  {
   "cell_type": "code",
   "execution_count": 3,
   "metadata": {},
   "outputs": [
    {
     "data": {
      "text/plain": [
       "'\\n구와아아아아아악\\n'"
      ]
     },
     "execution_count": 3,
     "metadata": {},
     "output_type": "execute_result"
    }
   ],
   "source": [
    "\"\"\"\n",
    "숫자 자료형 : 정수, 실수, 복소수\n",
    "            - 정수, 실수 위주로 실습\n",
    "\"\"\""
   ]
  },
  {
   "cell_type": "code",
   "execution_count": 12,
   "metadata": {},
   "outputs": [
    {
     "data": {
      "text/plain": [
       "2.0"
      ]
     },
     "execution_count": 12,
     "metadata": {},
     "output_type": "execute_result"
    }
   ],
   "source": [
    "#1+2 # 더하기 연산(주석문 : 비실행문)\n",
    "# print(1+2) # 파이참에서는 print함수를 써야 함.\n",
    "# 1 / 2 # 정수 / 정수 => 실수(파이썬 3버전)\n",
    "      # 정수 / 정수 => 정수(파이썬 2버전)\n",
    "4 / 2"
   ]
  },
  {
   "cell_type": "code",
   "execution_count": 21,
   "metadata": {},
   "outputs": [
    {
     "data": {
      "text/plain": [
       "1.0"
      ]
     },
     "execution_count": 21,
     "metadata": {},
     "output_type": "execute_result"
    }
   ],
   "source": [
    "5/2\n",
    "5//2 # //연산자 : 소수점 이하 버림\n",
    "5.5//2\n",
    "5%3 # 5를 3으로 나눈 나머지\n",
    "4//2 # 2\n",
    "4//2.0 # 2.0\n",
    "4.1 // 2.0 # 2.0\n",
    "4.1 // 2.5 # 1.0"
   ]
  },
  {
   "cell_type": "code",
   "execution_count": 26,
   "metadata": {},
   "outputs": [
    {
     "data": {
      "text/plain": [
       "1024"
      ]
     },
     "execution_count": 26,
     "metadata": {},
     "output_type": "execute_result"
    }
   ],
   "source": [
    "#숫자 % 2\n",
    "x = 9871165498756161321647987987849611292971395721375217319741979473196338635424386363752452453245635465464\n",
    "y = 9652384192749279531677676262962471627419627624672916742198274962741934554245241425386363383863968383838\n",
    "x*y # Python은 메모리가 가능한 숫자 연산을 계속 다 해줌\n",
    "2**10 # 1024 => 2^10\n"
   ]
  },
  {
   "cell_type": "code",
   "execution_count": 31,
   "metadata": {},
   "outputs": [
    {
     "data": {
      "text/plain": [
       "9"
      ]
     },
     "execution_count": 31,
     "metadata": {},
     "output_type": "execute_result"
    }
   ],
   "source": [
    "# 실수 -> 정수\n",
    "int(3.141592)\n",
    "int(5/2)\n",
    "#문자로 된 숫자 -> 정수\n",
    "int('9')"
   ]
  },
  {
   "cell_type": "code",
   "execution_count": 36,
   "metadata": {},
   "outputs": [
    {
     "data": {
      "text/plain": [
       "(2, 1)"
      ]
     },
     "execution_count": 36,
     "metadata": {},
     "output_type": "execute_result"
    }
   ],
   "source": [
    "type(3.14)\n",
    "type(5)\n",
    "type('a')\n",
    "divmod(7,3) # 2,1 => 몫, 나머지 "
   ]
  },
  {
   "cell_type": "code",
   "execution_count": 40,
   "metadata": {},
   "outputs": [
    {
     "data": {
      "text/plain": [
       "1"
      ]
     },
     "execution_count": 40,
     "metadata": {},
     "output_type": "execute_result"
    }
   ],
   "source": [
    "type(divmod(7,3)) # (2,1) tuple 형태로 몫과 나머지가 나옴\n",
    "\n",
    "# 자료(data), 자로형(자료 타입, 테이터 타입)\n",
    "x = divmod(7,3)\n",
    "x[0] # tuple 자료에 대한 접근\n",
    "x[1]"
   ]
  },
  {
   "cell_type": "code",
   "execution_count": 41,
   "metadata": {},
   "outputs": [
    {
     "name": "stdout",
     "output_type": "stream",
     "text": [
      "1 2\n"
     ]
    }
   ],
   "source": [
    "# x = divmod(7,3)\n",
    "\n",
    "a = 3 # a는 변수 (데이터를 저장하는 장소)\n",
    "a = 2\n",
    "a,b = 1,2\n",
    "print(a,b)"
   ]
  },
  {
   "cell_type": "code",
   "execution_count": 46,
   "metadata": {},
   "outputs": [
    {
     "data": {
      "text/plain": [
       "15"
      ]
     },
     "execution_count": 46,
     "metadata": {},
     "output_type": "execute_result"
    }
   ],
   "source": [
    "# 참고사항\n",
    "0b111 # Ob : 2진수\n",
    "0o10 # 0o : 8진수\n",
    "0x0f # 0x : 16진수"
   ]
  },
  {
   "cell_type": "code",
   "execution_count": 47,
   "metadata": {},
   "outputs": [
    {
     "data": {
      "text/plain": [
       "1.5999999999999996"
      ]
     },
     "execution_count": 47,
     "metadata": {},
     "output_type": "execute_result"
    }
   ],
   "source": [
    "4.3 - 2.7 # 실수 표현할때 약간의 오차가 나온다, 정밀도와 관련된 문제\n",
    "          # 오차에 대한 전처리가 필요함. round 함수 같은거 이용"
   ]
  },
  {
   "cell_type": "code",
   "execution_count": 48,
   "metadata": {},
   "outputs": [
    {
     "data": {
      "text/plain": [
       "7.1"
      ]
     },
     "execution_count": 48,
     "metadata": {},
     "output_type": "execute_result"
    }
   ],
   "source": [
    "3+4 # 7\n",
    "3+4.1 # 7.1\n",
    "# Python에서는 표현 범위가 넓은 쪽으로 계싼(실수에 정수가 포함됨)"
   ]
  },
  {
   "cell_type": "code",
   "execution_count": 57,
   "metadata": {},
   "outputs": [
    {
     "data": {
      "text/plain": [
       "4.0"
      ]
     },
     "execution_count": 57,
     "metadata": {},
     "output_type": "execute_result"
    }
   ],
   "source": [
    "#데이터를 실수로 변환\n",
    "int('9')\n",
    "#int('9.1') # 실수 문자이므로 int를 적용할 수 없음\n",
    "float('9.1')\n",
    "float('9.1') + 3\n",
    "float(1+3)"
   ]
  },
  {
   "cell_type": "code",
   "execution_count": 59,
   "metadata": {},
   "outputs": [
    {
     "data": {
      "text/plain": [
       "False"
      ]
     },
     "execution_count": 59,
     "metadata": {},
     "output_type": "execute_result"
    }
   ],
   "source": [
    "0.1+0.2\n",
    "0.1 + 0.2 == 0.3"
   ]
  },
  {
   "cell_type": "code",
   "execution_count": 71,
   "metadata": {},
   "outputs": [],
   "source": [
    "import math,sys"
   ]
  },
  {
   "cell_type": "code",
   "execution_count": 72,
   "metadata": {},
   "outputs": [
    {
     "data": {
      "text/plain": [
       "True"
      ]
     },
     "execution_count": 72,
     "metadata": {},
     "output_type": "execute_result"
    }
   ],
   "source": [
    "x = 0.1 + 0.2\n",
    "x\n",
    "math.fabs(x-0.3) <= sys.float_info.epsilon\n",
    "# sys.float_info.epsilon # 2 * 10dml -16승\n",
    "# 2.0 버전 당시 쓰던 방법\n",
    "\n",
    "#2)\n",
    "math.isclose(0.1 + 0.2, 0.3)\n",
    "# 3.0 버전 이후 쓰는 방법"
   ]
  },
  {
   "cell_type": "code",
   "execution_count": 89,
   "metadata": {},
   "outputs": [
    {
     "name": "stdout",
     "output_type": "stream",
     "text": [
      "you\n",
      "need\n",
      "python\n"
     ]
    }
   ],
   "source": [
    "x = 'a'\n",
    "x = \"a\"\n",
    "x\n",
    "x=\"\"\"\n",
    "test test2 test3\n",
    "\"\"\"\n",
    "x\n",
    "x=\"Python's favorite food is egg\"\n",
    "x\n",
    "x='Python\"s favorite food is egg'\n",
    "x\n",
    "\n",
    "say = '\"Python is very easy.\" he says.'\n",
    "say\n",
    "\n",
    "say = \"\\\"Python is very easy.\\\" he says.\"\n",
    "say\n",
    "\n",
    "x=\"you\\nneed\\npython\"\n",
    "x\n",
    "print(x)"
   ]
  },
  {
   "cell_type": "code",
   "execution_count": 91,
   "metadata": {},
   "outputs": [
    {
     "name": "stdout",
     "output_type": "stream",
     "text": [
      "PythonPython\n",
      "--------------------------------------------------\n"
     ]
    }
   ],
   "source": [
    "x=\"Python\"\n",
    "y=\" is easy\"\n",
    "x+y\n",
    "print(x*2)\n",
    "print(\"-\"*50)"
   ]
  },
  {
   "cell_type": "code",
   "execution_count": 93,
   "metadata": {},
   "outputs": [
    {
     "data": {
      "text/plain": [
       "19"
      ]
     },
     "execution_count": 93,
     "metadata": {},
     "output_type": "execute_result"
    }
   ],
   "source": [
    "x = \"My leg is too short\"\n",
    "len(x) #( ) : 함수, len : 함수 이름\n",
    "#len 함수 기능 : 함수에 전달된 값의 길이를 구함\n",
    "\n",
    "# 함수 : 내장함수(Python에 포함되어 있으면), 외장함수\n",
    "# 패키지(폴더) : 함수, 패키지들의 묶음\n",
    "# 외장함수는 패키지에 저장되어 있으므로, 사용하기 위해서는 \n",
    "# 사전에 가져와야 함 -> import"
   ]
  },
  {
   "cell_type": "code",
   "execution_count": 94,
   "metadata": {},
   "outputs": [],
   "source": [
    "# indexing, slicing\n",
    "# indexing -> 특정 영역을 참조하는 행위\n",
    "# slicing -> 특정 영역을 잘라내는 행위"
   ]
  },
  {
   "cell_type": "code",
   "execution_count": 107,
   "metadata": {},
   "outputs": [
    {
     "data": {
      "text/plain": [
       "'Pythos is '"
      ]
     },
     "execution_count": 107,
     "metadata": {},
     "output_type": "execute_result"
    }
   ],
   "source": [
    "# Indexing하면 번호가 0번부터 시작\n",
    "x = \"Pythos is easy, you need python\"\n",
    "x[1]\n",
    "x[29] # 29번 index에 해당하는 문자\n",
    "x[-1] # 맨 뒤에 있는 문자\n",
    "x[-2]\n",
    "x[5:] # n부터 마지막 문자까지 [시작위치 : 끝 위치-1]\n",
    "x[0:30] # 0부터 29까지 참조\n",
    "\n",
    "#easy 단어 인덱싱\n",
    "# x[10:14] \n",
    "x[10]+x[11]+x[12]+x[13]\n",
    "\n",
    "x[:10] # 0~9번 index"
   ]
  },
  {
   "cell_type": "code",
   "execution_count": 113,
   "metadata": {},
   "outputs": [
    {
     "data": {
      "text/plain": [
       "'Korea'"
      ]
     },
     "execution_count": 113,
     "metadata": {},
     "output_type": "execute_result"
    }
   ],
   "source": [
    "a = \"Karea\" # a -> o // a 자체가 하나의 문자열을 의미함\n",
    "# a[1] = 'o' / a에 저장된 문자열의 특정 문자에 대한 변경시 오류가 발생할 경우 슬라이싱 방법으로 변경 가능\n",
    "a = a[0]+'o'+a[2:]\n",
    "a"
   ]
  },
  {
   "cell_type": "code",
   "execution_count": null,
   "metadata": {},
   "outputs": [],
   "source": []
  }
 ],
 "metadata": {
  "kernelspec": {
   "display_name": "Python 3",
   "language": "python",
   "name": "python3"
  },
  "language_info": {
   "codemirror_mode": {
    "name": "ipython",
    "version": 3
   },
   "file_extension": ".py",
   "mimetype": "text/x-python",
   "name": "python",
   "nbconvert_exporter": "python",
   "pygments_lexer": "ipython3",
   "version": "3.7.4"
  }
 },
 "nbformat": 4,
 "nbformat_minor": 2
}
