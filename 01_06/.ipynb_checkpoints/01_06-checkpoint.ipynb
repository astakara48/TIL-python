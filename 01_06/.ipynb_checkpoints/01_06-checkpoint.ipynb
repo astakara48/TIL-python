{
 "cells": [
  {
   "cell_type": "code",
   "execution_count": null,
   "metadata": {},
   "outputs": [],
   "source": [
    "\"\"\"\n",
    "numpy, pandas 병행\n",
    "numpy - 데이터전처리 도구\n",
    "pandas - 분석 도구\n",
    "\"\"\""
   ]
  },
  {
   "cell_type": "code",
   "execution_count": 4,
   "metadata": {},
   "outputs": [
    {
     "name": "stdout",
     "output_type": "stream",
     "text": [
      "[0 1 2 3 4]\n"
     ]
    }
   ],
   "source": [
    "# 1차원 배열\n",
    "import numpy as np\n",
    "ar=np.array([0,1,2,3,4]) # 배열을 만들때 사용하는 함수\n",
    "print(ar)"
   ]
  },
  {
   "cell_type": "code",
   "execution_count": 10,
   "metadata": {},
   "outputs": [
    {
     "name": "stdout",
     "output_type": "stream",
     "text": [
      "[0, 2, 4, 6, 8, 10, 12, 14, 16, 18, 20, 22, 24, 26, 28, 30, 32, 34, 36, 38, 40, 42, 44, 46, 48, 50, 52, 54, 56, 58, 60, 62, 64, 66, 68, 70, 72, 74, 76, 78, 80, 82, 84, 86, 88, 90, 92, 94, 96, 98, 100, 102, 104, 106, 108, 110, 112, 114, 116, 118, 120, 122, 124, 126, 128, 130, 132, 134, 136, 138, 140, 142, 144, 146, 148, 150, 152, 154, 156, 158, 160, 162, 164, 166, 168, 170, 172, 174, 176, 178, 180, 182, 184, 186, 188, 190, 192, 194, 196, 198]\n"
     ]
    }
   ],
   "source": [
    "data=list(range(0,100))\n",
    "ans=[]\n",
    "# data에 저장된 모든 값들에 대해 2배\n",
    "for a in data:\n",
    "    ans.append(2*a)\n",
    "print(ans)\n",
    "\n",
    "# 시간 복잡도(cpu) - (연산 결과가 나오기까지 수행되는 라인의 수)\n",
    "# 공간 복잡도(mem)\n"
   ]
  },
  {
   "cell_type": "code",
   "execution_count": 2,
   "metadata": {},
   "outputs": [
    {
     "name": "stdout",
     "output_type": "stream",
     "text": [
      "[2, 4, 6, 8, 10, 12, 14, 16, 18, 20]\n"
     ]
    }
   ],
   "source": [
    "ans=[]\n",
    "data=list(range(1,11))\n",
    "for d in data:\n",
    "    ans.append(d*2)\n",
    "print(ans)"
   ]
  },
  {
   "cell_type": "code",
   "execution_count": 11,
   "metadata": {},
   "outputs": [
    {
     "data": {
      "text/plain": [
       "array([  0,   2,   4,   6,   8,  10,  12,  14,  16,  18,  20,  22,  24,\n",
       "        26,  28,  30,  32,  34,  36,  38,  40,  42,  44,  46,  48,  50,\n",
       "        52,  54,  56,  58,  60,  62,  64,  66,  68,  70,  72,  74,  76,\n",
       "        78,  80,  82,  84,  86,  88,  90,  92,  94,  96,  98, 100, 102,\n",
       "       104, 106, 108, 110, 112, 114, 116, 118, 120, 122, 124, 126, 128,\n",
       "       130, 132, 134, 136, 138, 140, 142, 144, 146, 148, 150, 152, 154,\n",
       "       156, 158, 160, 162, 164, 166, 168, 170, 172, 174, 176, 178, 180,\n",
       "       182, 184, 186, 188, 190, 192, 194, 196, 198])"
      ]
     },
     "execution_count": 11,
     "metadata": {},
     "output_type": "execute_result"
    }
   ],
   "source": [
    "x=np.array(data)\n",
    "x*2 # 벡터화 연산 : for 문 사용 x, 한번의연산으로 출력 가능"
   ]
  },
  {
   "cell_type": "code",
   "execution_count": 78,
   "metadata": {},
   "outputs": [
    {
     "name": "stdout",
     "output_type": "stream",
     "text": [
      "1 2\n"
     ]
    }
   ],
   "source": [
    "a=np.array([1,2,3])\n",
    "# 요소간 연산 : element wise ~~\n",
    "b=np.array([4,5,6])\n",
    "a2=[1,2,3]\n",
    "b2=[4,5,6]"
   ]
  },
  {
   "cell_type": "code",
   "execution_count": 14,
   "metadata": {},
   "outputs": [
    {
     "data": {
      "text/plain": [
       "array([ 6,  9, 12])"
      ]
     },
     "execution_count": 14,
     "metadata": {},
     "output_type": "execute_result"
    }
   ],
   "source": [
    "2*a+b # 벡터화 연산"
   ]
  },
  {
   "cell_type": "code",
   "execution_count": 19,
   "metadata": {},
   "outputs": [
    {
     "data": {
      "text/plain": [
       "array([False, False,  True])"
      ]
     },
     "execution_count": 19,
     "metadata": {},
     "output_type": "execute_result"
    }
   ],
   "source": [
    "#a\n",
    "a2==2\n",
    "a==2\n",
    "a>2"
   ]
  },
  {
   "cell_type": "code",
   "execution_count": 23,
   "metadata": {},
   "outputs": [
    {
     "data": {
      "text/plain": [
       "3"
      ]
     },
     "execution_count": 23,
     "metadata": {},
     "output_type": "execute_result"
    }
   ],
   "source": [
    "# 2차원 배열(행렬, matrix)\n",
    "# 2차원배열 : 리스트의 리스트\n",
    "# [[0,1,2],[3,4,5]]   -> 열 : 안쪽 리스트 길이, 행 : 바깥쪽 리스트의 길이\n",
    "m=np.array([[0,1,2],[3,4,5]])\n",
    "m\n",
    "len(m) # 행의 갯수\n",
    "len(m[0]) # 열의 갯수"
   ]
  },
  {
   "cell_type": "code",
   "execution_count": 26,
   "metadata": {},
   "outputs": [
    {
     "data": {
      "text/plain": [
       "4"
      ]
     },
     "execution_count": 26,
     "metadata": {},
     "output_type": "execute_result"
    }
   ],
   "source": [
    "# 3차원 배열 : 리스트의 리스트의 리스트 \n",
    "m=np.array([[[1,2,3,4],\n",
    "          [5,6,7,8],\n",
    "          [9,10,11,12]], # 1행\n",
    "        [[31,2,3,4],\n",
    "         [35,6,7,8],\n",
    "         [39,10,11,12]]]) # 2행\n",
    "# 2행, 3열, 4깊이(면)\n",
    "# 2*3*4\n",
    "len(m) # 2행\n",
    "len(m[0]) # 3열\n",
    "len(m[0][0]) # 4 깊이"
   ]
  },
  {
   "cell_type": "code",
   "execution_count": 31,
   "metadata": {},
   "outputs": [
    {
     "data": {
      "text/plain": [
       "(3,)"
      ]
     },
     "execution_count": 31,
     "metadata": {},
     "output_type": "execute_result"
    }
   ],
   "source": [
    "a=np.array([4,5,6])\n",
    "a.ndim # 배열의 차원\n",
    "a.shape"
   ]
  },
  {
   "cell_type": "code",
   "execution_count": 35,
   "metadata": {},
   "outputs": [
    {
     "data": {
      "text/plain": [
       "(2, 3)"
      ]
     },
     "execution_count": 35,
     "metadata": {},
     "output_type": "execute_result"
    }
   ],
   "source": [
    "m=np.array([[0,1,2],[3,4,5]])\n",
    "m.ndim\n",
    "m.shape # 2행 3열"
   ]
  },
  {
   "cell_type": "code",
   "execution_count": 38,
   "metadata": {},
   "outputs": [
    {
     "name": "stdout",
     "output_type": "stream",
     "text": [
      "3\n",
      "(2, 3, 4)\n"
     ]
    }
   ],
   "source": [
    "m=np.array([[[1,2,3,4],\n",
    "          [5,6,7,8],\n",
    "          [9,10,11,12]],\n",
    "        [[31,2,3,4],\n",
    "         [35,6,7,8],\n",
    "         [39,10,11,12]]])\n",
    "print(m.ndim)\n",
    "print(m.shape)"
   ]
  },
  {
   "cell_type": "code",
   "execution_count": 85,
   "metadata": {},
   "outputs": [
    {
     "name": "stdout",
     "output_type": "stream",
     "text": [
      "[-7 -9  8]\n"
     ]
    }
   ],
   "source": [
    "# 1번 연속으로 숫자 3개를 곱했을때 얻어진 결과값이 가장 큰 구간이 어디인지 출력\n",
    "m=np.array([3,2,1,-4,-7,-9,8,-5,3,-1])\n",
    "n=np.array([0,0,0])\n",
    "big=0\n",
    "compare=0\n",
    "cnt=0\n",
    "max_cnt=len(m)\n",
    "\n",
    "for i in m:\n",
    "    compare = m[cnt]*m[cnt+1]*m[cnt+2]\n",
    "    if compare > big:\n",
    "        big = compare\n",
    "        n*0\n",
    "        n=m[cnt:cnt+3]\n",
    "    cnt+=1\n",
    "    if cnt==8:\n",
    "        break\n",
    "print(n)\n"
   ]
  },
  {
   "cell_type": "code",
   "execution_count": 129,
   "metadata": {},
   "outputs": [
    {
     "name": "stdout",
     "output_type": "stream",
     "text": [
      "[[1, 1], [1, 2], [2, 1], [2, 2]]\n"
     ]
    }
   ],
   "source": [
    "# 2번 2*2의 여역을 구성하는 수를 모두 곱했을때 얻어지는 가장 큰 구간이 어디인지 출력\n",
    "m=np.array([[3,1,-2],\n",
    "            [2,-1,-3],\n",
    "            [-2,0,-7]])\n",
    "# 1,1 / 1,2 / 2,1 / 2,2\n",
    "n=np.array([[0,0],[0.0]])\n",
    "big,compare=0,0\n",
    "cnt=0\n",
    "# compare = (m[row][col]*m[row+1][col])+(m[row+1][col]*m[row+1][col+1])\n",
    "for row in range(2):\n",
    "    for col in range(2):\n",
    "        compare = (m[row][col]*m[row][col+1])+(m[row+1][col]*m[row+1][col+1])\n",
    "        if compare > big:\n",
    "            big = compare\n",
    "            n*0\n",
    "            n = [[row,col],[row,col+1],[row+1,col],[row+1,col+1]]\n",
    "print(n)\n",
    "    \n",
    "    \n"
   ]
  },
  {
   "cell_type": "code",
   "execution_count": 104,
   "metadata": {},
   "outputs": [
    {
     "data": {
      "text/plain": [
       "array([[1, 2],\n",
       "       [5, 6]])"
      ]
     },
     "execution_count": 104,
     "metadata": {},
     "output_type": "execute_result"
    }
   ],
   "source": [
    "ar=np.array([[1,2,3,4],[5,6,7,8]])\n",
    "ar\n",
    "ar[0]\n",
    "ar[0,:] # 첫번째 행 전체\n",
    "ar[ : , 1]\n",
    "ar[1,1:] # 두번째 행에서 두번째 열부터 마지막까지 출력\n",
    "ar[:2,:2]"
   ]
  },
  {
   "cell_type": "code",
   "execution_count": 128,
   "metadata": {},
   "outputs": [
    {
     "data": {
      "text/plain": [
       "6"
      ]
     },
     "execution_count": 128,
     "metadata": {},
     "output_type": "execute_result"
    }
   ],
   "source": [
    "# indexing : 데이터 1개를 참조\n",
    "ar=np.array([0,1,2])\n",
    "ar[1]\n",
    "ar[-1]\n",
    "\n",
    "ar=np.array([[1,2,3,4],[5,6,7,8]])\n",
    "ar[0,0]\n",
    "# 다차원 배열에서는 컴마로 접근\n",
    "ar[0,1] # 2\n",
    "ar[1,1]\n",
    "ar[-1,1]\n",
    "ar[-1,-3]\n",
    "ar[-1][-3]"
   ]
  },
  {
   "cell_type": "code",
   "execution_count": 143,
   "metadata": {},
   "outputs": [
    {
     "name": "stdout",
     "output_type": "stream",
     "text": [
      "[2 3 5]\n",
      "[2 4]\n",
      "[4 5]\n"
     ]
    }
   ],
   "source": [
    "# 불린 참조 : 조건에 대해 만족하는 값을 추출\n",
    "ar=np.array([2,3,4,5])\n",
    "bidx=np.array([True,True,False,True])\n",
    "ar[bidx]\n",
    "ar !=4\n",
    "print(ar[ar !=4])\n",
    "print(ar[ar %2 == 0  ] )\n",
    "\n",
    "# ar 요소갑싱 3보다 큰 값들만 추출\n",
    "print(ar[ar >3])"
   ]
  },
  {
   "cell_type": "code",
   "execution_count": 166,
   "metadata": {},
   "outputs": [
    {
     "name": "stdout",
     "output_type": "stream",
     "text": [
      "[2 5]\n"
     ]
    },
    {
     "data": {
      "text/plain": [
       "array([2, 2, 3, 3])"
      ]
     },
     "execution_count": 166,
     "metadata": {},
     "output_type": "execute_result"
    }
   ],
   "source": [
    "# 정수 참조 추출\n",
    "ar=np.array([2,3,4,5])\n",
    "idx=np.array([0,3])\n",
    "ar[idx] # idx에 요소를 index 번호로 인식해서 참조해서 불러옴\n",
    "idx=np.array([0,0,1,1])\n",
    "ar[idx]"
   ]
  },
  {
   "cell_type": "code",
   "execution_count": 178,
   "metadata": {},
   "outputs": [
    {
     "name": "stdout",
     "output_type": "stream",
     "text": [
      "[[1 4]\n",
      " [5 8]]\n",
      "[[1 3]\n",
      " [5 7]]\n",
      "[[[1 4]]\n",
      "\n",
      " [[5 8]]]\n"
     ]
    }
   ],
   "source": [
    "ar=np.array([[1,2,3,4],[5,6,7,8]])\n",
    "#[[1,4],\n",
    "# [5,8]]\n",
    "idx=np.array([0,3])\n",
    "print(ar[:,[0,3]])\n",
    "print(ar[:,[True,False,True,False]])\n",
    "print(ar[:,[idx]])"
   ]
  },
  {
   "cell_type": "code",
   "execution_count": 198,
   "metadata": {
    "scrolled": true
   },
   "outputs": [
    {
     "name": "stdout",
     "output_type": "stream",
     "text": [
      "[[21  2  3  4]\n",
      " [ 1  2  3  4]]\n",
      "[[21  2  3  4]\n",
      " [ 1  2  3  4]\n",
      " [35  6  7  8]]\n"
     ]
    }
   ],
   "source": [
    "ar=np.array([[1,2,3,4],\n",
    "             [15,6,7,8],\n",
    "             [21,2,3,4],\n",
    "             [35,6,7,8]])\n",
    "ar[:] # ar 전체 행\n",
    "ar # 배열 전체\n",
    "ar[:,:] # 전체 행, 전체 열\n",
    "# ar[,:] 행에 대해서 써줘야 출력이 됨\n",
    "print(ar[[2,0],:])\n",
    "print(ar[[2,0,-1],:])"
   ]
  },
  {
   "cell_type": "code",
   "execution_count": 199,
   "metadata": {},
   "outputs": [],
   "source": [
    "# 원데이터: csv, tsv, txt, xls, xlsx, json, ... \n",
    "# Pandas: 원데이터를 데이터프레임(엑셀 시트)으로 읽어서 처리\n",
    "# Numpy: 원데이터를 다차원배열로 읽어서 처리"
   ]
  },
  {
   "cell_type": "code",
   "execution_count": 205,
   "metadata": {},
   "outputs": [
    {
     "data": {
      "text/html": [
       "<div>\n",
       "<style scoped>\n",
       "    .dataframe tbody tr th:only-of-type {\n",
       "        vertical-align: middle;\n",
       "    }\n",
       "\n",
       "    .dataframe tbody tr th {\n",
       "        vertical-align: top;\n",
       "    }\n",
       "\n",
       "    .dataframe thead th {\n",
       "        text-align: right;\n",
       "    }\n",
       "</style>\n",
       "<table border=\"1\" class=\"dataframe\">\n",
       "  <thead>\n",
       "    <tr style=\"text-align: right;\">\n",
       "      <th></th>\n",
       "      <th>ID</th>\n",
       "      <th>LAST_NAME</th>\n",
       "      <th>AGE</th>\n",
       "    </tr>\n",
       "  </thead>\n",
       "  <tbody>\n",
       "    <tr>\n",
       "      <td>0</td>\n",
       "      <td>1</td>\n",
       "      <td>KIM</td>\n",
       "      <td>25</td>\n",
       "    </tr>\n",
       "    <tr>\n",
       "      <td>1</td>\n",
       "      <td>2</td>\n",
       "      <td>LEE</td>\n",
       "      <td>22</td>\n",
       "    </tr>\n",
       "    <tr>\n",
       "      <td>2</td>\n",
       "      <td>3</td>\n",
       "      <td>PARK</td>\n",
       "      <td>33</td>\n",
       "    </tr>\n",
       "    <tr>\n",
       "      <td>3</td>\n",
       "      <td>4</td>\n",
       "      <td>CHOI</td>\n",
       "      <td>24</td>\n",
       "    </tr>\n",
       "    <tr>\n",
       "      <td>4</td>\n",
       "      <td>5</td>\n",
       "      <td>CHO</td>\n",
       "      <td>30</td>\n",
       "    </tr>\n",
       "  </tbody>\n",
       "</table>\n",
       "</div>"
      ],
      "text/plain": [
       "   ID LAST_NAME  AGE\n",
       "0   1       KIM   25\n",
       "1   2       LEE   22\n",
       "2   3      PARK   33\n",
       "3   4      CHOI   24\n",
       "4   5       CHO   30"
      ]
     },
     "execution_count": 205,
     "metadata": {},
     "output_type": "execute_result"
    }
   ],
   "source": [
    "import pandas as pd\n",
    "csvTest=pd.read_csv('test_csv.csv')\n",
    "csvTest"
   ]
  },
  {
   "cell_type": "code",
   "execution_count": 206,
   "metadata": {},
   "outputs": [
    {
     "data": {
      "text/plain": [
       "pandas.core.frame.DataFrame"
      ]
     },
     "execution_count": 206,
     "metadata": {},
     "output_type": "execute_result"
    }
   ],
   "source": [
    "type(csvTest)"
   ]
  },
  {
   "cell_type": "code",
   "execution_count": 207,
   "metadata": {},
   "outputs": [
    {
     "data": {
      "text/plain": [
       "(5, 3)"
      ]
     },
     "execution_count": 207,
     "metadata": {},
     "output_type": "execute_result"
    }
   ],
   "source": [
    "csvTest.shape # 5행 3열, (5,3): 튜플"
   ]
  },
  {
   "cell_type": "code",
   "execution_count": 226,
   "metadata": {
    "scrolled": true
   },
   "outputs": [
    {
     "data": {
      "text/plain": [
       "3"
      ]
     },
     "execution_count": 226,
     "metadata": {},
     "output_type": "execute_result"
    }
   ],
   "source": [
    "csvTest.shape[1] # 행, 열 순서\n"
   ]
  },
  {
   "cell_type": "code",
   "execution_count": 224,
   "metadata": {},
   "outputs": [
    {
     "name": "stdout",
     "output_type": "stream",
     "text": [
      "  ID|LAST_NAME|AGE\n",
      "0         1|KIM|25\n",
      "1         2|LEE|22\n",
      "2        3|PARK|33\n",
      "3        4|CHOI|24\n",
      "4         5|CHO|30\n",
      "(5, 1)\n"
     ]
    }
   ],
   "source": [
    "# test_text.txt\n",
    "# 구분자: |\n",
    "text=pd.read_csv('test_text.txt')\n",
    "print(text)\n",
    "print(text.shape)"
   ]
  },
  {
   "cell_type": "code",
   "execution_count": 223,
   "metadata": {},
   "outputs": [
    {
     "name": "stdout",
     "output_type": "stream",
     "text": [
      "   ID LAST_NAME  AGE\n",
      "0   1       KIM   25\n",
      "1   2       LEE   22\n",
      "2   3      PARK   33\n",
      "3   4      CHOI   24\n",
      "4   5       CHO   30\n",
      "(5, 3)\n"
     ]
    }
   ],
   "source": [
    "text=pd.read_csv('test_text.txt', sep='|')\n",
    "print(text)\n",
    "print(text.shape)"
   ]
  },
  {
   "cell_type": "code",
   "execution_count": null,
   "metadata": {},
   "outputs": [],
   "source": []
  },
  {
   "cell_type": "code",
   "execution_count": 295,
   "metadata": {},
   "outputs": [
    {
     "name": "stdout",
     "output_type": "stream",
     "text": [
      "[-7 -9  8]\n"
     ]
    }
   ],
   "source": [
    "# 수업연습문제 - 1번 연속으로 숫자 3개를 곱했을때 얻어진 결과값이 가장 큰 구간이 어디인지 출력\n",
    "m=np.array([3,2,1,-4,-7,-9,8,-5,3,-1])\n",
    "n=np.array([0,0,0])\n",
    "big=0\n",
    "compare=0\n",
    "cnt=0\n",
    "max_cnt=len(m)\n",
    "\n",
    "for i in m:\n",
    "    compare = m[cnt]*m[cnt+1]*m[cnt+2]\n",
    "    if compare > big:\n",
    "        big = compare\n",
    "        n=m[cnt:cnt+3]\n",
    "    cnt+=1\n",
    "    if cnt==8:\n",
    "        break\n",
    "print(n)\n"
   ]
  },
  {
   "cell_type": "code",
   "execution_count": 308,
   "metadata": {
    "scrolled": true
   },
   "outputs": [
    {
     "name": "stdout",
     "output_type": "stream",
     "text": [
      "([2, -1], [-2, 0])\n"
     ]
    }
   ],
   "source": [
    "# 수업연습문제 - 2번 2*2의 여역을 구성하는 수를 모두 곱했을때 얻어지는 가장 큰 구간이 어디인지 출력\n",
    "m=np.array([[3,1,-2],\n",
    "            [2,-1,-3],\n",
    "            [-2,0,-7]])\n",
    "# 1,1 / 1,2 / 2,1 / 2,2\n",
    "big = -500\n",
    "compare = -500\n",
    "cnt=0\n",
    "# compare = (m[row][col]*m[row+1][col])+(m[row+1][col]*m[row+1][col+1])\n",
    "for row in range(len(b)-1):\n",
    "    for col in range(len(b)-1):\n",
    "        compare = m[row][col]*m[row][col+1]*m[row+1][col]*m[row+1][col+1]\n",
    "        if compare > big:\n",
    "            big = compare\n",
    "            n = [m[row,col],m[row,col+1]],[m[row+1,col],m[row+1,col+1]]\n",
    "        else:\n",
    "            continue\n",
    "\n",
    "print(n)\n",
    "    \n"
   ]
  },
  {
   "cell_type": "code",
   "execution_count": 239,
   "metadata": {},
   "outputs": [
    {
     "name": "stdout",
     "output_type": "stream",
     "text": [
      "7\n",
      "14\n",
      "[6 7]\n",
      "[ 7 12]\n",
      "[[3 4]\n",
      " [8 9]]\n"
     ]
    }
   ],
   "source": [
    "# 1번\n",
    "m = np.array([[ 0,  1,  2,  3,  4],\n",
    "              [ 5,  6,  7,  8,  9],\n",
    "              [10, 11, 12, 13, 14]])\n",
    "print(m[1,2])\n",
    "print(m[2,4])\n",
    "print(m[1,1:3])\n",
    "print(m[1:,2])\n",
    "print(m[0:2,3:])"
   ]
  },
  {
   "cell_type": "code",
   "execution_count": 274,
   "metadata": {},
   "outputs": [
    {
     "name": "stdout",
     "output_type": "stream",
     "text": [
      "[ 3  6  9 12 15 18]\n",
      "[ 1  5  9 13 17]\n",
      "[9]\n"
     ]
    }
   ],
   "source": [
    "# 2번\n",
    "x = np.array([1, 2, 3, 4, 5, 6, 7, 8, 9, 10,\n",
    "              11, 12, 13, 14, 15, 16, 17, 18, 19, 20])\n",
    "print(x[x%3==0])\n",
    "print(x[x%4==1])\n",
    "print(x[(x%3==0)&(x%4==1)])"
   ]
  },
  {
   "cell_type": "code",
   "execution_count": 364,
   "metadata": {},
   "outputs": [
    {
     "name": "stdout",
     "output_type": "stream",
     "text": [
      "[[1. 1. 1. 1. 1. 1. 1. 0. 0. 0.]\n",
      " [1. 1. 1. 1. 0. 0. 0. 0. 0. 0.]\n",
      " [1. 1. 0. 0. 0. 0. 0. 0. 0. 0.]\n",
      " [0. 0. 0. 0. 0. 0. 0. 0. 0. 0.]\n",
      " [0. 0. 0. 0. 0. 0. 0. 0. 0. 0.]\n",
      " [1. 1. 1. 1. 1. 1. 0. 0. 0. 0.]\n",
      " [0. 0. 0. 0. 0. 0. 0. 0. 0. 0.]\n",
      " [1. 1. 1. 1. 1. 1. 1. 0. 0. 0.]\n",
      " [0. 0. 0. 0. 0. 0. 0. 0. 0. 0.]\n",
      " [0. 0. 0. 0. 0. 0. 0. 0. 0. 0.]]\n",
      "6\n"
     ]
    }
   ],
   "source": [
    "# 3번\n",
    "height=[7,4,2,0,0,6,0,7,0]\n",
    "zero=np.zeros((10,10))\n",
    "cnt=0\n",
    "max_val=0\n",
    "near=0\n",
    "cnt_near=0\n",
    "compare_near=0\n",
    "for i in height:\n",
    "    if i !=0:\n",
    "        zero[cnt,:i]=1\n",
    "    cnt+=1\n",
    "\n",
    "print(zero)    \n",
    "for i in range(10):\n",
    "    for j in range(10):\n",
    "        if zero[i,j] == 1:\n",
    "            for k in range(10):\n",
    "                if zero[k][j]==0:\n",
    "                    cnt_near+=1\n",
    "                elif zero[k][j]==1:\n",
    "                    compare_near=cnt_near\n",
    "                    cnt_near=0\n",
    "            if near < compare_near:\n",
    "                near = compare_near\n",
    "                \n",
    "    \n",
    "print(near)"
   ]
  },
  {
   "cell_type": "code",
   "execution_count": null,
   "metadata": {},
   "outputs": [],
   "source": []
  },
  {
   "cell_type": "code",
   "execution_count": null,
   "metadata": {},
   "outputs": [],
   "source": []
  },
  {
   "cell_type": "code",
   "execution_count": null,
   "metadata": {},
   "outputs": [],
   "source": []
  },
  {
   "cell_type": "code",
   "execution_count": null,
   "metadata": {},
   "outputs": [],
   "source": []
  },
  {
   "cell_type": "code",
   "execution_count": null,
   "metadata": {},
   "outputs": [],
   "source": []
  }
 ],
 "metadata": {
  "kernelspec": {
   "display_name": "Python 3",
   "language": "python",
   "name": "python3"
  },
  "language_info": {
   "codemirror_mode": {
    "name": "ipython",
    "version": 3
   },
   "file_extension": ".py",
   "mimetype": "text/x-python",
   "name": "python",
   "nbconvert_exporter": "python",
   "pygments_lexer": "ipython3",
   "version": "3.7.4"
  }
 },
 "nbformat": 4,
 "nbformat_minor": 2
}
