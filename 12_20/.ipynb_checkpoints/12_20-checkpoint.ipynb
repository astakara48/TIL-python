{
 "cells": [
  {
   "cell_type": "code",
   "execution_count": null,
   "metadata": {},
   "outputs": [],
   "source": [
    "money = True\n",
    "if money:\n",
    "    print(\"사먹는다.\")\n",
    "    print(\"사먹는다.\")\n",
    "else:\n",
    "    print(\"...\")"
   ]
  },
  {
   "cell_type": "code",
   "execution_count": null,
   "metadata": {},
   "outputs": [],
   "source": [
    "money = 5000\n",
    "card = False\n",
    "\"\"\"\n",
    "조건식 OR 조건식 : 1개 이상 참 -> 참\n",
    "조건식 AND 조건식 : 1개 이상 False -> False\n",
    "NOT 조건식\n",
    "\"\"\"\n",
    "if money >= 10000 or card:\n",
    "    print(\"택시를 탄다\")\n",
    "else : \n",
    "    print(\"버스를 탄다\")"
   ]
  },
  {
   "cell_type": "code",
   "execution_count": null,
   "metadata": {},
   "outputs": [],
   "source": [
    "# x in 리스트 : 리스트 내부에 x가 있느냐?\n",
    "# x in 튜플\n",
    "# x in 문자열\n",
    "1 in [1,2,3]\n",
    "1 not in [1,2,3]\n",
    "\n",
    "poc=['money','cp','coin']\n",
    "if 'coin' in poc:\n",
    "    print(\"동전이 있다.\")\n",
    "else:\n",
    "    print(\"동전이 없다.\")"
   ]
  },
  {
   "cell_type": "code",
   "execution_count": null,
   "metadata": {},
   "outputs": [],
   "source": [
    "if 0b10101010101010101011111:\n",
    "    print(\"참\")\n",
    "else:\n",
    "    print(\"거짓\")\n",
    "    "
   ]
  },
  {
   "cell_type": "code",
   "execution_count": null,
   "metadata": {},
   "outputs": [],
   "source": [
    "x=1\n",
    "y=2\n",
    "\n",
    "if x==1 and y==2:\n",
    "    print(\"참\")\n",
    "else:\n",
    "    print(\"거짓\")\n",
    "    \n",
    "if x==1:\n",
    "    if y==2:\n",
    "        print(\"참\")\n",
    "    else:\n",
    "        print(\"거짓\")\n",
    "else:\n",
    "    print(\"거짓\")"
   ]
  },
  {
   "cell_type": "code",
   "execution_count": null,
   "metadata": {},
   "outputs": [],
   "source": [
    "x=10\n",
    "if x>0 and x<20:\n",
    "    print(\"20보다 작은 양수\")\n",
    "if 0<x<20:\n",
    "    print(\"20보다 작은 양수\")"
   ]
  },
  {
   "cell_type": "code",
   "execution_count": null,
   "metadata": {},
   "outputs": [],
   "source": [
    "poc=['cp', 'paper']\n",
    "card=True\n",
    "if 'money' in poc:\n",
    "    print(\"택시 탄다.\")\n",
    "else:\n",
    "    if card: # money없지만 카드가 있다면?\n",
    "        print(\"택시 탄다.\")\n",
    "    else:\n",
    "        print(\"걸어간다.\")\n",
    "        "
   ]
  },
  {
   "cell_type": "code",
   "execution_count": null,
   "metadata": {},
   "outputs": [],
   "source": [
    "poc=['cp', 'paper']\n",
    "card=True\n",
    "if 'money' in poc:\n",
    "    print(\"택시 탄다.\")\n",
    "elif card: # else if 그렇지 않고 만약에\n",
    "    print(\"택시 탄다.\")\n",
    "else:\n",
    "    print(\"걸어간다.\")"
   ]
  },
  {
   "cell_type": "code",
   "execution_count": null,
   "metadata": {},
   "outputs": [],
   "source": [
    "poc=['cp', 'paper']\n",
    "if 'money' in poc:\n",
    "    pass\n",
    "else:\n",
    "    print(\"카드 사용\")\n",
    "    \n",
    "    \n",
    "if 'money' in poc:pass\n",
    "else:print(\"카드 사용\")"
   ]
  },
  {
   "cell_type": "code",
   "execution_count": null,
   "metadata": {},
   "outputs": [],
   "source": [
    "score=80\n",
    "if score>=60:\n",
    "    msg=\"success\"\n",
    "else:\n",
    "    msg=\"failure\"\n",
    "print(msg)\n",
    "\n",
    "# 한 줄로 표현\n",
    "# 1 if 2 else 3  --->  2 조건이면 1 아니면 3 로 해석\n",
    "msg=\"success\" if score>=60 else \"failure\"\n",
    "print(msg)\n"
   ]
  },
  {
   "cell_type": "code",
   "execution_count": null,
   "metadata": {},
   "outputs": [],
   "source": [
    "# for 변수 in range(범위):\n",
    "#     반복코드\n",
    "\n",
    "for i in range(10,1,-1):\n",
    "    print(\"hi\")\n",
    "    \n",
    "    \n",
    "cnt=int(input(\"반복 횟수 입력? \"))\n",
    "for i in range(cnt):\n",
    "    print(\"hello\",i+1)"
   ]
  },
  {
   "cell_type": "code",
   "execution_count": null,
   "metadata": {},
   "outputs": [],
   "source": [
    "a=[1,2,3]\n",
    "a2=(1,2,3)\n",
    "a3=\"python\"\n",
    "for i in reversed(a3): # for 변수 in 리스트/튜플/문자열\n",
    "    print(i, end=\" \")"
   ]
  },
  {
   "cell_type": "code",
   "execution_count": null,
   "metadata": {
    "scrolled": false
   },
   "outputs": [],
   "source": [
    "# while 조건식:\n",
    "#     수행문장1\n",
    "#     수행문장2\n",
    "#     ...\n",
    "\n",
    "i=0\n",
    "while i<10: # i가 10보다 작다는 조건을 만족하는 \n",
    "    print(\"hi \", i)\n",
    "    i+=1"
   ]
  },
  {
   "cell_type": "code",
   "execution_count": null,
   "metadata": {},
   "outputs": [],
   "source": [
    "prompt=\"\"\"\n",
    "1. add\n",
    "2. del\n",
    "3. list\n",
    "4. quit\n",
    "\n",
    "enter number:   \"\"\""
   ]
  },
  {
   "cell_type": "code",
   "execution_count": null,
   "metadata": {},
   "outputs": [],
   "source": [
    "print(prompt)"
   ]
  },
  {
   "cell_type": "code",
   "execution_count": null,
   "metadata": {},
   "outputs": [],
   "source": [
    "number = 0\n",
    "while number != 4:\n",
    "    print(prompt)\n",
    "    number=int(input())"
   ]
  },
  {
   "cell_type": "code",
   "execution_count": null,
   "metadata": {},
   "outputs": [],
   "source": [
    "# 난수 (random number) : 임의의 수\n",
    "# 모듈 : 함수들의 묶음(.py or .ipynb)\n",
    "# 패키지 : 모듈 또는 서브 패키지(하위폴더, ...)의 묶음\n",
    "\n",
    "\n",
    "import random # random 모듈(random.py)을 가져옴\n",
    "random.random() # 모듈이름.함수이름\n",
    "random.randint(1,6)"
   ]
  },
  {
   "cell_type": "code",
   "execution_count": null,
   "metadata": {},
   "outputs": [],
   "source": [
    "# 오후 : 동일한 수가 발생하지 않도록 로또생성\n",
    "\n",
    "i=0\n",
    "while i!=6:\n",
    "    print(random.randint(1,45))\n",
    "    i+=1"
   ]
  },
  {
   "cell_type": "code",
   "execution_count": null,
   "metadata": {},
   "outputs": [],
   "source": [
    "print(random.choice([1,2,3,4,5,6]))\n",
    "print(random.choice(\"hello\"))\n",
    "print(random.choice(range(10,20)))"
   ]
  },
  {
   "cell_type": "code",
   "execution_count": null,
   "metadata": {},
   "outputs": [],
   "source": [
    "# break, continute 문은 반복문에서 제어하는 역할\n",
    "# break : 반복문 종료\n",
    "# continue : 특정 반복 문장을 건너뛸때 사용\n",
    "i=0\n",
    "while True:\n",
    "    print(i)\n",
    "    i+=1\n",
    "    if i==10:\n",
    "        break"
   ]
  },
  {
   "cell_type": "code",
   "execution_count": null,
   "metadata": {},
   "outputs": [],
   "source": [
    "for i in range(100):\n",
    "    print(i)\n",
    "    if i==9:\n",
    "        break"
   ]
  },
  {
   "cell_type": "code",
   "execution_count": null,
   "metadata": {},
   "outputs": [],
   "source": [
    "for i in range(100):\n",
    "    if i%2==0: # 짝수\n",
    "        continue # 반복문에 시작 위치로 제어권이 이동 됨\n",
    "    print(i)"
   ]
  },
  {
   "cell_type": "code",
   "execution_count": null,
   "metadata": {},
   "outputs": [],
   "source": [
    "i=0\n",
    "while i<100:\n",
    "    i+=1\n",
    "    if i%2 == 1:\n",
    "        continue\n",
    "    print(i)"
   ]
  },
  {
   "cell_type": "code",
   "execution_count": null,
   "metadata": {
    "scrolled": true
   },
   "outputs": [],
   "source": [
    "coffee=10  # 10잔 커피, 1잔에 200원\n",
    "money=1100 # 5천원\n",
    "\n",
    "\n",
    "#잔액이 200원 미만이면 판매가 안되도록\n",
    "while coffee: # money가 0이 아닌 동안에\n",
    "    print(\"커피가 나옵니다.\")\n",
    "    coffee=coffee-1\n",
    "    money = money - 200\n",
    "    if money==200:\n",
    "        break\n",
    "    print(\"남은 커피는 %d 잔입니다.\" % coffee)\n",
    "    print('남은 잔액은 %d 원입니다.' % money)\n",
    "    print(\"\")\n",
    "    if coffee ==0:\n",
    "        print(\"커피가 떨어졌습니다. 판매중지\")\n",
    "        break"
   ]
  },
  {
   "cell_type": "code",
   "execution_count": null,
   "metadata": {},
   "outputs": [],
   "source": [
    "a=[(1,2),(3,4)]\n",
    "for (data1, data2) in a:\n",
    "    print(data1)\n",
    "    print(data2)"
   ]
  },
  {
   "cell_type": "code",
   "execution_count": null,
   "metadata": {},
   "outputs": [],
   "source": [
    "# 구구단 2단\n",
    "# ...\n",
    "# 구구단 9단 까지\n",
    "for i in range(2,10):\n",
    "    for j in range(1,10):\n",
    "        print(i*j, end=\" \")\n",
    "    print()"
   ]
  },
  {
   "cell_type": "code",
   "execution_count": null,
   "metadata": {},
   "outputs": [],
   "source": [
    "\"\"\"\n",
    "*\n",
    "**\n",
    "***\n",
    "****\n",
    "\"\"\"\n",
    "j = 0\n",
    "for i in range(5):\n",
    "    for j in range(i):\n",
    "        print(\"*\", end=\" \")\n",
    "    print()"
   ]
  },
  {
   "cell_type": "code",
   "execution_count": null,
   "metadata": {},
   "outputs": [],
   "source": [
    "for i in range(4):\n",
    "    for j in range(4):\n",
    "        if j <= i:\n",
    "            print(\"*\", end=\" \")\n",
    "#            break\n",
    "    print()"
   ]
  },
  {
   "cell_type": "code",
   "execution_count": null,
   "metadata": {},
   "outputs": [],
   "source": [
    "\"\"\"\n",
    "*\n",
    " *\n",
    "  *\n",
    "   *\n",
    "\"\"\"\n",
    "\n",
    "for i in range(4):\n",
    "    for j in range(4):\n",
    "        if j==i:\n",
    "            print(\"*\", end=' ')\n",
    "        else:\n",
    "            print(\"\", end=' ')\n",
    "    print()"
   ]
  },
  {
   "cell_type": "code",
   "execution_count": null,
   "metadata": {},
   "outputs": [],
   "source": [
    "# 리스트 내포\n",
    "# 리스트 내부에 for문을 포함\n",
    "x=[1,2,3]\n",
    "# res=[]\n",
    "# for n in x:\n",
    "#     res.append(n*2)\n",
    "# print(res)\n",
    "\n",
    "\n",
    "#res=[n for n in x]\n",
    "# [표현식  for 변수 in 반복가능형 if 조건문(list, tuple...)]\n",
    "# res=[n*2 for n in x]\n",
    "# x에서 데이터를 n으로 읽어들인 후, n 에 2를 곱한 값으로 리스트에 저장\n",
    "\n",
    "res=[n*2 for n in x if n%2==0]\n",
    "print(res)"
   ]
  },
  {
   "cell_type": "code",
   "execution_count": null,
   "metadata": {},
   "outputs": [],
   "source": [
    "res=[y*x for y in range(2,10) for x in range(1,10)]\n",
    "print(res)\n",
    "\n",
    "\n",
    "# 출력 : [2, 4, 6, 8, ....., 81]"
   ]
  },
  {
   "cell_type": "code",
   "execution_count": null,
   "metadata": {},
   "outputs": [],
   "source": []
  },
  {
   "cell_type": "code",
   "execution_count": 4,
   "metadata": {},
   "outputs": [
    {
     "name": "stdout",
     "output_type": "stream",
     "text": [
      "[[3, 4]]\n"
     ]
    }
   ],
   "source": [
    "# 1번\n",
    "\n",
    "s=[1,3,4,8,13,17,20]\n",
    "s1=[]\n",
    "dif1=0\n",
    "dif2=100\n",
    "for i in s:\n",
    "    for j in s:\n",
    "        if i==j:\n",
    "            continue\n",
    "        if i>j:\n",
    "            dif1=i-j\n",
    "        else:\n",
    "            dif1=j-i\n",
    "        if dif1<dif2:\n",
    "            dif2 = dif1\n",
    "            s1.clear()\n",
    "            s1.append([i,j])\n",
    "\n",
    "print(s1)"
   ]
  },
  {
   "cell_type": "code",
   "execution_count": 1,
   "metadata": {},
   "outputs": [
    {
     "name": "stdout",
     "output_type": "stream",
     "text": [
      "김씨 : 2명, 이씨 : 5명\n",
      "이재영 : 3명\n",
      "['송정환', '강상희', '전경헌', '김재성', '박민호', '이재영', '권종표', '최승혁', '박영서', '이유덕', '이성연', '김지완']\n",
      "['강상희', '권종표', '김재성', '김지완', '박민호', '박영서', '송정환', '이성연', '이유덕', '이재영', '전경헌', '최승혁']\n"
     ]
    }
   ],
   "source": [
    "# 2번\n",
    "data=\"이유덕,이재영,권종표,이재영,박민호,강상희,이재영,김지완,최승혁,이성연,박영서,박민호,전경헌,송정환,김재성,이유덕,전경헌\"\n",
    "names = \"이유덕,이재영,권종표,이재영,박민호,강상희,이재영,김지완,최승혁,이성연,박영서,박민호,전경헌,송정환,김재성,이유덕,전경헌\".split(\",\")\n",
    "kim,lee,ljy = 0,0,0\n",
    "for i in range(1,len(names)):\n",
    "    if names[i][0] == \"김\":\n",
    "        kim += 1\n",
    "    if names[i][0] == \"이\":\n",
    "        lee += 1\n",
    "    if names[i] == \"이재영\":\n",
    "        ljy += 1\n",
    "        \n",
    "print(\"김씨 : %d명, 이씨 : %d명\" %(kim, lee))\n",
    "print(\"이재영 : %d명\" %(ljy))\n",
    "print(list(set(names)))\n",
    "print(sorted(list(set(names))))"
   ]
  },
  {
   "cell_type": "code",
   "execution_count": null,
   "metadata": {},
   "outputs": [],
   "source": [
    "# 3번\n",
    "s1=[]\n",
    "sum=0\n",
    "for i in range(1000):\n",
    "    if i%3==0:\n",
    "        s1.append(i)\n",
    "    elif i%5==0:\n",
    "        s1.append(i)\n",
    "set(s1)\n",
    "for i in s1:\n",
    "    sum = sum+int(i)\n",
    "print(sum)"
   ]
  },
  {
   "cell_type": "code",
   "execution_count": null,
   "metadata": {},
   "outputs": [],
   "source": [
    "# 4번\n",
    "num=int(input())\n",
    "for i in range(1,num+1):\n",
    "    sum=0\n",
    "    for j in range(1,i):\n",
    "        if i % j == 0:\n",
    "            sum=sum+j\n",
    "    if sum==i:\n",
    "        print(sum)"
   ]
  },
  {
   "cell_type": "code",
   "execution_count": null,
   "metadata": {},
   "outputs": [],
   "source": [
    "# 5번\n",
    "num = input()\n",
    "for i in str(range(10)):\n",
    "    print(num.count(i))\n",
    "        "
   ]
  },
  {
   "cell_type": "code",
   "execution_count": null,
   "metadata": {},
   "outputs": [],
   "source": [
    "# 6번\n",
    "text = \"aaabbcccccca\"\n",
    "out=\"\"\n",
    "cnt=1\n",
    "for i in range(1,len(text)):\n",
    "    if text[i] == text[i-1]:\n",
    "        cnt=cnt+1\n",
    "    elif text[i] != text[i-1]:\n",
    "        out+=text[i-1]+str(cnt)\n",
    "        cnt=1\n",
    "    if i == len(text)-1:\n",
    "        out+=text[i]+str(cnt)\n",
    "out\n",
    "\n"
   ]
  },
  {
   "cell_type": "code",
   "execution_count": null,
   "metadata": {},
   "outputs": [],
   "source": [
    "# 7번\n",
    "import random\n",
    "s1=[]\n",
    "ran_num=0\n",
    "while True:\n",
    "    ran_num = random.randint(1,46)\n",
    "    if ran_num in s1:\n",
    "        continue\n",
    "    s1.append(ran_num)\n",
    "    if len(s1)==6:\n",
    "        break\n",
    "print(s1)"
   ]
  },
  {
   "cell_type": "code",
   "execution_count": null,
   "metadata": {},
   "outputs": [],
   "source": [
    "# 8번\n",
    "coffee=10  # 10잔 커피, 1잔에 200원\n",
    "money=1400 # 5천원\n",
    "\n",
    "\n",
    "#잔액이 200원 미만이면 판매가 안되도록\n",
    "while coffee and money>200: # money가 0이 아닌 동안에\n",
    "    print(\"커피가 나옵니다.\")\n",
    "    coffee=coffee-1\n",
    "    money = money - 200\n",
    "    print(\"남은 커피는 %d 잔입니다.\" % coffee)\n",
    "    print('남은 잔액은 %d 원입니다.' % money)\n",
    "    print(\"\")\n",
    "    if coffee ==0:\n",
    "        print(\"커피가 떨어졌습니다. 판매중지\")\n",
    "        break"
   ]
  },
  {
   "cell_type": "code",
   "execution_count": null,
   "metadata": {},
   "outputs": [],
   "source": [
    "# 9번\n",
    "for i in range(100):\n",
    "    for j in range(100):\n",
    "        print(\"\")\n",
    "        if j == int(i):\n",
    "            print(\"*\",end=\"\")\n",
    "        if j == int(i):\n",
    "            print(\"*\",end=\"\")\n",
    "        if j == int(i) + 1:\n",
    "            print(\"*\",end=\"\")\n",
    "    print()\n",
    "        "
   ]
  },
  {
   "cell_type": "code",
   "execution_count": null,
   "metadata": {},
   "outputs": [],
   "source": []
  }
 ],
 "metadata": {
  "kernelspec": {
   "display_name": "Python 3",
   "language": "python",
   "name": "python3"
  },
  "language_info": {
   "codemirror_mode": {
    "name": "ipython",
    "version": 3
   },
   "file_extension": ".py",
   "mimetype": "text/x-python",
   "name": "python",
   "nbconvert_exporter": "python",
   "pygments_lexer": "ipython3",
   "version": "3.7.4"
  }
 },
 "nbformat": 4,
 "nbformat_minor": 2
}
