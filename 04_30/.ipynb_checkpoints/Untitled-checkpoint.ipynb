{
 "cells": [
  {
   "cell_type": "code",
   "execution_count": 113,
   "metadata": {},
   "outputs": [],
   "source": [
    "import tensorflow as tf\n",
    "import numpy as np"
   ]
  },
  {
   "cell_type": "code",
   "execution_count": 114,
   "metadata": {},
   "outputs": [],
   "source": [
    "tf.reset_default_graph()"
   ]
  },
  {
   "cell_type": "code",
   "execution_count": 115,
   "metadata": {},
   "outputs": [],
   "source": [
    "idx2char=['h','i','e','l','o']\n",
    "# hihello 문자열, hihell -> ihello\n",
    "xdata=[[0,1,0,2,3,3]] # hihell (입력)\n",
    "xOneHot=[[                 # 1,6,5\n",
    "    [1,0,0,0,0], # h\n",
    "    [0,1,0,0,0], # i\n",
    "    [1,0,0,0,0], # h\n",
    "    [0,0,1,0,0], # e\n",
    "    [0,0,0,1,0], # l\n",
    "    [0,0,0,1,0], # L\n",
    "]]\n",
    "\n",
    "ydata=[[1,0,2,3,3,4]] # ihello 출력"
   ]
  },
  {
   "cell_type": "code",
   "execution_count": 116,
   "metadata": {},
   "outputs": [],
   "source": [
    "num_classes=5\n",
    "input_dim=5    # 원핫크기\n",
    "hidden_size=5  # RNN(LSTM) CELL에서 출력 크기\n",
    "batch_size=1   # 문장 1개\n",
    "sequence_length=6 # 입출력 되는 문장의 길이\n",
    "learning_rate=0.1"
   ]
  },
  {
   "cell_type": "code",
   "execution_count": 117,
   "metadata": {},
   "outputs": [],
   "source": [
    "x=tf.placeholder(tf.float32, shape=[None,sequence_length, input_dim])\n",
    "y=tf.placeholder(tf.int32, shape=[None,sequence_length])"
   ]
  },
  {
   "cell_type": "code",
   "execution_count": 118,
   "metadata": {},
   "outputs": [],
   "source": [
    "cell=tf.contrib.rnn.BasicLSTMCell(num_units=hidden_size, state_is_tuple=True)\n",
    "initial_state=cell.zero_state(batch_size, tf.float32)\n",
    "outputs, _states=tf.nn.dynamic_rnn( # dynamic_rnn => rnn을 실행하는 함수\n",
    "    cell, x, initial_state=initial_state, dtype=tf.float32\n",
    ")"
   ]
  },
  {
   "cell_type": "code",
   "execution_count": 125,
   "metadata": {},
   "outputs": [],
   "source": [
    "xForFc=tf.reshape(outputs, [-1, hidden_size])\n",
    "outputs=tf.contrib.layers.fully_connected(\n",
    "    inputs=xForFc, num_outputs=num_classes, activation_fn=None\n",
    "    # 층이 여러개면 activation_fn=tf.nn.relu 줘야 함\n",
    ")\n",
    "outputs=tf.reshape(outputs, [batch_size, sequence_length, num_classes])"
   ]
  },
  {
   "cell_type": "code",
   "execution_count": 126,
   "metadata": {},
   "outputs": [],
   "source": [
    "weights=tf.ones([batch_size, sequence_length])"
   ]
  },
  {
   "cell_type": "code",
   "execution_count": 127,
   "metadata": {},
   "outputs": [],
   "source": [
    "sequence_loss=tf.contrib.seq2seq.sequence_loss(\n",
    "    logits=outputs, targets=y, weights=weights\n",
    ")"
   ]
  },
  {
   "cell_type": "code",
   "execution_count": 128,
   "metadata": {},
   "outputs": [],
   "source": [
    "loss=tf.reduce_mean(sequence_loss)\n",
    "train=tf.train.AdadeltaOptimizer(learning_rate).minimize(loss)"
   ]
  },
  {
   "cell_type": "code",
   "execution_count": 129,
   "metadata": {},
   "outputs": [],
   "source": [
    "prediction=tf.argmax(outputs, axis=2)"
   ]
  },
  {
   "cell_type": "code",
   "execution_count": 130,
   "metadata": {},
   "outputs": [
    {
     "name": "stdout",
     "output_type": "stream",
     "text": [
      "0 cost: 1.6438179 prediction: [[0 0 0 0 0 0]] true Y: [[1, 0, 2, 3, 3, 4]]\n",
      "prediction str: hhhhhh\n",
      "1 cost: 1.6436996 prediction: [[0 0 0 0 0 0]] true Y: [[1, 0, 2, 3, 3, 4]]\n",
      "prediction str: hhhhhh\n",
      "2 cost: 1.6435798 prediction: [[0 0 0 0 0 0]] true Y: [[1, 0, 2, 3, 3, 4]]\n",
      "prediction str: hhhhhh\n",
      "3 cost: 1.6434593 prediction: [[0 0 0 0 0 0]] true Y: [[1, 0, 2, 3, 3, 4]]\n",
      "prediction str: hhhhhh\n",
      "4 cost: 1.6433378 prediction: [[0 0 0 0 0 0]] true Y: [[1, 0, 2, 3, 3, 4]]\n",
      "prediction str: hhhhhh\n",
      "5 cost: 1.643216 prediction: [[0 0 0 0 0 0]] true Y: [[1, 0, 2, 3, 3, 4]]\n",
      "prediction str: hhhhhh\n",
      "6 cost: 1.6430936 prediction: [[0 0 0 0 0 0]] true Y: [[1, 0, 2, 3, 3, 4]]\n",
      "prediction str: hhhhhh\n",
      "7 cost: 1.6429709 prediction: [[0 0 0 0 0 0]] true Y: [[1, 0, 2, 3, 3, 4]]\n",
      "prediction str: hhhhhh\n",
      "8 cost: 1.6428479 prediction: [[0 0 0 0 0 0]] true Y: [[1, 0, 2, 3, 3, 4]]\n",
      "prediction str: hhhhhh\n",
      "9 cost: 1.6427245 prediction: [[0 0 0 0 0 0]] true Y: [[1, 0, 2, 3, 3, 4]]\n",
      "prediction str: hhhhhh\n",
      "10 cost: 1.6426009 prediction: [[0 0 0 0 0 0]] true Y: [[1, 0, 2, 3, 3, 4]]\n",
      "prediction str: hhhhhh\n",
      "11 cost: 1.642477 prediction: [[0 0 0 0 0 0]] true Y: [[1, 0, 2, 3, 3, 4]]\n",
      "prediction str: hhhhhh\n",
      "12 cost: 1.642353 prediction: [[0 0 0 0 0 0]] true Y: [[1, 0, 2, 3, 3, 4]]\n",
      "prediction str: hhhhhh\n",
      "13 cost: 1.6422287 prediction: [[0 0 0 0 0 0]] true Y: [[1, 0, 2, 3, 3, 4]]\n",
      "prediction str: hhhhhh\n",
      "14 cost: 1.6421043 prediction: [[0 0 0 0 0 0]] true Y: [[1, 0, 2, 3, 3, 4]]\n",
      "prediction str: hhhhhh\n",
      "15 cost: 1.6419798 prediction: [[0 0 0 0 0 0]] true Y: [[1, 0, 2, 3, 3, 4]]\n",
      "prediction str: hhhhhh\n",
      "16 cost: 1.6418551 prediction: [[0 0 0 0 0 0]] true Y: [[1, 0, 2, 3, 3, 4]]\n",
      "prediction str: hhhhhh\n",
      "17 cost: 1.6417271 prediction: [[0 0 0 0 0 0]] true Y: [[1, 0, 2, 3, 3, 4]]\n",
      "prediction str: hhhhhh\n",
      "18 cost: 1.6415328 prediction: [[0 0 0 0 0 0]] true Y: [[1, 0, 2, 3, 3, 4]]\n",
      "prediction str: hhhhhh\n",
      "19 cost: 1.6413383 prediction: [[0 0 0 0 0 0]] true Y: [[1, 0, 2, 3, 3, 4]]\n",
      "prediction str: hhhhhh\n",
      "20 cost: 1.6411439 prediction: [[0 0 0 0 0 0]] true Y: [[1, 0, 2, 3, 3, 4]]\n",
      "prediction str: hhhhhh\n",
      "21 cost: 1.6409494 prediction: [[0 0 0 0 0 0]] true Y: [[1, 0, 2, 3, 3, 4]]\n",
      "prediction str: hhhhhh\n",
      "22 cost: 1.6407548 prediction: [[0 0 0 0 0 0]] true Y: [[1, 0, 2, 3, 3, 4]]\n",
      "prediction str: hhhhhh\n",
      "23 cost: 1.6405603 prediction: [[0 0 0 0 0 0]] true Y: [[1, 0, 2, 3, 3, 4]]\n",
      "prediction str: hhhhhh\n",
      "24 cost: 1.6403656 prediction: [[0 0 0 0 0 0]] true Y: [[1, 0, 2, 3, 3, 4]]\n",
      "prediction str: hhhhhh\n",
      "25 cost: 1.640171 prediction: [[0 0 0 0 0 0]] true Y: [[1, 0, 2, 3, 3, 4]]\n",
      "prediction str: hhhhhh\n",
      "26 cost: 1.6399764 prediction: [[0 0 0 0 0 0]] true Y: [[1, 0, 2, 3, 3, 4]]\n",
      "prediction str: hhhhhh\n",
      "27 cost: 1.6397816 prediction: [[0 0 0 0 0 0]] true Y: [[1, 0, 2, 3, 3, 4]]\n",
      "prediction str: hhhhhh\n",
      "28 cost: 1.639587 prediction: [[0 0 0 0 0 0]] true Y: [[1, 0, 2, 3, 3, 4]]\n",
      "prediction str: hhhhhh\n",
      "29 cost: 1.6393925 prediction: [[0 0 0 0 0 0]] true Y: [[1, 0, 2, 3, 3, 4]]\n",
      "prediction str: hhhhhh\n",
      "30 cost: 1.6391978 prediction: [[0 0 0 0 0 0]] true Y: [[1, 0, 2, 3, 3, 4]]\n",
      "prediction str: hhhhhh\n",
      "31 cost: 1.6390033 prediction: [[0 0 0 0 0 0]] true Y: [[1, 0, 2, 3, 3, 4]]\n",
      "prediction str: hhhhhh\n",
      "32 cost: 1.6388086 prediction: [[0 0 0 0 0 0]] true Y: [[1, 0, 2, 3, 3, 4]]\n",
      "prediction str: hhhhhh\n",
      "33 cost: 1.638614 prediction: [[0 0 0 0 0 0]] true Y: [[1, 0, 2, 3, 3, 4]]\n",
      "prediction str: hhhhhh\n",
      "34 cost: 1.6384195 prediction: [[0 0 0 0 0 0]] true Y: [[1, 0, 2, 3, 3, 4]]\n",
      "prediction str: hhhhhh\n",
      "35 cost: 1.638225 prediction: [[0 0 0 0 0 0]] true Y: [[1, 0, 2, 3, 3, 4]]\n",
      "prediction str: hhhhhh\n",
      "36 cost: 1.6380305 prediction: [[0 0 0 0 0 0]] true Y: [[1, 0, 2, 3, 3, 4]]\n",
      "prediction str: hhhhhh\n",
      "37 cost: 1.6378359 prediction: [[0 0 0 0 0 0]] true Y: [[1, 0, 2, 3, 3, 4]]\n",
      "prediction str: hhhhhh\n",
      "38 cost: 1.6376816 prediction: [[0 0 0 0 0 0]] true Y: [[1, 0, 2, 3, 3, 4]]\n",
      "prediction str: hhhhhh\n",
      "39 cost: 1.6375443 prediction: [[0 0 0 0 0 0]] true Y: [[1, 0, 2, 3, 3, 4]]\n",
      "prediction str: hhhhhh\n",
      "40 cost: 1.6374068 prediction: [[0 0 0 0 0 0]] true Y: [[1, 0, 2, 3, 3, 4]]\n",
      "prediction str: hhhhhh\n",
      "41 cost: 1.6372695 prediction: [[0 0 0 0 0 0]] true Y: [[1, 0, 2, 3, 3, 4]]\n",
      "prediction str: hhhhhh\n",
      "42 cost: 1.637132 prediction: [[0 0 0 0 0 0]] true Y: [[1, 0, 2, 3, 3, 4]]\n",
      "prediction str: hhhhhh\n",
      "43 cost: 1.6369944 prediction: [[0 0 0 0 0 0]] true Y: [[1, 0, 2, 3, 3, 4]]\n",
      "prediction str: hhhhhh\n",
      "44 cost: 1.6368567 prediction: [[0 0 0 0 0 0]] true Y: [[1, 0, 2, 3, 3, 4]]\n",
      "prediction str: hhhhhh\n",
      "45 cost: 1.6367191 prediction: [[0 0 0 0 0 0]] true Y: [[1, 0, 2, 3, 3, 4]]\n",
      "prediction str: hhhhhh\n",
      "46 cost: 1.6365815 prediction: [[0 0 0 0 0 0]] true Y: [[1, 0, 2, 3, 3, 4]]\n",
      "prediction str: hhhhhh\n",
      "47 cost: 1.636444 prediction: [[0 0 0 0 0 0]] true Y: [[1, 0, 2, 3, 3, 4]]\n",
      "prediction str: hhhhhh\n",
      "48 cost: 1.6363062 prediction: [[0 0 0 0 0 0]] true Y: [[1, 0, 2, 3, 3, 4]]\n",
      "prediction str: hhhhhh\n",
      "49 cost: 1.6361685 prediction: [[0 0 0 0 0 0]] true Y: [[1, 0, 2, 3, 3, 4]]\n",
      "prediction str: hhhhhh\n",
      "50 cost: 1.6360288 prediction: [[0 0 0 0 0 0]] true Y: [[1, 0, 2, 3, 3, 4]]\n",
      "prediction str: hhhhhh\n",
      "51 cost: 1.635887 prediction: [[0 0 0 0 0 0]] true Y: [[1, 0, 2, 3, 3, 4]]\n",
      "prediction str: hhhhhh\n",
      "52 cost: 1.6357454 prediction: [[0 0 0 0 0 0]] true Y: [[1, 0, 2, 3, 3, 4]]\n",
      "prediction str: hhhhhh\n",
      "53 cost: 1.6356035 prediction: [[0 0 0 0 0 0]] true Y: [[1, 0, 2, 3, 3, 4]]\n",
      "prediction str: hhhhhh\n",
      "54 cost: 1.6354617 prediction: [[0 0 0 0 0 0]] true Y: [[1, 0, 2, 3, 3, 4]]\n",
      "prediction str: hhhhhh\n",
      "55 cost: 1.6353198 prediction: [[0 0 0 0 0 0]] true Y: [[1, 0, 2, 3, 3, 4]]\n",
      "prediction str: hhhhhh\n",
      "56 cost: 1.635178 prediction: [[0 0 0 0 0 0]] true Y: [[1, 0, 2, 3, 3, 4]]\n",
      "prediction str: hhhhhh\n",
      "57 cost: 1.635036 prediction: [[0 0 0 0 0 0]] true Y: [[1, 0, 2, 3, 3, 4]]\n",
      "prediction str: hhhhhh\n",
      "58 cost: 1.6348939 prediction: [[0 0 0 0 0 0]] true Y: [[1, 0, 2, 3, 3, 4]]\n",
      "prediction str: hhhhhh\n",
      "59 cost: 1.6347519 prediction: [[0 0 0 0 0 0]] true Y: [[1, 0, 2, 3, 3, 4]]\n",
      "prediction str: hhhhhh\n",
      "60 cost: 1.6346097 prediction: [[0 0 0 0 0 0]] true Y: [[1, 0, 2, 3, 3, 4]]\n",
      "prediction str: hhhhhh\n",
      "61 cost: 1.6344676 prediction: [[0 0 0 0 0 0]] true Y: [[1, 0, 2, 3, 3, 4]]\n",
      "prediction str: hhhhhh\n",
      "62 cost: 1.6343236 prediction: [[0 0 0 0 0 0]] true Y: [[1, 0, 2, 3, 3, 4]]\n",
      "prediction str: hhhhhh\n",
      "63 cost: 1.6341758 prediction: [[0 0 0 0 0 0]] true Y: [[1, 0, 2, 3, 3, 4]]\n",
      "prediction str: hhhhhh\n",
      "64 cost: 1.6340278 prediction: [[0 0 0 0 0 0]] true Y: [[1, 0, 2, 3, 3, 4]]\n",
      "prediction str: hhhhhh\n",
      "65 cost: 1.6338798 prediction: [[0 0 0 0 0 0]] true Y: [[1, 0, 2, 3, 3, 4]]\n",
      "prediction str: hhhhhh\n",
      "66 cost: 1.6337318 prediction: [[0 0 0 0 0 0]] true Y: [[1, 0, 2, 3, 3, 4]]\n",
      "prediction str: hhhhhh\n",
      "67 cost: 1.6335837 prediction: [[0 0 0 0 0 0]] true Y: [[1, 0, 2, 3, 3, 4]]\n",
      "prediction str: hhhhhh\n",
      "68 cost: 1.6334356 prediction: [[0 0 0 0 0 0]] true Y: [[1, 0, 2, 3, 3, 4]]\n",
      "prediction str: hhhhhh\n",
      "69 cost: 1.6332873 prediction: [[0 0 0 0 0 0]] true Y: [[1, 0, 2, 3, 3, 4]]\n",
      "prediction str: hhhhhh\n",
      "70 cost: 1.633139 prediction: [[0 0 0 0 0 0]] true Y: [[1, 0, 2, 3, 3, 4]]\n",
      "prediction str: hhhhhh\n",
      "71 cost: 1.6329905 prediction: [[0 0 0 0 0 0]] true Y: [[1, 0, 2, 3, 3, 4]]\n",
      "prediction str: hhhhhh\n",
      "72 cost: 1.6328421 prediction: [[0 0 0 0 0 0]] true Y: [[1, 0, 2, 3, 3, 4]]\n",
      "prediction str: hhhhhh\n",
      "73 cost: 1.6326936 prediction: [[0 0 0 0 0 0]] true Y: [[1, 0, 2, 3, 3, 4]]\n",
      "prediction str: hhhhhh\n",
      "74 cost: 1.6325451 prediction: [[0 0 0 0 0 0]] true Y: [[1, 0, 2, 3, 3, 4]]\n",
      "prediction str: hhhhhh\n",
      "75 cost: 1.6323963 prediction: [[0 0 0 0 0 0]] true Y: [[1, 0, 2, 3, 3, 4]]\n",
      "prediction str: hhhhhh\n",
      "76 cost: 1.6322476 prediction: [[0 0 0 0 0 0]] true Y: [[1, 0, 2, 3, 3, 4]]\n",
      "prediction str: hhhhhh\n",
      "77 cost: 1.632099 prediction: [[0 0 0 0 0 0]] true Y: [[1, 0, 2, 3, 3, 4]]\n",
      "prediction str: hhhhhh\n",
      "78 cost: 1.63195 prediction: [[0 0 0 0 0 0]] true Y: [[1, 0, 2, 3, 3, 4]]\n",
      "prediction str: hhhhhh\n",
      "79 cost: 1.6318011 prediction: [[0 0 0 0 0 0]] true Y: [[1, 0, 2, 3, 3, 4]]\n",
      "prediction str: hhhhhh\n",
      "80 cost: 1.6316522 prediction: [[0 0 0 0 0 0]] true Y: [[1, 0, 2, 3, 3, 4]]\n",
      "prediction str: hhhhhh\n",
      "81 cost: 1.6315031 prediction: [[0 0 0 0 0 0]] true Y: [[1, 0, 2, 3, 3, 4]]\n",
      "prediction str: hhhhhh\n",
      "82 cost: 1.6313539 prediction: [[0 0 0 0 0 0]] true Y: [[1, 0, 2, 3, 3, 4]]\n",
      "prediction str: hhhhhh\n",
      "83 cost: 1.6312046 prediction: [[0 0 0 0 0 0]] true Y: [[1, 0, 2, 3, 3, 4]]\n",
      "prediction str: hhhhhh\n",
      "84 cost: 1.6310555 prediction: [[0 0 0 0 0 0]] true Y: [[1, 0, 2, 3, 3, 4]]\n",
      "prediction str: hhhhhh\n",
      "85 cost: 1.6309061 prediction: [[0 0 0 0 0 0]] true Y: [[1, 0, 2, 3, 3, 4]]\n",
      "prediction str: hhhhhh\n",
      "86 cost: 1.6307567 prediction: [[0 0 0 0 0 0]] true Y: [[1, 0, 2, 3, 3, 4]]\n",
      "prediction str: hhhhhh\n",
      "87 cost: 1.6306071 prediction: [[0 0 0 0 0 0]] true Y: [[1, 0, 2, 3, 3, 4]]\n",
      "prediction str: hhhhhh\n",
      "88 cost: 1.6304579 prediction: [[0 0 0 0 0 0]] true Y: [[1, 0, 2, 3, 3, 4]]\n",
      "prediction str: hhhhhh\n",
      "89 cost: 1.630308 prediction: [[0 0 0 0 0 0]] true Y: [[1, 0, 2, 3, 3, 4]]\n",
      "prediction str: hhhhhh\n",
      "90 cost: 1.6301609 prediction: [[0 0 0 0 0 0]] true Y: [[1, 0, 2, 3, 3, 4]]\n",
      "prediction str: hhhhhh\n",
      "91 cost: 1.6300617 prediction: [[0 0 0 0 0 0]] true Y: [[1, 0, 2, 3, 3, 4]]\n",
      "prediction str: hhhhhh\n",
      "92 cost: 1.6299624 prediction: [[0 0 0 0 0 0]] true Y: [[1, 0, 2, 3, 3, 4]]\n",
      "prediction str: hhhhhh\n",
      "93 cost: 1.6298628 prediction: [[0 0 0 0 0 0]] true Y: [[1, 0, 2, 3, 3, 4]]\n",
      "prediction str: hhhhhh\n",
      "94 cost: 1.6297632 prediction: [[0 0 0 0 0 0]] true Y: [[1, 0, 2, 3, 3, 4]]\n",
      "prediction str: hhhhhh\n",
      "95 cost: 1.6296638 prediction: [[0 0 0 0 0 0]] true Y: [[1, 0, 2, 3, 3, 4]]\n",
      "prediction str: hhhhhh\n"
     ]
    },
    {
     "name": "stdout",
     "output_type": "stream",
     "text": [
      "96 cost: 1.6295643 prediction: [[0 0 0 0 0 0]] true Y: [[1, 0, 2, 3, 3, 4]]\n",
      "prediction str: hhhhhh\n",
      "97 cost: 1.6294646 prediction: [[0 0 0 0 0 0]] true Y: [[1, 0, 2, 3, 3, 4]]\n",
      "prediction str: hhhhhh\n",
      "98 cost: 1.6293646 prediction: [[0 0 0 0 0 0]] true Y: [[1, 0, 2, 3, 3, 4]]\n",
      "prediction str: hhhhhh\n",
      "99 cost: 1.6292652 prediction: [[0 0 0 0 0 0]] true Y: [[1, 0, 2, 3, 3, 4]]\n",
      "prediction str: hhhhhh\n"
     ]
    }
   ],
   "source": [
    "with tf.Session() as sess:\n",
    "    sess.run(tf.global_variables_initializer())\n",
    "    for i in range(100):\n",
    "        lossv, _=sess.run([loss, train], feed_dict={x:xOneHot, y:ydata})\n",
    "        res=sess.run(prediction, feed_dict={x:xOneHot})\n",
    "        print(i,\"cost:\",lossv,\"prediction:\",res, \"true Y:\",ydata)\n",
    "        \n",
    "        s=[idx2char[c] for c in np.squeeze(res)]\n",
    "        print('prediction str:',''.join(s))"
   ]
  },
  {
   "cell_type": "code",
   "execution_count": 78,
   "metadata": {},
   "outputs": [
    {
     "data": {
      "text/plain": [
       "(1, 2)"
      ]
     },
     "execution_count": 78,
     "metadata": {},
     "output_type": "execute_result"
    }
   ],
   "source": [
    "x=np.array([1,2])\n",
    "x.shape\n",
    "y=np.expand_dims(x, axis=0)\n",
    "y.shape"
   ]
  },
  {
   "cell_type": "code",
   "execution_count": null,
   "metadata": {},
   "outputs": [],
   "source": [
    "y"
   ]
  },
  {
   "cell_type": "code",
   "execution_count": null,
   "metadata": {},
   "outputs": [],
   "source": [
    "x=np.array([1,2])\n",
    "x.shape\n",
    "y=np.expand_dims(x, axis=1)\n",
    "y.shape"
   ]
  },
  {
   "cell_type": "code",
   "execution_count": null,
   "metadata": {},
   "outputs": [],
   "source": [
    "y"
   ]
  },
  {
   "cell_type": "code",
   "execution_count": null,
   "metadata": {},
   "outputs": [],
   "source": [
    "x=np.array([[[0],[1],[2]]])\n",
    "x.shape"
   ]
  },
  {
   "cell_type": "code",
   "execution_count": null,
   "metadata": {},
   "outputs": [],
   "source": [
    "np.squeeze(x)"
   ]
  },
  {
   "cell_type": "code",
   "execution_count": 107,
   "metadata": {},
   "outputs": [],
   "source": [
    "tf.reset_default_graph()"
   ]
  },
  {
   "cell_type": "code",
   "execution_count": 108,
   "metadata": {},
   "outputs": [],
   "source": [
    "hidden_size=2\n",
    "cell=tf.contrib.rnn.BasicLSTMCell(\n",
    "    num_units=hidden_size\n",
    ")"
   ]
  },
  {
   "cell_type": "code",
   "execution_count": 109,
   "metadata": {},
   "outputs": [],
   "source": [
    "xdata=np.array([[[1,0,0,0]]],dtype=np.float32)"
   ]
  },
  {
   "cell_type": "code",
   "execution_count": 111,
   "metadata": {},
   "outputs": [
    {
     "name": "stdout",
     "output_type": "stream",
     "text": [
      "[[[-0.07567751  0.07797448]]]\n"
     ]
    }
   ],
   "source": [
    "sess=tf.Session()\n",
    "outputs, _states=tf.nn.dynamic_rnn(cell, xdata, dtype=np.float32)\n",
    "sess.run(tf.global_variables_initializer())\n",
    "print(sess.run(outputs))"
   ]
  },
  {
   "cell_type": "code",
   "execution_count": null,
   "metadata": {},
   "outputs": [],
   "source": []
  },
  {
   "cell_type": "code",
   "execution_count": 112,
   "metadata": {},
   "outputs": [],
   "source": [
    "tf.reset_default_graph()"
   ]
  },
  {
   "cell_type": "code",
   "execution_count": null,
   "metadata": {},
   "outputs": [],
   "source": [
    "# h -> [1,0,0,0]\n",
    "xdata=np.array([[h,e,l,l,o],\n",
    "               [e,o,l,l,l],\n",
    "               [l,l,e,e,l]],dtype=np.float32)\n",
    "hidden_size=2\n",
    "tf.contrib.rnn.BasicLSTMCell(num_units=hidden_size)"
   ]
  },
  {
   "cell_type": "code",
   "execution_count": null,
   "metadata": {},
   "outputs": [],
   "source": [
    "sess=tf.Session()\n",
    "outputs, _states=tf.nn.dynamic_rnn(cell, xdata, dtype=np.float32)\n",
    "sess.run(tf.global_variables_initializer())\n",
    "print(sess.run(outputs))"
   ]
  },
  {
   "cell_type": "code",
   "execution_count": null,
   "metadata": {},
   "outputs": [],
   "source": []
  },
  {
   "cell_type": "code",
   "execution_count": null,
   "metadata": {},
   "outputs": [],
   "source": []
  },
  {
   "cell_type": "code",
   "execution_count": null,
   "metadata": {},
   "outputs": [],
   "source": []
  }
 ],
 "metadata": {
  "kernelspec": {
   "display_name": "Python 3",
   "language": "python",
   "name": "python3"
  },
  "language_info": {
   "codemirror_mode": {
    "name": "ipython",
    "version": 3
   },
   "file_extension": ".py",
   "mimetype": "text/x-python",
   "name": "python",
   "nbconvert_exporter": "python",
   "pygments_lexer": "ipython3",
   "version": "3.7.4"
  }
 },
 "nbformat": 4,
 "nbformat_minor": 2
}
