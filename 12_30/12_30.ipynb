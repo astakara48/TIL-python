{
 "cells": [
  {
   "cell_type": "code",
   "execution_count": null,
   "metadata": {},
   "outputs": [],
   "source": [
    "\"\"\"\n",
    "동전 종류 : 10원, 50원 ,100원\n",
    "최소의 동전을 사용하여 거스름돈 반환\n",
    "ex) 120원 반환 : 10-12, 50-2/10-2. 100-1/10-2\n",
    "정답 - 100원 1개, 10원2개 => 3개\n",
    "1) 임의의 금액 입력 -> 최소 개수 동전 -> 큰 단위부터\n",
    "\n",
    "동전종류 : 10, 60, 100\n",
    "2) 최소의 동전을 사용하여 거스름돈 반환\n",
    "ex) 120원 반환: 10-12 / 60-2/ 100-1/10-2....\n",
    "정답 : 60-2개\n",
    "=> solution : 완전탐색(backtracking(되추적), DP(동적계획법))\n",
    "\"\"\"\n",
    "\n",
    "\n"
   ]
  },
  {
   "cell_type": "code",
   "execution_count": null,
   "metadata": {},
   "outputs": [],
   "source": [
    "\"\"\"\n",
    "정규식이 기준임\n",
    "1. [] : [] 사이의 문자들과 매치 되는지, [ABCDE] => ABCDE 문자중에서 하나라도 매치가 되는지?\n",
    "[A-K], [0-9], [^0-9]\n",
    "문자열 A : 매치, BLUE : 매치, DRY : 매치, SKY : 매치 X\n",
    "\n",
    "2. \n",
    "    \\d <=> [0-9], \\D <=> [^0-9]\n",
    "    \\w <=> [a-zA-Z0-9_], \\W <=> [^a-zA-Z0-9_]\n",
    "    \n",
    "3.\n",
    ".(dot) : 모든 문자\n",
    "정규식 : a.b <-> a + 모든문자(숫자도 포함) 1개 + b 가 나오면 매치가 된다.\n",
    "문자열 - aab : 매치, abb : 매치, a0b : 매치\n",
    "\n",
    "*(0번 이상 반복)\n",
    "정규식 : ca*t\n",
    "문자열 - ct : 매치, cat : 매치, caaaaaat : 매치\n",
    "\n",
    "+(1번 이상 반복)\n",
    "정규식 : ca+t\n",
    "문자열 - ct : 매치x, cat : 매치, caaaaaat : 매치\n",
    "\n",
    "ca{2}t <=> c + a가 반드시 2번 반복 + t\n",
    "문자열 cat : 매치 x, caat : 매치\n",
    "{2,5} : 2번~5번 반복\n",
    "ca{2,5}t <=> c + a가 2번~5번 반복 + t\n",
    "문자열 cat: 매치, caat : 매치, \n",
    "\n",
    "ca?t : c + a(있어도 되고 없어도 됨) + t\n",
    "\n",
    "\n",
    "\"\"\"\n"
   ]
  },
  {
   "cell_type": "code",
   "execution_count": null,
   "metadata": {},
   "outputs": [],
   "source": [
    "import re\n",
    "print(re.match(\"a.b\",\"abb\"))"
   ]
  },
  {
   "cell_type": "code",
   "execution_count": null,
   "metadata": {},
   "outputs": [],
   "source": [
    "print(re.match(\"[a-zA-Z]\",\"hellohi123\"))\n",
    "print(re.match(\"[a-zA-Z]*\",\"hellohi123\"))\n",
    "print(re.match(\"[a-zA-Z]+\",\"hellohi123\"))\n",
    "print(re.match(\"[a-zA-Z0-9]+\",\"hellohi123\"))\n",
    "print(re.match(\"[가-힣]+\",\"반가워안녕 ㅋㅋㅋ ㅎㅎ\"))\n",
    "print(re.match(\"[ㄱ-ㅎ-가-힣]+\",\"반가워안녕ㅋㅋㅋㅎㅎ\"))\n",
    "print(re.match(\"[^a-zA-Z]+\",\"hellohi123\")) # ^가 [] 안에 있는 경우 not의 의미\n",
    "print(re.match(\"^[a-zA-Z]+\",\"hellohi123\")) # ^가 [] 밖에 있는 경우 패턴 문자로 시작하면 매치\n",
    "print(re.match(\"[^A-Z]\",\"Hello\"))\n",
    "print(re.match(\"^[A-Z]\",\"HELlo\"))"
   ]
  },
  {
   "cell_type": "code",
   "execution_count": null,
   "metadata": {},
   "outputs": [],
   "source": [
    "print(re.match(\"^[0-9]+\",\"123abc456\"))\n",
    "print(re.search(\"[0-9]+$\",\"123abc456\"))\n",
    "# 문자가 끝나는 거는 $ 와 search를 써야 함"
   ]
  },
  {
   "cell_type": "code",
   "execution_count": null,
   "metadata": {},
   "outputs": [],
   "source": [
    "# 특수문자는 앞에 역슬래쉬 \\를 붙여야 함\n",
    "# 수식에서 제곱이 사용됐는지 여부 확인\n",
    "# 중간, 끝에 있는거 확인할 경우 search를 해야 한다.\n",
    "print(re.search(\"[^a-zA-Z0-9]+\",\"3**8\")) #의 8승\n",
    "print(re.match(\"\\*+\",\"3**8\")) #의 8승\n",
    "print(re.search(\"\\*+\",\"3**8\")) #의 8승\n",
    "print(re.match(\"\\D+\",\"aB가10\")) # \\D 숫자가 아닌거\n",
    "print(re.match(\"\\w+\",\"aB가10\")) # 숫자 + 문자 + _\n",
    "print(re.match(\"\\w+\",\"aB가_10\")) # 숫자 + 문자 + _\n",
    "print(re.match(\"\\W+\",\"(#:)\")) # \\W : not ( 숫자 + 문자 + _)\n",
    "print(re.match(\"\\W+\",\"(#:*/-+ -*/)\"))\n",
    "\n",
    "# \\s : whitespace문자, \\n\\r\\f\\t\n",
    "print(re.match(\"\\s+\",\"test\"))\n",
    "print(re.match(\"\\s+\",\" test\"))\n",
    "print(re.match(\"\\s+\",\"  test\"))\n",
    "print(re.match(\"[a-zA-Z0-9\\s]+\",\"test hi 99 안녕\")) #순서 상관없음\n"
   ]
  },
  {
   "cell_type": "code",
   "execution_count": null,
   "metadata": {},
   "outputs": [],
   "source": [
    "# re.compile() # 정규식을 저장하는 함수 => 정규식을 저장하고 있는 객체(패턴)가 return \n",
    "pat = re.compile(\"[0-9]+\")\n",
    "print(pat.match(\"123\"))\n",
    "print(pat.match(\"abc\"))\n",
    "print(pat.match(\"12가나다\"))"
   ]
  },
  {
   "cell_type": "code",
   "execution_count": null,
   "metadata": {},
   "outputs": [],
   "source": [
    "\"\"\"\n",
    "교재 298-302쪽\n",
    "정규식을 작성하는 일반적인 형식\n",
    "1) 패턴을 저장(re.compile 함수)\n",
    "2) 패턴을 사용하여 문자열 검색을 수행\n",
    "(match, search, findall, finditer)\n",
    "match : 문자열의 처음부터 정규식과 매치되는지 조사\n",
    "search : 문자열 전체에 대해서 정규식과 매치되는지 조사\n",
    "findall : 정규식과 매치되는 모든 문자열을 list로 return 해줌\n",
    "finditer : 정규식과 매치되는 모든 문자열을 반복가능 객체로 return\n",
    "\"\"\""
   ]
  },
  {
   "cell_type": "code",
   "execution_count": null,
   "metadata": {},
   "outputs": [],
   "source": [
    "p = re.compile(\"[a-z]+\") # 패턴 저장\n",
    "m=p.match(\"python\")\n",
    "print(m)\n"
   ]
  },
  {
   "cell_type": "code",
   "execution_count": null,
   "metadata": {},
   "outputs": [],
   "source": [
    "m=p.match(\"python\")\n",
    "if m:\n",
    "    print(\"매치가 됨\", m.group()) # 매치된 문자열이 출력\n",
    "else:\n",
    "    print(\"매치가 안됨\")\n",
    "print(m)"
   ]
  },
  {
   "cell_type": "code",
   "execution_count": null,
   "metadata": {},
   "outputs": [],
   "source": [
    "# Search는 문자열 전체대 대해서\n",
    "m=p.search(\"python\")\n",
    "print(m)\n",
    "\n",
    "m=p.search(\"9 python 7 java\")\n",
    "print(m)\n",
    "\n",
    "m=p.findall(\"9 python 7 java\")\n",
    "print(m)"
   ]
  },
  {
   "cell_type": "code",
   "execution_count": null,
   "metadata": {},
   "outputs": [],
   "source": [
    "res=p.findall(\"Life is too short\")\n",
    "print(res)"
   ]
  },
  {
   "cell_type": "code",
   "execution_count": null,
   "metadata": {},
   "outputs": [],
   "source": [
    "res=p.finditer(\"Life is too short\")\n",
    "print(res)"
   ]
  },
  {
   "cell_type": "code",
   "execution_count": null,
   "metadata": {},
   "outputs": [],
   "source": [
    "for r in res:\n",
    "    print(r)"
   ]
  },
  {
   "cell_type": "code",
   "execution_count": null,
   "metadata": {},
   "outputs": [],
   "source": [
    "res=p.finditer(\"Life is too short\")\n",
    "for r in res:\n",
    "    print(r.start()) # 매치 시작 위치\n",
    "    print(r.end())   # 매치 끝 위치\n",
    "    print(r.group()) # 매치 문자열\n",
    "    print(r.span())  # (시작, 끝)"
   ]
  },
  {
   "cell_type": "code",
   "execution_count": null,
   "metadata": {},
   "outputs": [],
   "source": [
    "p=re.compile(\"[a-z]+\")\n",
    "m=p.match(\"multi\")\n",
    "# <=> 같은 의미\n",
    "re.match(\"[a-z]+\",\"multi\")"
   ]
  },
  {
   "cell_type": "code",
   "execution_count": null,
   "metadata": {},
   "outputs": [],
   "source": [
    "# 정규식 컴파일 옵션\n",
    "p=re.compile(\"a.b\") # .은 모든 문자와 매치(\\n 문자 제외)\n",
    "#m=p.match(\"acb\")\n",
    "m=p.match(\"a\\nb\")\n",
    "print(m)\n",
    "\n",
    "# DOTALL 옵션 : .을 사용할때 \\n 문자도 포함하고 하는 경우 \n",
    "p=re.compile(\"a.b\", re.DOTALL) # .은 모든 문자와 매치(\\n 문자 제외)\n",
    "#m=p.match(\"acb\")\n",
    "m=p.match(\"a\\nb\")\n",
    "print(m)\n",
    "\n",
    "# re.I 옵션 : ignorecase는 대소문자 구분없이 \n",
    "p=re.compile(\"[a-z]\")\n",
    "print(p.match(\"python\"))\n",
    "p=re.compile(\"[a-z]\",re.I) # \"[a-z][A-Z]\"\n",
    "print(p.match(\"Python\"))"
   ]
  },
  {
   "cell_type": "code",
   "execution_count": null,
   "metadata": {},
   "outputs": [],
   "source": [
    "#MULTILINE 옵션\n",
    "text = \"\"\"python one\n",
    "python two\n",
    "you need python\n",
    "\"\"\"\n",
    "p=re.compile(\"^python\\s\\w+\")\n",
    "print(p.match(text))\n",
    "print(p.search(text))\n",
    "print(p.findall(text)) # ^를 문자열 전체의 처음에 대해서 적용\n",
    "\n",
    "# 그런데, 내가 원하는 것은 문자열 전체가 아니라 문자열의 각 라인 단위로 ^를 적용\n",
    "p=re.compile(\"^python\\s\\w+\",re.MULTILINE)\n",
    "print(p.findall(text))"
   ]
  },
  {
   "cell_type": "code",
   "execution_count": null,
   "metadata": {},
   "outputs": [],
   "source": [
    "pat=re.compile(\"Bye|Hi\")\n",
    "m=pat.match(\"ByeHello\")\n",
    "m=pat.match(\"HiHello\")\n",
    "m=pat.match(\"Hello\")\n",
    "print(m)"
   ]
  },
  {
   "cell_type": "code",
   "execution_count": null,
   "metadata": {
    "scrolled": true
   },
   "outputs": [],
   "source": [
    "print(re.search(\"^Life\",\"Life is too short\"))\n",
    "# Life로 시작하는 문자열 패턴식을 지정\n",
    "print(re.search(\"short$\",\"Life is too short\"))\n",
    "# short으로 끝나는 문자열 패턴식을 지정"
   ]
  },
  {
   "cell_type": "code",
   "execution_count": null,
   "metadata": {},
   "outputs": [],
   "source": [
    "# grouping : 패턴식 내부의 괄호로 묶어서 표현, 괄호로 묶인 부분이 그룹\n",
    "# xyz 문자열이 계속해서 반복되는지 확인할 수 있는 정규식?\n",
    "# (xyz)+ \n",
    "pat=re.compile(\"(xyz)+\")\n",
    "m=pat.search(\"xyzxyzxyz ok\")\n",
    "print(m.group()) # 매칭된 문자열 확인\n",
    "\n"
   ]
  },
  {
   "cell_type": "code",
   "execution_count": null,
   "metadata": {},
   "outputs": [],
   "source": [
    "\"\"\"\n",
    "kim 010-2345-6789\n",
    "hong 02-1234-5678\n",
    "lee seoul (x)\n",
    "park 010 1234 5656 (x)\n",
    "\"\"\"\n",
    "pat=re.compile(\"\\w+\\s+\\d+[-]\\d+[-]\\d+\")\n",
    "m=pat.search(\"kim 010-2345-6789\")\n",
    "m=pat.search(\"hong 02-1234-5678\")\n",
    "m=pat.search(\"lee seoul\")\n",
    "m=pat.search(\"park 010 1234 5656\")\n",
    "print(m)\n"
   ]
  },
  {
   "cell_type": "code",
   "execution_count": null,
   "metadata": {},
   "outputs": [],
   "source": [
    "pat=re.compile(\"(\\w+)\\s+\\d+[-]\\d+[-]\\d+\")\n",
    "m=pat.search(\"kim 010-2345-6789\")\n",
    "print(m.group())\n",
    "# () : grouping 기호\n",
    "# 이름 grouping => (\\w+)\n",
    "print(m.group(1)) # 첫번째 그룹에 해당되는 문자열\n",
    "#print(m.group(2)) 그룹이 없으므로 에러\\\n",
    "print(m.group(0)) # 매칭된 전체 문자열"
   ]
  },
  {
   "cell_type": "code",
   "execution_count": null,
   "metadata": {},
   "outputs": [],
   "source": [
    "pat=re.compile(\"(\\w+)\\s+(\\d+)[-](\\d+)[-](\\d+)\")\n",
    "m=pat.search(\"kim 010-2345-6789\")\n",
    "print(m.group(0))\n",
    "print(m.group(1))\n",
    "print(m.group(2))\n",
    "print(m.group(3))\n",
    "print(m.group(4))\n"
   ]
  },
  {
   "cell_type": "code",
   "execution_count": null,
   "metadata": {},
   "outputs": [],
   "source": [
    "pat=re.compile(\"(\\w+)\\s+(\\d+)[-]((\\d+)[-](\\d+))\")\n",
    "m=pat.search(\"kim 010-2345-6789\")\n",
    "print(m.group(0)) # 0 -> 전체 출력\n",
    "print(m.group(1)) # 왼쪽부터 출력\n",
    "print(m.group(2))\n",
    "print(m.group(3)) # 괄호가 중첩인 경우 바깥쪽에 있는 것 부터 실행됨\n",
    "print(m.group(4))\n",
    "print(m.group(5))"
   ]
  },
  {
   "cell_type": "code",
   "execution_count": null,
   "metadata": {},
   "outputs": [],
   "source": [
    "# grouping시 이름을 부여 / 그룹단위로 이름을 부여 가능\n",
    "# pat=re.compile(\"(\\w+)\\s+(\\d+)[-]((\\d+)[-](\\d+))\")\n",
    "# 이름 부여\n",
    "# (\\w+) => (?P<name>\\w+)\n",
    "pat=re.compile(\"(?P<name>\\w+)\\s+(\\d+)[-]((\\d+)[-](\\d+))\")\n",
    "m=pat.search(\"kim 010-2345-6789\")\n",
    "print(m.group(0))\n",
    "print(m.group(1))\n",
    "print(m.group(\"name\"))"
   ]
  },
  {
   "cell_type": "code",
   "execution_count": null,
   "metadata": {},
   "outputs": [],
   "source": [
    "# 텍스트 수집 -> 전처리 -> 텍스트를 순자로 변환(인코딩)   ex(워드임베딩) -> 얕은(깊은) 신경망 설계 -> 모델링 -> 분류/예측 등 실행\n",
    "# 워디임베딩 -> 단어를 벡터화 시킴\n",
    "# 얕은 신경망 -> hidden layer가 1개\n",
    "# 깊은 신경망 -> hidden layer가 2개 이상\n"
   ]
  },
  {
   "cell_type": "code",
   "execution_count": null,
   "metadata": {},
   "outputs": [],
   "source": [
    "pat=re.compile(\"red|blue\")\n",
    "p=pat.sub(\"color\",\"blue socks and red shoes\") # 치환하는 함수 \n",
    "# pat.sub(바꿀문자열, 대상문자열)\n",
    "# 해석? 대상문자열에서 패턴이 발견되면 바꿀문자열로 변경해라\n",
    "print(p)"
   ]
  },
  {
   "cell_type": "code",
   "execution_count": null,
   "metadata": {},
   "outputs": [],
   "source": [
    "pat=re.compile(\"are\") # 패턴\n",
    "pat.sub(\"R\", \"You are dozing off. i'm also sleepy.\")\n",
    "# \"You are dozing off. i'm also sleepy.\" 문자열에서\n",
    "# \"are\"이라는 패턴이 발견되면 R로 치환해라\n",
    "\n",
    "pat=re.compile(\"우리나라|한국|코리아|대한민국\")\n",
    "pat.sub(\"대한민국\", \"우리나라 좋은 나라 한국 코리아 대한민국\")\n",
    "#re.compile(\"패턴\")\n",
    "#re.sub(\"바꿀문자열\",\"문자열\")\n",
    "#문자열에서 패턴에 매칭되는 부분은 바꿀문자열로 변경\n",
    "\n",
    "\n"
   ]
  },
  {
   "cell_type": "code",
   "execution_count": null,
   "metadata": {},
   "outputs": [],
   "source": [
    "g=re.match(\"\\d+ \\d+\",\"100 200\")\n",
    "print(g)"
   ]
  },
  {
   "cell_type": "code",
   "execution_count": null,
   "metadata": {},
   "outputs": [],
   "source": [
    "# 함수에서  \"이름\", \"인수\" 추출하는 패턴식\n",
    "# ex)\n",
    "# 함수명 : sumPrice(50)\n",
    "# 함수 이름 : sumPrice\n",
    "# 인수 : 50\n",
    "import re\n",
    "pat=re.compile(\"(?P<func>[a-z]\\w+)[()](?P<arg>\\d+)\")\n",
    "g=re.match(pat,\"sumPrice(50)\")\n",
    "print(g.group(\"func\"))\n",
    "print(g.group(\"arg\"))\n"
   ]
  },
  {
   "cell_type": "code",
   "execution_count": null,
   "metadata": {},
   "outputs": [],
   "source": [
    "print(re.findall(\"[0-9]+\",\"10 20 th 40\"))\n"
   ]
  },
  {
   "cell_type": "code",
   "execution_count": null,
   "metadata": {},
   "outputs": [],
   "source": [
    "#re.compile(\"패턴\")\n",
    "#re.sub(\"바꿀문자열\",\"문자열\")\n",
    "#같은 문장\n",
    "# re.sub(\"패턴\",\"바꿀문자열\",\"문자열\")\n",
    "print(re.sub(\"우리나라|한국|코리아|대한민국\",\"대한민국\", \"우리나라 좋은 나라 한국 코리아 대한민국\"))\n",
    "\n"
   ]
  },
  {
   "cell_type": "code",
   "execution_count": null,
   "metadata": {
    "scrolled": true
   },
   "outputs": [],
   "source": [
    "# sub함수를 활용, 그루핑\n",
    "# park 010-1234-5678 => 010-1234-5678 park\n",
    "pat=re.compile(\"(?P<name>\\w+)\\s+(?P<phone>(\\d+)[-](\\d+)[-](\\d+))\")\n",
    "print(pat.sub(\"\\g<2> \\g<1>\",\"park 010-1234-5678\"))\n",
    "\n"
   ]
  },
  {
   "cell_type": "code",
   "execution_count": null,
   "metadata": {},
   "outputs": [],
   "source": [
    "def toHex(mat):\n",
    "    print(mat)\n",
    "    val=int(mat.group())\n",
    "    return hex(val)"
   ]
  },
  {
   "cell_type": "code",
   "execution_count": null,
   "metadata": {},
   "outputs": [],
   "source": [
    "pat=re.compile(\"\\d+\")\n",
    "pat.sub(toHex,\"call 114, 99 for user code\")\n"
   ]
  },
  {
   "cell_type": "code",
   "execution_count": null,
   "metadata": {},
   "outputs": [],
   "source": [
    "\"\"\"\n",
    "1. 형식에 부합하도록 패턴식 정의\n",
    "emails = [ \n",
    "          'python@mail.example.com', 'python+kr@example.com',              # 올바른 형식\n",
    "          'python-dojang@example.co.kr', 'python_10@example.info',         # 올바른 형식\n",
    "          'python.dojang@e-xample.com',                                    # 올바른 형식\n",
    "          '@example.com', 'python@example', 'python@example-com']          # 잘못된 형식\n",
    "\n",
    "#아이디(점포함)@도메인주소(점포함)\n",
    "                        .com   .co.kr   .net \n",
    "\n",
    "\n",
    "2. 토지 파일 전처리(정규식)\n",
    "-저자명 추출\n",
    "-편 제목 추출\n",
    "ex) 제2편 제목 - 추적과 음모\n",
    "-각 편에 대한 장 구성 정보 출력\n",
    "ex) 제 1편 - ??장으로 구성\n",
    "-인용부호(겹따옴표)로 묶여있는 대사만 추출->챗봇\n",
    " (토지/어린왕자 대사 추출)\n",
    "-치환(양반, 사람 => 사람)\n",
    "\"\"\""
   ]
  },
  {
   "cell_type": "code",
   "execution_count": null,
   "metadata": {},
   "outputs": [],
   "source": [
    "# 1. e-mail 표현하기\n",
    "pat=re.compile(\"(?P<id>[a-zA-Z_+.]+)[@](?P<domain>[a-zA-Z]+[.][a-zA-Z]+)\")\n",
    "g=re.match(pat,\"python+kr@example.com\")\n",
    "try:\n",
    "    g.group()\n",
    "except AttributeError:\n",
    "    print(\"잘못된 표현입니다.\")\n",
    "else:\n",
    "    print(g.group())\n",
    "    print(\"올바른 표현입니다.\")"
   ]
  },
  {
   "cell_type": "code",
   "execution_count": 3,
   "metadata": {
    "scrolled": false
   },
   "outputs": [
    {
     "name": "stdout",
     "output_type": "stream",
     "text": [
      "저자명 :  박경리\n",
      "제1편 어둠의 발소리\n"
     ]
    }
   ],
   "source": [
    "# 2. 토지 파일 읽기\n",
    "import re\n",
    "f=open(\"c:/Users/student/downloads/BEXX0003.txt\",\"r\",encoding=\"UTF-16\")\n",
    "for line in f:\n",
    "    line = f.readlines()\n",
    "   \n",
    "    # 저자명 출력\n",
    "    pat=re.compile(\"\\<author\\>(.*?)\\<\\/author\\>\")\n",
    "    g=re.search(pat,str(line))\n",
    "    print(\"저자명 : \", g.group(1))         # \n",
    "\n",
    "    # 편 제목 추출\n",
    "    pat=re.compile(\"\\<head\\>(.*?)\\<\\/head\\>\")\n",
    "    g=re.search(pat,str(line))\n",
    "    print(g.group(1)) \n",
    "    continue\n",
    "    \n",
    "# pat=re.compile(\"[<head>]+(?P<head>\\w+)[</head>]+\")\n",
    "# g=re.search(pat,\"<author>박경리</author>\")\n",
    "# print(\"저자명 : \",g.group(1))\n",
    "f.close()\n"
   ]
  },
  {
   "cell_type": "code",
   "execution_count": 2,
   "metadata": {},
   "outputs": [
    {
     "ename": "IndentationError",
     "evalue": "unindent does not match any outer indentation level (<tokenize>, line 14)",
     "output_type": "error",
     "traceback": [
      "\u001b[1;36m  File \u001b[1;32m\"<tokenize>\"\u001b[1;36m, line \u001b[1;32m14\u001b[0m\n\u001b[1;33m    </script>\u001b[0m\n\u001b[1;37m    ^\u001b[0m\n\u001b[1;31mIndentationError\u001b[0m\u001b[1;31m:\u001b[0m unindent does not match any outer indentation level\n"
     ]
    }
   ],
   "source": []
  },
  {
   "cell_type": "code",
   "execution_count": null,
   "metadata": {},
   "outputs": [],
   "source": []
  },
  {
   "cell_type": "code",
   "execution_count": null,
   "metadata": {},
   "outputs": [],
   "source": []
  },
  {
   "cell_type": "code",
   "execution_count": null,
   "metadata": {},
   "outputs": [],
   "source": []
  },
  {
   "cell_type": "code",
   "execution_count": 2,
   "metadata": {},
   "outputs": [
    {
     "ename": "AttributeError",
     "evalue": "'NoneType' object has no attribute 'group'",
     "output_type": "error",
     "traceback": [
      "\u001b[1;31m---------------------------------------------------------------------------\u001b[0m",
      "\u001b[1;31mAttributeError\u001b[0m                            Traceback (most recent call last)",
      "\u001b[1;32m<ipython-input-2-f07e5c325670>\u001b[0m in \u001b[0;36m<module>\u001b[1;34m\u001b[0m\n\u001b[0;32m      2\u001b[0m \u001b[0mpat\u001b[0m\u001b[1;33m=\u001b[0m\u001b[0mre\u001b[0m\u001b[1;33m.\u001b[0m\u001b[0mcompile\u001b[0m\u001b[1;33m(\u001b[0m\u001b[1;34m\"\\<author\\>(.*?)+\\<\\/author\\>\"\u001b[0m\u001b[1;33m)\u001b[0m\u001b[1;33m\u001b[0m\u001b[1;33m\u001b[0m\u001b[0m\n\u001b[0;32m      3\u001b[0m \u001b[0mg\u001b[0m\u001b[1;33m=\u001b[0m\u001b[0mre\u001b[0m\u001b[1;33m.\u001b[0m\u001b[0mmatch\u001b[0m\u001b[1;33m(\u001b[0m\u001b[0mpat\u001b[0m\u001b[1;33m,\u001b[0m\u001b[0mline\u001b[0m\u001b[1;33m)\u001b[0m\u001b[1;33m\u001b[0m\u001b[1;33m\u001b[0m\u001b[0m\n\u001b[1;32m----> 4\u001b[1;33m \u001b[0mprint\u001b[0m\u001b[1;33m(\u001b[0m\u001b[1;34m\"저자명 : \"\u001b[0m\u001b[1;33m,\u001b[0m\u001b[0mg\u001b[0m\u001b[1;33m.\u001b[0m\u001b[0mgroup\u001b[0m\u001b[1;33m(\u001b[0m\u001b[1;36m1\u001b[0m\u001b[1;33m)\u001b[0m\u001b[1;33m)\u001b[0m\u001b[1;33m\u001b[0m\u001b[1;33m\u001b[0m\u001b[0m\n\u001b[0m\u001b[0;32m      5\u001b[0m \u001b[1;33m\u001b[0m\u001b[0m\n\u001b[0;32m      6\u001b[0m \u001b[1;31m# '\\[Image\\](.*?)\\[\\/Image\\]'\u001b[0m\u001b[1;33m\u001b[0m\u001b[1;33m\u001b[0m\u001b[1;33m\u001b[0m\u001b[0m\n",
      "\u001b[1;31mAttributeError\u001b[0m: 'NoneType' object has no attribute 'group'"
     ]
    }
   ],
   "source": [
    "line=\"erwqerwqerweqwerweqrqw<author>박경리</author>sdlfjsadlkfq ewlkrjlq3r ewrlkwqejrlkqwjrqewrjweqr werqwelkr ewrklqwjerqk\"\n",
    "pat=re.compile(\"\\<author\\>(.*?)+\\<\\/author\\>\")\n",
    "g=re.match(pat,line)\n",
    "print(\"저자명 : \",g.group(1))\n",
    "\n",
    "# '\\[Image\\](.*?)\\[\\/Image\\]'"
   ]
  },
  {
   "cell_type": "code",
   "execution_count": 1,
   "metadata": {},
   "outputs": [
    {
     "name": "stdout",
     "output_type": "stream",
     "text": [
      "박경리\n"
     ]
    }
   ],
   "source": [
    "import re\n",
    "imagePattern = \"erwqerwqerweqwerweqrqw  <author>박경리</author>sdlfjsadlkfq ewlkrjlq3r ewrlkwqejrlkqwjrqewrjweqr werqwelkr ewrklqwjerqk\"\n",
    "pat=re.compile(\"\\<author\\>(.*?)\\<\\/author\\>\")\n",
    "m = re.search(pat, imagePattern)\n",
    "print(m.group(1))"
   ]
  },
  {
   "cell_type": "code",
   "execution_count": null,
   "metadata": {},
   "outputs": [],
   "source": []
  },
  {
   "cell_type": "code",
   "execution_count": null,
   "metadata": {},
   "outputs": [],
   "source": []
  },
  {
   "cell_type": "code",
   "execution_count": null,
   "metadata": {},
   "outputs": [],
   "source": []
  },
  {
   "cell_type": "code",
   "execution_count": null,
   "metadata": {},
   "outputs": [],
   "source": []
  },
  {
   "cell_type": "code",
   "execution_count": null,
   "metadata": {},
   "outputs": [],
   "source": []
  }
 ],
 "metadata": {
  "kernelspec": {
   "display_name": "Python 3",
   "language": "python",
   "name": "python3"
  },
  "language_info": {
   "codemirror_mode": {
    "name": "ipython",
    "version": 3
   },
   "file_extension": ".py",
   "mimetype": "text/x-python",
   "name": "python",
   "nbconvert_exporter": "python",
   "pygments_lexer": "ipython3",
   "version": "3.7.4"
  }
 },
 "nbformat": 4,
 "nbformat_minor": 2
}
