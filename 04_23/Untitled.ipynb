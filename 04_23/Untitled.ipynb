{
 "cells": [
  {
   "cell_type": "code",
   "execution_count": 1,
   "metadata": {},
   "outputs": [],
   "source": [
    "import numpy as np\n",
    "import tensorflow as tf\n",
    "import matplotlib.pyplot as plt"
   ]
  },
  {
   "cell_type": "code",
   "execution_count": null,
   "metadata": {},
   "outputs": [],
   "source": [
    "image=np.array([1,2,3,4,5,6,7,8,9],dtype=np.float32).reshape(1,3,3,1)"
   ]
  },
  {
   "cell_type": "code",
   "execution_count": null,
   "metadata": {},
   "outputs": [],
   "source": [
    "plt.imshow(image.reshape(3,3), cmap='Greys')"
   ]
  },
  {
   "cell_type": "code",
   "execution_count": null,
   "metadata": {},
   "outputs": [],
   "source": [
    "weight=tf.constant([[[[1.]],[[1.]]],\n",
    "                    [[[1.]],[[1.]]]])\n",
    "print(weight.shape)"
   ]
  },
  {
   "cell_type": "code",
   "execution_count": null,
   "metadata": {},
   "outputs": [],
   "source": [
    "sess=tf.InteractiveSession() # eval할려면 InteractiveSession() 해야함\n",
    "conv2d=tf.nn.conv2d(image,weight,strides=[1,1,1,1], padding='VALID') # 1, 좌우1, 위아래1, 1 // VALID \n",
    "conv2dImg=conv2d.eval() # 합성곱 연산"
   ]
  },
  {
   "cell_type": "code",
   "execution_count": null,
   "metadata": {},
   "outputs": [],
   "source": [
    "conv2dImg.shape\n",
    "conv2dImg"
   ]
  },
  {
   "cell_type": "code",
   "execution_count": null,
   "metadata": {},
   "outputs": [],
   "source": [
    "for i, img in enumerate(conv2dImg):\n",
    "    print(img.reshape(2,2))\n",
    "    plt.subplot(1,2,i+1)\n",
    "    plt.imshow(img.reshape(2,2), cmap='gray')"
   ]
  },
  {
   "cell_type": "code",
   "execution_count": null,
   "metadata": {},
   "outputs": [],
   "source": [
    "conv2d=tf.nn.conv2d(image,weight,strides=[1,1,1,1], padding='SAME')\n",
    "conv2dImg=conv2d.eval()"
   ]
  },
  {
   "cell_type": "code",
   "execution_count": null,
   "metadata": {},
   "outputs": [],
   "source": [
    "conv2dImg.shape"
   ]
  },
  {
   "cell_type": "code",
   "execution_count": null,
   "metadata": {
    "scrolled": true
   },
   "outputs": [],
   "source": [
    "for i, img in enumerate(conv2dImg):\n",
    "    print(img.reshape(3,3))\n",
    "    plt.subplot(1,2,i+1)\n",
    "    plt.imshow(img.reshape(3,3), cmap='gray')"
   ]
  },
  {
   "cell_type": "code",
   "execution_count": 2,
   "metadata": {},
   "outputs": [],
   "source": [
    "# mnist 데이터 -> cnn 모델\n",
    "import random\n",
    "from tensorflow.examples.tutorials.mnist import input_data"
   ]
  },
  {
   "cell_type": "code",
   "execution_count": 3,
   "metadata": {},
   "outputs": [
    {
     "name": "stdout",
     "output_type": "stream",
     "text": [
      "WARNING:tensorflow:From <ipython-input-3-8fff32bca56b>:1: read_data_sets (from tensorflow.contrib.learn.python.learn.datasets.mnist) is deprecated and will be removed in a future version.\n",
      "Instructions for updating:\n",
      "Please use alternatives such as official/mnist/dataset.py from tensorflow/models.\n",
      "WARNING:tensorflow:From C:\\Users\\student\\Anaconda3\\lib\\site-packages\\tensorflow_core\\contrib\\learn\\python\\learn\\datasets\\mnist.py:260: maybe_download (from tensorflow.contrib.learn.python.learn.datasets.base) is deprecated and will be removed in a future version.\n",
      "Instructions for updating:\n",
      "Please write your own downloading logic.\n",
      "WARNING:tensorflow:From C:\\Users\\student\\Anaconda3\\lib\\site-packages\\tensorflow_core\\contrib\\learn\\python\\learn\\datasets\\mnist.py:262: extract_images (from tensorflow.contrib.learn.python.learn.datasets.mnist) is deprecated and will be removed in a future version.\n",
      "Instructions for updating:\n",
      "Please use tf.data to implement this functionality.\n",
      "Extracting MNIST_data/train-images-idx3-ubyte.gz\n",
      "WARNING:tensorflow:From C:\\Users\\student\\Anaconda3\\lib\\site-packages\\tensorflow_core\\contrib\\learn\\python\\learn\\datasets\\mnist.py:267: extract_labels (from tensorflow.contrib.learn.python.learn.datasets.mnist) is deprecated and will be removed in a future version.\n",
      "Instructions for updating:\n",
      "Please use tf.data to implement this functionality.\n",
      "Extracting MNIST_data/train-labels-idx1-ubyte.gz\n",
      "WARNING:tensorflow:From C:\\Users\\student\\Anaconda3\\lib\\site-packages\\tensorflow_core\\contrib\\learn\\python\\learn\\datasets\\mnist.py:110: dense_to_one_hot (from tensorflow.contrib.learn.python.learn.datasets.mnist) is deprecated and will be removed in a future version.\n",
      "Instructions for updating:\n",
      "Please use tf.one_hot on tensors.\n",
      "Extracting MNIST_data/t10k-images-idx3-ubyte.gz\n",
      "Extracting MNIST_data/t10k-labels-idx1-ubyte.gz\n",
      "WARNING:tensorflow:From C:\\Users\\student\\Anaconda3\\lib\\site-packages\\tensorflow_core\\contrib\\learn\\python\\learn\\datasets\\mnist.py:290: DataSet.__init__ (from tensorflow.contrib.learn.python.learn.datasets.mnist) is deprecated and will be removed in a future version.\n",
      "Instructions for updating:\n",
      "Please use alternatives such as official/mnist/dataset.py from tensorflow/models.\n"
     ]
    }
   ],
   "source": [
    "mnist=input_data.read_data_sets(\"MNIST_data/\", one_hot=True)"
   ]
  },
  {
   "cell_type": "code",
   "execution_count": 4,
   "metadata": {},
   "outputs": [],
   "source": [
    "# hyper parameter\n",
    "lr=0.01\n",
    "epochs=15\n",
    "batch_size=100"
   ]
  },
  {
   "cell_type": "code",
   "execution_count": 5,
   "metadata": {},
   "outputs": [],
   "source": [
    "x=tf.placeholder(tf.float32,[None,28*28])\n",
    "xImg=tf.reshape(x, [-1,28,28,1]) # None==-1\n",
    "y=tf.placeholder(tf.float32, [None,10])"
   ]
  },
  {
   "cell_type": "code",
   "execution_count": 6,
   "metadata": {},
   "outputs": [
    {
     "name": "stdout",
     "output_type": "stream",
     "text": [
      "WARNING:tensorflow:From <ipython-input-6-1eb6abf672c6>:13: calling dropout (from tensorflow.python.ops.nn_ops) with keep_prob is deprecated and will be removed in a future version.\n",
      "Instructions for updating:\n",
      "Please use `rate` instead of `keep_prob`. Rate should be set to `rate = 1 - keep_prob`.\n",
      "WARNING:tensorflow:\n",
      "The TensorFlow contrib module will not be included in TensorFlow 2.0.\n",
      "For more information, please see:\n",
      "  * https://github.com/tensorflow/community/blob/master/rfcs/20180907-contrib-sunset.md\n",
      "  * https://github.com/tensorflow/addons\n",
      "  * https://github.com/tensorflow/io (for I/O related ops)\n",
      "If you depend on functionality not listed there, please file an issue.\n",
      "\n",
      "에폭: 0001 cost= 0.18303\n",
      "에폭: 0002 cost= 0.09319\n",
      "에폭: 0003 cost= 0.08426\n",
      "에폭: 0004 cost= 0.07383\n",
      "에폭: 0005 cost= 0.07516\n",
      "에폭: 0006 cost= 0.07276\n",
      "에폭: 0007 cost= 0.07092\n",
      "에폭: 0008 cost= 0.06739\n",
      "에폭: 0009 cost= 0.07400\n",
      "에폭: 0010 cost= 0.06485\n",
      "에폭: 0011 cost= 0.06754\n",
      "에폭: 0012 cost= 0.06409\n",
      "에폭: 0013 cost= 0.06550\n",
      "에폭: 0014 cost= 0.06438\n",
      "에폭: 0015 cost= 0.06583\n",
      "accuracy: 0.9868\n"
     ]
    }
   ],
   "source": [
    "# tf.reset_default_graph()\n",
    "# 입력 이미지 shape:(?, 28, 28, 1)\n",
    "# 히든1 weight(w1=필터)\n",
    "keep_prob=tf.placeholder(tf.float32)\n",
    "w1=tf.Variable(tf.random_normal([3,3,1,32], stddev=0.01))\n",
    "# 3,3:필터의 높이와 너비, 1:채널의 개수, 32:필터의 개수\n",
    "#conv->(?,28,28,32)\n",
    "#relu->(?,28,28,32)\n",
    "#pool->(?,14,14,32)\n",
    "L1=tf.nn.conv2d(xImg,w1,strides=[1,1,1,1], padding=\"SAME\")\n",
    "L1=tf.nn.relu(L1)\n",
    "L1=tf.nn.max_pool(L1, ksize=[1,2,2,1], strides=[1,2,2,1], padding='SAME')\n",
    "L1=tf.nn.dropout(L1,keep_prob=keep_prob)\n",
    "\n",
    "\n",
    "w2=tf.Variable(tf.random_normal([3,3,32,64], stddev=0.01)) # 위에 필터의 개수가 채널의 개수로, 필터의 개수는 원하는 만큼\n",
    "#conv->(?,14,14,64)\n",
    "#relu->(?,14,14,64)\n",
    "#pool->(?,7,7,64)\n",
    "#fflat ->(?,3136)\n",
    "L2=tf.nn.conv2d(L1, w2, strides=[1,1,1,1], padding=\"SAME\")\n",
    "L2=tf.nn.relu(L2)\n",
    "L2=tf.nn.max_pool(L2, ksize=[1,2,2,1], strides=[1,2,2,1], padding=\"SAME\")\n",
    "L2=tf.nn.dropout(L2,keep_prob=keep_prob)\n",
    "L2_flat=tf.reshape(L2, [-1,7*7*64])\n",
    "\n",
    "\n",
    "# 마지막 계층 FC 7*7*64 -> 10 output\n",
    "w3=tf.get_variable('w3', shape=[7*7*64,10], initializer=tf.contrib.layers.xavier_initializer())\n",
    "b=tf.Variable(tf.random_normal([10]))\n",
    "\n",
    "hf=tf.matmul(L2_flat,w3)+b\n",
    "\n",
    "cost=tf.reduce_mean(tf.nn.softmax_cross_entropy_with_logits_v2(logits=hf, labels=y))\n",
    "opt=tf.train.AdamOptimizer(lr).minimize(cost)\n",
    "\n",
    "sess=tf.Session()\n",
    "sess.run(tf.global_variables_initializer())\n",
    "\n",
    "for epoch in range(epochs):\n",
    "    avgCost=0\n",
    "    totalBatch=int(mnist.train.num_examples/batch_size)\n",
    "    for i in range(totalBatch):\n",
    "        batchX,batchY=mnist.train.next_batch(batch_size)\n",
    "        fd={x:batchX,y:batchY, keep_prob:0.7}\n",
    "        cv, _=sess.run([cost,opt],feed_dict=fd)\n",
    "        avgCost+=cv/totalBatch\n",
    "    print('에폭:','%04d' %(epoch+1),'cost={:.5f}'.format(avgCost))\n",
    "pred=tf.equal(tf.argmax(hf,1),tf.argmax(y,1))\n",
    "acc=tf.reduce_mean(tf.cast(pred, tf.float32))\n",
    "print('accuracy:', sess.run(acc, feed_dict={x:mnist.test.images, y:mnist.test.labels, keep_prob:1}))\n"
   ]
  },
  {
   "cell_type": "code",
   "execution_count": null,
   "metadata": {},
   "outputs": [],
   "source": []
  }
 ],
 "metadata": {
  "kernelspec": {
   "display_name": "Python 3",
   "language": "python",
   "name": "python3"
  },
  "language_info": {
   "codemirror_mode": {
    "name": "ipython",
    "version": 3
   },
   "file_extension": ".py",
   "mimetype": "text/x-python",
   "name": "python",
   "nbconvert_exporter": "python",
   "pygments_lexer": "ipython3",
   "version": "3.7.4"
  }
 },
 "nbformat": 4,
 "nbformat_minor": 2
}
