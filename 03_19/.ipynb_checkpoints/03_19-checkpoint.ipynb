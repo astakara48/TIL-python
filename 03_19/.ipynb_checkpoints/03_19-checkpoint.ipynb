{
 "cells": [
  {
   "cell_type": "code",
   "execution_count": 1,
   "metadata": {},
   "outputs": [],
   "source": [
    "import numpy as np"
   ]
  },
  {
   "cell_type": "code",
   "execution_count": 38,
   "metadata": {},
   "outputs": [
    {
     "name": "stdout",
     "output_type": "stream",
     "text": [
      "0\n",
      "0\n",
      "0\n",
      "1\n"
     ]
    }
   ],
   "source": [
    "def AND(x1,x2):\n",
    "    x=np.array([x1,x2])\n",
    "    w=np.array([0.5,0.5])\n",
    "    b=-0.6\n",
    "    hf=np.sum(w*x)+b\n",
    "    \n",
    "    if hf>0:\n",
    "        return 1\n",
    "    else:\n",
    "        return 0\n",
    "    \n",
    "for data in [(0,0),(0,1),(1,0),(1,1)]:\n",
    "    print(AND(data[0],data[1]))"
   ]
  },
  {
   "cell_type": "code",
   "execution_count": 43,
   "metadata": {},
   "outputs": [
    {
     "name": "stdout",
     "output_type": "stream",
     "text": [
      "1\n",
      "1\n",
      "1\n",
      "0\n"
     ]
    }
   ],
   "source": [
    "def NAND(x1,x2):\n",
    "    x=np.array([x1,x2])\n",
    "    w=np.array([-0.5,-0.5])\n",
    "    b=0.6\n",
    "    hf=np.sum(w*x)+b\n",
    "    \n",
    "    if hf>0:\n",
    "        return 1\n",
    "    else:\n",
    "        return 0\n",
    "    \n",
    "for data in [(0,0),(0,1),(1,0),(1,1)]:\n",
    "    print(NAND(data[0],data[1]))"
   ]
  },
  {
   "cell_type": "code",
   "execution_count": 44,
   "metadata": {},
   "outputs": [
    {
     "name": "stdout",
     "output_type": "stream",
     "text": [
      "0\n",
      "1\n",
      "1\n",
      "1\n"
     ]
    }
   ],
   "source": [
    "def OR(x1,x2):\n",
    "    x=np.array([x1,x2])\n",
    "    w=np.array([0.5,0.5])\n",
    "    b=-0.4\n",
    "    hf=np.sum(w*x)+b\n",
    "    \n",
    "    if hf>0:\n",
    "        return 1\n",
    "    else:\n",
    "        return 0\n",
    "    \n",
    "for data in [(0,0),(0,1),(1,0),(1,1)]:\n",
    "    print(OR(data[0],data[1]))"
   ]
  },
  {
   "cell_type": "code",
   "execution_count": 46,
   "metadata": {},
   "outputs": [
    {
     "name": "stdout",
     "output_type": "stream",
     "text": [
      "1\n",
      "0\n",
      "0\n",
      "0\n"
     ]
    }
   ],
   "source": [
    "def NOR(x1,x2):\n",
    "    x=np.array([x1,x2])\n",
    "    w=np.array([-0.5,-0.5])\n",
    "    b=0.4\n",
    "    hf=np.sum(w*x)+b\n",
    "    \n",
    "    if hf>0:\n",
    "        return 1\n",
    "    else:\n",
    "        return 0\n",
    "    \n",
    "for data in [(0,0),(0,1),(1,0),(1,1)]:\n",
    "    print(NOR(data[0],data[1]))"
   ]
  },
  {
   "cell_type": "code",
   "execution_count": 52,
   "metadata": {},
   "outputs": [
    {
     "name": "stdout",
     "output_type": "stream",
     "text": [
      "0\n",
      "1\n",
      "1\n",
      "0\n"
     ]
    }
   ],
   "source": [
    "def XOR(x1,x2):\n",
    "    return AND(OR(x1,x2),NAND(x1,x2))\n",
    "    \n",
    "for data in [(0,0),(0,1),(1,0),(1,1)]:\n",
    "    print(XOR(data[0],data[1]))"
   ]
  },
  {
   "cell_type": "code",
   "execution_count": 62,
   "metadata": {},
   "outputs": [
    {
     "data": {
      "image/png": "[encoded data removed]",
      "text/plain": [
       "<Figure size 432x288 with 1 Axes>"
      ]
     },
     "metadata": {
      "needs_background": "light"
     },
     "output_type": "display_data"
    }
   ],
   "source": [
    "import matplotlib.pyplot as plt\n",
    "\n",
    "def myStep(x):\n",
    "    return np.array(x>0, dtype=np.int)\n",
    "    \n",
    "x=np.arange(-3, 3, 0.1)\n",
    "y=myStep(x)\n",
    "plt.plot(x, y)\n",
    "plt.ylim(-0.1,1,1)\n",
    "plt.show()"
   ]
  },
  {
   "cell_type": "code",
   "execution_count": 67,
   "metadata": {},
   "outputs": [
    {
     "data": {
      "image/png": "[encoded data removed]",
      "text/plain": [
       "<Figure size 432x288 with 1 Axes>"
      ]
     },
     "metadata": {
      "needs_background": "light"
     },
     "output_type": "display_data"
    }
   ],
   "source": [
    "def mySig(x):\n",
    "    return 1/(1+np.exp(-x))\n",
    "    \n",
    "x=np.arange(-5, 5, 0.1)\n",
    "y=mySig(x)\n",
    "plt.plot(x, y)\n",
    "plt.ylim(-0.1,1,1)\n",
    "plt.show()\n",
    "\"\"\"\n",
    "선형함수 : 출력이 입력값에 상수배 만큼 변하는 함수\n",
    "f(x)=ax+b => 1개의 직선\n",
    "비선형함수 : 1개의 직선으로는 그릴 수 없는 함수\n",
    "\"\"\""
   ]
  },
  {
   "cell_type": "code",
   "execution_count": 76,
   "metadata": {},
   "outputs": [
    {
     "data": {
      "image/png": "[encoded data removed]",
      "text/plain": [
       "<Figure size 432x288 with 1 Axes>"
      ]
     },
     "metadata": {
      "needs_background": "light"
     },
     "output_type": "display_data"
    }
   ],
   "source": [
    "def myRelu(x):\n",
    "    return np.maximum(0,x)\n",
    "    \n",
    "x=np.arange(-3, 3, 0.1)\n",
    "y=myRelu(x)\n",
    "plt.plot(x, y)\n",
    "plt.ylim(-0.1,1,1)\n",
    "plt.show()"
   ]
  },
  {
   "cell_type": "code",
   "execution_count": null,
   "metadata": {},
   "outputs": [],
   "source": []
  }
 ],
 "metadata": {
  "kernelspec": {
   "display_name": "Python 3",
   "language": "python",
   "name": "python3"
  },
  "language_info": {
   "codemirror_mode": {
    "name": "ipython",
    "version": 3
   },
   "file_extension": ".py",
   "mimetype": "text/x-python",
   "name": "python",
   "nbconvert_exporter": "python",
   "pygments_lexer": "ipython3",
   "version": "3.7.4"
  }
 },
 "nbformat": 4,
 "nbformat_minor": 2
}
