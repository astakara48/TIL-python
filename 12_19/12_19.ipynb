{
 "cells": [
  {
   "cell_type": "code",
   "execution_count": 11,
   "metadata": {},
   "outputs": [
    {
     "ename": "TypeError",
     "evalue": "'tuple' object does not support item assignment",
     "output_type": "error",
     "traceback": [
      "\u001b[1;31m---------------------------------------------------------------------------\u001b[0m",
      "\u001b[1;31mTypeError\u001b[0m                                 Traceback (most recent call last)",
      "\u001b[1;32m<ipython-input-11-b3f8f116fdba>\u001b[0m in \u001b[0;36m<module>\u001b[1;34m\u001b[0m\n\u001b[0;32m     18\u001b[0m \u001b[0ma3\u001b[0m\u001b[1;33m=\u001b[0m\u001b[1;33m(\u001b[0m\u001b[1;34m'john'\u001b[0m\u001b[1;33m,\u001b[0m\u001b[1;36m25\u001b[0m\u001b[1;33m,\u001b[0m\u001b[1;36m180.5\u001b[0m\u001b[1;33m,\u001b[0m\u001b[1;32mTrue\u001b[0m\u001b[1;33m)\u001b[0m\u001b[1;33m\u001b[0m\u001b[1;33m\u001b[0m\u001b[0m\n\u001b[0;32m     19\u001b[0m \u001b[0ma3\u001b[0m\u001b[1;33m\u001b[0m\u001b[1;33m\u001b[0m\u001b[0m\n\u001b[1;32m---> 20\u001b[1;33m \u001b[0ma3\u001b[0m\u001b[1;33m[\u001b[0m\u001b[1;36m1\u001b[0m\u001b[1;33m]\u001b[0m\u001b[1;33m=\u001b[0m\u001b[1;36m50\u001b[0m\u001b[1;33m\u001b[0m\u001b[1;33m\u001b[0m\u001b[0m\n\u001b[0m",
      "\u001b[1;31mTypeError\u001b[0m: 'tuple' object does not support item assignment"
     ]
    }
   ],
   "source": [
    "\"\"\"\n",
    "자료구조 : 자료를 저장 및 관리하는 방법\n",
    "알고리즘 : 문제를 해결하는 방법\n",
    "\n",
    "튜플() : 리스트[]와 유사\n",
    "리스트는 생성, 삭제, 수정 가능\n",
    "튜플은 변경을 할 수 없음 -> 추가, 삭제, 수정 다 안됨\n",
    "\"\"\"\n",
    "\n",
    "a=(3,2,5,6,1) # 튜플\n",
    "a\n",
    "a=3,2,5,6,1 # 튜플, 괄호를 해줘야 가독성때문에 좋다\n",
    "a\n",
    "a1=()\n",
    "a2=5, # 값을 1개 저장한 튜플을 정의할 때는 뒤에 , 를 \n",
    "a2\n",
    "type(a2)\n",
    "a3=('john',25,180.5,True)\n",
    "a3\n",
    "# a3[1]=50  -> 에러 발생\n",
    "\n",
    "# 튜플은 변경이 안되므로, 데이터가 계속 유지 되어야 하는 경우 "
   ]
  },
  {
   "cell_type": "code",
   "execution_count": 14,
   "metadata": {},
   "outputs": [
    {
     "data": {
      "text/plain": [
       "(0, 1, 2, 3, 4, 5, 6, 7, 8, 9)"
      ]
     },
     "execution_count": 14,
     "metadata": {},
     "output_type": "execute_result"
    }
   ],
   "source": [
    "a=tuple(range(10))\n",
    "a"
   ]
  },
  {
   "cell_type": "code",
   "execution_count": 20,
   "metadata": {},
   "outputs": [
    {
     "data": {
      "text/plain": [
       "[1, 2, 3]"
      ]
     },
     "execution_count": 20,
     "metadata": {},
     "output_type": "execute_result"
    }
   ],
   "source": [
    "\"\"\"\n",
    "튜플 <-> 리스트 상호 변환이 가능하다\n",
    "\"\"\"\n",
    "\n",
    "a=[1,2,3]\n",
    "a\n",
    "a = tuple(a)\n",
    "a\n",
    "a = list(a)\n",
    "a"
   ]
  },
  {
   "cell_type": "code",
   "execution_count": 21,
   "metadata": {},
   "outputs": [
    {
     "data": {
      "text/plain": [
       "['h', 'e', 'l', 'l', 'o']"
      ]
     },
     "execution_count": 21,
     "metadata": {},
     "output_type": "execute_result"
    }
   ],
   "source": [
    "list('hello') # 문자 하나하나가 요소로 list에 들어감"
   ]
  },
  {
   "cell_type": "code",
   "execution_count": 22,
   "metadata": {},
   "outputs": [
    {
     "data": {
      "text/plain": [
       "('h', 'e', 'l', 'l', 'o')"
      ]
     },
     "execution_count": 22,
     "metadata": {},
     "output_type": "execute_result"
    }
   ],
   "source": [
    "tuple('hello') # 문자 하나하나가 요소로 tuple에 들어감"
   ]
  },
  {
   "cell_type": "code",
   "execution_count": 26,
   "metadata": {},
   "outputs": [
    {
     "ename": "ValueError",
     "evalue": "too many values to unpack (expected 2)",
     "output_type": "error",
     "traceback": [
      "\u001b[1;31m---------------------------------------------------------------------------\u001b[0m",
      "\u001b[1;31mValueError\u001b[0m                                Traceback (most recent call last)",
      "\u001b[1;32m<ipython-input-26-ad6c771375a0>\u001b[0m in \u001b[0;36m<module>\u001b[1;34m\u001b[0m\n\u001b[1;32m----> 1\u001b[1;33m \u001b[0mx\u001b[0m\u001b[1;33m,\u001b[0m\u001b[0my\u001b[0m\u001b[1;33m=\u001b[0m\u001b[1;33m[\u001b[0m\u001b[1;36m1\u001b[0m\u001b[1;33m,\u001b[0m\u001b[1;36m2\u001b[0m\u001b[1;33m,\u001b[0m\u001b[1;36m3\u001b[0m\u001b[1;33m]\u001b[0m\u001b[1;33m\u001b[0m\u001b[1;33m\u001b[0m\u001b[0m\n\u001b[0m\u001b[0;32m      2\u001b[0m \u001b[0mprint\u001b[0m\u001b[1;33m(\u001b[0m\u001b[0mx\u001b[0m\u001b[1;33m,\u001b[0m\u001b[0my\u001b[0m\u001b[1;33m)\u001b[0m\u001b[1;33m\u001b[0m\u001b[1;33m\u001b[0m\u001b[0m\n",
      "\u001b[1;31mValueError\u001b[0m: too many values to unpack (expected 2)"
     ]
    }
   ],
   "source": [
    "x,y=[1,2]\n",
    "print(x,y)"
   ]
  },
  {
   "cell_type": "code",
   "execution_count": 31,
   "metadata": {},
   "outputs": [],
   "source": [
    "x,y=(1,2)\n",
    "x\n",
    "y\n",
    "# unpacking : 리스트(튜플)의 요소를 여러개의 변수에 할당하는 것\n",
    "# packing : 변수에 리스트 또는 튜플을 할당하는 것\n",
    "\n",
    "a=[1,2,3] # 리스트 packing\n",
    "b=(1,2,3) # 튜플 packing"
   ]
  },
  {
   "cell_type": "code",
   "execution_count": 38,
   "metadata": {},
   "outputs": [
    {
     "data": {
      "text/plain": [
       "4"
      ]
     },
     "execution_count": 38,
     "metadata": {},
     "output_type": "execute_result"
    }
   ],
   "source": [
    "t1=(1,2,'x','y')\n",
    "t1\n",
    "# del t1[0]\n",
    "# t1[0] = 5\n",
    "t1[1:]\n",
    "t2=(3,4)\n",
    "t1+t2\n",
    "t2*3\n",
    "len(t1)"
   ]
  },
  {
   "cell_type": "code",
   "execution_count": 43,
   "metadata": {},
   "outputs": [
    {
     "data": {
      "text/plain": [
       "True"
      ]
     },
     "execution_count": 43,
     "metadata": {},
     "output_type": "execute_result"
    }
   ],
   "source": [
    "# 시퀀스형 : 리스트, 튜플, range, 문자열 데이터는 연속적으로 표현\n",
    "# 시퀀스형의 객체에 특정 값이 존재하는지 확인\n",
    "\n",
    "# 0~90까지 10씩 증가 시키면서 \n",
    "a = list(range(0, 91, 10))\n",
    "a\n",
    "# 시퀀스형에 대해 in 연산자 사용 가능 \n",
    "30 in a # a 변수(시퀀스) 안에 있느냐?\n",
    "\n",
    "100 in a\n",
    "30 not in a # a 변수(시퀀스형) 안에 30이 있지 않느냐?\n",
    "100 not in a"
   ]
  },
  {
   "cell_type": "code",
   "execution_count": 46,
   "metadata": {},
   "outputs": [
    {
     "data": {
      "text/plain": [
       "True"
      ]
     },
     "execution_count": 46,
     "metadata": {},
     "output_type": "execute_result"
    }
   ],
   "source": [
    "'h' in 'hello, python'\n",
    "'h' not in 'hello, python'\n",
    "7 in range(100)"
   ]
  },
  {
   "cell_type": "code",
   "execution_count": 52,
   "metadata": {},
   "outputs": [
    {
     "data": {
      "text/plain": [
       "(0, 1, 2, 3, 4)"
      ]
     },
     "execution_count": 52,
     "metadata": {},
     "output_type": "execute_result"
    }
   ],
   "source": [
    "# +연산자로 시퀀스형에 대한 자료 연결이 가능\n",
    "# range는 안됨\n",
    "a=[1,2]\n",
    "b=[3,4]\n",
    "a+b\n",
    "'hello' + 'hi'\n",
    "a=(1,2)\n",
    "b=(3,4)\n",
    "a+b\n",
    "#range(0,3)+range(3,5) 에러발생\n",
    "list(range(0,3))+list(range(3,5))\n",
    "tuple(range(0,3))+tuple(range(3,5))"
   ]
  },
  {
   "cell_type": "code",
   "execution_count": 58,
   "metadata": {},
   "outputs": [
    {
     "data": {
      "text/plain": [
       "[0, 1, 2, 0, 1, 2, 0, 1, 2]"
      ]
     },
     "execution_count": 58,
     "metadata": {},
     "output_type": "execute_result"
    }
   ],
   "source": [
    "# 리스트 + 튜플처럼 자료형이 다른 경우 연결이 안된다.\n",
    "# list(range(0,3))+tuple(range(3,5)) 에러 발생\n",
    "\n",
    "# 문자에 숫자 연결 안됨 (숫자를 문자로 변환하면 가능)\n",
    "#'hi' + 7 에러 발생\n",
    "'hi' + str(7)\n",
    "'hi' + str(3.14)\n",
    "\n",
    "# range(0,3)*3 에러 발생\n",
    "list(range(0,3))*3"
   ]
  },
  {
   "cell_type": "code",
   "execution_count": 66,
   "metadata": {},
   "outputs": [
    {
     "data": {
      "text/plain": [
       "6"
      ]
     },
     "execution_count": 66,
     "metadata": {},
     "output_type": "execute_result"
    }
   ],
   "source": [
    "# len : 시퀀스 자료형에 해당되는 데이터의 길이를 구하는 함수\n",
    "a = [1,2,3]\n",
    "len(a)\n",
    "a=(1,2,3)\n",
    "len(a)\n",
    "len(range(0,3))\n",
    "len('hello')\n",
    "\n",
    "hi = '안녕'\n",
    "len(hi) # len은 문자의 개수를 구하는 함수\n",
    "\n",
    "len(hi.encode('utf-8'))"
   ]
  },
  {
   "cell_type": "code",
   "execution_count": 72,
   "metadata": {},
   "outputs": [
    {
     "ename": "IndexError",
     "evalue": "string index out of range",
     "output_type": "error",
     "traceback": [
      "\u001b[1;31m---------------------------------------------------------------------------\u001b[0m",
      "\u001b[1;31mIndexError\u001b[0m                                Traceback (most recent call last)",
      "\u001b[1;32m<ipython-input-72-da6d57463a58>\u001b[0m in \u001b[0;36m<module>\u001b[1;34m\u001b[0m\n\u001b[0;32m      3\u001b[0m \u001b[1;31m# x[0] -> x.__getitem__(0)\u001b[0m\u001b[1;33m\u001b[0m\u001b[1;33m\u001b[0m\u001b[1;33m\u001b[0m\u001b[0m\n\u001b[0;32m      4\u001b[0m \u001b[0mx\u001b[0m\u001b[1;33m[\u001b[0m\u001b[1;36m0\u001b[0m\u001b[1;33m]\u001b[0m\u001b[1;33m\u001b[0m\u001b[1;33m\u001b[0m\u001b[0m\n\u001b[1;32m----> 5\u001b[1;33m \u001b[0mx\u001b[0m\u001b[1;33m[\u001b[0m\u001b[1;36m10\u001b[0m\u001b[1;33m]\u001b[0m\u001b[1;33m\u001b[0m\u001b[1;33m\u001b[0m\u001b[0m\n\u001b[0m",
      "\u001b[1;31mIndexError\u001b[0m: string index out of range"
     ]
    }
   ],
   "source": [
    "# 시퀀스형에 대한 자료 참조는 대괄호[] 기로를 사용한다.\n",
    "x = 'HI HELLO'\n",
    "# x[0] -> x.__getitem__(0)\n",
    "x[0]\n",
    "# x[10]"
   ]
  },
  {
   "cell_type": "code",
   "execution_count": 78,
   "metadata": {},
   "outputs": [
    {
     "data": {
      "text/plain": [
       "'HI HELLO'"
      ]
     },
     "execution_count": 78,
     "metadata": {},
     "output_type": "execute_result"
    }
   ],
   "source": [
    "x[len(x)-1]\n",
    "x[-1]\n",
    "x"
   ]
  },
  {
   "cell_type": "code",
   "execution_count": 98,
   "metadata": {},
   "outputs": [
    {
     "data": {
      "text/plain": [
       "'hlwl'"
      ]
     },
     "execution_count": 98,
     "metadata": {},
     "output_type": "execute_result"
    }
   ],
   "source": [
    "x[2:-1]\n",
    "x[2:]\n",
    "x[1:7:2] # index 1부터 2씩 증하면서 인덱스 6번까지 가져오겠다.\n",
    "x[:8:2]\n",
    "x[3::2]\n",
    "x[::2]\n",
    "x[::] # == x 출력하는 거랑 같음\n",
    "x[5:1:-1] # 5,4,3,2\n",
    "x[::-1] # 역순\n",
    "\n",
    "x[0:len(x)]\n",
    "x[:len(x)]\n",
    "\n",
    "# 튜플도 리스트와 동일\n",
    "x = range(10)\n",
    "x[4:7]\n",
    "list(range(0,7,2))\n",
    "\n",
    "x=\"hello world\"\n",
    "x[:10:3]"
   ]
  },
  {
   "cell_type": "code",
   "execution_count": 111,
   "metadata": {},
   "outputs": [
    {
     "data": {
      "text/plain": [
       "['a', 'd', 90]"
      ]
     },
     "execution_count": 111,
     "metadata": {},
     "output_type": "execute_result"
    }
   ],
   "source": [
    "a=list(range(0,91,10))\n",
    "a[2:5] = [21,31,'x']\n",
    "a\n",
    "a[2:5] = range(500,1300,300)\n",
    "a\n",
    "a[1:9:2] = ['a','b','c','d']\n",
    "a\n",
    "del a[2:6]\n",
    "a\n",
    "del a[:5:2]\n",
    "a"
   ]
  },
  {
   "cell_type": "code",
   "execution_count": 112,
   "metadata": {},
   "outputs": [
    {
     "data": {
      "text/plain": [
       "\"\\nperson = [180, 70, 'O', '서울']\\n\""
      ]
     },
     "execution_count": 112,
     "metadata": {},
     "output_type": "execute_result"
    }
   ],
   "source": [
    "# 딕셔너리 : 키(key)와 값(value)으로 자료를 표현 { } 사용\n",
    "\"\"\"\n",
    "person = [180, 70, 'O', '서울']\n",
    "\n",
    "person2 = {'키':180, '몸무게':70, '혈액형':'O', '사는 곳':'서울'}\n",
    "\n",
    "\"\"\"\n",
    "# 딕셔너리를 다른 언어에서는 map, hash라고 부름"
   ]
  },
  {
   "cell_type": "code",
   "execution_count": 125,
   "metadata": {},
   "outputs": [],
   "source": [
    "person = [180, 70, 'O', '서울']\n",
    "\n",
    "person2 = {'키':180, '몸무게':70, '혈액형':'O', '사는 곳':'서울'}"
   ]
  },
  {
   "cell_type": "code",
   "execution_count": 126,
   "metadata": {},
   "outputs": [
    {
     "data": {
      "text/plain": [
       "{'키': 180, '몸무게': 70, '혈액형': 'O', '사는 곳': '서울'}"
      ]
     },
     "execution_count": 126,
     "metadata": {},
     "output_type": "execute_result"
    }
   ],
   "source": [
    "person2\n"
   ]
  },
  {
   "cell_type": "code",
   "execution_count": 133,
   "metadata": {},
   "outputs": [
    {
     "data": {
      "text/plain": [
       "{'키': 180,\n",
       " '몸무게': 80,\n",
       " '혈액형': 'O',\n",
       " '사는 곳': '서울',\n",
       " False: 0,\n",
       " 99: '구구',\n",
       " 3.14: [3.14, '원주율']}"
      ]
     },
     "execution_count": 133,
     "metadata": {},
     "output_type": "execute_result"
    }
   ],
   "source": [
    "person2 = {'키':180, '몸무게':70, '혈액형':'O', '사는 곳':'서울','몸무게':80, False:0, 99:'구구', 3.14:[3.14,'원주율']}\n",
    "#.['주소','전번']:'서울,02'} 에러 발생\n",
    "# key가 중복되면 마지막 자료가 저장\n",
    "person2"
   ]
  },
  {
   "cell_type": "code",
   "execution_count": 138,
   "metadata": {},
   "outputs": [
    {
     "data": {
      "text/plain": [
       "{'키': 180,\n",
       " '몸무게': 70,\n",
       " '혈액형': 'O',\n",
       " '사는 곳': '서울',\n",
       " '취미': {'오전': ['수영', '야구'], '오후': '공부'}}"
      ]
     },
     "execution_count": 138,
     "metadata": {},
     "output_type": "execute_result"
    }
   ],
   "source": [
    "person2 = {'키':180, '몸무게':70, '혈액형':'O', '사는 곳':'서울','취미':{'오전':['수영','야구'],'오후':'공부'}}\n",
    "person2"
   ]
  },
  {
   "cell_type": "code",
   "execution_count": null,
   "metadata": {},
   "outputs": [],
   "source": [
    "\"\"\"\n",
    "딕셔너리\n",
    " - key, value가 여러 쌍으로 구성\n",
    " - 컴마로 구분\n",
    " - key는 변하지 않는 것을 사용, value는 변하는 값, 변하지 않는 값 모두 사용 가능\n",
    "\"\"\""
   ]
  },
  {
   "cell_type": "code",
   "execution_count": 144,
   "metadata": {},
   "outputs": [
    {
     "data": {
      "text/plain": [
       "dict"
      ]
     },
     "execution_count": 144,
     "metadata": {},
     "output_type": "execute_result"
    }
   ],
   "source": [
    "x=dict() #x={}\n",
    "type(x)"
   ]
  },
  {
   "cell_type": "code",
   "execution_count": 152,
   "metadata": {},
   "outputs": [
    {
     "data": {
      "text/plain": [
       "{'height': 180, 'weight': 70, 'bt': 'O'}"
      ]
     },
     "execution_count": 152,
     "metadata": {},
     "output_type": "execute_result"
    }
   ],
   "source": [
    "# dict(키1:값1, 키2:값2 ...)\n",
    "per=dict(height=180,weight=70,bt='O')\n",
    "per\n",
    "\n",
    "per=dict(zip(['height','weight','bt'],[180,70,'O']))\n",
    "per\n",
    "\n",
    "per=dict([('height',180),('weight',70),('bt','O')])\n",
    "per\n",
    "\n",
    "per=dict({'height':180,'weight':70,'bt':'O'})\n",
    "per\n",
    "\n",
    "\n"
   ]
  },
  {
   "cell_type": "code",
   "execution_count": 146,
   "metadata": {},
   "outputs": [
    {
     "data": {
      "text/plain": [
       "<zip at 0x189f44ca488>"
      ]
     },
     "execution_count": 146,
     "metadata": {},
     "output_type": "execute_result"
    }
   ],
   "source": [
    "zip(['height','weight','bt'],[180,70,'O'])"
   ]
  },
  {
   "cell_type": "code",
   "execution_count": null,
   "metadata": {},
   "outputs": [],
   "source": []
  },
  {
   "cell_type": "code",
   "execution_count": 155,
   "metadata": {},
   "outputs": [
    {
     "data": {
      "text/plain": [
       "{'a': [1, 2, 3]}"
      ]
     },
     "execution_count": 155,
     "metadata": {},
     "output_type": "execute_result"
    }
   ],
   "source": [
    "a = {1:'hi'}\n",
    "a\n",
    "a={'a':[1,2,3]}\n",
    "a"
   ]
  },
  {
   "cell_type": "code",
   "execution_count": 159,
   "metadata": {},
   "outputs": [
    {
     "name": "stdout",
     "output_type": "stream",
     "text": [
      "{'a': [1, 2, 3], 2: 'b'}\n",
      "{1: 'a'}\n"
     ]
    },
    {
     "data": {
      "text/plain": [
       "{'a': [1, 2, 3], 2: 'b', 'name': 'hgd'}"
      ]
     },
     "execution_count": 159,
     "metadata": {},
     "output_type": "execute_result"
    }
   ],
   "source": [
    "b = {1:'a'}\n",
    "print(a)\n",
    "print(b)\n",
    "a[2]='b' # key :2 , value : 'b'\n",
    "a\n",
    "a['name'] = 'hgd'\n",
    "a"
   ]
  },
  {
   "cell_type": "code",
   "execution_count": 177,
   "metadata": {},
   "outputs": [
    {
     "name": "stdout",
     "output_type": "stream",
     "text": [
      "a\n",
      "2\n",
      "name\n",
      "weight\n",
      "[1, 2, 3]\n",
      "b\n",
      "lss\n",
      "70.5\n",
      "('a', [1, 2, 3])\n",
      "(2, 'b')\n",
      "('name', 'lss')\n",
      "('weight', 70.5)\n"
     ]
    }
   ],
   "source": [
    "a['name']='lss'\n",
    "a\n",
    "# 딕셔너리[키] = 값 으로 설정 가능\n",
    "a['weight'] = 70.5\n",
    "a\n",
    "a['name'] # 딕셔너리[키] => return 값으로 value가 나온다.\n",
    "a\n",
    "'weight' in a # a 딕셔너리에 weigth가 있는지 확인\n",
    "'sky' in a\n",
    "\n",
    "len(a)\n",
    "a.keys()\n",
    "\n",
    "for k in a.keys():\n",
    "    print(k)\n",
    "    \n",
    "for v in a.values():\n",
    "    print(v)\n",
    "    \n",
    "list(a.values())\n",
    "\n",
    "for i in a.items():\n",
    "    print(i)"
   ]
  },
  {
   "cell_type": "code",
   "execution_count": 173,
   "metadata": {},
   "outputs": [
    {
     "data": {
      "text/plain": [
       "['a', 2, 'name', 'weight']"
      ]
     },
     "execution_count": 173,
     "metadata": {},
     "output_type": "execute_result"
    }
   ],
   "source": [
    "list(a.keys())"
   ]
  },
  {
   "cell_type": "code",
   "execution_count": null,
   "metadata": {},
   "outputs": [],
   "source": []
  },
  {
   "cell_type": "code",
   "execution_count": 183,
   "metadata": {},
   "outputs": [
    {
     "ename": "KeyError",
     "evalue": "'nn'",
     "output_type": "error",
     "traceback": [
      "\u001b[1;31m---------------------------------------------------------------------------\u001b[0m",
      "\u001b[1;31mKeyError\u001b[0m                                  Traceback (most recent call last)",
      "\u001b[1;32m<ipython-input-183-b96f205c158b>\u001b[0m in \u001b[0;36m<module>\u001b[1;34m\u001b[0m\n\u001b[0;32m      1\u001b[0m \u001b[0ma\u001b[0m\u001b[1;33m[\u001b[0m\u001b[1;34m'name'\u001b[0m\u001b[1;33m]\u001b[0m\u001b[1;33m\u001b[0m\u001b[1;33m\u001b[0m\u001b[0m\n\u001b[0;32m      2\u001b[0m \u001b[0ma\u001b[0m\u001b[1;33m.\u001b[0m\u001b[0mget\u001b[0m\u001b[1;33m(\u001b[0m\u001b[1;34m'name'\u001b[0m\u001b[1;33m)\u001b[0m\u001b[1;33m\u001b[0m\u001b[1;33m\u001b[0m\u001b[0m\n\u001b[1;32m----> 3\u001b[1;33m \u001b[0ma\u001b[0m\u001b[1;33m[\u001b[0m\u001b[1;34m'nn'\u001b[0m\u001b[1;33m]\u001b[0m\u001b[1;33m\u001b[0m\u001b[1;33m\u001b[0m\u001b[0m\n\u001b[0m",
      "\u001b[1;31mKeyError\u001b[0m: 'nn'"
     ]
    }
   ],
   "source": [
    "a['name']\n",
    "a.get('name')\n",
    "a['nn']"
   ]
  },
  {
   "cell_type": "code",
   "execution_count": 186,
   "metadata": {},
   "outputs": [
    {
     "name": "stdout",
     "output_type": "stream",
     "text": [
      "None\n"
     ]
    }
   ],
   "source": [
    "print(a.get('nn'))"
   ]
  },
  {
   "cell_type": "code",
   "execution_count": 187,
   "metadata": {},
   "outputs": [
    {
     "data": {
      "text/plain": [
       "'kim'"
      ]
     },
     "execution_count": 187,
     "metadata": {},
     "output_type": "execute_result"
    }
   ],
   "source": [
    "a.get('nn','kim')\n",
    "# 딕셔너리 a에 nn 키가 없다면 kim을 출력해라\n",
    "# default 설정"
   ]
  },
  {
   "cell_type": "code",
   "execution_count": 188,
   "metadata": {},
   "outputs": [
    {
     "data": {
      "text/plain": [
       "'guest'"
      ]
     },
     "execution_count": 188,
     "metadata": {},
     "output_type": "execute_result"
    }
   ],
   "source": [
    "a.get('id','guest') # id란 키가 없다면 guest를 출력해라"
   ]
  },
  {
   "cell_type": "code",
   "execution_count": null,
   "metadata": {},
   "outputs": [],
   "source": []
  },
  {
   "cell_type": "code",
   "execution_count": 201,
   "metadata": {},
   "outputs": [
    {
     "data": {
      "text/plain": [
       "'k'"
      ]
     },
     "execution_count": 201,
     "metadata": {},
     "output_type": "execute_result"
    }
   ],
   "source": [
    "# set : 집합\n",
    "# x = {1,1,2,2,3} => x={1,2,3}\n",
    "s=set([1,2,3,1])\n",
    "s\n",
    "s2=set('hello')\n",
    "s2\n",
    "#s2[1] # 순서 보장이 안되므로 문법적으로 옳지 않다.\n",
    "\n",
    "s=set(['k','i','m'])\n",
    "slist=list(s)\n",
    "slist\n",
    "slist[1]\n",
    "\n",
    "\n",
    "\n",
    "s=tuple(['k','i','m'])\n",
    "s\n",
    "s[0]"
   ]
  },
  {
   "cell_type": "code",
   "execution_count": null,
   "metadata": {},
   "outputs": [],
   "source": [
    "\"\"\"\n",
    "Set 집합의 특징\n",
    "1. 중복이 안됨\n",
    "2. 순서가 없음\n",
    "\"\"\""
   ]
  },
  {
   "cell_type": "code",
   "execution_count": 203,
   "metadata": {},
   "outputs": [],
   "source": [
    "s1=set([1,2,3,4])\n",
    "s2=set([5,6,3,4])"
   ]
  },
  {
   "cell_type": "code",
   "execution_count": 205,
   "metadata": {},
   "outputs": [
    {
     "data": {
      "text/plain": [
       "{3, 4}"
      ]
     },
     "execution_count": 205,
     "metadata": {},
     "output_type": "execute_result"
    }
   ],
   "source": [
    "s1 & s2\n",
    "s1.intersection(s2)"
   ]
  },
  {
   "cell_type": "code",
   "execution_count": 207,
   "metadata": {},
   "outputs": [
    {
     "data": {
      "text/plain": [
       "{1, 2, 3, 4, 5, 6}"
      ]
     },
     "execution_count": 207,
     "metadata": {},
     "output_type": "execute_result"
    }
   ],
   "source": [
    "# 합집합\n",
    "s1 | s2\n",
    "s1.union(s2)"
   ]
  },
  {
   "cell_type": "code",
   "execution_count": 209,
   "metadata": {},
   "outputs": [
    {
     "data": {
      "text/plain": [
       "{1, 2}"
      ]
     },
     "execution_count": 209,
     "metadata": {},
     "output_type": "execute_result"
    }
   ],
   "source": [
    "# 차집합\n",
    "s1 - s2\n",
    "s1.difference(s2)"
   ]
  },
  {
   "cell_type": "code",
   "execution_count": 220,
   "metadata": {},
   "outputs": [
    {
     "data": {
      "text/plain": [
       "{1, 2, 3, 4, 5}"
      ]
     },
     "execution_count": 220,
     "metadata": {},
     "output_type": "execute_result"
    }
   ],
   "source": [
    "s=set([1,2])\n",
    "s\n",
    "s.add(3)\n",
    "s\n",
    "# s.add([4,5]) add 함수는 2개 이상 추가 안됨\n",
    "s.update([4,5])\n",
    "s"
   ]
  },
  {
   "cell_type": "code",
   "execution_count": null,
   "metadata": {},
   "outputs": [],
   "source": [
    "\"\"\"\n",
    "참 : \"test\", [1,2], (1,2), 1\n",
    "거짓 : \"\", [], (), 0, None\n",
    "\n",
    "explicit programming\n",
    "implicit programming\n",
    "\n",
    "\n",
    "조건문\n",
    "\n",
    "if 고양이가 나타나면:           if 조건:\n",
    "    브레이크를 밟는다\n",
    "    크락션을 울린다\n",
    "달린다\n",
    "\n",
    "\"\"\""
   ]
  },
  {
   "cell_type": "code",
   "execution_count": 234,
   "metadata": {},
   "outputs": [
    {
     "name": "stdout",
     "output_type": "stream",
     "text": [
      "10입니다.\n",
      "5보다 큽니다.\n",
      "문장을 수행합니다.\n"
     ]
    }
   ],
   "source": [
    "x=3\n",
    "if x!=10:\n",
    "    print(\"10입니다.\")\n",
    "    print(\"5보다 큽니다.\")\n",
    "print(\"문장을 수행합니다.\")"
   ]
  },
  {
   "cell_type": "code",
   "execution_count": 239,
   "metadata": {},
   "outputs": [],
   "source": [
    "# 참 : \"test\", [1,2], (1,2), 1\n",
    "# 거짓 : \"\", [], (), 0, None\n",
    "\n",
    "# if a.get('nn'):\n",
    "#     print(\"해당 키가 없습니다. 확인하세요\")"
   ]
  },
  {
   "cell_type": "code",
   "execution_count": 243,
   "metadata": {},
   "outputs": [
    {
     "ename": "SyntaxError",
     "evalue": "invalid syntax (<ipython-input-243-6876868a145d>, line 11)",
     "output_type": "error",
     "traceback": [
      "\u001b[1;36m  File \u001b[1;32m\"<ipython-input-243-6876868a145d>\"\u001b[1;36m, line \u001b[1;32m11\u001b[0m\n\u001b[1;33m    else if x==3:\u001b[0m\n\u001b[1;37m       ^\u001b[0m\n\u001b[1;31mSyntaxError\u001b[0m\u001b[1;31m:\u001b[0m invalid syntax\n"
     ]
    }
   ],
   "source": [
    "x=10\n",
    "if x==10:\n",
    "    pass\n",
    "if x==10:\n",
    "    print(\"안녕\")\n",
    "    if x%2==0:\n",
    "        print(\"하세요\")\n"
   ]
  },
  {
   "cell_type": "code",
   "execution_count": 244,
   "metadata": {},
   "outputs": [
    {
     "name": "stdout",
     "output_type": "stream",
     "text": [
      "x는\n",
      "5입니다.\n"
     ]
    }
   ],
   "source": [
    "x=5\n",
    "if x==5:\n",
    "    print(\"x는\")\n",
    "print(\"5입니다.\")"
   ]
  },
  {
   "cell_type": "code",
   "execution_count": 249,
   "metadata": {},
   "outputs": [
    {
     "name": "stdout",
     "output_type": "stream",
     "text": [
      "3이상\n",
      "10미만\n",
      "입니다.\n"
     ]
    }
   ],
   "source": [
    "x=5\n",
    "if x>=3:\n",
    "    print(\"3이상\")\n",
    "    if x<10:\n",
    "        print(\"10미만\")\n",
    "    if x<5:\n",
    "        print(\"5미만\")\n",
    "print(\"입니다.\")"
   ]
  },
  {
   "cell_type": "code",
   "execution_count": 252,
   "metadata": {},
   "outputs": [
    {
     "name": "stdout",
     "output_type": "stream",
     "text": [
      "참\n",
      "거짓\n"
     ]
    }
   ],
   "source": [
    "if [1,2]:\n",
    "    print(\"참\")\n",
    "else:\n",
    "    print(\"거짓\")\n",
    "    \n",
    "    \n",
    "if None:\n",
    "    print(\"참\")\n",
    "else:\n",
    "    print(\"거짓\")"
   ]
  },
  {
   "cell_type": "code",
   "execution_count": 257,
   "metadata": {},
   "outputs": [
    {
     "data": {
      "text/plain": [
       "False"
      ]
     },
     "execution_count": 257,
     "metadata": {},
     "output_type": "execute_result"
    }
   ],
   "source": [
    "bool(0)\n",
    "bool('python')\n",
    "bool('')"
   ]
  },
  {
   "cell_type": "code",
   "execution_count": 260,
   "metadata": {},
   "outputs": [
    {
     "name": "stdout",
     "output_type": "stream",
     "text": [
      "3\n"
     ]
    },
    {
     "data": {
      "text/plain": [
       "[1, 2]"
      ]
     },
     "execution_count": 260,
     "metadata": {},
     "output_type": "execute_result"
    }
   ],
   "source": [
    "a=[1,2,3]\n",
    "if a:  # True\n",
    "    print(a.pop())\n",
    "a"
   ]
  },
  {
   "cell_type": "code",
   "execution_count": 262,
   "metadata": {},
   "outputs": [
    {
     "name": "stdout",
     "output_type": "stream",
     "text": [
      "3\n",
      "2\n",
      "1\n"
     ]
    }
   ],
   "source": [
    "a=[1,2,3]\n",
    "while a:     # while(~동안), a변수 값이 참인 동안 반복\n",
    "    print(a.pop())\n"
   ]
  },
  {
   "cell_type": "code",
   "execution_count": 266,
   "metadata": {},
   "outputs": [
    {
     "name": "stdout",
     "output_type": "stream",
     "text": [
      "10\n",
      "10보다 작아요\n"
     ]
    }
   ],
   "source": [
    "a = int(input())\n",
    "if a<10:\n",
    "    print(\"10보다 작아요\")\n",
    "else:\n",
    "    print(\"10보다 커요\")"
   ]
  },
  {
   "cell_type": "code",
   "execution_count": 314,
   "metadata": {},
   "outputs": [
    {
     "data": {
      "text/plain": [
       "1227365"
      ]
     },
     "execution_count": 314,
     "metadata": {},
     "output_type": "execute_result"
    }
   ],
   "source": [
    "# 1번\n",
    "num = set(range(1,5000))\n",
    "g_num = set()\n",
    "for i in range(5000):\n",
    "    for j in str(i):\n",
    "        i = i+int(j)\n",
    "    g_num.add(i)\n",
    "self_num = num-g_num\n",
    "set(self_num)\n",
    "sum(self_num)"
   ]
  },
  {
   "cell_type": "code",
   "execution_count": null,
   "metadata": {},
   "outputs": [],
   "source": []
  },
  {
   "cell_type": "code",
   "execution_count": 308,
   "metadata": {},
   "outputs": [
    {
     "name": "stdout",
     "output_type": "stream",
     "text": [
      "27000\n",
      "cash5000\n"
     ]
    },
    {
     "data": {
      "text/plain": [
       "22000"
      ]
     },
     "execution_count": 308,
     "metadata": {},
     "output_type": "execute_result"
    }
   ],
   "source": [
    "# 2번\n",
    "a = int(input())\n",
    "b = input()\n",
    "b=int(b[4:])\n",
    "a-b"
   ]
  },
  {
   "cell_type": "code",
   "execution_count": null,
   "metadata": {},
   "outputs": [],
   "source": []
  },
  {
   "cell_type": "code",
   "execution_count": 303,
   "metadata": {},
   "outputs": [
    {
     "name": "stdout",
     "output_type": "stream",
     "text": [
      "2\n"
     ]
    },
    {
     "data": {
      "text/plain": [
       "(-10, -8, -6, -4, -2, 0, 2, 4, 6, 8)"
      ]
     },
     "execution_count": 303,
     "metadata": {},
     "output_type": "execute_result"
    }
   ],
   "source": [
    "# 3번\n",
    "x = int(input())\n",
    "tuple(range(-10,10,x))"
   ]
  },
  {
   "cell_type": "code",
   "execution_count": null,
   "metadata": {},
   "outputs": [],
   "source": []
  },
  {
   "cell_type": "code",
   "execution_count": 305,
   "metadata": {},
   "outputs": [
    {
     "data": {
      "text/plain": [
       "(-32, 97, 9, 4, 0, 14)"
      ]
     },
     "execution_count": 305,
     "metadata": {},
     "output_type": "execute_result"
    }
   ],
   "source": [
    "# 4번\n",
    "n=(-32,75,97,-10,9,32,4,-15,0,76,14,2)\n",
    "n[::2]"
   ]
  },
  {
   "cell_type": "code",
   "execution_count": null,
   "metadata": {},
   "outputs": [],
   "source": []
  },
  {
   "cell_type": "code",
   "execution_count": 294,
   "metadata": {},
   "outputs": [
    {
     "data": {
      "text/plain": [
       "{1, 2, 3, 4, 5}"
      ]
     },
     "execution_count": 294,
     "metadata": {},
     "output_type": "execute_result"
    }
   ],
   "source": [
    "# 5번\n",
    "a = [1,1,1,2,2,3,3,3,4,4,5]\n",
    "set(a)"
   ]
  },
  {
   "cell_type": "code",
   "execution_count": null,
   "metadata": {},
   "outputs": [],
   "source": []
  }
 ],
 "metadata": {
  "kernelspec": {
   "display_name": "Python 3",
   "language": "python",
   "name": "python3"
  },
  "language_info": {
   "codemirror_mode": {
    "name": "ipython",
    "version": 3
   },
   "file_extension": ".py",
   "mimetype": "text/x-python",
   "name": "python",
   "nbconvert_exporter": "python",
   "pygments_lexer": "ipython3",
   "version": "3.7.4"
  }
 },
 "nbformat": 4,
 "nbformat_minor": 2
}
