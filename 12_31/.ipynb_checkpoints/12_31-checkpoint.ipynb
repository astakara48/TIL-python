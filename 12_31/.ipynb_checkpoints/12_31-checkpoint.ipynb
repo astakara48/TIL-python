{
 "cells": [
  {
   "cell_type": "code",
   "execution_count": 1,
   "metadata": {},
   "outputs": [
    {
     "data": {
      "text/plain": [
       "''"
      ]
     },
     "execution_count": 1,
     "metadata": {},
     "output_type": "execute_result"
    }
   ],
   "source": [
    "\"\"\"\n",
    "데이터 수집\n",
    "- DB(정형, formal data)에서 데이터 가져오기\n",
    "- 텍스트(비정형 데이터) 수집\n",
    "\n",
    "파이썬 웹 데이터 추출\n",
    "- urllib 라이브러리(module의 집합)\n",
    "- request module (rullib.request)로 웹이 있는 데이터에 접근할 수 있음.\n",
    "urlretrieve함수를 이용하여 웹 파일을 다운로드 할 수 있다.\n",
    "\"\"\""
   ]
  },
  {
   "cell_type": "code",
   "execution_count": 2,
   "metadata": {},
   "outputs": [
    {
     "name": "stdout",
     "output_type": "stream",
     "text": [
      "저장되었습니다.\n"
     ]
    }
   ],
   "source": [
    "# URL과 지정경로 지정\n",
    "url=\"https://www.multicampus.com/img/saas/main/logo/CUS0001/pc_main.png\"\n",
    "savename=\"test.png\"\n",
    "\n",
    "# 다운로드\n",
    "import urllib.request\n",
    "\n",
    "urllib.request.urlretrieve(url, savename)\n",
    "print(\"저장되었습니다.\")\n",
    "\n",
    "# 다운로드 -> 파일로 저장됨"
   ]
  },
  {
   "cell_type": "code",
   "execution_count": 6,
   "metadata": {},
   "outputs": [
    {
     "name": "stdout",
     "output_type": "stream",
     "text": [
      "저장되었습니다.\n"
     ]
    }
   ],
   "source": [
    "# urlopen을 이용한 다운로드시, 바로 파일로 저장되는 것이 아니라 data가 메모리에 적재\n",
    "savename=\"test2.png\"\n",
    "mem = urllib.request.urlopen(url).read()\n",
    "#print(mem)\n",
    "\n",
    "with open(savename, mode=\"wb\") as f: # 이미지 파일이므로 wb\n",
    "    f.write(mem)\n",
    "    print(\"저장되었습니다.\")\n",
    "f.close()\n"
   ]
  },
  {
   "cell_type": "code",
   "execution_count": null,
   "metadata": {},
   "outputs": [],
   "source": [
    "# http://www.weather.go.kr/weather/forecast/mid-term-rss3.jsp?stnId=184 제주도\n",
    "# http://www.weather.go.kr/weather/forecast/mid-term-rss3.jsp?stnId=156 전라도"
   ]
  },
  {
   "cell_type": "code",
   "execution_count": 9,
   "metadata": {},
   "outputs": [],
   "source": [
    "import urllib.parse"
   ]
  },
  {
   "cell_type": "code",
   "execution_count": 11,
   "metadata": {},
   "outputs": [],
   "source": [
    "addr=\"http://www.weather.go.kr/weather/forecast/mid-term-rss3.jsp\"\n",
    "values={'stnId':'184'}\n",
    "param=urllib.parse.urlencode(values)"
   ]
  },
  {
   "cell_type": "code",
   "execution_count": 20,
   "metadata": {},
   "outputs": [
    {
     "data": {
      "text/plain": [
       "'http://www.weather.go.kr/weather/forecast/mid-term-rss3.jsp?stnId=184'"
      ]
     },
     "execution_count": 20,
     "metadata": {},
     "output_type": "execute_result"
    }
   ],
   "source": [
    "url=addr+\"?\"+param\n",
    "url\n"
   ]
  },
  {
   "cell_type": "code",
   "execution_count": 25,
   "metadata": {},
   "outputs": [
    {
     "data": {
      "text/plain": [
       "'<?xml version=\"1.0\" encoding=\"utf-8\" ?>\\r\\n<rss version=\"2.0\">\\r\\n<channel>\\r\\n<title>기상청 육상 중기예보</title>\\r\\n<link>http://www.kma.go.kr/weather/forecast/mid-term_07.jsp</link>\\r\\n<description>기상청 날씨 웹서비스</description>\\r\\n<language>ko</language>\\r\\n<generator>기상청</generator>\\r\\n<pubDate>2019년 12월 31일 (화)요일 06:00</pubDate>\\r\\n <item>\\r\\n<author>기상청</author>\\r\\n<category>육상중기예보</category>\\r\\n<title>제주도 육상 중기예보 - 2019년 12월 31일 (화)요일 06:00 발표</title>\\r\\n<link>http://www.kma.go.kr/weather/forecast/mid-term_07.jsp</link>\\r\\n<guid>http://www.kma.go.kr/weather/forecast/mid-term_07.jsp</guid>\\r\\n<description>\\r\\n\\t<header>\\r\\n\\t\\t<title>제주도 육상중기예보</title>\\r\\n\\t\\t<tm>201912310600</tm>\\r\\n\\t\\t<wf><![CDATA[기압골의 영향으로 1월 6일 후반부터 8일까지 비가 오겠고, 그 밖의 날은 고기압의 가장자리에 들어 가끔 구름이 많겠습니다.<br />기온은 평년(최저기온 4℃ 내외, 최고기온 9~11℃)보다 높겠습니다.<br />강수량은 평년(1~2mm)보다 많겠습니다.<br />바다의 물결은 제주도전해상과 남해서부해상에서 7~9일에 1.0~3.0m로 높게 일고, 그 밖의 날은 1.0~2.0m로 일겠습니다.]]></wf>\\r\\n\\t</header>\\r\\n\\t<body>\\r\\n\\t\\t\\t\\t\\r\\n\\r\\n\\t\\t<location wl_ver=\"3\">\\r\\n\\t\\t\\t\\t<province>제주도</province>\\r\\n\\t\\t\\t\\t<city>제주</city>\\r\\n\\t\\t\\t\\t\\r\\n\\t\\t\\t\\t<data>\\r\\n\\t\\t\\t\\t\\t<mode>A02</mode>\\r\\n\\t\\t\\t\\t\\t<tmEf>2020-01-03 00:00</tmEf>\\r\\n\\t\\t\\t\\t\\t<wf>구름많음</wf>\\r\\n\\t\\t\\t\\t\\t<tmn>7</tmn>\\r\\n\\t\\t\\t\\t\\t<tmx>12</tmx>\\r\\n\\t\\t\\t\\t\\t<reliability></reliability>\\r\\n\\t\\t\\t\\t\\t<rnSt>40</rnSt>\\r\\n\\t\\t\\t\\t</data>\\r\\n\\r\\n\\t\\t\\t\\t\\r\\n\\t\\t\\t\\t<data>\\r\\n\\t\\t\\t\\t\\t<mode>A02</mode>\\r\\n\\t\\t\\t\\t\\t<tmEf>2020-01-03 12:00</tmEf>\\r\\n\\t\\t\\t\\t\\t<wf>구름많음</wf>\\r\\n\\t\\t\\t\\t\\t<tmn>7</tmn>\\r\\n\\t\\t\\t\\t\\t<tmx>12</tmx>\\r\\n\\t\\t\\t\\t\\t<reliability></reliability>\\r\\n\\t\\t\\t\\t\\t<rnSt>40</rnSt>\\r\\n\\t\\t\\t\\t</data>\\r\\n\\r\\n\\t\\t\\t\\t\\r\\n\\t\\t\\t\\t<data>\\r\\n\\t\\t\\t\\t\\t<mode>A02</mode>\\r\\n\\t\\t\\t\\t\\t<tmEf>2020-01-04 00:00</tmEf>\\r\\n\\t\\t\\t\\t\\t<wf>구름많음</wf>\\r\\n\\t\\t\\t\\t\\t<tmn>8</tmn>\\r\\n\\t\\t\\t\\t\\t<tmx>11</tmx>\\r\\n\\t\\t\\t\\t\\t<reliability></reliability>\\r\\n\\t\\t\\t\\t\\t<rnSt>30</rnSt>\\r\\n\\t\\t\\t\\t</data>\\r\\n\\r\\n\\t\\t\\t\\t\\r\\n\\t\\t\\t\\t<data>\\r\\n\\t\\t\\t\\t\\t<mode>A02</mode>\\r\\n\\t\\t\\t\\t\\t<tmEf>2020-01-04 12:00</tmEf>\\r\\n\\t\\t\\t\\t\\t<wf>맑음</wf>\\r\\n\\t\\t\\t\\t\\t<tmn>8</tmn>\\r\\n\\t\\t\\t\\t\\t<tmx>11</tmx>\\r\\n\\t\\t\\t\\t\\t<reliability></reliability>\\r\\n\\t\\t\\t\\t\\t<rnSt>10</rnSt>\\r\\n\\t\\t\\t\\t</data>\\r\\n\\r\\n\\t\\t\\t\\t\\r\\n\\t\\t\\t\\t<data>\\r\\n\\t\\t\\t\\t\\t<mode>A02</mode>\\r\\n\\t\\t\\t\\t\\t<tmEf>2020-01-05 00:00</tmEf>\\r\\n\\t\\t\\t\\t\\t<wf>맑음</wf>\\r\\n\\t\\t\\t\\t\\t<tmn>5</tmn>\\r\\n\\t\\t\\t\\t\\t<tmx>10</tmx>\\r\\n\\t\\t\\t\\t\\t<reliability></reliability>\\r\\n\\t\\t\\t\\t\\t<rnSt>0</rnSt>\\r\\n\\t\\t\\t\\t</data>\\r\\n\\r\\n\\t\\t\\t\\t\\r\\n\\t\\t\\t\\t<data>\\r\\n\\t\\t\\t\\t\\t<mode>A02</mode>\\r\\n\\t\\t\\t\\t\\t<tmEf>2020-01-05 12:00</tmEf>\\r\\n\\t\\t\\t\\t\\t<wf>구름많음</wf>\\r\\n\\t\\t\\t\\t\\t<tmn>5</tmn>\\r\\n\\t\\t\\t\\t\\t<tmx>10</tmx>\\r\\n\\t\\t\\t\\t\\t<reliability></reliability>\\r\\n\\t\\t\\t\\t\\t<rnSt>30</rnSt>\\r\\n\\t\\t\\t\\t</data>\\r\\n\\r\\n\\t\\t\\t\\t\\r\\n\\t\\t\\t\\t<data>\\r\\n\\t\\t\\t\\t\\t<mode>A02</mode>\\r\\n\\t\\t\\t\\t\\t<tmEf>2020-01-06 00:00</tmEf>\\r\\n\\t\\t\\t\\t\\t<wf>구름많음</wf>\\r\\n\\t\\t\\t\\t\\t<tmn>8</tmn>\\r\\n\\t\\t\\t\\t\\t<tmx>14</tmx>\\r\\n\\t\\t\\t\\t\\t<reliability></reliability>\\r\\n\\t\\t\\t\\t\\t<rnSt>30</rnSt>\\r\\n\\t\\t\\t\\t</data>\\r\\n\\r\\n\\t\\t\\t\\t\\r\\n\\t\\t\\t\\t<data>\\r\\n\\t\\t\\t\\t\\t<mode>A02</mode>\\r\\n\\t\\t\\t\\t\\t<tmEf>2020-01-06 12:00</tmEf>\\r\\n\\t\\t\\t\\t\\t<wf>흐리고 비</wf>\\r\\n\\t\\t\\t\\t\\t<tmn>8</tmn>\\r\\n\\t\\t\\t\\t\\t<tmx>14</tmx>\\r\\n\\t\\t\\t\\t\\t<reliability></reliability>\\r\\n\\t\\t\\t\\t\\t<rnSt>60</rnSt>\\r\\n\\t\\t\\t\\t</data>\\r\\n\\r\\n\\t\\t\\t\\t\\r\\n\\t\\t\\t\\t<data>\\r\\n\\t\\t\\t\\t\\t<mode>A02</mode>\\r\\n\\t\\t\\t\\t\\t<tmEf>2020-01-07 00:00</tmEf>\\r\\n\\t\\t\\t\\t\\t<wf>흐리고 비</wf>\\r\\n\\t\\t\\t\\t\\t<tmn>12</tmn>\\r\\n\\t\\t\\t\\t\\t<tmx>15</tmx>\\r\\n\\t\\t\\t\\t\\t<reliability></reliability>\\r\\n\\t\\t\\t\\t\\t<rnSt>70</rnSt>\\r\\n\\t\\t\\t\\t</data>\\r\\n\\r\\n\\t\\t\\t\\t\\r\\n\\t\\t\\t\\t<data>\\r\\n\\t\\t\\t\\t\\t<mode>A02</mode>\\r\\n\\t\\t\\t\\t\\t<tmEf>2020-01-07 12:00</tmEf>\\r\\n\\t\\t\\t\\t\\t<wf>흐리고 비</wf>\\r\\n\\t\\t\\t\\t\\t<tmn>12</tmn>\\r\\n\\t\\t\\t\\t\\t<tmx>15</tmx>\\r\\n\\t\\t\\t\\t\\t<reliability></reliability>\\r\\n\\t\\t\\t\\t\\t<rnSt>70</rnSt>\\r\\n\\t\\t\\t\\t</data>\\r\\n\\r\\n\\t\\t\\t\\t\\r\\n\\t\\t\\t\\t<data>\\r\\n\\t\\t\\t\\t\\t<mode>A01</mode>\\r\\n\\t\\t\\t\\t\\t<tmEf>2020-01-08 00:00</tmEf>\\r\\n\\t\\t\\t\\t\\t<wf>흐리고 비</wf>\\r\\n\\t\\t\\t\\t\\t<tmn>10</tmn>\\r\\n\\t\\t\\t\\t\\t<tmx>12</tmx>\\r\\n\\t\\t\\t\\t\\t<reliability></reliability>\\r\\n\\t\\t\\t\\t\\t<rnSt>80</rnSt>\\r\\n\\t\\t\\t\\t</data>\\r\\n\\r\\n\\t\\t\\t\\t\\r\\n\\t\\t\\t\\t<data>\\r\\n\\t\\t\\t\\t\\t<mode>A01</mode>\\r\\n\\t\\t\\t\\t\\t<tmEf>2020-01-09 00:00</tmEf>\\r\\n\\t\\t\\t\\t\\t<wf>구름많음</wf>\\r\\n\\t\\t\\t\\t\\t<tmn>7</tmn>\\r\\n\\t\\t\\t\\t\\t<tmx>9</tmx>\\r\\n\\t\\t\\t\\t\\t<reliability></reliability>\\r\\n\\t\\t\\t\\t\\t<rnSt>40</rnSt>\\r\\n\\t\\t\\t\\t</data>\\r\\n\\r\\n\\t\\t\\t\\t\\r\\n\\t\\t\\t\\t<data>\\r\\n\\t\\t\\t\\t\\t<mode>A01</mode>\\r\\n\\t\\t\\t\\t\\t<tmEf>2020-01-10 00:00</tmEf>\\r\\n\\t\\t\\t\\t\\t<wf>구름많음</wf>\\r\\n\\t\\t\\t\\t\\t<tmn>7</tmn>\\r\\n\\t\\t\\t\\t\\t<tmx>11</tmx>\\r\\n\\t\\t\\t\\t\\t<reliability></reliability>\\r\\n\\t\\t\\t\\t\\t<rnSt>30</rnSt>\\r\\n\\t\\t\\t\\t</data>\\r\\n\\r\\n\\r\\n\\t\\t</location>\\r\\n\\r\\n\\t\\t<location wl_ver=\"3\">\\r\\n\\t\\t\\t\\t<province>제주도</province>\\r\\n\\t\\t\\t\\t<city>서귀포</city>\\r\\n\\t\\t\\t\\t\\r\\n\\t\\t\\t\\t<data>\\r\\n\\t\\t\\t\\t\\t<mode>A02</mode>\\r\\n\\t\\t\\t\\t\\t<tmEf>2020-01-03 00:00</tmEf>\\r\\n\\t\\t\\t\\t\\t<wf>구름많음</wf>\\r\\n\\t\\t\\t\\t\\t<tmn>7</tmn>\\r\\n\\t\\t\\t\\t\\t<tmx>14</tmx>\\r\\n\\t\\t\\t\\t\\t<reliability></reliability>\\r\\n\\t\\t\\t\\t\\t<rnSt>40</rnSt>\\r\\n\\t\\t\\t\\t</data>\\r\\n\\r\\n\\t\\t\\t\\t\\r\\n\\t\\t\\t\\t<data>\\r\\n\\t\\t\\t\\t\\t<mode>A02</mode>\\r\\n\\t\\t\\t\\t\\t<tmEf>2020-01-03 12:00</tmEf>\\r\\n\\t\\t\\t\\t\\t<wf>구름많음</wf>\\r\\n\\t\\t\\t\\t\\t<tmn>7</tmn>\\r\\n\\t\\t\\t\\t\\t<tmx>14</tmx>\\r\\n\\t\\t\\t\\t\\t<reliability></reliability>\\r\\n\\t\\t\\t\\t\\t<rnSt>40</rnSt>\\r\\n\\t\\t\\t\\t</data>\\r\\n\\r\\n\\t\\t\\t\\t\\r\\n\\t\\t\\t\\t<data>\\r\\n\\t\\t\\t\\t\\t<mode>A02</mode>\\r\\n\\t\\t\\t\\t\\t<tmEf>2020-01-04 00:00</tmEf>\\r\\n\\t\\t\\t\\t\\t<wf>구름많음</wf>\\r\\n\\t\\t\\t\\t\\t<tmn>9</tmn>\\r\\n\\t\\t\\t\\t\\t<tmx>14</tmx>\\r\\n\\t\\t\\t\\t\\t<reliability></reliability>\\r\\n\\t\\t\\t\\t\\t<rnSt>30</rnSt>\\r\\n\\t\\t\\t\\t</data>\\r\\n\\r\\n\\t\\t\\t\\t\\r\\n\\t\\t\\t\\t<data>\\r\\n\\t\\t\\t\\t\\t<mode>A02</mode>\\r\\n\\t\\t\\t\\t\\t<tmEf>2020-01-04 12:00</tmEf>\\r\\n\\t\\t\\t\\t\\t<wf>맑음</wf>\\r\\n\\t\\t\\t\\t\\t<tmn>9</tmn>\\r\\n\\t\\t\\t\\t\\t<tmx>14</tmx>\\r\\n\\t\\t\\t\\t\\t<reliability></reliability>\\r\\n\\t\\t\\t\\t\\t<rnSt>10</rnSt>\\r\\n\\t\\t\\t\\t</data>\\r\\n\\r\\n\\t\\t\\t\\t\\r\\n\\t\\t\\t\\t<data>\\r\\n\\t\\t\\t\\t\\t<mode>A02</mode>\\r\\n\\t\\t\\t\\t\\t<tmEf>2020-01-05 00:00</tmEf>\\r\\n\\t\\t\\t\\t\\t<wf>맑음</wf>\\r\\n\\t\\t\\t\\t\\t<tmn>6</tmn>\\r\\n\\t\\t\\t\\t\\t<tmx>14</tmx>\\r\\n\\t\\t\\t\\t\\t<reliability></reliability>\\r\\n\\t\\t\\t\\t\\t<rnSt>0</rnSt>\\r\\n\\t\\t\\t\\t</data>\\r\\n\\r\\n\\t\\t\\t\\t\\r\\n\\t\\t\\t\\t<data>\\r\\n\\t\\t\\t\\t\\t<mode>A02</mode>\\r\\n\\t\\t\\t\\t\\t<tmEf>2020-01-05 12:00</tmEf>\\r\\n\\t\\t\\t\\t\\t<wf>구름많음</wf>\\r\\n\\t\\t\\t\\t\\t<tmn>6</tmn>\\r\\n\\t\\t\\t\\t\\t<tmx>14</tmx>\\r\\n\\t\\t\\t\\t\\t<reliability></reliability>\\r\\n\\t\\t\\t\\t\\t<rnSt>30</rnSt>\\r\\n\\t\\t\\t\\t</data>\\r\\n\\r\\n\\t\\t\\t\\t\\r\\n\\t\\t\\t\\t<data>\\r\\n\\t\\t\\t\\t\\t<mode>A02</mode>\\r\\n\\t\\t\\t\\t\\t<tmEf>2020-01-06 00:00</tmEf>\\r\\n\\t\\t\\t\\t\\t<wf>구름많음</wf>\\r\\n\\t\\t\\t\\t\\t<tmn>10</tmn>\\r\\n\\t\\t\\t\\t\\t<tmx>15</tmx>\\r\\n\\t\\t\\t\\t\\t<reliability></reliability>\\r\\n\\t\\t\\t\\t\\t<rnSt>30</rnSt>\\r\\n\\t\\t\\t\\t</data>\\r\\n\\r\\n\\t\\t\\t\\t\\r\\n\\t\\t\\t\\t<data>\\r\\n\\t\\t\\t\\t\\t<mode>A02</mode>\\r\\n\\t\\t\\t\\t\\t<tmEf>2020-01-06 12:00</tmEf>\\r\\n\\t\\t\\t\\t\\t<wf>흐리고 비</wf>\\r\\n\\t\\t\\t\\t\\t<tmn>10</tmn>\\r\\n\\t\\t\\t\\t\\t<tmx>15</tmx>\\r\\n\\t\\t\\t\\t\\t<reliability></reliability>\\r\\n\\t\\t\\t\\t\\t<rnSt>60</rnSt>\\r\\n\\t\\t\\t\\t</data>\\r\\n\\r\\n\\t\\t\\t\\t\\r\\n\\t\\t\\t\\t<data>\\r\\n\\t\\t\\t\\t\\t<mode>A02</mode>\\r\\n\\t\\t\\t\\t\\t<tmEf>2020-01-07 00:00</tmEf>\\r\\n\\t\\t\\t\\t\\t<wf>흐리고 비</wf>\\r\\n\\t\\t\\t\\t\\t<tmn>12</tmn>\\r\\n\\t\\t\\t\\t\\t<tmx>16</tmx>\\r\\n\\t\\t\\t\\t\\t<reliability></reliability>\\r\\n\\t\\t\\t\\t\\t<rnSt>70</rnSt>\\r\\n\\t\\t\\t\\t</data>\\r\\n\\r\\n\\t\\t\\t\\t\\r\\n\\t\\t\\t\\t<data>\\r\\n\\t\\t\\t\\t\\t<mode>A02</mode>\\r\\n\\t\\t\\t\\t\\t<tmEf>2020-01-07 12:00</tmEf>\\r\\n\\t\\t\\t\\t\\t<wf>흐리고 비</wf>\\r\\n\\t\\t\\t\\t\\t<tmn>12</tmn>\\r\\n\\t\\t\\t\\t\\t<tmx>16</tmx>\\r\\n\\t\\t\\t\\t\\t<reliability></reliability>\\r\\n\\t\\t\\t\\t\\t<rnSt>70</rnSt>\\r\\n\\t\\t\\t\\t</data>\\r\\n\\r\\n\\t\\t\\t\\t\\r\\n\\t\\t\\t\\t<data>\\r\\n\\t\\t\\t\\t\\t<mode>A01</mode>\\r\\n\\t\\t\\t\\t\\t<tmEf>2020-01-08 00:00</tmEf>\\r\\n\\t\\t\\t\\t\\t<wf>흐리고 비</wf>\\r\\n\\t\\t\\t\\t\\t<tmn>10</tmn>\\r\\n\\t\\t\\t\\t\\t<tmx>13</tmx>\\r\\n\\t\\t\\t\\t\\t<reliability></reliability>\\r\\n\\t\\t\\t\\t\\t<rnSt>80</rnSt>\\r\\n\\t\\t\\t\\t</data>\\r\\n\\r\\n\\t\\t\\t\\t\\r\\n\\t\\t\\t\\t<data>\\r\\n\\t\\t\\t\\t\\t<mode>A01</mode>\\r\\n\\t\\t\\t\\t\\t<tmEf>2020-01-09 00:00</tmEf>\\r\\n\\t\\t\\t\\t\\t<wf>구름많음</wf>\\r\\n\\t\\t\\t\\t\\t<tmn>7</tmn>\\r\\n\\t\\t\\t\\t\\t<tmx>11</tmx>\\r\\n\\t\\t\\t\\t\\t<reliability></reliability>\\r\\n\\t\\t\\t\\t\\t<rnSt>40</rnSt>\\r\\n\\t\\t\\t\\t</data>\\r\\n\\r\\n\\t\\t\\t\\t\\r\\n\\t\\t\\t\\t<data>\\r\\n\\t\\t\\t\\t\\t<mode>A01</mode>\\r\\n\\t\\t\\t\\t\\t<tmEf>2020-01-10 00:00</tmEf>\\r\\n\\t\\t\\t\\t\\t<wf>구름많음</wf>\\r\\n\\t\\t\\t\\t\\t<tmn>6</tmn>\\r\\n\\t\\t\\t\\t\\t<tmx>13</tmx>\\r\\n\\t\\t\\t\\t\\t<reliability></reliability>\\r\\n\\t\\t\\t\\t\\t<rnSt>30</rnSt>\\r\\n\\t\\t\\t\\t</data>\\r\\n\\r\\n\\r\\n\\t\\t</location>\\r\\n\\r\\n\\t\\t<location wl_ver=\"3\">\\r\\n\\t\\t\\t\\t<province>제주도</province>\\r\\n\\t\\t\\t\\t<city>성산</city>\\r\\n\\t\\t\\t\\t\\r\\n\\t\\t\\t\\t<data>\\r\\n\\t\\t\\t\\t\\t<mode>A02</mode>\\r\\n\\t\\t\\t\\t\\t<tmEf>2020-01-03 00:00</tmEf>\\r\\n\\t\\t\\t\\t\\t<wf>구름많음</wf>\\r\\n\\t\\t\\t\\t\\t<tmn>5</tmn>\\r\\n\\t\\t\\t\\t\\t<tmx>12</tmx>\\r\\n\\t\\t\\t\\t\\t<reliability></reliability>\\r\\n\\t\\t\\t\\t\\t<rnSt>40</rnSt>\\r\\n\\t\\t\\t\\t</data>\\r\\n\\r\\n\\t\\t\\t\\t\\r\\n\\t\\t\\t\\t<data>\\r\\n\\t\\t\\t\\t\\t<mode>A02</mode>\\r\\n\\t\\t\\t\\t\\t<tmEf>2020-01-03 12:00</tmEf>\\r\\n\\t\\t\\t\\t\\t<wf>구름많음</wf>\\r\\n\\t\\t\\t\\t\\t<tmn>5</tmn>\\r\\n\\t\\t\\t\\t\\t<tmx>12</tmx>\\r\\n\\t\\t\\t\\t\\t<reliability></reliability>\\r\\n\\t\\t\\t\\t\\t<rnSt>40</rnSt>\\r\\n\\t\\t\\t\\t</data>\\r\\n\\r\\n\\t\\t\\t\\t\\r\\n\\t\\t\\t\\t<data>\\r\\n\\t\\t\\t\\t\\t<mode>A02</mode>\\r\\n\\t\\t\\t\\t\\t<tmEf>2020-01-04 00:00</tmEf>\\r\\n\\t\\t\\t\\t\\t<wf>구름많음</wf>\\r\\n\\t\\t\\t\\t\\t<tmn>6</tmn>\\r\\n\\t\\t\\t\\t\\t<tmx>12</tmx>\\r\\n\\t\\t\\t\\t\\t<reliability></reliability>\\r\\n\\t\\t\\t\\t\\t<rnSt>30</rnSt>\\r\\n\\t\\t\\t\\t</data>\\r\\n\\r\\n\\t\\t\\t\\t\\r\\n\\t\\t\\t\\t<data>\\r\\n\\t\\t\\t\\t\\t<mode>A02</mode>\\r\\n\\t\\t\\t\\t\\t<tmEf>2020-01-04 12:00</tmEf>\\r\\n\\t\\t\\t\\t\\t<wf>맑음</wf>\\r\\n\\t\\t\\t\\t\\t<tmn>6</tmn>\\r\\n\\t\\t\\t\\t\\t<tmx>12</tmx>\\r\\n\\t\\t\\t\\t\\t<reliability></reliability>\\r\\n\\t\\t\\t\\t\\t<rnSt>10</rnSt>\\r\\n\\t\\t\\t\\t</data>\\r\\n\\r\\n\\t\\t\\t\\t\\r\\n\\t\\t\\t\\t<data>\\r\\n\\t\\t\\t\\t\\t<mode>A02</mode>\\r\\n\\t\\t\\t\\t\\t<tmEf>2020-01-05 00:00</tmEf>\\r\\n\\t\\t\\t\\t\\t<wf>맑음</wf>\\r\\n\\t\\t\\t\\t\\t<tmn>4</tmn>\\r\\n\\t\\t\\t\\t\\t<tmx>10</tmx>\\r\\n\\t\\t\\t\\t\\t<reliability></reliability>\\r\\n\\t\\t\\t\\t\\t<rnSt>0</rnSt>\\r\\n\\t\\t\\t\\t</data>\\r\\n\\r\\n\\t\\t\\t\\t\\r\\n\\t\\t\\t\\t<data>\\r\\n\\t\\t\\t\\t\\t<mode>A02</mode>\\r\\n\\t\\t\\t\\t\\t<tmEf>2020-01-05 12:00</tmEf>\\r\\n\\t\\t\\t\\t\\t<wf>구름많음</wf>\\r\\n\\t\\t\\t\\t\\t<tmn>4</tmn>\\r\\n\\t\\t\\t\\t\\t<tmx>10</tmx>\\r\\n\\t\\t\\t\\t\\t<reliability></reliability>\\r\\n\\t\\t\\t\\t\\t<rnSt>30</rnSt>\\r\\n\\t\\t\\t\\t</data>\\r\\n\\r\\n\\t\\t\\t\\t\\r\\n\\t\\t\\t\\t<data>\\r\\n\\t\\t\\t\\t\\t<mode>A02</mode>\\r\\n\\t\\t\\t\\t\\t<tmEf>2020-01-06 00:00</tmEf>\\r\\n\\t\\t\\t\\t\\t<wf>구름많음</wf>\\r\\n\\t\\t\\t\\t\\t<tmn>8</tmn>\\r\\n\\t\\t\\t\\t\\t<tmx>14</tmx>\\r\\n\\t\\t\\t\\t\\t<reliability></reliability>\\r\\n\\t\\t\\t\\t\\t<rnSt>30</rnSt>\\r\\n\\t\\t\\t\\t</data>\\r\\n\\r\\n\\t\\t\\t\\t\\r\\n\\t\\t\\t\\t<data>\\r\\n\\t\\t\\t\\t\\t<mode>A02</mode>\\r\\n\\t\\t\\t\\t\\t<tmEf>2020-01-06 12:00</tmEf>\\r\\n\\t\\t\\t\\t\\t<wf>흐리고 비</wf>\\r\\n\\t\\t\\t\\t\\t<tmn>8</tmn>\\r\\n\\t\\t\\t\\t\\t<tmx>14</tmx>\\r\\n\\t\\t\\t\\t\\t<reliability></reliability>\\r\\n\\t\\t\\t\\t\\t<rnSt>60</rnSt>\\r\\n\\t\\t\\t\\t</data>\\r\\n\\r\\n\\t\\t\\t\\t\\r\\n\\t\\t\\t\\t<data>\\r\\n\\t\\t\\t\\t\\t<mode>A02</mode>\\r\\n\\t\\t\\t\\t\\t<tmEf>2020-01-07 00:00</tmEf>\\r\\n\\t\\t\\t\\t\\t<wf>흐리고 비</wf>\\r\\n\\t\\t\\t\\t\\t<tmn>11</tmn>\\r\\n\\t\\t\\t\\t\\t<tmx>16</tmx>\\r\\n\\t\\t\\t\\t\\t<reliability></reliability>\\r\\n\\t\\t\\t\\t\\t<rnSt>70</rnSt>\\r\\n\\t\\t\\t\\t</data>\\r\\n\\r\\n\\t\\t\\t\\t\\r\\n\\t\\t\\t\\t<data>\\r\\n\\t\\t\\t\\t\\t<mode>A02</mode>\\r\\n\\t\\t\\t\\t\\t<tmEf>2020-01-07 12:00</tmEf>\\r\\n\\t\\t\\t\\t\\t<wf>흐리고 비</wf>\\r\\n\\t\\t\\t\\t\\t<tmn>11</tmn>\\r\\n\\t\\t\\t\\t\\t<tmx>16</tmx>\\r\\n\\t\\t\\t\\t\\t<reliability></reliability>\\r\\n\\t\\t\\t\\t\\t<rnSt>70</rnSt>\\r\\n\\t\\t\\t\\t</data>\\r\\n\\r\\n\\t\\t\\t\\t\\r\\n\\t\\t\\t\\t<data>\\r\\n\\t\\t\\t\\t\\t<mode>A01</mode>\\r\\n\\t\\t\\t\\t\\t<tmEf>2020-01-08 00:00</tmEf>\\r\\n\\t\\t\\t\\t\\t<wf>흐리고 비</wf>\\r\\n\\t\\t\\t\\t\\t<tmn>10</tmn>\\r\\n\\t\\t\\t\\t\\t<tmx>12</tmx>\\r\\n\\t\\t\\t\\t\\t<reliability></reliability>\\r\\n\\t\\t\\t\\t\\t<rnSt>80</rnSt>\\r\\n\\t\\t\\t\\t</data>\\r\\n\\r\\n\\t\\t\\t\\t\\r\\n\\t\\t\\t\\t<data>\\r\\n\\t\\t\\t\\t\\t<mode>A01</mode>\\r\\n\\t\\t\\t\\t\\t<tmEf>2020-01-09 00:00</tmEf>\\r\\n\\t\\t\\t\\t\\t<wf>구름많음</wf>\\r\\n\\t\\t\\t\\t\\t<tmn>6</tmn>\\r\\n\\t\\t\\t\\t\\t<tmx>10</tmx>\\r\\n\\t\\t\\t\\t\\t<reliability></reliability>\\r\\n\\t\\t\\t\\t\\t<rnSt>40</rnSt>\\r\\n\\t\\t\\t\\t</data>\\r\\n\\r\\n\\t\\t\\t\\t\\r\\n\\t\\t\\t\\t<data>\\r\\n\\t\\t\\t\\t\\t<mode>A01</mode>\\r\\n\\t\\t\\t\\t\\t<tmEf>2020-01-10 00:00</tmEf>\\r\\n\\t\\t\\t\\t\\t<wf>구름많음</wf>\\r\\n\\t\\t\\t\\t\\t<tmn>5</tmn>\\r\\n\\t\\t\\t\\t\\t<tmx>11</tmx>\\r\\n\\t\\t\\t\\t\\t<reliability></reliability>\\r\\n\\t\\t\\t\\t\\t<rnSt>30</rnSt>\\r\\n\\t\\t\\t\\t</data>\\r\\n\\r\\n\\r\\n\\t\\t</location>\\r\\n\\r\\n\\t\\t<location wl_ver=\"3\">\\r\\n\\t\\t\\t\\t<province>제주도</province>\\r\\n\\t\\t\\t\\t<city>성판악</city>\\r\\n\\t\\t\\t\\t\\r\\n\\t\\t\\t\\t<data>\\r\\n\\t\\t\\t\\t\\t<mode>A02</mode>\\r\\n\\t\\t\\t\\t\\t<tmEf>2020-01-03 00:00</tmEf>\\r\\n\\t\\t\\t\\t\\t<wf>구름많음</wf>\\r\\n\\t\\t\\t\\t\\t<tmn>2</tmn>\\r\\n\\t\\t\\t\\t\\t<tmx>6</tmx>\\r\\n\\t\\t\\t\\t\\t<reliability></reliability>\\r\\n\\t\\t\\t\\t\\t<rnSt>40</rnSt>\\r\\n\\t\\t\\t\\t</data>\\r\\n\\r\\n\\t\\t\\t\\t\\r\\n\\t\\t\\t\\t<data>\\r\\n\\t\\t\\t\\t\\t<mode>A02</mode>\\r\\n\\t\\t\\t\\t\\t<tmEf>2020-01-03 12:00</tmEf>\\r\\n\\t\\t\\t\\t\\t<wf>구름많음</wf>\\r\\n\\t\\t\\t\\t\\t<tmn>2</tmn>\\r\\n\\t\\t\\t\\t\\t<tmx>6</tmx>\\r\\n\\t\\t\\t\\t\\t<reliability></reliability>\\r\\n\\t\\t\\t\\t\\t<rnSt>40</rnSt>\\r\\n\\t\\t\\t\\t</data>\\r\\n\\r\\n\\t\\t\\t\\t\\r\\n\\t\\t\\t\\t<data>\\r\\n\\t\\t\\t\\t\\t<mode>A02</mode>\\r\\n\\t\\t\\t\\t\\t<tmEf>2020-01-04 00:00</tmEf>\\r\\n\\t\\t\\t\\t\\t<wf>구름많음</wf>\\r\\n\\t\\t\\t\\t\\t<tmn>3</tmn>\\r\\n\\t\\t\\t\\t\\t<tmx>6</tmx>\\r\\n\\t\\t\\t\\t\\t<reliability></reliability>\\r\\n\\t\\t\\t\\t\\t<rnSt>30</rnSt>\\r\\n\\t\\t\\t\\t</data>\\r\\n\\r\\n\\t\\t\\t\\t\\r\\n\\t\\t\\t\\t<data>\\r\\n\\t\\t\\t\\t\\t<mode>A02</mode>\\r\\n\\t\\t\\t\\t\\t<tmEf>2020-01-04 12:00</tmEf>\\r\\n\\t\\t\\t\\t\\t<wf>맑음</wf>\\r\\n\\t\\t\\t\\t\\t<tmn>3</tmn>\\r\\n\\t\\t\\t\\t\\t<tmx>6</tmx>\\r\\n\\t\\t\\t\\t\\t<reliability></reliability>\\r\\n\\t\\t\\t\\t\\t<rnSt>10</rnSt>\\r\\n\\t\\t\\t\\t</data>\\r\\n\\r\\n\\t\\t\\t\\t\\r\\n\\t\\t\\t\\t<data>\\r\\n\\t\\t\\t\\t\\t<mode>A02</mode>\\r\\n\\t\\t\\t\\t\\t<tmEf>2020-01-05 00:00</tmEf>\\r\\n\\t\\t\\t\\t\\t<wf>맑음</wf>\\r\\n\\t\\t\\t\\t\\t<tmn>1</tmn>\\r\\n\\t\\t\\t\\t\\t<tmx>6</tmx>\\r\\n\\t\\t\\t\\t\\t<reliability></reliability>\\r\\n\\t\\t\\t\\t\\t<rnSt>0</rnSt>\\r\\n\\t\\t\\t\\t</data>\\r\\n\\r\\n\\t\\t\\t\\t\\r\\n\\t\\t\\t\\t<data>\\r\\n\\t\\t\\t\\t\\t<mode>A02</mode>\\r\\n\\t\\t\\t\\t\\t<tmEf>2020-01-05 12:00</tmEf>\\r\\n\\t\\t\\t\\t\\t<wf>구름많음</wf>\\r\\n\\t\\t\\t\\t\\t<tmn>1</tmn>\\r\\n\\t\\t\\t\\t\\t<tmx>6</tmx>\\r\\n\\t\\t\\t\\t\\t<reliability></reliability>\\r\\n\\t\\t\\t\\t\\t<rnSt>30</rnSt>\\r\\n\\t\\t\\t\\t</data>\\r\\n\\r\\n\\t\\t\\t\\t\\r\\n\\t\\t\\t\\t<data>\\r\\n\\t\\t\\t\\t\\t<mode>A02</mode>\\r\\n\\t\\t\\t\\t\\t<tmEf>2020-01-06 00:00</tmEf>\\r\\n\\t\\t\\t\\t\\t<wf>구름많음</wf>\\r\\n\\t\\t\\t\\t\\t<tmn>4</tmn>\\r\\n\\t\\t\\t\\t\\t<tmx>8</tmx>\\r\\n\\t\\t\\t\\t\\t<reliability></reliability>\\r\\n\\t\\t\\t\\t\\t<rnSt>30</rnSt>\\r\\n\\t\\t\\t\\t</data>\\r\\n\\r\\n\\t\\t\\t\\t\\r\\n\\t\\t\\t\\t<data>\\r\\n\\t\\t\\t\\t\\t<mode>A02</mode>\\r\\n\\t\\t\\t\\t\\t<tmEf>2020-01-06 12:00</tmEf>\\r\\n\\t\\t\\t\\t\\t<wf>흐리고 비</wf>\\r\\n\\t\\t\\t\\t\\t<tmn>4</tmn>\\r\\n\\t\\t\\t\\t\\t<tmx>8</tmx>\\r\\n\\t\\t\\t\\t\\t<reliability></reliability>\\r\\n\\t\\t\\t\\t\\t<rnSt>60</rnSt>\\r\\n\\t\\t\\t\\t</data>\\r\\n\\r\\n\\t\\t\\t\\t\\r\\n\\t\\t\\t\\t<data>\\r\\n\\t\\t\\t\\t\\t<mode>A02</mode>\\r\\n\\t\\t\\t\\t\\t<tmEf>2020-01-07 00:00</tmEf>\\r\\n\\t\\t\\t\\t\\t<wf>흐리고 비</wf>\\r\\n\\t\\t\\t\\t\\t<tmn>7</tmn>\\r\\n\\t\\t\\t\\t\\t<tmx>12</tmx>\\r\\n\\t\\t\\t\\t\\t<reliability></reliability>\\r\\n\\t\\t\\t\\t\\t<rnSt>70</rnSt>\\r\\n\\t\\t\\t\\t</data>\\r\\n\\r\\n\\t\\t\\t\\t\\r\\n\\t\\t\\t\\t<data>\\r\\n\\t\\t\\t\\t\\t<mode>A02</mode>\\r\\n\\t\\t\\t\\t\\t<tmEf>2020-01-07 12:00</tmEf>\\r\\n\\t\\t\\t\\t\\t<wf>흐리고 비</wf>\\r\\n\\t\\t\\t\\t\\t<tmn>7</tmn>\\r\\n\\t\\t\\t\\t\\t<tmx>12</tmx>\\r\\n\\t\\t\\t\\t\\t<reliability></reliability>\\r\\n\\t\\t\\t\\t\\t<rnSt>70</rnSt>\\r\\n\\t\\t\\t\\t</data>\\r\\n\\r\\n\\t\\t\\t\\t\\r\\n\\t\\t\\t\\t<data>\\r\\n\\t\\t\\t\\t\\t<mode>A01</mode>\\r\\n\\t\\t\\t\\t\\t<tmEf>2020-01-08 00:00</tmEf>\\r\\n\\t\\t\\t\\t\\t<wf>흐리고 비</wf>\\r\\n\\t\\t\\t\\t\\t<tmn>5</tmn>\\r\\n\\t\\t\\t\\t\\t<tmx>6</tmx>\\r\\n\\t\\t\\t\\t\\t<reliability></reliability>\\r\\n\\t\\t\\t\\t\\t<rnSt>80</rnSt>\\r\\n\\t\\t\\t\\t</data>\\r\\n\\r\\n\\t\\t\\t\\t\\r\\n\\t\\t\\t\\t<data>\\r\\n\\t\\t\\t\\t\\t<mode>A01</mode>\\r\\n\\t\\t\\t\\t\\t<tmEf>2020-01-09 00:00</tmEf>\\r\\n\\t\\t\\t\\t\\t<wf>구름많음</wf>\\r\\n\\t\\t\\t\\t\\t<tmn>1</tmn>\\r\\n\\t\\t\\t\\t\\t<tmx>4</tmx>\\r\\n\\t\\t\\t\\t\\t<reliability></reliability>\\r\\n\\t\\t\\t\\t\\t<rnSt>40</rnSt>\\r\\n\\t\\t\\t\\t</data>\\r\\n\\r\\n\\t\\t\\t\\t\\r\\n\\t\\t\\t\\t<data>\\r\\n\\t\\t\\t\\t\\t<mode>A01</mode>\\r\\n\\t\\t\\t\\t\\t<tmEf>2020-01-10 00:00</tmEf>\\r\\n\\t\\t\\t\\t\\t<wf>구름많음</wf>\\r\\n\\t\\t\\t\\t\\t<tmn>-2</tmn>\\r\\n\\t\\t\\t\\t\\t<tmx>4</tmx>\\r\\n\\t\\t\\t\\t\\t<reliability></reliability>\\r\\n\\t\\t\\t\\t\\t<rnSt>30</rnSt>\\r\\n\\t\\t\\t\\t</data>\\r\\n\\r\\n\\r\\n\\t\\t</location>\\r\\n\\r\\n\\t\\t<location wl_ver=\"3\">\\r\\n\\t\\t\\t\\t<province>제주도</province>\\r\\n\\t\\t\\t\\t<city>고산</city>\\r\\n\\t\\t\\t\\t\\r\\n\\t\\t\\t\\t<data>\\r\\n\\t\\t\\t\\t\\t<mode>A02</mode>\\r\\n\\t\\t\\t\\t\\t<tmEf>2020-01-03 00:00</tmEf>\\r\\n\\t\\t\\t\\t\\t<wf>구름많음</wf>\\r\\n\\t\\t\\t\\t\\t<tmn>8</tmn>\\r\\n\\t\\t\\t\\t\\t<tmx>12</tmx>\\r\\n\\t\\t\\t\\t\\t<reliability></reliability>\\r\\n\\t\\t\\t\\t\\t<rnSt>40</rnSt>\\r\\n\\t\\t\\t\\t</data>\\r\\n\\r\\n\\t\\t\\t\\t\\r\\n\\t\\t\\t\\t<data>\\r\\n\\t\\t\\t\\t\\t<mode>A02</mode>\\r\\n\\t\\t\\t\\t\\t<tmEf>2020-01-03 12:00</tmEf>\\r\\n\\t\\t\\t\\t\\t<wf>구름많음</wf>\\r\\n\\t\\t\\t\\t\\t<tmn>8</tmn>\\r\\n\\t\\t\\t\\t\\t<tmx>12</tmx>\\r\\n\\t\\t\\t\\t\\t<reliability></reliability>\\r\\n\\t\\t\\t\\t\\t<rnSt>40</rnSt>\\r\\n\\t\\t\\t\\t</data>\\r\\n\\r\\n\\t\\t\\t\\t\\r\\n\\t\\t\\t\\t<data>\\r\\n\\t\\t\\t\\t\\t<mode>A02</mode>\\r\\n\\t\\t\\t\\t\\t<tmEf>2020-01-04 00:00</tmEf>\\r\\n\\t\\t\\t\\t\\t<wf>구름많음</wf>\\r\\n\\t\\t\\t\\t\\t<tmn>8</tmn>\\r\\n\\t\\t\\t\\t\\t<tmx>11</tmx>\\r\\n\\t\\t\\t\\t\\t<reliability></reliability>\\r\\n\\t\\t\\t\\t\\t<rnSt>30</rnSt>\\r\\n\\t\\t\\t\\t</data>\\r\\n\\r\\n\\t\\t\\t\\t\\r\\n\\t\\t\\t\\t<data>\\r\\n\\t\\t\\t\\t\\t<mode>A02</mode>\\r\\n\\t\\t\\t\\t\\t<tmEf>2020-01-04 12:00</tmEf>\\r\\n\\t\\t\\t\\t\\t<wf>맑음</wf>\\r\\n\\t\\t\\t\\t\\t<tmn>8</tmn>\\r\\n\\t\\t\\t\\t\\t<tmx>11</tmx>\\r\\n\\t\\t\\t\\t\\t<reliability></reliability>\\r\\n\\t\\t\\t\\t\\t<rnSt>10</rnSt>\\r\\n\\t\\t\\t\\t</data>\\r\\n\\r\\n\\t\\t\\t\\t\\r\\n\\t\\t\\t\\t<data>\\r\\n\\t\\t\\t\\t\\t<mode>A02</mode>\\r\\n\\t\\t\\t\\t\\t<tmEf>2020-01-05 00:00</tmEf>\\r\\n\\t\\t\\t\\t\\t<wf>맑음</wf>\\r\\n\\t\\t\\t\\t\\t<tmn>6</tmn>\\r\\n\\t\\t\\t\\t\\t<tmx>11</tmx>\\r\\n\\t\\t\\t\\t\\t<reliability></reliability>\\r\\n\\t\\t\\t\\t\\t<rnSt>0</rnSt>\\r\\n\\t\\t\\t\\t</data>\\r\\n\\r\\n\\t\\t\\t\\t\\r\\n\\t\\t\\t\\t<data>\\r\\n\\t\\t\\t\\t\\t<mode>A02</mode>\\r\\n\\t\\t\\t\\t\\t<tmEf>2020-01-05 12:00</tmEf>\\r\\n\\t\\t\\t\\t\\t<wf>구름많음</wf>\\r\\n\\t\\t\\t\\t\\t<tmn>6</tmn>\\r\\n\\t\\t\\t\\t\\t<tmx>11</tmx>\\r\\n\\t\\t\\t\\t\\t<reliability></reliability>\\r\\n\\t\\t\\t\\t\\t<rnSt>30</rnSt>\\r\\n\\t\\t\\t\\t</data>\\r\\n\\r\\n\\t\\t\\t\\t\\r\\n\\t\\t\\t\\t<data>\\r\\n\\t\\t\\t\\t\\t<mode>A02</mode>\\r\\n\\t\\t\\t\\t\\t<tmEf>2020-01-06 00:00</tmEf>\\r\\n\\t\\t\\t\\t\\t<wf>구름많음</wf>\\r\\n\\t\\t\\t\\t\\t<tmn>9</tmn>\\r\\n\\t\\t\\t\\t\\t<tmx>14</tmx>\\r\\n\\t\\t\\t\\t\\t<reliability></reliability>\\r\\n\\t\\t\\t\\t\\t<rnSt>30</rnSt>\\r\\n\\t\\t\\t\\t</data>\\r\\n\\r\\n\\t\\t\\t\\t\\r\\n\\t\\t\\t\\t<data>\\r\\n\\t\\t\\t\\t\\t<mode>A02</mode>\\r\\n\\t\\t\\t\\t\\t<tmEf>2020-01-06 12:00</tmEf>\\r\\n\\t\\t\\t\\t\\t<wf>흐리고 비</wf>\\r\\n\\t\\t\\t\\t\\t<tmn>9</tmn>\\r\\n\\t\\t\\t\\t\\t<tmx>14</tmx>\\r\\n\\t\\t\\t\\t\\t<reliability></reliability>\\r\\n\\t\\t\\t\\t\\t<rnSt>60</rnSt>\\r\\n\\t\\t\\t\\t</data>\\r\\n\\r\\n\\t\\t\\t\\t\\r\\n\\t\\t\\t\\t<data>\\r\\n\\t\\t\\t\\t\\t<mode>A02</mode>\\r\\n\\t\\t\\t\\t\\t<tmEf>2020-01-07 00:00</tmEf>\\r\\n\\t\\t\\t\\t\\t<wf>흐리고 비</wf>\\r\\n\\t\\t\\t\\t\\t<tmn>12</tmn>\\r\\n\\t\\t\\t\\t\\t<tmx>15</tmx>\\r\\n\\t\\t\\t\\t\\t<reliability></reliability>\\r\\n\\t\\t\\t\\t\\t<rnSt>70</rnSt>\\r\\n\\t\\t\\t\\t</data>\\r\\n\\r\\n\\t\\t\\t\\t\\r\\n\\t\\t\\t\\t<data>\\r\\n\\t\\t\\t\\t\\t<mode>A02</mode>\\r\\n\\t\\t\\t\\t\\t<tmEf>2020-01-07 12:00</tmEf>\\r\\n\\t\\t\\t\\t\\t<wf>흐리고 비</wf>\\r\\n\\t\\t\\t\\t\\t<tmn>12</tmn>\\r\\n\\t\\t\\t\\t\\t<tmx>15</tmx>\\r\\n\\t\\t\\t\\t\\t<reliability></reliability>\\r\\n\\t\\t\\t\\t\\t<rnSt>70</rnSt>\\r\\n\\t\\t\\t\\t</data>\\r\\n\\r\\n\\t\\t\\t\\t\\r\\n\\t\\t\\t\\t<data>\\r\\n\\t\\t\\t\\t\\t<mode>A01</mode>\\r\\n\\t\\t\\t\\t\\t<tmEf>2020-01-08 00:00</tmEf>\\r\\n\\t\\t\\t\\t\\t<wf>흐리고 비</wf>\\r\\n\\t\\t\\t\\t\\t<tmn>9</tmn>\\r\\n\\t\\t\\t\\t\\t<tmx>12</tmx>\\r\\n\\t\\t\\t\\t\\t<reliability></reliability>\\r\\n\\t\\t\\t\\t\\t<rnSt>80</rnSt>\\r\\n\\t\\t\\t\\t</data>\\r\\n\\r\\n\\t\\t\\t\\t\\r\\n\\t\\t\\t\\t<data>\\r\\n\\t\\t\\t\\t\\t<mode>A01</mode>\\r\\n\\t\\t\\t\\t\\t<tmEf>2020-01-09 00:00</tmEf>\\r\\n\\t\\t\\t\\t\\t<wf>구름많음</wf>\\r\\n\\t\\t\\t\\t\\t<tmn>7</tmn>\\r\\n\\t\\t\\t\\t\\t<tmx>9</tmx>\\r\\n\\t\\t\\t\\t\\t<reliability></reliability>\\r\\n\\t\\t\\t\\t\\t<rnSt>40</rnSt>\\r\\n\\t\\t\\t\\t</data>\\r\\n\\r\\n\\t\\t\\t\\t\\r\\n\\t\\t\\t\\t<data>\\r\\n\\t\\t\\t\\t\\t<mode>A01</mode>\\r\\n\\t\\t\\t\\t\\t<tmEf>2020-01-10 00:00</tmEf>\\r\\n\\t\\t\\t\\t\\t<wf>구름많음</wf>\\r\\n\\t\\t\\t\\t\\t<tmn>7</tmn>\\r\\n\\t\\t\\t\\t\\t<tmx>10</tmx>\\r\\n\\t\\t\\t\\t\\t<reliability></reliability>\\r\\n\\t\\t\\t\\t\\t<rnSt>30</rnSt>\\r\\n\\t\\t\\t\\t</data>\\r\\n\\r\\n\\r\\n\\t\\t</location>\\r\\n\\r\\n\\t\\t<location wl_ver=\"3\">\\r\\n\\t\\t\\t\\t<province>제주도</province>\\r\\n\\t\\t\\t\\t<city>이어도</city>\\r\\n\\t\\t\\t\\t\\r\\n\\t\\t\\t\\t<data>\\r\\n\\t\\t\\t\\t\\t<mode>A02</mode>\\r\\n\\t\\t\\t\\t\\t<tmEf>2020-01-03 00:00</tmEf>\\r\\n\\t\\t\\t\\t\\t<wf>구름많음</wf>\\r\\n\\t\\t\\t\\t\\t<tmn>11</tmn>\\r\\n\\t\\t\\t\\t\\t<tmx>13</tmx>\\r\\n\\t\\t\\t\\t\\t<reliability></reliability>\\r\\n\\t\\t\\t\\t\\t<rnSt>40</rnSt>\\r\\n\\t\\t\\t\\t</data>\\r\\n\\r\\n\\t\\t\\t\\t\\r\\n\\t\\t\\t\\t<data>\\r\\n\\t\\t\\t\\t\\t<mode>A02</mode>\\r\\n\\t\\t\\t\\t\\t<tmEf>2020-01-03 12:00</tmEf>\\r\\n\\t\\t\\t\\t\\t<wf>구름많음</wf>\\r\\n\\t\\t\\t\\t\\t<tmn>11</tmn>\\r\\n\\t\\t\\t\\t\\t<tmx>13</tmx>\\r\\n\\t\\t\\t\\t\\t<reliability></reliability>\\r\\n\\t\\t\\t\\t\\t<rnSt>40</rnSt>\\r\\n\\t\\t\\t\\t</data>\\r\\n\\r\\n\\t\\t\\t\\t\\r\\n\\t\\t\\t\\t<data>\\r\\n\\t\\t\\t\\t\\t<mode>A02</mode>\\r\\n\\t\\t\\t\\t\\t<tmEf>2020-01-04 00:00</tmEf>\\r\\n\\t\\t\\t\\t\\t<wf>구름많음</wf>\\r\\n\\t\\t\\t\\t\\t<tmn>12</tmn>\\r\\n\\t\\t\\t\\t\\t<tmx>13</tmx>\\r\\n\\t\\t\\t\\t\\t<reliability></reliability>\\r\\n\\t\\t\\t\\t\\t<rnSt>30</rnSt>\\r\\n\\t\\t\\t\\t</data>\\r\\n\\r\\n\\t\\t\\t\\t\\r\\n\\t\\t\\t\\t<data>\\r\\n\\t\\t\\t\\t\\t<mode>A02</mode>\\r\\n\\t\\t\\t\\t\\t<tmEf>2020-01-04 12:00</tmEf>\\r\\n\\t\\t\\t\\t\\t<wf>맑음</wf>\\r\\n\\t\\t\\t\\t\\t<tmn>12</tmn>\\r\\n\\t\\t\\t\\t\\t<tmx>13</tmx>\\r\\n\\t\\t\\t\\t\\t<reliability></reliability>\\r\\n\\t\\t\\t\\t\\t<rnSt>10</rnSt>\\r\\n\\t\\t\\t\\t</data>\\r\\n\\r\\n\\t\\t\\t\\t\\r\\n\\t\\t\\t\\t<data>\\r\\n\\t\\t\\t\\t\\t<mode>A02</mode>\\r\\n\\t\\t\\t\\t\\t<tmEf>2020-01-05 00:00</tmEf>\\r\\n\\t\\t\\t\\t\\t<wf>맑음</wf>\\r\\n\\t\\t\\t\\t\\t<tmn>12</tmn>\\r\\n\\t\\t\\t\\t\\t<tmx>12</tmx>\\r\\n\\t\\t\\t\\t\\t<reliability></reliability>\\r\\n\\t\\t\\t\\t\\t<rnSt>0</rnSt>\\r\\n\\t\\t\\t\\t</data>\\r\\n\\r\\n\\t\\t\\t\\t\\r\\n\\t\\t\\t\\t<data>\\r\\n\\t\\t\\t\\t\\t<mode>A02</mode>\\r\\n\\t\\t\\t\\t\\t<tmEf>2020-01-05 12:00</tmEf>\\r\\n\\t\\t\\t\\t\\t<wf>구름많음</wf>\\r\\n\\t\\t\\t\\t\\t<tmn>12</tmn>\\r\\n\\t\\t\\t\\t\\t<tmx>12</tmx>\\r\\n\\t\\t\\t\\t\\t<reliability></reliability>\\r\\n\\t\\t\\t\\t\\t<rnSt>30</rnSt>\\r\\n\\t\\t\\t\\t</data>\\r\\n\\r\\n\\t\\t\\t\\t\\r\\n\\t\\t\\t\\t<data>\\r\\n\\t\\t\\t\\t\\t<mode>A02</mode>\\r\\n\\t\\t\\t\\t\\t<tmEf>2020-01-06 00:00</tmEf>\\r\\n\\t\\t\\t\\t\\t<wf>구름많음</wf>\\r\\n\\t\\t\\t\\t\\t<tmn>14</tmn>\\r\\n\\t\\t\\t\\t\\t<tmx>15</tmx>\\r\\n\\t\\t\\t\\t\\t<reliability></reliability>\\r\\n\\t\\t\\t\\t\\t<rnSt>30</rnSt>\\r\\n\\t\\t\\t\\t</data>\\r\\n\\r\\n\\t\\t\\t\\t\\r\\n\\t\\t\\t\\t<data>\\r\\n\\t\\t\\t\\t\\t<mode>A02</mode>\\r\\n\\t\\t\\t\\t\\t<tmEf>2020-01-06 12:00</tmEf>\\r\\n\\t\\t\\t\\t\\t<wf>흐리고 비</wf>\\r\\n\\t\\t\\t\\t\\t<tmn>14</tmn>\\r\\n\\t\\t\\t\\t\\t<tmx>15</tmx>\\r\\n\\t\\t\\t\\t\\t<reliability></reliability>\\r\\n\\t\\t\\t\\t\\t<rnSt>60</rnSt>\\r\\n\\t\\t\\t\\t</data>\\r\\n\\r\\n\\t\\t\\t\\t\\r\\n\\t\\t\\t\\t<data>\\r\\n\\t\\t\\t\\t\\t<mode>A02</mode>\\r\\n\\t\\t\\t\\t\\t<tmEf>2020-01-07 00:00</tmEf>\\r\\n\\t\\t\\t\\t\\t<wf>흐리고 비</wf>\\r\\n\\t\\t\\t\\t\\t<tmn>15</tmn>\\r\\n\\t\\t\\t\\t\\t<tmx>16</tmx>\\r\\n\\t\\t\\t\\t\\t<reliability></reliability>\\r\\n\\t\\t\\t\\t\\t<rnSt>70</rnSt>\\r\\n\\t\\t\\t\\t</data>\\r\\n\\r\\n\\t\\t\\t\\t\\r\\n\\t\\t\\t\\t<data>\\r\\n\\t\\t\\t\\t\\t<mode>A02</mode>\\r\\n\\t\\t\\t\\t\\t<tmEf>2020-01-07 12:00</tmEf>\\r\\n\\t\\t\\t\\t\\t<wf>흐리고 비</wf>\\r\\n\\t\\t\\t\\t\\t<tmn>15</tmn>\\r\\n\\t\\t\\t\\t\\t<tmx>16</tmx>\\r\\n\\t\\t\\t\\t\\t<reliability></reliability>\\r\\n\\t\\t\\t\\t\\t<rnSt>70</rnSt>\\r\\n\\t\\t\\t\\t</data>\\r\\n\\r\\n\\t\\t\\t\\t\\r\\n\\t\\t\\t\\t<data>\\r\\n\\t\\t\\t\\t\\t<mode>A01</mode>\\r\\n\\t\\t\\t\\t\\t<tmEf>2020-01-08 00:00</tmEf>\\r\\n\\t\\t\\t\\t\\t<wf>흐리고 비</wf>\\r\\n\\t\\t\\t\\t\\t<tmn>11</tmn>\\r\\n\\t\\t\\t\\t\\t<tmx>12</tmx>\\r\\n\\t\\t\\t\\t\\t<reliability></reliability>\\r\\n\\t\\t\\t\\t\\t<rnSt>80</rnSt>\\r\\n\\t\\t\\t\\t</data>\\r\\n\\r\\n\\t\\t\\t\\t\\r\\n\\t\\t\\t\\t<data>\\r\\n\\t\\t\\t\\t\\t<mode>A01</mode>\\r\\n\\t\\t\\t\\t\\t<tmEf>2020-01-09 00:00</tmEf>\\r\\n\\t\\t\\t\\t\\t<wf>구름많음</wf>\\r\\n\\t\\t\\t\\t\\t<tmn>10</tmn>\\r\\n\\t\\t\\t\\t\\t<tmx>10</tmx>\\r\\n\\t\\t\\t\\t\\t<reliability></reliability>\\r\\n\\t\\t\\t\\t\\t<rnSt>40</rnSt>\\r\\n\\t\\t\\t\\t</data>\\r\\n\\r\\n\\t\\t\\t\\t\\r\\n\\t\\t\\t\\t<data>\\r\\n\\t\\t\\t\\t\\t<mode>A01</mode>\\r\\n\\t\\t\\t\\t\\t<tmEf>2020-01-10 00:00</tmEf>\\r\\n\\t\\t\\t\\t\\t<wf>구름많음</wf>\\r\\n\\t\\t\\t\\t\\t<tmn>12</tmn>\\r\\n\\t\\t\\t\\t\\t<tmx>13</tmx>\\r\\n\\t\\t\\t\\t\\t<reliability></reliability>\\r\\n\\t\\t\\t\\t\\t<rnSt>30</rnSt>\\r\\n\\t\\t\\t\\t</data>\\r\\n\\r\\n\\r\\n\\t\\t</location>\\r\\n\\r\\n\\t\\t<location wl_ver=\"3\">\\r\\n\\t\\t\\t\\t<province>제주도</province>\\r\\n\\t\\t\\t\\t<city>추자도</city>\\r\\n\\t\\t\\t\\t\\r\\n\\t\\t\\t\\t<data>\\r\\n\\t\\t\\t\\t\\t<mode>A02</mode>\\r\\n\\t\\t\\t\\t\\t<tmEf>2020-01-03 00:00</tmEf>\\r\\n\\t\\t\\t\\t\\t<wf>구름많음</wf>\\r\\n\\t\\t\\t\\t\\t<tmn>7</tmn>\\r\\n\\t\\t\\t\\t\\t<tmx>10</tmx>\\r\\n\\t\\t\\t\\t\\t<reliability></reliability>\\r\\n\\t\\t\\t\\t\\t<rnSt>40</rnSt>\\r\\n\\t\\t\\t\\t</data>\\r\\n\\r\\n\\t\\t\\t\\t\\r\\n\\t\\t\\t\\t<data>\\r\\n\\t\\t\\t\\t\\t<mode>A02</mode>\\r\\n\\t\\t\\t\\t\\t<tmEf>2020-01-03 12:00</tmEf>\\r\\n\\t\\t\\t\\t\\t<wf>구름많음</wf>\\r\\n\\t\\t\\t\\t\\t<tmn>7</tmn>\\r\\n\\t\\t\\t\\t\\t<tmx>10</tmx>\\r\\n\\t\\t\\t\\t\\t<reliability></reliability>\\r\\n\\t\\t\\t\\t\\t<rnSt>40</rnSt>\\r\\n\\t\\t\\t\\t</data>\\r\\n\\r\\n\\t\\t\\t\\t\\r\\n\\t\\t\\t\\t<data>\\r\\n\\t\\t\\t\\t\\t<mode>A02</mode>\\r\\n\\t\\t\\t\\t\\t<tmEf>2020-01-04 00:00</tmEf>\\r\\n\\t\\t\\t\\t\\t<wf>구름많음</wf>\\r\\n\\t\\t\\t\\t\\t<tmn>9</tmn>\\r\\n\\t\\t\\t\\t\\t<tmx>12</tmx>\\r\\n\\t\\t\\t\\t\\t<reliability></reliability>\\r\\n\\t\\t\\t\\t\\t<rnSt>30</rnSt>\\r\\n\\t\\t\\t\\t</data>\\r\\n\\r\\n\\t\\t\\t\\t\\r\\n\\t\\t\\t\\t<data>\\r\\n\\t\\t\\t\\t\\t<mode>A02</mode>\\r\\n\\t\\t\\t\\t\\t<tmEf>2020-01-04 12:00</tmEf>\\r\\n\\t\\t\\t\\t\\t<wf>맑음</wf>\\r\\n\\t\\t\\t\\t\\t<tmn>9</tmn>\\r\\n\\t\\t\\t\\t\\t<tmx>12</tmx>\\r\\n\\t\\t\\t\\t\\t<reliability></reliability>\\r\\n\\t\\t\\t\\t\\t<rnSt>10</rnSt>\\r\\n\\t\\t\\t\\t</data>\\r\\n\\r\\n\\t\\t\\t\\t\\r\\n\\t\\t\\t\\t<data>\\r\\n\\t\\t\\t\\t\\t<mode>A02</mode>\\r\\n\\t\\t\\t\\t\\t<tmEf>2020-01-05 00:00</tmEf>\\r\\n\\t\\t\\t\\t\\t<wf>맑음</wf>\\r\\n\\t\\t\\t\\t\\t<tmn>5</tmn>\\r\\n\\t\\t\\t\\t\\t<tmx>9</tmx>\\r\\n\\t\\t\\t\\t\\t<reliability></reliability>\\r\\n\\t\\t\\t\\t\\t<rnSt>0</rnSt>\\r\\n\\t\\t\\t\\t</data>\\r\\n\\r\\n\\t\\t\\t\\t\\r\\n\\t\\t\\t\\t<data>\\r\\n\\t\\t\\t\\t\\t<mode>A02</mode>\\r\\n\\t\\t\\t\\t\\t<tmEf>2020-01-05 12:00</tmEf>\\r\\n\\t\\t\\t\\t\\t<wf>구름많음</wf>\\r\\n\\t\\t\\t\\t\\t<tmn>5</tmn>\\r\\n\\t\\t\\t\\t\\t<tmx>9</tmx>\\r\\n\\t\\t\\t\\t\\t<reliability></reliability>\\r\\n\\t\\t\\t\\t\\t<rnSt>30</rnSt>\\r\\n\\t\\t\\t\\t</data>\\r\\n\\r\\n\\t\\t\\t\\t\\r\\n\\t\\t\\t\\t<data>\\r\\n\\t\\t\\t\\t\\t<mode>A02</mode>\\r\\n\\t\\t\\t\\t\\t<tmEf>2020-01-06 00:00</tmEf>\\r\\n\\t\\t\\t\\t\\t<wf>구름많음</wf>\\r\\n\\t\\t\\t\\t\\t<tmn>9</tmn>\\r\\n\\t\\t\\t\\t\\t<tmx>10</tmx>\\r\\n\\t\\t\\t\\t\\t<reliability></reliability>\\r\\n\\t\\t\\t\\t\\t<rnSt>30</rnSt>\\r\\n\\t\\t\\t\\t</data>\\r\\n\\r\\n\\t\\t\\t\\t\\r\\n\\t\\t\\t\\t<data>\\r\\n\\t\\t\\t\\t\\t<mode>A02</mode>\\r\\n\\t\\t\\t\\t\\t<tmEf>2020-01-06 12:00</tmEf>\\r\\n\\t\\t\\t\\t\\t<wf>흐리고 비</wf>\\r\\n\\t\\t\\t\\t\\t<tmn>9</tmn>\\r\\n\\t\\t\\t\\t\\t<tmx>10</tmx>\\r\\n\\t\\t\\t\\t\\t<reliability></reliability>\\r\\n\\t\\t\\t\\t\\t<rnSt>60</rnSt>\\r\\n\\t\\t\\t\\t</data>\\r\\n\\r\\n\\t\\t\\t\\t\\r\\n\\t\\t\\t\\t<data>\\r\\n\\t\\t\\t\\t\\t<mode>A02</mode>\\r\\n\\t\\t\\t\\t\\t<tmEf>2020-01-07 00:00</tmEf>\\r\\n\\t\\t\\t\\t\\t<wf>흐리고 비</wf>\\r\\n\\t\\t\\t\\t\\t<tmn>11</tmn>\\r\\n\\t\\t\\t\\t\\t<tmx>15</tmx>\\r\\n\\t\\t\\t\\t\\t<reliability></reliability>\\r\\n\\t\\t\\t\\t\\t<rnSt>70</rnSt>\\r\\n\\t\\t\\t\\t</data>\\r\\n\\r\\n\\t\\t\\t\\t\\r\\n\\t\\t\\t\\t<data>\\r\\n\\t\\t\\t\\t\\t<mode>A02</mode>\\r\\n\\t\\t\\t\\t\\t<tmEf>2020-01-07 12:00</tmEf>\\r\\n\\t\\t\\t\\t\\t<wf>흐리고 비</wf>\\r\\n\\t\\t\\t\\t\\t<tmn>11</tmn>\\r\\n\\t\\t\\t\\t\\t<tmx>15</tmx>\\r\\n\\t\\t\\t\\t\\t<reliability></reliability>\\r\\n\\t\\t\\t\\t\\t<rnSt>70</rnSt>\\r\\n\\t\\t\\t\\t</data>\\r\\n\\r\\n\\t\\t\\t\\t\\r\\n\\t\\t\\t\\t<data>\\r\\n\\t\\t\\t\\t\\t<mode>A01</mode>\\r\\n\\t\\t\\t\\t\\t<tmEf>2020-01-08 00:00</tmEf>\\r\\n\\t\\t\\t\\t\\t<wf>흐리고 비</wf>\\r\\n\\t\\t\\t\\t\\t<tmn>10</tmn>\\r\\n\\t\\t\\t\\t\\t<tmx>10</tmx>\\r\\n\\t\\t\\t\\t\\t<reliability></reliability>\\r\\n\\t\\t\\t\\t\\t<rnSt>80</rnSt>\\r\\n\\t\\t\\t\\t</data>\\r\\n\\r\\n\\t\\t\\t\\t\\r\\n\\t\\t\\t\\t<data>\\r\\n\\t\\t\\t\\t\\t<mode>A01</mode>\\r\\n\\t\\t\\t\\t\\t<tmEf>2020-01-09 00:00</tmEf>\\r\\n\\t\\t\\t\\t\\t<wf>구름많음</wf>\\r\\n\\t\\t\\t\\t\\t<tmn>5</tmn>\\r\\n\\t\\t\\t\\t\\t<tmx>6</tmx>\\r\\n\\t\\t\\t\\t\\t<reliability></reliability>\\r\\n\\t\\t\\t\\t\\t<rnSt>40</rnSt>\\r\\n\\t\\t\\t\\t</data>\\r\\n\\r\\n\\t\\t\\t\\t\\r\\n\\t\\t\\t\\t<data>\\r\\n\\t\\t\\t\\t\\t<mode>A01</mode>\\r\\n\\t\\t\\t\\t\\t<tmEf>2020-01-10 00:00</tmEf>\\r\\n\\t\\t\\t\\t\\t<wf>구름많음</wf>\\r\\n\\t\\t\\t\\t\\t<tmn>3</tmn>\\r\\n\\t\\t\\t\\t\\t<tmx>9</tmx>\\r\\n\\t\\t\\t\\t\\t<reliability></reliability>\\r\\n\\t\\t\\t\\t\\t<rnSt>30</rnSt>\\r\\n\\t\\t\\t\\t</data>\\r\\n\\r\\n\\r\\n\\t\\t</location>\\r\\n\\r\\n\\r\\n\\t\\r\\n\\r\\n\\t</body>\\r\\n</description>\\r\\n</item>\\r\\n</channel>\\r\\n</rss>\\t'"
      ]
     },
     "execution_count": 25,
     "metadata": {},
     "output_type": "execute_result"
    }
   ],
   "source": [
    "data=urllib.request.urlopen(url).read()\n",
    "text=data.decode(\"utf-8\")\n",
    "text"
   ]
  },
  {
   "cell_type": "code",
   "execution_count": null,
   "metadata": {},
   "outputs": [],
   "source": [
    "\"\"\"\n",
    "파이썬 문자열 인코딩\n",
    "인코딩(encode) : 유니코드 -> byte열로 변환\n",
    "디코딩(decode) : byte열 -> 유니코드로 변환\n",
    "\n",
    "인코딩 : 문자 표현 -> 2진수 열(byte 열)\n",
    "인코딩방식 : ASCII, EUC-KR, CP949...\n",
    "\n",
    "인코딩 방식을 통일하고자 ==> 유니코드 탄생\n",
    "유니코딩(UTF-8, UTF-16. UTF-32.....)\n",
    "\n",
    "UTF-8이 가장 일반적으로 사용됨\n",
    "파이썬 문자열 자료형은 UTF-8\n",
    "\"\"\""
   ]
  },
  {
   "cell_type": "code",
   "execution_count": 37,
   "metadata": {},
   "outputs": [
    {
     "data": {
      "text/plain": [
       "6"
      ]
     },
     "execution_count": 37,
     "metadata": {},
     "output_type": "execute_result"
    }
   ],
   "source": [
    "text=\"안녕\" # 유니코드 상태\n",
    "len(text)\n",
    "\n",
    "l=bytearray(text, \"cp949\") # cp949에서 한글은 한 글자당 2byte씩 씀\n",
    "len(l)\n",
    "\n",
    "l=bytearray(text, \"utf-8\") # utf-8에서 한글은 한 글자당 2byte씩 씀\n",
    "len(l)"
   ]
  },
  {
   "cell_type": "code",
   "execution_count": 45,
   "metadata": {},
   "outputs": [
    {
     "name": "stdout",
     "output_type": "stream",
     "text": [
      "<class 'bytes'>\n",
      "10\n",
      "<class 'bytes'>\n",
      "10\n",
      "<class 'bytes'>\n",
      "15\n"
     ]
    }
   ],
   "source": [
    "test=\"안녕하세요\"\n",
    "type(test)\n",
    "s1=test.encode(\"cp949\")\n",
    "print(type(s1))\n",
    "print(len(s1))\n",
    "\n",
    "s2=test.encode(\"euc-kr\")\n",
    "print(type(s2))\n",
    "print(len(s2))\n",
    "\n",
    "s3=test.encode(\"utf-8\")\n",
    "print(type(s3))\n",
    "print(len(s3))"
   ]
  },
  {
   "cell_type": "code",
   "execution_count": 49,
   "metadata": {},
   "outputs": [
    {
     "data": {
      "text/plain": [
       "'안녕하세요'"
      ]
     },
     "execution_count": 49,
     "metadata": {},
     "output_type": "execute_result"
    }
   ],
   "source": [
    "s1.decode(\"cp949\")\n",
    "s1.decode(\"euc-kr\")\n",
    "# s1.decode(\"utf-8\")"
   ]
  },
  {
   "cell_type": "code",
   "execution_count": null,
   "metadata": {},
   "outputs": [],
   "source": [
    "\"\"\"\n",
    "스크래핑 : 웹사이트에서 원하는 정보를 추출하는 작업\n",
    "\"\"\""
   ]
  },
  {
   "cell_type": "code",
   "execution_count": null,
   "metadata": {},
   "outputs": [],
   "source": [
    "\"\"\"\n",
    "데이터 수집 과정  // 1 ~ 3 이 수집과정\n",
    "1) 수집 대상 웹사이트에서 개발자 도구를 활용하여 스크랩 대상에 대한 선택자를 복사한다.\n",
    "2) 파이썬에서 urlretrieve, urlopen 등을 사용하여 웹페이지를 가져온다.\n",
    "3) 파서를 사용하여 파싱한다. (parsing)\n",
    "    -> 가져온 웹 문서에서 태그를 기준으로 원하는 데이터를 추출한다.\n",
    "4) 데이터에 대한 전처리를 수행한다.\n",
    "5) 모델링......\n",
    "\"\"\""
   ]
  },
  {
   "cell_type": "code",
   "execution_count": null,
   "metadata": {},
   "outputs": [],
   "source": [
    "# 윤동주 시인\n",
    "#mw-content-text > div > div:nth-child(77) > table > tbody > tr > td"
   ]
  },
  {
   "cell_type": "code",
   "execution_count": 59,
   "metadata": {},
   "outputs": [
    {
     "name": "stdout",
     "output_type": "stream",
     "text": [
      "\n",
      "\n",
      "\n",
      "1,156.50\n",
      "\n",
      "\n",
      "원\n",
      "\n"
     ]
    }
   ],
   "source": [
    "# 환율\n",
    "import urllib.request as req\n",
    "from bs4 import BeautifulSoup\n",
    "url=\"https://finance.naver.com/marketindex/exchangeDetail.nhn?marketindexCd=FX_USDKRW\"\n",
    "res=req.urlopen(url)\n",
    "soup=BeautifulSoup(res, \"html.parser\")\n",
    "#print(soup)\n",
    "p=soup.select_one(\"#content > div.spot > div.today > p.no_today\").text\n",
    "print(p)\n",
    "#content > div.spot > div.today > p.no_today"
   ]
  },
  {
   "cell_type": "code",
   "execution_count": null,
   "metadata": {},
   "outputs": [],
   "source": []
  },
  {
   "cell_type": "code",
   "execution_count": null,
   "metadata": {},
   "outputs": [],
   "source": []
  },
  {
   "cell_type": "code",
   "execution_count": null,
   "metadata": {},
   "outputs": [],
   "source": []
  },
  {
   "cell_type": "code",
   "execution_count": null,
   "metadata": {},
   "outputs": [],
   "source": []
  },
  {
   "cell_type": "code",
   "execution_count": null,
   "metadata": {},
   "outputs": [],
   "source": []
  }
 ],
 "metadata": {
  "kernelspec": {
   "display_name": "Python 3",
   "language": "python",
   "name": "python3"
  },
  "language_info": {
   "codemirror_mode": {
    "name": "ipython",
    "version": 3
   },
   "file_extension": ".py",
   "mimetype": "text/x-python",
   "name": "python",
   "nbconvert_exporter": "python",
   "pygments_lexer": "ipython3",
   "version": "3.7.4"
  }
 },
 "nbformat": 4,
 "nbformat_minor": 2
}
