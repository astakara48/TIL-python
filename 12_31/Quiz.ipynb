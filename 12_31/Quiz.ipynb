{
 "cells": [
  {
   "cell_type": "code",
   "execution_count": null,
   "metadata": {},
   "outputs": [],
   "source": [
    "# 1번\n",
    "daum = 89000\n",
    "naver = 751000\n",
    "total = daum*100 + naver*20\n",
    "print(\"%s\" %total)"
   ]
  },
  {
   "cell_type": "code",
   "execution_count": null,
   "metadata": {},
   "outputs": [],
   "source": [
    "# 2번\n",
    "daum*=0.95\n",
    "naver*=0.9\n",
    "total = total - (daum*100 + naver*20)\n",
    "print(\"손실액 : %s\" %total)"
   ]
  },
  {
   "cell_type": "code",
   "execution_count": null,
   "metadata": {},
   "outputs": [],
   "source": [
    "# 3번\n",
    "f = 50\n",
    "c = (f-32)/1.8\n",
    "print(\"%s\" %c)"
   ]
  },
  {
   "cell_type": "code",
   "execution_count": null,
   "metadata": {},
   "outputs": [],
   "source": [
    "# 4번\n",
    "print(\"pizza\"*10)"
   ]
  },
  {
   "cell_type": "code",
   "execution_count": null,
   "metadata": {},
   "outputs": [],
   "source": [
    "# 5번\n",
    "naver = 1000000\n",
    "naver = (((naver*0.7)*0.7)*0.7)\n",
    "print(\"%s\" %naver)\n"
   ]
  },
  {
   "cell_type": "code",
   "execution_count": null,
   "metadata": {},
   "outputs": [],
   "source": [
    "# 6번\n",
    "s=\"파이썬 2014년 12월 12일 20141212-1623210\"\n",
    "s1=s.split(\" \")\n",
    "print(\"이름: %s 생년월일: %s %s %s 주민등록번호: %s\" %(s1[0],s1[1],s1[2],s1[3],s1[4]))"
   ]
  },
  {
   "cell_type": "code",
   "execution_count": null,
   "metadata": {},
   "outputs": [],
   "source": [
    "# 7번\n",
    "s = \"Daum KaKao\"\n",
    "s = s[5:]+\" \"+s[:4]\n",
    "print(s)\n"
   ]
  },
  {
   "cell_type": "code",
   "execution_count": null,
   "metadata": {},
   "outputs": [],
   "source": [
    "# 8번\n",
    "a = \"hello world\"\n",
    "a1 = \"hi\"\n",
    "a = a1+a[5:]\n",
    "print(a)"
   ]
  },
  {
   "cell_type": "code",
   "execution_count": null,
   "metadata": {},
   "outputs": [],
   "source": [
    "# 9번\n",
    "x=\"abcdef\"\n",
    "x=x[1:]+x[0]\n",
    "print(x)"
   ]
  },
  {
   "cell_type": "code",
   "execution_count": null,
   "metadata": {},
   "outputs": [],
   "source": [
    "# 10번\n",
    "naver_closing_price=[474500,488500,500500,501000,461500]"
   ]
  },
  {
   "cell_type": "code",
   "execution_count": null,
   "metadata": {},
   "outputs": [],
   "source": [
    "# 11번\n",
    "print(max(naver_closing_price))"
   ]
  },
  {
   "cell_type": "code",
   "execution_count": null,
   "metadata": {},
   "outputs": [],
   "source": [
    "# 12번\n",
    "print(min(naver_closing_price))"
   ]
  },
  {
   "cell_type": "code",
   "execution_count": null,
   "metadata": {},
   "outputs": [],
   "source": [
    "# 13번\n",
    "print(\"%d\" %(max(naver_closing_price)-min(naver_closing_price)))"
   ]
  },
  {
   "cell_type": "code",
   "execution_count": null,
   "metadata": {},
   "outputs": [],
   "source": [
    "# 14번\n",
    "print(\"수요일에 종가 : %d\" %(max(naver_closing_price)))"
   ]
  },
  {
   "cell_type": "code",
   "execution_count": null,
   "metadata": {},
   "outputs": [],
   "source": [
    "# 15번\n",
    "naver_closing_price2 = {\"09/11\":488500, \"09/10\":500500, \"09/09\":501000, \"09/08\":461500, \"09/07\":474500}\n",
    "naver_closing_price2\n"
   ]
  },
  {
   "cell_type": "code",
   "execution_count": null,
   "metadata": {},
   "outputs": [],
   "source": [
    "# 16번\n",
    "print(naver_closing_price2[\"09/09\"])"
   ]
  },
  {
   "cell_type": "code",
   "execution_count": null,
   "metadata": {},
   "outputs": [],
   "source": [
    "# 17번\n",
    "apart = [[101, 102, 103, 104],[201, 202, 203, 204],[301, 302, 303, 304], [401, 402, 403, 404]]\n",
    "arrears = [101, 203, 301, 404]\n",
    "\n",
    "for a in apart:\n",
    "    for b in a:\n",
    "        if b in arrears:\n",
    "            continue\n",
    "        else:\n",
    "            print(\"배달할 집은 : %d\" %b)\n",
    "\n"
   ]
  },
  {
   "cell_type": "code",
   "execution_count": null,
   "metadata": {},
   "outputs": [],
   "source": [
    "# 18번\n",
    "def myaverage(a,b):\n",
    "    return (a+b)/2\n",
    "\n",
    "a,b = input(\"두 수를 입력하세요 : \").split()\n",
    "a=int(a)\n",
    "b=int(b)\n",
    "print(\"두 수의 평균 : %d\" %myaverage(a,b))"
   ]
  },
  {
   "cell_type": "code",
   "execution_count": null,
   "metadata": {},
   "outputs": [],
   "source": [
    "# 19번\n",
    "def get_max_min(data_list):\n",
    "    return max(data_list), min(data_list)\n",
    "\n",
    "a = input(\"숫자 리스트를 입력하세요 \").split()\n",
    "print(\"최대값 : %s, 최소값 : %s\" % get_max_min(a))"
   ]
  },
  {
   "cell_type": "code",
   "execution_count": null,
   "metadata": {},
   "outputs": [],
   "source": [
    "f = open(\"c:/users/student/downloads/Python/12_31/test.txt\", \"w\")\n",
    "for i in range(1, 11):\n",
    "    data = \"%d번째 줄입니다.\\n\" % i\n",
    "    f.write(data)\n",
    "f.close()"
   ]
  },
  {
   "cell_type": "code",
   "execution_count": null,
   "metadata": {},
   "outputs": [],
   "source": [
    "# 20번\n",
    "def get_txt_list(path):\n",
    "    list=[]\n",
    "    for i in path:\n",
    "        list.append(i)\n",
    "    return list\n",
    "f = open(\"c:/users/student/downloads/Python/12_31/test.txt\",\"r\")\n",
    "while True:\n",
    "    line = f.readline()\n",
    "    get_txt_list(line)\n",
    "    if not line:\n",
    "        break\n",
    "    print(get_txt_list)\n",
    "\n",
    "f.close()"
   ]
  },
  {
   "cell_type": "code",
   "execution_count": 13,
   "metadata": {},
   "outputs": [
    {
     "name": "stdout",
     "output_type": "stream",
     "text": [
      "키와 몸무게를 입력하세요 : 180 40\n",
      "마른체형\n",
      "\n",
      "키와 몸무게를 입력하세요 : 50 505\n",
      "고도 비만\n",
      "\n",
      "키와 몸무게를 입력하세요 : 555 555\n",
      "마른체형\n",
      "\n",
      "키와 몸무게를 입력하세요 : 5555555555 55\n",
      "마른체형\n",
      "\n",
      "키와 몸무게를 입력하세요 : ee\n",
      "잘못된 값이 입력되었으므로 종료합니다.\n"
     ]
    },
    {
     "ename": "SystemExit",
     "evalue": "",
     "output_type": "error",
     "traceback": [
      "An exception has occurred, use %tb to see the full traceback.\n",
      "\u001b[1;31mSystemExit\u001b[0m\n"
     ]
    }
   ],
   "source": [
    "# 21번 + 22번\n",
    "import sys\n",
    "def bmi():\n",
    "    try:\n",
    "        cm, kg = input(\"키와 몸무게를 입력하세요 : \").split()\n",
    "        cm = int(cm)\n",
    "        kg = int(kg)\n",
    "        val = kg/((cm/100)**2)\n",
    "    except ZeroDivisionError:\n",
    "        print(\"키 or 몸무게가 0이 들어갔으므로 종료합니다.\")\n",
    "        sys.exit()\n",
    "    except ValueError:\n",
    "        print(\"잘못된 값이 입력되었으므로 종료합니다.\")\n",
    "        sys.exit()\n",
    "    else:\n",
    "        if val < 18.5:\n",
    "            return print(\"마른체형\\n\")\n",
    "        if val >= 18.5 and val < 25.0:\n",
    "            return print(\"표준\\n\")\n",
    "        if val >= 25.0 and val < 30.0:\n",
    "            return print(\"비만\\n\")\n",
    "        elif val >=30.0:\n",
    "            return print(\"고도 비만\\n\")\n",
    "\n",
    "while True:\n",
    "    bmi()"
   ]
  },
  {
   "cell_type": "code",
   "execution_count": null,
   "metadata": {},
   "outputs": [],
   "source": [
    "# 23번\n",
    "def get_triangle_area(width, height):\n",
    "    return (width*height)/2\n",
    "\n",
    "width,height = input(\"밑변과 높이를 입력하세요.\").split()\n",
    "width = int(width)\n",
    "height = int(height)\n",
    "print(\"삼각형의 면적은 : %d\" %get_triangle_area(width,height))\n",
    "\n"
   ]
  },
  {
   "cell_type": "code",
   "execution_count": null,
   "metadata": {},
   "outputs": [],
   "source": [
    "# 24번\n",
    "def add_start_to_end(start,end):\n",
    "    sum=0\n",
    "    for i in range(start, end+1):\n",
    "        sum = sum + i\n",
    "    return sum\n",
    "start, end = input(\"시작과 끝 숫자를 입력하세요.\").split()\n",
    "start = int(start)\n",
    "end = int(end)\n",
    "print(\"총합은 : %d\" %add_start_to_end(start, end))"
   ]
  },
  {
   "cell_type": "code",
   "execution_count": null,
   "metadata": {},
   "outputs": [],
   "source": [
    "# 25번\n",
    "def get_3word(s):\n",
    "    list=[]\n",
    "    for i in s:\n",
    "        list.append(i[:3])\n",
    "    return list\n",
    "s=['Seoul', 'Daegu', 'Kwangju', 'Jeju']\n",
    "print(get_3word(s))"
   ]
  },
  {
   "cell_type": "code",
   "execution_count": null,
   "metadata": {},
   "outputs": [],
   "source": [
    "# Baby-gin Game\n",
    "import random\n",
    "list=[0,1,2,3,4,5,6,7,8,9]\n",
    "select=[]\n",
    "cnt=0\n",
    "while True:\n",
    "    select.append(random.choice(list))\n",
    "    cnt+=1\n",
    "    if cnt==6:\n",
    "        break\n",
    "\n",
    "print(\"선택된 숫자 6개 : \", select)\n"
   ]
  },
  {
   "cell_type": "code",
   "execution_count": null,
   "metadata": {},
   "outputs": [],
   "source": [
    "\"\"\"\n",
    "Counting sort -> 계수 정렬\n",
    "1. \n",
    "\n",
    "\"\"\""
   ]
  },
  {
   "cell_type": "code",
   "execution_count": null,
   "metadata": {},
   "outputs": [],
   "source": []
  }
 ],
 "metadata": {
  "kernelspec": {
   "display_name": "Python 3",
   "language": "python",
   "name": "python3"
  },
  "language_info": {
   "codemirror_mode": {
    "name": "ipython",
    "version": 3
   },
   "file_extension": ".py",
   "mimetype": "text/x-python",
   "name": "python",
   "nbconvert_exporter": "python",
   "pygments_lexer": "ipython3",
   "version": "3.7.4"
  }
 },
 "nbformat": 4,
 "nbformat_minor": 2
}
