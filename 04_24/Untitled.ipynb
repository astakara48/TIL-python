{
 "cells": [
  {
   "cell_type": "code",
   "execution_count": 1,
   "metadata": {},
   "outputs": [
    {
     "name": "stderr",
     "output_type": "stream",
     "text": [
      "Using TensorFlow backend.\n"
     ]
    }
   ],
   "source": [
    "from keras.datasets import mnist\n",
    "from keras.utils import np_utils\n",
    "import numpy\n",
    "import sys\n",
    "import tensorflow as tf"
   ]
  },
  {
   "cell_type": "code",
   "execution_count": 37,
   "metadata": {},
   "outputs": [],
   "source": [
    "(xTrain,yTrain),(xTest,yTest)=mnist.load_data()"
   ]
  },
  {
   "cell_type": "code",
   "execution_count": 33,
   "metadata": {},
   "outputs": [],
   "source": [
    "import matplotlib.pyplot as plt"
   ]
  },
  {
   "cell_type": "code",
   "execution_count": 34,
   "metadata": {},
   "outputs": [
    {
     "data": {
      "image/png": "[encoded data removed]",
      "text/plain": [
       "<Figure size 432x288 with 1 Axes>"
      ]
     },
     "metadata": {
      "needs_background": "light"
     },
     "output_type": "display_data"
    }
   ],
   "source": [
    "plt.imshow(xTrain[0], cmap='Greys')\n",
    "plt.show()"
   ]
  },
  {
   "cell_type": "code",
   "execution_count": 35,
   "metadata": {
    "scrolled": true
   },
   "outputs": [
    {
     "name": "stdout",
     "output_type": "stream",
     "text": [
      "0\t0\t0\t0\t0\t0\t0\t0\t0\t0\t0\t0\t0\t0\t0\t0\t0\t0\t0\t0\t0\t0\t0\t0\t0\t0\t0\t0\t\n",
      "0\t0\t0\t0\t0\t0\t0\t0\t0\t0\t0\t0\t0\t0\t0\t0\t0\t0\t0\t0\t0\t0\t0\t0\t0\t0\t0\t0\t\n",
      "0\t0\t0\t0\t0\t0\t0\t0\t0\t0\t0\t0\t0\t0\t0\t0\t0\t0\t0\t0\t0\t0\t0\t0\t0\t0\t0\t0\t\n",
      "0\t0\t0\t0\t0\t0\t0\t0\t0\t0\t0\t0\t0\t0\t0\t0\t0\t0\t0\t0\t0\t0\t0\t0\t0\t0\t0\t0\t\n",
      "0\t0\t0\t0\t0\t0\t0\t0\t0\t0\t0\t0\t0\t0\t0\t0\t0\t0\t0\t0\t0\t0\t0\t0\t0\t0\t0\t0\t\n",
      "0\t0\t0\t0\t0\t0\t0\t0\t0\t0\t0\t0\t3\t18\t18\t18\t126\t136\t175\t26\t166\t255\t247\t127\t0\t0\t0\t0\t\n",
      "0\t0\t0\t0\t0\t0\t0\t0\t30\t36\t94\t154\t170\t253\t253\t253\t253\t253\t225\t172\t253\t242\t195\t64\t0\t0\t0\t0\t\n",
      "0\t0\t0\t0\t0\t0\t0\t49\t238\t253\t253\t253\t253\t253\t253\t253\t253\t251\t93\t82\t82\t56\t39\t0\t0\t0\t0\t0\t\n",
      "0\t0\t0\t0\t0\t0\t0\t18\t219\t253\t253\t253\t253\t253\t198\t182\t247\t241\t0\t0\t0\t0\t0\t0\t0\t0\t0\t0\t\n",
      "0\t0\t0\t0\t0\t0\t0\t0\t80\t156\t107\t253\t253\t205\t11\t0\t43\t154\t0\t0\t0\t0\t0\t0\t0\t0\t0\t0\t\n",
      "0\t0\t0\t0\t0\t0\t0\t0\t0\t14\t1\t154\t253\t90\t0\t0\t0\t0\t0\t0\t0\t0\t0\t0\t0\t0\t0\t0\t\n",
      "0\t0\t0\t0\t0\t0\t0\t0\t0\t0\t0\t139\t253\t190\t2\t0\t0\t0\t0\t0\t0\t0\t0\t0\t0\t0\t0\t0\t\n",
      "0\t0\t0\t0\t0\t0\t0\t0\t0\t0\t0\t11\t190\t253\t70\t0\t0\t0\t0\t0\t0\t0\t0\t0\t0\t0\t0\t0\t\n",
      "0\t0\t0\t0\t0\t0\t0\t0\t0\t0\t0\t0\t35\t241\t225\t160\t108\t1\t0\t0\t0\t0\t0\t0\t0\t0\t0\t0\t\n",
      "0\t0\t0\t0\t0\t0\t0\t0\t0\t0\t0\t0\t0\t81\t240\t253\t253\t119\t25\t0\t0\t0\t0\t0\t0\t0\t0\t0\t\n",
      "0\t0\t0\t0\t0\t0\t0\t0\t0\t0\t0\t0\t0\t0\t45\t186\t253\t253\t150\t27\t0\t0\t0\t0\t0\t0\t0\t0\t\n",
      "0\t0\t0\t0\t0\t0\t0\t0\t0\t0\t0\t0\t0\t0\t0\t16\t93\t252\t253\t187\t0\t0\t0\t0\t0\t0\t0\t0\t\n",
      "0\t0\t0\t0\t0\t0\t0\t0\t0\t0\t0\t0\t0\t0\t0\t0\t0\t249\t253\t249\t64\t0\t0\t0\t0\t0\t0\t0\t\n",
      "0\t0\t0\t0\t0\t0\t0\t0\t0\t0\t0\t0\t0\t0\t46\t130\t183\t253\t253\t207\t2\t0\t0\t0\t0\t0\t0\t0\t\n",
      "0\t0\t0\t0\t0\t0\t0\t0\t0\t0\t0\t0\t39\t148\t229\t253\t253\t253\t250\t182\t0\t0\t0\t0\t0\t0\t0\t0\t\n",
      "0\t0\t0\t0\t0\t0\t0\t0\t0\t0\t24\t114\t221\t253\t253\t253\t253\t201\t78\t0\t0\t0\t0\t0\t0\t0\t0\t0\t\n",
      "0\t0\t0\t0\t0\t0\t0\t0\t23\t66\t213\t253\t253\t253\t253\t198\t81\t2\t0\t0\t0\t0\t0\t0\t0\t0\t0\t0\t\n",
      "0\t0\t0\t0\t0\t0\t18\t171\t219\t253\t253\t253\t253\t195\t80\t9\t0\t0\t0\t0\t0\t0\t0\t0\t0\t0\t0\t0\t\n",
      "0\t0\t0\t0\t55\t172\t226\t253\t253\t253\t253\t244\t133\t11\t0\t0\t0\t0\t0\t0\t0\t0\t0\t0\t0\t0\t0\t0\t\n",
      "0\t0\t0\t0\t136\t253\t253\t253\t212\t135\t132\t16\t0\t0\t0\t0\t0\t0\t0\t0\t0\t0\t0\t0\t0\t0\t0\t0\t\n",
      "0\t0\t0\t0\t0\t0\t0\t0\t0\t0\t0\t0\t0\t0\t0\t0\t0\t0\t0\t0\t0\t0\t0\t0\t0\t0\t0\t0\t\n",
      "0\t0\t0\t0\t0\t0\t0\t0\t0\t0\t0\t0\t0\t0\t0\t0\t0\t0\t0\t0\t0\t0\t0\t0\t0\t0\t0\t0\t\n",
      "0\t0\t0\t0\t0\t0\t0\t0\t0\t0\t0\t0\t0\t0\t0\t0\t0\t0\t0\t0\t0\t0\t0\t0\t0\t0\t0\t0\t\n"
     ]
    }
   ],
   "source": [
    "# 수치데이터 확인\n",
    "for x in xTrain[0]:\n",
    "    for i in x:\n",
    "        sys.stdout.write(\"%d\\t\" %i)\n",
    "    sys.stdout.write(\"\\n\")"
   ]
  },
  {
   "cell_type": "code",
   "execution_count": 38,
   "metadata": {},
   "outputs": [],
   "source": [
    "xTrain=xTrain.reshape(xTrain.shape[0],784)\n",
    "xTrain=xTrain.astype('float64') # 32와 64는 정밀도 차이\n",
    "xTrain=xTrain/255\n",
    "xTest=xTest.reshape(xTest.shape[0],784).astype('float64')/255"
   ]
  },
  {
   "cell_type": "code",
   "execution_count": 39,
   "metadata": {},
   "outputs": [
    {
     "name": "stdout",
     "output_type": "stream",
     "text": [
      "5\n"
     ]
    }
   ],
   "source": [
    "print(yTrain[0])"
   ]
  },
  {
   "cell_type": "code",
   "execution_count": 40,
   "metadata": {},
   "outputs": [],
   "source": [
    "yTrain=np_utils.to_categorical(yTrain,10)\n",
    "yTest=np_utils.to_categorical(yTest,10)"
   ]
  },
  {
   "cell_type": "code",
   "execution_count": 9,
   "metadata": {},
   "outputs": [
    {
     "data": {
      "text/plain": [
       "array([0., 0., 0., 0., 0., 1., 0., 0., 0., 0.], dtype=float32)"
      ]
     },
     "execution_count": 9,
     "metadata": {},
     "output_type": "execute_result"
    }
   ],
   "source": [
    "yTrain[0]"
   ]
  },
  {
   "cell_type": "code",
   "execution_count": 10,
   "metadata": {},
   "outputs": [],
   "source": [
    "from keras.models import Sequential\n",
    "from keras.layers import Dense\n",
    "from keras.callbacks import ModelCheckpoint, EarlyStopping\n",
    "import numpy as np\n",
    "import tensorflow as tf\n",
    "import os"
   ]
  },
  {
   "cell_type": "code",
   "execution_count": 11,
   "metadata": {},
   "outputs": [
    {
     "name": "stdout",
     "output_type": "stream",
     "text": [
      "WARNING:tensorflow:From C:\\Users\\student\\Anaconda3\\lib\\site-packages\\tensorflow_core\\python\\ops\\resource_variable_ops.py:1630: calling BaseResourceVariable.__init__ (from tensorflow.python.ops.resource_variable_ops) with constraint is deprecated and will be removed in a future version.\n",
      "Instructions for updating:\n",
      "If using Keras pass *_constraint arguments to layers.\n"
     ]
    }
   ],
   "source": [
    "# 모델 구성\n",
    "model=Sequential()\n",
    "model.add(Dense(512,input_dim=784, activation='relu'))\n",
    "model.add(Dense(10, activation='softmax'))"
   ]
  },
  {
   "cell_type": "code",
   "execution_count": 12,
   "metadata": {},
   "outputs": [],
   "source": [
    "# 모델 환경설정\n",
    "model.compile(loss='categorical_crossentropy', optimizer='adam', metrics=['accuracy'])"
   ]
  },
  {
   "cell_type": "code",
   "execution_count": 15,
   "metadata": {},
   "outputs": [],
   "source": [
    "# 모델 최적화\n",
    "modelDir='./myModel/'\n",
    "# 만약 myModel 디렉토리가 이미 존재하지 않는 다면\n",
    "if not os.path.exists(modelDir):\n",
    "    modelPath='./myModel/{epoch:02d}-{val_loss:.4f}.hdf5'\n",
    "    os.makedirs(modelDir) # 경로 지정\n",
    "    \n",
    "# ModelCheckpoint 콜백 함수 :  keras에서 모델을 학습할떄마다 중간중간 callback 형태로 알려 줌\n",
    "# save_best_only : 모델읮 ㅓㅇ확도가 최고값을 갱신했을때만 저장\n",
    "checkpointer=ModelCheckpoint(filepath=modelPath, monitor='val_loss', verbose=1, save_best_only=True)\n",
    "es=EarlyStopping(monitor='val_loss', patience=10)"
   ]
  },
  {
   "cell_type": "code",
   "execution_count": 18,
   "metadata": {},
   "outputs": [
    {
     "name": "stdout",
     "output_type": "stream",
     "text": [
      "Train on 60000 samples, validate on 10000 samples\n",
      "Epoch 1/30\n",
      "60000/60000 [==============================] - 3s 48us/step - loss: 0.0012 - accuracy: 0.9999 - val_loss: 0.0669 - val_accuracy: 0.9835\n",
      "\n",
      "Epoch 00001: val_loss did not improve from 0.05861\n",
      "Epoch 2/30\n",
      "60000/60000 [==============================] - 3s 47us/step - loss: 5.5713e-04 - accuracy: 1.0000 - val_loss: 0.0661 - val_accuracy: 0.9841\n",
      "\n",
      "Epoch 00002: val_loss did not improve from 0.05861\n",
      "Epoch 3/30\n",
      "60000/60000 [==============================] - 3s 47us/step - loss: 4.2968e-04 - accuracy: 1.0000 - val_loss: 0.0666 - val_accuracy: 0.9843\n",
      "\n",
      "Epoch 00003: val_loss did not improve from 0.05861\n",
      "Epoch 4/30\n",
      "60000/60000 [==============================] - 3s 46us/step - loss: 3.6238e-04 - accuracy: 1.0000 - val_loss: 0.0669 - val_accuracy: 0.9839\n",
      "\n",
      "Epoch 00004: val_loss did not improve from 0.05861\n",
      "Epoch 5/30\n",
      "60000/60000 [==============================] - 3s 47us/step - loss: 3.1122e-04 - accuracy: 1.0000 - val_loss: 0.0672 - val_accuracy: 0.9848\n",
      "\n",
      "Epoch 00005: val_loss did not improve from 0.05861\n",
      "Epoch 6/30\n",
      "60000/60000 [==============================] - 3s 47us/step - loss: 2.9108e-04 - accuracy: 1.0000 - val_loss: 0.0679 - val_accuracy: 0.9841\n",
      "\n",
      "Epoch 00006: val_loss did not improve from 0.05861\n",
      "Epoch 7/30\n",
      "60000/60000 [==============================] - 3s 49us/step - loss: 2.5011e-04 - accuracy: 1.0000 - val_loss: 0.0682 - val_accuracy: 0.9834\n",
      "\n",
      "Epoch 00007: val_loss did not improve from 0.05861\n",
      "Epoch 8/30\n",
      "60000/60000 [==============================] - 3s 47us/step - loss: 2.2473e-04 - accuracy: 1.0000 - val_loss: 0.0690 - val_accuracy: 0.9839\n",
      "\n",
      "Epoch 00008: val_loss did not improve from 0.05861\n",
      "Epoch 9/30\n",
      "60000/60000 [==============================] - 3s 49us/step - loss: 1.9666e-04 - accuracy: 1.0000 - val_loss: 0.0693 - val_accuracy: 0.9844\n",
      "\n",
      "Epoch 00009: val_loss did not improve from 0.05861\n",
      "Epoch 10/30\n",
      "60000/60000 [==============================] - 3s 53us/step - loss: 1.7574e-04 - accuracy: 1.0000 - val_loss: 0.0692 - val_accuracy: 0.9836\n",
      "\n",
      "Epoch 00010: val_loss did not improve from 0.05861\n",
      "Epoch 11/30\n",
      "60000/60000 [==============================] - 3s 48us/step - loss: 1.5739e-04 - accuracy: 1.0000 - val_loss: 0.0705 - val_accuracy: 0.9848\n",
      "\n",
      "Epoch 00011: val_loss did not improve from 0.05861\n",
      "Epoch 12/30\n",
      "60000/60000 [==============================] - 3s 54us/step - loss: 0.0192 - accuracy: 0.9940 - val_loss: 0.0857 - val_accuracy: 0.9802\n",
      "\n",
      "Epoch 00012: val_loss did not improve from 0.05861\n"
     ]
    }
   ],
   "source": [
    "# 모델 생성\n",
    "history=model.fit(xTrain,yTrain,validation_data=(xTest,yTest), epochs=30, batch_size=200, callbacks=[es,checkpointer])"
   ]
  },
  {
   "cell_type": "code",
   "execution_count": 19,
   "metadata": {},
   "outputs": [
    {
     "name": "stdout",
     "output_type": "stream",
     "text": [
      "10000/10000 [==============================] - 0s 40us/step\n",
      "테스트 정확도 : 0.9802\n"
     ]
    }
   ],
   "source": [
    "print(\"테스트 정확도 : %.4f\" %(model.evaluate(xTest, yTest)[1]))"
   ]
  },
  {
   "cell_type": "code",
   "execution_count": 20,
   "metadata": {},
   "outputs": [],
   "source": [
    "yVloss=history.history['val_loss'] # 테스트 셋의 오차\n",
    "yLoss=history.history['loss'] # 학습 셋의 오차"
   ]
  },
  {
   "cell_type": "code",
   "execution_count": 23,
   "metadata": {},
   "outputs": [
    {
     "data": {
      "text/plain": [
       "<function matplotlib.pyplot.show(*args, **kw)>"
      ]
     },
     "execution_count": 23,
     "metadata": {},
     "output_type": "execute_result"
    },
    {
     "data": {
      "image/png": "[encoded data removed]",
      "text/plain": [
       "<Figure size 432x288 with 1 Axes>"
      ]
     },
     "metadata": {
      "needs_background": "light"
     },
     "output_type": "display_data"
    }
   ],
   "source": [
    "xLen=np.arange(len(yLoss))\n",
    "plt.plot(xLen,yVloss,marker='.',c='red',label='testset_loss')\n",
    "plt.plot(xLen,yLoss,marker='.',c='blue',label='trainset_loss')\n",
    "plt.legend() # 범례 추가\n",
    "plt.grid() # 격자 추가\n",
    "plt.xlabel('epoch')\n",
    "plt.ylabel('loss')\n",
    "plt.show"
   ]
  },
  {
   "cell_type": "code",
   "execution_count": 26,
   "metadata": {},
   "outputs": [],
   "source": [
    "# CNN으로 MNIST 모델 만들기\n",
    "from keras.layers import *"
   ]
  },
  {
   "cell_type": "code",
   "execution_count": 27,
   "metadata": {},
   "outputs": [
    {
     "name": "stdout",
     "output_type": "stream",
     "text": [
      "WARNING:tensorflow:From C:\\Users\\student\\Anaconda3\\lib\\site-packages\\keras\\backend\\tensorflow_backend.py:4070: The name tf.nn.max_pool is deprecated. Please use tf.nn.max_pool2d instead.\n",
      "\n"
     ]
    }
   ],
   "source": [
    "model=Sequential()\n",
    "model.add(Conv2D(32,kernel_size=(3,3),input_shape=(28,28,1),activation='relu'))\n",
    "# Conv2D(필터개수, kernel_size=(?,?), (행,열,색상), 활성화함수)\n",
    "model.add(Conv2D(64,(3,3),activation='relu'))\n",
    "model.add(MaxPooling2D(pool_size=2))\n",
    "model.add(Dropout(0.25)) # dropout할 비율을 줘야 함\n",
    "model.add(Flatten())\n",
    "# Flatten() : 1차원으로 변경하는 함수\n",
    "model.add(Dense(128, activation='relu'))\n",
    "model.add(Dropout(0.5))\n",
    "model.add(Dense(10, activation='softmax'))"
   ]
  },
  {
   "cell_type": "code",
   "execution_count": 29,
   "metadata": {},
   "outputs": [],
   "source": [
    "model.compile(loss='categorical_crossentropy', optimizer='adam', metrics=['accuracy'])"
   ]
  },
  {
   "cell_type": "code",
   "execution_count": 30,
   "metadata": {},
   "outputs": [],
   "source": [
    "# 모델 최적화\n",
    "modelDir='./myCnnModel/'\n",
    "# 만약 myModel 디렉토리가 이미 존재하지 않는 다면\n",
    "if not os.path.exists(modelDir):\n",
    "    modelPath='./myModel/{epoch:02d}-{val_loss:.4f}.hdf5'\n",
    "    os.makedirs(modelDir) # 경로 지정\n",
    "    \n",
    "# ModelCheckpoint 콜백 함수 :  keras에서 모델을 학습할떄마다 중간중간 callback 형태로 알려 줌\n",
    "# save_best_only : 모델읮 ㅓㅇ확도가 최고값을 갱신했을때만 저장\n",
    "checkpointer=ModelCheckpoint(filepath=modelPath, monitor='val_loss', verbose=1, save_best_only=True)\n",
    "es=EarlyStopping(monitor='val_loss', patience=10)"
   ]
  },
  {
   "cell_type": "code",
   "execution_count": 46,
   "metadata": {},
   "outputs": [],
   "source": [
    "(xTrain,yTrain),(xTest,yTest)=mnist.load_data()\n",
    "xTrain=xTrain.reshape(xTrain.shape[0],28,28,1).astype(\"float32\")/255\n",
    "xTest=xTest.reshape(xTest.shape[0],28,28,1).astype(\"float32\")/255\n",
    "yTrain=np_utils.to_categorical(yTrain)\n",
    "yTest=np_utils.to_categorical(yTest)"
   ]
  },
  {
   "cell_type": "code",
   "execution_count": 47,
   "metadata": {
    "scrolled": false
   },
   "outputs": [
    {
     "name": "stdout",
     "output_type": "stream",
     "text": [
      "Train on 60000 samples, validate on 10000 samples\n",
      "Epoch 1/30\n",
      "60000/60000 [==============================] - 65s 1ms/step - loss: 0.2856 - accuracy: 0.9138 - val_loss: 0.0555 - val_accuracy: 0.9813\n",
      "\n",
      "Epoch 00001: val_loss improved from inf to 0.05552, saving model to ./myModel/01-0.0555.hdf5\n",
      "Epoch 2/30\n",
      "60000/60000 [==============================] - 64s 1ms/step - loss: 0.0928 - accuracy: 0.9720 - val_loss: 0.0398 - val_accuracy: 0.9867\n",
      "\n",
      "Epoch 00002: val_loss improved from 0.05552 to 0.03980, saving model to ./myModel/02-0.0398.hdf5\n",
      "Epoch 3/30\n",
      "60000/60000 [==============================] - 66s 1ms/step - loss: 0.0652 - accuracy: 0.9802 - val_loss: 0.0308 - val_accuracy: 0.9897\n",
      "\n",
      "Epoch 00003: val_loss improved from 0.03980 to 0.03084, saving model to ./myModel/03-0.0308.hdf5\n",
      "Epoch 4/30\n",
      "60000/60000 [==============================] - 70s 1ms/step - loss: 0.0561 - accuracy: 0.9831 - val_loss: 0.0309 - val_accuracy: 0.9892\n",
      "\n",
      "Epoch 00004: val_loss did not improve from 0.03084\n",
      "Epoch 5/30\n",
      "60000/60000 [==============================] - 65s 1ms/step - loss: 0.0478 - accuracy: 0.9854 - val_loss: 0.0283 - val_accuracy: 0.9905\n",
      "\n",
      "Epoch 00005: val_loss improved from 0.03084 to 0.02829, saving model to ./myModel/05-0.0283.hdf5\n",
      "Epoch 6/30\n",
      "60000/60000 [==============================] - 68s 1ms/step - loss: 0.0422 - accuracy: 0.9872 - val_loss: 0.0281 - val_accuracy: 0.9908\n",
      "\n",
      "Epoch 00006: val_loss improved from 0.02829 to 0.02809, saving model to ./myModel/06-0.0281.hdf5\n",
      "Epoch 7/30\n",
      "60000/60000 [==============================] - 65s 1ms/step - loss: 0.0378 - accuracy: 0.9883 - val_loss: 0.0260 - val_accuracy: 0.9911\n",
      "\n",
      "Epoch 00007: val_loss improved from 0.02809 to 0.02605, saving model to ./myModel/07-0.0260.hdf5\n",
      "Epoch 8/30\n",
      "60000/60000 [==============================] - 64s 1ms/step - loss: 0.0327 - accuracy: 0.9898 - val_loss: 0.0303 - val_accuracy: 0.9901\n",
      "\n",
      "Epoch 00008: val_loss did not improve from 0.02605\n",
      "Epoch 9/30\n",
      "60000/60000 [==============================] - 65s 1ms/step - loss: 0.0278 - accuracy: 0.9904 - val_loss: 0.0294 - val_accuracy: 0.9926\n",
      "\n",
      "Epoch 00009: val_loss did not improve from 0.02605\n",
      "Epoch 10/30\n",
      "60000/60000 [==============================] - 64s 1ms/step - loss: 0.0296 - accuracy: 0.9904 - val_loss: 0.0262 - val_accuracy: 0.9919\n",
      "\n",
      "Epoch 00010: val_loss did not improve from 0.02605\n",
      "Epoch 11/30\n",
      "60000/60000 [==============================] - 71s 1ms/step - loss: 0.0237 - accuracy: 0.9924 - val_loss: 0.0268 - val_accuracy: 0.9919\n",
      "\n",
      "Epoch 00011: val_loss did not improve from 0.02605\n",
      "Epoch 12/30\n",
      "60000/60000 [==============================] - 70s 1ms/step - loss: 0.0245 - accuracy: 0.9919 - val_loss: 0.0351 - val_accuracy: 0.9888\n",
      "\n",
      "Epoch 00012: val_loss did not improve from 0.02605\n",
      "Epoch 13/30\n",
      "60000/60000 [==============================] - 67s 1ms/step - loss: 0.0212 - accuracy: 0.9927 - val_loss: 0.0292 - val_accuracy: 0.9918\n",
      "\n",
      "Epoch 00013: val_loss did not improve from 0.02605\n",
      "Epoch 14/30\n",
      "60000/60000 [==============================] - 67s 1ms/step - loss: 0.0207 - accuracy: 0.9932 - val_loss: 0.0283 - val_accuracy: 0.9914\n",
      "\n",
      "Epoch 00014: val_loss did not improve from 0.02605\n",
      "Epoch 15/30\n",
      "60000/60000 [==============================] - 66s 1ms/step - loss: 0.0207 - accuracy: 0.9930 - val_loss: 0.0279 - val_accuracy: 0.9916\n",
      "\n",
      "Epoch 00015: val_loss did not improve from 0.02605\n",
      "Epoch 16/30\n",
      "60000/60000 [==============================] - 64s 1ms/step - loss: 0.0199 - accuracy: 0.9933 - val_loss: 0.0308 - val_accuracy: 0.9920\n",
      "\n",
      "Epoch 00016: val_loss did not improve from 0.02605\n",
      "Epoch 17/30\n",
      "60000/60000 [==============================] - 64s 1ms/step - loss: 0.0178 - accuracy: 0.9939 - val_loss: 0.0288 - val_accuracy: 0.9923\n",
      "\n",
      "Epoch 00017: val_loss did not improve from 0.02605\n"
     ]
    }
   ],
   "source": [
    "# 모델 생성\n",
    "history=model.fit(xTrain,yTrain,validation_data=(xTest,yTest), epochs=30, batch_size=200, callbacks=[es,checkpointer])"
   ]
  },
  {
   "cell_type": "code",
   "execution_count": null,
   "metadata": {},
   "outputs": [],
   "source": [
    "# model.save(\"파일명.h5\")\n",
    "# from keras.models import load_model\n",
    "# model=load_model(\"모델파일명.h5\")\n",
    "# model.summary() # 모델 구조 출력\n",
    "# 분류 결과=model.predict_classes(테스트 데이터)"
   ]
  },
  {
   "cell_type": "code",
   "execution_count": null,
   "metadata": {},
   "outputs": [],
   "source": [
    "# 예측이 틀린 이미지를 8개 출력\n",
    "# label:9, pred:4....         label:1, pred:3....\n",
    "# 9 이미지 출력                1 이미지 출력\n",
    "# 2*4 형태로 틀링 ㄴ예측 결과 출력"
   ]
  },
  {
   "cell_type": "code",
   "execution_count": 48,
   "metadata": {},
   "outputs": [
    {
     "data": {
      "text/plain": [
       "10000"
      ]
     },
     "execution_count": 48,
     "metadata": {},
     "output_type": "execute_result"
    }
   ],
   "source": [
    "len(xTest)"
   ]
  },
  {
   "cell_type": "code",
   "execution_count": 49,
   "metadata": {},
   "outputs": [],
   "source": [
    "idx=np.random.choice(xTest.shape[0],10000)\n",
    "xHat=xTest[idx]\n",
    "yHat=model.predict_classes(xHat)"
   ]
  },
  {
   "cell_type": "code",
   "execution_count": 50,
   "metadata": {},
   "outputs": [
    {
     "data": {
      "text/plain": [
       "array([2, 2, 1, ..., 2, 4, 6], dtype=int64)"
      ]
     },
     "execution_count": 50,
     "metadata": {},
     "output_type": "execute_result"
    }
   ],
   "source": [
    "cnt=0\n",
    "ans=[]\n",
    "pred=[]\n",
    "for i in range(10000):\n",
    "    if xHat[i]!==yHat[i]:\n",
    "        ans.append(xHat[i])\n",
    "        pred.append(yHat[i])\n",
    "        cnt+=1\n",
    "    if cnt==8:\n",
    "        "
   ]
  },
  {
   "cell_type": "code",
   "execution_count": null,
   "metadata": {},
   "outputs": [],
   "source": []
  },
  {
   "cell_type": "code",
   "execution_count": 51,
   "metadata": {},
   "outputs": [],
   "source": [
    "# 이터레이터, 제너레이터\n",
    "# iterator : 값을 차례대로 꺼낼 수 있는 객체\n",
    "# for i in range(100):\n",
    "# 0~99까지 값을 차례대로 꺼낼 수 있는 이터레이터 객체 생성"
   ]
  },
  {
   "cell_type": "code",
   "execution_count": 58,
   "metadata": {},
   "outputs": [
    {
     "ename": "StopIteration",
     "evalue": "",
     "output_type": "error",
     "traceback": [
      "\u001b[1;31m---------------------------------------------------------------------------\u001b[0m",
      "\u001b[1;31mStopIteration\u001b[0m                             Traceback (most recent call last)",
      "\u001b[1;32m<ipython-input-58-b081e8dd5998>\u001b[0m in \u001b[0;36m<module>\u001b[1;34m\u001b[0m\n\u001b[0;32m      6\u001b[0m \u001b[0mit\u001b[0m\u001b[1;33m.\u001b[0m\u001b[0m__next__\u001b[0m\u001b[1;33m(\u001b[0m\u001b[1;33m)\u001b[0m\u001b[1;33m\u001b[0m\u001b[1;33m\u001b[0m\u001b[0m\n\u001b[0;32m      7\u001b[0m \u001b[0mit\u001b[0m\u001b[1;33m.\u001b[0m\u001b[0m__next__\u001b[0m\u001b[1;33m(\u001b[0m\u001b[1;33m)\u001b[0m\u001b[1;33m\u001b[0m\u001b[1;33m\u001b[0m\u001b[0m\n\u001b[1;32m----> 8\u001b[1;33m \u001b[0mit\u001b[0m\u001b[1;33m.\u001b[0m\u001b[0m__next__\u001b[0m\u001b[1;33m(\u001b[0m\u001b[1;33m)\u001b[0m\u001b[1;33m\u001b[0m\u001b[1;33m\u001b[0m\u001b[0m\n\u001b[0m",
      "\u001b[1;31mStopIteration\u001b[0m: "
     ]
    }
   ],
   "source": [
    "# iterable(반복가능객체, 문자열, 딕셔너리, 리스트...)\n",
    "# 객체가 iter메서드를 포함 여부 : 객체가 반복 가능한지 확인\n",
    "dir([1,2,3]) # __iter__\n",
    "it=[1,2,3].__iter__()\n",
    "it.__next__()\n",
    "it.__next__()\n",
    "it.__next__()\n",
    "it.__next__()"
   ]
  },
  {
   "cell_type": "code",
   "execution_count": 61,
   "metadata": {},
   "outputs": [
    {
     "data": {
      "text/plain": [
       "<set_iterator at 0x1da475910e8>"
      ]
     },
     "execution_count": 61,
     "metadata": {},
     "output_type": "execute_result"
    }
   ],
   "source": [
    "\"hello\".__iter__()\n",
    "{'a':1,'b':2}.__iter__()\n",
    "{1,2,3}.__iter__()"
   ]
  },
  {
   "cell_type": "code",
   "execution_count": 64,
   "metadata": {},
   "outputs": [
    {
     "name": "stdout",
     "output_type": "stream",
     "text": [
      "0\n",
      "1\n",
      "2\n"
     ]
    }
   ],
   "source": [
    "for i in range(3):\n",
    "    print(i)\n",
    "\n",
    "# 1. range에서 __iter__로 iterator 객체 생성\n",
    "# 2. 반복할떄마다 이터레이터에서 __next__를 호출해서 숫자를 꺼내서 i에 저장"
   ]
  },
  {
   "cell_type": "code",
   "execution_count": 65,
   "metadata": {},
   "outputs": [],
   "source": [
    "# 내가 만든 클래스에 __iter__, __next__\n",
    "# 두 메서드를 구현하면, 이터레이터 생성 가능"
   ]
  },
  {
   "cell_type": "code",
   "execution_count": 77,
   "metadata": {},
   "outputs": [
    {
     "name": "stdout",
     "output_type": "stream",
     "text": [
      "0\n",
      "1\n",
      "2\n",
      "3\n",
      "4\n"
     ]
    }
   ],
   "source": [
    "class MyCounter:\n",
    "    \n",
    "    def __getitem__(self,index):\n",
    "        if index<self.stop:\n",
    "            return index\n",
    "        else:\n",
    "            raise StopIteration\n",
    "    \n",
    "    def __init__(self,stop):\n",
    "        self.current=0\n",
    "        self.stop=stop  \n",
    "        \n",
    "#     def __iter__(self):\n",
    "#         return self\n",
    "    \n",
    "#     def __next__(self):\n",
    "#         if self.current < self.stop:\n",
    "#             r=self.current\n",
    "#             self.current+=1\n",
    "#             return r\n",
    "#         else:\n",
    "#             raise StopIteration\n",
    "        \n",
    "for i in MyCounter(5):\n",
    "    print(i) # 0 1 2 3 4 5"
   ]
  },
  {
   "cell_type": "code",
   "execution_count": 80,
   "metadata": {},
   "outputs": [
    {
     "name": "stdout",
     "output_type": "stream",
     "text": [
      "0\n",
      "1\n",
      "2\n"
     ]
    }
   ],
   "source": [
    "# MyCounter(3)[0]\n",
    "for i in MyCounter(3):\n",
    "    print(i)"
   ]
  },
  {
   "cell_type": "code",
   "execution_count": 70,
   "metadata": {},
   "outputs": [
    {
     "name": "stdout",
     "output_type": "stream",
     "text": [
      "0 1 2\n"
     ]
    }
   ],
   "source": [
    "a,b,c=MyCounter(3)\n",
    "print(a,b,c)"
   ]
  },
  {
   "cell_type": "code",
   "execution_count": 74,
   "metadata": {},
   "outputs": [
    {
     "name": "stdout",
     "output_type": "stream",
     "text": [
      "1 2 3\n"
     ]
    }
   ],
   "source": [
    "a,b,c=map(int,input().split())"
   ]
  },
  {
   "cell_type": "code",
   "execution_count": 81,
   "metadata": {},
   "outputs": [],
   "source": [
    "# 파이썬 iter 함수 : 객체의 __iter__ 메서드를 호출\n",
    "# 파이썬 next 함수 : 객체의 __next__ 메서드를 호출 -> 다음값을 갖고 옴"
   ]
  },
  {
   "cell_type": "code",
   "execution_count": 83,
   "metadata": {},
   "outputs": [
    {
     "data": {
      "text/plain": [
       "0"
      ]
     },
     "execution_count": 83,
     "metadata": {},
     "output_type": "execute_result"
    }
   ],
   "source": [
    "it=iter(range(3))\n",
    "it.__next__()"
   ]
  },
  {
   "cell_type": "code",
   "execution_count": 88,
   "metadata": {},
   "outputs": [
    {
     "ename": "StopIteration",
     "evalue": "",
     "output_type": "error",
     "traceback": [
      "\u001b[1;31m---------------------------------------------------------------------------\u001b[0m",
      "\u001b[1;31mStopIteration\u001b[0m                             Traceback (most recent call last)",
      "\u001b[1;32m<ipython-input-88-b8ff671bd58a>\u001b[0m in \u001b[0;36m<module>\u001b[1;34m\u001b[0m\n\u001b[0;32m      3\u001b[0m \u001b[0mit\u001b[0m\u001b[1;33m=\u001b[0m\u001b[0miter\u001b[0m\u001b[1;33m(\u001b[0m\u001b[1;32mlambda\u001b[0m\u001b[1;33m:\u001b[0m \u001b[0mrandom\u001b[0m\u001b[1;33m.\u001b[0m\u001b[0mrandint\u001b[0m\u001b[1;33m(\u001b[0m\u001b[1;36m0\u001b[0m\u001b[1;33m,\u001b[0m\u001b[1;36m5\u001b[0m\u001b[1;33m)\u001b[0m\u001b[1;33m,\u001b[0m\u001b[1;36m2\u001b[0m\u001b[1;33m)\u001b[0m\u001b[1;33m\u001b[0m\u001b[1;33m\u001b[0m\u001b[0m\n\u001b[0;32m      4\u001b[0m \u001b[0mnext\u001b[0m\u001b[1;33m(\u001b[0m\u001b[0mit\u001b[0m\u001b[1;33m)\u001b[0m\u001b[1;33m\u001b[0m\u001b[1;33m\u001b[0m\u001b[0m\n\u001b[1;32m----> 5\u001b[1;33m \u001b[0mnext\u001b[0m\u001b[1;33m(\u001b[0m\u001b[0mit\u001b[0m\u001b[1;33m)\u001b[0m\u001b[1;33m\u001b[0m\u001b[1;33m\u001b[0m\u001b[0m\n\u001b[0m\u001b[0;32m      6\u001b[0m \u001b[0mnext\u001b[0m\u001b[1;33m(\u001b[0m\u001b[0mit\u001b[0m\u001b[1;33m)\u001b[0m\u001b[1;33m\u001b[0m\u001b[1;33m\u001b[0m\u001b[0m\n",
      "\u001b[1;31mStopIteration\u001b[0m: "
     ]
    }
   ],
   "source": [
    "# iter(객체, 반복을 끝낼값)\n",
    "import random\n",
    "it=iter(lambda: random.randint(0,5),2)\n",
    "next(it)\n",
    "next(it)\n",
    "next(it)"
   ]
  },
  {
   "cell_type": "code",
   "execution_count": 89,
   "metadata": {},
   "outputs": [],
   "source": [
    "# 제너레이터 : 이터레이터를 생성하는 함수\n",
    "# 함수 내부에 yield 키워드를 주면 이터레이터가 생성됨\n",
    "def myGen():\n",
    "    yield 0\n",
    "    yield 1\n",
    "    yield 2"
   ]
  },
  {
   "cell_type": "code",
   "execution_count": 90,
   "metadata": {},
   "outputs": [
    {
     "name": "stdout",
     "output_type": "stream",
     "text": [
      "0\n",
      "1\n",
      "2\n"
     ]
    }
   ],
   "source": [
    "for i in myGen():\n",
    "    print(i)"
   ]
  },
  {
   "cell_type": "code",
   "execution_count": 92,
   "metadata": {},
   "outputs": [
    {
     "data": {
      "text/plain": [
       "['__class__',\n",
       " '__del__',\n",
       " '__delattr__',\n",
       " '__dir__',\n",
       " '__doc__',\n",
       " '__eq__',\n",
       " '__format__',\n",
       " '__ge__',\n",
       " '__getattribute__',\n",
       " '__gt__',\n",
       " '__hash__',\n",
       " '__init__',\n",
       " '__init_subclass__',\n",
       " '__iter__',\n",
       " '__le__',\n",
       " '__lt__',\n",
       " '__name__',\n",
       " '__ne__',\n",
       " '__new__',\n",
       " '__next__',\n",
       " '__qualname__',\n",
       " '__reduce__',\n",
       " '__reduce_ex__',\n",
       " '__repr__',\n",
       " '__setattr__',\n",
       " '__sizeof__',\n",
       " '__str__',\n",
       " '__subclasshook__',\n",
       " 'close',\n",
       " 'gi_code',\n",
       " 'gi_frame',\n",
       " 'gi_running',\n",
       " 'gi_yieldfrom',\n",
       " 'send',\n",
       " 'throw']"
      ]
     },
     "execution_count": 92,
     "metadata": {},
     "output_type": "execute_result"
    }
   ],
   "source": [
    "mg=myGen()\n",
    "dir(mg)"
   ]
  },
  {
   "cell_type": "code",
   "execution_count": null,
   "metadata": {},
   "outputs": [],
   "source": []
  },
  {
   "cell_type": "code",
   "execution_count": 93,
   "metadata": {},
   "outputs": [],
   "source": [
    "# image 증식\n",
    "# 1. 이미지 제너레이터 클래스 객체 생성\n",
    "# 2. flow_from_directory() 호출 -> 제너레이터 생성"
   ]
  },
  {
   "cell_type": "code",
   "execution_count": 94,
   "metadata": {},
   "outputs": [],
   "source": [
    "from keras.preprocessing.image import ImageDataGenerator"
   ]
  },
  {
   "cell_type": "code",
   "execution_count": 106,
   "metadata": {},
   "outputs": [
    {
     "name": "stdout",
     "output_type": "stream",
     "text": [
      "Found 45 images belonging to 3 classes.\n"
     ]
    }
   ],
   "source": [
    "trainDataGen=ImageDataGenerator(rescale=1./255)\n",
    "trainGenerator=trainDataGen.flow_from_directory(\n",
    "    'C:/Users/student/Downloads/데이터들/do/train',\n",
    "    target_size=(24,24),\n",
    "    batch_size=3,\n",
    "    class_mode='categorical'\n",
    ")"
   ]
  },
  {
   "cell_type": "code",
   "execution_count": 107,
   "metadata": {},
   "outputs": [
    {
     "name": "stdout",
     "output_type": "stream",
     "text": [
      "Found 15 images belonging to 3 classes.\n"
     ]
    }
   ],
   "source": [
    "testDataGen=ImageDataGenerator(rescale=1./255)\n",
    "testGenerator=testDataGen.flow_from_directory(\n",
    "    'C:/Users/student/Downloads/데이터들/do/test',\n",
    "    target_size=(24,24),\n",
    "    batch_size=3,\n",
    "    class_mode='categorical'\n",
    ")"
   ]
  },
  {
   "cell_type": "code",
   "execution_count": 108,
   "metadata": {},
   "outputs": [],
   "source": [
    "# 크기(24,24), 채널:3(컬러), 필터:3*3, 필터개수:32, 활성함수:relu\n",
    "model=Sequential()\n",
    "model.add(Conv2D(32, kernel_size=(3,3),\n",
    "                activation='relu', input_shape=(24,24,3)))\n",
    "\n",
    "# 필터 : 3*3, 필터개수:64, relu\n",
    "model.add(Conv2D(64, kernel_size=(3,3),\n",
    "                activation='relu'))\n",
    "# maxpool :2*2\n",
    "model.add(MaxPooling2D(pool_size=(2,2)))\n",
    "# 플래튼 -> Dense(128개 뉴런 출력) -> dense(softmax)\n",
    "model.add(Flatten())\n",
    "model.add(Dense(128, activation='relu'))\n",
    "\n",
    "model.add(Dense(3, activation='softmax'))"
   ]
  },
  {
   "cell_type": "code",
   "execution_count": 109,
   "metadata": {},
   "outputs": [
    {
     "name": "stdout",
     "output_type": "stream",
     "text": [
      "Model: \"sequential_5\"\n",
      "_________________________________________________________________\n",
      "Layer (type)                 Output Shape              Param #   \n",
      "=================================================================\n",
      "conv2d_5 (Conv2D)            (None, 22, 22, 32)        896       \n",
      "_________________________________________________________________\n",
      "conv2d_6 (Conv2D)            (None, 20, 20, 64)        18496     \n",
      "_________________________________________________________________\n",
      "max_pooling2d_3 (MaxPooling2 (None, 10, 10, 64)        0         \n",
      "_________________________________________________________________\n",
      "flatten_3 (Flatten)          (None, 6400)              0         \n",
      "_________________________________________________________________\n",
      "dense_7 (Dense)              (None, 128)               819328    \n",
      "_________________________________________________________________\n",
      "dense_8 (Dense)              (None, 3)                 387       \n",
      "=================================================================\n",
      "Total params: 839,107\n",
      "Trainable params: 839,107\n",
      "Non-trainable params: 0\n",
      "_________________________________________________________________\n"
     ]
    }
   ],
   "source": [
    "model.summary()"
   ]
  },
  {
   "cell_type": "code",
   "execution_count": 110,
   "metadata": {},
   "outputs": [],
   "source": [
    "model.compile(loss='categorical_crossentropy', optimizer='adam', metrics=['accuracy'])"
   ]
  },
  {
   "cell_type": "code",
   "execution_count": 111,
   "metadata": {},
   "outputs": [
    {
     "name": "stdout",
     "output_type": "stream",
     "text": [
      "Epoch 1/50\n",
      "15/15 [==============================] - 1s 37ms/step - loss: 0.8264 - accuracy: 0.6444 - val_loss: 0.1675 - val_accuracy: 0.9333\n",
      "Epoch 2/50\n",
      "15/15 [==============================] - 0s 16ms/step - loss: 0.0825 - accuracy: 1.0000 - val_loss: 0.0138 - val_accuracy: 0.9333\n",
      "Epoch 3/50\n",
      "15/15 [==============================] - 0s 18ms/step - loss: 0.0031 - accuracy: 1.0000 - val_loss: 0.1456 - val_accuracy: 1.0000\n",
      "Epoch 4/50\n",
      "15/15 [==============================] - 0s 19ms/step - loss: 0.0011 - accuracy: 1.0000 - val_loss: 2.0479e-04 - val_accuracy: 1.0000\n",
      "Epoch 5/50\n",
      "15/15 [==============================] - 0s 18ms/step - loss: 1.4198e-04 - accuracy: 1.0000 - val_loss: 5.2331e-05 - val_accuracy: 1.0000\n",
      "Epoch 6/50\n",
      "15/15 [==============================] - 0s 18ms/step - loss: 1.0435e-04 - accuracy: 1.0000 - val_loss: 7.9945e-05 - val_accuracy: 1.0000\n",
      "Epoch 7/50\n",
      "15/15 [==============================] - 0s 18ms/step - loss: 7.5958e-05 - accuracy: 1.0000 - val_loss: 1.0922e-04 - val_accuracy: 1.0000\n",
      "Epoch 8/50\n",
      "15/15 [==============================] - 0s 18ms/step - loss: 6.2492e-05 - accuracy: 1.0000 - val_loss: 0.0591 - val_accuracy: 1.0000\n",
      "Epoch 9/50\n",
      "15/15 [==============================] - 0s 18ms/step - loss: 4.6684e-05 - accuracy: 1.0000 - val_loss: 9.4919e-05 - val_accuracy: 1.0000\n",
      "Epoch 10/50\n",
      "15/15 [==============================] - 0s 18ms/step - loss: 3.6714e-05 - accuracy: 1.0000 - val_loss: 4.1326e-06 - val_accuracy: 1.0000\n",
      "Epoch 11/50\n",
      "15/15 [==============================] - 0s 19ms/step - loss: 2.8323e-05 - accuracy: 1.0000 - val_loss: 1.1404e-05 - val_accuracy: 1.0000\n",
      "Epoch 12/50\n",
      "15/15 [==============================] - 0s 18ms/step - loss: 2.1960e-05 - accuracy: 1.0000 - val_loss: 2.7894e-05 - val_accuracy: 1.0000\n",
      "Epoch 13/50\n",
      "15/15 [==============================] - 0s 19ms/step - loss: 1.7581e-05 - accuracy: 1.0000 - val_loss: 0.0258 - val_accuracy: 1.0000\n",
      "Epoch 14/50\n",
      "15/15 [==============================] - 0s 18ms/step - loss: 1.4527e-05 - accuracy: 1.0000 - val_loss: 6.7468e-05 - val_accuracy: 1.0000\n",
      "Epoch 15/50\n",
      "15/15 [==============================] - 0s 19ms/step - loss: 1.1677e-05 - accuracy: 1.0000 - val_loss: 1.0967e-05 - val_accuracy: 1.0000\n",
      "Epoch 16/50\n",
      "15/15 [==============================] - 0s 17ms/step - loss: 9.8730e-06 - accuracy: 1.0000 - val_loss: 5.0384e-04 - val_accuracy: 1.0000\n",
      "Epoch 17/50\n",
      "15/15 [==============================] - 0s 18ms/step - loss: 8.4849e-06 - accuracy: 1.0000 - val_loss: 9.5367e-06 - val_accuracy: 1.0000\n",
      "Epoch 18/50\n",
      "15/15 [==============================] - 0s 18ms/step - loss: 7.1445e-06 - accuracy: 1.0000 - val_loss: 3.8344e-05 - val_accuracy: 1.0000\n",
      "Epoch 19/50\n",
      "15/15 [==============================] - 0s 18ms/step - loss: 6.1432e-06 - accuracy: 1.0000 - val_loss: 4.7373e-04 - val_accuracy: 1.0000\n",
      "Epoch 20/50\n",
      "15/15 [==============================] - 0s 18ms/step - loss: 5.3988e-06 - accuracy: 1.0000 - val_loss: 0.0672 - val_accuracy: 1.0000\n",
      "Epoch 21/50\n",
      "15/15 [==============================] - 0s 18ms/step - loss: 4.7392e-06 - accuracy: 1.0000 - val_loss: 1.5895e-06 - val_accuracy: 1.0000\n",
      "Epoch 22/50\n",
      "15/15 [==============================] - 0s 18ms/step - loss: 4.1961e-06 - accuracy: 1.0000 - val_loss: 2.8410e-05 - val_accuracy: 1.0000\n",
      "Epoch 23/50\n",
      "15/15 [==============================] - 0s 18ms/step - loss: 3.7802e-06 - accuracy: 1.0000 - val_loss: 1.5895e-06 - val_accuracy: 1.0000\n",
      "Epoch 24/50\n",
      "15/15 [==============================] - 0s 18ms/step - loss: 3.4067e-06 - accuracy: 1.0000 - val_loss: 2.5470e-05 - val_accuracy: 1.0000\n",
      "Epoch 25/50\n",
      "15/15 [==============================] - 0s 18ms/step - loss: 3.1047e-06 - accuracy: 1.0000 - val_loss: 2.4755e-05 - val_accuracy: 1.0000\n",
      "Epoch 26/50\n",
      "15/15 [==============================] - 0s 18ms/step - loss: 2.8478e-06 - accuracy: 1.0000 - val_loss: 2.4676e-05 - val_accuracy: 1.0000\n",
      "Epoch 27/50\n",
      "15/15 [==============================] - 0s 18ms/step - loss: 2.6040e-06 - accuracy: 1.0000 - val_loss: 1.4305e-06 - val_accuracy: 1.0000\n",
      "Epoch 28/50\n",
      "15/15 [==============================] - 0s 18ms/step - loss: 2.2968e-06 - accuracy: 1.0000 - val_loss: 3.5365e-06 - val_accuracy: 1.0000\n",
      "Epoch 29/50\n",
      "15/15 [==============================] - 0s 18ms/step - loss: 2.1087e-06 - accuracy: 1.0000 - val_loss: 0.0105 - val_accuracy: 1.0000\n",
      "Epoch 30/50\n",
      "15/15 [==============================] - 0s 18ms/step - loss: 1.9391e-06 - accuracy: 1.0000 - val_loss: 2.9405e-06 - val_accuracy: 1.0000\n",
      "Epoch 31/50\n",
      "15/15 [==============================] - 0s 18ms/step - loss: 1.7961e-06 - accuracy: 1.0000 - val_loss: 0.0686 - val_accuracy: 1.0000\n",
      "Epoch 32/50\n",
      "15/15 [==============================] - 0s 18ms/step - loss: 1.6610e-06 - accuracy: 1.0000 - val_loss: 0.0762 - val_accuracy: 1.0000\n",
      "Epoch 33/50\n",
      "15/15 [==============================] - 0s 18ms/step - loss: 1.5391e-06 - accuracy: 1.0000 - val_loss: 1.7126e-05 - val_accuracy: 1.0000\n",
      "Epoch 34/50\n",
      "15/15 [==============================] - 0s 18ms/step - loss: 1.4438e-06 - accuracy: 1.0000 - val_loss: 0.0693 - val_accuracy: 1.0000\n",
      "Epoch 35/50\n",
      "15/15 [==============================] - 0s 17ms/step - loss: 1.3431e-06 - accuracy: 1.0000 - val_loss: 3.1789e-07 - val_accuracy: 1.0000\n",
      "Epoch 36/50\n",
      "15/15 [==============================] - 0s 18ms/step - loss: 1.2769e-06 - accuracy: 1.0000 - val_loss: 4.7684e-07 - val_accuracy: 1.0000\n",
      "Epoch 37/50\n",
      "15/15 [==============================] - 0s 18ms/step - loss: 1.1921e-06 - accuracy: 1.0000 - val_loss: 2.3047e-06 - val_accuracy: 1.0000\n",
      "Epoch 38/50\n",
      "15/15 [==============================] - 0s 18ms/step - loss: 1.1153e-06 - accuracy: 1.0000 - val_loss: 1.8734e-04 - val_accuracy: 1.0000\n",
      "Epoch 39/50\n",
      "15/15 [==============================] - 0s 18ms/step - loss: 1.0676e-06 - accuracy: 1.0000 - val_loss: 1.3987e-05 - val_accuracy: 1.0000\n",
      "Epoch 40/50\n",
      "15/15 [==============================] - 0s 18ms/step - loss: 9.9606e-07 - accuracy: 1.0000 - val_loss: 0.0668 - val_accuracy: 1.0000\n",
      "Epoch 41/50\n",
      "15/15 [==============================] - 0s 18ms/step - loss: 9.5102e-07 - accuracy: 1.0000 - val_loss: 0.0072 - val_accuracy: 1.0000\n",
      "Epoch 42/50\n",
      "15/15 [==============================] - 0s 17ms/step - loss: 9.0069e-07 - accuracy: 1.0000 - val_loss: 1.6896e-04 - val_accuracy: 1.0000\n",
      "Epoch 43/50\n",
      "15/15 [==============================] - 0s 18ms/step - loss: 8.5301e-07 - accuracy: 1.0000 - val_loss: 1.1960e-05 - val_accuracy: 1.0000\n",
      "Epoch 44/50\n",
      "15/15 [==============================] - 0s 17ms/step - loss: 8.0797e-07 - accuracy: 1.0000 - val_loss: 0.0657 - val_accuracy: 1.0000\n",
      "Epoch 45/50\n",
      "15/15 [==============================] - 0s 18ms/step - loss: 7.6294e-07 - accuracy: 1.0000 - val_loss: 3.5763e-07 - val_accuracy: 1.0000\n",
      "Epoch 46/50\n",
      "15/15 [==============================] - 0s 18ms/step - loss: 7.2320e-07 - accuracy: 1.0000 - val_loss: 0.0066 - val_accuracy: 1.0000\n",
      "Epoch 47/50\n",
      "15/15 [==============================] - 0s 18ms/step - loss: 6.9406e-07 - accuracy: 1.0000 - val_loss: 1.5423e-04 - val_accuracy: 1.0000\n",
      "Epoch 48/50\n",
      "15/15 [==============================] - 0s 18ms/step - loss: 6.5168e-07 - accuracy: 1.0000 - val_loss: 0.0690 - val_accuracy: 1.0000\n",
      "Epoch 49/50\n",
      "15/15 [==============================] - 0s 18ms/step - loss: 6.3048e-07 - accuracy: 1.0000 - val_loss: 1.4195e-04 - val_accuracy: 1.0000\n",
      "Epoch 50/50\n",
      "15/15 [==============================] - 0s 18ms/step - loss: 6.0664e-07 - accuracy: 1.0000 - val_loss: 1.5895e-07 - val_accuracy: 1.0000\n"
     ]
    },
    {
     "data": {
      "text/plain": [
       "<keras.callbacks.callbacks.History at 0x1da544d6bc8>"
      ]
     },
     "execution_count": 111,
     "metadata": {},
     "output_type": "execute_result"
    }
   ],
   "source": [
    "# fit_generator : 제너레이터로 생성된 데이터 학습\n",
    "model.fit_generator(\n",
    "    # 훈련데이터 제너레이터\n",
    "    trainGenerator,\n",
    "    steps_per_epoch=15, # 총 45 image, 3개의 class => 45/3\n",
    "    epochs=50,\n",
    "    validation_data=testGenerator,\n",
    "    validation_steps=5    \n",
    ")"
   ]
  },
  {
   "cell_type": "code",
   "execution_count": 112,
   "metadata": {},
   "outputs": [
    {
     "name": "stdout",
     "output_type": "stream",
     "text": [
      "[9.695550033939071e-06, 1.0]\n"
     ]
    }
   ],
   "source": [
    "scores=model.evaluate_generator(testGenerator,steps=5)\n",
    "print(scores)"
   ]
  },
  {
   "cell_type": "code",
   "execution_count": 113,
   "metadata": {},
   "outputs": [
    {
     "name": "stdout",
     "output_type": "stream",
     "text": [
      "[[9.99999881e-01 1.18895848e-07 8.59899085e-09]\n",
      " [9.99996901e-01 1.51310553e-06 1.52648613e-06]\n",
      " [8.95512784e-08 4.11781919e-04 9.99588192e-01]\n",
      " [9.99999642e-01 1.91071038e-07 1.34582791e-07]\n",
      " [5.00151254e-09 1.52907617e-07 9.99999881e-01]\n",
      " [9.82444346e-01 5.24014213e-05 1.75033100e-02]\n",
      " [1.20311261e-10 3.54080697e-07 9.99999642e-01]\n",
      " [8.25658276e-07 9.99999046e-01 1.01434331e-07]\n",
      " [1.60267074e-02 8.18427444e-01 1.65545911e-01]\n",
      " [4.31476543e-09 1.00000000e+00 3.55440521e-09]\n",
      " [3.83370548e-07 9.99999523e-01 1.39985715e-07]\n",
      " [6.14145179e-08 9.99999881e-01 3.10999670e-09]\n",
      " [3.56277841e-10 1.04768532e-07 9.99999881e-01]\n",
      " [9.99999881e-01 1.14194016e-07 2.85441750e-08]\n",
      " [2.47079979e-09 2.87961975e-05 9.99971151e-01]]\n"
     ]
    }
   ],
   "source": [
    "res=model.predict_generator(testGenerator,steps=5)\n",
    "print(res)"
   ]
  },
  {
   "cell_type": "code",
   "execution_count": null,
   "metadata": {},
   "outputs": [],
   "source": [
    "\"\"\"\n",
    "rotation_range : 회전, 90~0도 사이 랜덤)\n",
    "width_shift_range : 0~1사이의 비율, 0.1(이미지 너비의 10% 만큼 좌우로 이동) 이미지가 짤려도 이동함\n",
    "width_shift_range : 0~1사이의 비율, 0.1(이미지 높이의 10% 만큼 상하로 이동) 이미지가 짤려도 이동함\n",
    "shear_range : 변형, 라디안, 0.5(반시계방향 밀어서 변형)\n",
    "zoom_range : 축소, 0.3(0.7~1.3 사이의 크기로 랜덤하게 확대 또는 축소)\n",
    "horizontal_flip : 수평축으로 뒤집기\n",
    "vertical_flip : 수직축으로 뒤집기\n",
    "\n",
    "\"\"\""
   ]
  },
  {
   "cell_type": "code",
   "execution_count": 114,
   "metadata": {},
   "outputs": [],
   "source": [
    "from keras.preprocessing.image import array_to_img, img_to_array, load_img"
   ]
  },
  {
   "cell_type": "code",
   "execution_count": 115,
   "metadata": {},
   "outputs": [],
   "source": [
    "augGen=ImageDataGenerator(rescale=1./255,\n",
    "                  rotation_range=15,\n",
    "                  width_shift_range=0.1,\n",
    "                  height_shift_range=0.1,\n",
    "                  shear_range=0.5,\n",
    "                  zoom_range=[0.8,2.0],\n",
    "                  horizontal_flip=True,\n",
    "                  vertical_flip=True,\n",
    "                  fill_mode='nearest')"
   ]
  },
  {
   "cell_type": "code",
   "execution_count": 116,
   "metadata": {},
   "outputs": [],
   "source": [
    "img=load_img('C:/Users/student/Downloads/데이터들/do/train/triangle/triangle001.png')"
   ]
  },
  {
   "cell_type": "code",
   "execution_count": 117,
   "metadata": {},
   "outputs": [
    {
     "data": {
      "image/png": "[encoded data removed]",
      "text/plain": [
       "<PIL.Image.Image image mode=RGB size=24x24 at 0x1DA54827BC8>"
      ]
     },
     "execution_count": 117,
     "metadata": {},
     "output_type": "execute_result"
    }
   ],
   "source": [
    "img"
   ]
  },
  {
   "cell_type": "code",
   "execution_count": 120,
   "metadata": {},
   "outputs": [
    {
     "data": {
      "text/plain": [
       "(1, 24, 24, 3)"
      ]
     },
     "execution_count": 120,
     "metadata": {},
     "output_type": "execute_result"
    }
   ],
   "source": [
    "x=img_to_array(img)\n",
    "x.shape\n",
    "x=x.reshape((1,)+x.shape)\n",
    "x.shape"
   ]
  },
  {
   "cell_type": "code",
   "execution_count": 122,
   "metadata": {},
   "outputs": [],
   "source": [
    "i=0\n",
    "for batch in augGen.flow(x,batch_size=1, save_to_dir='C:/Users/student/Downloads/데이터들/do/store',save_prefix='tri',\n",
    "                        save_format='png'):\n",
    "    i+=1\n",
    "    if i>50:\n",
    "        break"
   ]
  },
  {
   "cell_type": "code",
   "execution_count": null,
   "metadata": {},
   "outputs": [],
   "source": []
  }
 ],
 "metadata": {
  "kernelspec": {
   "display_name": "Python 3",
   "language": "python",
   "name": "python3"
  },
  "language_info": {
   "codemirror_mode": {
    "name": "ipython",
    "version": 3
   },
   "file_extension": ".py",
   "mimetype": "text/x-python",
   "name": "python",
   "nbconvert_exporter": "python",
   "pygments_lexer": "ipython3",
   "version": "3.7.4"
  }
 },
 "nbformat": 4,
 "nbformat_minor": 2
}
