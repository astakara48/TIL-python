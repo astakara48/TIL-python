{
 "cells": [
  {
   "cell_type": "code",
   "execution_count": 1,
   "metadata": {},
   "outputs": [],
   "source": [
    "# 자료형 처리\n",
    "import pandas as pd\n",
    "import seaborn as sns\n",
    "import numpy as np\n",
    "from pandas import DataFrame"
   ]
  },
  {
   "cell_type": "code",
   "execution_count": null,
   "metadata": {},
   "outputs": [],
   "source": [
    "tips=sns.load_dataset(\"tips\")\n",
    "tips"
   ]
  },
  {
   "cell_type": "code",
   "execution_count": null,
   "metadata": {},
   "outputs": [],
   "source": [
    "tips.info()"
   ]
  },
  {
   "cell_type": "code",
   "execution_count": null,
   "metadata": {},
   "outputs": [],
   "source": [
    "tips['sex_str']=tips.sex.astype(str)"
   ]
  },
  {
   "cell_type": "code",
   "execution_count": null,
   "metadata": {},
   "outputs": [],
   "source": [
    "tips.dtypes"
   ]
  },
  {
   "cell_type": "code",
   "execution_count": null,
   "metadata": {},
   "outputs": [],
   "source": [
    "tsm=tips.head(10)\n",
    "tsm.loc[[1,3,5,7], 'total_bill']='missing'\n",
    "tsm"
   ]
  },
  {
   "cell_type": "code",
   "execution_count": null,
   "metadata": {},
   "outputs": [],
   "source": [
    "tsm.dtypes"
   ]
  },
  {
   "cell_type": "code",
   "execution_count": null,
   "metadata": {},
   "outputs": [],
   "source": [
    "# tsm['total_bill'].astype(float)\n",
    "# pd.to_numeric(tsm['total_bill'])\n",
    "tsm['total_bill']=pd.to_numeric(tsm['total_bill'], errors='raise')\n",
    "# errors = ignore => error 나는 부분 무시하고 실행\n",
    "# errors = coerce => 숫자로 변환할 수 없는 값은 NaN으로 지정\n",
    "# errors = raise => default값 / 숫자로 변환할 수 없는 값이 있으면 에러 발생"
   ]
  },
  {
   "cell_type": "code",
   "execution_count": null,
   "metadata": {},
   "outputs": [],
   "source": [
    "tsm.dtypes"
   ]
  },
  {
   "cell_type": "code",
   "execution_count": null,
   "metadata": {},
   "outputs": [],
   "source": [
    "tips['sex']=tips['sex'].astype('category') # str보다 category가 용량을 더 작게 잡아먹음\n",
    "tips.info()"
   ]
  },
  {
   "cell_type": "code",
   "execution_count": null,
   "metadata": {},
   "outputs": [],
   "source": [
    "word='hello'\n",
    "sent='world'\n",
    "sent[-1]\n",
    "sent[0:3]\n",
    "sent[2:-1]\n",
    "word[::2]"
   ]
  },
  {
   "cell_type": "code",
   "execution_count": null,
   "metadata": {},
   "outputs": [],
   "source": [
    "# \"Hello World\".capitalize() # 첫번쨰 글자를 대문자로 만드는 함수\n",
    "# \"Hello World\".count('o')\n",
    "# \"Hello World\".startswith(\"H\") # ~~으로 시작하는지 확인\n",
    "# \"Hello World\".endswith(\"World\")\n",
    "# \"Hello World\".find('l')\n",
    "# \"Hello World\".index('l')\n",
    "# \"Hello World\".find('z') # -1\n",
    "# \"Hello World\".index('z') # error\n",
    "\"Hello World\".isalpha() # 알파벳으로만 구성되어 있느냐? => 공백이 있어서 error 발생\n",
    "\"HelloWorld\".isalpha()\n",
    "'130'.isdecimal()\n",
    "\"i'm 25\".isdecimal()\n",
    "\"Hello World\".lower()\n",
    "\"Hello World\".upper()\n",
    "\n",
    "\"Hello World\".replace('Hello', 'Hi')\n",
    "'  Hello World  '.strip()\n",
    "'Hi Hi Hi'.split(sep=\" \")\n",
    "\"9\".zfill(with=5)"
   ]
  },
  {
   "cell_type": "code",
   "execution_count": null,
   "metadata": {},
   "outputs": [],
   "source": [
    "# join:문자열 연결\n",
    "d1=\"40\"\n",
    "d2='50'\n",
    "d3='60'\n",
    "d4='Number'\n",
    "\" \".join([d1,d2,d3,d4])"
   ]
  },
  {
   "cell_type": "code",
   "execution_count": null,
   "metadata": {},
   "outputs": [],
   "source": [
    "# splitlines : 여러 줄로 구성된 문자열을 분리\n",
    "mystr=\"\"\"\n",
    "A:Hello\n",
    "B:Hi\n",
    "A:How are you?\n",
    "B:Fine\n",
    "\"\"\"\n",
    "msr=mystr.splitlines()\n",
    "msr"
   ]
  },
  {
   "cell_type": "code",
   "execution_count": null,
   "metadata": {},
   "outputs": [],
   "source": [
    "msr2=msr[::2]\n",
    "msr2"
   ]
  },
  {
   "cell_type": "code",
   "execution_count": null,
   "metadata": {},
   "outputs": [],
   "source": [
    "a='hi'\n",
    "s='hello {}'\n",
    "s.format(a)"
   ]
  },
  {
   "cell_type": "code",
   "execution_count": null,
   "metadata": {},
   "outputs": [],
   "source": [
    "myhome=\"lacation : {lat}, {lon}\"\n",
    "myhome.format(lat='36', lon='125')"
   ]
  },
  {
   "cell_type": "code",
   "execution_count": null,
   "metadata": {},
   "outputs": [],
   "source": [
    "s=\"%d digits of pi\" % 3"
   ]
  },
  {
   "cell_type": "code",
   "execution_count": null,
   "metadata": {},
   "outputs": [],
   "source": [
    "s"
   ]
  },
  {
   "cell_type": "code",
   "execution_count": null,
   "metadata": {},
   "outputs": [],
   "source": [
    "print(\"some digits of %(cs)s: %(val).2f\" % {'cs':2, 'val':2.78})"
   ]
  },
  {
   "cell_type": "code",
   "execution_count": null,
   "metadata": {},
   "outputs": [],
   "source": [
    "# apply 메서드\n",
    "df=pd.DataFrame({'a':[1,2,3], 'b':[2,3,4]})\n",
    "df"
   ]
  },
  {
   "cell_type": "code",
   "execution_count": null,
   "metadata": {},
   "outputs": [],
   "source": [
    "def my_sq(x):\n",
    "    return x**2\n",
    "\n",
    "def my_exp(x,n):\n",
    "    return x**n"
   ]
  },
  {
   "cell_type": "code",
   "execution_count": null,
   "metadata": {},
   "outputs": [],
   "source": [
    "df['a'].apply(my_sq)\n",
    "df['a'].apply(my_exp, n=df.b)"
   ]
  },
  {
   "cell_type": "code",
   "execution_count": null,
   "metadata": {},
   "outputs": [],
   "source": [
    "def print_me(x):\n",
    "    print(x)"
   ]
  },
  {
   "cell_type": "code",
   "execution_count": null,
   "metadata": {},
   "outputs": [],
   "source": [
    "# print(df.apply(print_me)) # axis=0 default\n",
    "print(df.apply(print_me, axis=1)) "
   ]
  },
  {
   "cell_type": "code",
   "execution_count": null,
   "metadata": {},
   "outputs": [],
   "source": [
    "def myavg(x,y,z):\n",
    "    return (x+y+z)/3\n",
    "\n",
    "def myavg_apply(data):\n",
    "    x=data[0]\n",
    "    y=data[1]\n",
    "    z=data[2]\n",
    "    print(x,y,z)\n",
    "    return (x+y+z)/3\n",
    "\n",
    "def myavg_apply2(data):\n",
    "    sum=0\n",
    "    for item in data:\n",
    "        sum+=item\n",
    "    return sum/df.shape[0]"
   ]
  },
  {
   "cell_type": "code",
   "execution_count": null,
   "metadata": {},
   "outputs": [],
   "source": [
    "# df.apply(myavg)\n",
    "# df.apply(myavg_apply2)\n",
    "df.apply(myavg_apply2, axis=1)"
   ]
  },
  {
   "cell_type": "code",
   "execution_count": null,
   "metadata": {},
   "outputs": [],
   "source": [
    "df"
   ]
  },
  {
   "cell_type": "code",
   "execution_count": null,
   "metadata": {},
   "outputs": [],
   "source": [
    "titanic=sns.load_dataset(\"titanic\")\n",
    "# titanic.info()\n",
    "\n",
    "def count_missing(vec):\n",
    "    # 누락값의 개수 리턴\n",
    "    nv=pd.isnull(vec)\n",
    "    nc=np.sum(nv)\n",
    "    return nc\n",
    "\n",
    "def prop_missing(vec):\n",
    "    # 누락값의 비율을 출력\n",
    "    num=vec.size\n",
    "    miss=count_missing(vec)\n",
    "    return (miss/num)*100\n",
    "\n",
    "def prop_complete(vec):\n",
    "    return 100-prop_missing(vec)"
   ]
  },
  {
   "cell_type": "code",
   "execution_count": null,
   "metadata": {},
   "outputs": [],
   "source": [
    "cm=titanic.apply(count_missing)\n",
    "print(cm)\n",
    "# 각 컬럼별 누락값의 개수가 모두 출력\n",
    "pm=titanic.apply(prop_missing)\n",
    "print(pm)\n",
    "\n",
    "pc=titanic.apply(prop_complete)\n",
    "print(pc)"
   ]
  },
  {
   "cell_type": "code",
   "execution_count": null,
   "metadata": {},
   "outputs": [],
   "source": []
  },
  {
   "cell_type": "code",
   "execution_count": null,
   "metadata": {},
   "outputs": [],
   "source": [
    "# 행 방향으로 누락값의 개수/비율 조사\n",
    "cmr=titanic.apply(count_missing, axis=1)\n",
    "pmr=titanic.apply(prop_missing, axis=1)\n",
    "pcr=titanic.apply(prop_complete, axis=1)\n",
    "\n",
    "print(cmr, pmr, pcr)"
   ]
  },
  {
   "cell_type": "code",
   "execution_count": null,
   "metadata": {},
   "outputs": [],
   "source": [
    "titanic['num_missing']=titanic.apply(count_missing, axis=1)\n",
    "titanic"
   ]
  },
  {
   "cell_type": "code",
   "execution_count": null,
   "metadata": {},
   "outputs": [],
   "source": [
    "# num missing 값이 1보다 큰 행을 추출\n",
    "titanic.loc[titanic.num_missing>1]\n",
    "titanic.loc[titanic.num_missing>1].sample(10) # 임의의 데이터 10개 추출"
   ]
  },
  {
   "cell_type": "code",
   "execution_count": 2,
   "metadata": {},
   "outputs": [
    {
     "name": "stdout",
     "output_type": "stream",
     "text": [
      "<class 'pandas.core.frame.DataFrame'>\n",
      "RangeIndex: 33838 entries, 0 to 33837\n",
      "Data columns (total 3 columns):\n",
      "name      33838 non-null object\n",
      "sex       33838 non-null object\n",
      "births    33838 non-null int64\n",
      "dtypes: int64(1), object(2)\n",
      "memory usage: 793.2+ KB\n"
     ]
    }
   ],
   "source": [
    "names2010=pd.read_csv(\"names/yob2010.txt\", names=['name','sex','births'])\n",
    "names2010.info()\n"
   ]
  },
  {
   "cell_type": "code",
   "execution_count": null,
   "metadata": {},
   "outputs": [],
   "source": [
    "# 성별을 기준으로 births의 합계출력 => ~~를 기준으로 group해서 하기\n",
    "names2010.loc[names2010['sex']=='M','births'].sum()"
   ]
  },
  {
   "cell_type": "code",
   "execution_count": 3,
   "metadata": {},
   "outputs": [
    {
     "data": {
      "text/plain": [
       "sex\n",
       "F    1759010\n",
       "M    1898382\n",
       "Name: births, dtype: int64"
      ]
     },
     "execution_count": 3,
     "metadata": {},
     "output_type": "execute_result"
    }
   ],
   "source": [
    "names2010.groupby('sex').sum()\n",
    "names2010.groupby('sex').births.sum()"
   ]
  },
  {
   "cell_type": "code",
   "execution_count": 4,
   "metadata": {},
   "outputs": [],
   "source": [
    "pieces=[]\n",
    "for year in range(1880, 2011):\n",
    "    path=\"names/yob%d.txt\" % year\n",
    "    df=name=pd.read_csv(path, names=['name','sex','births'])\n",
    "    df['year']=year\n",
    "    pieces.append(df)\n",
    "    \n",
    "names=pd.concat(pieces, ignore_index=True) #pieces에 있는 모든 데이터 합치기\n"
   ]
  },
  {
   "cell_type": "code",
   "execution_count": 5,
   "metadata": {},
   "outputs": [
    {
     "data": {
      "text/html": [
       "<div>\n",
       "<style scoped>\n",
       "    .dataframe tbody tr th:only-of-type {\n",
       "        vertical-align: middle;\n",
       "    }\n",
       "\n",
       "    .dataframe tbody tr th {\n",
       "        vertical-align: top;\n",
       "    }\n",
       "\n",
       "    .dataframe thead th {\n",
       "        text-align: right;\n",
       "    }\n",
       "</style>\n",
       "<table border=\"1\" class=\"dataframe\">\n",
       "  <thead>\n",
       "    <tr style=\"text-align: right;\">\n",
       "      <th></th>\n",
       "      <th>name</th>\n",
       "      <th>sex</th>\n",
       "      <th>births</th>\n",
       "      <th>year</th>\n",
       "    </tr>\n",
       "  </thead>\n",
       "  <tbody>\n",
       "    <tr>\n",
       "      <td>0</td>\n",
       "      <td>Mary</td>\n",
       "      <td>F</td>\n",
       "      <td>7065</td>\n",
       "      <td>1880</td>\n",
       "    </tr>\n",
       "    <tr>\n",
       "      <td>1</td>\n",
       "      <td>Anna</td>\n",
       "      <td>F</td>\n",
       "      <td>2604</td>\n",
       "      <td>1880</td>\n",
       "    </tr>\n",
       "    <tr>\n",
       "      <td>2</td>\n",
       "      <td>Emma</td>\n",
       "      <td>F</td>\n",
       "      <td>2003</td>\n",
       "      <td>1880</td>\n",
       "    </tr>\n",
       "    <tr>\n",
       "      <td>3</td>\n",
       "      <td>Elizabeth</td>\n",
       "      <td>F</td>\n",
       "      <td>1939</td>\n",
       "      <td>1880</td>\n",
       "    </tr>\n",
       "    <tr>\n",
       "      <td>4</td>\n",
       "      <td>Minnie</td>\n",
       "      <td>F</td>\n",
       "      <td>1746</td>\n",
       "      <td>1880</td>\n",
       "    </tr>\n",
       "    <tr>\n",
       "      <td>5</td>\n",
       "      <td>Margaret</td>\n",
       "      <td>F</td>\n",
       "      <td>1578</td>\n",
       "      <td>1880</td>\n",
       "    </tr>\n",
       "    <tr>\n",
       "      <td>6</td>\n",
       "      <td>Ida</td>\n",
       "      <td>F</td>\n",
       "      <td>1472</td>\n",
       "      <td>1880</td>\n",
       "    </tr>\n",
       "    <tr>\n",
       "      <td>7</td>\n",
       "      <td>Alice</td>\n",
       "      <td>F</td>\n",
       "      <td>1414</td>\n",
       "      <td>1880</td>\n",
       "    </tr>\n",
       "    <tr>\n",
       "      <td>8</td>\n",
       "      <td>Bertha</td>\n",
       "      <td>F</td>\n",
       "      <td>1320</td>\n",
       "      <td>1880</td>\n",
       "    </tr>\n",
       "    <tr>\n",
       "      <td>9</td>\n",
       "      <td>Sarah</td>\n",
       "      <td>F</td>\n",
       "      <td>1288</td>\n",
       "      <td>1880</td>\n",
       "    </tr>\n",
       "    <tr>\n",
       "      <td>10</td>\n",
       "      <td>Annie</td>\n",
       "      <td>F</td>\n",
       "      <td>1258</td>\n",
       "      <td>1880</td>\n",
       "    </tr>\n",
       "    <tr>\n",
       "      <td>11</td>\n",
       "      <td>Clara</td>\n",
       "      <td>F</td>\n",
       "      <td>1226</td>\n",
       "      <td>1880</td>\n",
       "    </tr>\n",
       "    <tr>\n",
       "      <td>12</td>\n",
       "      <td>Ella</td>\n",
       "      <td>F</td>\n",
       "      <td>1156</td>\n",
       "      <td>1880</td>\n",
       "    </tr>\n",
       "    <tr>\n",
       "      <td>13</td>\n",
       "      <td>Florence</td>\n",
       "      <td>F</td>\n",
       "      <td>1063</td>\n",
       "      <td>1880</td>\n",
       "    </tr>\n",
       "    <tr>\n",
       "      <td>14</td>\n",
       "      <td>Cora</td>\n",
       "      <td>F</td>\n",
       "      <td>1045</td>\n",
       "      <td>1880</td>\n",
       "    </tr>\n",
       "    <tr>\n",
       "      <td>15</td>\n",
       "      <td>Martha</td>\n",
       "      <td>F</td>\n",
       "      <td>1040</td>\n",
       "      <td>1880</td>\n",
       "    </tr>\n",
       "    <tr>\n",
       "      <td>16</td>\n",
       "      <td>Laura</td>\n",
       "      <td>F</td>\n",
       "      <td>1012</td>\n",
       "      <td>1880</td>\n",
       "    </tr>\n",
       "    <tr>\n",
       "      <td>17</td>\n",
       "      <td>Nellie</td>\n",
       "      <td>F</td>\n",
       "      <td>995</td>\n",
       "      <td>1880</td>\n",
       "    </tr>\n",
       "    <tr>\n",
       "      <td>18</td>\n",
       "      <td>Grace</td>\n",
       "      <td>F</td>\n",
       "      <td>982</td>\n",
       "      <td>1880</td>\n",
       "    </tr>\n",
       "    <tr>\n",
       "      <td>19</td>\n",
       "      <td>Carrie</td>\n",
       "      <td>F</td>\n",
       "      <td>949</td>\n",
       "      <td>1880</td>\n",
       "    </tr>\n",
       "  </tbody>\n",
       "</table>\n",
       "</div>"
      ],
      "text/plain": [
       "         name sex  births  year\n",
       "0        Mary   F    7065  1880\n",
       "1        Anna   F    2604  1880\n",
       "2        Emma   F    2003  1880\n",
       "3   Elizabeth   F    1939  1880\n",
       "4      Minnie   F    1746  1880\n",
       "5    Margaret   F    1578  1880\n",
       "6         Ida   F    1472  1880\n",
       "7       Alice   F    1414  1880\n",
       "8      Bertha   F    1320  1880\n",
       "9       Sarah   F    1288  1880\n",
       "10      Annie   F    1258  1880\n",
       "11      Clara   F    1226  1880\n",
       "12       Ella   F    1156  1880\n",
       "13   Florence   F    1063  1880\n",
       "14       Cora   F    1045  1880\n",
       "15     Martha   F    1040  1880\n",
       "16      Laura   F    1012  1880\n",
       "17     Nellie   F     995  1880\n",
       "18      Grace   F     982  1880\n",
       "19     Carrie   F     949  1880"
      ]
     },
     "execution_count": 5,
     "metadata": {},
     "output_type": "execute_result"
    }
   ],
   "source": [
    "names.head(20)\n",
    "names[:20]"
   ]
  },
  {
   "cell_type": "code",
   "execution_count": 6,
   "metadata": {},
   "outputs": [
    {
     "data": {
      "text/html": [
       "<div>\n",
       "<style scoped>\n",
       "    .dataframe tbody tr th:only-of-type {\n",
       "        vertical-align: middle;\n",
       "    }\n",
       "\n",
       "    .dataframe tbody tr th {\n",
       "        vertical-align: top;\n",
       "    }\n",
       "\n",
       "    .dataframe thead th {\n",
       "        text-align: right;\n",
       "    }\n",
       "</style>\n",
       "<table border=\"1\" class=\"dataframe\">\n",
       "  <thead>\n",
       "    <tr style=\"text-align: right;\">\n",
       "      <th>sex</th>\n",
       "      <th>F</th>\n",
       "      <th>M</th>\n",
       "    </tr>\n",
       "    <tr>\n",
       "      <th>year</th>\n",
       "      <th></th>\n",
       "      <th></th>\n",
       "    </tr>\n",
       "  </thead>\n",
       "  <tbody>\n",
       "    <tr>\n",
       "      <td>2006</td>\n",
       "      <td>1896468</td>\n",
       "      <td>2050234</td>\n",
       "    </tr>\n",
       "    <tr>\n",
       "      <td>2007</td>\n",
       "      <td>1916888</td>\n",
       "      <td>2069242</td>\n",
       "    </tr>\n",
       "    <tr>\n",
       "      <td>2008</td>\n",
       "      <td>1883645</td>\n",
       "      <td>2032310</td>\n",
       "    </tr>\n",
       "    <tr>\n",
       "      <td>2009</td>\n",
       "      <td>1827643</td>\n",
       "      <td>1973359</td>\n",
       "    </tr>\n",
       "    <tr>\n",
       "      <td>2010</td>\n",
       "      <td>1759010</td>\n",
       "      <td>1898382</td>\n",
       "    </tr>\n",
       "  </tbody>\n",
       "</table>\n",
       "</div>"
      ],
      "text/plain": [
       "sex         F        M\n",
       "year                  \n",
       "2006  1896468  2050234\n",
       "2007  1916888  2069242\n",
       "2008  1883645  2032310\n",
       "2009  1827643  1973359\n",
       "2010  1759010  1898382"
      ]
     },
     "execution_count": 6,
     "metadata": {},
     "output_type": "execute_result"
    }
   ],
   "source": [
    "# births 합계를 데이터, 행을 year로 하고, 열을 sex 피봇테이블 작성 \n",
    "#  sex      F      M\n",
    "#  year\n",
    "#  1880    100만  150만 \n",
    "#   ...    ...    ...\n",
    "#  2010   200만  200만\n",
    "total_births=names.pivot_table(values='births', index='year', columns='sex', aggfunc=np.sum)\n",
    "total_births.tail()"
   ]
  },
  {
   "cell_type": "code",
   "execution_count": 7,
   "metadata": {},
   "outputs": [
    {
     "data": {
      "text/plain": [
       "<matplotlib.axes._subplots.AxesSubplot at 0x2059360e708>"
      ]
     },
     "execution_count": 7,
     "metadata": {},
     "output_type": "execute_result"
    },
    {
     "data": {
      "image/png": "[encoded data removed]",
      "text/plain": [
       "<Figure size 432x288 with 1 Axes>"
      ]
     },
     "metadata": {
      "needs_background": "light"
     },
     "output_type": "display_data"
    }
   ],
   "source": [
    "total_births.plot(title='Total births')"
   ]
  },
  {
   "cell_type": "code",
   "execution_count": 8,
   "metadata": {},
   "outputs": [
    {
     "data": {
      "text/html": [
       "<div>\n",
       "<style scoped>\n",
       "    .dataframe tbody tr th:only-of-type {\n",
       "        vertical-align: middle;\n",
       "    }\n",
       "\n",
       "    .dataframe tbody tr th {\n",
       "        vertical-align: top;\n",
       "    }\n",
       "\n",
       "    .dataframe thead th {\n",
       "        text-align: right;\n",
       "    }\n",
       "</style>\n",
       "<table border=\"1\" class=\"dataframe\">\n",
       "  <thead>\n",
       "    <tr style=\"text-align: right;\">\n",
       "      <th></th>\n",
       "      <th>name</th>\n",
       "      <th>sex</th>\n",
       "      <th>births</th>\n",
       "      <th>year</th>\n",
       "      <th>prop</th>\n",
       "    </tr>\n",
       "  </thead>\n",
       "  <tbody>\n",
       "    <tr>\n",
       "      <td>0</td>\n",
       "      <td>Mary</td>\n",
       "      <td>F</td>\n",
       "      <td>7065</td>\n",
       "      <td>1880</td>\n",
       "      <td>0.077643</td>\n",
       "    </tr>\n",
       "    <tr>\n",
       "      <td>1</td>\n",
       "      <td>Anna</td>\n",
       "      <td>F</td>\n",
       "      <td>2604</td>\n",
       "      <td>1880</td>\n",
       "      <td>0.028618</td>\n",
       "    </tr>\n",
       "    <tr>\n",
       "      <td>2</td>\n",
       "      <td>Emma</td>\n",
       "      <td>F</td>\n",
       "      <td>2003</td>\n",
       "      <td>1880</td>\n",
       "      <td>0.022013</td>\n",
       "    </tr>\n",
       "    <tr>\n",
       "      <td>3</td>\n",
       "      <td>Elizabeth</td>\n",
       "      <td>F</td>\n",
       "      <td>1939</td>\n",
       "      <td>1880</td>\n",
       "      <td>0.021309</td>\n",
       "    </tr>\n",
       "    <tr>\n",
       "      <td>4</td>\n",
       "      <td>Minnie</td>\n",
       "      <td>F</td>\n",
       "      <td>1746</td>\n",
       "      <td>1880</td>\n",
       "      <td>0.019188</td>\n",
       "    </tr>\n",
       "    <tr>\n",
       "      <td>5</td>\n",
       "      <td>Margaret</td>\n",
       "      <td>F</td>\n",
       "      <td>1578</td>\n",
       "      <td>1880</td>\n",
       "      <td>0.017342</td>\n",
       "    </tr>\n",
       "    <tr>\n",
       "      <td>6</td>\n",
       "      <td>Ida</td>\n",
       "      <td>F</td>\n",
       "      <td>1472</td>\n",
       "      <td>1880</td>\n",
       "      <td>0.016177</td>\n",
       "    </tr>\n",
       "    <tr>\n",
       "      <td>7</td>\n",
       "      <td>Alice</td>\n",
       "      <td>F</td>\n",
       "      <td>1414</td>\n",
       "      <td>1880</td>\n",
       "      <td>0.015540</td>\n",
       "    </tr>\n",
       "    <tr>\n",
       "      <td>8</td>\n",
       "      <td>Bertha</td>\n",
       "      <td>F</td>\n",
       "      <td>1320</td>\n",
       "      <td>1880</td>\n",
       "      <td>0.014507</td>\n",
       "    </tr>\n",
       "    <tr>\n",
       "      <td>9</td>\n",
       "      <td>Sarah</td>\n",
       "      <td>F</td>\n",
       "      <td>1288</td>\n",
       "      <td>1880</td>\n",
       "      <td>0.014155</td>\n",
       "    </tr>\n",
       "    <tr>\n",
       "      <td>10</td>\n",
       "      <td>Annie</td>\n",
       "      <td>F</td>\n",
       "      <td>1258</td>\n",
       "      <td>1880</td>\n",
       "      <td>0.013825</td>\n",
       "    </tr>\n",
       "    <tr>\n",
       "      <td>11</td>\n",
       "      <td>Clara</td>\n",
       "      <td>F</td>\n",
       "      <td>1226</td>\n",
       "      <td>1880</td>\n",
       "      <td>0.013474</td>\n",
       "    </tr>\n",
       "    <tr>\n",
       "      <td>12</td>\n",
       "      <td>Ella</td>\n",
       "      <td>F</td>\n",
       "      <td>1156</td>\n",
       "      <td>1880</td>\n",
       "      <td>0.012704</td>\n",
       "    </tr>\n",
       "    <tr>\n",
       "      <td>13</td>\n",
       "      <td>Florence</td>\n",
       "      <td>F</td>\n",
       "      <td>1063</td>\n",
       "      <td>1880</td>\n",
       "      <td>0.011682</td>\n",
       "    </tr>\n",
       "    <tr>\n",
       "      <td>14</td>\n",
       "      <td>Cora</td>\n",
       "      <td>F</td>\n",
       "      <td>1045</td>\n",
       "      <td>1880</td>\n",
       "      <td>0.011484</td>\n",
       "    </tr>\n",
       "    <tr>\n",
       "      <td>15</td>\n",
       "      <td>Martha</td>\n",
       "      <td>F</td>\n",
       "      <td>1040</td>\n",
       "      <td>1880</td>\n",
       "      <td>0.011429</td>\n",
       "    </tr>\n",
       "    <tr>\n",
       "      <td>16</td>\n",
       "      <td>Laura</td>\n",
       "      <td>F</td>\n",
       "      <td>1012</td>\n",
       "      <td>1880</td>\n",
       "      <td>0.011122</td>\n",
       "    </tr>\n",
       "    <tr>\n",
       "      <td>17</td>\n",
       "      <td>Nellie</td>\n",
       "      <td>F</td>\n",
       "      <td>995</td>\n",
       "      <td>1880</td>\n",
       "      <td>0.010935</td>\n",
       "    </tr>\n",
       "    <tr>\n",
       "      <td>18</td>\n",
       "      <td>Grace</td>\n",
       "      <td>F</td>\n",
       "      <td>982</td>\n",
       "      <td>1880</td>\n",
       "      <td>0.010792</td>\n",
       "    </tr>\n",
       "    <tr>\n",
       "      <td>19</td>\n",
       "      <td>Carrie</td>\n",
       "      <td>F</td>\n",
       "      <td>949</td>\n",
       "      <td>1880</td>\n",
       "      <td>0.010429</td>\n",
       "    </tr>\n",
       "  </tbody>\n",
       "</table>\n",
       "</div>"
      ],
      "text/plain": [
       "         name sex  births  year      prop\n",
       "0        Mary   F    7065  1880  0.077643\n",
       "1        Anna   F    2604  1880  0.028618\n",
       "2        Emma   F    2003  1880  0.022013\n",
       "3   Elizabeth   F    1939  1880  0.021309\n",
       "4      Minnie   F    1746  1880  0.019188\n",
       "5    Margaret   F    1578  1880  0.017342\n",
       "6         Ida   F    1472  1880  0.016177\n",
       "7       Alice   F    1414  1880  0.015540\n",
       "8      Bertha   F    1320  1880  0.014507\n",
       "9       Sarah   F    1288  1880  0.014155\n",
       "10      Annie   F    1258  1880  0.013825\n",
       "11      Clara   F    1226  1880  0.013474\n",
       "12       Ella   F    1156  1880  0.012704\n",
       "13   Florence   F    1063  1880  0.011682\n",
       "14       Cora   F    1045  1880  0.011484\n",
       "15     Martha   F    1040  1880  0.011429\n",
       "16      Laura   F    1012  1880  0.011122\n",
       "17     Nellie   F     995  1880  0.010935\n",
       "18      Grace   F     982  1880  0.010792\n",
       "19     Carrie   F     949  1880  0.010429"
      ]
     },
     "execution_count": 8,
     "metadata": {},
     "output_type": "execute_result"
    }
   ],
   "source": [
    "# names에서 year, sex\n",
    "# ex) Mary는 1880년에 태어난 여자아이들 중 전체에서 차지하는 비중이 얼마인지 조사?\n",
    "def add_prop(group):\n",
    "    # 구현\n",
    "    births=group.births.sum()\n",
    "    group['prop']=group.births/births\n",
    "    return group\n",
    "    \n",
    "names=names.groupby(['year','sex']).apply(add_prop)\n",
    "names.head(20)"
   ]
  },
  {
   "cell_type": "code",
   "execution_count": 9,
   "metadata": {},
   "outputs": [
    {
     "data": {
      "text/plain": [
       "True"
      ]
     },
     "execution_count": 9,
     "metadata": {},
     "output_type": "execute_result"
    }
   ],
   "source": [
    "np.allclose(names.groupby(['year','sex']).prop.sum(),1) # 그룹화한거에서 prop의 합계가 1에 근사한지?"
   ]
  },
  {
   "cell_type": "code",
   "execution_count": 10,
   "metadata": {},
   "outputs": [
    {
     "name": "stderr",
     "output_type": "stream",
     "text": [
      "C:\\Users\\student\\Anaconda3\\lib\\site-packages\\ipykernel_launcher.py:3: FutureWarning: by argument to sort_index is deprecated, please use .sort_values(by=...)\n",
      "  This is separate from the ipykernel package so we can avoid doing imports until\n"
     ]
    }
   ],
   "source": [
    "# 각 연도별, 성별에 따른 이름 빈도수가 가장 높은 이름을 1000개씩 추출\n",
    "def get_top1000(group):\n",
    "    return group.sort_index(by='births', ascending=False)[:1000]\n",
    "\n",
    "grouped=names.groupby(['year','sex'])\n",
    "top1000=grouped.apply(get_top1000)\n",
    "top1000\n",
    "# 그룹 인덱스 제거\n",
    "top1000.reset_index(inplace=True, drop=True)"
   ]
  },
  {
   "cell_type": "code",
   "execution_count": 11,
   "metadata": {},
   "outputs": [],
   "source": [
    "girs=top1000.loc[top1000.sex=='F']\n",
    "boys=top1000.loc[top1000.sex=='M']"
   ]
  },
  {
   "cell_type": "code",
   "execution_count": 12,
   "metadata": {},
   "outputs": [
    {
     "data": {
      "text/html": [
       "<div>\n",
       "<style scoped>\n",
       "    .dataframe tbody tr th:only-of-type {\n",
       "        vertical-align: middle;\n",
       "    }\n",
       "\n",
       "    .dataframe tbody tr th {\n",
       "        vertical-align: top;\n",
       "    }\n",
       "\n",
       "    .dataframe thead th {\n",
       "        text-align: right;\n",
       "    }\n",
       "</style>\n",
       "<table border=\"1\" class=\"dataframe\">\n",
       "  <thead>\n",
       "    <tr style=\"text-align: right;\">\n",
       "      <th>name</th>\n",
       "      <th>Aaden</th>\n",
       "      <th>Aaliyah</th>\n",
       "      <th>Aarav</th>\n",
       "      <th>Aaron</th>\n",
       "      <th>Aarush</th>\n",
       "      <th>Ab</th>\n",
       "      <th>Abagail</th>\n",
       "      <th>Abb</th>\n",
       "      <th>Abbey</th>\n",
       "      <th>Abbie</th>\n",
       "      <th>...</th>\n",
       "      <th>Zoa</th>\n",
       "      <th>Zoe</th>\n",
       "      <th>Zoey</th>\n",
       "      <th>Zoie</th>\n",
       "      <th>Zola</th>\n",
       "      <th>Zollie</th>\n",
       "      <th>Zona</th>\n",
       "      <th>Zora</th>\n",
       "      <th>Zula</th>\n",
       "      <th>Zuri</th>\n",
       "    </tr>\n",
       "    <tr>\n",
       "      <th>year</th>\n",
       "      <th></th>\n",
       "      <th></th>\n",
       "      <th></th>\n",
       "      <th></th>\n",
       "      <th></th>\n",
       "      <th></th>\n",
       "      <th></th>\n",
       "      <th></th>\n",
       "      <th></th>\n",
       "      <th></th>\n",
       "      <th></th>\n",
       "      <th></th>\n",
       "      <th></th>\n",
       "      <th></th>\n",
       "      <th></th>\n",
       "      <th></th>\n",
       "      <th></th>\n",
       "      <th></th>\n",
       "      <th></th>\n",
       "      <th></th>\n",
       "      <th></th>\n",
       "    </tr>\n",
       "  </thead>\n",
       "  <tbody>\n",
       "    <tr>\n",
       "      <td>1880</td>\n",
       "      <td>NaN</td>\n",
       "      <td>NaN</td>\n",
       "      <td>NaN</td>\n",
       "      <td>102.0</td>\n",
       "      <td>NaN</td>\n",
       "      <td>NaN</td>\n",
       "      <td>NaN</td>\n",
       "      <td>NaN</td>\n",
       "      <td>NaN</td>\n",
       "      <td>71.0</td>\n",
       "      <td>...</td>\n",
       "      <td>8.0</td>\n",
       "      <td>23.0</td>\n",
       "      <td>NaN</td>\n",
       "      <td>NaN</td>\n",
       "      <td>7.0</td>\n",
       "      <td>NaN</td>\n",
       "      <td>8.0</td>\n",
       "      <td>28.0</td>\n",
       "      <td>27.0</td>\n",
       "      <td>NaN</td>\n",
       "    </tr>\n",
       "    <tr>\n",
       "      <td>1881</td>\n",
       "      <td>NaN</td>\n",
       "      <td>NaN</td>\n",
       "      <td>NaN</td>\n",
       "      <td>94.0</td>\n",
       "      <td>NaN</td>\n",
       "      <td>NaN</td>\n",
       "      <td>NaN</td>\n",
       "      <td>NaN</td>\n",
       "      <td>NaN</td>\n",
       "      <td>81.0</td>\n",
       "      <td>...</td>\n",
       "      <td>NaN</td>\n",
       "      <td>22.0</td>\n",
       "      <td>NaN</td>\n",
       "      <td>NaN</td>\n",
       "      <td>10.0</td>\n",
       "      <td>NaN</td>\n",
       "      <td>9.0</td>\n",
       "      <td>21.0</td>\n",
       "      <td>27.0</td>\n",
       "      <td>NaN</td>\n",
       "    </tr>\n",
       "    <tr>\n",
       "      <td>1882</td>\n",
       "      <td>NaN</td>\n",
       "      <td>NaN</td>\n",
       "      <td>NaN</td>\n",
       "      <td>85.0</td>\n",
       "      <td>NaN</td>\n",
       "      <td>NaN</td>\n",
       "      <td>NaN</td>\n",
       "      <td>NaN</td>\n",
       "      <td>NaN</td>\n",
       "      <td>80.0</td>\n",
       "      <td>...</td>\n",
       "      <td>8.0</td>\n",
       "      <td>25.0</td>\n",
       "      <td>NaN</td>\n",
       "      <td>NaN</td>\n",
       "      <td>9.0</td>\n",
       "      <td>NaN</td>\n",
       "      <td>17.0</td>\n",
       "      <td>32.0</td>\n",
       "      <td>21.0</td>\n",
       "      <td>NaN</td>\n",
       "    </tr>\n",
       "    <tr>\n",
       "      <td>1883</td>\n",
       "      <td>NaN</td>\n",
       "      <td>NaN</td>\n",
       "      <td>NaN</td>\n",
       "      <td>105.0</td>\n",
       "      <td>NaN</td>\n",
       "      <td>NaN</td>\n",
       "      <td>NaN</td>\n",
       "      <td>NaN</td>\n",
       "      <td>NaN</td>\n",
       "      <td>79.0</td>\n",
       "      <td>...</td>\n",
       "      <td>NaN</td>\n",
       "      <td>23.0</td>\n",
       "      <td>NaN</td>\n",
       "      <td>NaN</td>\n",
       "      <td>10.0</td>\n",
       "      <td>NaN</td>\n",
       "      <td>11.0</td>\n",
       "      <td>35.0</td>\n",
       "      <td>25.0</td>\n",
       "      <td>NaN</td>\n",
       "    </tr>\n",
       "    <tr>\n",
       "      <td>1884</td>\n",
       "      <td>NaN</td>\n",
       "      <td>NaN</td>\n",
       "      <td>NaN</td>\n",
       "      <td>97.0</td>\n",
       "      <td>NaN</td>\n",
       "      <td>NaN</td>\n",
       "      <td>NaN</td>\n",
       "      <td>NaN</td>\n",
       "      <td>NaN</td>\n",
       "      <td>98.0</td>\n",
       "      <td>...</td>\n",
       "      <td>13.0</td>\n",
       "      <td>31.0</td>\n",
       "      <td>NaN</td>\n",
       "      <td>NaN</td>\n",
       "      <td>14.0</td>\n",
       "      <td>6.0</td>\n",
       "      <td>8.0</td>\n",
       "      <td>58.0</td>\n",
       "      <td>27.0</td>\n",
       "      <td>NaN</td>\n",
       "    </tr>\n",
       "    <tr>\n",
       "      <td>...</td>\n",
       "      <td>...</td>\n",
       "      <td>...</td>\n",
       "      <td>...</td>\n",
       "      <td>...</td>\n",
       "      <td>...</td>\n",
       "      <td>...</td>\n",
       "      <td>...</td>\n",
       "      <td>...</td>\n",
       "      <td>...</td>\n",
       "      <td>...</td>\n",
       "      <td>...</td>\n",
       "      <td>...</td>\n",
       "      <td>...</td>\n",
       "      <td>...</td>\n",
       "      <td>...</td>\n",
       "      <td>...</td>\n",
       "      <td>...</td>\n",
       "      <td>...</td>\n",
       "      <td>...</td>\n",
       "      <td>...</td>\n",
       "      <td>...</td>\n",
       "    </tr>\n",
       "    <tr>\n",
       "      <td>2006</td>\n",
       "      <td>NaN</td>\n",
       "      <td>3737.0</td>\n",
       "      <td>NaN</td>\n",
       "      <td>8279.0</td>\n",
       "      <td>NaN</td>\n",
       "      <td>NaN</td>\n",
       "      <td>297.0</td>\n",
       "      <td>NaN</td>\n",
       "      <td>404.0</td>\n",
       "      <td>440.0</td>\n",
       "      <td>...</td>\n",
       "      <td>NaN</td>\n",
       "      <td>5145.0</td>\n",
       "      <td>2839.0</td>\n",
       "      <td>530.0</td>\n",
       "      <td>NaN</td>\n",
       "      <td>NaN</td>\n",
       "      <td>NaN</td>\n",
       "      <td>NaN</td>\n",
       "      <td>NaN</td>\n",
       "      <td>NaN</td>\n",
       "    </tr>\n",
       "    <tr>\n",
       "      <td>2007</td>\n",
       "      <td>NaN</td>\n",
       "      <td>3941.0</td>\n",
       "      <td>NaN</td>\n",
       "      <td>8914.0</td>\n",
       "      <td>NaN</td>\n",
       "      <td>NaN</td>\n",
       "      <td>313.0</td>\n",
       "      <td>NaN</td>\n",
       "      <td>349.0</td>\n",
       "      <td>468.0</td>\n",
       "      <td>...</td>\n",
       "      <td>NaN</td>\n",
       "      <td>4925.0</td>\n",
       "      <td>3028.0</td>\n",
       "      <td>526.0</td>\n",
       "      <td>NaN</td>\n",
       "      <td>NaN</td>\n",
       "      <td>NaN</td>\n",
       "      <td>NaN</td>\n",
       "      <td>NaN</td>\n",
       "      <td>NaN</td>\n",
       "    </tr>\n",
       "    <tr>\n",
       "      <td>2008</td>\n",
       "      <td>955.0</td>\n",
       "      <td>4028.0</td>\n",
       "      <td>219.0</td>\n",
       "      <td>8511.0</td>\n",
       "      <td>NaN</td>\n",
       "      <td>NaN</td>\n",
       "      <td>317.0</td>\n",
       "      <td>NaN</td>\n",
       "      <td>344.0</td>\n",
       "      <td>400.0</td>\n",
       "      <td>...</td>\n",
       "      <td>NaN</td>\n",
       "      <td>4764.0</td>\n",
       "      <td>3438.0</td>\n",
       "      <td>492.0</td>\n",
       "      <td>NaN</td>\n",
       "      <td>NaN</td>\n",
       "      <td>NaN</td>\n",
       "      <td>NaN</td>\n",
       "      <td>NaN</td>\n",
       "      <td>NaN</td>\n",
       "    </tr>\n",
       "    <tr>\n",
       "      <td>2009</td>\n",
       "      <td>1265.0</td>\n",
       "      <td>4352.0</td>\n",
       "      <td>270.0</td>\n",
       "      <td>7936.0</td>\n",
       "      <td>NaN</td>\n",
       "      <td>NaN</td>\n",
       "      <td>296.0</td>\n",
       "      <td>NaN</td>\n",
       "      <td>307.0</td>\n",
       "      <td>369.0</td>\n",
       "      <td>...</td>\n",
       "      <td>NaN</td>\n",
       "      <td>5120.0</td>\n",
       "      <td>3981.0</td>\n",
       "      <td>496.0</td>\n",
       "      <td>NaN</td>\n",
       "      <td>NaN</td>\n",
       "      <td>NaN</td>\n",
       "      <td>NaN</td>\n",
       "      <td>NaN</td>\n",
       "      <td>NaN</td>\n",
       "    </tr>\n",
       "    <tr>\n",
       "      <td>2010</td>\n",
       "      <td>448.0</td>\n",
       "      <td>4628.0</td>\n",
       "      <td>438.0</td>\n",
       "      <td>7374.0</td>\n",
       "      <td>226.0</td>\n",
       "      <td>NaN</td>\n",
       "      <td>277.0</td>\n",
       "      <td>NaN</td>\n",
       "      <td>295.0</td>\n",
       "      <td>324.0</td>\n",
       "      <td>...</td>\n",
       "      <td>NaN</td>\n",
       "      <td>6200.0</td>\n",
       "      <td>5164.0</td>\n",
       "      <td>504.0</td>\n",
       "      <td>NaN</td>\n",
       "      <td>NaN</td>\n",
       "      <td>NaN</td>\n",
       "      <td>NaN</td>\n",
       "      <td>NaN</td>\n",
       "      <td>258.0</td>\n",
       "    </tr>\n",
       "  </tbody>\n",
       "</table>\n",
       "<p>131 rows × 6868 columns</p>\n",
       "</div>"
      ],
      "text/plain": [
       "name   Aaden  Aaliyah  Aarav   Aaron  Aarush  Ab  Abagail  Abb  Abbey  Abbie  \\\n",
       "year                                                                           \n",
       "1880     NaN      NaN    NaN   102.0     NaN NaN      NaN  NaN    NaN   71.0   \n",
       "1881     NaN      NaN    NaN    94.0     NaN NaN      NaN  NaN    NaN   81.0   \n",
       "1882     NaN      NaN    NaN    85.0     NaN NaN      NaN  NaN    NaN   80.0   \n",
       "1883     NaN      NaN    NaN   105.0     NaN NaN      NaN  NaN    NaN   79.0   \n",
       "1884     NaN      NaN    NaN    97.0     NaN NaN      NaN  NaN    NaN   98.0   \n",
       "...      ...      ...    ...     ...     ...  ..      ...  ...    ...    ...   \n",
       "2006     NaN   3737.0    NaN  8279.0     NaN NaN    297.0  NaN  404.0  440.0   \n",
       "2007     NaN   3941.0    NaN  8914.0     NaN NaN    313.0  NaN  349.0  468.0   \n",
       "2008   955.0   4028.0  219.0  8511.0     NaN NaN    317.0  NaN  344.0  400.0   \n",
       "2009  1265.0   4352.0  270.0  7936.0     NaN NaN    296.0  NaN  307.0  369.0   \n",
       "2010   448.0   4628.0  438.0  7374.0   226.0 NaN    277.0  NaN  295.0  324.0   \n",
       "\n",
       "name  ...   Zoa     Zoe    Zoey   Zoie  Zola  Zollie  Zona  Zora  Zula   Zuri  \n",
       "year  ...                                                                      \n",
       "1880  ...   8.0    23.0     NaN    NaN   7.0     NaN   8.0  28.0  27.0    NaN  \n",
       "1881  ...   NaN    22.0     NaN    NaN  10.0     NaN   9.0  21.0  27.0    NaN  \n",
       "1882  ...   8.0    25.0     NaN    NaN   9.0     NaN  17.0  32.0  21.0    NaN  \n",
       "1883  ...   NaN    23.0     NaN    NaN  10.0     NaN  11.0  35.0  25.0    NaN  \n",
       "1884  ...  13.0    31.0     NaN    NaN  14.0     6.0   8.0  58.0  27.0    NaN  \n",
       "...   ...   ...     ...     ...    ...   ...     ...   ...   ...   ...    ...  \n",
       "2006  ...   NaN  5145.0  2839.0  530.0   NaN     NaN   NaN   NaN   NaN    NaN  \n",
       "2007  ...   NaN  4925.0  3028.0  526.0   NaN     NaN   NaN   NaN   NaN    NaN  \n",
       "2008  ...   NaN  4764.0  3438.0  492.0   NaN     NaN   NaN   NaN   NaN    NaN  \n",
       "2009  ...   NaN  5120.0  3981.0  496.0   NaN     NaN   NaN   NaN   NaN    NaN  \n",
       "2010  ...   NaN  6200.0  5164.0  504.0   NaN     NaN   NaN   NaN   NaN  258.0  \n",
       "\n",
       "[131 rows x 6868 columns]"
      ]
     },
     "execution_count": 12,
     "metadata": {},
     "output_type": "execute_result"
    }
   ],
   "source": [
    "total_births=top1000.pivot_table('births',index='year',columns='name',aggfunc=sum)\n",
    "total_births"
   ]
  },
  {
   "cell_type": "code",
   "execution_count": 13,
   "metadata": {},
   "outputs": [
    {
     "name": "stderr",
     "output_type": "stream",
     "text": [
      "C:\\Users\\student\\Anaconda3\\lib\\site-packages\\ipykernel_launcher.py:2: FutureWarning: by argument to sort_index is deprecated, please use .sort_values(by=...)\n",
      "  \n"
     ]
    },
    {
     "data": {
      "text/plain": [
       "116"
      ]
     },
     "execution_count": 13,
     "metadata": {},
     "output_type": "execute_result"
    }
   ],
   "source": [
    "df=boys[boys.year==2010]\n",
    "prop_cumsum=df.sort_index(by='prop', ascending=False).prop.cumsum() # cumsum => 누적합\n",
    "prop_cumsum.values.searchsorted(0.5) # 누적합이 0.5인 지점까지 이름 종류의 개수 "
   ]
  },
  {
   "cell_type": "code",
   "execution_count": 14,
   "metadata": {},
   "outputs": [
    {
     "name": "stderr",
     "output_type": "stream",
     "text": [
      "C:\\Users\\student\\Anaconda3\\lib\\site-packages\\ipykernel_launcher.py:2: FutureWarning: by argument to sort_index is deprecated, please use .sort_values(by=...)\n",
      "  \n"
     ]
    },
    {
     "data": {
      "text/plain": [
       "<matplotlib.axes._subplots.AxesSubplot at 0x205952b6e88>"
      ]
     },
     "execution_count": 14,
     "metadata": {},
     "output_type": "execute_result"
    },
    {
     "data": {
      "image/png": "[encoded data removed]",
      "text/plain": [
       "<Figure size 432x288 with 1 Axes>"
      ]
     },
     "metadata": {
      "needs_background": "light"
     },
     "output_type": "display_data"
    }
   ],
   "source": [
    "def get_qc(group, q=0.5):\n",
    "    group=group.sort_index(by='prop', ascending=False)\n",
    "    return group.prop.cumsum().values.searchsorted(q)\n",
    "\n",
    "res=top1000.groupby(['year','sex']).apply(get_qc)\n",
    "res=res.unstack('sex') # \n",
    "# res를 출력\n",
    "res.plot()"
   ]
  },
  {
   "cell_type": "code",
   "execution_count": null,
   "metadata": {
    "scrolled": true
   },
   "outputs": [],
   "source": [
    "\"\"\"\n",
    "190, 1950, 2010년 성별로 구분 \n",
    "이름을 구성하는 알파벳 문자 비율 조사\n",
    "1900년 남자아이들 이름 \n",
    "john \n",
    "michle \n",
    "\n",
    "1900년 남자아이들 이름에 가장 많이 사용된 알파벳 문자?\n",
    "1950년 남자아이들 이름에 가장 많이 사용된 알파벳 문자?\n",
    "2010년 남자아이들 이름에 가장 많이 사용된 알파벳 문자?\n",
    "\n",
    "1900년 여자아이들 이름에 가장 많이 사용된 알파벳 문자?\n",
    "1950년 여자아이들 이름에 가장 많이 사용된 알파벳 문자?\n",
    "2010년 여자아이들 이름에 가장 많이 사용된 알파벳 문자?\n",
    "\n",
    "\"\"\""
   ]
  },
  {
   "cell_type": "code",
   "execution_count": 21,
   "metadata": {},
   "outputs": [],
   "source": [
    "total_births=top1000.pivot_table('births', index='year',columns='name', aggfunc=np.sum)"
   ]
  },
  {
   "cell_type": "code",
   "execution_count": 22,
   "metadata": {},
   "outputs": [
    {
     "name": "stdout",
     "output_type": "stream",
     "text": [
      "<class 'pandas.core.frame.DataFrame'>\n",
      "Int64Index: 131 entries, 1880 to 2010\n",
      "Columns: 6868 entries, Aaden to Zuri\n",
      "dtypes: float64(6868)\n",
      "memory usage: 6.9 MB\n"
     ]
    }
   ],
   "source": [
    "total_births.info()"
   ]
  },
  {
   "cell_type": "code",
   "execution_count": 30,
   "metadata": {},
   "outputs": [
    {
     "data": {
      "text/plain": [
       "<matplotlib.axes._subplots.AxesSubplot at 0x205a3111288>"
      ]
     },
     "execution_count": 30,
     "metadata": {},
     "output_type": "execute_result"
    },
    {
     "data": {
      "image/png": "[encoded data removed]",
      "text/plain": [
       "<Figure size 432x288 with 1 Axes>"
      ]
     },
     "metadata": {
      "needs_background": "light"
     },
     "output_type": "display_data"
    }
   ],
   "source": [
    "subset=total_births[['John','Harry','Mary','Marilyn']]\n",
    "subset.plot()"
   ]
  },
  {
   "cell_type": "code",
   "execution_count": 32,
   "metadata": {},
   "outputs": [
    {
     "data": {
      "text/plain": [
       "array([<matplotlib.axes._subplots.AxesSubplot object at 0x00000205A327AC88>,\n",
       "       <matplotlib.axes._subplots.AxesSubplot object at 0x00000205A33CAB88>,\n",
       "       <matplotlib.axes._subplots.AxesSubplot object at 0x00000205A2807988>,\n",
       "       <matplotlib.axes._subplots.AxesSubplot object at 0x00000205A2F41BC8>],\n",
       "      dtype=object)"
      ]
     },
     "execution_count": 32,
     "metadata": {},
     "output_type": "execute_result"
    },
    {
     "data": {
      "image/png": "[encoded data removed]",
      "text/plain": [
       "<Figure size 864x720 with 4 Axes>"
      ]
     },
     "metadata": {
      "needs_background": "light"
     },
     "output_type": "display_data"
    }
   ],
   "source": [
    "subset.plot(subplots=True, figsize=(12,10)) # 옵션으로 subplots = True 다 나눠서 출력하게 해줌"
   ]
  },
  {
   "cell_type": "code",
   "execution_count": 37,
   "metadata": {},
   "outputs": [
    {
     "data": {
      "text/plain": [
       "<matplotlib.axes._subplots.AxesSubplot at 0x205a462bec8>"
      ]
     },
     "execution_count": 37,
     "metadata": {},
     "output_type": "execute_result"
    },
    {
     "data": {
      "image/png": "[encoded data removed]",
      "text/plain": [
       "<Figure size 432x288 with 1 Axes>"
      ]
     },
     "metadata": {
      "needs_background": "light"
     },
     "output_type": "display_data"
    }
   ],
   "source": [
    "table=top1000.pivot_table('prop', index='year', columns='sex', aggfunc=sum)\n",
    "table.plot(yticks=np.linspace(0,1.1,12), xticks=range(1880,2011,10))"
   ]
  },
  {
   "cell_type": "code",
   "execution_count": 40,
   "metadata": {},
   "outputs": [],
   "source": [
    "df=boys[boys.year==2010]"
   ]
  },
  {
   "cell_type": "code",
   "execution_count": 48,
   "metadata": {},
   "outputs": [
    {
     "data": {
      "text/plain": [
       "116"
      ]
     },
     "execution_count": 48,
     "metadata": {},
     "output_type": "execute_result"
    }
   ],
   "source": [
    "prop_cumsum=df.sort_values(by='prop', ascending=False).prop.cumsum()\n",
    "prop_cumsum[:10]\n",
    "prop_cumsum.values # .values => array 형태로 출력\n",
    "prop_cumsum.values.searchsorted(0.5)\n",
    "# 117번째 아이의 이름에서 0.5(50%)가 됨"
   ]
  },
  {
   "cell_type": "code",
   "execution_count": 50,
   "metadata": {},
   "outputs": [
    {
     "data": {
      "text/plain": [
       "25"
      ]
     },
     "execution_count": 50,
     "metadata": {},
     "output_type": "execute_result"
    }
   ],
   "source": [
    "df=boys[boys.year==1900]\n",
    "\n",
    "in1900=df.sort_values(by='prop', ascending=False).prop.cumsum()\n",
    "in1900[:10]\n",
    "in1900.values # .values => array 형태로 출력\n",
    "in1900.values.searchsorted(0.5)+1"
   ]
  },
  {
   "cell_type": "code",
   "execution_count": 64,
   "metadata": {},
   "outputs": [
    {
     "name": "stderr",
     "output_type": "stream",
     "text": [
      "C:\\Users\\student\\Anaconda3\\lib\\site-packages\\ipykernel_launcher.py:4: FutureWarning: by argument to sort_index is deprecated, please use .sort_values(by=...)\n",
      "  after removing the cwd from sys.path.\n"
     ]
    },
    {
     "name": "stdout",
     "output_type": "stream",
     "text": [
      "year  sex\n",
      "1880  F       38\n",
      "      M       14\n",
      "1881  F       38\n",
      "      M       14\n",
      "1882  F       38\n",
      "            ... \n",
      "2008  M      109\n",
      "2009  F      241\n",
      "      M      114\n",
      "2010  F      246\n",
      "      M      117\n",
      "Length: 262, dtype: int64\n"
     ]
    }
   ],
   "source": [
    "top1000\n",
    "\n",
    "def get_qc(group, q=0.5):\n",
    "    group=group.sort_index(by='prop', ascending=False)\n",
    "    return group.prop.cumsum().values.searchsorted(q)+1\n",
    "\n",
    "diversity=top1000.groupby(['year','sex']).apply(get_qc)\n",
    "print(diversity)"
   ]
  },
  {
   "cell_type": "code",
   "execution_count": 65,
   "metadata": {},
   "outputs": [
    {
     "data": {
      "text/html": [
       "<div>\n",
       "<style scoped>\n",
       "    .dataframe tbody tr th:only-of-type {\n",
       "        vertical-align: middle;\n",
       "    }\n",
       "\n",
       "    .dataframe tbody tr th {\n",
       "        vertical-align: top;\n",
       "    }\n",
       "\n",
       "    .dataframe thead th {\n",
       "        text-align: right;\n",
       "    }\n",
       "</style>\n",
       "<table border=\"1\" class=\"dataframe\">\n",
       "  <thead>\n",
       "    <tr style=\"text-align: right;\">\n",
       "      <th>sex</th>\n",
       "      <th>F</th>\n",
       "      <th>M</th>\n",
       "    </tr>\n",
       "    <tr>\n",
       "      <th>year</th>\n",
       "      <th></th>\n",
       "      <th></th>\n",
       "    </tr>\n",
       "  </thead>\n",
       "  <tbody>\n",
       "    <tr>\n",
       "      <td>1880</td>\n",
       "      <td>38</td>\n",
       "      <td>14</td>\n",
       "    </tr>\n",
       "    <tr>\n",
       "      <td>1881</td>\n",
       "      <td>38</td>\n",
       "      <td>14</td>\n",
       "    </tr>\n",
       "    <tr>\n",
       "      <td>1882</td>\n",
       "      <td>38</td>\n",
       "      <td>15</td>\n",
       "    </tr>\n",
       "    <tr>\n",
       "      <td>1883</td>\n",
       "      <td>39</td>\n",
       "      <td>15</td>\n",
       "    </tr>\n",
       "    <tr>\n",
       "      <td>1884</td>\n",
       "      <td>39</td>\n",
       "      <td>16</td>\n",
       "    </tr>\n",
       "    <tr>\n",
       "      <td>...</td>\n",
       "      <td>...</td>\n",
       "      <td>...</td>\n",
       "    </tr>\n",
       "    <tr>\n",
       "      <td>2006</td>\n",
       "      <td>209</td>\n",
       "      <td>99</td>\n",
       "    </tr>\n",
       "    <tr>\n",
       "      <td>2007</td>\n",
       "      <td>223</td>\n",
       "      <td>103</td>\n",
       "    </tr>\n",
       "    <tr>\n",
       "      <td>2008</td>\n",
       "      <td>234</td>\n",
       "      <td>109</td>\n",
       "    </tr>\n",
       "    <tr>\n",
       "      <td>2009</td>\n",
       "      <td>241</td>\n",
       "      <td>114</td>\n",
       "    </tr>\n",
       "    <tr>\n",
       "      <td>2010</td>\n",
       "      <td>246</td>\n",
       "      <td>117</td>\n",
       "    </tr>\n",
       "  </tbody>\n",
       "</table>\n",
       "<p>131 rows × 2 columns</p>\n",
       "</div>"
      ],
      "text/plain": [
       "sex     F    M\n",
       "year          \n",
       "1880   38   14\n",
       "1881   38   14\n",
       "1882   38   15\n",
       "1883   39   15\n",
       "1884   39   16\n",
       "...   ...  ...\n",
       "2006  209   99\n",
       "2007  223  103\n",
       "2008  234  109\n",
       "2009  241  114\n",
       "2010  246  117\n",
       "\n",
       "[131 rows x 2 columns]"
      ]
     },
     "execution_count": 65,
     "metadata": {},
     "output_type": "execute_result"
    }
   ],
   "source": [
    "diversity=diversity.unstack('sex') # sex 컬럼을 컬럼 인덱스로 주어서\n",
    "diversity"
   ]
  },
  {
   "cell_type": "code",
   "execution_count": 66,
   "metadata": {},
   "outputs": [
    {
     "data": {
      "text/plain": [
       "<matplotlib.axes._subplots.AxesSubplot at 0x205a5511788>"
      ]
     },
     "execution_count": 66,
     "metadata": {},
     "output_type": "execute_result"
    },
    {
     "data": {
      "image/png": "[encoded data removed]",
      "text/plain": [
       "<Figure size 432x288 with 1 Axes>"
      ]
     },
     "metadata": {
      "needs_background": "light"
     },
     "output_type": "display_data"
    }
   ],
   "source": [
    "diversity.plot()"
   ]
  },
  {
   "cell_type": "code",
   "execution_count": 67,
   "metadata": {},
   "outputs": [],
   "source": [
    "# 이름에 사용된 철자의 변화패턴?\n",
    "# 상위 50% 이름들에 사용된 철자의 비율 조사\n",
    "# 1889 - a:3%, z:0.1% ....\n",
    "# 1890 - a:~~~\n",
    "# ...\n",
    "# 2010 - ....."
   ]
  },
  {
   "cell_type": "code",
   "execution_count": 80,
   "metadata": {},
   "outputs": [
    {
     "name": "stdout",
     "output_type": "stream",
     "text": [
      "0          y\n",
      "1          a\n",
      "2          a\n",
      "3          h\n",
      "4          e\n",
      "          ..\n",
      "1690779    e\n",
      "1690780    e\n",
      "1690781    s\n",
      "1690782    n\n",
      "1690783    x\n",
      "Name: name, Length: 1690784, dtype: object\n"
     ]
    }
   ],
   "source": [
    "# name 열에서 마지막 글자를 추출 \n",
    "# 특정 기능을 수행하는 함수를 만들어야 하는 경우 => map 함수 쓰면 편함\n",
    "# 함수자리에 람다를 많이 사용\n",
    "\n",
    "print(names.name.map(lambda x:x[-1]))"
   ]
  },
  {
   "cell_type": "code",
   "execution_count": 92,
   "metadata": {},
   "outputs": [],
   "source": [
    "get_ln=lambda x:x[-1]\n",
    "last_letters=names.name.map(get_ln)\n",
    "last_letters.name='last_letter'\n",
    "last_letters\n",
    "table=names.pivot_table('births', index=last_letters, columns=['sex','year'], aggfunc=sum)"
   ]
  },
  {
   "cell_type": "code",
   "execution_count": 102,
   "metadata": {},
   "outputs": [
    {
     "data": {
      "text/html": [
       "<div>\n",
       "<style scoped>\n",
       "    .dataframe tbody tr th:only-of-type {\n",
       "        vertical-align: middle;\n",
       "    }\n",
       "\n",
       "    .dataframe tbody tr th {\n",
       "        vertical-align: top;\n",
       "    }\n",
       "\n",
       "    .dataframe thead tr th {\n",
       "        text-align: left;\n",
       "    }\n",
       "\n",
       "    .dataframe thead tr:last-of-type th {\n",
       "        text-align: right;\n",
       "    }\n",
       "</style>\n",
       "<table border=\"1\" class=\"dataframe\">\n",
       "  <thead>\n",
       "    <tr>\n",
       "      <th>sex</th>\n",
       "      <th colspan=\"3\" halign=\"left\">F</th>\n",
       "      <th colspan=\"3\" halign=\"left\">M</th>\n",
       "    </tr>\n",
       "    <tr>\n",
       "      <th>year</th>\n",
       "      <th>1900</th>\n",
       "      <th>1950</th>\n",
       "      <th>2010</th>\n",
       "      <th>1900</th>\n",
       "      <th>1950</th>\n",
       "      <th>2010</th>\n",
       "    </tr>\n",
       "    <tr>\n",
       "      <th>last_letter</th>\n",
       "      <th></th>\n",
       "      <th></th>\n",
       "      <th></th>\n",
       "      <th></th>\n",
       "      <th></th>\n",
       "      <th></th>\n",
       "    </tr>\n",
       "  </thead>\n",
       "  <tbody>\n",
       "    <tr>\n",
       "      <td>a</td>\n",
       "      <td>0.299907</td>\n",
       "      <td>0.336533</td>\n",
       "      <td>0.381240</td>\n",
       "      <td>0.005779</td>\n",
       "      <td>0.002255</td>\n",
       "      <td>0.014980</td>\n",
       "    </tr>\n",
       "    <tr>\n",
       "      <td>b</td>\n",
       "      <td>NaN</td>\n",
       "      <td>0.000010</td>\n",
       "      <td>0.000256</td>\n",
       "      <td>0.002471</td>\n",
       "      <td>0.000912</td>\n",
       "      <td>0.020470</td>\n",
       "    </tr>\n",
       "    <tr>\n",
       "      <td>c</td>\n",
       "      <td>NaN</td>\n",
       "      <td>0.000009</td>\n",
       "      <td>0.000538</td>\n",
       "      <td>0.001986</td>\n",
       "      <td>0.003631</td>\n",
       "      <td>0.012181</td>\n",
       "    </tr>\n",
       "    <tr>\n",
       "      <td>d</td>\n",
       "      <td>0.012239</td>\n",
       "      <td>0.002576</td>\n",
       "      <td>0.001482</td>\n",
       "      <td>0.102946</td>\n",
       "      <td>0.147292</td>\n",
       "      <td>0.023387</td>\n",
       "    </tr>\n",
       "    <tr>\n",
       "      <td>e</td>\n",
       "      <td>0.357084</td>\n",
       "      <td>0.220002</td>\n",
       "      <td>0.178415</td>\n",
       "      <td>0.150982</td>\n",
       "      <td>0.094226</td>\n",
       "      <td>0.067959</td>\n",
       "    </tr>\n",
       "    <tr>\n",
       "      <td>f</td>\n",
       "      <td>NaN</td>\n",
       "      <td>NaN</td>\n",
       "      <td>0.000055</td>\n",
       "      <td>0.000770</td>\n",
       "      <td>0.000475</td>\n",
       "      <td>0.001188</td>\n",
       "    </tr>\n",
       "    <tr>\n",
       "      <td>g</td>\n",
       "      <td>0.000110</td>\n",
       "      <td>0.000064</td>\n",
       "      <td>0.000374</td>\n",
       "      <td>0.001680</td>\n",
       "      <td>0.004155</td>\n",
       "      <td>0.001404</td>\n",
       "    </tr>\n",
       "    <tr>\n",
       "      <td>h</td>\n",
       "      <td>0.051032</td>\n",
       "      <td>0.045475</td>\n",
       "      <td>0.075852</td>\n",
       "      <td>0.041407</td>\n",
       "      <td>0.037949</td>\n",
       "      <td>0.051670</td>\n",
       "    </tr>\n",
       "    <tr>\n",
       "      <td>i</td>\n",
       "      <td>0.001201</td>\n",
       "      <td>0.010573</td>\n",
       "      <td>0.031734</td>\n",
       "      <td>0.001030</td>\n",
       "      <td>0.000347</td>\n",
       "      <td>0.022628</td>\n",
       "    </tr>\n",
       "    <tr>\n",
       "      <td>j</td>\n",
       "      <td>NaN</td>\n",
       "      <td>NaN</td>\n",
       "      <td>0.000090</td>\n",
       "      <td>NaN</td>\n",
       "      <td>0.000003</td>\n",
       "      <td>0.000769</td>\n",
       "    </tr>\n",
       "    <tr>\n",
       "      <td>k</td>\n",
       "      <td>0.000100</td>\n",
       "      <td>0.000118</td>\n",
       "      <td>0.000356</td>\n",
       "      <td>0.040344</td>\n",
       "      <td>0.031163</td>\n",
       "      <td>0.018541</td>\n",
       "    </tr>\n",
       "    <tr>\n",
       "      <td>l</td>\n",
       "      <td>0.048867</td>\n",
       "      <td>0.037996</td>\n",
       "      <td>0.026356</td>\n",
       "      <td>0.061885</td>\n",
       "      <td>0.096122</td>\n",
       "      <td>0.070367</td>\n",
       "    </tr>\n",
       "    <tr>\n",
       "      <td>m</td>\n",
       "      <td>0.001024</td>\n",
       "      <td>0.000939</td>\n",
       "      <td>0.002588</td>\n",
       "      <td>0.071768</td>\n",
       "      <td>0.038463</td>\n",
       "      <td>0.024657</td>\n",
       "    </tr>\n",
       "    <tr>\n",
       "      <td>n</td>\n",
       "      <td>0.060922</td>\n",
       "      <td>0.147093</td>\n",
       "      <td>0.140210</td>\n",
       "      <td>0.137645</td>\n",
       "      <td>0.140693</td>\n",
       "      <td>0.362771</td>\n",
       "    </tr>\n",
       "    <tr>\n",
       "      <td>o</td>\n",
       "      <td>0.001160</td>\n",
       "      <td>0.004231</td>\n",
       "      <td>0.001243</td>\n",
       "      <td>0.011757</td>\n",
       "      <td>0.010765</td>\n",
       "      <td>0.042681</td>\n",
       "    </tr>\n",
       "    <tr>\n",
       "      <td>p</td>\n",
       "      <td>NaN</td>\n",
       "      <td>0.000021</td>\n",
       "      <td>0.000020</td>\n",
       "      <td>0.002869</td>\n",
       "      <td>0.006364</td>\n",
       "      <td>0.001269</td>\n",
       "    </tr>\n",
       "    <tr>\n",
       "      <td>q</td>\n",
       "      <td>NaN</td>\n",
       "      <td>NaN</td>\n",
       "      <td>0.000030</td>\n",
       "      <td>NaN</td>\n",
       "      <td>NaN</td>\n",
       "      <td>0.000180</td>\n",
       "    </tr>\n",
       "    <tr>\n",
       "      <td>r</td>\n",
       "      <td>0.012088</td>\n",
       "      <td>0.004903</td>\n",
       "      <td>0.018025</td>\n",
       "      <td>0.068334</td>\n",
       "      <td>0.034107</td>\n",
       "      <td>0.087477</td>\n",
       "    </tr>\n",
       "    <tr>\n",
       "      <td>s</td>\n",
       "      <td>0.031523</td>\n",
       "      <td>0.022787</td>\n",
       "      <td>0.013332</td>\n",
       "      <td>0.133235</td>\n",
       "      <td>0.134987</td>\n",
       "      <td>0.065145</td>\n",
       "    </tr>\n",
       "    <tr>\n",
       "      <td>t</td>\n",
       "      <td>0.023226</td>\n",
       "      <td>0.022290</td>\n",
       "      <td>0.007830</td>\n",
       "      <td>0.068182</td>\n",
       "      <td>0.068701</td>\n",
       "      <td>0.022861</td>\n",
       "    </tr>\n",
       "    <tr>\n",
       "      <td>u</td>\n",
       "      <td>0.001167</td>\n",
       "      <td>0.000536</td>\n",
       "      <td>0.000417</td>\n",
       "      <td>0.000179</td>\n",
       "      <td>0.000043</td>\n",
       "      <td>0.001221</td>\n",
       "    </tr>\n",
       "    <tr>\n",
       "      <td>v</td>\n",
       "      <td>NaN</td>\n",
       "      <td>NaN</td>\n",
       "      <td>0.000117</td>\n",
       "      <td>0.000126</td>\n",
       "      <td>0.000016</td>\n",
       "      <td>0.001434</td>\n",
       "    </tr>\n",
       "    <tr>\n",
       "      <td>w</td>\n",
       "      <td>0.000020</td>\n",
       "      <td>0.000025</td>\n",
       "      <td>0.001182</td>\n",
       "      <td>0.006303</td>\n",
       "      <td>0.003926</td>\n",
       "      <td>0.016148</td>\n",
       "    </tr>\n",
       "    <tr>\n",
       "      <td>x</td>\n",
       "      <td>NaN</td>\n",
       "      <td>0.000032</td>\n",
       "      <td>0.000727</td>\n",
       "      <td>0.003507</td>\n",
       "      <td>0.001783</td>\n",
       "      <td>0.008614</td>\n",
       "    </tr>\n",
       "    <tr>\n",
       "      <td>y</td>\n",
       "      <td>0.096294</td>\n",
       "      <td>0.143438</td>\n",
       "      <td>0.116828</td>\n",
       "      <td>0.084661</td>\n",
       "      <td>0.141470</td>\n",
       "      <td>0.058168</td>\n",
       "    </tr>\n",
       "    <tr>\n",
       "      <td>z</td>\n",
       "      <td>0.002034</td>\n",
       "      <td>0.000351</td>\n",
       "      <td>0.000704</td>\n",
       "      <td>0.000153</td>\n",
       "      <td>0.000150</td>\n",
       "      <td>0.001831</td>\n",
       "    </tr>\n",
       "  </tbody>\n",
       "</table>\n",
       "</div>"
      ],
      "text/plain": [
       "sex                 F                             M                    \n",
       "year             1900      1950      2010      1900      1950      2010\n",
       "last_letter                                                            \n",
       "a            0.299907  0.336533  0.381240  0.005779  0.002255  0.014980\n",
       "b                 NaN  0.000010  0.000256  0.002471  0.000912  0.020470\n",
       "c                 NaN  0.000009  0.000538  0.001986  0.003631  0.012181\n",
       "d            0.012239  0.002576  0.001482  0.102946  0.147292  0.023387\n",
       "e            0.357084  0.220002  0.178415  0.150982  0.094226  0.067959\n",
       "f                 NaN       NaN  0.000055  0.000770  0.000475  0.001188\n",
       "g            0.000110  0.000064  0.000374  0.001680  0.004155  0.001404\n",
       "h            0.051032  0.045475  0.075852  0.041407  0.037949  0.051670\n",
       "i            0.001201  0.010573  0.031734  0.001030  0.000347  0.022628\n",
       "j                 NaN       NaN  0.000090       NaN  0.000003  0.000769\n",
       "k            0.000100  0.000118  0.000356  0.040344  0.031163  0.018541\n",
       "l            0.048867  0.037996  0.026356  0.061885  0.096122  0.070367\n",
       "m            0.001024  0.000939  0.002588  0.071768  0.038463  0.024657\n",
       "n            0.060922  0.147093  0.140210  0.137645  0.140693  0.362771\n",
       "o            0.001160  0.004231  0.001243  0.011757  0.010765  0.042681\n",
       "p                 NaN  0.000021  0.000020  0.002869  0.006364  0.001269\n",
       "q                 NaN       NaN  0.000030       NaN       NaN  0.000180\n",
       "r            0.012088  0.004903  0.018025  0.068334  0.034107  0.087477\n",
       "s            0.031523  0.022787  0.013332  0.133235  0.134987  0.065145\n",
       "t            0.023226  0.022290  0.007830  0.068182  0.068701  0.022861\n",
       "u            0.001167  0.000536  0.000417  0.000179  0.000043  0.001221\n",
       "v                 NaN       NaN  0.000117  0.000126  0.000016  0.001434\n",
       "w            0.000020  0.000025  0.001182  0.006303  0.003926  0.016148\n",
       "x                 NaN  0.000032  0.000727  0.003507  0.001783  0.008614\n",
       "y            0.096294  0.143438  0.116828  0.084661  0.141470  0.058168\n",
       "z            0.002034  0.000351  0.000704  0.000153  0.000150  0.001831"
      ]
     },
     "execution_count": 102,
     "metadata": {},
     "output_type": "execute_result"
    }
   ],
   "source": [
    "table # 1900년, 1950, 2010년\n",
    "subtable=table.reindex(columns=[1900,1950,2010], level='year')\n",
    "subtable.sum(axis=0)\n",
    "subtable/subtable.sum(axis=0)"
   ]
  },
  {
   "cell_type": "code",
   "execution_count": 103,
   "metadata": {},
   "outputs": [
    {
     "data": {
      "text/plain": [
       "sex  year\n",
       "F    1900     299873.0\n",
       "     1950    1713001.0\n",
       "     2010    1759010.0\n",
       "M    1900     150554.0\n",
       "     1950    1789936.0\n",
       "     2010    1898382.0\n",
       "dtype: float64"
      ]
     },
     "execution_count": 103,
     "metadata": {},
     "output_type": "execute_result"
    }
   ],
   "source": [
    "subtable.sum(axis=0)\n",
    "\n",
    "# 1. 연습문제 1900년 남자아이, 여자아이의 전체 수 출력"
   ]
  },
  {
   "cell_type": "code",
   "execution_count": null,
   "metadata": {},
   "outputs": [],
   "source": []
  },
  {
   "cell_type": "code",
   "execution_count": null,
   "metadata": {},
   "outputs": [],
   "source": []
  },
  {
   "cell_type": "code",
   "execution_count": null,
   "metadata": {},
   "outputs": [],
   "source": []
  }
 ],
 "metadata": {
  "kernelspec": {
   "display_name": "Python 3",
   "language": "python",
   "name": "python3"
  },
  "language_info": {
   "codemirror_mode": {
    "name": "ipython",
    "version": 3
   },
   "file_extension": ".py",
   "mimetype": "text/x-python",
   "name": "python",
   "nbconvert_exporter": "python",
   "pygments_lexer": "ipython3",
   "version": "3.7.4"
  }
 },
 "nbformat": 4,
 "nbformat_minor": 2
}
